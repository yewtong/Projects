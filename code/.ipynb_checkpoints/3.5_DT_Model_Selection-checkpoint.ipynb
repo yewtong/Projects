{
 "cells": [
  {
   "cell_type": "markdown",
   "metadata": {},
   "source": [
    "# Tourists at Home"
   ]
  },
  {
   "cell_type": "markdown",
   "metadata": {},
   "source": [
    "### Executive Summary\n",
    "\n",
    "This project aims to understand the local perception of Domestic Tourism and to provide further insights for STB to plan its next phase of the #SingapoRediscovers campaign. By targetting Singaporeans more effectively, we aim to build up a sustainable economy of domestic tourism based on renewed and sustained interest in their own home country, which should serve our tourism industry well both during and after Covid-19.\n",
    "\n",
    "This notebook imports the DataFrames we have processed and cleaned from our Preprocessing and EDA notebooks 2.0 and 3.0 for model selection. Several algorithms and vectorizers were tested using via cross-validation to determine which algorithm is best suited for our dataset.\n",
    "\n",
    "The first baseline NLP model was built using `LinearRegression` as the default model to evaluate the performance of vectorizers, the impact of introducing into the training set 3 dummy variables providing information on the platform type, and the effect of regularisation. Training size was also adjusted here to ensure that our model-selection process remains economical. Eventually, the `RidgeCV` baseline model from which we will evaluate all other models was selected based on the cross-validated scores.\n",
    "\n",
    "After we have selected our baseline model, a series of cross-validation tests were conducted on different algorithms to see which of them can give us a better performance. These models were all built in the same way as our baseline model - vectorized with `TfidfVectorizer` and with the platform dummies added to the training set. The algorithms tested were Support Vector Machines, Random Forest, Extra Trees, AdaBoost, GBoost, XGBoost, Feed-Forward Neural Networks, and Recurrent Neural Networks. Eventually, the top two algorithms were our Random Forest and XGBoost.\n",
    "\n",
    "After model selection, other model designs and builds were also tested to see if our scores can be improved further. The effect of word lemmatizing versus word stemming was evaluated; scaling with different scalers was tested; a dual-model architecture (one each for Instagram and YouTube) was built and evaluated; and even modelling on a dataframe without hashtags. Finally, a classification model was also built and evaluated to contrast the difference in performance between a regression problem and a classification one.\n",
    "\n",
    "At the end, we proceed to our Model notebook 4.0 to build and evaluate our final models using the model design we have test and selected."
   ]
  },
  {
   "cell_type": "markdown",
   "metadata": {},
   "source": [
    "#### Content\n",
    "\n",
    "- [Baseline NLP Model](#Baseline-NLP-Model)\n",
    "- [Model Selection](#Model-Selection)\n",
    "- [Lemmatize vs Stem](#Lemmatize-vs-Stem)\n",
    "- [Rescale Target Variables](#Rescale-Target-Variables)\n",
    "- [Dual-Models Design](#Dual-Models-Design)\n",
    "- [Culling Hashtags](#Culling-Hashtags)\n",
    "- [Classification Backup](#Classification-Backup)\n",
    "\n",
    "#### Python Libraries"
   ]
  },
  {
   "cell_type": "code",
   "execution_count": 1,
   "metadata": {},
   "outputs": [],
   "source": [
    "import numpy as np\n",
    "import pandas as pd\n",
    "import scipy.sparse as sp\n",
    "from scipy.sparse import coo_matrix, hstack\n",
    "import string\n",
    "import re\n",
    "\n",
    "from nltk.corpus import stopwords\n",
    "from nltk.stem import WordNetLemmatizer\n",
    "from nltk.stem.porter import PorterStemmer\n",
    "\n",
    "from sklearn.feature_extraction.text import CountVectorizer, TfidfVectorizer\n",
    "from sklearn.pipeline import Pipeline\n",
    "from sklearn.model_selection import cross_val_score, train_test_split\n",
    "from sklearn.preprocessing import MinMaxScaler, StandardScaler, RobustScaler\n",
    "from sklearn.metrics import r2_score, mean_absolute_error\n",
    "\n",
    "from sklearn.svm import SVR\n",
    "from sklearn.linear_model import LinearRegression, RidgeCV, LassoCV\n",
    "from sklearn.ensemble import GradientBoostingRegressor, AdaBoostRegressor\n",
    "from sklearn.tree import DecisionTreeRegressor\n",
    "from sklearn.ensemble import RandomForestRegressor, ExtraTreesRegressor\n",
    "\n",
    "import xgboost as xgb\n",
    "\n",
    "from keras.models import Sequential\n",
    "from keras.layers import Embedding, Dense, Dropout, GRU, LSTM\n",
    "from keras.preprocessing.sequence import pad_sequences\n",
    "from keras.preprocessing.text import Tokenizer\n",
    "from keras.optimizers import Adam\n",
    "from keras.callbacks import EarlyStopping\n",
    "from keras import regularizers\n",
    "\n",
    "import matplotlib\n",
    "import matplotlib.pyplot as plt\n",
    "import seaborn as sns\n",
    "plt.style.use('fivethirtyeight')\n",
    "\n",
    "%config InlineBackend.figure_format = 'retina'\n",
    "%matplotlib inline"
   ]
  },
  {
   "cell_type": "markdown",
   "metadata": {},
   "source": [
    "### Baseline NLP Model"
   ]
  },
  {
   "cell_type": "markdown",
   "metadata": {},
   "source": [
    "In this first section, we will test out the different permutations of a model build - vectorizers, (essential) dummy variables, regularisation, and training time. Following which, the best model will be selected as our baseline model and point of reference for our model selection after."
   ]
  },
  {
   "cell_type": "markdown",
   "metadata": {},
   "source": [
    "#### Data Overview"
   ]
  },
  {
   "cell_type": "code",
   "execution_count": 4,
   "metadata": {},
   "outputs": [
    {
     "data": {
      "text/html": [
       "<div>\n",
       "<style scoped>\n",
       "    .dataframe tbody tr th:only-of-type {\n",
       "        vertical-align: middle;\n",
       "    }\n",
       "\n",
       "    .dataframe tbody tr th {\n",
       "        vertical-align: top;\n",
       "    }\n",
       "\n",
       "    .dataframe thead th {\n",
       "        text-align: right;\n",
       "    }\n",
       "</style>\n",
       "<table border=\"1\" class=\"dataframe\">\n",
       "  <thead>\n",
       "    <tr style=\"text-align: right;\">\n",
       "      <th></th>\n",
       "      <th>content</th>\n",
       "      <th>likes</th>\n",
       "      <th>platform</th>\n",
       "    </tr>\n",
       "  </thead>\n",
       "  <tbody>\n",
       "    <tr>\n",
       "      <th>0</th>\n",
       "      <td>oh look natural heart shaped form ivan heng gl...</td>\n",
       "      <td>40</td>\n",
       "      <td>Instagram Posts</td>\n",
       "    </tr>\n",
       "    <tr>\n",
       "      <th>1</th>\n",
       "      <td>#exploresingapore #instasg #gfsingapore #gameo...</td>\n",
       "      <td>33</td>\n",
       "      <td>Instagram Posts</td>\n",
       "    </tr>\n",
       "    <tr>\n",
       "      <th>2</th>\n",
       "      <td>road hell reliving haw par villa 15 16 22 23 m...</td>\n",
       "      <td>3</td>\n",
       "      <td>Instagram Posts</td>\n",
       "    </tr>\n",
       "  </tbody>\n",
       "</table>\n",
       "</div>"
      ],
      "text/plain": [
       "                                             content  likes         platform\n",
       "0  oh look natural heart shaped form ivan heng gl...     40  Instagram Posts\n",
       "1  #exploresingapore #instasg #gfsingapore #gameo...     33  Instagram Posts\n",
       "2  road hell reliving haw par villa 15 16 22 23 m...      3  Instagram Posts"
      ]
     },
     "execution_count": 4,
     "metadata": {},
     "output_type": "execute_result"
    }
   ],
   "source": [
    "df_merged = pd.read_csv(\"../datasets/df_merged.csv\")\n",
    "df_merged.head(3)"
   ]
  },
  {
   "cell_type": "code",
   "execution_count": 5,
   "metadata": {},
   "outputs": [],
   "source": [
    "# split into training and unseen test data\n",
    "\n",
    "features = [feat for feat in df_merged.columns if feat != \"likes\"]\n",
    "X = df_merged[features]\n",
    "y = df_merged[\"likes\"]\n",
    "\n",
    "X_train, X_unseen, y_train, y_unseen = train_test_split(X, y, test_size=0.25, stratify=df_merged[\"platform\"], random_state=42)"
   ]
  },
  {
   "cell_type": "code",
   "execution_count": 6,
   "metadata": {
    "scrolled": true
   },
   "outputs": [
    {
     "name": "stdout",
     "output_type": "stream",
     "text": [
      "Training set size: 18132\n",
      "Unseen test set size: 6045\n"
     ]
    }
   ],
   "source": [
    "print(\"Training set size:\", len(X_train))\n",
    "print(\"Unseen test set size:\", len(X_unseen))"
   ]
  },
  {
   "cell_type": "markdown",
   "metadata": {},
   "source": [
    "#### Vectorizers"
   ]
  },
  {
   "cell_type": "code",
   "execution_count": 7,
   "metadata": {},
   "outputs": [],
   "source": [
    "# vectorize with both CountVectorizer and TfidfVectorizer"
   ]
  },
  {
   "cell_type": "code",
   "execution_count": 8,
   "metadata": {},
   "outputs": [
    {
     "name": "stdout",
     "output_type": "stream",
     "text": [
      "Shape of training sparse matrix: (18132, 5000)\n",
      "Shape of test sparse matrix: (6045, 5000)\n"
     ]
    }
   ],
   "source": [
    "# CountVectorizer\n",
    "cvec = CountVectorizer(stop_words=\"english\", max_features=5000) # model takes too long to train, limit max features to 5000\n",
    "X_train_cvec = cvec.fit_transform(X_train[\"content\"])\n",
    "print(\"Shape of training sparse matrix:\", X_train_cvec.shape)\n",
    "X_unseen_cvec = cvec.transform(X_unseen[\"content\"])\n",
    "print(\"Shape of test sparse matrix:\", X_unseen_cvec.shape)"
   ]
  },
  {
   "cell_type": "code",
   "execution_count": 9,
   "metadata": {},
   "outputs": [
    {
     "name": "stdout",
     "output_type": "stream",
     "text": [
      "Shape of training sparse matrix: (18132, 5000)\n",
      "Shape of test sparse matrix: (6045, 5000)\n"
     ]
    }
   ],
   "source": [
    "# TfidfVectorizer\n",
    "tvec = TfidfVectorizer(stop_words=\"english\", max_features=5000) # model takes too long to train, limit max features to 5000\n",
    "X_train_tvec = tvec.fit_transform(X_train[\"content\"])\n",
    "print(\"Shape of training sparse matrix:\", X_train_tvec.shape)\n",
    "X_unseen_tvec = tvec.transform(X_unseen[\"content\"])\n",
    "print(\"Shape of test sparse matrix:\", X_unseen_tvec.shape)"
   ]
  },
  {
   "cell_type": "code",
   "execution_count": 10,
   "metadata": {},
   "outputs": [],
   "source": [
    "# after vectorising, there are 47,587 word features for both cvec and tvec"
   ]
  },
  {
   "cell_type": "code",
   "execution_count": 10,
   "metadata": {},
   "outputs": [
    {
     "data": {
      "text/plain": [
       "singapore                5393\n",
       "outdoor                  3027\n",
       "singaporediscovers       2966\n",
       "visitsingapore           2879\n",
       "whatissingapore          2513\n",
       "instasg                  2373\n",
       "madaboutsingapore2020    2330\n",
       "sky                      2096\n",
       "exploresingapore         2014\n",
       "sgig                     1933\n",
       "dtype: int64"
      ]
     },
     "execution_count": 10,
     "metadata": {},
     "output_type": "execute_result"
    }
   ],
   "source": [
    "# sneak peek at cvec count\n",
    "pd.DataFrame(X_train_cvec.todense(), columns=cvec.get_feature_names()).sum().sort_values(ascending=False).head(10)"
   ]
  },
  {
   "cell_type": "code",
   "execution_count": 11,
   "metadata": {},
   "outputs": [
    {
     "data": {
      "text/plain": [
       "singapore                399.192153\n",
       "outdoor                  365.981108\n",
       "singaporediscovers       333.424341\n",
       "sky                      281.819197\n",
       "visitsingapore           264.784030\n",
       "rediscoversg             224.885573\n",
       "whatissingapore          224.155301\n",
       "instasg                  218.473475\n",
       "madaboutsingapore2020    214.670368\n",
       "exploresingapore         211.173939\n",
       "dtype: float64"
      ]
     },
     "execution_count": 11,
     "metadata": {},
     "output_type": "execute_result"
    }
   ],
   "source": [
    "# sneak peek at tvec count\n",
    "pd.DataFrame(X_train_tvec.todense(), columns=tvec.get_feature_names()).sum().sort_values(ascending=False).head(10)"
   ]
  },
  {
   "cell_type": "code",
   "execution_count": 12,
   "metadata": {},
   "outputs": [],
   "source": [
    "# CountVectorizer simply counts each instance of a word\n",
    "# while TfidfVectorizer scores each instance of word with a certain weight\n",
    "### term freq x inverse doc freq\n",
    "### count of the word weighted by the frequency of its appearance across data points\n"
   ]
  },
  {
   "cell_type": "code",
   "execution_count": 13,
   "metadata": {},
   "outputs": [],
   "source": [
    "# hashtags are not picked up as hashtags - misleading\n",
    "# maybe hashtags should not be used in training set - remove?\n",
    "# tvec appears to return a better weighted bag of words"
   ]
  },
  {
   "cell_type": "markdown",
   "metadata": {},
   "source": [
    "#### Linear Regression - CVEC vs TVEC"
   ]
  },
  {
   "cell_type": "code",
   "execution_count": 14,
   "metadata": {},
   "outputs": [
    {
     "name": "stdout",
     "output_type": "stream",
     "text": [
      "Wall time: 13.7 s\n"
     ]
    },
    {
     "data": {
      "text/plain": [
       "-0.31619032432003147"
      ]
     },
     "execution_count": 14,
     "metadata": {},
     "output_type": "execute_result"
    }
   ],
   "source": [
    "%%time\n",
    "np.random.seed(42)\n",
    "lr = LinearRegression()\n",
    "cross_val_score(estimator=lr, X=X_train_cvec, y=y_train, cv=4).mean()"
   ]
  },
  {
   "cell_type": "code",
   "execution_count": 15,
   "metadata": {},
   "outputs": [
    {
     "name": "stdout",
     "output_type": "stream",
     "text": [
      "Wall time: 11.2 s\n"
     ]
    },
    {
     "data": {
      "text/plain": [
       "-0.39061392416102714"
      ]
     },
     "execution_count": 15,
     "metadata": {},
     "output_type": "execute_result"
    }
   ],
   "source": [
    "%%time\n",
    "np.random.seed(42)\n",
    "lr = LinearRegression()\n",
    "cross_val_score(estimator=lr, X=X_train_tvec, y=y_train, cv=4).mean()"
   ]
  },
  {
   "cell_type": "code",
   "execution_count": 16,
   "metadata": {},
   "outputs": [],
   "source": [
    "# tvec ran faster than cvec and performed relatively better\n",
    "# but score is still terrible - prob because it's regression?\n",
    "### and also info about the platform type not fed into the model\n",
    "\n",
    "# there are a few methods out of this:\n",
    "### one way is to tune hyper params for the vectorizer (n-grams?) 0\n",
    "### another is to try a differnt algo (knn, svr, random forests, rnn?) 1\n",
    "### finally, we can try a classification method instead 1\n",
    "##### consider creating a new target variable for popularity (1 or 0)\n",
    "##### what would be the threshold for popular vs not popular? - 1 std from mean or outliers (1.5x IQR etc.)??"
   ]
  },
  {
   "cell_type": "markdown",
   "metadata": {},
   "source": [
    "#### Linear Regression - CVEC vs TVEC with platforms"
   ]
  },
  {
   "cell_type": "code",
   "execution_count": 17,
   "metadata": {},
   "outputs": [
    {
     "name": "stdout",
     "output_type": "stream",
     "text": [
      "Shape of training Count-Vectorizer: (18132, 5003)\n",
      "Shape of test Count-Vectorizer: (6045, 5003)\n",
      "\n",
      "Shape of training Tfidf-Vectorizer: (18132, 5003)\n",
      "Shape of test Tfidf-Vectorizer: (6045, 5003)\n"
     ]
    }
   ],
   "source": [
    "# get dummies for each platform\n",
    "train_platforms = pd.get_dummies(X_train[\"platform\"]).values\n",
    "unseen_platforms = pd.get_dummies(X_unseen[\"platform\"]).values\n",
    "\n",
    "# add 3 cols of dummies data to cvec\n",
    "X_train_cvec_dumm = hstack([X_train_cvec, train_platforms]).toarray()\n",
    "X_unseen_cvec_dumm = hstack([X_unseen_cvec, unseen_platforms]).toarray()\n",
    "print(\"Shape of training Count-Vectorizer:\", X_train_cvec_dumm.shape)\n",
    "print(\"Shape of test Count-Vectorizer:\", X_unseen_cvec_dumm.shape)\n",
    "print()\n",
    "# add 3 cols of dummies data to tvec\n",
    "X_train_tvec_dumm = hstack([X_train_tvec, train_platforms]).toarray()\n",
    "X_unseen_tvec_dumm = hstack([X_unseen_tvec, unseen_platforms]).toarray()\n",
    "print(\"Shape of training Tfidf-Vectorizer:\", X_train_tvec_dumm.shape)\n",
    "print(\"Shape of test Tfidf-Vectorizer:\", X_unseen_tvec_dumm.shape)"
   ]
  },
  {
   "cell_type": "code",
   "execution_count": 18,
   "metadata": {},
   "outputs": [
    {
     "name": "stdout",
     "output_type": "stream",
     "text": [
      "Wall time: 5min 2s\n"
     ]
    },
    {
     "data": {
      "text/plain": [
       "-3.480662376683621e+22"
      ]
     },
     "execution_count": 18,
     "metadata": {},
     "output_type": "execute_result"
    }
   ],
   "source": [
    "%%time\n",
    "lr = LinearRegression()\n",
    "cross_val_score(estimator=lr, X=X_train_cvec_dumm, y=y_train, cv=4).mean()"
   ]
  },
  {
   "cell_type": "code",
   "execution_count": 19,
   "metadata": {},
   "outputs": [
    {
     "name": "stdout",
     "output_type": "stream",
     "text": [
      "Wall time: 5min 22s\n"
     ]
    },
    {
     "data": {
      "text/plain": [
       "-3.5694680445209005e+20"
      ]
     },
     "execution_count": 19,
     "metadata": {},
     "output_type": "execute_result"
    }
   ],
   "source": [
    "%%time\n",
    "np.random.seed(42)\n",
    "lr = LinearRegression()\n",
    "cross_val_score(estimator=lr, X=X_train_tvec_dumm, y=y_train, cv=4).mean()"
   ]
  },
  {
   "cell_type": "code",
   "execution_count": 20,
   "metadata": {},
   "outputs": [],
   "source": [
    "# it is a bit better after applying\n",
    "# score approximates to 0, might as well predict using average likes\n",
    "# sudden jump in training time\n",
    "# time taken is much longer than before prob because of convergence and none of the word features are singly good predictors\n",
    "# therefore takes longer to converge and train\n",
    "# even though model is a simple linear regression\n",
    "# let's cut down on training time first"
   ]
  },
  {
   "cell_type": "markdown",
   "metadata": {},
   "source": [
    "#### Reduce Training Size"
   ]
  },
  {
   "cell_type": "code",
   "execution_count": 6,
   "metadata": {
    "scrolled": true
   },
   "outputs": [
    {
     "name": "stdout",
     "output_type": "stream",
     "text": [
      "Training set size: 12088\n",
      "Unseen test set size: 12089\n"
     ]
    }
   ],
   "source": [
    "# split into training and unseen test data\n",
    "features = [feat for feat in df_merged.columns if feat != \"likes\"]\n",
    "X = df_merged[features]\n",
    "y = df_merged[\"likes\"]\n",
    "\n",
    "X_train, X_unseen, y_train, y_unseen = train_test_split(X, y, test_size=0.5, stratify=df_merged[\"platform\"], random_state=42)\n",
    "print(\"Training set size:\", len(X_train))\n",
    "print(\"Unseen test set size:\", len(X_unseen))"
   ]
  },
  {
   "cell_type": "code",
   "execution_count": 7,
   "metadata": {},
   "outputs": [
    {
     "name": "stdout",
     "output_type": "stream",
     "text": [
      "Shape of training sparse matrix: (12088, 2500)\n",
      "Shape of test sparse matrix: (12089, 2500)\n"
     ]
    }
   ],
   "source": [
    "# CountVectorizer\n",
    "cvec = CountVectorizer(stop_words=\"english\", max_features=2500) # model takes too long to train, limit max features to 2500\n",
    "X_train_cvec = cvec.fit_transform(X_train[\"content\"])\n",
    "print(\"Shape of training sparse matrix:\", X_train_cvec.shape)\n",
    "X_unseen_cvec = cvec.transform(X_unseen[\"content\"])\n",
    "print(\"Shape of test sparse matrix:\", X_unseen_cvec.shape)"
   ]
  },
  {
   "cell_type": "code",
   "execution_count": 8,
   "metadata": {},
   "outputs": [
    {
     "name": "stdout",
     "output_type": "stream",
     "text": [
      "Shape of training sparse matrix: (12088, 2500)\n",
      "Shape of test sparse matrix: (12089, 2500)\n"
     ]
    }
   ],
   "source": [
    "# TfidfVectorizer\n",
    "tvec = TfidfVectorizer(stop_words=\"english\", max_features=2500) # model takes too long to train, limit max features to 2500\n",
    "X_train_tvec = tvec.fit_transform(X_train[\"content\"])\n",
    "print(\"Shape of training sparse matrix:\", X_train_tvec.shape)\n",
    "X_unseen_tvec = tvec.transform(X_unseen[\"content\"])\n",
    "print(\"Shape of test sparse matrix:\", X_unseen_tvec.shape)"
   ]
  },
  {
   "cell_type": "code",
   "execution_count": 9,
   "metadata": {},
   "outputs": [
    {
     "name": "stdout",
     "output_type": "stream",
     "text": [
      "Shape of training Count-Vectorizer: (12088, 2503)\n",
      "Shape of test Count-Vectorizer: (12089, 2503)\n",
      "\n",
      "Shape of training Tfidf-Vectorizer: (12088, 2503)\n",
      "Shape of test Tfidf-Vectorizer: (12089, 2503)\n"
     ]
    }
   ],
   "source": [
    "# get dummies for each platform\n",
    "train_platforms = pd.get_dummies(X_train[\"platform\"]).values\n",
    "unseen_platforms = pd.get_dummies(X_unseen[\"platform\"]).values\n",
    "\n",
    "# add 3 cols of dummies data to cvec\n",
    "X_train_cvec_dumm = hstack([X_train_cvec, train_platforms]).toarray()\n",
    "X_unseen_cvec_dumm = hstack([X_unseen_cvec, unseen_platforms]).toarray()\n",
    "print(\"Shape of training Count-Vectorizer:\", X_train_cvec_dumm.shape)\n",
    "print(\"Shape of test Count-Vectorizer:\", X_unseen_cvec_dumm.shape)\n",
    "print()\n",
    "# add 3 cols of dummies data to tvec\n",
    "X_train_tvec_dumm = hstack([X_train_tvec, train_platforms]).toarray()\n",
    "X_unseen_tvec_dumm = hstack([X_unseen_tvec, unseen_platforms]).toarray()\n",
    "print(\"Shape of training Tfidf-Vectorizer:\", X_train_tvec_dumm.shape)\n",
    "print(\"Shape of test Tfidf-Vectorizer:\", X_unseen_tvec_dumm.shape)"
   ]
  },
  {
   "cell_type": "code",
   "execution_count": 26,
   "metadata": {},
   "outputs": [
    {
     "name": "stdout",
     "output_type": "stream",
     "text": [
      "Wall time: 35.1 s\n"
     ]
    },
    {
     "data": {
      "text/plain": [
       "-5.135135544510121e+22"
      ]
     },
     "execution_count": 26,
     "metadata": {},
     "output_type": "execute_result"
    }
   ],
   "source": [
    "%%time\n",
    "np.random.seed(42)\n",
    "lr = LinearRegression()\n",
    "cross_val_score(estimator=lr, X=X_train_cvec_dumm, y=y_train, cv=4).mean()"
   ]
  },
  {
   "cell_type": "code",
   "execution_count": 27,
   "metadata": {},
   "outputs": [
    {
     "name": "stdout",
     "output_type": "stream",
     "text": [
      "Wall time: 32.9 s\n"
     ]
    },
    {
     "data": {
      "text/plain": [
       "-1.366049118430716e+22"
      ]
     },
     "execution_count": 27,
     "metadata": {},
     "output_type": "execute_result"
    }
   ],
   "source": [
    "%%time\n",
    "np.random.seed(42)\n",
    "lr = LinearRegression()\n",
    "cross_val_score(estimator=lr, X=X_train_tvec_dumm, y=y_train, cv=4).mean()"
   ]
  },
  {
   "cell_type": "code",
   "execution_count": 11,
   "metadata": {},
   "outputs": [],
   "source": [
    "# retrained - RELOOK at the numbers - but tvec still better/ not as bad a score\n",
    "\n",
    "# initial training with 18788 data points by 5000 features\n",
    "### training took 4min 10s = 250s\n",
    "### for a score of -3.67\n",
    "# after cutting data points by 50% and features by 50%\n",
    "### training time took 1min 5s = 65s or a 74% reduction in training time\n",
    "### for a score of -1.56 - note that score improved 57% with smaller training set which does not bode well for generalising"
   ]
  },
  {
   "cell_type": "markdown",
   "metadata": {},
   "source": [
    "#### Ridge and Lasso Regression - CVEC vs TVEC with platforms"
   ]
  },
  {
   "cell_type": "code",
   "execution_count": null,
   "metadata": {},
   "outputs": [],
   "source": [
    "# cv score with both R2 score and MSE\n",
    "### R2 score to provide baseline score for other algos\n",
    "### MSE to provide baseline score for NN"
   ]
  },
  {
   "cell_type": "code",
   "execution_count": 10,
   "metadata": {},
   "outputs": [
    {
     "name": "stdout",
     "output_type": "stream",
     "text": [
      "Wall time: 1min 4s\n"
     ]
    },
    {
     "data": {
      "text/plain": [
       "0.310532345528329"
      ]
     },
     "execution_count": 10,
     "metadata": {},
     "output_type": "execute_result"
    }
   ],
   "source": [
    "%%time\n",
    "np.random.seed(42)\n",
    "lr = RidgeCV(cv=None)\n",
    "cross_val_score(estimator=lr, X=X_train_cvec_dumm, y=y_train, cv=4).mean()"
   ]
  },
  {
   "cell_type": "code",
   "execution_count": 17,
   "metadata": {},
   "outputs": [
    {
     "name": "stdout",
     "output_type": "stream",
     "text": [
      "Wall time: 1min 5s\n"
     ]
    },
    {
     "data": {
      "text/plain": [
       "-64644.221899243435"
      ]
     },
     "execution_count": 17,
     "metadata": {},
     "output_type": "execute_result"
    }
   ],
   "source": [
    "%%time\n",
    "np.random.seed(42)\n",
    "lr = RidgeCV(cv=None)\n",
    "cross_val_score(estimator=lr, X=X_train_cvec_dumm, y=y_train, scoring=\"neg_mean_squared_error\", cv=4).mean()"
   ]
  },
  {
   "cell_type": "code",
   "execution_count": 28,
   "metadata": {},
   "outputs": [
    {
     "name": "stdout",
     "output_type": "stream",
     "text": [
      "Wall time: 1min 10s\n"
     ]
    },
    {
     "data": {
      "text/plain": [
       "0.387197317387263"
      ]
     },
     "execution_count": 28,
     "metadata": {},
     "output_type": "execute_result"
    }
   ],
   "source": [
    "%%time\n",
    "np.random.seed(42)\n",
    "lr = RidgeCV(cv=None)\n",
    "cross_val_score(estimator=lr, X=X_train_tvec_dumm, y=y_train, cv=4).mean()"
   ]
  },
  {
   "cell_type": "code",
   "execution_count": 30,
   "metadata": {},
   "outputs": [
    {
     "name": "stdout",
     "output_type": "stream",
     "text": [
      "Wall time: 1min 10s\n"
     ]
    },
    {
     "data": {
      "text/plain": [
       "-58557.43483613513"
      ]
     },
     "execution_count": 30,
     "metadata": {},
     "output_type": "execute_result"
    }
   ],
   "source": [
    "%%time\n",
    "np.random.seed(42)\n",
    "lr = RidgeCV(cv=None)\n",
    "cross_val_score(estimator=lr, X=X_train_tvec_dumm, y=y_train, scoring=\"neg_mean_squared_error\", cv=4).mean()"
   ]
  },
  {
   "cell_type": "code",
   "execution_count": 16,
   "metadata": {},
   "outputs": [
    {
     "name": "stdout",
     "output_type": "stream",
     "text": [
      "Wall time: 2min 5s\n"
     ]
    },
    {
     "data": {
      "text/plain": [
       "0.3477936090615134"
      ]
     },
     "execution_count": 16,
     "metadata": {},
     "output_type": "execute_result"
    }
   ],
   "source": [
    "%%time\n",
    "np.random.seed(42)\n",
    "lr = LassoCV(tol=0.01, cv=None) # lower tol to aid convergence discovery\n",
    "cross_val_score(estimator=lr, X=X_train_cvec_dumm, y=y_train, cv=4).mean()"
   ]
  },
  {
   "cell_type": "code",
   "execution_count": 18,
   "metadata": {},
   "outputs": [
    {
     "name": "stderr",
     "output_type": "stream",
     "text": [
      "C:\\Users\\yewto\\anaconda3\\lib\\site-packages\\sklearn\\linear_model\\_coordinate_descent.py:525: ConvergenceWarning: Objective did not converge. You might want to increase the number of iterations. Duality gap: 7944895.889982641, tolerance: 7761362.455510204\n",
      "  model = cd_fast.enet_coordinate_descent_gram(\n"
     ]
    },
    {
     "name": "stdout",
     "output_type": "stream",
     "text": [
      "Wall time: 4min 26s\n"
     ]
    },
    {
     "data": {
      "text/plain": [
       "-61394.25719633836"
      ]
     },
     "execution_count": 18,
     "metadata": {},
     "output_type": "execute_result"
    }
   ],
   "source": [
    "%%time\n",
    "np.random.seed(42)\n",
    "lr = LassoCV(tol=0.01, cv=None) # lower tol to aid convergence discovery\n",
    "cross_val_score(estimator=lr, X=X_train_cvec_dumm_ss, y=y_train, scoring=\"neg_mean_squared_error\", cv=4).mean()"
   ]
  },
  {
   "cell_type": "code",
   "execution_count": 29,
   "metadata": {},
   "outputs": [
    {
     "name": "stdout",
     "output_type": "stream",
     "text": [
      "Wall time: 1min 32s\n"
     ]
    },
    {
     "data": {
      "text/plain": [
       "0.3823733080858468"
      ]
     },
     "execution_count": 29,
     "metadata": {},
     "output_type": "execute_result"
    }
   ],
   "source": [
    "%%time\n",
    "np.random.seed(42)\n",
    "lr = LassoCV(tol=0.001, cv=None)\n",
    "cross_val_score(estimator=lr, X=X_train_tvec_dumm, y=y_train, cv=4).mean()"
   ]
  },
  {
   "cell_type": "code",
   "execution_count": 31,
   "metadata": {},
   "outputs": [
    {
     "name": "stdout",
     "output_type": "stream",
     "text": [
      "Wall time: 1min 37s\n"
     ]
    },
    {
     "data": {
      "text/plain": [
       "-59073.77326406755"
      ]
     },
     "execution_count": 31,
     "metadata": {},
     "output_type": "execute_result"
    }
   ],
   "source": [
    "%%time\n",
    "np.random.seed(42)\n",
    "lr = LassoCV(tol=0.001, cv=None)\n",
    "cross_val_score(estimator=lr, X=X_train_tvec_dumm, y=y_train, scoring=\"neg_mean_squared_error\", cv=4).mean()"
   ]
  },
  {
   "cell_type": "code",
   "execution_count": null,
   "metadata": {},
   "outputs": [],
   "source": [
    "# regularisation made a big difference in scores\n",
    "# training time increases accordingly"
   ]
  },
  {
   "cell_type": "code",
   "execution_count": null,
   "metadata": {},
   "outputs": [],
   "source": [
    "# LR with lasso regularisation forms my baseline model score"
   ]
  },
  {
   "cell_type": "markdown",
   "metadata": {},
   "source": [
    "#### Baseline Model\n",
    "\n",
    "Several basic NLP-only models were built in order to pick the best performing model as our baseline model for evaluating all other models moving forward. As our problem is one of regression, a basic linear regression model with either Ridge or Lasso regularisations was built and scored on. Also tested, was the type of vectorizer to employ. Each model was built using the top ranking 2500 word features extracted from either `CountVectorizer` or `TfidfVectorizer`, and 3 dummy columns, one for each of the type of platform that each data point subsribe to.\n",
    "\n",
    "|**Model**|**Vectorizer**|**Cross-Validation Score (R<sup>2</sup>)**|**Mean Squared Error**|**Training Time (s)**|**Training Time (hh-mm-ss)**|\n",
    "|---|---|---|---|---|---|\n",
    "|Ridge Regressor|Count|0.311|64644.2|64|1min 4s|\n",
    "|Ridge Regressor*|TF-IDF|0.387|58557.4|70|1min 10s|\n",
    "|Lasso Regressor|Count|0.347|61394.3|125|2min 5s|\n",
    "|Lasso Regressor|TF-IDF|0.382|59073.8|92|1min 32s|\n",
    "\n",
    "<p style='text-align: right;'><sub>*selected baseline model and baseline scores</sub></p>\n",
    "\n",
    "There are a total of four models for each permutation of Ridge or Lasso regularisations and `CountVectorizer` or `TfidfVectorizer` vectorizers. Choosing between vectorizers, `TfidfVectorizer` is the clear winner by beating `CountVectorizer` consistently on both types of regularisation. Comparing among models that employed `TfidfVectorizer`, the Ridge regression model performed marginally better on both the R<sup>2</sup> and mean-squared error (MSE) scores. As such, our baseline model will be a Ridge regression model trained on `TfidfVectorizer` extracted word features with a baseline R<sup>2</sup> score of $0.387$ and a MSE of $58,557.4$."
   ]
  },
  {
   "cell_type": "markdown",
   "metadata": {},
   "source": [
    "### Model Selection"
   ]
  },
  {
   "cell_type": "markdown",
   "metadata": {},
   "source": [
    "Now that we have selected our baseline model, we will test a series of other algorithms built in the same manner and evaluate their performance against our baseline model."
   ]
  },
  {
   "cell_type": "markdown",
   "metadata": {},
   "source": [
    "#### Support Vector Regression - TVEC with platforms"
   ]
  },
  {
   "cell_type": "code",
   "execution_count": 11,
   "metadata": {},
   "outputs": [
    {
     "name": "stdout",
     "output_type": "stream",
     "text": [
      "Wall time: 50min 22s\n"
     ]
    },
    {
     "data": {
      "text/plain": [
       "-0.03456222633694278"
      ]
     },
     "execution_count": 11,
     "metadata": {},
     "output_type": "execute_result"
    }
   ],
   "source": [
    "%%time\n",
    "np.random.seed(42)\n",
    "svr = SVR(kernel=\"rbf\", gamma=\"scale\")\n",
    "ss = StandardScaler()\n",
    "X_train_tvec_dumm_ss = ss.fit_transform(X_train_tvec_dumm) # scale features for SVR to find optimal hyperplanes\n",
    "cross_val_score(estimator=svr, X=X_train_tvec_dumm_ss, y=y_train, cv=4).mean()"
   ]
  },
  {
   "cell_type": "markdown",
   "metadata": {},
   "source": [
    "SVR performed very poorly and took a really long time to train."
   ]
  },
  {
   "cell_type": "markdown",
   "metadata": {},
   "source": [
    "#### Random Forest vs Extra Trees - TVEC with platforms"
   ]
  },
  {
   "cell_type": "markdown",
   "metadata": {},
   "source": [
    "- Random forest uses bootstrap replicas, that is to say, it subsamples the input data with replacement, whereas Extra Trees use the whole original sample. In the Extra Trees sklearn implementation there is an optional parameter that allows users to bootstrap replicas, but by default, it uses the entire input sample. This may increase variance because bootstrapping makes it more diversified.\n",
    "- Another difference is the selection of cut points in order to split nodes. Random Forest chooses the optimum split while Extra Trees chooses it randomly. However, once the split points are selected, the two algorithms choose the best one between all the subset of features. Therefore, Extra Trees adds randomization but still has optimization."
   ]
  },
  {
   "cell_type": "code",
   "execution_count": 10,
   "metadata": {},
   "outputs": [
    {
     "name": "stdout",
     "output_type": "stream",
     "text": [
      "Wall time: 1h 28min 25s\n"
     ]
    },
    {
     "data": {
      "text/plain": [
       "0.40104836431250857"
      ]
     },
     "execution_count": 10,
     "metadata": {},
     "output_type": "execute_result"
    }
   ],
   "source": [
    "%%time\n",
    "np.random.seed(42)\n",
    "rf = RandomForestRegressor(n_estimators=50)\n",
    "cross_val_score(estimator=rf, X=X_train_tvec_dumm, y=y_train, cv=4).mean()"
   ]
  },
  {
   "cell_type": "code",
   "execution_count": 10,
   "metadata": {},
   "outputs": [
    {
     "name": "stdout",
     "output_type": "stream",
     "text": [
      "Wall time: 2h 51min 46s\n"
     ]
    },
    {
     "data": {
      "text/plain": [
       "0.36697018838900475"
      ]
     },
     "execution_count": 10,
     "metadata": {},
     "output_type": "execute_result"
    }
   ],
   "source": [
    "%%time\n",
    "np.random.seed(42)\n",
    "et = ExtraTreesRegressor(n_estimators=50)\n",
    "cross_val_score(estimator=et, X=X_train_tvec_dumm, y=y_train, cv=4).mean()"
   ]
  },
  {
   "cell_type": "markdown",
   "metadata": {},
   "source": [
    "Greater hopes were placed on Extra Trees but it ended up performing worse and taking twice as long to train. Random Forest is our best scoring model thus far."
   ]
  },
  {
   "cell_type": "markdown",
   "metadata": {},
   "source": [
    "#### AdaBoosting vs GradientBoosting (xgboost??) - TVEC with platforms"
   ]
  },
  {
   "cell_type": "code",
   "execution_count": 12,
   "metadata": {},
   "outputs": [],
   "source": [
    "# scale features\n",
    "ss = StandardScaler()\n",
    "X_train_tvec_dumm_ss = ss.fit_transform(X_train_tvec_dumm)"
   ]
  },
  {
   "cell_type": "code",
   "execution_count": null,
   "metadata": {},
   "outputs": [],
   "source": [
    "# ignore the scaling for it is not necessary, and should not affect the scoring"
   ]
  },
  {
   "cell_type": "code",
   "execution_count": 13,
   "metadata": {
    "scrolled": true
   },
   "outputs": [
    {
     "name": "stdout",
     "output_type": "stream",
     "text": [
      "Wall time: 36min 55s\n"
     ]
    },
    {
     "data": {
      "text/plain": [
       "-7.124429888534011"
      ]
     },
     "execution_count": 13,
     "metadata": {},
     "output_type": "execute_result"
    }
   ],
   "source": [
    "%%time\n",
    "np.random.seed(42)\n",
    "ada = AdaBoostRegressor(base_estimator=DecisionTreeRegressor())\n",
    "cross_val_score(estimator=ada, X=X_train_tvec_dumm_ss, y=y_train, cv=4).mean()"
   ]
  },
  {
   "cell_type": "code",
   "execution_count": 14,
   "metadata": {},
   "outputs": [
    {
     "name": "stdout",
     "output_type": "stream",
     "text": [
      "Wall time: 9min 47s\n"
     ]
    },
    {
     "data": {
      "text/plain": [
       "0.36296164202487724"
      ]
     },
     "execution_count": 14,
     "metadata": {},
     "output_type": "execute_result"
    }
   ],
   "source": [
    "%%time\n",
    "np.random.seed(42)\n",
    "gboost = GradientBoostingRegressor()\n",
    "cross_val_score(estimator=gboost, X=X_train_tvec_dumm_ss, y=y_train, cv=4).mean()"
   ]
  },
  {
   "cell_type": "code",
   "execution_count": 34,
   "metadata": {},
   "outputs": [
    {
     "name": "stdout",
     "output_type": "stream",
     "text": [
      "Wall time: 2min 38s\n"
     ]
    },
    {
     "data": {
      "text/plain": [
       "0.30309648564700675"
      ]
     },
     "execution_count": 34,
     "metadata": {},
     "output_type": "execute_result"
    }
   ],
   "source": [
    "%%time\n",
    "np.random.seed(42)\n",
    "xgbr = xgb.XGBRegressor(objective=\"reg:squarederror\", missing=None, seed=42) # default booster = \"gbtree\", default ridge = 1\n",
    "cross_val_score(estimator=xgbr, X=X_train_tvec_dumm_ss, y=y_train, cv=4).mean()"
   ]
  },
  {
   "cell_type": "code",
   "execution_count": 35,
   "metadata": {},
   "outputs": [
    {
     "name": "stdout",
     "output_type": "stream",
     "text": [
      "Wall time: 3min\n"
     ]
    },
    {
     "data": {
      "text/plain": [
       "0.38081999722337734"
      ]
     },
     "execution_count": 35,
     "metadata": {},
     "output_type": "execute_result"
    }
   ],
   "source": [
    "%%time\n",
    "np.random.seed(42)\n",
    "xgbr = xgb.XGBRegressor(objective=\"reg:tweedie\", missing=None, seed=42) # default booster = \"gbtree\"\n",
    "cross_val_score(estimator=xgbr, X=X_train_tvec_dumm_ss, y=y_train, cv=4).mean()\n",
    "# tweedie dist useful to emulate skewed dist, which is the case in likes"
   ]
  },
  {
   "cell_type": "code",
   "execution_count": 36,
   "metadata": {},
   "outputs": [
    {
     "name": "stdout",
     "output_type": "stream",
     "text": [
      "Wall time: 41.3 s\n"
     ]
    },
    {
     "data": {
      "text/plain": [
       "0.39767404052367883"
      ]
     },
     "execution_count": 36,
     "metadata": {},
     "output_type": "execute_result"
    }
   ],
   "source": [
    "%%time\n",
    "np.random.seed(42)\n",
    "xgbr = xgb.XGBRegressor(objective=\"reg:squarederror\", missing=None, seed=42,\n",
    "                        booster=\"gblinear\", reg_alpha=1, reg_lambda=1, feature_selector=\"cyclic\")\n",
    "cross_val_score(estimator=xgbr, X=X_train_tvec_dumm_ss, y=y_train, cv=4).mean()"
   ]
  },
  {
   "cell_type": "code",
   "execution_count": 37,
   "metadata": {},
   "outputs": [
    {
     "name": "stdout",
     "output_type": "stream",
     "text": [
      "Wall time: 36 s\n"
     ]
    },
    {
     "data": {
      "text/plain": [
       "0.31682159186764997"
      ]
     },
     "execution_count": 37,
     "metadata": {},
     "output_type": "execute_result"
    }
   ],
   "source": [
    "%%time\n",
    "np.random.seed(42)\n",
    "xgbr = xgb.XGBRegressor(objective=\"reg:tweedie\", missing=None, seed=42,\n",
    "                        booster=\"gblinear\", reg_alpha=1, reg_lambda=1, feature_selector=\"cyclic\")\n",
    "cross_val_score(estimator=xgbr, X=X_train_tvec_dumm_ss, y=y_train, cv=4).mean()"
   ]
  },
  {
   "cell_type": "markdown",
   "metadata": {},
   "source": [
    "AdaBoost, GBoost, and different variations of XGBoost were tested. AdaBoost performed surprisingly poorly, with out best model being XGBoost with a \"gblinear\" boosted and optimising for regression on a tweedie function."
   ]
  },
  {
   "cell_type": "markdown",
   "metadata": {},
   "source": [
    "#### Neural Networks - FFNN (with and without reg) vs RNN (GRU and LSTM)"
   ]
  },
  {
   "cell_type": "code",
   "execution_count": 39,
   "metadata": {},
   "outputs": [
    {
     "data": {
      "text/plain": [
       "array([[0., 0., 0., ..., 1., 0., 0.],\n",
       "       [0., 0., 0., ..., 1., 0., 0.],\n",
       "       [0., 0., 0., ..., 1., 0., 0.],\n",
       "       ...,\n",
       "       [0., 0., 0., ..., 0., 1., 0.],\n",
       "       [0., 0., 0., ..., 1., 0., 0.],\n",
       "       [0., 0., 0., ..., 1., 0., 0.]])"
      ]
     },
     "execution_count": 39,
     "metadata": {},
     "output_type": "execute_result"
    }
   ],
   "source": [
    "X_train_tvec_dumm"
   ]
  },
  {
   "cell_type": "code",
   "execution_count": 40,
   "metadata": {},
   "outputs": [
    {
     "data": {
      "text/plain": [
       "(12088, 2503)"
      ]
     },
     "execution_count": 40,
     "metadata": {},
     "output_type": "execute_result"
    }
   ],
   "source": [
    "X_train_tvec_dumm.shape"
   ]
  },
  {
   "cell_type": "code",
   "execution_count": 41,
   "metadata": {},
   "outputs": [
    {
     "data": {
      "text/plain": [
       "3798      26\n",
       "3608      19\n",
       "6461      23\n",
       "19703      6\n",
       "19691      1\n",
       "        ... \n",
       "9656     299\n",
       "16015      0\n",
       "21889      4\n",
       "83       114\n",
       "7205      54\n",
       "Name: likes, Length: 12088, dtype: int64"
      ]
     },
     "execution_count": 41,
     "metadata": {},
     "output_type": "execute_result"
    }
   ],
   "source": [
    "y_train"
   ]
  },
  {
   "cell_type": "code",
   "execution_count": 42,
   "metadata": {},
   "outputs": [
    {
     "data": {
      "text/plain": [
       "(12088,)"
      ]
     },
     "execution_count": 42,
     "metadata": {},
     "output_type": "execute_result"
    }
   ],
   "source": [
    "y_train.shape"
   ]
  },
  {
   "cell_type": "markdown",
   "metadata": {},
   "source": [
    "#### FFNN - no regularisation"
   ]
  },
  {
   "cell_type": "code",
   "execution_count": 43,
   "metadata": {},
   "outputs": [
    {
     "name": "stdout",
     "output_type": "stream",
     "text": [
      "Epoch 1/50\n",
      "61/61 [==============================] - 1s 13ms/step - loss: 102631.6328 - mean_squared_error: 102631.6328 - val_loss: 97970.7422 - val_mean_squared_error: 97970.7422\n",
      "Epoch 2/50\n",
      "61/61 [==============================] - 1s 8ms/step - loss: 97965.2188 - mean_squared_error: 97965.2188 - val_loss: 90466.0000 - val_mean_squared_error: 90466.0000\n",
      "Epoch 3/50\n",
      "61/61 [==============================] - 1s 10ms/step - loss: 90962.8359 - mean_squared_error: 90962.8359 - val_loss: 84586.3359 - val_mean_squared_error: 84586.3359\n",
      "Epoch 4/50\n",
      "61/61 [==============================] - 1s 10ms/step - loss: 85351.6094 - mean_squared_error: 85351.6094 - val_loss: 79178.7500 - val_mean_squared_error: 79178.7500\n",
      "Epoch 5/50\n",
      "61/61 [==============================] - 1s 10ms/step - loss: 78686.4609 - mean_squared_error: 78686.4609 - val_loss: 72934.1484 - val_mean_squared_error: 72934.1484\n",
      "Epoch 6/50\n",
      "61/61 [==============================] - 1s 12ms/step - loss: 71586.7891 - mean_squared_error: 71586.7891 - val_loss: 67904.0234 - val_mean_squared_error: 67904.0234\n",
      "Epoch 7/50\n",
      "61/61 [==============================] - 1s 9ms/step - loss: 65902.0078 - mean_squared_error: 65902.0078 - val_loss: 63930.8789 - val_mean_squared_error: 63930.8789\n",
      "Epoch 8/50\n",
      "61/61 [==============================] - 1s 10ms/step - loss: 61402.9453 - mean_squared_error: 61402.9453 - val_loss: 61421.0000 - val_mean_squared_error: 61421.0000\n",
      "Epoch 9/50\n",
      "61/61 [==============================] - 1s 11ms/step - loss: 57949.4961 - mean_squared_error: 57949.4961 - val_loss: 59245.8750 - val_mean_squared_error: 59245.8750\n",
      "Epoch 10/50\n",
      "61/61 [==============================] - 1s 8ms/step - loss: 55548.4414 - mean_squared_error: 55548.4414 - val_loss: 57803.8359 - val_mean_squared_error: 57803.8359\n",
      "Epoch 11/50\n",
      "61/61 [==============================] - 1s 11ms/step - loss: 53137.0234 - mean_squared_error: 53137.0234 - val_loss: 56629.3047 - val_mean_squared_error: 56629.3047\n",
      "Epoch 12/50\n",
      "61/61 [==============================] - 1s 9ms/step - loss: 52338.5039 - mean_squared_error: 52338.5039 - val_loss: 55897.2109 - val_mean_squared_error: 55897.2109\n",
      "Epoch 13/50\n",
      "61/61 [==============================] - 1s 8ms/step - loss: 48177.2500 - mean_squared_error: 48177.2500 - val_loss: 55367.4258 - val_mean_squared_error: 55367.4258\n",
      "Epoch 14/50\n",
      "61/61 [==============================] - 1s 8ms/step - loss: 48551.7461 - mean_squared_error: 48551.7461 - val_loss: 54862.0820 - val_mean_squared_error: 54862.0820\n",
      "Epoch 15/50\n",
      "61/61 [==============================] - 1s 9ms/step - loss: 46446.2109 - mean_squared_error: 46446.2148 - val_loss: 54544.1719 - val_mean_squared_error: 54544.1719\n",
      "Epoch 16/50\n",
      "61/61 [==============================] - 1s 8ms/step - loss: 47204.0859 - mean_squared_error: 47204.0859 - val_loss: 54248.1289 - val_mean_squared_error: 54248.1289\n",
      "Epoch 17/50\n",
      "61/61 [==============================] - 1s 8ms/step - loss: 45392.3242 - mean_squared_error: 45392.3242 - val_loss: 53972.6562 - val_mean_squared_error: 53972.6562\n",
      "Epoch 18/50\n",
      "61/61 [==============================] - 1s 10ms/step - loss: 45161.9688 - mean_squared_error: 45161.9688 - val_loss: 53878.1367 - val_mean_squared_error: 53878.1367\n",
      "Epoch 19/50\n",
      "61/61 [==============================] - 1s 9ms/step - loss: 44404.3516 - mean_squared_error: 44404.3516 - val_loss: 53617.1875 - val_mean_squared_error: 53617.1875\n",
      "Epoch 20/50\n",
      "61/61 [==============================] - 1s 8ms/step - loss: 41450.3633 - mean_squared_error: 41450.3672 - val_loss: 53408.6445 - val_mean_squared_error: 53408.6445\n",
      "Epoch 21/50\n",
      "61/61 [==============================] - 1s 8ms/step - loss: 41193.2031 - mean_squared_error: 41193.2031 - val_loss: 53219.6875 - val_mean_squared_error: 53219.6875\n",
      "Epoch 22/50\n",
      "61/61 [==============================] - 1s 8ms/step - loss: 41198.3359 - mean_squared_error: 41198.3359 - val_loss: 53197.2578 - val_mean_squared_error: 53197.2578\n",
      "Epoch 23/50\n",
      "61/61 [==============================] - 1s 8ms/step - loss: 39349.8594 - mean_squared_error: 39349.8594 - val_loss: 52994.6680 - val_mean_squared_error: 52994.6680\n",
      "Epoch 24/50\n",
      "61/61 [==============================] - 1s 8ms/step - loss: 38231.4023 - mean_squared_error: 38231.4023 - val_loss: 52866.3789 - val_mean_squared_error: 52866.3789\n",
      "Epoch 25/50\n",
      "61/61 [==============================] - 1s 9ms/step - loss: 38456.6523 - mean_squared_error: 38456.6523 - val_loss: 52749.4844 - val_mean_squared_error: 52749.4844\n",
      "Epoch 26/50\n",
      "61/61 [==============================] - 1s 8ms/step - loss: 38222.4883 - mean_squared_error: 38222.4883 - val_loss: 52570.6680 - val_mean_squared_error: 52570.6680\n",
      "Epoch 27/50\n",
      "61/61 [==============================] - 1s 8ms/step - loss: 36444.9258 - mean_squared_error: 36444.9258 - val_loss: 52971.5312 - val_mean_squared_error: 52971.5273\n",
      "Epoch 28/50\n",
      "61/61 [==============================] - 1s 8ms/step - loss: 35547.7422 - mean_squared_error: 35547.7422 - val_loss: 52637.6055 - val_mean_squared_error: 52637.6055\n",
      "Epoch 29/50\n",
      "61/61 [==============================] - 1s 8ms/step - loss: 34961.4492 - mean_squared_error: 34961.4492 - val_loss: 52586.1445 - val_mean_squared_error: 52586.1445\n",
      "Epoch 30/50\n",
      "61/61 [==============================] - 1s 8ms/step - loss: 35364.8086 - mean_squared_error: 35364.8086 - val_loss: 52487.5820 - val_mean_squared_error: 52487.5820\n",
      "Epoch 31/50\n",
      "61/61 [==============================] - 1s 8ms/step - loss: 31860.2461 - mean_squared_error: 31860.2461 - val_loss: 52700.1445 - val_mean_squared_error: 52700.1445\n",
      "Epoch 32/50\n",
      "61/61 [==============================] - 1s 8ms/step - loss: 32860.2148 - mean_squared_error: 32860.2148 - val_loss: 52586.9492 - val_mean_squared_error: 52586.9492\n",
      "Epoch 33/50\n",
      "61/61 [==============================] - 0s 8ms/step - loss: 30931.1309 - mean_squared_error: 30931.1309 - val_loss: 52720.7734 - val_mean_squared_error: 52720.7734\n",
      "Epoch 34/50\n",
      "61/61 [==============================] - 1s 8ms/step - loss: 29929.4219 - mean_squared_error: 29929.4219 - val_loss: 52765.0000 - val_mean_squared_error: 52765.0000\n",
      "Epoch 35/50\n",
      "61/61 [==============================] - 1s 8ms/step - loss: 29541.7070 - mean_squared_error: 29541.7070 - val_loss: 52966.9219 - val_mean_squared_error: 52966.9219\n",
      "Epoch 36/50\n",
      "61/61 [==============================] - 1s 8ms/step - loss: 30193.4668 - mean_squared_error: 30193.4668 - val_loss: 52831.7852 - val_mean_squared_error: 52831.7852\n",
      "Epoch 37/50\n",
      "61/61 [==============================] - 1s 8ms/step - loss: 30057.9414 - mean_squared_error: 30057.9414 - val_loss: 52691.7773 - val_mean_squared_error: 52691.7773\n",
      "Epoch 38/50\n",
      "61/61 [==============================] - 1s 8ms/step - loss: 28780.2930 - mean_squared_error: 28780.2910 - val_loss: 53204.2617 - val_mean_squared_error: 53204.2617\n",
      "Epoch 39/50\n",
      "61/61 [==============================] - 1s 8ms/step - loss: 27648.1016 - mean_squared_error: 27648.1016 - val_loss: 53230.2969 - val_mean_squared_error: 53230.2969\n",
      "Epoch 40/50\n",
      "61/61 [==============================] - 1s 8ms/step - loss: 27598.2324 - mean_squared_error: 27598.2324 - val_loss: 53092.4961 - val_mean_squared_error: 53092.4961\n",
      "Epoch 41/50\n",
      "61/61 [==============================] - 0s 8ms/step - loss: 28885.1719 - mean_squared_error: 28885.1719 - val_loss: 53117.4648 - val_mean_squared_error: 53117.4688\n",
      "Epoch 42/50\n",
      "61/61 [==============================] - 1s 8ms/step - loss: 25895.9785 - mean_squared_error: 25895.9785 - val_loss: 53337.7734 - val_mean_squared_error: 53337.7734\n",
      "Epoch 43/50\n",
      "61/61 [==============================] - 1s 8ms/step - loss: 25315.0371 - mean_squared_error: 25315.0371 - val_loss: 53581.2227 - val_mean_squared_error: 53581.2227\n",
      "Epoch 44/50\n",
      "61/61 [==============================] - 1s 8ms/step - loss: 24522.2930 - mean_squared_error: 24522.2930 - val_loss: 53347.6406 - val_mean_squared_error: 53347.6406\n",
      "Epoch 45/50\n",
      "61/61 [==============================] - 0s 8ms/step - loss: 23746.5840 - mean_squared_error: 23746.5840 - val_loss: 53525.2656 - val_mean_squared_error: 53525.2656\n",
      "Epoch 46/50\n",
      "61/61 [==============================] - 1s 8ms/step - loss: 24274.1836 - mean_squared_error: 24274.1836 - val_loss: 53814.3477 - val_mean_squared_error: 53814.3555\n",
      "Epoch 47/50\n",
      "61/61 [==============================] - 0s 8ms/step - loss: 23036.6406 - mean_squared_error: 23036.6406 - val_loss: 53962.4648 - val_mean_squared_error: 53962.4648\n",
      "Epoch 48/50\n",
      "61/61 [==============================] - 0s 8ms/step - loss: 22889.7852 - mean_squared_error: 22889.7852 - val_loss: 54275.3828 - val_mean_squared_error: 54275.3828\n",
      "Epoch 49/50\n",
      "61/61 [==============================] - ETA: 0s - loss: 24748.9551 - mean_squared_error: 24748.95 - 1s 8ms/step - loss: 24369.5723 - mean_squared_error: 24369.5723 - val_loss: 54412.7070 - val_mean_squared_error: 54412.7070\n",
      "Epoch 50/50\n",
      "61/61 [==============================] - 1s 8ms/step - loss: 23895.4863 - mean_squared_error: 23895.4863 - val_loss: 54400.0859 - val_mean_squared_error: 54400.0859\n",
      "Wall time: 28.7 s\n"
     ]
    }
   ],
   "source": [
    "%%time\n",
    "# create model\n",
    "model = Sequential()\n",
    "model.add(Dense(128, input_dim=X_train_tvec_dumm.shape[1], activation='relu'))\n",
    "model.add(Dropout(0.2))\n",
    "model.add(Dense(32, activation='relu'))\n",
    "model.add(Dropout(0.2))\n",
    "model.add(Dense(1, activation='linear'))\n",
    "\n",
    "# compile and fit model\n",
    "model.compile(loss=\"mean_squared_error\", optimizer=Adam(), metrics=[\"mean_squared_error\"])\n",
    "# early_stop = EarlyStopping(monitor='val_loss', min_delta=0, patience=10, verbose=1, mode='auto')\n",
    "history_nn = model.fit(X_train_tvec_dumm, y_train,\n",
    "                       epochs=50, batch_size=200, verbose=1, #callbacks=[early_stop],\n",
    "                       validation_data=(X_unseen_tvec_dumm, y_unseen))"
   ]
  },
  {
   "cell_type": "code",
   "execution_count": 44,
   "metadata": {},
   "outputs": [
    {
     "data": {
      "image/png": "[encoded data removed]",
      "text/plain": [
       "<Figure size 432x288 with 1 Axes>"
      ]
     },
     "metadata": {
      "image/png": {
       "height": 244,
       "width": 431
      },
      "needs_background": "light"
     },
     "output_type": "display_data"
    }
   ],
   "source": [
    "plt.plot(history_nn.history['loss'], label='Train loss')\n",
    "plt.plot(history_nn.history['val_loss'], label='Test loss')\n",
    "plt.legend();"
   ]
  },
  {
   "cell_type": "code",
   "execution_count": 45,
   "metadata": {},
   "outputs": [
    {
     "data": {
      "text/html": [
       "<div>\n",
       "<style scoped>\n",
       "    .dataframe tbody tr th:only-of-type {\n",
       "        vertical-align: middle;\n",
       "    }\n",
       "\n",
       "    .dataframe tbody tr th {\n",
       "        vertical-align: top;\n",
       "    }\n",
       "\n",
       "    .dataframe thead th {\n",
       "        text-align: right;\n",
       "    }\n",
       "</style>\n",
       "<table border=\"1\" class=\"dataframe\">\n",
       "  <thead>\n",
       "    <tr style=\"text-align: right;\">\n",
       "      <th></th>\n",
       "      <th>epoch</th>\n",
       "      <th>train_loss</th>\n",
       "      <th>test_loss</th>\n",
       "      <th>val_gap</th>\n",
       "    </tr>\n",
       "  </thead>\n",
       "  <tbody>\n",
       "    <tr>\n",
       "      <th>0</th>\n",
       "      <td>1</td>\n",
       "      <td>102631.632812</td>\n",
       "      <td>97970.742188</td>\n",
       "      <td>4660.890625</td>\n",
       "    </tr>\n",
       "    <tr>\n",
       "      <th>1</th>\n",
       "      <td>2</td>\n",
       "      <td>97965.218750</td>\n",
       "      <td>90466.000000</td>\n",
       "      <td>7499.218750</td>\n",
       "    </tr>\n",
       "    <tr>\n",
       "      <th>2</th>\n",
       "      <td>3</td>\n",
       "      <td>90962.835938</td>\n",
       "      <td>84586.335938</td>\n",
       "      <td>6376.500000</td>\n",
       "    </tr>\n",
       "  </tbody>\n",
       "</table>\n",
       "</div>"
      ],
      "text/plain": [
       "   epoch     train_loss     test_loss      val_gap\n",
       "0      1  102631.632812  97970.742188  4660.890625\n",
       "1      2   97965.218750  90466.000000  7499.218750\n",
       "2      3   90962.835938  84586.335938  6376.500000"
      ]
     },
     "execution_count": 45,
     "metadata": {},
     "output_type": "execute_result"
    }
   ],
   "source": [
    "df_nn = pd.DataFrame(zip(list(range(1,100)), history_nn.history['loss'], history_nn.history['val_loss']),\n",
    "                       columns=[\"epoch\", \"train_loss\", \"test_loss\"])\n",
    "df_nn[\"val_gap\"] = abs(df_nn[\"train_loss\"] - df_nn[\"test_loss\"])\n",
    "df_nn.head(3)"
   ]
  },
  {
   "cell_type": "code",
   "execution_count": 46,
   "metadata": {},
   "outputs": [
    {
     "data": {
      "text/html": [
       "<div>\n",
       "<style scoped>\n",
       "    .dataframe tbody tr th:only-of-type {\n",
       "        vertical-align: middle;\n",
       "    }\n",
       "\n",
       "    .dataframe tbody tr th {\n",
       "        vertical-align: top;\n",
       "    }\n",
       "\n",
       "    .dataframe thead th {\n",
       "        text-align: right;\n",
       "    }\n",
       "</style>\n",
       "<table border=\"1\" class=\"dataframe\">\n",
       "  <thead>\n",
       "    <tr style=\"text-align: right;\">\n",
       "      <th></th>\n",
       "      <th>epoch</th>\n",
       "      <th>train_loss</th>\n",
       "      <th>test_loss</th>\n",
       "      <th>val_gap</th>\n",
       "    </tr>\n",
       "  </thead>\n",
       "  <tbody>\n",
       "    <tr>\n",
       "      <th>7</th>\n",
       "      <td>8</td>\n",
       "      <td>61402.945312</td>\n",
       "      <td>61421.0</td>\n",
       "      <td>18.054688</td>\n",
       "    </tr>\n",
       "  </tbody>\n",
       "</table>\n",
       "</div>"
      ],
      "text/plain": [
       "   epoch    train_loss  test_loss    val_gap\n",
       "7      8  61402.945312    61421.0  18.054688"
      ]
     },
     "execution_count": 46,
     "metadata": {},
     "output_type": "execute_result"
    }
   ],
   "source": [
    "# since training and test loss converges, we will simply pick the point of convergence\n",
    "df_nn.sort_values(by=\"val_gap\", ascending=True).head(1)"
   ]
  },
  {
   "cell_type": "code",
   "execution_count": 47,
   "metadata": {},
   "outputs": [],
   "source": [
    "# because loss functions were converging, we will simply pick the smallest validation score gap\n",
    "# model is best trained at epoch 8\n",
    "### train loss of 61402.9\n",
    "### test loss of 61421.0"
   ]
  },
  {
   "cell_type": "markdown",
   "metadata": {},
   "source": [
    "#### FFNN - ridge regularisation"
   ]
  },
  {
   "cell_type": "code",
   "execution_count": 48,
   "metadata": {},
   "outputs": [
    {
     "name": "stdout",
     "output_type": "stream",
     "text": [
      "Epoch 1/50\n",
      "61/61 [==============================] - 1s 13ms/step - loss: 102712.9141 - mean_squared_error: 102712.8438 - val_loss: 98129.5000 - val_mean_squared_error: 98129.4531\n",
      "Epoch 2/50\n",
      "61/61 [==============================] - 1s 8ms/step - loss: 97953.4688 - mean_squared_error: 97953.3516 - val_loss: 90521.2109 - val_mean_squared_error: 90521.1016\n",
      "Epoch 3/50\n",
      "61/61 [==============================] - 1s 8ms/step - loss: 90802.9844 - mean_squared_error: 90802.8828 - val_loss: 84699.8672 - val_mean_squared_error: 84699.6953\n",
      "Epoch 4/50\n",
      "61/61 [==============================] - 0s 8ms/step - loss: 85069.2969 - mean_squared_error: 85069.1250 - val_loss: 79079.1172 - val_mean_squared_error: 79078.9141\n",
      "Epoch 5/50\n",
      "61/61 [==============================] - 0s 8ms/step - loss: 78699.2344 - mean_squared_error: 78698.9844 - val_loss: 73301.7969 - val_mean_squared_error: 73301.4922\n",
      "Epoch 6/50\n",
      "61/61 [==============================] - 1s 8ms/step - loss: 71931.0781 - mean_squared_error: 71930.7422 - val_loss: 67999.9375 - val_mean_squared_error: 67999.5703\n",
      "Epoch 7/50\n",
      "61/61 [==============================] - 1s 9ms/step - loss: 65759.8906 - mean_squared_error: 65759.4609 - val_loss: 64107.7031 - val_mean_squared_error: 64107.2266\n",
      "Epoch 8/50\n",
      "61/61 [==============================] - 0s 8ms/step - loss: 62016.1641 - mean_squared_error: 62015.6562 - val_loss: 61419.7031 - val_mean_squared_error: 61419.1719\n",
      "Epoch 9/50\n",
      "61/61 [==============================] - 0s 8ms/step - loss: 58845.6445 - mean_squared_error: 58845.0703 - val_loss: 59562.5898 - val_mean_squared_error: 59561.9805\n",
      "Epoch 10/50\n",
      "61/61 [==============================] - 1s 8ms/step - loss: 55516.5391 - mean_squared_error: 55515.9141 - val_loss: 58041.4336 - val_mean_squared_error: 58040.7734\n",
      "Epoch 11/50\n",
      "61/61 [==============================] - 1s 8ms/step - loss: 53343.7266 - mean_squared_error: 53343.0469 - val_loss: 57033.7188 - val_mean_squared_error: 57033.0430\n",
      "Epoch 12/50\n",
      "61/61 [==============================] - 0s 8ms/step - loss: 52078.4375 - mean_squared_error: 52077.7109 - val_loss: 56315.5547 - val_mean_squared_error: 56314.8008\n",
      "Epoch 13/50\n",
      "61/61 [==============================] - 1s 8ms/step - loss: 50472.2031 - mean_squared_error: 50471.4219 - val_loss: 55574.3047 - val_mean_squared_error: 55573.5117\n",
      "Epoch 14/50\n",
      "61/61 [==============================] - 1s 8ms/step - loss: 48527.0859 - mean_squared_error: 48526.2578 - val_loss: 54998.6367 - val_mean_squared_error: 54997.7656\n",
      "Epoch 15/50\n",
      "61/61 [==============================] - 1s 8ms/step - loss: 47560.5117 - mean_squared_error: 47559.6328 - val_loss: 54630.9062 - val_mean_squared_error: 54629.9961\n",
      "Epoch 16/50\n",
      "61/61 [==============================] - 1s 8ms/step - loss: 47334.0781 - mean_squared_error: 47333.1641 - val_loss: 54487.2617 - val_mean_squared_error: 54486.3242\n",
      "Epoch 17/50\n",
      "61/61 [==============================] - 1s 9ms/step - loss: 45230.3594 - mean_squared_error: 45229.3906 - val_loss: 54136.1953 - val_mean_squared_error: 54135.2031\n",
      "Epoch 18/50\n",
      "61/61 [==============================] - 0s 8ms/step - loss: 44169.4648 - mean_squared_error: 44168.4492 - val_loss: 53881.7461 - val_mean_squared_error: 53880.6992\n",
      "Epoch 19/50\n",
      "61/61 [==============================] - 0s 8ms/step - loss: 43748.3672 - mean_squared_error: 43747.3008 - val_loss: 53601.2852 - val_mean_squared_error: 53600.2109\n",
      "Epoch 20/50\n",
      "61/61 [==============================] - 0s 8ms/step - loss: 43282.8594 - mean_squared_error: 43281.7695 - val_loss: 53569.1172 - val_mean_squared_error: 53568.0156\n",
      "Epoch 21/50\n",
      "61/61 [==============================] - 0s 8ms/step - loss: 40746.3789 - mean_squared_error: 40745.2539 - val_loss: 53485.6680 - val_mean_squared_error: 53484.5195\n",
      "Epoch 22/50\n",
      "61/61 [==============================] - 1s 8ms/step - loss: 41683.5195 - mean_squared_error: 41682.3359 - val_loss: 53250.4492 - val_mean_squared_error: 53249.2539\n",
      "Epoch 23/50\n",
      "61/61 [==============================] - 1s 8ms/step - loss: 39470.4844 - mean_squared_error: 39469.2539 - val_loss: 53059.7852 - val_mean_squared_error: 53058.5430\n",
      "Epoch 24/50\n",
      "61/61 [==============================] - 1s 9ms/step - loss: 39267.4141 - mean_squared_error: 39266.1562 - val_loss: 53014.8594 - val_mean_squared_error: 53013.5781\n",
      "Epoch 25/50\n",
      "61/61 [==============================] - 1s 8ms/step - loss: 37935.7422 - mean_squared_error: 37934.4336 - val_loss: 53039.0391 - val_mean_squared_error: 53037.7188\n",
      "Epoch 26/50\n",
      "61/61 [==============================] - 0s 8ms/step - loss: 38548.7266 - mean_squared_error: 38547.3906 - val_loss: 52832.4531 - val_mean_squared_error: 52831.1094\n",
      "Epoch 27/50\n",
      "61/61 [==============================] - 0s 8ms/step - loss: 36850.8359 - mean_squared_error: 36849.4492 - val_loss: 52905.5273 - val_mean_squared_error: 52904.1250\n",
      "Epoch 28/50\n",
      "61/61 [==============================] - 0s 8ms/step - loss: 35226.8047 - mean_squared_error: 35225.3750 - val_loss: 52886.7539 - val_mean_squared_error: 52885.3086\n",
      "Epoch 29/50\n",
      "61/61 [==============================] - 1s 8ms/step - loss: 37863.7500 - mean_squared_error: 37862.2773 - val_loss: 52512.2852 - val_mean_squared_error: 52510.7812\n",
      "Epoch 30/50\n",
      "61/61 [==============================] - 1s 8ms/step - loss: 35330.2109 - mean_squared_error: 35328.7031 - val_loss: 52633.5391 - val_mean_squared_error: 52631.9961\n",
      "Epoch 31/50\n",
      "61/61 [==============================] - 0s 8ms/step - loss: 32046.8926 - mean_squared_error: 32045.3535 - val_loss: 52695.9180 - val_mean_squared_error: 52694.3242\n",
      "Epoch 32/50\n",
      "61/61 [==============================] - 1s 8ms/step - loss: 31473.7812 - mean_squared_error: 31472.1797 - val_loss: 52910.0859 - val_mean_squared_error: 52908.4609\n",
      "Epoch 33/50\n",
      "61/61 [==============================] - 0s 8ms/step - loss: 30927.9121 - mean_squared_error: 30926.2637 - val_loss: 52675.4141 - val_mean_squared_error: 52673.7266\n",
      "Epoch 34/50\n",
      "61/61 [==============================] - 0s 8ms/step - loss: 31473.4688 - mean_squared_error: 31471.7852 - val_loss: 52784.5781 - val_mean_squared_error: 52782.8516\n",
      "Epoch 35/50\n",
      "61/61 [==============================] - 0s 8ms/step - loss: 30223.7090 - mean_squared_error: 30221.9688 - val_loss: 52742.4961 - val_mean_squared_error: 52740.7344\n",
      "Epoch 36/50\n",
      "61/61 [==============================] - 0s 8ms/step - loss: 29061.6621 - mean_squared_error: 29059.8965 - val_loss: 52887.6602 - val_mean_squared_error: 52885.8633\n",
      "Epoch 37/50\n",
      "61/61 [==============================] - 1s 9ms/step - loss: 29099.7461 - mean_squared_error: 29097.9277 - val_loss: 52840.8594 - val_mean_squared_error: 52839.0234\n",
      "Epoch 38/50\n",
      "61/61 [==============================] - 1s 9ms/step - loss: 28719.4922 - mean_squared_error: 28717.6328 - val_loss: 53156.5977 - val_mean_squared_error: 53154.7070\n",
      "Epoch 39/50\n",
      "61/61 [==============================] - 1s 9ms/step - loss: 28729.5723 - mean_squared_error: 28727.6699 - val_loss: 53133.9492 - val_mean_squared_error: 53132.0352\n",
      "Epoch 40/50\n",
      "61/61 [==============================] - 1s 9ms/step - loss: 28765.4453 - mean_squared_error: 28763.5059 - val_loss: 53484.9258 - val_mean_squared_error: 53482.9727\n",
      "Epoch 41/50\n",
      "61/61 [==============================] - 1s 9ms/step - loss: 29713.8555 - mean_squared_error: 29711.8789 - val_loss: 53131.2188 - val_mean_squared_error: 53129.1992\n",
      "Epoch 42/50\n",
      "61/61 [==============================] - 1s 9ms/step - loss: 27343.6621 - mean_squared_error: 27341.6367 - val_loss: 53624.7578 - val_mean_squared_error: 53622.7148\n",
      "Epoch 43/50\n",
      "61/61 [==============================] - 1s 9ms/step - loss: 25238.4043 - mean_squared_error: 25236.3438 - val_loss: 53927.5195 - val_mean_squared_error: 53925.4336\n",
      "Epoch 44/50\n",
      "61/61 [==============================] - 1s 9ms/step - loss: 25564.0918 - mean_squared_error: 25561.9883 - val_loss: 53781.6836 - val_mean_squared_error: 53779.5625\n",
      "Epoch 45/50\n",
      "61/61 [==============================] - 1s 9ms/step - loss: 25158.7871 - mean_squared_error: 25156.6484 - val_loss: 53794.3672 - val_mean_squared_error: 53792.2148\n",
      "Epoch 46/50\n",
      "61/61 [==============================] - 1s 9ms/step - loss: 23245.2754 - mean_squared_error: 23243.0684 - val_loss: 53832.3711 - val_mean_squared_error: 53830.1445\n",
      "Epoch 47/50\n",
      "61/61 [==============================] - 1s 9ms/step - loss: 22276.3301 - mean_squared_error: 22274.0879 - val_loss: 54081.1875 - val_mean_squared_error: 54078.9297\n",
      "Epoch 48/50\n",
      "61/61 [==============================] - 1s 9ms/step - loss: 25222.6074 - mean_squared_error: 25220.3262 - val_loss: 54220.9062 - val_mean_squared_error: 54218.6211\n",
      "Epoch 49/50\n",
      "61/61 [==============================] - 1s 9ms/step - loss: 23042.8457 - mean_squared_error: 23040.5410 - val_loss: 54212.5547 - val_mean_squared_error: 54210.2461\n",
      "Epoch 50/50\n",
      "61/61 [==============================] - 1s 9ms/step - loss: 21985.8789 - mean_squared_error: 21983.5410 - val_loss: 54313.2148 - val_mean_squared_error: 54310.8594\n",
      "Wall time: 27.2 s\n"
     ]
    }
   ],
   "source": [
    "%%time\n",
    "# create model\n",
    "model = Sequential()\n",
    "model.add(Dense(128, input_dim=X_train_tvec_dumm.shape[1], activation='relu'))\n",
    "model.add(Dropout(0.2))\n",
    "model.add(Dense(32, activation='relu', kernel_regularizer=regularizers.l2(0.001))) # add ridge regularisation\n",
    "model.add(Dropout(0.2))\n",
    "model.add(Dense(1, activation='linear'))\n",
    "\n",
    "# compile and fit model\n",
    "model.compile(loss=\"mean_squared_error\", optimizer=Adam(), metrics=[\"mean_squared_error\"])\n",
    "# early_stop = EarlyStopping(monitor='val_loss', min_delta=0, patience=10, verbose=1, mode='auto')\n",
    "history_nn_ridge = model.fit(X_train_tvec_dumm, y_train,\n",
    "                             epochs=50, batch_size=200, verbose=1, #callbacks=[early_stop],\n",
    "                             validation_data=(X_unseen_tvec_dumm, y_unseen))"
   ]
  },
  {
   "cell_type": "code",
   "execution_count": 49,
   "metadata": {},
   "outputs": [
    {
     "data": {
      "image/png": "[encoded data removed]",
      "text/plain": [
       "<Figure size 432x288 with 1 Axes>"
      ]
     },
     "metadata": {
      "image/png": {
       "height": 244,
       "width": 431
      },
      "needs_background": "light"
     },
     "output_type": "display_data"
    }
   ],
   "source": [
    "plt.plot(history_nn_ridge.history['loss'], label='Train loss')\n",
    "plt.plot(history_nn_ridge.history['val_loss'], label='Test loss')\n",
    "plt.legend();"
   ]
  },
  {
   "cell_type": "code",
   "execution_count": 50,
   "metadata": {},
   "outputs": [
    {
     "data": {
      "text/html": [
       "<div>\n",
       "<style scoped>\n",
       "    .dataframe tbody tr th:only-of-type {\n",
       "        vertical-align: middle;\n",
       "    }\n",
       "\n",
       "    .dataframe tbody tr th {\n",
       "        vertical-align: top;\n",
       "    }\n",
       "\n",
       "    .dataframe thead th {\n",
       "        text-align: right;\n",
       "    }\n",
       "</style>\n",
       "<table border=\"1\" class=\"dataframe\">\n",
       "  <thead>\n",
       "    <tr style=\"text-align: right;\">\n",
       "      <th></th>\n",
       "      <th>epoch</th>\n",
       "      <th>train_loss</th>\n",
       "      <th>test_loss</th>\n",
       "      <th>val_gap</th>\n",
       "    </tr>\n",
       "  </thead>\n",
       "  <tbody>\n",
       "    <tr>\n",
       "      <th>0</th>\n",
       "      <td>1</td>\n",
       "      <td>102712.914062</td>\n",
       "      <td>98129.500000</td>\n",
       "      <td>4583.414062</td>\n",
       "    </tr>\n",
       "    <tr>\n",
       "      <th>1</th>\n",
       "      <td>2</td>\n",
       "      <td>97953.468750</td>\n",
       "      <td>90521.210938</td>\n",
       "      <td>7432.257812</td>\n",
       "    </tr>\n",
       "    <tr>\n",
       "      <th>2</th>\n",
       "      <td>3</td>\n",
       "      <td>90802.984375</td>\n",
       "      <td>84699.867188</td>\n",
       "      <td>6103.117188</td>\n",
       "    </tr>\n",
       "  </tbody>\n",
       "</table>\n",
       "</div>"
      ],
      "text/plain": [
       "   epoch     train_loss     test_loss      val_gap\n",
       "0      1  102712.914062  98129.500000  4583.414062\n",
       "1      2   97953.468750  90521.210938  7432.257812\n",
       "2      3   90802.984375  84699.867188  6103.117188"
      ]
     },
     "execution_count": 50,
     "metadata": {},
     "output_type": "execute_result"
    }
   ],
   "source": [
    "df_nn_ridge = pd.DataFrame(zip(list(range(1,100)), history_nn_ridge.history['loss'], history_nn_ridge.history['val_loss']),\n",
    "                       columns=[\"epoch\", \"train_loss\", \"test_loss\"])\n",
    "df_nn_ridge[\"val_gap\"] = abs(df_nn_ridge[\"train_loss\"] - df_nn_ridge[\"test_loss\"])\n",
    "df_nn_ridge.head(3)"
   ]
  },
  {
   "cell_type": "code",
   "execution_count": 51,
   "metadata": {},
   "outputs": [
    {
     "data": {
      "text/html": [
       "<div>\n",
       "<style scoped>\n",
       "    .dataframe tbody tr th:only-of-type {\n",
       "        vertical-align: middle;\n",
       "    }\n",
       "\n",
       "    .dataframe tbody tr th {\n",
       "        vertical-align: top;\n",
       "    }\n",
       "\n",
       "    .dataframe thead th {\n",
       "        text-align: right;\n",
       "    }\n",
       "</style>\n",
       "<table border=\"1\" class=\"dataframe\">\n",
       "  <thead>\n",
       "    <tr style=\"text-align: right;\">\n",
       "      <th></th>\n",
       "      <th>epoch</th>\n",
       "      <th>train_loss</th>\n",
       "      <th>test_loss</th>\n",
       "      <th>val_gap</th>\n",
       "    </tr>\n",
       "  </thead>\n",
       "  <tbody>\n",
       "    <tr>\n",
       "      <th>7</th>\n",
       "      <td>8</td>\n",
       "      <td>62016.164062</td>\n",
       "      <td>61419.703125</td>\n",
       "      <td>596.460938</td>\n",
       "    </tr>\n",
       "  </tbody>\n",
       "</table>\n",
       "</div>"
      ],
      "text/plain": [
       "   epoch    train_loss     test_loss     val_gap\n",
       "7      8  62016.164062  61419.703125  596.460938"
      ]
     },
     "execution_count": 51,
     "metadata": {},
     "output_type": "execute_result"
    }
   ],
   "source": [
    "# since training and test loss converges, we will simply pick the point of convergence\n",
    "df_nn_ridge.sort_values(by=\"val_gap\", ascending=True).head(1)"
   ]
  },
  {
   "cell_type": "code",
   "execution_count": 52,
   "metadata": {},
   "outputs": [],
   "source": [
    "# at point of convergence\n",
    "# mse similar as without regularisation"
   ]
  },
  {
   "cell_type": "markdown",
   "metadata": {},
   "source": [
    "#### FFNN - lasso regularisation"
   ]
  },
  {
   "cell_type": "code",
   "execution_count": 53,
   "metadata": {},
   "outputs": [
    {
     "name": "stdout",
     "output_type": "stream",
     "text": [
      "Epoch 1/50\n",
      "61/61 [==============================] - 1s 13ms/step - loss: 102659.5391 - mean_squared_error: 102659.1328 - val_loss: 98053.1250 - val_mean_squared_error: 98052.7109\n",
      "Epoch 2/50\n",
      "61/61 [==============================] - 1s 8ms/step - loss: 97924.3281 - mean_squared_error: 97923.8438 - val_loss: 90499.4766 - val_mean_squared_error: 90498.9453\n",
      "Epoch 3/50\n",
      "61/61 [==============================] - 1s 9ms/step - loss: 90953.5000 - mean_squared_error: 90952.9297 - val_loss: 84771.4297 - val_mean_squared_error: 84770.7969\n",
      "Epoch 4/50\n",
      "61/61 [==============================] - 1s 8ms/step - loss: 84955.0312 - mean_squared_error: 84954.3438 - val_loss: 79174.1953 - val_mean_squared_error: 79173.4531\n",
      "Epoch 5/50\n",
      "61/61 [==============================] - 1s 9ms/step - loss: 78103.6641 - mean_squared_error: 78102.8359 - val_loss: 73039.6094 - val_mean_squared_error: 73038.7344\n",
      "Epoch 6/50\n",
      "61/61 [==============================] - 0s 8ms/step - loss: 71622.6641 - mean_squared_error: 71621.7031 - val_loss: 67721.6484 - val_mean_squared_error: 67720.6328\n",
      "Epoch 7/50\n",
      "61/61 [==============================] - 0s 8ms/step - loss: 65563.4922 - mean_squared_error: 65562.4375 - val_loss: 63880.5391 - val_mean_squared_error: 63879.4336\n",
      "Epoch 8/50\n",
      "61/61 [==============================] - 0s 8ms/step - loss: 61800.6289 - mean_squared_error: 61799.4883 - val_loss: 61259.3672 - val_mean_squared_error: 61258.1914\n",
      "Epoch 9/50\n",
      "61/61 [==============================] - 0s 8ms/step - loss: 58457.6836 - mean_squared_error: 58456.4609 - val_loss: 59421.5820 - val_mean_squared_error: 59420.3438\n",
      "Epoch 10/50\n",
      "61/61 [==============================] - 1s 8ms/step - loss: 55581.8516 - mean_squared_error: 55580.5742 - val_loss: 58036.3320 - val_mean_squared_error: 58035.0391\n",
      "Epoch 11/50\n",
      "61/61 [==============================] - 1s 9ms/step - loss: 54001.5352 - mean_squared_error: 54000.2109 - val_loss: 57214.2109 - val_mean_squared_error: 57212.8555\n",
      "Epoch 12/50\n",
      "61/61 [==============================] - 1s 8ms/step - loss: 51847.9961 - mean_squared_error: 51846.6406 - val_loss: 56362.8516 - val_mean_squared_error: 56361.4727\n",
      "Epoch 13/50\n",
      "61/61 [==============================] - 0s 8ms/step - loss: 50254.4922 - mean_squared_error: 50253.0938 - val_loss: 55906.5273 - val_mean_squared_error: 55905.0938\n",
      "Epoch 14/50\n",
      "61/61 [==============================] - 0s 8ms/step - loss: 48963.5742 - mean_squared_error: 48962.1406 - val_loss: 55448.9922 - val_mean_squared_error: 55447.5312\n",
      "Epoch 15/50\n",
      "61/61 [==============================] - 1s 9ms/step - loss: 47337.4180 - mean_squared_error: 47335.9375 - val_loss: 55106.1406 - val_mean_squared_error: 55104.6367\n",
      "Epoch 16/50\n",
      "61/61 [==============================] - 1s 8ms/step - loss: 45853.1445 - mean_squared_error: 45851.6484 - val_loss: 54882.9180 - val_mean_squared_error: 54881.3945\n",
      "Epoch 17/50\n",
      "61/61 [==============================] - 1s 8ms/step - loss: 46240.2031 - mean_squared_error: 46238.6719 - val_loss: 54598.9414 - val_mean_squared_error: 54597.4141\n",
      "Epoch 18/50\n",
      "61/61 [==============================] - 1s 8ms/step - loss: 45888.8203 - mean_squared_error: 45887.2578 - val_loss: 54413.8281 - val_mean_squared_error: 54412.2891\n",
      "Epoch 19/50\n",
      "61/61 [==============================] - 0s 8ms/step - loss: 43325.4492 - mean_squared_error: 43323.8828 - val_loss: 54357.7695 - val_mean_squared_error: 54356.1875\n",
      "Epoch 20/50\n",
      "61/61 [==============================] - 0s 8ms/step - loss: 41200.7109 - mean_squared_error: 41199.1211 - val_loss: 54262.6523 - val_mean_squared_error: 54261.0469\n",
      "Epoch 21/50\n",
      "61/61 [==============================] - 0s 8ms/step - loss: 40725.3281 - mean_squared_error: 40723.6992 - val_loss: 54137.0859 - val_mean_squared_error: 54135.4648\n",
      "Epoch 22/50\n",
      "61/61 [==============================] - 1s 9ms/step - loss: 40594.8438 - mean_squared_error: 40593.2031 - val_loss: 54038.1328 - val_mean_squared_error: 54036.4844\n",
      "Epoch 23/50\n",
      "61/61 [==============================] - 1s 8ms/step - loss: 40650.7539 - mean_squared_error: 40649.0977 - val_loss: 53938.8242 - val_mean_squared_error: 53937.1602\n",
      "Epoch 24/50\n",
      "61/61 [==============================] - 0s 8ms/step - loss: 40292.5859 - mean_squared_error: 40290.9023 - val_loss: 54049.2891 - val_mean_squared_error: 54047.6055\n",
      "Epoch 25/50\n",
      "61/61 [==============================] - 1s 8ms/step - loss: 37993.9258 - mean_squared_error: 37992.2227 - val_loss: 54074.9141 - val_mean_squared_error: 54073.1797\n",
      "Epoch 26/50\n",
      "61/61 [==============================] - 1s 9ms/step - loss: 37088.6562 - mean_squared_error: 37086.9375 - val_loss: 54233.7891 - val_mean_squared_error: 54232.0547\n",
      "Epoch 27/50\n",
      "61/61 [==============================] - 1s 9ms/step - loss: 36483.5938 - mean_squared_error: 36481.8477 - val_loss: 53984.8438 - val_mean_squared_error: 53983.0820\n",
      "Epoch 28/50\n",
      "61/61 [==============================] - 1s 9ms/step - loss: 36639.4961 - mean_squared_error: 36637.7227 - val_loss: 54125.8750 - val_mean_squared_error: 54124.0898\n",
      "Epoch 29/50\n",
      "61/61 [==============================] - 0s 8ms/step - loss: 35833.0898 - mean_squared_error: 35831.2969 - val_loss: 53942.9219 - val_mean_squared_error: 53941.1211\n",
      "Epoch 30/50\n",
      "61/61 [==============================] - 1s 8ms/step - loss: 35153.9648 - mean_squared_error: 35152.1641 - val_loss: 54142.9102 - val_mean_squared_error: 54141.0938\n",
      "Epoch 31/50\n",
      "61/61 [==============================] - 0s 8ms/step - loss: 32709.5586 - mean_squared_error: 32707.7266 - val_loss: 54395.3906 - val_mean_squared_error: 54393.5508\n",
      "Epoch 32/50\n",
      "61/61 [==============================] - 1s 8ms/step - loss: 32607.7012 - mean_squared_error: 32605.8418 - val_loss: 53985.0625 - val_mean_squared_error: 53983.2070\n",
      "Epoch 33/50\n",
      "61/61 [==============================] - 1s 9ms/step - loss: 32011.8203 - mean_squared_error: 32009.9609 - val_loss: 54368.9336 - val_mean_squared_error: 54367.0703\n",
      "Epoch 34/50\n",
      "61/61 [==============================] - 1s 8ms/step - loss: 32892.6641 - mean_squared_error: 32890.7695 - val_loss: 54291.1680 - val_mean_squared_error: 54289.2695\n",
      "Epoch 35/50\n",
      "61/61 [==============================] - 1s 9ms/step - loss: 32555.8418 - mean_squared_error: 32553.9316 - val_loss: 54513.7500 - val_mean_squared_error: 54511.8320\n",
      "Epoch 36/50\n",
      "61/61 [==============================] - 1s 8ms/step - loss: 31485.3418 - mean_squared_error: 31483.4199 - val_loss: 54575.9062 - val_mean_squared_error: 54573.9688\n",
      "Epoch 37/50\n",
      "61/61 [==============================] - 1s 8ms/step - loss: 31700.9238 - mean_squared_error: 31698.9805 - val_loss: 54367.7422 - val_mean_squared_error: 54365.7969\n",
      "Epoch 38/50\n",
      "61/61 [==============================] - 1s 10ms/step - loss: 31666.9062 - mean_squared_error: 31664.9590 - val_loss: 54677.0664 - val_mean_squared_error: 54675.1055\n",
      "Epoch 39/50\n",
      "61/61 [==============================] - 1s 9ms/step - loss: 29404.8633 - mean_squared_error: 29402.8828 - val_loss: 54685.4453 - val_mean_squared_error: 54683.4727\n",
      "Epoch 40/50\n",
      "61/61 [==============================] - 1s 9ms/step - loss: 27609.0742 - mean_squared_error: 27607.0820 - val_loss: 55067.3398 - val_mean_squared_error: 55065.3320\n",
      "Epoch 41/50\n",
      "61/61 [==============================] - 1s 9ms/step - loss: 29870.0098 - mean_squared_error: 29868.0059 - val_loss: 55175.3438 - val_mean_squared_error: 55173.3086\n",
      "Epoch 42/50\n",
      "61/61 [==============================] - 1s 9ms/step - loss: 27227.9570 - mean_squared_error: 27225.9316 - val_loss: 55340.0078 - val_mean_squared_error: 55337.9805\n",
      "Epoch 43/50\n",
      "61/61 [==============================] - 1s 9ms/step - loss: 26210.3105 - mean_squared_error: 26208.2695 - val_loss: 55154.9414 - val_mean_squared_error: 55152.9062\n",
      "Epoch 44/50\n",
      "61/61 [==============================] - 1s 9ms/step - loss: 24928.6172 - mean_squared_error: 24926.5527 - val_loss: 55207.7695 - val_mean_squared_error: 55205.6992\n",
      "Epoch 45/50\n",
      "61/61 [==============================] - 1s 9ms/step - loss: 24929.6816 - mean_squared_error: 24927.5996 - val_loss: 54826.3320 - val_mean_squared_error: 54824.2578\n",
      "Epoch 46/50\n",
      "61/61 [==============================] - 1s 9ms/step - loss: 26980.2285 - mean_squared_error: 26978.1387 - val_loss: 55220.6289 - val_mean_squared_error: 55218.5273\n",
      "Epoch 47/50\n",
      "61/61 [==============================] - 1s 9ms/step - loss: 25253.1914 - mean_squared_error: 25251.0859 - val_loss: 55130.7461 - val_mean_squared_error: 55128.6328\n",
      "Epoch 48/50\n",
      "61/61 [==============================] - 1s 10ms/step - loss: 25528.2891 - mean_squared_error: 25526.1602 - val_loss: 55762.5781 - val_mean_squared_error: 55760.4258\n",
      "Epoch 49/50\n",
      "61/61 [==============================] - 1s 9ms/step - loss: 24564.7910 - mean_squared_error: 24562.6465 - val_loss: 55759.5664 - val_mean_squared_error: 55757.4141\n",
      "Epoch 50/50\n",
      "61/61 [==============================] - 1s 10ms/step - loss: 25344.7910 - mean_squared_error: 25342.6289 - val_loss: 55887.1719 - val_mean_squared_error: 55885.0039\n",
      "Wall time: 27.7 s\n"
     ]
    }
   ],
   "source": [
    "%%time\n",
    "# create model\n",
    "model = Sequential()\n",
    "model.add(Dense(128, input_dim=X_train_tvec_dumm.shape[1], activation='relu'))\n",
    "model.add(Dropout(0.2))\n",
    "model.add(Dense(32, activation='relu', kernel_regularizer=regularizers.l1(0.001))) # add ridge regularisation\n",
    "model.add(Dropout(0.2))\n",
    "model.add(Dense(1, activation='linear'))\n",
    "\n",
    "# compile and fit model\n",
    "model.compile(loss=\"mean_squared_error\", optimizer=Adam(), metrics=[\"mean_squared_error\"])\n",
    "# early_stop = EarlyStopping(monitor='val_loss', min_delta=0, patience=10, verbose=1, mode='auto')\n",
    "history_nn_lasso = model.fit(X_train_tvec_dumm, y_train,\n",
    "                             epochs=50, batch_size=200, verbose=1, #callbacks=[early_stop],\n",
    "                             validation_data=(X_unseen_tvec_dumm, y_unseen))"
   ]
  },
  {
   "cell_type": "code",
   "execution_count": 54,
   "metadata": {},
   "outputs": [
    {
     "data": {
      "image/png": "[encoded data removed]",
      "text/plain": [
       "<Figure size 432x288 with 1 Axes>"
      ]
     },
     "metadata": {
      "image/png": {
       "height": 244,
       "width": 431
      },
      "needs_background": "light"
     },
     "output_type": "display_data"
    }
   ],
   "source": [
    "plt.plot(history_nn_lasso.history['loss'], label='Train loss')\n",
    "plt.plot(history_nn_lasso.history['val_loss'], label='Test loss')\n",
    "plt.legend();"
   ]
  },
  {
   "cell_type": "code",
   "execution_count": 55,
   "metadata": {},
   "outputs": [
    {
     "data": {
      "text/html": [
       "<div>\n",
       "<style scoped>\n",
       "    .dataframe tbody tr th:only-of-type {\n",
       "        vertical-align: middle;\n",
       "    }\n",
       "\n",
       "    .dataframe tbody tr th {\n",
       "        vertical-align: top;\n",
       "    }\n",
       "\n",
       "    .dataframe thead th {\n",
       "        text-align: right;\n",
       "    }\n",
       "</style>\n",
       "<table border=\"1\" class=\"dataframe\">\n",
       "  <thead>\n",
       "    <tr style=\"text-align: right;\">\n",
       "      <th></th>\n",
       "      <th>epoch</th>\n",
       "      <th>train_loss</th>\n",
       "      <th>test_loss</th>\n",
       "      <th>val_gap</th>\n",
       "    </tr>\n",
       "  </thead>\n",
       "  <tbody>\n",
       "    <tr>\n",
       "      <th>0</th>\n",
       "      <td>1</td>\n",
       "      <td>102659.539062</td>\n",
       "      <td>98053.125000</td>\n",
       "      <td>4606.414062</td>\n",
       "    </tr>\n",
       "    <tr>\n",
       "      <th>1</th>\n",
       "      <td>2</td>\n",
       "      <td>97924.328125</td>\n",
       "      <td>90499.476562</td>\n",
       "      <td>7424.851562</td>\n",
       "    </tr>\n",
       "    <tr>\n",
       "      <th>2</th>\n",
       "      <td>3</td>\n",
       "      <td>90953.500000</td>\n",
       "      <td>84771.429688</td>\n",
       "      <td>6182.070312</td>\n",
       "    </tr>\n",
       "  </tbody>\n",
       "</table>\n",
       "</div>"
      ],
      "text/plain": [
       "   epoch     train_loss     test_loss      val_gap\n",
       "0      1  102659.539062  98053.125000  4606.414062\n",
       "1      2   97924.328125  90499.476562  7424.851562\n",
       "2      3   90953.500000  84771.429688  6182.070312"
      ]
     },
     "execution_count": 55,
     "metadata": {},
     "output_type": "execute_result"
    }
   ],
   "source": [
    "df_nn_lasso = pd.DataFrame(zip(list(range(1,100)), history_nn_lasso.history['loss'], history_nn_lasso.history['val_loss']),\n",
    "                       columns=[\"epoch\", \"train_loss\", \"test_loss\"])\n",
    "df_nn_lasso[\"val_gap\"] = abs(df_nn_lasso[\"train_loss\"] - df_nn_lasso[\"test_loss\"])\n",
    "df_nn_lasso.head(3)"
   ]
  },
  {
   "cell_type": "code",
   "execution_count": 56,
   "metadata": {},
   "outputs": [
    {
     "data": {
      "text/html": [
       "<div>\n",
       "<style scoped>\n",
       "    .dataframe tbody tr th:only-of-type {\n",
       "        vertical-align: middle;\n",
       "    }\n",
       "\n",
       "    .dataframe tbody tr th {\n",
       "        vertical-align: top;\n",
       "    }\n",
       "\n",
       "    .dataframe thead th {\n",
       "        text-align: right;\n",
       "    }\n",
       "</style>\n",
       "<table border=\"1\" class=\"dataframe\">\n",
       "  <thead>\n",
       "    <tr style=\"text-align: right;\">\n",
       "      <th></th>\n",
       "      <th>epoch</th>\n",
       "      <th>train_loss</th>\n",
       "      <th>test_loss</th>\n",
       "      <th>val_gap</th>\n",
       "    </tr>\n",
       "  </thead>\n",
       "  <tbody>\n",
       "    <tr>\n",
       "      <th>7</th>\n",
       "      <td>8</td>\n",
       "      <td>61800.628906</td>\n",
       "      <td>61259.367188</td>\n",
       "      <td>541.261719</td>\n",
       "    </tr>\n",
       "  </tbody>\n",
       "</table>\n",
       "</div>"
      ],
      "text/plain": [
       "   epoch    train_loss     test_loss     val_gap\n",
       "7      8  61800.628906  61259.367188  541.261719"
      ]
     },
     "execution_count": 56,
     "metadata": {},
     "output_type": "execute_result"
    }
   ],
   "source": [
    "df_nn_lasso.sort_values(by=\"val_gap\", ascending=True).head(1)"
   ]
  },
  {
   "cell_type": "code",
   "execution_count": null,
   "metadata": {},
   "outputs": [],
   "source": [
    "# at point of convergence\n",
    "# mse similar as without regularisation"
   ]
  },
  {
   "cell_type": "markdown",
   "metadata": {},
   "source": [
    "#### Prep for RNN models"
   ]
  },
  {
   "cell_type": "code",
   "execution_count": 10,
   "metadata": {},
   "outputs": [
    {
     "data": {
      "text/plain": [
       "(12088, 2)"
      ]
     },
     "execution_count": 10,
     "metadata": {},
     "output_type": "execute_result"
    }
   ],
   "source": [
    "X_train.shape"
   ]
  },
  {
   "cell_type": "code",
   "execution_count": 11,
   "metadata": {},
   "outputs": [
    {
     "data": {
      "text/html": [
       "<div>\n",
       "<style scoped>\n",
       "    .dataframe tbody tr th:only-of-type {\n",
       "        vertical-align: middle;\n",
       "    }\n",
       "\n",
       "    .dataframe tbody tr th {\n",
       "        vertical-align: top;\n",
       "    }\n",
       "\n",
       "    .dataframe thead th {\n",
       "        text-align: right;\n",
       "    }\n",
       "</style>\n",
       "<table border=\"1\" class=\"dataframe\">\n",
       "  <thead>\n",
       "    <tr style=\"text-align: right;\">\n",
       "      <th></th>\n",
       "      <th>content</th>\n",
       "      <th>platform</th>\n",
       "    </tr>\n",
       "  </thead>\n",
       "  <tbody>\n",
       "    <tr>\n",
       "      <th>3798</th>\n",
       "      <td>palawan beach another sentosa famous beaches t...</td>\n",
       "      <td>Instagram Posts</td>\n",
       "    </tr>\n",
       "    <tr>\n",
       "      <th>3608</th>\n",
       "      <td>halfday trip pulau hantu nautical miles south</td>\n",
       "      <td>Instagram Posts</td>\n",
       "    </tr>\n",
       "    <tr>\n",
       "      <th>6461</th>\n",
       "      <td>end beautiful lasted sky cloud twilight outdoor</td>\n",
       "      <td>Instagram Posts</td>\n",
       "    </tr>\n",
       "  </tbody>\n",
       "</table>\n",
       "</div>"
      ],
      "text/plain": [
       "                                                content         platform\n",
       "3798  palawan beach another sentosa famous beaches t...  Instagram Posts\n",
       "3608      halfday trip pulau hantu nautical miles south  Instagram Posts\n",
       "6461    end beautiful lasted sky cloud twilight outdoor  Instagram Posts"
      ]
     },
     "execution_count": 11,
     "metadata": {},
     "output_type": "execute_result"
    }
   ],
   "source": [
    "X_train.head(3)"
   ]
  },
  {
   "cell_type": "code",
   "execution_count": 12,
   "metadata": {},
   "outputs": [],
   "source": [
    "# for RNN, we need to pad the word features such that they are all the same length or input shape\n",
    "# let's prep our df for the RNN"
   ]
  },
  {
   "cell_type": "code",
   "execution_count": 13,
   "metadata": {},
   "outputs": [
    {
     "data": {
      "text/html": [
       "<div>\n",
       "<style scoped>\n",
       "    .dataframe tbody tr th:only-of-type {\n",
       "        vertical-align: middle;\n",
       "    }\n",
       "\n",
       "    .dataframe tbody tr th {\n",
       "        vertical-align: top;\n",
       "    }\n",
       "\n",
       "    .dataframe thead th {\n",
       "        text-align: right;\n",
       "    }\n",
       "</style>\n",
       "<table border=\"1\" class=\"dataframe\">\n",
       "  <thead>\n",
       "    <tr style=\"text-align: right;\">\n",
       "      <th></th>\n",
       "      <th>content</th>\n",
       "      <th>platform</th>\n",
       "    </tr>\n",
       "  </thead>\n",
       "  <tbody>\n",
       "    <tr>\n",
       "      <th>3798</th>\n",
       "      <td>palawan beach another sentosa famous beaches t...</td>\n",
       "      <td>Instagram Posts</td>\n",
       "    </tr>\n",
       "    <tr>\n",
       "      <th>3608</th>\n",
       "      <td>halfday trip pulau hantu nautical miles south</td>\n",
       "      <td>Instagram Posts</td>\n",
       "    </tr>\n",
       "    <tr>\n",
       "      <th>6461</th>\n",
       "      <td>end beautiful lasted sky cloud twilight outdoor</td>\n",
       "      <td>Instagram Posts</td>\n",
       "    </tr>\n",
       "  </tbody>\n",
       "</table>\n",
       "</div>"
      ],
      "text/plain": [
       "                                                content         platform\n",
       "3798  palawan beach another sentosa famous beaches t...  Instagram Posts\n",
       "3608      halfday trip pulau hantu nautical miles south  Instagram Posts\n",
       "6461    end beautiful lasted sky cloud twilight outdoor  Instagram Posts"
      ]
     },
     "execution_count": 13,
     "metadata": {},
     "output_type": "execute_result"
    }
   ],
   "source": [
    "# create a new df for RNN\n",
    "X_train_rnn = X_train.copy()\n",
    "X_train_rnn.head(3)"
   ]
  },
  {
   "cell_type": "code",
   "execution_count": 14,
   "metadata": {},
   "outputs": [
    {
     "data": {
      "text/plain": [
       "count    12088.000000\n",
       "mean        28.635754\n",
       "std         31.831721\n",
       "min          1.000000\n",
       "25%          8.000000\n",
       "50%         19.000000\n",
       "75%         38.000000\n",
       "max        415.000000\n",
       "Name: content, dtype: float64"
      ]
     },
     "execution_count": 14,
     "metadata": {},
     "output_type": "execute_result"
    }
   ],
   "source": [
    "X_train_rnn[\"content\"].str.split().str.len().describe() # overview of no. of words per doc"
   ]
  },
  {
   "cell_type": "code",
   "execution_count": 15,
   "metadata": {},
   "outputs": [
    {
     "data": {
      "image/png": "[encoded data removed]",
      "text/plain": [
       "<Figure size 432x288 with 1 Axes>"
      ]
     },
     "metadata": {
      "image/png": {
       "height": 244,
       "width": 412
      },
      "needs_background": "light"
     },
     "output_type": "display_data"
    }
   ],
   "source": [
    "X_train_rnn[\"content\"].str.split().str.len().plot(kind=\"box\");\n",
    "# based off boxplot\n",
    "# let's select max length of each string of words to be 100\n",
    "# this means our input size to the RNN will be 100 too"
   ]
  },
  {
   "cell_type": "code",
   "execution_count": 16,
   "metadata": {},
   "outputs": [
    {
     "data": {
      "text/plain": [
       "(12088, 35300)"
      ]
     },
     "execution_count": 16,
     "metadata": {},
     "output_type": "execute_result"
    }
   ],
   "source": [
    "cvec = CountVectorizer()\n",
    "X_train_rnn_cvec = cvec.fit_transform(X_train_rnn[\"content\"])\n",
    "X_train_rnn_cvec.shape # check total no. of unique words"
   ]
  },
  {
   "cell_type": "code",
   "execution_count": 17,
   "metadata": {},
   "outputs": [],
   "source": [
    "tokenizer = Tokenizer(num_words=X_train_rnn_cvec.shape[1]) # set max no. of word features\n",
    "tokenizer.fit_on_texts(X_train_rnn[\"content\"])"
   ]
  },
  {
   "cell_type": "code",
   "execution_count": 18,
   "metadata": {},
   "outputs": [
    {
     "data": {
      "text/plain": [
       "{\"'\": 1,\n",
       " 'singapore': 2,\n",
       " 'outdoor': 3,\n",
       " 'singaporediscovers': 4,\n",
       " 'visitsingapore': 5,\n",
       " 'whatissingapore': 6,\n",
       " 'instasg': 7,\n",
       " 'madaboutsingapore2020': 8,\n",
       " 'sky': 9,\n",
       " 'exploresingapore': 10,\n",
       " 'sgig': 11,\n",
       " 'iluvsg': 12,\n",
       " '2020': 13,\n",
       " 'yoursingapore': 14,\n",
       " 'rediscoversg': 15,\n",
       " '•': 16,\n",
       " 'singaporeinsiders': 17,\n",
       " 'one': 18,\n",
       " 'thisissingapore': 19,\n",
       " 'time': 20,\n",
       " 'exploresg': 21,\n",
       " 'new': 22,\n",
       " 'day': 23,\n",
       " 'igsg': 24,\n",
       " 'sg': 25,\n",
       " 'n': 26,\n",
       " 'night': 27,\n",
       " 'good': 28,\n",
       " 'food': 29,\n",
       " 'letsexploresg': 30,\n",
       " 'nature': 31,\n",
       " 'passionmadepossible': 32,\n",
       " 'get': 33,\n",
       " 'also': 34,\n",
       " 'kilogrammerz': 35,\n",
       " 'us': 36,\n",
       " 'singapoliday': 37,\n",
       " 'year': 38,\n",
       " 'whatmakessg': 39,\n",
       " 'cloud': 40,\n",
       " 'igsingapore': 41,\n",
       " 'water': 42,\n",
       " 'really': 43,\n",
       " 'madaboutsingapore2020c': 44,\n",
       " '\\u2063': 45,\n",
       " 'sgunited': 46,\n",
       " 'see': 47,\n",
       " 'streetphotography': 48,\n",
       " 'tree': 49,\n",
       " 'rediscoversingapore': 50,\n",
       " 'festival': 51,\n",
       " 'instagram': 52,\n",
       " 'chinese': 53,\n",
       " 'people': 54,\n",
       " \"'https\": 55,\n",
       " 'go': 56,\n",
       " 'plant': 57,\n",
       " 'life': 58,\n",
       " 'many': 59,\n",
       " 'video': 60,\n",
       " 'living': 61,\n",
       " 'great': 62,\n",
       " 'natgeoasia': 63,\n",
       " 'singaporean': 64,\n",
       " 'know': 65,\n",
       " 'singaporetoday': 66,\n",
       " 'travel': 67,\n",
       " 'com': 68,\n",
       " 'place': 69,\n",
       " 'would': 70,\n",
       " 'much': 71,\n",
       " 'first': 72,\n",
       " 'sgmemory': 73,\n",
       " 'happy': 74,\n",
       " 'discoversingapore': 75,\n",
       " '1': 76,\n",
       " 'visualambassadors': 77,\n",
       " 'street': 78,\n",
       " 'beautiful': 79,\n",
       " 'chinatown': 80,\n",
       " '2': 81,\n",
       " 'still': 82,\n",
       " 'always': 83,\n",
       " 'back': 84,\n",
       " 'u': 85,\n",
       " 'well': 86,\n",
       " 'even': 87,\n",
       " 'take': 88,\n",
       " 'sgarchitecture': 89,\n",
       " 'years': 90,\n",
       " 'nikonsg': 91,\n",
       " 'architecture': 92,\n",
       " 'home': 93,\n",
       " 'way': 94,\n",
       " 'road': 95,\n",
       " 'use': 96,\n",
       " 'singaporeforeveryone': 97,\n",
       " 'travelphotography': 98,\n",
       " 'singaporetimes': 99,\n",
       " 'old': 100,\n",
       " 'singaporeinsta': 101,\n",
       " 'exploringsingapore': 102,\n",
       " 'make': 103,\n",
       " \"i'm\": 104,\n",
       " 'last': 105,\n",
       " 'around': 106,\n",
       " 'park': 107,\n",
       " 'it’s': 108,\n",
       " 'bay': 109,\n",
       " 'weekend': 110,\n",
       " 'temple': 111,\n",
       " 'think': 112,\n",
       " '3': 113,\n",
       " 'photography': 114,\n",
       " 'stay': 115,\n",
       " 'best': 116,\n",
       " 'fun': 117,\n",
       " 'little': 118,\n",
       " 'passionpassport': 119,\n",
       " 'local': 120,\n",
       " 'singaporeworld': 121,\n",
       " 'sg50': 122,\n",
       " 'camera': 123,\n",
       " 'japanese': 124,\n",
       " 'communityfirst': 125,\n",
       " 'enjoy': 126,\n",
       " 'interestingsingapore': 127,\n",
       " 'things': 128,\n",
       " 'videos': 129,\n",
       " 'thank': 130,\n",
       " 'look': 131,\n",
       " 'shotoniphone': 132,\n",
       " 'heritage': 133,\n",
       " 'long': 134,\n",
       " '10': 135,\n",
       " 'try': 136,\n",
       " 'come': 137,\n",
       " 'artofvisuals': 138,\n",
       " 'find': 139,\n",
       " 'citygrammers': 140,\n",
       " 'today': 141,\n",
       " 'singaporelife': 142,\n",
       " 'madaboutsingapore': 143,\n",
       " 'work': 144,\n",
       " 'light': 145,\n",
       " 'agameoftones': 146,\n",
       " 'rediscoveringsingapore': 147,\n",
       " 'www': 148,\n",
       " 'live': 149,\n",
       " 'part': 150,\n",
       " 'sgheritage': 151,\n",
       " 'tslfeatures': 152,\n",
       " 'thanks': 153,\n",
       " 'visit': 154,\n",
       " 'culture': 155,\n",
       " 'used': 156,\n",
       " 'instagramsg': 157,\n",
       " 'singaporetourism': 158,\n",
       " 'art': 159,\n",
       " 'national': 160,\n",
       " 'uniquelysingapore': 161,\n",
       " 'every': 162,\n",
       " 'never': 163,\n",
       " 'ghib': 164,\n",
       " 'next': 165,\n",
       " 'topsgshots': 166,\n",
       " 'friends': 167,\n",
       " 'sonysingapore': 168,\n",
       " 'need': 169,\n",
       " 'house': 170,\n",
       " 'singaporeans': 171,\n",
       " 'marina': 172,\n",
       " 'city': 173,\n",
       " 'keep': 174,\n",
       " 'singaporephotography': 175,\n",
       " 'got': 176,\n",
       " 'says': 177,\n",
       " 'world': 178,\n",
       " 'wearesingapore': 179,\n",
       " 'fireworks': 180,\n",
       " 'free': 181,\n",
       " 'indoor': 182,\n",
       " 'moodygrams': 183,\n",
       " 'to': 184,\n",
       " 'different': 185,\n",
       " 'may': 186,\n",
       " 'bridge': 187,\n",
       " 'right': 188,\n",
       " 'covid19': 189,\n",
       " 'family': 190,\n",
       " 'chingay': 191,\n",
       " 'text': 192,\n",
       " 'nice': 193,\n",
       " 'that': 194,\n",
       " 'instagood': 195,\n",
       " 'check': 196,\n",
       " 'hope': 197,\n",
       " 'georgia': 198,\n",
       " 'want': 199,\n",
       " 'days': 200,\n",
       " 'japan': 201,\n",
       " 'watch': 202,\n",
       " 'favourite': 203,\n",
       " 'lol': 204,\n",
       " 'experience': 205,\n",
       " 'skyscraper': 206,\n",
       " 'walk': 207,\n",
       " 'timeoutsg': 208,\n",
       " 'singlish': 209,\n",
       " '\\u2060': 210,\n",
       " 'since': 211,\n",
       " 'made': 212,\n",
       " 'say': 213,\n",
       " 'shot': 214,\n",
       " 'hdb': 215,\n",
       " 'going': 216,\n",
       " 'tvpointofview': 217,\n",
       " 'together': 218,\n",
       " 'sunset': 219,\n",
       " 'another': 220,\n",
       " 'funinsingapore': 221,\n",
       " 'feel': 222,\n",
       " 'igerssingapore': 223,\n",
       " 'singaporeliday': 224,\n",
       " 'photo': 225,\n",
       " '5': 226,\n",
       " 'area': 227,\n",
       " 'parade': 228,\n",
       " 'the': 229,\n",
       " 'mysingapore': 230,\n",
       " 'better': 231,\n",
       " 'everyone': 232,\n",
       " 'morning': 233,\n",
       " 'marinabaysands': 234,\n",
       " 'apple': 235,\n",
       " 'tedssingapore': 236,\n",
       " 'instasgsunday10pm': 237,\n",
       " 'staycation': 238,\n",
       " 'link': 239,\n",
       " 'view': 240,\n",
       " '4': 241,\n",
       " 'photooftheday': 242,\n",
       " 'could': 243,\n",
       " 'dance': 244,\n",
       " 'explore': 245,\n",
       " 'in': 246,\n",
       " 'amazing': 247,\n",
       " 'i': 248,\n",
       " 'looking': 249,\n",
       " 'wonderlustsingapore': 250,\n",
       " 'gardensbythebay': 251,\n",
       " 'rawmobile': 252,\n",
       " 'streetshared': 253,\n",
       " 'hellofrom': 254,\n",
       " 'travelgram': 255,\n",
       " 'sonyalpha': 256,\n",
       " 'expat': 257,\n",
       " 'gardens': 258,\n",
       " 'please': 259,\n",
       " 'haha': 260,\n",
       " 'jjmobilephotography': 261,\n",
       " 'changi': 262,\n",
       " 'photos': 263,\n",
       " 'end': 264,\n",
       " 'places': 265,\n",
       " 'watching': 266,\n",
       " '–': 267,\n",
       " 'actually': 268,\n",
       " 'createcommune': 269,\n",
       " 'beautifuldestinations': 270,\n",
       " 'singaporerediscovers': 271,\n",
       " 'social': 272,\n",
       " 'midautumn': 273,\n",
       " 'orientphotocontest2020': 274,\n",
       " 'safe': 275,\n",
       " 'pm': 276,\n",
       " 'pretty': 277,\n",
       " 'gosingapore': 278,\n",
       " 'month': 279,\n",
       " 'sgheartlands': 280,\n",
       " 'week': 281,\n",
       " 'illgrammers': 282,\n",
       " 'i’m': 283,\n",
       " 'along': 284,\n",
       " 'traditional': 285,\n",
       " 'coffee': 286,\n",
       " 'vlog': 287,\n",
       " \"i've\": 288,\n",
       " 'building': 289,\n",
       " 'shop': 290,\n",
       " 'landscapephotography': 291,\n",
       " 'uk': 292,\n",
       " 'something': 293,\n",
       " 'history': 294,\n",
       " 'away': 295,\n",
       " 'canon': 296,\n",
       " 'country': 297,\n",
       " 'school': 298,\n",
       " 'sgstreetcollective': 299,\n",
       " 'post': 300,\n",
       " 'twitter': 301,\n",
       " 'store': 302,\n",
       " 'looks': 303,\n",
       " 'sea': 304,\n",
       " 'shotzdelight': 305,\n",
       " 'quite': 306,\n",
       " 'hot': 307,\n",
       " 'sginstagram': 308,\n",
       " 'centre': 309,\n",
       " 'said': 310,\n",
       " 'british': 311,\n",
       " 'cultural': 312,\n",
       " 'don’t': 313,\n",
       " 'follow': 314,\n",
       " 'museum': 315,\n",
       " 'lovessingapore': 316,\n",
       " 'show': 317,\n",
       " 'airport': 318,\n",
       " 'singaporetravel': 319,\n",
       " 'todayweexploresg': 320,\n",
       " 'times': 321,\n",
       " 'gods': 322,\n",
       " 'interesting': 323,\n",
       " 'hotel': 324,\n",
       " 'youtube': 325,\n",
       " 'bio': 326,\n",
       " 'a': 327,\n",
       " 'ojisan': 328,\n",
       " \"n'\": 329,\n",
       " 'nine': 330,\n",
       " 'asia': 331,\n",
       " 'igdaily': 332,\n",
       " 'sgfood': 333,\n",
       " 'went': 334,\n",
       " 'island': 335,\n",
       " 'showthefullpicture': 336,\n",
       " 'sglandscape': 337,\n",
       " 'landscape': 338,\n",
       " 'oursgheritage': 339,\n",
       " 'channel': 340,\n",
       " 'sentosa': 341,\n",
       " 'popular': 342,\n",
       " 'learn': 343,\n",
       " 'gulacockaigne': 344,\n",
       " 'business': 345,\n",
       " 'way2ill': 346,\n",
       " 'cllcphotos': 347,\n",
       " 'red': 348,\n",
       " 'two': 349,\n",
       " 'guys': 350,\n",
       " 'give': 351,\n",
       " 'sonyalphasg': 352,\n",
       " 'on': 353,\n",
       " 'thing': 354,\n",
       " 'high': 355,\n",
       " 'wanderlust': 356,\n",
       " 'east': 357,\n",
       " 'hdbheartlands': 358,\n",
       " 'intangibleculturalheritage': 359,\n",
       " 'though': 360,\n",
       " '8': 361,\n",
       " 'rawcommunity': 362,\n",
       " 'soon': 363,\n",
       " 'past': 364,\n",
       " 'ghibli': 365,\n",
       " 'nightphotography': 366,\n",
       " 'sure': 367,\n",
       " 'singaporecity': 368,\n",
       " 'tour': 369,\n",
       " 'challenge': 370,\n",
       " 'hawker': 371,\n",
       " 'ndp2020': 372,\n",
       " 'rawstreet': 373,\n",
       " 'performance': 374,\n",
       " 'yes': 375,\n",
       " 'found': 376,\n",
       " 'full': 377,\n",
       " 'lot': 378,\n",
       " 'lights': 379,\n",
       " 'working': 380,\n",
       " 'nikon': 381,\n",
       " 'getting': 382,\n",
       " 'aug': 383,\n",
       " 'oursingapore': 384,\n",
       " 'sun': 385,\n",
       " 'book': 386,\n",
       " 'cityscape': 387,\n",
       " 'share': 388,\n",
       " 'sgphotography': 389,\n",
       " 'definitely': 390,\n",
       " 'chinatownsg': 391,\n",
       " 'eat': 392,\n",
       " 'taken': 393,\n",
       " 'taking': 394,\n",
       " 'and': 395,\n",
       " 'sglife': 396,\n",
       " 'nikonasia': 397,\n",
       " 'visualsingapore': 398,\n",
       " 'pandemic': 399,\n",
       " 'kids': 400,\n",
       " 'thought': 401,\n",
       " 'ever': 402,\n",
       " 'special': 403,\n",
       " 'start': 404,\n",
       " 'english': 405,\n",
       " '2019': 406,\n",
       " 'streetgrammers': 407,\n",
       " 'you': 408,\n",
       " 'bring': 409,\n",
       " 'exploring': 410,\n",
       " \"singapore's\": 411,\n",
       " 'making': 412,\n",
       " 'whereissingapore': 413,\n",
       " 'top': 414,\n",
       " 'thoughts': 415,\n",
       " 'especially': 416,\n",
       " 'due': 417,\n",
       " 'singapore’s': 418,\n",
       " 'of': 419,\n",
       " 'design': 420,\n",
       " 'everything': 421,\n",
       " 'sony': 422,\n",
       " 'mobilephotography': 423,\n",
       " 'hi': 424,\n",
       " 'jan': 425,\n",
       " 'miss': 426,\n",
       " 'natgeoyourshot': 427,\n",
       " 'walking': 428,\n",
       " 'known': 429,\n",
       " 'buy': 430,\n",
       " 'loved': 431,\n",
       " 'small': 432,\n",
       " 'makes': 433,\n",
       " 'weather': 434,\n",
       " \"can't\": 435,\n",
       " 'x': 436,\n",
       " 'pro': 437,\n",
       " 'archilovers': 438,\n",
       " 'help': 439,\n",
       " 'wait': 440,\n",
       " 'chingaysingapore2020': 441,\n",
       " 'oh': 442,\n",
       " 'justgoshoot': 443,\n",
       " 'natgeo': 444,\n",
       " '30': 445,\n",
       " 'open': 446,\n",
       " 'till': 447,\n",
       " 'blue': 448,\n",
       " '15': 449,\n",
       " 'india': 450,\n",
       " 'code': 451,\n",
       " 'cute': 452,\n",
       " 'vsco': 453,\n",
       " 'must': 454,\n",
       " 'citykillerz': 455,\n",
       " 'big': 456,\n",
       " 'garden': 457,\n",
       " 'chicken': 458,\n",
       " 'room': 459,\n",
       " 'let': 460,\n",
       " 'green': 461,\n",
       " 'trying': 462,\n",
       " 'early': 463,\n",
       " 'durian': 464,\n",
       " 'september': 465,\n",
       " 'spcrediscovers': 466,\n",
       " '22': 467,\n",
       " 'tourist': 468,\n",
       " 'ndp': 469,\n",
       " 'ocean': 470,\n",
       " 'nparksbuzz': 471,\n",
       " 'flower': 472,\n",
       " '—': 473,\n",
       " 'birthday': 474,\n",
       " 'colourful': 475,\n",
       " 'shapesofhome': 476,\n",
       " 'without': 477,\n",
       " 'workshop': 478,\n",
       " 'among': 479,\n",
       " 'fatalframes': 480,\n",
       " 'support': 481,\n",
       " 'urbanandstreet': 482,\n",
       " 'took': 483,\n",
       " 'ones': 484,\n",
       " 'sgigrediscovers': 485,\n",
       " 'sgstreetphotography': 486,\n",
       " 'fish': 487,\n",
       " 'river': 488,\n",
       " 'set': 489,\n",
       " 'friend': 490,\n",
       " 'streetsvision': 491,\n",
       " 'main': 492,\n",
       " 'lookinguparchitecture': 493,\n",
       " 'canonsg': 494,\n",
       " 'picoftheday': 495,\n",
       " 'mark': 496,\n",
       " 'cool': 497,\n",
       " 'iphone': 498,\n",
       " 'ah': 499,\n",
       " 'rustlordunity': 500,\n",
       " 'generations': 501,\n",
       " 'awesome': 502,\n",
       " 'head': 503,\n",
       " 'sands': 504,\n",
       " 'spot': 505,\n",
       " 'public': 506,\n",
       " 'shows': 507,\n",
       " 'singapore2020': 508,\n",
       " 'beach': 509,\n",
       " 'yourshotphotographer': 510,\n",
       " 'perspective': 511,\n",
       " 'note': 512,\n",
       " 'usually': 513,\n",
       " 'heatercentral': 514,\n",
       " 'daily': 515,\n",
       " 'music': 516,\n",
       " 'might': 517,\n",
       " 'instatravel': 518,\n",
       " 'remember': 519,\n",
       " 'called': 520,\n",
       " 'unique': 521,\n",
       " 'rebelsunited': 522,\n",
       " 'tag': 523,\n",
       " 'supportlocalsg': 524,\n",
       " 'my': 525,\n",
       " \"there's\": 526,\n",
       " 'evening': 527,\n",
       " 'beauty': 528,\n",
       " 'par': 529,\n",
       " 'iconic': 530,\n",
       " 'gift': 531,\n",
       " 'reflection': 532,\n",
       " 'christmas': 533,\n",
       " 'able': 534,\n",
       " 'haw': 535,\n",
       " 'igers': 536,\n",
       " 'started': 537,\n",
       " 'rain': 538,\n",
       " 'marinabay': 539,\n",
       " 'rice': 540,\n",
       " 'singaporetogether': 541,\n",
       " 'bit': 542,\n",
       " 'rawurbanshots': 543,\n",
       " 'hard': 544,\n",
       " 'cathygoaroundsg': 545,\n",
       " 'gramoftheday': 546,\n",
       " 'marinabaysg': 547,\n",
       " \"that's\": 548,\n",
       " 'coming': 549,\n",
       " 'im': 550,\n",
       " 'near': 551,\n",
       " 'using': 552,\n",
       " 'singaporephototours': 553,\n",
       " 'final': 554,\n",
       " 'throwback': 555,\n",
       " 'theimaged': 556,\n",
       " 'fujifilmsg': 557,\n",
       " 'celebration': 558,\n",
       " 'ago': 559,\n",
       " 'lived': 560,\n",
       " 'jewel': 561,\n",
       " 'continue': 562,\n",
       " 'moving': 563,\n",
       " 'whereinsingapore': 564,\n",
       " 'already': 565,\n",
       " 'singaporephotographyworkshops': 566,\n",
       " 'goes': 567,\n",
       " 'is': 568,\n",
       " 'date': 569,\n",
       " 'done': 570,\n",
       " 'coast': 571,\n",
       " 'maybe': 572,\n",
       " 'mask': 573,\n",
       " 'sunday': 574,\n",
       " 'colours': 575,\n",
       " 'heart': 576,\n",
       " 'devotees': 577,\n",
       " 'stbsg': 578,\n",
       " 'located': 579,\n",
       " 'foodporn': 580,\n",
       " 'travelblogger': 581,\n",
       " 'super': 582,\n",
       " 'via': 583,\n",
       " 'means': 584,\n",
       " 'believe': 585,\n",
       " 'perfect': 586,\n",
       " '7': 587,\n",
       " 'circuit': 588,\n",
       " 'tea': 589,\n",
       " 'glad': 590,\n",
       " 'seen': 591,\n",
       " 'moment': 592,\n",
       " 'theme': 593,\n",
       " 'card': 594,\n",
       " 'arts': 595,\n",
       " 'saw': 596,\n",
       " 'travelscockaigne': 597,\n",
       " 'emperor': 598,\n",
       " 'hours': 599,\n",
       " 'thisissg': 600,\n",
       " 'villa': 601,\n",
       " 'holiday': 602,\n",
       " 'sweet': 603,\n",
       " 'urbanromantix': 604,\n",
       " 'play': 605,\n",
       " 'indian': 606,\n",
       " 'available': 607,\n",
       " 'can’t': 608,\n",
       " 'side': 609,\n",
       " 'pic': 610,\n",
       " '100': 611,\n",
       " 'urbanphotography': 612,\n",
       " 'join': 613,\n",
       " 'run': 614,\n",
       " 'breaker': 615,\n",
       " 'everybodystreet': 616,\n",
       " 'kampong': 617,\n",
       " 'singaporefood': 618,\n",
       " 'service': 619,\n",
       " 'behind': 620,\n",
       " 'be': 621,\n",
       " \"'http\": 622,\n",
       " 'apartment': 623,\n",
       " 'thecreatorclass': 624,\n",
       " 'guess': 625,\n",
       " 'held': 626,\n",
       " 'ninth': 627,\n",
       " 'lovely': 628,\n",
       " 'capturestreets': 629,\n",
       " 'forward': 630,\n",
       " 'skyhigharchitecture': 631,\n",
       " 'orchard': 632,\n",
       " 'enjoyed': 633,\n",
       " 'bird': 634,\n",
       " 'arkiromantix': 635,\n",
       " 'rediscover': 636,\n",
       " 'put': 637,\n",
       " 'man': 638,\n",
       " 'almost': 639,\n",
       " 'welcome': 640,\n",
       " 'me': 641,\n",
       " 'left': 642,\n",
       " 'space': 643,\n",
       " 'instead': 644,\n",
       " 'yet': 645,\n",
       " 'modern': 646,\n",
       " 'for': 647,\n",
       " 'urx3': 648,\n",
       " 'nu': 649,\n",
       " \"htuj'\": 650,\n",
       " 'lens': 651,\n",
       " 'currently': 652,\n",
       " 'equipment': 653,\n",
       " 'tell': 654,\n",
       " 'series': 655,\n",
       " 'trees': 656,\n",
       " 'chinatownsingapore': 657,\n",
       " 'lunar': 658,\n",
       " 'oct': 659,\n",
       " 'stop': 660,\n",
       " '29': 661,\n",
       " 'sometimes': 662,\n",
       " 'october': 663,\n",
       " 'foreigners': 664,\n",
       " '20': 665,\n",
       " 'car': 666,\n",
       " 'edit': 667,\n",
       " 'market': 668,\n",
       " 'words': 669,\n",
       " 'shopping': 670,\n",
       " 'gfsingapore': 671,\n",
       " 'someone': 672,\n",
       " 'appreciate': 673,\n",
       " 'whole': 674,\n",
       " 'learnphotography': 675,\n",
       " 'white': 676,\n",
       " 'wow': 677,\n",
       " 'expatlivingsg': 678,\n",
       " 'months': 679,\n",
       " 'ii': 680,\n",
       " '\\u2063\\u2063': 681,\n",
       " 'table': 682,\n",
       " 'createexplore': 683,\n",
       " 'sharing': 684,\n",
       " 'cut': 685,\n",
       " 'tnpsg': 686,\n",
       " 'memories': 687,\n",
       " 'wish': 688,\n",
       " 'trip': 689,\n",
       " 'ourheartforsg': 690,\n",
       " 'often': 691,\n",
       " 'town': 692,\n",
       " 'understand': 693,\n",
       " 'architecturephotography': 694,\n",
       " 'exploretocreate': 695,\n",
       " 'tv': 696,\n",
       " '6': 697,\n",
       " 'ride': 698,\n",
       " '12': 699,\n",
       " 'gallery': 700,\n",
       " 'young': 701,\n",
       " 'hahaha': 702,\n",
       " 'omg': 703,\n",
       " 'countries': 704,\n",
       " \"singapore'\": 705,\n",
       " 'close': 706,\n",
       " 'across': 707,\n",
       " 'f28': 708,\n",
       " 'streetclassics': 709,\n",
       " 'came': 710,\n",
       " 'oji': 711,\n",
       " 'theatre': 712,\n",
       " 'cityfeatures': 713,\n",
       " 'pit': 714,\n",
       " 'comes': 715,\n",
       " 'community': 716,\n",
       " 'creativeoptic': 717,\n",
       " 'leave': 718,\n",
       " 'gramslayers': 719,\n",
       " 'photographyislife': 720,\n",
       " '16': 721,\n",
       " 'finally': 722,\n",
       " 'probably': 723,\n",
       " 'shoes': 724,\n",
       " 'chance': 725,\n",
       " 'location': 726,\n",
       " \"ojisan'\": 727,\n",
       " 'hey': 728,\n",
       " 'shots': 729,\n",
       " 'name': 730,\n",
       " 'f': 731,\n",
       " 'hello': 732,\n",
       " 'i’ve': 733,\n",
       " 'celebrations': 734,\n",
       " 'hear': 735,\n",
       " 'course': 736,\n",
       " 'online': 737,\n",
       " 'bevisuallyinspired': 738,\n",
       " 'sgspc': 739,\n",
       " 'inspired': 740,\n",
       " 'longexposure': 741,\n",
       " 'tried': 742,\n",
       " 'this': 743,\n",
       " 'things2doinsingapore': 744,\n",
       " 'glasses': 745,\n",
       " 'mbs': 746,\n",
       " 'olympus': 747,\n",
       " 'funny': 748,\n",
       " 'far': 749,\n",
       " 'nparks': 750,\n",
       " 'dinner': 751,\n",
       " 'skyscrapingarchitecture': 752,\n",
       " 'ang': 753,\n",
       " 'qa': 754,\n",
       " 'less': 755,\n",
       " 'imaginatones': 756,\n",
       " 'fresh': 757,\n",
       " 'sign': 758,\n",
       " 'malay': 759,\n",
       " 'earthfocus': 760,\n",
       " 'younger': 761,\n",
       " 'expensive': 762,\n",
       " 'worth': 763,\n",
       " 'adventure': 764,\n",
       " 'vscocam': 765,\n",
       " 'visualsoflife': 766,\n",
       " 'language': 767,\n",
       " 'story': 768,\n",
       " 'speak': 769,\n",
       " 'wanted': 770,\n",
       " 'built': 771,\n",
       " 'wonderful': 772,\n",
       " 'care': 773,\n",
       " 'ongooglemaps': 774,\n",
       " 'grass': 775,\n",
       " 'word': 776,\n",
       " 'hour': 777,\n",
       " 'madaboutsingapore2019': 778,\n",
       " 'future': 779,\n",
       " 'forget': 780,\n",
       " 'south': 781,\n",
       " 'performances': 782,\n",
       " 'intangible': 783,\n",
       " 'january': 784,\n",
       " 'instadaily': 785,\n",
       " 'kind': 786,\n",
       " 'journey': 787,\n",
       " 'procession': 788,\n",
       " 'stayhome': 789,\n",
       " 'sgvsco': 790,\n",
       " 'late': 791,\n",
       " 'direct': 792,\n",
       " 'style': 793,\n",
       " 'shotwithgalaxynote9': 794,\n",
       " 'wearethestreet': 795,\n",
       " 'lightroom': 796,\n",
       " 'call': 797,\n",
       " 'breakfast': 798,\n",
       " 'bad': 799,\n",
       " 'rawcityscapes': 800,\n",
       " 'chingaywithpassion': 801,\n",
       " 'create': 802,\n",
       " 'autumn': 803,\n",
       " 'but': 804,\n",
       " 'delicious': 805,\n",
       " 'love': 806,\n",
       " 'q': 807,\n",
       " 'however': 808,\n",
       " 'traveling': 809,\n",
       " 'mind': 810,\n",
       " 'cycling': 811,\n",
       " 'changiairport': 812,\n",
       " 'learning': 813,\n",
       " '28': 814,\n",
       " 'period': 815,\n",
       " 'thaipusam': 816,\n",
       " 'totally': 817,\n",
       " 'isg': 818,\n",
       " 'blog': 819,\n",
       " 'shophouses': 820,\n",
       " 'lanterns': 821,\n",
       " 'contact': 822,\n",
       " 'front': 823,\n",
       " 'supportlocal': 824,\n",
       " 'sound': 825,\n",
       " 'famous': 826,\n",
       " 'spend': 827,\n",
       " 'chingay2020': 828,\n",
       " 'sgfoodies': 829,\n",
       " 'ig': 830,\n",
       " 'film': 831,\n",
       " 'sunrise': 832,\n",
       " 'justin': 833,\n",
       " 'ice': 834,\n",
       " 'order': 835,\n",
       " 'streetmobs': 836,\n",
       " 'streetsgrammer': 837,\n",
       " 'fire': 838,\n",
       " '🤣': 839,\n",
       " 'discoverwithalpha': 840,\n",
       " 'jewelchangiairport': 841,\n",
       " '•\\u2063': 842,\n",
       " 'you’re': 843,\n",
       " 'accent': 844,\n",
       " 'festive': 845,\n",
       " 'tvbuildings': 846,\n",
       " 'govsg': 847,\n",
       " 'afternoon': 848,\n",
       " 'dream': 849,\n",
       " 'sgphotocommunity': 850,\n",
       " 'mrt': 851,\n",
       " 'taste': 852,\n",
       " 'minimalism': 853,\n",
       " 'station': 854,\n",
       " 'dessert': 855,\n",
       " 'eating': 856,\n",
       " 'feeling': 857,\n",
       " 'fujifilm': 858,\n",
       " 'natgeotravel': 859,\n",
       " '\\u200d': 860,\n",
       " 'ilovesingapore': 861,\n",
       " 'singaporepeople': 862,\n",
       " 'locals': 863,\n",
       " 'exercise': 864,\n",
       " 'canonasia': 865,\n",
       " 'job': 866,\n",
       " 'jurong': 867,\n",
       " 'chingaysingapore': 868,\n",
       " 'katong': 869,\n",
       " 'change': 870,\n",
       " 'visited': 871,\n",
       " 'true': 872,\n",
       " 'content': 873,\n",
       " 'luck': 874,\n",
       " '2015': 875,\n",
       " 'sri': 876,\n",
       " 'asian': 877,\n",
       " 'saying': 878,\n",
       " 'mid': 879,\n",
       " 'urbanshutter': 880,\n",
       " 'enquiries': 881,\n",
       " 'excited': 882,\n",
       " 'spring': 883,\n",
       " 'hidden': 884,\n",
       " 'black': 885,\n",
       " 'vscosg': 886,\n",
       " 'etc': 887,\n",
       " 'flowers': 888,\n",
       " 'price': 889,\n",
       " 'overseas': 890,\n",
       " 'point': 891,\n",
       " 'decided': 892,\n",
       " 'nhbsg': 893,\n",
       " 'pray': 894,\n",
       " 'singaporetrip': 895,\n",
       " 'lensculturestreets': 896,\n",
       " 'reflectiongram': 897,\n",
       " 'drink': 898,\n",
       " 'neighbourhood': 899,\n",
       " 'alistsg': 900,\n",
       " 'cream': 901,\n",
       " 'ask': 902,\n",
       " 'village': 903,\n",
       " 'temples': 904,\n",
       " 'cafe': 905,\n",
       " 'sonybethechange': 906,\n",
       " 'travels': 907,\n",
       " 'heard': 908,\n",
       " 'inside': 909,\n",
       " 'air': 910,\n",
       " 'v': 911,\n",
       " 'n━━━━━━━━━━━━': 912,\n",
       " 'there’s': 913,\n",
       " 'archiunlimited': 914,\n",
       " 'merlion': 915,\n",
       " 'visiting': 916,\n",
       " 'covid': 917,\n",
       " 'moments': 918,\n",
       " 'depthobsessed': 919,\n",
       " '23': 920,\n",
       " 'houses': 921,\n",
       " 'peranakan': 922,\n",
       " 'stories': 923,\n",
       " 'god': 924,\n",
       " 'break': 925,\n",
       " 'catch': 926,\n",
       " 'visualmobs': 927,\n",
       " 'sassymamasg': 928,\n",
       " 'ur': 929,\n",
       " 'seeing': 930,\n",
       " 'latergram': 931,\n",
       " 'spicollective': 932,\n",
       " 'sounds': 933,\n",
       " 'arquitecturamx': 934,\n",
       " 'sgbicentennial': 935,\n",
       " 'midautumnfestival': 936,\n",
       " 'ahead': 937,\n",
       " 'party': 938,\n",
       " 'floating': 939,\n",
       " 'within': 940,\n",
       " 'venue': 941,\n",
       " 'sgolympus': 942,\n",
       " 'capture': 943,\n",
       " 'wonderfulplaces': 944,\n",
       " 'stall': 945,\n",
       " 'lunch': 946,\n",
       " 'flats': 947,\n",
       " '27': 948,\n",
       " 'moon': 949,\n",
       " 'level': 950,\n",
       " \"let's\": 951,\n",
       " 'missed': 952,\n",
       " 'monday': 953,\n",
       " 'natural': 954,\n",
       " 'information': 955,\n",
       " 'ends': 956,\n",
       " 'rawarchitecture': 957,\n",
       " 'least': 958,\n",
       " 'igcolor': 959,\n",
       " 'cny': 960,\n",
       " 'seng': 961,\n",
       " 'ready': 962,\n",
       " 'plexxie': 963,\n",
       " 'phase': 964,\n",
       " 'a7iii': 965,\n",
       " 'page': 966,\n",
       " 'agree': 967,\n",
       " 'upon': 968,\n",
       " 'lane': 969,\n",
       " 'milk': 970,\n",
       " 'opening': 971,\n",
       " 'jj': 972,\n",
       " 'jjforum': 973,\n",
       " 'tonight': 974,\n",
       " 'yonghazelle': 975,\n",
       " 'lots': 976,\n",
       " 'saturday': 977,\n",
       " 'contactgeorgiacgmailcom': 978,\n",
       " 'real': 979,\n",
       " 'group': 980,\n",
       " 'singaporestreets': 981,\n",
       " 'instasingapore': 982,\n",
       " 'face': 983,\n",
       " 'stayhomeforsg': 984,\n",
       " '45': 985,\n",
       " 'airbnb': 986,\n",
       " 'sgnightfest': 987,\n",
       " 'move': 988,\n",
       " 'recently': 989,\n",
       " 'stayathome': 990,\n",
       " '31': 991,\n",
       " 'become': 992,\n",
       " '11': 993,\n",
       " 'lightup': 994,\n",
       " 'singaporeinstagram': 995,\n",
       " 'discover': 996,\n",
       " 'wearetotaldefence': 997,\n",
       " 'tvleadinglines': 998,\n",
       " 'igersingapore': 999,\n",
       " 'enjoying': 1000,\n",
       " ...}"
      ]
     },
     "execution_count": 18,
     "metadata": {},
     "output_type": "execute_result"
    }
   ],
   "source": [
    "word_index = tokenizer.word_index\n",
    "word_index"
   ]
  },
  {
   "cell_type": "code",
   "execution_count": 19,
   "metadata": {
    "scrolled": true
   },
   "outputs": [
    {
     "data": {
      "text/plain": [
       "[5712,\n",
       " 509,\n",
       " 220,\n",
       " 341,\n",
       " 826,\n",
       " 5255,\n",
       " 112,\n",
       " 2649,\n",
       " 5713,\n",
       " 2441,\n",
       " 385,\n",
       " 4885,\n",
       " 1022,\n",
       " 497,\n",
       " 13220,\n",
       " 5256,\n",
       " 18291,\n",
       " 7742,\n",
       " 656,\n",
       " 5712,\n",
       " 509,\n",
       " 2137,\n",
       " 13221,\n",
       " 509,\n",
       " 199,\n",
       " 509,\n",
       " 23,\n",
       " 431,\n",
       " 484,\n",
       " 531,\n",
       " 672,\n",
       " 1239,\n",
       " 827,\n",
       " 509,\n",
       " 23,\n",
       " 572,\n",
       " 96,\n",
       " 594,\n",
       " 902,\n",
       " 403,\n",
       " 672,\n",
       " 740,\n",
       " 225,\n",
       " 1369,\n",
       " 16,\n",
       " 212,\n",
       " 18292,\n",
       " 10584,\n",
       " 2650,\n",
       " 16,\n",
       " 2287,\n",
       " 10585,\n",
       " 10586,\n",
       " 18293,\n",
       " 10586,\n",
       " 2995,\n",
       " 16,\n",
       " 889,\n",
       " 241,\n",
       " 16,\n",
       " 181,\n",
       " 120,\n",
       " 6889,\n",
       " 583,\n",
       " 8887,\n",
       " 1324,\n",
       " 5714,\n",
       " 16,\n",
       " 8887,\n",
       " 13222,\n",
       " 5714,\n",
       " 1439,\n",
       " 2996,\n",
       " 241,\n",
       " 16,\n",
       " 890,\n",
       " 1570,\n",
       " 8888,\n",
       " 3450,\n",
       " 8887,\n",
       " 1828,\n",
       " 439,\n",
       " 5714,\n",
       " 594,\n",
       " 2288,\n",
       " 1048,\n",
       " 1259,\n",
       " 351,\n",
       " 1112,\n",
       " 1404,\n",
       " 36,\n",
       " 1662,\n",
       " 70,\n",
       " 4538,\n",
       " 84,\n",
       " 594,\n",
       " 439,\n",
       " 4007,\n",
       " 1662,\n",
       " 222,\n",
       " 181,\n",
       " 2651,\n",
       " 36,\n",
       " 3272,\n",
       " 18294,\n",
       " 1772,\n",
       " 595,\n",
       " 10587,\n",
       " 18295,\n",
       " 18296,\n",
       " 3273,\n",
       " 18297,\n",
       " 18298,\n",
       " 5715,\n",
       " 6890,\n",
       " 13223,\n",
       " 18299,\n",
       " 3800,\n",
       " 10588,\n",
       " 341,\n",
       " 2,\n",
       " 18300,\n",
       " 1934,\n",
       " 10589,\n",
       " 5,\n",
       " 37,\n",
       " 1143,\n",
       " 341,\n",
       " 10590]"
      ]
     },
     "execution_count": 19,
     "metadata": {},
     "output_type": "execute_result"
    }
   ],
   "source": [
    "train_seq = tokenizer.texts_to_sequences(X_train_rnn[\"content\"])\n",
    "train_seq[0] # view first sequence"
   ]
  },
  {
   "cell_type": "code",
   "execution_count": 20,
   "metadata": {},
   "outputs": [
    {
     "data": {
      "text/plain": [
       "array([ 5712,   509,   220,   341,   826,  5255,   112,  2649,  5713,\n",
       "        2441,   385,  4885,  1022,   497, 13220,  5256, 18291,  7742,\n",
       "         656,  5712,   509,  2137, 13221,   509,   199,   509,    23,\n",
       "         431,   484,   531,   672,  1239,   827,   509,    23,   572,\n",
       "          96,   594,   902,   403,   672,   740,   225,  1369,    16,\n",
       "         212, 18292, 10584,  2650,    16,  2287, 10585, 10586, 18293,\n",
       "       10586,  2995,    16,   889,   241,    16,   181,   120,  6889,\n",
       "         583,  8887,  1324,  5714,    16,  8887, 13222,  5714,  1439,\n",
       "        2996,   241,    16,   890,  1570,  8888,  3450,  8887,  1828,\n",
       "         439,  5714,   594,  2288,  1048,  1259,   351,  1112,  1404,\n",
       "          36,  1662,    70,  4538,    84,   594,   439,  4007,  1662,\n",
       "         222])"
      ]
     },
     "execution_count": 20,
     "metadata": {},
     "output_type": "execute_result"
    }
   ],
   "source": [
    "# padding can only be done on array of integers, therefore we needed to tokenize and create a sequence of the word indexes\n",
    "# based off boxplot, padding to 100 should be sufficient for majority of documents\n",
    "train_padded = pad_sequences(train_seq, maxlen=100, padding=\"post\", truncating=\"post\")\n",
    "train_padded[0] # verify padding was successful"
   ]
  },
  {
   "cell_type": "code",
   "execution_count": 21,
   "metadata": {},
   "outputs": [],
   "source": [
    "# redo train-test split for padded sequences\n",
    "X_rnn_train, X_rnn_test, y_rnn_train, y_rnn_test = train_test_split(train_padded, y_train, test_size=0.25, random_state=42)"
   ]
  },
  {
   "cell_type": "markdown",
   "metadata": {},
   "source": [
    "#### GRU"
   ]
  },
  {
   "cell_type": "code",
   "execution_count": 40,
   "metadata": {
    "scrolled": true
   },
   "outputs": [
    {
     "name": "stdout",
     "output_type": "stream",
     "text": [
      "Epoch 1/100\n",
      "46/46 [==============================] - 12s 258ms/step - loss: 92747.0234 - mean_squared_error: 92747.0234 - val_loss: 129873.3125 - val_mean_squared_error: 129873.3125\n",
      "Epoch 2/100\n",
      "46/46 [==============================] - 11s 236ms/step - loss: 90165.9766 - mean_squared_error: 90165.9766 - val_loss: 127347.4062 - val_mean_squared_error: 127347.4062\n",
      "Epoch 3/100\n",
      "46/46 [==============================] - 11s 235ms/step - loss: 88225.2109 - mean_squared_error: 88225.2109 - val_loss: 125367.9062 - val_mean_squared_error: 125367.9062\n",
      "Epoch 4/100\n",
      "46/46 [==============================] - 11s 236ms/step - loss: 86977.1172 - mean_squared_error: 86977.1172 - val_loss: 124163.1094 - val_mean_squared_error: 124163.1094\n",
      "Epoch 5/100\n",
      "46/46 [==============================] - 11s 242ms/step - loss: 86346.1641 - mean_squared_error: 86346.1641 - val_loss: 123604.3281 - val_mean_squared_error: 123604.3281\n",
      "Epoch 6/100\n",
      "46/46 [==============================] - 11s 236ms/step - loss: 85106.3281 - mean_squared_error: 85106.3281 - val_loss: 122695.6875 - val_mean_squared_error: 122695.6875\n",
      "Epoch 7/100\n",
      "46/46 [==============================] - 11s 246ms/step - loss: 82760.8281 - mean_squared_error: 82760.8359 - val_loss: 121333.4453 - val_mean_squared_error: 121333.4453\n",
      "Epoch 8/100\n",
      "46/46 [==============================] - 11s 235ms/step - loss: 80671.6562 - mean_squared_error: 80671.6562 - val_loss: 120980.7031 - val_mean_squared_error: 120980.7031\n",
      "Epoch 9/100\n",
      "46/46 [==============================] - 13s 284ms/step - loss: 78353.6172 - mean_squared_error: 78353.6172 - val_loss: 120920.9453 - val_mean_squared_error: 120920.9453\n",
      "Epoch 10/100\n",
      "46/46 [==============================] - 14s 300ms/step - loss: 75632.1875 - mean_squared_error: 75632.1875 - val_loss: 122080.1875 - val_mean_squared_error: 122080.1875\n",
      "Epoch 11/100\n",
      "46/46 [==============================] - 13s 283ms/step - loss: 72371.4219 - mean_squared_error: 72371.4219 - val_loss: 121080.6719 - val_mean_squared_error: 121080.6719\n",
      "Epoch 12/100\n",
      "46/46 [==============================] - 13s 275ms/step - loss: 69961.1016 - mean_squared_error: 69961.0938 - val_loss: 120305.7031 - val_mean_squared_error: 120305.7031\n",
      "Epoch 13/100\n",
      "46/46 [==============================] - 13s 275ms/step - loss: 67787.9453 - mean_squared_error: 67787.9531 - val_loss: 120045.2031 - val_mean_squared_error: 120045.2031\n",
      "Epoch 14/100\n",
      "46/46 [==============================] - 13s 277ms/step - loss: 67061.1250 - mean_squared_error: 67061.1250 - val_loss: 119570.2891 - val_mean_squared_error: 119570.2969\n",
      "Epoch 15/100\n",
      "46/46 [==============================] - 13s 277ms/step - loss: 66498.8438 - mean_squared_error: 66498.8438 - val_loss: 118813.2031 - val_mean_squared_error: 118813.2031\n",
      "Epoch 16/100\n",
      "46/46 [==============================] - 13s 276ms/step - loss: 75841.3359 - mean_squared_error: 75841.3281 - val_loss: 115748.1406 - val_mean_squared_error: 115748.1328\n",
      "Epoch 17/100\n",
      "46/46 [==============================] - 13s 276ms/step - loss: 69547.6797 - mean_squared_error: 69547.6797 - val_loss: 111371.5938 - val_mean_squared_error: 111371.5938\n",
      "Epoch 18/100\n",
      "46/46 [==============================] - 13s 279ms/step - loss: 63015.4609 - mean_squared_error: 63015.4609 - val_loss: 108471.9609 - val_mean_squared_error: 108471.9609\n",
      "Epoch 19/100\n",
      "46/46 [==============================] - 13s 284ms/step - loss: 57870.1992 - mean_squared_error: 57870.1992 - val_loss: 107583.3672 - val_mean_squared_error: 107583.3672\n",
      "Epoch 20/100\n",
      "46/46 [==============================] - 13s 281ms/step - loss: 53311.4883 - mean_squared_error: 53311.4883 - val_loss: 105753.5391 - val_mean_squared_error: 105753.5391\n",
      "Epoch 21/100\n",
      "46/46 [==============================] - 13s 282ms/step - loss: 49929.1836 - mean_squared_error: 49929.1836 - val_loss: 103312.2031 - val_mean_squared_error: 103312.2031\n",
      "Epoch 22/100\n",
      "46/46 [==============================] - 13s 290ms/step - loss: 46776.3672 - mean_squared_error: 46776.3672 - val_loss: 103657.3047 - val_mean_squared_error: 103657.3047\n",
      "Epoch 23/100\n",
      "46/46 [==============================] - 13s 280ms/step - loss: 44259.2578 - mean_squared_error: 44259.2578 - val_loss: 102547.0625 - val_mean_squared_error: 102547.0625\n",
      "Epoch 24/100\n",
      "46/46 [==============================] - 12s 271ms/step - loss: 42124.0547 - mean_squared_error: 42124.0547 - val_loss: 102922.0156 - val_mean_squared_error: 102922.0156\n",
      "Epoch 25/100\n",
      "46/46 [==============================] - 13s 272ms/step - loss: 40728.6016 - mean_squared_error: 40728.6016 - val_loss: 105047.2109 - val_mean_squared_error: 105047.2109\n",
      "Epoch 26/100\n",
      "46/46 [==============================] - 12s 270ms/step - loss: 39412.3906 - mean_squared_error: 39412.3906 - val_loss: 104189.6172 - val_mean_squared_error: 104189.6172\n",
      "Epoch 27/100\n",
      "46/46 [==============================] - 12s 271ms/step - loss: 37762.9648 - mean_squared_error: 37762.9648 - val_loss: 101920.1094 - val_mean_squared_error: 101920.1094\n",
      "Epoch 28/100\n",
      "46/46 [==============================] - 12s 271ms/step - loss: 36202.3633 - mean_squared_error: 36202.3672 - val_loss: 102409.4766 - val_mean_squared_error: 102409.4766\n",
      "Epoch 29/100\n",
      "46/46 [==============================] - 13s 273ms/step - loss: 35075.0586 - mean_squared_error: 35075.0586 - val_loss: 101967.2656 - val_mean_squared_error: 101967.2656\n",
      "Epoch 30/100\n",
      "46/46 [==============================] - 13s 279ms/step - loss: 34040.0312 - mean_squared_error: 34040.0312 - val_loss: 103534.3125 - val_mean_squared_error: 103534.3125\n",
      "Epoch 31/100\n",
      "46/46 [==============================] - 13s 274ms/step - loss: 33097.4375 - mean_squared_error: 33097.4375 - val_loss: 104189.3125 - val_mean_squared_error: 104189.3125\n",
      "Epoch 32/100\n",
      "46/46 [==============================] - 13s 280ms/step - loss: 32328.4570 - mean_squared_error: 32328.4570 - val_loss: 107779.8203 - val_mean_squared_error: 107779.8203\n",
      "Epoch 33/100\n",
      "46/46 [==============================] - 15s 316ms/step - loss: 31928.7812 - mean_squared_error: 31928.7773 - val_loss: 105404.9375 - val_mean_squared_error: 105404.9375\n",
      "Epoch 34/100\n",
      "46/46 [==============================] - 13s 284ms/step - loss: 30989.1270 - mean_squared_error: 30989.1270 - val_loss: 105868.9922 - val_mean_squared_error: 105868.9922\n",
      "Epoch 35/100\n",
      "46/46 [==============================] - 13s 284ms/step - loss: 29992.0586 - mean_squared_error: 29992.0586 - val_loss: 106321.7188 - val_mean_squared_error: 106321.7188\n",
      "Epoch 36/100\n",
      "46/46 [==============================] - 13s 290ms/step - loss: 28947.5664 - mean_squared_error: 28947.5664 - val_loss: 106099.7344 - val_mean_squared_error: 106099.7344\n",
      "Epoch 37/100\n",
      "46/46 [==============================] - 13s 293ms/step - loss: 28459.5332 - mean_squared_error: 28459.5332 - val_loss: 107149.3281 - val_mean_squared_error: 107149.3281\n",
      "Epoch 38/100\n",
      "46/46 [==============================] - 13s 289ms/step - loss: 27742.7656 - mean_squared_error: 27742.7656 - val_loss: 106943.1016 - val_mean_squared_error: 106943.1016\n",
      "Epoch 39/100\n",
      "46/46 [==============================] - 13s 290ms/step - loss: 27220.6719 - mean_squared_error: 27220.6719 - val_loss: 107997.9453 - val_mean_squared_error: 107997.9453\n",
      "Epoch 40/100\n",
      "46/46 [==============================] - 14s 313ms/step - loss: 26722.7051 - mean_squared_error: 26722.7051 - val_loss: 108424.1328 - val_mean_squared_error: 108424.1328\n",
      "Epoch 41/100\n",
      "46/46 [==============================] - 14s 294ms/step - loss: 26181.5645 - mean_squared_error: 26181.5645 - val_loss: 107793.9922 - val_mean_squared_error: 107793.9922\n",
      "Epoch 42/100\n",
      "46/46 [==============================] - 14s 296ms/step - loss: 25614.5488 - mean_squared_error: 25614.5488 - val_loss: 107495.8359 - val_mean_squared_error: 107495.8359\n",
      "Epoch 43/100\n",
      "46/46 [==============================] - 13s 291ms/step - loss: 24885.8047 - mean_squared_error: 24885.8047 - val_loss: 108720.0938 - val_mean_squared_error: 108720.0938\n",
      "Epoch 44/100\n",
      "46/46 [==============================] - 13s 291ms/step - loss: 24601.1758 - mean_squared_error: 24601.1758 - val_loss: 109608.5000 - val_mean_squared_error: 109608.5000\n",
      "Epoch 45/100\n",
      "46/46 [==============================] - 13s 287ms/step - loss: 24223.2793 - mean_squared_error: 24223.2793 - val_loss: 107854.5000 - val_mean_squared_error: 107854.5000\n"
     ]
    },
    {
     "name": "stdout",
     "output_type": "stream",
     "text": [
      "Epoch 46/100\n",
      "46/46 [==============================] - 14s 298ms/step - loss: 23828.1211 - mean_squared_error: 23828.1211 - val_loss: 109285.9375 - val_mean_squared_error: 109285.9375\n",
      "Epoch 47/100\n",
      "46/46 [==============================] - 13s 293ms/step - loss: 23917.1934 - mean_squared_error: 23917.1934 - val_loss: 108234.1953 - val_mean_squared_error: 108234.1953\n",
      "Epoch 48/100\n",
      "46/46 [==============================] - 14s 297ms/step - loss: 23242.9922 - mean_squared_error: 23242.9922 - val_loss: 109237.0859 - val_mean_squared_error: 109237.0859\n",
      "Epoch 49/100\n",
      "46/46 [==============================] - 14s 300ms/step - loss: 22938.2910 - mean_squared_error: 22938.2910 - val_loss: 108921.2344 - val_mean_squared_error: 108921.2344\n",
      "Epoch 50/100\n",
      "46/46 [==============================] - 14s 302ms/step - loss: 22480.2051 - mean_squared_error: 22480.2051 - val_loss: 110079.6172 - val_mean_squared_error: 110079.6172\n",
      "Epoch 51/100\n",
      "46/46 [==============================] - 14s 309ms/step - loss: 22282.9355 - mean_squared_error: 22282.9355 - val_loss: 110121.4062 - val_mean_squared_error: 110121.4062\n",
      "Epoch 52/100\n",
      "46/46 [==============================] - 14s 303ms/step - loss: 21922.3789 - mean_squared_error: 21922.3789 - val_loss: 108662.0547 - val_mean_squared_error: 108662.0547\n",
      "Epoch 53/100\n",
      "46/46 [==============================] - 14s 297ms/step - loss: 21585.0352 - mean_squared_error: 21585.0352 - val_loss: 110416.0547 - val_mean_squared_error: 110416.0547\n",
      "Epoch 54/100\n",
      "46/46 [==============================] - 14s 314ms/step - loss: 21487.8047 - mean_squared_error: 21487.8047 - val_loss: 110803.5859 - val_mean_squared_error: 110803.5859\n",
      "Epoch 55/100\n",
      "46/46 [==============================] - 14s 296ms/step - loss: 21424.6113 - mean_squared_error: 21424.6113 - val_loss: 110825.5703 - val_mean_squared_error: 110825.5703\n",
      "Epoch 56/100\n",
      "46/46 [==============================] - 14s 309ms/step - loss: 21213.9043 - mean_squared_error: 21213.9043 - val_loss: 110483.9844 - val_mean_squared_error: 110483.9844\n",
      "Epoch 57/100\n",
      "46/46 [==============================] - 14s 311ms/step - loss: 20885.2090 - mean_squared_error: 20885.2090 - val_loss: 111092.2500 - val_mean_squared_error: 111092.2500\n",
      "Epoch 58/100\n",
      "46/46 [==============================] - 14s 305ms/step - loss: 20814.7832 - mean_squared_error: 20814.7832 - val_loss: 111658.3984 - val_mean_squared_error: 111658.3984\n",
      "Epoch 59/100\n",
      "46/46 [==============================] - 14s 302ms/step - loss: 20696.0879 - mean_squared_error: 20696.0879 - val_loss: 110962.3203 - val_mean_squared_error: 110962.3203\n",
      "Epoch 60/100\n",
      "46/46 [==============================] - 14s 313ms/step - loss: 20692.7070 - mean_squared_error: 20692.7070 - val_loss: 111297.6484 - val_mean_squared_error: 111297.6484\n",
      "Epoch 61/100\n",
      "46/46 [==============================] - 14s 305ms/step - loss: 20618.6152 - mean_squared_error: 20618.6152 - val_loss: 109785.7734 - val_mean_squared_error: 109785.7734\n",
      "Epoch 62/100\n",
      "46/46 [==============================] - 14s 303ms/step - loss: 20196.7109 - mean_squared_error: 20196.7109 - val_loss: 110230.2656 - val_mean_squared_error: 110230.2656\n",
      "Epoch 63/100\n",
      "46/46 [==============================] - 14s 304ms/step - loss: 20015.1914 - mean_squared_error: 20015.1914 - val_loss: 110445.4609 - val_mean_squared_error: 110445.4609\n",
      "Epoch 64/100\n",
      "46/46 [==============================] - 14s 300ms/step - loss: 19633.1426 - mean_squared_error: 19633.1426 - val_loss: 112061.3750 - val_mean_squared_error: 112061.3750\n",
      "Epoch 65/100\n",
      "46/46 [==============================] - 14s 300ms/step - loss: 19501.0312 - mean_squared_error: 19501.0332 - val_loss: 112098.2109 - val_mean_squared_error: 112098.2109\n",
      "Epoch 66/100\n",
      "46/46 [==============================] - 14s 300ms/step - loss: 19196.7500 - mean_squared_error: 19196.7500 - val_loss: 111426.3906 - val_mean_squared_error: 111426.3906\n",
      "Epoch 67/100\n",
      "46/46 [==============================] - 14s 299ms/step - loss: 19107.9277 - mean_squared_error: 19107.9277 - val_loss: 113676.8203 - val_mean_squared_error: 113676.8203\n",
      "Epoch 68/100\n",
      "46/46 [==============================] - 14s 300ms/step - loss: 19007.2461 - mean_squared_error: 19007.2461 - val_loss: 112679.4141 - val_mean_squared_error: 112679.4141\n",
      "Epoch 69/100\n",
      "46/46 [==============================] - 14s 300ms/step - loss: 18754.2871 - mean_squared_error: 18754.2871 - val_loss: 111998.2031 - val_mean_squared_error: 111998.2031\n",
      "Epoch 70/100\n",
      "46/46 [==============================] - 14s 304ms/step - loss: 18833.9922 - mean_squared_error: 18833.9922 - val_loss: 110840.4531 - val_mean_squared_error: 110840.4531\n",
      "Epoch 71/100\n",
      "46/46 [==============================] - 14s 305ms/step - loss: 18688.9141 - mean_squared_error: 18688.9141 - val_loss: 112974.8750 - val_mean_squared_error: 112974.8750\n",
      "Epoch 72/100\n",
      "46/46 [==============================] - 14s 302ms/step - loss: 18618.5430 - mean_squared_error: 18618.5410 - val_loss: 112160.8359 - val_mean_squared_error: 112160.8359\n",
      "Epoch 73/100\n",
      "46/46 [==============================] - 14s 300ms/step - loss: 18556.8398 - mean_squared_error: 18556.8398 - val_loss: 112282.7188 - val_mean_squared_error: 112282.7188\n",
      "Epoch 74/100\n",
      "46/46 [==============================] - 14s 300ms/step - loss: 18390.0039 - mean_squared_error: 18390.0039 - val_loss: 111458.1484 - val_mean_squared_error: 111458.1484\n",
      "Epoch 75/100\n",
      "46/46 [==============================] - 14s 302ms/step - loss: 18007.7188 - mean_squared_error: 18007.7188 - val_loss: 113498.4609 - val_mean_squared_error: 113498.4609\n",
      "Epoch 76/100\n",
      "46/46 [==============================] - 14s 300ms/step - loss: 18074.1895 - mean_squared_error: 18074.1895 - val_loss: 113666.5000 - val_mean_squared_error: 113666.5000\n",
      "Epoch 77/100\n",
      "46/46 [==============================] - 14s 299ms/step - loss: 19278.4746 - mean_squared_error: 19278.4727 - val_loss: 117298.0234 - val_mean_squared_error: 117298.0234\n",
      "Epoch 78/100\n",
      "46/46 [==============================] - 14s 314ms/step - loss: 18975.3496 - mean_squared_error: 18975.3496 - val_loss: 117264.6641 - val_mean_squared_error: 117264.6641\n",
      "Epoch 79/100\n",
      "46/46 [==============================] - 14s 304ms/step - loss: 18377.4902 - mean_squared_error: 18377.4883 - val_loss: 111004.8672 - val_mean_squared_error: 111004.8516\n",
      "Epoch 80/100\n",
      "46/46 [==============================] - 14s 312ms/step - loss: 17792.7930 - mean_squared_error: 17792.7930 - val_loss: 112958.9844 - val_mean_squared_error: 112958.9844\n",
      "Epoch 81/100\n",
      "46/46 [==============================] - 14s 299ms/step - loss: 17524.2148 - mean_squared_error: 17524.2168 - val_loss: 113386.7891 - val_mean_squared_error: 113386.7891\n",
      "Epoch 82/100\n",
      "46/46 [==============================] - 14s 296ms/step - loss: 17332.7363 - mean_squared_error: 17332.7344 - val_loss: 115163.8047 - val_mean_squared_error: 115163.8047\n",
      "Epoch 83/100\n",
      "46/46 [==============================] - 14s 295ms/step - loss: 17176.0996 - mean_squared_error: 17176.0996 - val_loss: 115055.0703 - val_mean_squared_error: 115055.0703\n",
      "Epoch 84/100\n",
      "46/46 [==============================] - 14s 295ms/step - loss: 17413.3613 - mean_squared_error: 17413.3613 - val_loss: 115310.2109 - val_mean_squared_error: 115310.2109\n",
      "Epoch 85/100\n",
      "46/46 [==============================] - 14s 308ms/step - loss: 17109.3398 - mean_squared_error: 17109.3398 - val_loss: 115291.5547 - val_mean_squared_error: 115291.5547\n",
      "Epoch 86/100\n",
      "46/46 [==============================] - 14s 303ms/step - loss: 17259.6777 - mean_squared_error: 17259.6758 - val_loss: 115231.1250 - val_mean_squared_error: 115231.1250\n",
      "Epoch 87/100\n",
      "46/46 [==============================] - 14s 301ms/step - loss: 16932.3770 - mean_squared_error: 16932.3770 - val_loss: 115375.0156 - val_mean_squared_error: 115375.0156\n",
      "Epoch 88/100\n",
      "46/46 [==============================] - 14s 302ms/step - loss: 16740.9824 - mean_squared_error: 16740.9824 - val_loss: 116807.7812 - val_mean_squared_error: 116807.7812\n",
      "Epoch 89/100\n",
      "46/46 [==============================] - 14s 300ms/step - loss: 16975.1309 - mean_squared_error: 16975.1309 - val_loss: 116584.1719 - val_mean_squared_error: 116584.1719\n",
      "Epoch 90/100\n",
      "46/46 [==============================] - 14s 300ms/step - loss: 16846.0625 - mean_squared_error: 16846.0645 - val_loss: 115974.1406 - val_mean_squared_error: 115974.1406\n"
     ]
    },
    {
     "name": "stdout",
     "output_type": "stream",
     "text": [
      "Epoch 91/100\n",
      "46/46 [==============================] - 14s 294ms/step - loss: 16748.4277 - mean_squared_error: 16748.4277 - val_loss: 116885.8438 - val_mean_squared_error: 116885.8438\n",
      "Epoch 92/100\n",
      "46/46 [==============================] - 14s 299ms/step - loss: 16610.4805 - mean_squared_error: 16610.4805 - val_loss: 116473.9609 - val_mean_squared_error: 116473.9609\n",
      "Epoch 93/100\n",
      "46/46 [==============================] - 13s 289ms/step - loss: 16448.6230 - mean_squared_error: 16448.6230 - val_loss: 117185.0938 - val_mean_squared_error: 117185.0938\n",
      "Epoch 94/100\n",
      "46/46 [==============================] - 13s 293ms/step - loss: 16453.9062 - mean_squared_error: 16453.9062 - val_loss: 117565.3828 - val_mean_squared_error: 117565.3828\n",
      "Epoch 95/100\n",
      "46/46 [==============================] - 13s 289ms/step - loss: 16058.7129 - mean_squared_error: 16058.7109 - val_loss: 115645.7266 - val_mean_squared_error: 115645.7266\n",
      "Epoch 96/100\n",
      "46/46 [==============================] - 13s 288ms/step - loss: 16204.2217 - mean_squared_error: 16204.2217 - val_loss: 116518.7656 - val_mean_squared_error: 116518.7656\n",
      "Epoch 97/100\n",
      "46/46 [==============================] - 14s 294ms/step - loss: 16267.1729 - mean_squared_error: 16267.1748 - val_loss: 116851.0078 - val_mean_squared_error: 116851.0078\n",
      "Epoch 98/100\n",
      "46/46 [==============================] - 13s 286ms/step - loss: 16040.1904 - mean_squared_error: 16040.1885 - val_loss: 116838.0156 - val_mean_squared_error: 116838.0156\n",
      "Epoch 99/100\n",
      "46/46 [==============================] - 13s 283ms/step - loss: 16081.1240 - mean_squared_error: 16081.1240 - val_loss: 116652.9297 - val_mean_squared_error: 116652.9297\n",
      "Epoch 100/100\n",
      "46/46 [==============================] - 13s 283ms/step - loss: 16064.1768 - mean_squared_error: 16064.1768 - val_loss: 116815.4922 - val_mean_squared_error: 116815.4922\n",
      "Wall time: 22min 42s\n"
     ]
    }
   ],
   "source": [
    "%%time\n",
    "# create model\n",
    "model = Sequential()\n",
    "model.add(Embedding(X_train_rnn_cvec.shape[1], 128, input_length=100))\n",
    "model.add(GRU(64, return_sequences=True))\n",
    "model.add(Dropout(0.2))\n",
    "model.add(Dense(32, activation='relu'))\n",
    "model.add(Dropout(0.2))\n",
    "model.add(Dense(1, activation='linear'))\n",
    "\n",
    "# compile and fit model\n",
    "model.compile(loss=\"mean_squared_error\", optimizer=Adam(), metrics=[\"mean_squared_error\"])\n",
    "# early_stop = EarlyStopping(monitor='val_loss', min_delta=0, patience=10, verbose=1, mode='auto')\n",
    "history_gru = model.fit(X_rnn_train, y_rnn_train,\n",
    "                        epochs=100, batch_size=200, verbose=1, #callbacks=[early_stop],\n",
    "                        validation_data=(X_rnn_test, y_rnn_test))"
   ]
  },
  {
   "cell_type": "code",
   "execution_count": 41,
   "metadata": {},
   "outputs": [
    {
     "data": {
      "image/png": "[encoded data removed]",
      "text/plain": [
       "<Figure size 432x288 with 1 Axes>"
      ]
     },
     "metadata": {
      "image/png": {
       "height": 244,
       "width": 431
      },
      "needs_background": "light"
     },
     "output_type": "display_data"
    }
   ],
   "source": [
    "plt.plot(history_gru.history['loss'], label='Train loss')\n",
    "plt.plot(history_gru.history['val_loss'], label='Test loss')\n",
    "plt.legend();"
   ]
  },
  {
   "cell_type": "code",
   "execution_count": 42,
   "metadata": {},
   "outputs": [
    {
     "data": {
      "text/html": [
       "<div>\n",
       "<style scoped>\n",
       "    .dataframe tbody tr th:only-of-type {\n",
       "        vertical-align: middle;\n",
       "    }\n",
       "\n",
       "    .dataframe tbody tr th {\n",
       "        vertical-align: top;\n",
       "    }\n",
       "\n",
       "    .dataframe thead th {\n",
       "        text-align: right;\n",
       "    }\n",
       "</style>\n",
       "<table border=\"1\" class=\"dataframe\">\n",
       "  <thead>\n",
       "    <tr style=\"text-align: right;\">\n",
       "      <th></th>\n",
       "      <th>epoch</th>\n",
       "      <th>train_loss</th>\n",
       "      <th>test_loss</th>\n",
       "      <th>val_gap</th>\n",
       "    </tr>\n",
       "  </thead>\n",
       "  <tbody>\n",
       "    <tr>\n",
       "      <th>0</th>\n",
       "      <td>1</td>\n",
       "      <td>92747.023438</td>\n",
       "      <td>129873.31250</td>\n",
       "      <td>37126.289062</td>\n",
       "    </tr>\n",
       "    <tr>\n",
       "      <th>1</th>\n",
       "      <td>2</td>\n",
       "      <td>90165.976562</td>\n",
       "      <td>127347.40625</td>\n",
       "      <td>37181.429688</td>\n",
       "    </tr>\n",
       "    <tr>\n",
       "      <th>2</th>\n",
       "      <td>3</td>\n",
       "      <td>88225.210938</td>\n",
       "      <td>125367.90625</td>\n",
       "      <td>37142.695312</td>\n",
       "    </tr>\n",
       "  </tbody>\n",
       "</table>\n",
       "</div>"
      ],
      "text/plain": [
       "   epoch    train_loss     test_loss       val_gap\n",
       "0      1  92747.023438  129873.31250  37126.289062\n",
       "1      2  90165.976562  127347.40625  37181.429688\n",
       "2      3  88225.210938  125367.90625  37142.695312"
      ]
     },
     "execution_count": 42,
     "metadata": {},
     "output_type": "execute_result"
    }
   ],
   "source": [
    "df_gru = pd.DataFrame(zip(list(range(1,100)), history_gru.history['loss'], history_gru.history['val_loss']),\n",
    "                       columns=[\"epoch\", \"train_loss\", \"test_loss\"])\n",
    "df_gru[\"val_gap\"] = abs(df_gru[\"train_loss\"] - df_gru[\"test_loss\"])\n",
    "df_gru.head(3)"
   ]
  },
  {
   "cell_type": "code",
   "execution_count": 45,
   "metadata": {},
   "outputs": [
    {
     "data": {
      "text/html": [
       "<div>\n",
       "<style scoped>\n",
       "    .dataframe tbody tr th:only-of-type {\n",
       "        vertical-align: middle;\n",
       "    }\n",
       "\n",
       "    .dataframe tbody tr th {\n",
       "        vertical-align: top;\n",
       "    }\n",
       "\n",
       "    .dataframe thead th {\n",
       "        text-align: right;\n",
       "    }\n",
       "</style>\n",
       "<table border=\"1\" class=\"dataframe\">\n",
       "  <thead>\n",
       "    <tr style=\"text-align: right;\">\n",
       "      <th></th>\n",
       "      <th>epoch</th>\n",
       "      <th>train_loss</th>\n",
       "      <th>test_loss</th>\n",
       "      <th>val_gap</th>\n",
       "    </tr>\n",
       "  </thead>\n",
       "  <tbody>\n",
       "    <tr>\n",
       "      <th>0</th>\n",
       "      <td>1</td>\n",
       "      <td>92747.023438</td>\n",
       "      <td>129873.3125</td>\n",
       "      <td>37126.289062</td>\n",
       "    </tr>\n",
       "  </tbody>\n",
       "</table>\n",
       "</div>"
      ],
      "text/plain": [
       "   epoch    train_loss    test_loss       val_gap\n",
       "0      1  92747.023438  129873.3125  37126.289062"
      ]
     },
     "execution_count": 45,
     "metadata": {},
     "output_type": "execute_result"
    }
   ],
   "source": [
    "# find smallest mse val gap for best generalisation\n",
    "df_gru.sort_values(by=\"val_gap\", ascending=True).head(1)"
   ]
  },
  {
   "cell_type": "code",
   "execution_count": null,
   "metadata": {},
   "outputs": [],
   "source": [
    "# model generalised best at the first epoch\n",
    "# this means model was already diverging from the start"
   ]
  },
  {
   "cell_type": "code",
   "execution_count": 46,
   "metadata": {},
   "outputs": [
    {
     "data": {
      "text/html": [
       "<div>\n",
       "<style scoped>\n",
       "    .dataframe tbody tr th:only-of-type {\n",
       "        vertical-align: middle;\n",
       "    }\n",
       "\n",
       "    .dataframe tbody tr th {\n",
       "        vertical-align: top;\n",
       "    }\n",
       "\n",
       "    .dataframe thead th {\n",
       "        text-align: right;\n",
       "    }\n",
       "</style>\n",
       "<table border=\"1\" class=\"dataframe\">\n",
       "  <thead>\n",
       "    <tr style=\"text-align: right;\">\n",
       "      <th></th>\n",
       "      <th>epoch</th>\n",
       "      <th>train_loss</th>\n",
       "      <th>test_loss</th>\n",
       "      <th>val_gap</th>\n",
       "    </tr>\n",
       "  </thead>\n",
       "  <tbody>\n",
       "    <tr>\n",
       "      <th>26</th>\n",
       "      <td>27</td>\n",
       "      <td>37762.964844</td>\n",
       "      <td>101920.109375</td>\n",
       "      <td>64157.144531</td>\n",
       "    </tr>\n",
       "  </tbody>\n",
       "</table>\n",
       "</div>"
      ],
      "text/plain": [
       "    epoch    train_loss      test_loss       val_gap\n",
       "26     27  37762.964844  101920.109375  64157.144531"
      ]
     },
     "execution_count": 46,
     "metadata": {},
     "output_type": "execute_result"
    }
   ],
   "source": [
    "# find lowest test mse score\n",
    "df_gru.sort_values(by=\"test_loss\", ascending=True).head(1)"
   ]
  },
  {
   "cell_type": "code",
   "execution_count": 47,
   "metadata": {},
   "outputs": [],
   "source": [
    "# from line plot we can see a floor to the test mse score before error increases\n",
    "# this is also the point where the score gap starts to increase drastically\n",
    "# where model's generalisation goes from bad to worse"
   ]
  },
  {
   "cell_type": "code",
   "execution_count": 48,
   "metadata": {},
   "outputs": [
    {
     "data": {
      "image/png": "[encoded data removed]",
      "text/plain": [
       "<Figure size 432x288 with 1 Axes>"
      ]
     },
     "metadata": {
      "image/png": {
       "height": 261,
       "width": 448
      },
      "needs_background": "light"
     },
     "output_type": "display_data"
    }
   ],
   "source": [
    "# scatter plot of val gap against test loss\n",
    "sns.scatterplot(data=df_gru, x=\"val_gap\", y=\"test_loss\");\n",
    "# we want to minimise both\n",
    "# or find the sweet spot of points at the bottom left corner of the plot\n",
    "# but as you can see, there is a void of sweet spot"
   ]
  },
  {
   "cell_type": "code",
   "execution_count": 51,
   "metadata": {},
   "outputs": [
    {
     "data": {
      "text/html": [
       "<div>\n",
       "<style scoped>\n",
       "    .dataframe tbody tr th:only-of-type {\n",
       "        vertical-align: middle;\n",
       "    }\n",
       "\n",
       "    .dataframe tbody tr th {\n",
       "        vertical-align: top;\n",
       "    }\n",
       "\n",
       "    .dataframe thead th {\n",
       "        text-align: right;\n",
       "    }\n",
       "</style>\n",
       "<table border=\"1\" class=\"dataframe\">\n",
       "  <thead>\n",
       "    <tr style=\"text-align: right;\">\n",
       "      <th></th>\n",
       "      <th>epoch</th>\n",
       "      <th>train_loss</th>\n",
       "      <th>test_loss</th>\n",
       "      <th>val_gap</th>\n",
       "    </tr>\n",
       "  </thead>\n",
       "  <tbody>\n",
       "    <tr>\n",
       "      <th>18</th>\n",
       "      <td>19</td>\n",
       "      <td>57870.199219</td>\n",
       "      <td>107583.367188</td>\n",
       "      <td>49713.167969</td>\n",
       "    </tr>\n",
       "  </tbody>\n",
       "</table>\n",
       "</div>"
      ],
      "text/plain": [
       "    epoch    train_loss      test_loss       val_gap\n",
       "18     19  57870.199219  107583.367188  49713.167969"
      ]
     },
     "execution_count": 51,
     "metadata": {},
     "output_type": "execute_result"
    }
   ],
   "source": [
    "# let's find point where val gap < 50_000 and test loss is lowest\n",
    "df_gru[df_gru[\"val_gap\"] < 50_000].sort_values(by=\"test_loss\", ascending=True).head(1)"
   ]
  },
  {
   "cell_type": "code",
   "execution_count": null,
   "metadata": {},
   "outputs": [],
   "source": [
    "# which epoch?? 26 or 9"
   ]
  },
  {
   "cell_type": "code",
   "execution_count": 52,
   "metadata": {},
   "outputs": [
    {
     "data": {
      "text/html": [
       "<div>\n",
       "<style scoped>\n",
       "    .dataframe tbody tr th:only-of-type {\n",
       "        vertical-align: middle;\n",
       "    }\n",
       "\n",
       "    .dataframe tbody tr th {\n",
       "        vertical-align: top;\n",
       "    }\n",
       "\n",
       "    .dataframe thead th {\n",
       "        text-align: right;\n",
       "    }\n",
       "</style>\n",
       "<table border=\"1\" class=\"dataframe\">\n",
       "  <thead>\n",
       "    <tr style=\"text-align: right;\">\n",
       "      <th></th>\n",
       "      <th>epoch</th>\n",
       "      <th>train_loss</th>\n",
       "      <th>test_loss</th>\n",
       "      <th>val_gap</th>\n",
       "      <th>loss_product</th>\n",
       "    </tr>\n",
       "  </thead>\n",
       "  <tbody>\n",
       "    <tr>\n",
       "      <th>0</th>\n",
       "      <td>1</td>\n",
       "      <td>92747.023438</td>\n",
       "      <td>129873.31250</td>\n",
       "      <td>37126.289062</td>\n",
       "      <td>1.204536e+10</td>\n",
       "    </tr>\n",
       "    <tr>\n",
       "      <th>1</th>\n",
       "      <td>2</td>\n",
       "      <td>90165.976562</td>\n",
       "      <td>127347.40625</td>\n",
       "      <td>37181.429688</td>\n",
       "      <td>1.148240e+10</td>\n",
       "    </tr>\n",
       "    <tr>\n",
       "      <th>2</th>\n",
       "      <td>3</td>\n",
       "      <td>88225.210938</td>\n",
       "      <td>125367.90625</td>\n",
       "      <td>37142.695312</td>\n",
       "      <td>1.106061e+10</td>\n",
       "    </tr>\n",
       "  </tbody>\n",
       "</table>\n",
       "</div>"
      ],
      "text/plain": [
       "   epoch    train_loss     test_loss       val_gap  loss_product\n",
       "0      1  92747.023438  129873.31250  37126.289062  1.204536e+10\n",
       "1      2  90165.976562  127347.40625  37181.429688  1.148240e+10\n",
       "2      3  88225.210938  125367.90625  37142.695312  1.106061e+10"
      ]
     },
     "execution_count": 52,
     "metadata": {},
     "output_type": "execute_result"
    }
   ],
   "source": [
    "# to find elbow\n",
    "df_gru[\"loss_product\"] = df_gru[\"train_loss\"]*df_gru[\"test_loss\"]\n",
    "df_gru.head(3)"
   ]
  },
  {
   "cell_type": "code",
   "execution_count": 53,
   "metadata": {},
   "outputs": [
    {
     "data": {
      "image/png": "[encoded data removed]",
      "text/plain": [
       "<Figure size 432x288 with 1 Axes>"
      ]
     },
     "metadata": {
      "image/png": {
       "height": 255,
       "width": 409
      },
      "needs_background": "light"
     },
     "output_type": "display_data"
    }
   ],
   "source": [
    "df_gru[\"loss_product\"].plot();"
   ]
  },
  {
   "cell_type": "code",
   "execution_count": 54,
   "metadata": {},
   "outputs": [
    {
     "data": {
      "text/html": [
       "<div>\n",
       "<style scoped>\n",
       "    .dataframe tbody tr th:only-of-type {\n",
       "        vertical-align: middle;\n",
       "    }\n",
       "\n",
       "    .dataframe tbody tr th {\n",
       "        vertical-align: top;\n",
       "    }\n",
       "\n",
       "    .dataframe thead th {\n",
       "        text-align: right;\n",
       "    }\n",
       "</style>\n",
       "<table border=\"1\" class=\"dataframe\">\n",
       "  <thead>\n",
       "    <tr style=\"text-align: right;\">\n",
       "      <th></th>\n",
       "      <th>epoch</th>\n",
       "      <th>train_loss</th>\n",
       "      <th>test_loss</th>\n",
       "      <th>val_gap</th>\n",
       "      <th>loss_product</th>\n",
       "    </tr>\n",
       "  </thead>\n",
       "  <tbody>\n",
       "    <tr>\n",
       "      <th>26</th>\n",
       "      <td>27</td>\n",
       "      <td>37762.964844</td>\n",
       "      <td>101920.109375</td>\n",
       "      <td>64157.144531</td>\n",
       "      <td>3.848806e+09</td>\n",
       "    </tr>\n",
       "  </tbody>\n",
       "</table>\n",
       "</div>"
      ],
      "text/plain": [
       "    epoch    train_loss      test_loss       val_gap  loss_product\n",
       "26     27  37762.964844  101920.109375  64157.144531  3.848806e+09"
      ]
     },
     "execution_count": 54,
     "metadata": {},
     "output_type": "execute_result"
    }
   ],
   "source": [
    "# elbow looks to be at when loss product is about 0.4 or at about epoch 25\n",
    "df_gru[df_gru[\"loss_product\"] < 0.4*10**10].sort_values(by=\"loss_product\", ascending=False).head(1)"
   ]
  },
  {
   "cell_type": "code",
   "execution_count": 55,
   "metadata": {},
   "outputs": [
    {
     "data": {
      "text/html": [
       "<div>\n",
       "<style scoped>\n",
       "    .dataframe tbody tr th:only-of-type {\n",
       "        vertical-align: middle;\n",
       "    }\n",
       "\n",
       "    .dataframe tbody tr th {\n",
       "        vertical-align: top;\n",
       "    }\n",
       "\n",
       "    .dataframe thead th {\n",
       "        text-align: right;\n",
       "    }\n",
       "</style>\n",
       "<table border=\"1\" class=\"dataframe\">\n",
       "  <thead>\n",
       "    <tr style=\"text-align: right;\">\n",
       "      <th></th>\n",
       "      <th>epoch</th>\n",
       "      <th>train_loss</th>\n",
       "      <th>test_loss</th>\n",
       "      <th>val_gap</th>\n",
       "      <th>loss_product</th>\n",
       "    </tr>\n",
       "  </thead>\n",
       "  <tbody>\n",
       "    <tr>\n",
       "      <th>24</th>\n",
       "      <td>25</td>\n",
       "      <td>40728.601562</td>\n",
       "      <td>105047.210938</td>\n",
       "      <td>64318.609375</td>\n",
       "      <td>4.278426e+09</td>\n",
       "    </tr>\n",
       "    <tr>\n",
       "      <th>25</th>\n",
       "      <td>26</td>\n",
       "      <td>39412.390625</td>\n",
       "      <td>104189.617188</td>\n",
       "      <td>64777.226562</td>\n",
       "      <td>4.106362e+09</td>\n",
       "    </tr>\n",
       "    <tr>\n",
       "      <th>26</th>\n",
       "      <td>27</td>\n",
       "      <td>37762.964844</td>\n",
       "      <td>101920.109375</td>\n",
       "      <td>64157.144531</td>\n",
       "      <td>3.848806e+09</td>\n",
       "    </tr>\n",
       "    <tr>\n",
       "      <th>27</th>\n",
       "      <td>28</td>\n",
       "      <td>36202.363281</td>\n",
       "      <td>102409.476562</td>\n",
       "      <td>66207.113281</td>\n",
       "      <td>3.707465e+09</td>\n",
       "    </tr>\n",
       "  </tbody>\n",
       "</table>\n",
       "</div>"
      ],
      "text/plain": [
       "    epoch    train_loss      test_loss       val_gap  loss_product\n",
       "24     25  40728.601562  105047.210938  64318.609375  4.278426e+09\n",
       "25     26  39412.390625  104189.617188  64777.226562  4.106362e+09\n",
       "26     27  37762.964844  101920.109375  64157.144531  3.848806e+09\n",
       "27     28  36202.363281  102409.476562  66207.113281  3.707465e+09"
      ]
     },
     "execution_count": 55,
     "metadata": {},
     "output_type": "execute_result"
    }
   ],
   "source": [
    "df_gru[24:28]"
   ]
  },
  {
   "cell_type": "code",
   "execution_count": null,
   "metadata": {},
   "outputs": [],
   "source": [
    "# epoch 31 looks to be the best\n",
    "# loss is measured with mse\n",
    "### therefore train loss = 36371.1\n",
    "### test loss = 127547.2\n",
    "\n",
    "# use epoch 27"
   ]
  },
  {
   "cell_type": "markdown",
   "metadata": {},
   "source": [
    "#### LSTM"
   ]
  },
  {
   "cell_type": "code",
   "execution_count": 22,
   "metadata": {},
   "outputs": [
    {
     "name": "stdout",
     "output_type": "stream",
     "text": [
      "Epoch 1/100\n",
      "46/46 [==============================] - 11s 240ms/step - loss: 91817.2344 - mean_squared_error: 91817.2344 - val_loss: 127841.1875 - val_mean_squared_error: 127841.1875\n",
      "Epoch 2/100\n",
      "46/46 [==============================] - 10s 217ms/step - loss: 87849.7891 - mean_squared_error: 87849.7891 - val_loss: 124487.8906 - val_mean_squared_error: 124487.8906\n",
      "Epoch 3/100\n",
      "46/46 [==============================] - 10s 216ms/step - loss: 86365.6016 - mean_squared_error: 86365.6016 - val_loss: 123478.9062 - val_mean_squared_error: 123478.9062\n",
      "Epoch 4/100\n",
      "46/46 [==============================] - 10s 217ms/step - loss: 86104.9609 - mean_squared_error: 86104.9609 - val_loss: 123330.6875 - val_mean_squared_error: 123330.6875\n",
      "Epoch 5/100\n",
      "46/46 [==============================] - 10s 215ms/step - loss: 86071.4688 - mean_squared_error: 86071.4688 - val_loss: 123337.2109 - val_mean_squared_error: 123337.2109\n",
      "Epoch 6/100\n",
      "46/46 [==============================] - 10s 214ms/step - loss: 86178.8203 - mean_squared_error: 86178.8203 - val_loss: 123349.1250 - val_mean_squared_error: 123349.1250\n",
      "Epoch 7/100\n",
      "46/46 [==============================] - 10s 216ms/step - loss: 86099.4609 - mean_squared_error: 86099.4609 - val_loss: 123306.8828 - val_mean_squared_error: 123306.8828\n",
      "Epoch 8/100\n",
      "46/46 [==============================] - 13s 275ms/step - loss: 86142.4688 - mean_squared_error: 86142.4688 - val_loss: 123308.0078 - val_mean_squared_error: 123308.0078\n",
      "Epoch 9/100\n",
      "46/46 [==============================] - 13s 274ms/step - loss: 86141.3281 - mean_squared_error: 86141.3281 - val_loss: 123327.7969 - val_mean_squared_error: 123327.7969\n",
      "Epoch 10/100\n",
      "46/46 [==============================] - 13s 276ms/step - loss: 85899.4766 - mean_squared_error: 85899.4766 - val_loss: 123286.0234 - val_mean_squared_error: 123286.0234\n",
      "Epoch 11/100\n",
      "46/46 [==============================] - 12s 254ms/step - loss: 86184.1250 - mean_squared_error: 86184.1250 - val_loss: 123311.1328 - val_mean_squared_error: 123311.1328\n",
      "Epoch 12/100\n",
      "46/46 [==============================] - 12s 250ms/step - loss: 85936.6328 - mean_squared_error: 85936.6328 - val_loss: 123094.6641 - val_mean_squared_error: 123094.6641\n",
      "Epoch 13/100\n",
      "46/46 [==============================] - 12s 252ms/step - loss: 85608.7266 - mean_squared_error: 85608.7266 - val_loss: 123087.2031 - val_mean_squared_error: 123087.2031\n",
      "Epoch 14/100\n",
      "46/46 [==============================] - 12s 254ms/step - loss: 85176.1875 - mean_squared_error: 85176.1875 - val_loss: 126299.5859 - val_mean_squared_error: 126299.5859\n",
      "Epoch 15/100\n",
      "46/46 [==============================] - 12s 250ms/step - loss: 85210.8359 - mean_squared_error: 85210.8359 - val_loss: 126738.5000 - val_mean_squared_error: 126738.5000\n",
      "Epoch 16/100\n",
      "46/46 [==============================] - 12s 252ms/step - loss: 84772.2812 - mean_squared_error: 84772.2812 - val_loss: 126126.9375 - val_mean_squared_error: 126126.9375\n",
      "Epoch 17/100\n",
      "46/46 [==============================] - 12s 252ms/step - loss: 84028.8203 - mean_squared_error: 84028.8203 - val_loss: 124579.4297 - val_mean_squared_error: 124579.4297\n",
      "Epoch 18/100\n",
      "46/46 [==============================] - 12s 259ms/step - loss: 84048.9531 - mean_squared_error: 84048.9531 - val_loss: 123489.7188 - val_mean_squared_error: 123489.7188\n",
      "Epoch 19/100\n",
      "46/46 [==============================] - 12s 258ms/step - loss: 86008.9922 - mean_squared_error: 86008.9922 - val_loss: 124714.6953 - val_mean_squared_error: 124714.6953\n",
      "Epoch 20/100\n",
      "46/46 [==============================] - 12s 263ms/step - loss: 85053.1094 - mean_squared_error: 85053.1094 - val_loss: 124313.5547 - val_mean_squared_error: 124313.5547\n",
      "Epoch 21/100\n",
      "46/46 [==============================] - 12s 262ms/step - loss: 84428.0469 - mean_squared_error: 84428.0469 - val_loss: 123945.8594 - val_mean_squared_error: 123945.8594\n",
      "Epoch 22/100\n",
      "46/46 [==============================] - 12s 259ms/step - loss: 84333.4531 - mean_squared_error: 84333.4531 - val_loss: 123826.3516 - val_mean_squared_error: 123826.3516\n",
      "Epoch 23/100\n",
      "46/46 [==============================] - 12s 258ms/step - loss: 81607.7188 - mean_squared_error: 81607.7188 - val_loss: 122074.7500 - val_mean_squared_error: 122074.7344\n",
      "Epoch 24/100\n",
      "46/46 [==============================] - 13s 284ms/step - loss: 77076.0469 - mean_squared_error: 77076.0469 - val_loss: 120097.1328 - val_mean_squared_error: 120097.1328\n",
      "Epoch 25/100\n",
      "46/46 [==============================] - 12s 258ms/step - loss: 76279.5703 - mean_squared_error: 76279.5703 - val_loss: 121541.2500 - val_mean_squared_error: 121541.2500\n",
      "Epoch 26/100\n",
      "46/46 [==============================] - 12s 271ms/step - loss: 79169.2109 - mean_squared_error: 79169.2109 - val_loss: 121393.0703 - val_mean_squared_error: 121393.0703\n",
      "Epoch 27/100\n",
      "46/46 [==============================] - 13s 273ms/step - loss: 77722.6094 - mean_squared_error: 77722.6094 - val_loss: 116524.6875 - val_mean_squared_error: 116524.6875\n",
      "Epoch 28/100\n",
      "46/46 [==============================] - 13s 275ms/step - loss: 73398.0703 - mean_squared_error: 73398.0703 - val_loss: 120325.2188 - val_mean_squared_error: 120325.2188\n",
      "Epoch 29/100\n",
      "46/46 [==============================] - 12s 269ms/step - loss: 73430.5547 - mean_squared_error: 73430.5547 - val_loss: 122328.3516 - val_mean_squared_error: 122328.3516\n",
      "Epoch 30/100\n",
      "46/46 [==============================] - 13s 274ms/step - loss: 70910.0859 - mean_squared_error: 70910.0859 - val_loss: 124006.7969 - val_mean_squared_error: 124006.8125\n",
      "Epoch 31/100\n",
      "46/46 [==============================] - 13s 275ms/step - loss: 74908.9609 - mean_squared_error: 74908.9609 - val_loss: 125704.5000 - val_mean_squared_error: 125704.5000\n",
      "Epoch 32/100\n",
      "46/46 [==============================] - 12s 272ms/step - loss: 75829.1328 - mean_squared_error: 75829.1328 - val_loss: 109243.2344 - val_mean_squared_error: 109243.2344\n",
      "Epoch 33/100\n",
      "46/46 [==============================] - 13s 274ms/step - loss: 65368.4102 - mean_squared_error: 65368.4102 - val_loss: 99803.9766 - val_mean_squared_error: 99803.9766\n",
      "Epoch 34/100\n",
      "46/46 [==============================] - 13s 276ms/step - loss: 58801.4688 - mean_squared_error: 58801.4688 - val_loss: 94009.3047 - val_mean_squared_error: 94009.3047\n",
      "Epoch 35/100\n",
      "46/46 [==============================] - 13s 276ms/step - loss: 56864.5977 - mean_squared_error: 56864.5977 - val_loss: 90009.6797 - val_mean_squared_error: 90009.6797\n",
      "Epoch 36/100\n",
      "46/46 [==============================] - 13s 285ms/step - loss: 52804.2539 - mean_squared_error: 52804.2539 - val_loss: 91226.3359 - val_mean_squared_error: 91226.3359\n",
      "Epoch 37/100\n",
      "46/46 [==============================] - 14s 306ms/step - loss: 54231.8945 - mean_squared_error: 54231.8945 - val_loss: 87815.4688 - val_mean_squared_error: 87815.4688\n",
      "Epoch 38/100\n",
      "46/46 [==============================] - 13s 283ms/step - loss: 52845.4531 - mean_squared_error: 52845.4531 - val_loss: 87852.1328 - val_mean_squared_error: 87852.1172\n",
      "Epoch 39/100\n",
      "46/46 [==============================] - 13s 285ms/step - loss: 51858.1055 - mean_squared_error: 51858.1055 - val_loss: 87360.3047 - val_mean_squared_error: 87360.3047\n",
      "Epoch 40/100\n",
      "46/46 [==============================] - 13s 288ms/step - loss: 50200.9570 - mean_squared_error: 50200.9570 - val_loss: 86032.3516 - val_mean_squared_error: 86032.3516\n",
      "Epoch 41/100\n",
      "46/46 [==============================] - 13s 279ms/step - loss: 48732.9492 - mean_squared_error: 48732.9492 - val_loss: 85397.1797 - val_mean_squared_error: 85397.1797\n",
      "Epoch 42/100\n",
      "46/46 [==============================] - 13s 274ms/step - loss: 48220.3125 - mean_squared_error: 48220.3125 - val_loss: 84513.2891 - val_mean_squared_error: 84513.2891\n",
      "Epoch 43/100\n",
      "46/46 [==============================] - 13s 276ms/step - loss: 46180.7305 - mean_squared_error: 46180.7305 - val_loss: 85128.7109 - val_mean_squared_error: 85128.7109\n",
      "Epoch 44/100\n",
      "46/46 [==============================] - 13s 275ms/step - loss: 46511.9531 - mean_squared_error: 46511.9531 - val_loss: 85662.5625 - val_mean_squared_error: 85662.5703\n",
      "Epoch 45/100\n",
      "46/46 [==============================] - 13s 283ms/step - loss: 45246.4297 - mean_squared_error: 45246.4336 - val_loss: 86749.8750 - val_mean_squared_error: 86749.8750\n"
     ]
    },
    {
     "name": "stdout",
     "output_type": "stream",
     "text": [
      "Epoch 46/100\n",
      "46/46 [==============================] - 13s 277ms/step - loss: 44460.4453 - mean_squared_error: 44460.4453 - val_loss: 85116.9688 - val_mean_squared_error: 85116.9688\n",
      "Epoch 47/100\n",
      "46/46 [==============================] - 13s 279ms/step - loss: 42241.7383 - mean_squared_error: 42241.7383 - val_loss: 85283.9141 - val_mean_squared_error: 85283.9297\n",
      "Epoch 48/100\n",
      "46/46 [==============================] - 13s 278ms/step - loss: 41082.3789 - mean_squared_error: 41082.3789 - val_loss: 85272.6172 - val_mean_squared_error: 85272.6250\n",
      "Epoch 49/100\n",
      "46/46 [==============================] - 13s 282ms/step - loss: 41158.1406 - mean_squared_error: 41158.1406 - val_loss: 85712.4844 - val_mean_squared_error: 85712.4844\n",
      "Epoch 50/100\n",
      "46/46 [==============================] - 12s 271ms/step - loss: 40101.0430 - mean_squared_error: 40101.0430 - val_loss: 84981.6953 - val_mean_squared_error: 84981.6953\n",
      "Epoch 51/100\n",
      "46/46 [==============================] - 12s 271ms/step - loss: 39811.1328 - mean_squared_error: 39811.1328 - val_loss: 85540.5312 - val_mean_squared_error: 85540.5312\n",
      "Epoch 52/100\n",
      "46/46 [==============================] - 14s 306ms/step - loss: 40615.8945 - mean_squared_error: 40615.8945 - val_loss: 85906.4062 - val_mean_squared_error: 85906.4062\n",
      "Epoch 53/100\n",
      "46/46 [==============================] - 13s 279ms/step - loss: 39476.6094 - mean_squared_error: 39476.6094 - val_loss: 85357.6953 - val_mean_squared_error: 85357.6953\n",
      "Epoch 54/100\n",
      "46/46 [==============================] - 13s 278ms/step - loss: 38594.2695 - mean_squared_error: 38594.2695 - val_loss: 84665.7031 - val_mean_squared_error: 84665.7031\n",
      "Epoch 55/100\n",
      "46/46 [==============================] - 12s 269ms/step - loss: 39372.8320 - mean_squared_error: 39372.8320 - val_loss: 85044.4453 - val_mean_squared_error: 85044.4453\n",
      "Epoch 56/100\n",
      "46/46 [==============================] - 13s 278ms/step - loss: 37596.2109 - mean_squared_error: 37596.2109 - val_loss: 83045.5156 - val_mean_squared_error: 83045.5156\n",
      "Epoch 57/100\n",
      "46/46 [==============================] - 13s 274ms/step - loss: 35757.9180 - mean_squared_error: 35757.9180 - val_loss: 83383.6797 - val_mean_squared_error: 83383.6797\n",
      "Epoch 58/100\n",
      "46/46 [==============================] - 13s 283ms/step - loss: 36806.1172 - mean_squared_error: 36806.1172 - val_loss: 82927.9688 - val_mean_squared_error: 82927.9688\n",
      "Epoch 59/100\n",
      "46/46 [==============================] - 13s 272ms/step - loss: 36612.0547 - mean_squared_error: 36612.0547 - val_loss: 79639.3047 - val_mean_squared_error: 79639.3047\n",
      "Epoch 60/100\n",
      "46/46 [==============================] - 13s 273ms/step - loss: 36227.1094 - mean_squared_error: 36227.1094 - val_loss: 82664.0703 - val_mean_squared_error: 82664.0859\n",
      "Epoch 61/100\n",
      "46/46 [==============================] - 13s 274ms/step - loss: 34246.7539 - mean_squared_error: 34246.7539 - val_loss: 81567.5938 - val_mean_squared_error: 81567.5938\n",
      "Epoch 62/100\n",
      "46/46 [==============================] - 13s 283ms/step - loss: 35665.1641 - mean_squared_error: 35665.1641 - val_loss: 82814.5625 - val_mean_squared_error: 82814.5625\n",
      "Epoch 63/100\n",
      "46/46 [==============================] - 13s 282ms/step - loss: 34645.7930 - mean_squared_error: 34645.7930 - val_loss: 82940.9453 - val_mean_squared_error: 82940.9453\n",
      "Epoch 64/100\n",
      "46/46 [==============================] - 13s 275ms/step - loss: 34861.1992 - mean_squared_error: 34861.1992 - val_loss: 82984.3203 - val_mean_squared_error: 82984.3203\n",
      "Epoch 65/100\n",
      "46/46 [==============================] - 13s 272ms/step - loss: 35106.8711 - mean_squared_error: 35106.8711 - val_loss: 83766.7812 - val_mean_squared_error: 83766.7812\n",
      "Epoch 66/100\n",
      "46/46 [==============================] - 13s 286ms/step - loss: 34468.7070 - mean_squared_error: 34468.7070 - val_loss: 82350.0156 - val_mean_squared_error: 82350.0156\n",
      "Epoch 67/100\n",
      "46/46 [==============================] - 13s 276ms/step - loss: 33485.9023 - mean_squared_error: 33485.9023 - val_loss: 83425.8672 - val_mean_squared_error: 83425.8672\n",
      "Epoch 68/100\n",
      "46/46 [==============================] - 13s 278ms/step - loss: 32179.3242 - mean_squared_error: 32179.3242 - val_loss: 83541.5469 - val_mean_squared_error: 83541.5469\n",
      "Epoch 69/100\n",
      "46/46 [==============================] - 13s 274ms/step - loss: 33743.8750 - mean_squared_error: 33743.8750 - val_loss: 82906.5703 - val_mean_squared_error: 82906.5703\n",
      "Epoch 70/100\n",
      "46/46 [==============================] - 13s 275ms/step - loss: 31847.7227 - mean_squared_error: 31847.7227 - val_loss: 83404.8359 - val_mean_squared_error: 83404.8359\n",
      "Epoch 71/100\n",
      "46/46 [==============================] - 13s 272ms/step - loss: 32302.6797 - mean_squared_error: 32302.6797 - val_loss: 83813.8672 - val_mean_squared_error: 83813.8672\n",
      "Epoch 72/100\n",
      "46/46 [==============================] - 13s 282ms/step - loss: 31718.1875 - mean_squared_error: 31718.1875 - val_loss: 85838.1875 - val_mean_squared_error: 85838.1875\n",
      "Epoch 73/100\n",
      "46/46 [==============================] - 13s 273ms/step - loss: 30723.5117 - mean_squared_error: 30723.5117 - val_loss: 84544.4922 - val_mean_squared_error: 84544.4922\n",
      "Epoch 74/100\n",
      "46/46 [==============================] - 13s 273ms/step - loss: 30901.5176 - mean_squared_error: 30901.5176 - val_loss: 86116.0000 - val_mean_squared_error: 86116.0000\n",
      "Epoch 75/100\n",
      "46/46 [==============================] - 13s 272ms/step - loss: 31309.0352 - mean_squared_error: 31309.0352 - val_loss: 86114.7656 - val_mean_squared_error: 86114.7656\n",
      "Epoch 76/100\n",
      "46/46 [==============================] - 13s 280ms/step - loss: 30857.8086 - mean_squared_error: 30857.8086 - val_loss: 84747.9531 - val_mean_squared_error: 84747.9531\n",
      "Epoch 77/100\n",
      "46/46 [==============================] - 13s 273ms/step - loss: 30312.0762 - mean_squared_error: 30312.0723 - val_loss: 82654.4766 - val_mean_squared_error: 82654.4766\n",
      "Epoch 78/100\n",
      "46/46 [==============================] - 13s 278ms/step - loss: 31145.2168 - mean_squared_error: 31145.2129 - val_loss: 85598.8125 - val_mean_squared_error: 85598.8125\n",
      "Epoch 79/100\n",
      "46/46 [==============================] - 13s 277ms/step - loss: 30500.1328 - mean_squared_error: 30500.1328 - val_loss: 84245.9297 - val_mean_squared_error: 84245.9297\n",
      "Epoch 80/100\n",
      "46/46 [==============================] - 13s 272ms/step - loss: 29513.9473 - mean_squared_error: 29513.9473 - val_loss: 83776.5781 - val_mean_squared_error: 83776.5703\n",
      "Epoch 81/100\n",
      "46/46 [==============================] - 13s 273ms/step - loss: 28828.8574 - mean_squared_error: 28828.8574 - val_loss: 83475.2031 - val_mean_squared_error: 83475.2031\n",
      "Epoch 82/100\n",
      "46/46 [==============================] - 13s 274ms/step - loss: 28236.4902 - mean_squared_error: 28236.4902 - val_loss: 82768.7812 - val_mean_squared_error: 82768.7812\n",
      "Epoch 83/100\n",
      "46/46 [==============================] - 13s 275ms/step - loss: 26869.4258 - mean_squared_error: 26869.4219 - val_loss: 83143.0078 - val_mean_squared_error: 83143.0078\n",
      "Epoch 84/100\n",
      "46/46 [==============================] - 13s 275ms/step - loss: 28773.5664 - mean_squared_error: 28773.5664 - val_loss: 84042.3594 - val_mean_squared_error: 84042.3672\n",
      "Epoch 85/100\n",
      "46/46 [==============================] - 13s 279ms/step - loss: 29859.7656 - mean_squared_error: 29859.7656 - val_loss: 85562.4453 - val_mean_squared_error: 85562.4453\n",
      "Epoch 86/100\n",
      "46/46 [==============================] - 13s 276ms/step - loss: 26112.6797 - mean_squared_error: 26112.6758 - val_loss: 85809.7188 - val_mean_squared_error: 85809.7188\n",
      "Epoch 87/100\n",
      "46/46 [==============================] - 13s 274ms/step - loss: 27086.1953 - mean_squared_error: 27086.1953 - val_loss: 86628.5078 - val_mean_squared_error: 86628.5078\n",
      "Epoch 88/100\n",
      "46/46 [==============================] - 13s 274ms/step - loss: 26310.4609 - mean_squared_error: 26310.4609 - val_loss: 87109.7422 - val_mean_squared_error: 87109.7422\n",
      "Epoch 89/100\n",
      "46/46 [==============================] - 13s 275ms/step - loss: 25758.7305 - mean_squared_error: 25758.7305 - val_loss: 86011.2422 - val_mean_squared_error: 86011.2422\n",
      "Epoch 90/100\n",
      "46/46 [==============================] - 13s 275ms/step - loss: 26342.5684 - mean_squared_error: 26342.5684 - val_loss: 87986.5859 - val_mean_squared_error: 87986.5859\n",
      "Epoch 91/100\n",
      "46/46 [==============================] - 13s 273ms/step - loss: 28236.6230 - mean_squared_error: 28236.6230 - val_loss: 88463.2500 - val_mean_squared_error: 88463.2500\n",
      "Epoch 92/100\n",
      "46/46 [==============================] - 13s 279ms/step - loss: 27308.7871 - mean_squared_error: 27308.7871 - val_loss: 88056.6484 - val_mean_squared_error: 88056.6484\n",
      "Epoch 93/100\n",
      "46/46 [==============================] - 12s 270ms/step - loss: 28025.0996 - mean_squared_error: 28025.0996 - val_loss: 87233.5703 - val_mean_squared_error: 87233.5703\n",
      "Epoch 94/100\n",
      "46/46 [==============================] - 13s 273ms/step - loss: 24762.5664 - mean_squared_error: 24762.5664 - val_loss: 86914.1250 - val_mean_squared_error: 86914.1250\n",
      "Epoch 95/100\n",
      "46/46 [==============================] - 12s 270ms/step - loss: 27630.5762 - mean_squared_error: 27630.5762 - val_loss: 88356.3984 - val_mean_squared_error: 88356.3984\n",
      "Epoch 96/100\n",
      "46/46 [==============================] - 13s 278ms/step - loss: 25071.4336 - mean_squared_error: 25071.4355 - val_loss: 87419.4453 - val_mean_squared_error: 87419.4453\n",
      "Epoch 97/100\n",
      "46/46 [==============================] - 12s 269ms/step - loss: 27130.6387 - mean_squared_error: 27130.6387 - val_loss: 88115.5078 - val_mean_squared_error: 88115.5078\n",
      "Epoch 98/100\n",
      "46/46 [==============================] - 13s 273ms/step - loss: 25368.5293 - mean_squared_error: 25368.5293 - val_loss: 87536.4375 - val_mean_squared_error: 87536.4375\n",
      "Epoch 99/100\n",
      "46/46 [==============================] - 12s 271ms/step - loss: 25602.5664 - mean_squared_error: 25602.5664 - val_loss: 88477.7891 - val_mean_squared_error: 88477.7891\n",
      "Epoch 100/100\n",
      "46/46 [==============================] - 12s 270ms/step - loss: 24292.4590 - mean_squared_error: 24292.4590 - val_loss: 88982.6484 - val_mean_squared_error: 88982.6484\n",
      "Wall time: 21min 10s\n"
     ]
    }
   ],
   "source": [
    "%%time\n",
    "# create model\n",
    "model = Sequential()\n",
    "model.add(Embedding(X_train_rnn_cvec.shape[1], 128, input_length=100))\n",
    "model.add(LSTM(64))\n",
    "model.add(Dropout(0.2))\n",
    "model.add(Dense(32, activation='relu'))\n",
    "model.add(Dropout(0.2))\n",
    "model.add(Dense(1, activation='linear'))\n",
    "\n",
    "# compile and fit model\n",
    "model.compile(loss=\"mean_squared_error\", optimizer=Adam(), metrics=[\"mean_squared_error\"])\n",
    "# early_stop = EarlyStopping(monitor='val_loss', min_delta=0, patience=10, verbose=1, mode='auto')\n",
    "history_lstm = model.fit(X_rnn_train, y_rnn_train,\n",
    "                         epochs=100, batch_size=200, verbose=1, #callbacks=[early_stop],\n",
    "                         validation_data=(X_rnn_test, y_rnn_test))"
   ]
  },
  {
   "cell_type": "code",
   "execution_count": 23,
   "metadata": {},
   "outputs": [
    {
     "data": {
      "image/png": "[encoded data removed]",
      "text/plain": [
       "<Figure size 432x288 with 1 Axes>"
      ]
     },
     "metadata": {
      "image/png": {
       "height": 244,
       "width": 431
      },
      "needs_background": "light"
     },
     "output_type": "display_data"
    }
   ],
   "source": [
    "plt.plot(history_lstm.history['loss'], label='Train loss')\n",
    "plt.plot(history_lstm.history['val_loss'], label='Test loss')\n",
    "plt.legend();"
   ]
  },
  {
   "cell_type": "code",
   "execution_count": 30,
   "metadata": {},
   "outputs": [
    {
     "data": {
      "text/html": [
       "<div>\n",
       "<style scoped>\n",
       "    .dataframe tbody tr th:only-of-type {\n",
       "        vertical-align: middle;\n",
       "    }\n",
       "\n",
       "    .dataframe tbody tr th {\n",
       "        vertical-align: top;\n",
       "    }\n",
       "\n",
       "    .dataframe thead th {\n",
       "        text-align: right;\n",
       "    }\n",
       "</style>\n",
       "<table border=\"1\" class=\"dataframe\">\n",
       "  <thead>\n",
       "    <tr style=\"text-align: right;\">\n",
       "      <th></th>\n",
       "      <th>epoch</th>\n",
       "      <th>train_loss</th>\n",
       "      <th>test_loss</th>\n",
       "      <th>val_gap</th>\n",
       "    </tr>\n",
       "  </thead>\n",
       "  <tbody>\n",
       "    <tr>\n",
       "      <th>0</th>\n",
       "      <td>1</td>\n",
       "      <td>91817.234375</td>\n",
       "      <td>127841.187500</td>\n",
       "      <td>36023.953125</td>\n",
       "    </tr>\n",
       "    <tr>\n",
       "      <th>1</th>\n",
       "      <td>2</td>\n",
       "      <td>87849.789062</td>\n",
       "      <td>124487.890625</td>\n",
       "      <td>36638.101562</td>\n",
       "    </tr>\n",
       "    <tr>\n",
       "      <th>2</th>\n",
       "      <td>3</td>\n",
       "      <td>86365.601562</td>\n",
       "      <td>123478.906250</td>\n",
       "      <td>37113.304688</td>\n",
       "    </tr>\n",
       "  </tbody>\n",
       "</table>\n",
       "</div>"
      ],
      "text/plain": [
       "   epoch    train_loss      test_loss       val_gap\n",
       "0      1  91817.234375  127841.187500  36023.953125\n",
       "1      2  87849.789062  124487.890625  36638.101562\n",
       "2      3  86365.601562  123478.906250  37113.304688"
      ]
     },
     "execution_count": 30,
     "metadata": {},
     "output_type": "execute_result"
    }
   ],
   "source": [
    "df_lstm = pd.DataFrame(zip(list(range(1,100)), history_lstm.history['loss'], history_lstm.history['val_loss']),\n",
    "                       columns=[\"epoch\", \"train_loss\", \"test_loss\"])\n",
    "df_lstm[\"val_gap\"] = abs(df_lstm[\"train_loss\"] - df_lstm[\"test_loss\"])\n",
    "df_lstm.head(3)"
   ]
  },
  {
   "cell_type": "code",
   "execution_count": 31,
   "metadata": {},
   "outputs": [
    {
     "data": {
      "text/html": [
       "<div>\n",
       "<style scoped>\n",
       "    .dataframe tbody tr th:only-of-type {\n",
       "        vertical-align: middle;\n",
       "    }\n",
       "\n",
       "    .dataframe tbody tr th {\n",
       "        vertical-align: top;\n",
       "    }\n",
       "\n",
       "    .dataframe thead th {\n",
       "        text-align: right;\n",
       "    }\n",
       "</style>\n",
       "<table border=\"1\" class=\"dataframe\">\n",
       "  <thead>\n",
       "    <tr style=\"text-align: right;\">\n",
       "      <th></th>\n",
       "      <th>epoch</th>\n",
       "      <th>train_loss</th>\n",
       "      <th>test_loss</th>\n",
       "      <th>val_gap</th>\n",
       "    </tr>\n",
       "  </thead>\n",
       "  <tbody>\n",
       "    <tr>\n",
       "      <th>34</th>\n",
       "      <td>35</td>\n",
       "      <td>56864.597656</td>\n",
       "      <td>90009.679688</td>\n",
       "      <td>33145.082031</td>\n",
       "    </tr>\n",
       "  </tbody>\n",
       "</table>\n",
       "</div>"
      ],
      "text/plain": [
       "    epoch    train_loss     test_loss       val_gap\n",
       "34     35  56864.597656  90009.679688  33145.082031"
      ]
     },
     "execution_count": 31,
     "metadata": {},
     "output_type": "execute_result"
    }
   ],
   "source": [
    "df_lstm.sort_values(by=\"val_gap\", ascending=True).head(1)"
   ]
  },
  {
   "cell_type": "code",
   "execution_count": 32,
   "metadata": {},
   "outputs": [],
   "source": [
    "# epoch 35 could be a good point to stop before model's test mse score diverges from training mse"
   ]
  },
  {
   "cell_type": "code",
   "execution_count": 33,
   "metadata": {},
   "outputs": [
    {
     "data": {
      "text/html": [
       "<div>\n",
       "<style scoped>\n",
       "    .dataframe tbody tr th:only-of-type {\n",
       "        vertical-align: middle;\n",
       "    }\n",
       "\n",
       "    .dataframe tbody tr th {\n",
       "        vertical-align: top;\n",
       "    }\n",
       "\n",
       "    .dataframe thead th {\n",
       "        text-align: right;\n",
       "    }\n",
       "</style>\n",
       "<table border=\"1\" class=\"dataframe\">\n",
       "  <thead>\n",
       "    <tr style=\"text-align: right;\">\n",
       "      <th></th>\n",
       "      <th>epoch</th>\n",
       "      <th>train_loss</th>\n",
       "      <th>test_loss</th>\n",
       "      <th>val_gap</th>\n",
       "    </tr>\n",
       "  </thead>\n",
       "  <tbody>\n",
       "    <tr>\n",
       "      <th>58</th>\n",
       "      <td>59</td>\n",
       "      <td>36612.054688</td>\n",
       "      <td>79639.304688</td>\n",
       "      <td>43027.25</td>\n",
       "    </tr>\n",
       "  </tbody>\n",
       "</table>\n",
       "</div>"
      ],
      "text/plain": [
       "    epoch    train_loss     test_loss   val_gap\n",
       "58     59  36612.054688  79639.304688  43027.25"
      ]
     },
     "execution_count": 33,
     "metadata": {},
     "output_type": "execute_result"
    }
   ],
   "source": [
    "df_lstm.sort_values(by=\"test_loss\", ascending=True).head(1)"
   ]
  },
  {
   "cell_type": "code",
   "execution_count": null,
   "metadata": {},
   "outputs": [],
   "source": [
    "# epoch 59 has the lowest test mse score\n",
    "# while test MSE is the lowest at epoch 59, the trade off in validation gap does not seem worth"
   ]
  },
  {
   "cell_type": "code",
   "execution_count": 34,
   "metadata": {},
   "outputs": [
    {
     "data": {
      "image/png": "[encoded data removed]",
      "text/plain": [
       "<Figure size 432x288 with 1 Axes>"
      ]
     },
     "metadata": {
      "image/png": {
       "height": 264,
       "width": 448
      },
      "needs_background": "light"
     },
     "output_type": "display_data"
    }
   ],
   "source": [
    "# scatter plot of val gap against test loss\n",
    "sns.scatterplot(data=df_lstm, x=\"val_gap\", y=\"test_loss\");\n",
    "# we want to minimise both\n",
    "# or find the sweet spot of points at the bottom left corner of the plot"
   ]
  },
  {
   "cell_type": "code",
   "execution_count": 35,
   "metadata": {},
   "outputs": [
    {
     "data": {
      "text/html": [
       "<div>\n",
       "<style scoped>\n",
       "    .dataframe tbody tr th:only-of-type {\n",
       "        vertical-align: middle;\n",
       "    }\n",
       "\n",
       "    .dataframe tbody tr th {\n",
       "        vertical-align: top;\n",
       "    }\n",
       "\n",
       "    .dataframe thead th {\n",
       "        text-align: right;\n",
       "    }\n",
       "</style>\n",
       "<table border=\"1\" class=\"dataframe\">\n",
       "  <thead>\n",
       "    <tr style=\"text-align: right;\">\n",
       "      <th></th>\n",
       "      <th>epoch</th>\n",
       "      <th>train_loss</th>\n",
       "      <th>test_loss</th>\n",
       "      <th>val_gap</th>\n",
       "    </tr>\n",
       "  </thead>\n",
       "  <tbody>\n",
       "    <tr>\n",
       "      <th>36</th>\n",
       "      <td>37</td>\n",
       "      <td>54231.894531</td>\n",
       "      <td>87815.46875</td>\n",
       "      <td>33583.574219</td>\n",
       "    </tr>\n",
       "  </tbody>\n",
       "</table>\n",
       "</div>"
      ],
      "text/plain": [
       "    epoch    train_loss    test_loss       val_gap\n",
       "36     37  54231.894531  87815.46875  33583.574219"
      ]
     },
     "execution_count": 35,
     "metadata": {},
     "output_type": "execute_result"
    }
   ],
   "source": [
    "# locate points in sweet spot\n",
    "# let's pick the point with val gap < 35_000 and the lowest mse\n",
    "# find point with lowest test loss when val gap is < 45_000\n",
    "df_lstm[df_lstm[\"val_gap\"] < 35_000].sort_values(by=\"test_loss\", ascending=True).head(1)"
   ]
  },
  {
   "cell_type": "code",
   "execution_count": null,
   "metadata": {},
   "outputs": [],
   "source": [
    "# epoch 37 could be the sweet spot between reducing test_loss and a divergent training and test loss functions"
   ]
  },
  {
   "cell_type": "code",
   "execution_count": 36,
   "metadata": {},
   "outputs": [
    {
     "data": {
      "text/html": [
       "<div>\n",
       "<style scoped>\n",
       "    .dataframe tbody tr th:only-of-type {\n",
       "        vertical-align: middle;\n",
       "    }\n",
       "\n",
       "    .dataframe tbody tr th {\n",
       "        vertical-align: top;\n",
       "    }\n",
       "\n",
       "    .dataframe thead th {\n",
       "        text-align: right;\n",
       "    }\n",
       "</style>\n",
       "<table border=\"1\" class=\"dataframe\">\n",
       "  <thead>\n",
       "    <tr style=\"text-align: right;\">\n",
       "      <th></th>\n",
       "      <th>epoch</th>\n",
       "      <th>train_loss</th>\n",
       "      <th>test_loss</th>\n",
       "      <th>val_gap</th>\n",
       "      <th>loss_product</th>\n",
       "    </tr>\n",
       "  </thead>\n",
       "  <tbody>\n",
       "    <tr>\n",
       "      <th>0</th>\n",
       "      <td>1</td>\n",
       "      <td>91817.234375</td>\n",
       "      <td>127841.187500</td>\n",
       "      <td>36023.953125</td>\n",
       "      <td>1.173802e+10</td>\n",
       "    </tr>\n",
       "    <tr>\n",
       "      <th>1</th>\n",
       "      <td>2</td>\n",
       "      <td>87849.789062</td>\n",
       "      <td>124487.890625</td>\n",
       "      <td>36638.101562</td>\n",
       "      <td>1.093623e+10</td>\n",
       "    </tr>\n",
       "    <tr>\n",
       "      <th>2</th>\n",
       "      <td>3</td>\n",
       "      <td>86365.601562</td>\n",
       "      <td>123478.906250</td>\n",
       "      <td>37113.304688</td>\n",
       "      <td>1.066433e+10</td>\n",
       "    </tr>\n",
       "  </tbody>\n",
       "</table>\n",
       "</div>"
      ],
      "text/plain": [
       "   epoch    train_loss      test_loss       val_gap  loss_product\n",
       "0      1  91817.234375  127841.187500  36023.953125  1.173802e+10\n",
       "1      2  87849.789062  124487.890625  36638.101562  1.093623e+10\n",
       "2      3  86365.601562  123478.906250  37113.304688  1.066433e+10"
      ]
     },
     "execution_count": 36,
     "metadata": {},
     "output_type": "execute_result"
    }
   ],
   "source": [
    "# to find elbow\n",
    "df_lstm[\"loss_product\"] = df_lstm[\"train_loss\"]*df_lstm[\"test_loss\"]\n",
    "df_lstm.head(3)"
   ]
  },
  {
   "cell_type": "code",
   "execution_count": 37,
   "metadata": {},
   "outputs": [
    {
     "data": {
      "image/png": "[encoded data removed]",
      "text/plain": [
       "<Figure size 432x288 with 1 Axes>"
      ]
     },
     "metadata": {
      "image/png": {
       "height": 255,
       "width": 409
      },
      "needs_background": "light"
     },
     "output_type": "display_data"
    }
   ],
   "source": [
    "df_lstm[\"loss_product\"].plot();"
   ]
  },
  {
   "cell_type": "code",
   "execution_count": null,
   "metadata": {},
   "outputs": [],
   "source": [
    "# elbow looks to be about 0.5 and at about epoch 35"
   ]
  },
  {
   "cell_type": "code",
   "execution_count": 39,
   "metadata": {},
   "outputs": [
    {
     "data": {
      "text/html": [
       "<div>\n",
       "<style scoped>\n",
       "    .dataframe tbody tr th:only-of-type {\n",
       "        vertical-align: middle;\n",
       "    }\n",
       "\n",
       "    .dataframe tbody tr th {\n",
       "        vertical-align: top;\n",
       "    }\n",
       "\n",
       "    .dataframe thead th {\n",
       "        text-align: right;\n",
       "    }\n",
       "</style>\n",
       "<table border=\"1\" class=\"dataframe\">\n",
       "  <thead>\n",
       "    <tr style=\"text-align: right;\">\n",
       "      <th></th>\n",
       "      <th>epoch</th>\n",
       "      <th>train_loss</th>\n",
       "      <th>test_loss</th>\n",
       "      <th>val_gap</th>\n",
       "      <th>loss_product</th>\n",
       "    </tr>\n",
       "  </thead>\n",
       "  <tbody>\n",
       "    <tr>\n",
       "      <th>33</th>\n",
       "      <td>34</td>\n",
       "      <td>58801.468750</td>\n",
       "      <td>94009.304688</td>\n",
       "      <td>35207.835938</td>\n",
       "      <td>5.527885e+09</td>\n",
       "    </tr>\n",
       "    <tr>\n",
       "      <th>34</th>\n",
       "      <td>35</td>\n",
       "      <td>56864.597656</td>\n",
       "      <td>90009.679688</td>\n",
       "      <td>33145.082031</td>\n",
       "      <td>5.118364e+09</td>\n",
       "    </tr>\n",
       "    <tr>\n",
       "      <th>35</th>\n",
       "      <td>36</td>\n",
       "      <td>52804.253906</td>\n",
       "      <td>91226.335938</td>\n",
       "      <td>38422.082031</td>\n",
       "      <td>4.817139e+09</td>\n",
       "    </tr>\n",
       "  </tbody>\n",
       "</table>\n",
       "</div>"
      ],
      "text/plain": [
       "    epoch    train_loss     test_loss       val_gap  loss_product\n",
       "33     34  58801.468750  94009.304688  35207.835938  5.527885e+09\n",
       "34     35  56864.597656  90009.679688  33145.082031  5.118364e+09\n",
       "35     36  52804.253906  91226.335938  38422.082031  4.817139e+09"
      ]
     },
     "execution_count": 39,
     "metadata": {},
     "output_type": "execute_result"
    }
   ],
   "source": [
    "df_lstm[33:36]"
   ]
  },
  {
   "cell_type": "code",
   "execution_count": null,
   "metadata": {},
   "outputs": [],
   "source": [
    "# epocj 37 looks to be the best\n",
    "# loss is measured with mse\n",
    "### therefore train loss = 27567.6\n",
    "### test loss = 107498.7\n",
    "# lstm generalised better with a smaller validation score gap\n",
    "\n",
    "# pick epoch 35"
   ]
  },
  {
   "cell_type": "markdown",
   "metadata": {},
   "source": [
    "#### Performance Summary\n",
    "\n",
    "Models were built using only the top ranking 2500 word features extracted from the `TfidfVectorizer` and 3 dummy columns, one for each of the type of platforms that each word feature subscribe to. A collection of algorithms were cross-validated and scored against.\n",
    "\n",
    "|**Model**|**Cross-Validation Score (R<sup>2</sup>)**|**Mean Squared Error**|**Validation Score Gap**|**Training Time (s)**|**Training Time (hh-mm-ss)**|\n",
    "|---|---|---|---|---|---|\n",
    "|Ridge Regressor*|0.387|58557.4|-|70|1min 10s|\n",
    "|Support Vector Regressor|-0.035|-|-|3022|50min 22s|\n",
    "|Random Forest Regressor|0.401|-|-|5305|1h 28min 25s|\n",
    "|Extra Trees Regressor|0.367|-|-|10306|2h 51min 46s|\n",
    "|Ada-Boost Regressor|-7.124|-|-|2215|36min 55s|\n",
    "|Gradient Boosting Regressor|0.363|-|-|587|9min 47s|\n",
    "|XGBoost (gbtree, squared error) Regressor|0.303|-|-|158|2min 38s|\n",
    "|XGBoost (gbtree, tweedie) Regressor|0.381|-|-|180|3min|\n",
    "|XGBoost (gblinear, squared error) Regressor|0.398|-|-|41|41s|\n",
    "|XGBoost (gblinear, tweedie) Regressor|0.317|-|-|36|36s|\n",
    "|Feed-Forward NN|-|61421.0|18.1|28|28s|\n",
    "|Feed-Forward NN (Ridge)|-|61419.7|596.5|27|27s|\n",
    "|Feed-Forward NN (Lasso)|-|61259.4|541.3|27|27s|\n",
    "|Recurrent NN (GRU)|-|101920.1|64157.1|1362|22min 42s|\n",
    "|Recurrent NN (LSTM)|-|90009.7|33145.1|1270|21min 10s|\n",
    "\n",
    "<p style='text-align: right;'><sub>*selected baseline model and baseline scores</sub></p>\n",
    "\n",
    "Notice that Random Forest and Gradient Boosting both outperformed their respective counterparts - Extra Trees and Ada Boost. One difference could be the use of bootstrapping in Random Forest and Gradient Boosting that allows the model the opportunity to discover and learn the more useful word features by amplifying their effect. This suggests that our training data is currently filled with many word features that are not useful towards likes prediction. Bootstrapping allows the model to overcome this problem by sampling with replacement randomly from the training set and recognising when the results are good and approaching the true likes value, thereby raising the opportunity to learn these useful word predictors. This is probably why Ridge and Lasso Regression performed so well too as regularisation helps to reduce the impact of irrelevant word features."
   ]
  },
  {
   "cell_type": "markdown",
   "metadata": {},
   "source": [
    "### Lemmatize vs Stem"
   ]
  },
  {
   "cell_type": "code",
   "execution_count": 5,
   "metadata": {},
   "outputs": [
    {
     "data": {
      "text/html": [
       "<div>\n",
       "<style scoped>\n",
       "    .dataframe tbody tr th:only-of-type {\n",
       "        vertical-align: middle;\n",
       "    }\n",
       "\n",
       "    .dataframe tbody tr th {\n",
       "        vertical-align: top;\n",
       "    }\n",
       "\n",
       "    .dataframe thead th {\n",
       "        text-align: right;\n",
       "    }\n",
       "</style>\n",
       "<table border=\"1\" class=\"dataframe\">\n",
       "  <thead>\n",
       "    <tr style=\"text-align: right;\">\n",
       "      <th></th>\n",
       "      <th>content</th>\n",
       "      <th>likes</th>\n",
       "      <th>platform</th>\n",
       "    </tr>\n",
       "  </thead>\n",
       "  <tbody>\n",
       "    <tr>\n",
       "      <th>0</th>\n",
       "      <td>oh look natural heart shaped form ivan heng gl...</td>\n",
       "      <td>40</td>\n",
       "      <td>Instagram Posts</td>\n",
       "    </tr>\n",
       "    <tr>\n",
       "      <th>1</th>\n",
       "      <td>#exploresingapore #instasg #gfsingapore #gameo...</td>\n",
       "      <td>33</td>\n",
       "      <td>Instagram Posts</td>\n",
       "    </tr>\n",
       "    <tr>\n",
       "      <th>2</th>\n",
       "      <td>road hell reliving haw par villa 15 16 22 23 m...</td>\n",
       "      <td>3</td>\n",
       "      <td>Instagram Posts</td>\n",
       "    </tr>\n",
       "  </tbody>\n",
       "</table>\n",
       "</div>"
      ],
      "text/plain": [
       "                                             content  likes         platform\n",
       "0  oh look natural heart shaped form ivan heng gl...     40  Instagram Posts\n",
       "1  #exploresingapore #instasg #gfsingapore #gameo...     33  Instagram Posts\n",
       "2  road hell reliving haw par villa 15 16 22 23 m...      3  Instagram Posts"
      ]
     },
     "execution_count": 5,
     "metadata": {},
     "output_type": "execute_result"
    }
   ],
   "source": [
    "df_merged.head(3)"
   ]
  },
  {
   "cell_type": "markdown",
   "metadata": {},
   "source": [
    "#### Lemmatize and Stem"
   ]
  },
  {
   "cell_type": "code",
   "execution_count": 6,
   "metadata": {},
   "outputs": [
    {
     "data": {
      "text/plain": [
       "(24177, 4)"
      ]
     },
     "execution_count": 6,
     "metadata": {},
     "output_type": "execute_result"
    }
   ],
   "source": [
    "# instantiate lemmatizer\n",
    "lemmatizer = WordNetLemmatizer() # mostly reduces number of word features by converting plural forms to singular\n",
    "\n",
    "text_tokens = [] # create empty list\n",
    "for doc in df_merged[\"content\"]:\n",
    "    text_tokens.append([lemmatizer.lemmatize(word) for word in doc.split()]) # lemmatize each token in post and append list to list\n",
    "df_merged[\"content_lemm\"] = [\" \".join(doc) for doc in text_tokens] # join tokens back into single str, create new col\n",
    "df_merged.shape # verify new col added"
   ]
  },
  {
   "cell_type": "code",
   "execution_count": 8,
   "metadata": {},
   "outputs": [
    {
     "data": {
      "text/plain": [
       "(24177, 5)"
      ]
     },
     "execution_count": 8,
     "metadata": {},
     "output_type": "execute_result"
    }
   ],
   "source": [
    "# instantiate porter stemmer\n",
    "p_stemmer = PorterStemmer() # more aggressive than lemmatizer; reduces words to their basal form/stem\n",
    "\n",
    "text_tokens = [] # create empty list\n",
    "for doc in df_merged[\"content\"]:\n",
    "    text_tokens.append([p_stemmer.stem(word) for word in doc.split()]) # stem each token in post and append list to list\n",
    "df_merged[\"content_stem\"] = [\" \".join(doc) for doc in text_tokens] # join tokens back into single str, create new col\n",
    "df_merged.shape # verify new col added"
   ]
  },
  {
   "cell_type": "code",
   "execution_count": 9,
   "metadata": {},
   "outputs": [
    {
     "data": {
      "text/html": [
       "<div>\n",
       "<style scoped>\n",
       "    .dataframe tbody tr th:only-of-type {\n",
       "        vertical-align: middle;\n",
       "    }\n",
       "\n",
       "    .dataframe tbody tr th {\n",
       "        vertical-align: top;\n",
       "    }\n",
       "\n",
       "    .dataframe thead th {\n",
       "        text-align: right;\n",
       "    }\n",
       "</style>\n",
       "<table border=\"1\" class=\"dataframe\">\n",
       "  <thead>\n",
       "    <tr style=\"text-align: right;\">\n",
       "      <th></th>\n",
       "      <th>content</th>\n",
       "      <th>likes</th>\n",
       "      <th>platform</th>\n",
       "      <th>content_lemm</th>\n",
       "      <th>content_stem</th>\n",
       "    </tr>\n",
       "  </thead>\n",
       "  <tbody>\n",
       "    <tr>\n",
       "      <th>0</th>\n",
       "      <td>oh look natural heart shaped form ivan heng gl...</td>\n",
       "      <td>40</td>\n",
       "      <td>Instagram Posts</td>\n",
       "      <td>oh look natural heart shaped form ivan heng gl...</td>\n",
       "      <td>oh look natur heart shape form ivan heng glen ...</td>\n",
       "    </tr>\n",
       "    <tr>\n",
       "      <th>1</th>\n",
       "      <td>#exploresingapore #instasg #gfsingapore #gameo...</td>\n",
       "      <td>33</td>\n",
       "      <td>Instagram Posts</td>\n",
       "      <td>#exploresingapore #instasg #gfsingapore #gameo...</td>\n",
       "      <td>#exploresingapor #instasg #gfsingapor #gameoft...</td>\n",
       "    </tr>\n",
       "    <tr>\n",
       "      <th>2</th>\n",
       "      <td>road hell reliving haw par villa 15 16 22 23 m...</td>\n",
       "      <td>3</td>\n",
       "      <td>Instagram Posts</td>\n",
       "      <td>road hell reliving haw par villa 15 16 22 23 m...</td>\n",
       "      <td>road hell reliv haw par villa 15 16 22 23 marc...</td>\n",
       "    </tr>\n",
       "  </tbody>\n",
       "</table>\n",
       "</div>"
      ],
      "text/plain": [
       "                                             content  likes         platform  \\\n",
       "0  oh look natural heart shaped form ivan heng gl...     40  Instagram Posts   \n",
       "1  #exploresingapore #instasg #gfsingapore #gameo...     33  Instagram Posts   \n",
       "2  road hell reliving haw par villa 15 16 22 23 m...      3  Instagram Posts   \n",
       "\n",
       "                                        content_lemm  \\\n",
       "0  oh look natural heart shaped form ivan heng gl...   \n",
       "1  #exploresingapore #instasg #gfsingapore #gameo...   \n",
       "2  road hell reliving haw par villa 15 16 22 23 m...   \n",
       "\n",
       "                                        content_stem  \n",
       "0  oh look natur heart shape form ivan heng glen ...  \n",
       "1  #exploresingapor #instasg #gfsingapor #gameoft...  \n",
       "2  road hell reliv haw par villa 15 16 22 23 marc...  "
      ]
     },
     "execution_count": 9,
     "metadata": {},
     "output_type": "execute_result"
    }
   ],
   "source": [
    "df_merged.head(3)"
   ]
  },
  {
   "cell_type": "markdown",
   "metadata": {},
   "source": [
    "#### Prepare Training Set"
   ]
  },
  {
   "cell_type": "code",
   "execution_count": 11,
   "metadata": {},
   "outputs": [
    {
     "name": "stdout",
     "output_type": "stream",
     "text": [
      "Training set size: 12088\n",
      "Unseen test set size: 12089\n"
     ]
    }
   ],
   "source": [
    "# split into training and unseen test data\n",
    "X = df_merged[[\"content_lemm\", \"content_stem\", \"platform\"]]\n",
    "y = df_merged[\"likes\"]\n",
    "\n",
    "X_train, X_unseen, y_train, y_unseen = train_test_split(X, y, test_size=0.5, stratify=df_merged[\"platform\"], random_state=42)\n",
    "\n",
    "print(\"Training set size:\", len(X_train))\n",
    "print(\"Unseen test set size:\", len(X_unseen))"
   ]
  },
  {
   "cell_type": "code",
   "execution_count": 12,
   "metadata": {},
   "outputs": [
    {
     "name": "stdout",
     "output_type": "stream",
     "text": [
      "Shape of training sparse matrix: (12088, 2500)\n",
      "Shape of test sparse matrix: (12089, 2500)\n"
     ]
    }
   ],
   "source": [
    "# transform lemmatized text with TfidfVectorizer\n",
    "tvec = TfidfVectorizer(stop_words=\"english\", max_features=2500) # model takes too long to train, limit max features to 2500\n",
    "X_train_tvec_lemm = tvec.fit_transform(X_train[\"content_lemm\"])\n",
    "print(\"Shape of training sparse matrix:\", X_train_tvec_lemm.shape)\n",
    "X_unseen_tvec_lemm = tvec.transform(X_unseen[\"content_lemm\"])\n",
    "print(\"Shape of test sparse matrix:\", X_unseen_tvec_lemm.shape)"
   ]
  },
  {
   "cell_type": "code",
   "execution_count": 13,
   "metadata": {},
   "outputs": [
    {
     "name": "stdout",
     "output_type": "stream",
     "text": [
      "Shape of training sparse matrix: (12088, 2500)\n",
      "Shape of test sparse matrix: (12089, 2500)\n"
     ]
    }
   ],
   "source": [
    "# transform stemmed text with TfidfVectorizer\n",
    "tvec = TfidfVectorizer(stop_words=\"english\", max_features=2500) # model takes too long to train, limit max features to 2500\n",
    "X_train_tvec_stem = tvec.fit_transform(X_train[\"content_stem\"])\n",
    "print(\"Shape of training sparse matrix:\", X_train_tvec_lemm.shape)\n",
    "X_unseen_tvec_stem = tvec.transform(X_unseen[\"content_stem\"])\n",
    "print(\"Shape of test sparse matrix:\", X_unseen_tvec_lemm.shape)"
   ]
  },
  {
   "cell_type": "code",
   "execution_count": 14,
   "metadata": {},
   "outputs": [
    {
     "name": "stdout",
     "output_type": "stream",
     "text": [
      "Shape of Lemmatized training set: (12088, 2503)\n",
      "Shape of Lemmatized test set: (12089, 2503)\n",
      "\n",
      "Shape of Stemmed training set: (12088, 2503)\n",
      "Shape of Stemmed test set: (12088, 2503)\n"
     ]
    }
   ],
   "source": [
    "# get dummies for each platform\n",
    "train_platforms = pd.get_dummies(X_train[\"platform\"]).values\n",
    "unseen_platforms = pd.get_dummies(X_unseen[\"platform\"]).values\n",
    "\n",
    "# add 3 cols of dummies data to tvec matrix with lemmatized text\n",
    "X_train_tvec_lemm_dumm = hstack([X_train_tvec_lemm, train_platforms]).toarray()\n",
    "X_unseen_tvec_lemm_dumm = hstack([X_unseen_tvec_lemm, unseen_platforms]).toarray()\n",
    "print(\"Shape of Lemmatized training set:\", X_train_tvec_lemm_dumm.shape)\n",
    "print(\"Shape of Lemmatized test set:\", X_unseen_tvec_lemm_dumm.shape)\n",
    "print()\n",
    "# add 3 cols of dummies data to tvec matrix with stemmed text\n",
    "X_train_tvec_stem_dumm = hstack([X_train_tvec_stem, train_platforms]).toarray()\n",
    "X_unseen_tvec_stem_dumm = hstack([X_unseen_tvec_stem, unseen_platforms]).toarray()\n",
    "print(\"Shape of Stemmed training set:\", X_train_tvec_stem_dumm.shape)\n",
    "print(\"Shape of Stemmed test set:\", X_train_tvec_stem_dumm.shape)"
   ]
  },
  {
   "cell_type": "markdown",
   "metadata": {},
   "source": [
    "#### Score Lemmatized/Stemmed Text"
   ]
  },
  {
   "cell_type": "code",
   "execution_count": 15,
   "metadata": {},
   "outputs": [],
   "source": [
    "# test with ridge regression as it is our baseline scorer"
   ]
  },
  {
   "cell_type": "code",
   "execution_count": 16,
   "metadata": {},
   "outputs": [
    {
     "name": "stdout",
     "output_type": "stream",
     "text": [
      "Wall time: 1min 2s\n"
     ]
    },
    {
     "data": {
      "text/plain": [
       "0.38482139873895516"
      ]
     },
     "execution_count": 16,
     "metadata": {},
     "output_type": "execute_result"
    }
   ],
   "source": [
    "%%time\n",
    "# test effect of lemmatizing\n",
    "np.random.seed(42)\n",
    "lr = RidgeCV(cv=None)\n",
    "cross_val_score(estimator=lr, X=X_train_tvec_lemm_dumm, y=y_train, cv=4).mean()"
   ]
  },
  {
   "cell_type": "code",
   "execution_count": 17,
   "metadata": {},
   "outputs": [
    {
     "name": "stdout",
     "output_type": "stream",
     "text": [
      "Wall time: 1min 24s\n"
     ]
    },
    {
     "data": {
      "text/plain": [
       "0.38808657254162615"
      ]
     },
     "execution_count": 17,
     "metadata": {},
     "output_type": "execute_result"
    }
   ],
   "source": [
    "%%time\n",
    "# test effect of stemming\n",
    "np.random.seed(42)\n",
    "lr = RidgeCV(cv=None)\n",
    "cross_val_score(estimator=lr, X=X_train_tvec_stem_dumm, y=y_train, cv=4).mean()"
   ]
  },
  {
   "cell_type": "markdown",
   "metadata": {},
   "source": [
    "#### Test Summary\n",
    "\n",
    "The following models were trained to evaluate the impact of the different tokenizers on model performance.\n",
    "\n",
    "|**Tokenizer**|**Model**|**Cross-Validation Score (R<sup>2</sup>)**|**Training Time (s)**|**Training Time (hh-mm-ss)**|\n",
    "|---|---|---|---|---|\n",
    "|none|Ridge Regressor*|0.387|70|1min 10s|\n",
    "|WordNetLemmatizer|Ridge Regressor|0.385|62|1min 2s|\n",
    "|PorterStemmer|Ridge Regressor|0.388|84|1min 24s|\n",
    "\n",
    "<p style='text-align: right;'><sub>*selected baseline model and baseline scores</sub></p>\n",
    "\n",
    "As we can see, stemming performed the best. We shall stem before training in our final models."
   ]
  },
  {
   "cell_type": "markdown",
   "metadata": {},
   "source": [
    "### Rescale Target Variables"
   ]
  },
  {
   "cell_type": "code",
   "execution_count": 5,
   "metadata": {},
   "outputs": [
    {
     "data": {
      "text/html": [
       "<div>\n",
       "<style scoped>\n",
       "    .dataframe tbody tr th:only-of-type {\n",
       "        vertical-align: middle;\n",
       "    }\n",
       "\n",
       "    .dataframe tbody tr th {\n",
       "        vertical-align: top;\n",
       "    }\n",
       "\n",
       "    .dataframe thead th {\n",
       "        text-align: right;\n",
       "    }\n",
       "</style>\n",
       "<table border=\"1\" class=\"dataframe\">\n",
       "  <thead>\n",
       "    <tr style=\"text-align: right;\">\n",
       "      <th></th>\n",
       "      <th>content</th>\n",
       "      <th>likes</th>\n",
       "      <th>platform</th>\n",
       "    </tr>\n",
       "  </thead>\n",
       "  <tbody>\n",
       "    <tr>\n",
       "      <th>0</th>\n",
       "      <td>oh look natural heart shaped form ivan heng gl...</td>\n",
       "      <td>40</td>\n",
       "      <td>Instagram Posts</td>\n",
       "    </tr>\n",
       "    <tr>\n",
       "      <th>1</th>\n",
       "      <td>#exploresingapore #instasg #gfsingapore #gameo...</td>\n",
       "      <td>33</td>\n",
       "      <td>Instagram Posts</td>\n",
       "    </tr>\n",
       "    <tr>\n",
       "      <th>2</th>\n",
       "      <td>road hell reliving haw par villa 15 16 22 23 m...</td>\n",
       "      <td>3</td>\n",
       "      <td>Instagram Posts</td>\n",
       "    </tr>\n",
       "  </tbody>\n",
       "</table>\n",
       "</div>"
      ],
      "text/plain": [
       "                                             content  likes         platform\n",
       "0  oh look natural heart shaped form ivan heng gl...     40  Instagram Posts\n",
       "1  #exploresingapore #instasg #gfsingapore #gameo...     33  Instagram Posts\n",
       "2  road hell reliving haw par villa 15 16 22 23 m...      3  Instagram Posts"
      ]
     },
     "execution_count": 5,
     "metadata": {},
     "output_type": "execute_result"
    }
   ],
   "source": [
    "df_merged.head(3)"
   ]
  },
  {
   "cell_type": "markdown",
   "metadata": {},
   "source": [
    "#### MinMax, Standard, and Robust"
   ]
  },
  {
   "cell_type": "code",
   "execution_count": 6,
   "metadata": {},
   "outputs": [
    {
     "data": {
      "text/html": [
       "<div>\n",
       "<style scoped>\n",
       "    .dataframe tbody tr th:only-of-type {\n",
       "        vertical-align: middle;\n",
       "    }\n",
       "\n",
       "    .dataframe tbody tr th {\n",
       "        vertical-align: top;\n",
       "    }\n",
       "\n",
       "    .dataframe thead th {\n",
       "        text-align: right;\n",
       "    }\n",
       "</style>\n",
       "<table border=\"1\" class=\"dataframe\">\n",
       "  <thead>\n",
       "    <tr style=\"text-align: right;\">\n",
       "      <th></th>\n",
       "      <th>content</th>\n",
       "      <th>likes</th>\n",
       "      <th>platform</th>\n",
       "      <th>likes_mm_ind</th>\n",
       "    </tr>\n",
       "  </thead>\n",
       "  <tbody>\n",
       "    <tr>\n",
       "      <th>0</th>\n",
       "      <td>oh look natural heart shaped form ivan heng gl...</td>\n",
       "      <td>40</td>\n",
       "      <td>Instagram Posts</td>\n",
       "      <td>0.004850</td>\n",
       "    </tr>\n",
       "    <tr>\n",
       "      <th>1</th>\n",
       "      <td>#exploresingapore #instasg #gfsingapore #gameo...</td>\n",
       "      <td>33</td>\n",
       "      <td>Instagram Posts</td>\n",
       "      <td>0.004001</td>\n",
       "    </tr>\n",
       "    <tr>\n",
       "      <th>2</th>\n",
       "      <td>road hell reliving haw par villa 15 16 22 23 m...</td>\n",
       "      <td>3</td>\n",
       "      <td>Instagram Posts</td>\n",
       "      <td>0.000364</td>\n",
       "    </tr>\n",
       "  </tbody>\n",
       "</table>\n",
       "</div>"
      ],
      "text/plain": [
       "                                             content  likes         platform  \\\n",
       "0  oh look natural heart shaped form ivan heng gl...     40  Instagram Posts   \n",
       "1  #exploresingapore #instasg #gfsingapore #gameo...     33  Instagram Posts   \n",
       "2  road hell reliving haw par villa 15 16 22 23 m...      3  Instagram Posts   \n",
       "\n",
       "   likes_mm_ind  \n",
       "0      0.004850  \n",
       "1      0.004001  \n",
       "2      0.000364  "
      ]
     },
     "execution_count": 6,
     "metadata": {},
     "output_type": "execute_result"
    }
   ],
   "source": [
    "# create platform groupby objs\n",
    "platforms = df_merged.groupby(\"platform\")\n",
    "\n",
    "# scale individually with re-instantiated MinMaxScaler\n",
    "mm_insta = MinMaxScaler()\n",
    "insta_mm = mm_insta.fit_transform(platforms.get_group(\"Instagram Posts\")[\"likes\"].values.reshape(-1,1))\n",
    "mm_yt = MinMaxScaler()\n",
    "yt_mm = mm_yt.fit_transform(platforms.get_group(\"YouTube Videos\")[\"likes\"].values.reshape(-1,1))\n",
    "mm_comm = MinMaxScaler()\n",
    "yt_comments_mm = mm_comm.fit_transform(platforms.get_group(\"YouTube Comments\")[\"likes\"].values.reshape(-1,1))\n",
    "\n",
    "# reshape to list form\n",
    "insta_mm = insta_mm.reshape(1,-1).tolist()[0]\n",
    "yt_mm = yt_mm.reshape(1,-1).tolist()[0]\n",
    "yt_comments_mm = yt_comments_mm.reshape(1,-1).tolist()[0]\n",
    "\n",
    "# append and assigned scaled likes\n",
    "scaled_mm = [] # create empty list\n",
    "scaled_mm.extend(insta_mm)\n",
    "scaled_mm.extend(yt_mm)\n",
    "scaled_mm.extend(yt_comments_mm)\n",
    "df_merged[\"likes_mm_ind\"] = scaled_mm\n",
    "df_merged.head(3) # view final df"
   ]
  },
  {
   "cell_type": "code",
   "execution_count": 7,
   "metadata": {},
   "outputs": [
    {
     "data": {
      "text/html": [
       "<div>\n",
       "<style scoped>\n",
       "    .dataframe tbody tr th:only-of-type {\n",
       "        vertical-align: middle;\n",
       "    }\n",
       "\n",
       "    .dataframe tbody tr th {\n",
       "        vertical-align: top;\n",
       "    }\n",
       "\n",
       "    .dataframe thead th {\n",
       "        text-align: right;\n",
       "    }\n",
       "</style>\n",
       "<table border=\"1\" class=\"dataframe\">\n",
       "  <thead>\n",
       "    <tr style=\"text-align: right;\">\n",
       "      <th></th>\n",
       "      <th>content</th>\n",
       "      <th>likes</th>\n",
       "      <th>platform</th>\n",
       "      <th>likes_mm_ind</th>\n",
       "      <th>likes_ss_ind</th>\n",
       "    </tr>\n",
       "  </thead>\n",
       "  <tbody>\n",
       "    <tr>\n",
       "      <th>0</th>\n",
       "      <td>oh look natural heart shaped form ivan heng gl...</td>\n",
       "      <td>40</td>\n",
       "      <td>Instagram Posts</td>\n",
       "      <td>0.004850</td>\n",
       "      <td>-0.254253</td>\n",
       "    </tr>\n",
       "    <tr>\n",
       "      <th>1</th>\n",
       "      <td>#exploresingapore #instasg #gfsingapore #gameo...</td>\n",
       "      <td>33</td>\n",
       "      <td>Instagram Posts</td>\n",
       "      <td>0.004001</td>\n",
       "      <td>-0.278354</td>\n",
       "    </tr>\n",
       "    <tr>\n",
       "      <th>2</th>\n",
       "      <td>road hell reliving haw par villa 15 16 22 23 m...</td>\n",
       "      <td>3</td>\n",
       "      <td>Instagram Posts</td>\n",
       "      <td>0.000364</td>\n",
       "      <td>-0.381645</td>\n",
       "    </tr>\n",
       "  </tbody>\n",
       "</table>\n",
       "</div>"
      ],
      "text/plain": [
       "                                             content  likes         platform  \\\n",
       "0  oh look natural heart shaped form ivan heng gl...     40  Instagram Posts   \n",
       "1  #exploresingapore #instasg #gfsingapore #gameo...     33  Instagram Posts   \n",
       "2  road hell reliving haw par villa 15 16 22 23 m...      3  Instagram Posts   \n",
       "\n",
       "   likes_mm_ind  likes_ss_ind  \n",
       "0      0.004850     -0.254253  \n",
       "1      0.004001     -0.278354  \n",
       "2      0.000364     -0.381645  "
      ]
     },
     "execution_count": 7,
     "metadata": {},
     "output_type": "execute_result"
    }
   ],
   "source": [
    "# create platform groupby objs\n",
    "platforms = df_merged.groupby(\"platform\")\n",
    "\n",
    "# scale individually with re-instantiated StandardScaler\n",
    "ss_insta = StandardScaler()\n",
    "insta_ss = ss_insta.fit_transform(platforms.get_group(\"Instagram Posts\")[\"likes\"].values.reshape(-1,1))\n",
    "ss_yt = StandardScaler()\n",
    "yt_ss = ss_yt.fit_transform(platforms.get_group(\"YouTube Videos\")[\"likes\"].values.reshape(-1,1))\n",
    "ss_comm = StandardScaler()\n",
    "yt_comments_ss = ss_comm.fit_transform(platforms.get_group(\"YouTube Comments\")[\"likes\"].values.reshape(-1,1))\n",
    "\n",
    "# reshape to list form\n",
    "insta_ss = insta_ss.reshape(1,-1).tolist()[0]\n",
    "yt_ss = yt_ss.reshape(1,-1).tolist()[0]\n",
    "yt_comments_ss = yt_comments_ss.reshape(1,-1).tolist()[0]\n",
    "\n",
    "# append and assigned scaled likes\n",
    "scaled_ss = [] # create empty list\n",
    "scaled_ss.extend(insta_ss)\n",
    "scaled_ss.extend(yt_ss)\n",
    "scaled_ss.extend(yt_comments_ss)\n",
    "df_merged[\"likes_ss_ind\"] = scaled_ss\n",
    "df_merged.head(3) # view final df"
   ]
  },
  {
   "cell_type": "code",
   "execution_count": 8,
   "metadata": {},
   "outputs": [
    {
     "data": {
      "text/html": [
       "<div>\n",
       "<style scoped>\n",
       "    .dataframe tbody tr th:only-of-type {\n",
       "        vertical-align: middle;\n",
       "    }\n",
       "\n",
       "    .dataframe tbody tr th {\n",
       "        vertical-align: top;\n",
       "    }\n",
       "\n",
       "    .dataframe thead th {\n",
       "        text-align: right;\n",
       "    }\n",
       "</style>\n",
       "<table border=\"1\" class=\"dataframe\">\n",
       "  <thead>\n",
       "    <tr style=\"text-align: right;\">\n",
       "      <th></th>\n",
       "      <th>content</th>\n",
       "      <th>likes</th>\n",
       "      <th>platform</th>\n",
       "      <th>likes_mm_ind</th>\n",
       "      <th>likes_ss_ind</th>\n",
       "      <th>likes_rs_ind</th>\n",
       "    </tr>\n",
       "  </thead>\n",
       "  <tbody>\n",
       "    <tr>\n",
       "      <th>0</th>\n",
       "      <td>oh look natural heart shaped form ivan heng gl...</td>\n",
       "      <td>40</td>\n",
       "      <td>Instagram Posts</td>\n",
       "      <td>0.004850</td>\n",
       "      <td>-0.254253</td>\n",
       "      <td>0.000000</td>\n",
       "    </tr>\n",
       "    <tr>\n",
       "      <th>1</th>\n",
       "      <td>#exploresingapore #instasg #gfsingapore #gameo...</td>\n",
       "      <td>33</td>\n",
       "      <td>Instagram Posts</td>\n",
       "      <td>0.004001</td>\n",
       "      <td>-0.278354</td>\n",
       "      <td>-0.094595</td>\n",
       "    </tr>\n",
       "    <tr>\n",
       "      <th>2</th>\n",
       "      <td>road hell reliving haw par villa 15 16 22 23 m...</td>\n",
       "      <td>3</td>\n",
       "      <td>Instagram Posts</td>\n",
       "      <td>0.000364</td>\n",
       "      <td>-0.381645</td>\n",
       "      <td>-0.500000</td>\n",
       "    </tr>\n",
       "  </tbody>\n",
       "</table>\n",
       "</div>"
      ],
      "text/plain": [
       "                                             content  likes         platform  \\\n",
       "0  oh look natural heart shaped form ivan heng gl...     40  Instagram Posts   \n",
       "1  #exploresingapore #instasg #gfsingapore #gameo...     33  Instagram Posts   \n",
       "2  road hell reliving haw par villa 15 16 22 23 m...      3  Instagram Posts   \n",
       "\n",
       "   likes_mm_ind  likes_ss_ind  likes_rs_ind  \n",
       "0      0.004850     -0.254253      0.000000  \n",
       "1      0.004001     -0.278354     -0.094595  \n",
       "2      0.000364     -0.381645     -0.500000  "
      ]
     },
     "execution_count": 8,
     "metadata": {},
     "output_type": "execute_result"
    }
   ],
   "source": [
    "# create platform groupby objs\n",
    "platforms = df_merged.groupby(\"platform\")\n",
    "\n",
    "# scale individually with re-instantiated RobustScaler\n",
    "rs_insta = RobustScaler()\n",
    "insta_rs = rs_insta.fit_transform(platforms.get_group(\"Instagram Posts\")[\"likes\"].values.reshape(-1,1))\n",
    "rs_yt = RobustScaler()\n",
    "yt_rs = rs_yt.fit_transform(platforms.get_group(\"YouTube Videos\")[\"likes\"].values.reshape(-1,1))\n",
    "rs_comm = RobustScaler()\n",
    "yt_comments_rs = rs_comm.fit_transform(platforms.get_group(\"YouTube Comments\")[\"likes\"].values.reshape(-1,1))\n",
    "\n",
    "# reshape to list form\n",
    "insta_rs = insta_rs.reshape(1,-1).tolist()[0]\n",
    "yt_rs = yt_rs.reshape(1,-1).tolist()[0]\n",
    "yt_comments_rs = yt_comments_rs.reshape(1,-1).tolist()[0]\n",
    "\n",
    "# append and assigned scaled likes\n",
    "scaled_rs = [] # create empty list\n",
    "scaled_rs.extend(insta_rs)\n",
    "scaled_rs.extend(yt_rs)\n",
    "scaled_rs.extend(yt_comments_rs)\n",
    "df_merged[\"likes_rs_ind\"] = scaled_rs\n",
    "df_merged.head(3) # view final df"
   ]
  },
  {
   "cell_type": "markdown",
   "metadata": {},
   "source": [
    "#### Prepare Training Set"
   ]
  },
  {
   "cell_type": "code",
   "execution_count": 9,
   "metadata": {},
   "outputs": [
    {
     "name": "stdout",
     "output_type": "stream",
     "text": [
      "Training set size: 12088\n",
      "Unseen test set size: 12089\n"
     ]
    }
   ],
   "source": [
    "# split into training and unseen test data\n",
    "X = df_merged[[\"content\", \"platform\"]]\n",
    "y = df_merged[[\"likes_mm_ind\", \"likes_ss_ind\", \"likes_rs_ind\"]]\n",
    "\n",
    "X_train, X_unseen, y_train, y_unseen = train_test_split(X, y, test_size=0.5, stratify=df_merged[\"platform\"], random_state=42)\n",
    "\n",
    "print(\"Training set size:\", len(X_train))\n",
    "print(\"Unseen test set size:\", len(X_unseen))"
   ]
  },
  {
   "cell_type": "code",
   "execution_count": 10,
   "metadata": {},
   "outputs": [
    {
     "name": "stdout",
     "output_type": "stream",
     "text": [
      "Shape of training sparse matrix: (12088, 2500)\n",
      "Shape of test sparse matrix: (12089, 2500)\n"
     ]
    }
   ],
   "source": [
    "# TfidfVectorizer\n",
    "tvec = TfidfVectorizer(stop_words=\"english\", max_features=2500) # model takes too long to train, limit max features to 2500\n",
    "X_train_tvec = tvec.fit_transform(X_train[\"content\"])\n",
    "print(\"Shape of training sparse matrix:\", X_train_tvec.shape)\n",
    "X_unseen_tvec = tvec.transform(X_unseen[\"content\"])\n",
    "print(\"Shape of test sparse matrix:\", X_unseen_tvec.shape)"
   ]
  },
  {
   "cell_type": "code",
   "execution_count": 11,
   "metadata": {},
   "outputs": [
    {
     "name": "stdout",
     "output_type": "stream",
     "text": [
      "Shape of training Tfidf-Vectorizer: (12088, 2503)\n",
      "Shape of test Tfidf-Vectorizer: (12089, 2503)\n"
     ]
    }
   ],
   "source": [
    "# get dummies for each platform\n",
    "train_platforms = pd.get_dummies(X_train[\"platform\"]).values\n",
    "unseen_platforms = pd.get_dummies(X_unseen[\"platform\"]).values\n",
    "\n",
    "# add 3 cols of dummies data to tvec\n",
    "X_train_tvec_dumm = hstack([X_train_tvec, train_platforms]).toarray()\n",
    "X_unseen_tvec_dumm = hstack([X_unseen_tvec, unseen_platforms]).toarray()\n",
    "print(\"Shape of training Tfidf-Vectorizer:\", X_train_tvec_dumm.shape)\n",
    "print(\"Shape of test Tfidf-Vectorizer:\", X_unseen_tvec_dumm.shape)"
   ]
  },
  {
   "cell_type": "markdown",
   "metadata": {},
   "source": [
    "#### Score each Scaler"
   ]
  },
  {
   "cell_type": "code",
   "execution_count": 12,
   "metadata": {},
   "outputs": [],
   "source": [
    "# test with ridge regression as it is our baseline scorer\n",
    "# use X_train_tvec rather than X_train_tvec_dumm since scaling should have accounted for differences in likes distribution"
   ]
  },
  {
   "cell_type": "code",
   "execution_count": 13,
   "metadata": {},
   "outputs": [
    {
     "name": "stdout",
     "output_type": "stream",
     "text": [
      "Wall time: 45.3 s\n"
     ]
    },
    {
     "data": {
      "text/plain": [
       "0.2946767066553068"
      ]
     },
     "execution_count": 13,
     "metadata": {},
     "output_type": "execute_result"
    }
   ],
   "source": [
    "%%time\n",
    "# test effect of min-max scaling\n",
    "np.random.seed(42)\n",
    "lr = RidgeCV(cv=None)\n",
    "cross_val_score(estimator=lr, X=X_train_tvec, y=y_train[\"likes_mm_ind\"], cv=4).mean()"
   ]
  },
  {
   "cell_type": "code",
   "execution_count": 15,
   "metadata": {},
   "outputs": [
    {
     "name": "stdout",
     "output_type": "stream",
     "text": [
      "Wall time: 45.3 s\n"
     ]
    },
    {
     "data": {
      "text/plain": [
       "0.18279269197250428"
      ]
     },
     "execution_count": 15,
     "metadata": {},
     "output_type": "execute_result"
    }
   ],
   "source": [
    "%%time\n",
    "# test effect of standard scaling\n",
    "np.random.seed(42)\n",
    "lr = RidgeCV(cv=None)\n",
    "cross_val_score(estimator=lr, X=X_train_tvec, y=y_train[\"likes_ss_ind\"], cv=4).mean()"
   ]
  },
  {
   "cell_type": "code",
   "execution_count": 17,
   "metadata": {},
   "outputs": [
    {
     "name": "stdout",
     "output_type": "stream",
     "text": [
      "Wall time: 46.8 s\n"
     ]
    },
    {
     "data": {
      "text/plain": [
       "0.08106477716555424"
      ]
     },
     "execution_count": 17,
     "metadata": {},
     "output_type": "execute_result"
    }
   ],
   "source": [
    "%%time\n",
    "# test effect of robust scaling\n",
    "np.random.seed(42)\n",
    "lr = RidgeCV(cv=None)\n",
    "cross_val_score(estimator=lr, X=X_train_tvec, y=y_train[\"likes_rs_ind\"], cv=4).mean()"
   ]
  },
  {
   "cell_type": "markdown",
   "metadata": {},
   "source": [
    "#### Test Summary\n",
    "\n",
    "The following models were trained to evaluate the impact of the different scalers on model performance.\n",
    "\n",
    "|**Scaler**|**Model**|**Cross-Validation Score (R<sup>2</sup>)**|**Training Time (s)**|**Training Time (hh-mm-ss)**|\n",
    "|---|---|---|---|---|\n",
    "|unscaled|Ridge Regressor*|0.387|70|1min 10s|\n",
    "|MinMaxScaler|Ridge Regressor|0.295|45|45s|\n",
    "|StandardScaler|Ridge Regressor|0.183|45|45s|\n",
    "|RobustScaler|Ridge Regressor|0.081|46|46s|\n",
    "\n",
    "<p style='text-align: right;'><sub>*selected baseline model and baseline scores</sub></p>\n",
    "\n",
    "Since our `MinMaxScaler` is performing the best, let's add the platform dummies to see if there is any improvement in the model. We suspect it should not be needed because our model should already be platform-agnostic after scaling the likes target variables individually within each distribution."
   ]
  },
  {
   "cell_type": "code",
   "execution_count": 20,
   "metadata": {},
   "outputs": [
    {
     "name": "stdout",
     "output_type": "stream",
     "text": [
      "Wall time: 1min\n"
     ]
    },
    {
     "data": {
      "text/plain": [
       "0.3054900609286444"
      ]
     },
     "execution_count": 20,
     "metadata": {},
     "output_type": "execute_result"
    }
   ],
   "source": [
    "%%time\n",
    "np.random.seed(42)\n",
    "lr = RidgeCV(cv=None)\n",
    "cross_val_score(estimator=lr, X=X_train_tvec_dumm, y=y_train[\"likes_mm_ind\"], cv=4).mean()"
   ]
  },
  {
   "cell_type": "markdown",
   "metadata": {},
   "source": [
    "Even though CV score improved only slightly with the addition of the platform dummy columns to training set, there is a drastic reduction in training time for Lasso. This tells us that the data about the types of platforms proved to be very important information that helped the Lasso model converge onto a prediction faster and more effectively, lending greater weight to the case of platform types as an important predictor. Moreover, that the score improved further is a sign that simply rescaling the data using the `MinMaxScaler` is not enough to capture each platform's distribution of likes. The model learnt better when platform types were explicitly labelled.\n",
    "\n",
    "Finally, it is also worth bearing in mind that the overall, the model still performed worse than the our baseline Ridge and Lasso Regression models that were trained on the unscaled likes target variable, even when the platform data were included in the training set. A possible reason for this could be that the unscaled target variable has a wide range of likes unlike the scaled target variable from 0 to 1, which allowed the model to learn greater sensitivity in its likes prediction. It seems then that simply by providing the platform dummies in the training set for our baseline model is already enough to teach the model each platform's respective distribution of likes, even without scaling our likes target variable."
   ]
  },
  {
   "cell_type": "markdown",
   "metadata": {},
   "source": [
    "### Dual-Models Design"
   ]
  },
  {
   "cell_type": "markdown",
   "metadata": {},
   "source": [
    "So far, we have strove to build our models to be platform-agnostic. This is because of our hypothesis that Instagram posts demonstrate explicit understanding of domestic tourism, while discourse on YouTube between video and comments reveals implicit understanding of what entails domestic tourism. To that end, it made sense to merge the word features into a single dataset for training so as to provide a common baseline with which we can then evalute our NLP findings.\n",
    "\n",
    "We have thus far addressed our concers over the uneven likes distribution by:\n",
    "- providing dummy information on the different types of platforms from whence the word features originate (Instagram Post, YouTube Video, YouTube Comment),\n",
    "- and rescaling the target likes platform by platform, distribution by distribution.\n",
    "\n",
    "However, a case could still be made for a **model's prediction performance over inferential utility**, especially when we do not yet know if our model can perform adequately. As such, we should also do our due diligence and test out a dual-model design in which two models are trained separately on the respective unique corpus of Instagram dataset and YouTube dataset. In this section, we will test and evaluate this dual-model design and determine if two models are better than one."
   ]
  },
  {
   "cell_type": "code",
   "execution_count": 26,
   "metadata": {},
   "outputs": [
    {
     "data": {
      "text/html": [
       "<div>\n",
       "<style scoped>\n",
       "    .dataframe tbody tr th:only-of-type {\n",
       "        vertical-align: middle;\n",
       "    }\n",
       "\n",
       "    .dataframe tbody tr th {\n",
       "        vertical-align: top;\n",
       "    }\n",
       "\n",
       "    .dataframe thead th {\n",
       "        text-align: right;\n",
       "    }\n",
       "</style>\n",
       "<table border=\"1\" class=\"dataframe\">\n",
       "  <thead>\n",
       "    <tr style=\"text-align: right;\">\n",
       "      <th></th>\n",
       "      <th>content</th>\n",
       "      <th>likes</th>\n",
       "      <th>platform</th>\n",
       "      <th>likes_mm_ind</th>\n",
       "      <th>likes_ss_ind</th>\n",
       "      <th>likes_rs_ind</th>\n",
       "    </tr>\n",
       "  </thead>\n",
       "  <tbody>\n",
       "    <tr>\n",
       "      <th>0</th>\n",
       "      <td>oh look natural heart shaped form ivan heng gl...</td>\n",
       "      <td>40</td>\n",
       "      <td>Instagram Posts</td>\n",
       "      <td>0.004850</td>\n",
       "      <td>-0.254253</td>\n",
       "      <td>0.000000</td>\n",
       "    </tr>\n",
       "    <tr>\n",
       "      <th>1</th>\n",
       "      <td>#exploresingapore #instasg #gfsingapore #gameo...</td>\n",
       "      <td>33</td>\n",
       "      <td>Instagram Posts</td>\n",
       "      <td>0.004001</td>\n",
       "      <td>-0.278354</td>\n",
       "      <td>-0.094595</td>\n",
       "    </tr>\n",
       "    <tr>\n",
       "      <th>2</th>\n",
       "      <td>road hell reliving haw par villa 15 16 22 23 m...</td>\n",
       "      <td>3</td>\n",
       "      <td>Instagram Posts</td>\n",
       "      <td>0.000364</td>\n",
       "      <td>-0.381645</td>\n",
       "      <td>-0.500000</td>\n",
       "    </tr>\n",
       "  </tbody>\n",
       "</table>\n",
       "</div>"
      ],
      "text/plain": [
       "                                             content  likes         platform  \\\n",
       "0  oh look natural heart shaped form ivan heng gl...     40  Instagram Posts   \n",
       "1  #exploresingapore #instasg #gfsingapore #gameo...     33  Instagram Posts   \n",
       "2  road hell reliving haw par villa 15 16 22 23 m...      3  Instagram Posts   \n",
       "\n",
       "   likes_mm_ind  likes_ss_ind  likes_rs_ind  \n",
       "0      0.004850     -0.254253      0.000000  \n",
       "1      0.004001     -0.278354     -0.094595  \n",
       "2      0.000364     -0.381645     -0.500000  "
      ]
     },
     "execution_count": 26,
     "metadata": {},
     "output_type": "execute_result"
    }
   ],
   "source": [
    "df_merged.head(3)"
   ]
  },
  {
   "cell_type": "markdown",
   "metadata": {},
   "source": [
    "#### Dual Datasets"
   ]
  },
  {
   "cell_type": "code",
   "execution_count": 27,
   "metadata": {},
   "outputs": [
    {
     "name": "stdout",
     "output_type": "stream",
     "text": [
      "Shape of Instagram DataFrame: (14194, 6)\n",
      "Shape of YouTube DataFrame: (9983, 6)\n"
     ]
    }
   ],
   "source": [
    "# create platform groupby objs\n",
    "platforms = df_merged.groupby(\"platform\")\n",
    "\n",
    "# create two dfs - one for insta and one for yt\n",
    "df_insta = platforms.get_group(\"Instagram Posts\")\n",
    "df_yt = pd.concat([platforms.get_group(\"YouTube Videos\"), platforms.get_group(\"YouTube Comments\")], ignore_index=True)\n",
    "\n",
    "print(\"Shape of Instagram DataFrame:\", df_insta.shape)\n",
    "print(\"Shape of YouTube DataFrame:\", df_yt.shape)"
   ]
  },
  {
   "cell_type": "code",
   "execution_count": 28,
   "metadata": {},
   "outputs": [
    {
     "name": "stdout",
     "output_type": "stream",
     "text": [
      "Instagram training set size: 7097\n",
      "Instagram unseen test set size: 7097\n",
      "\n",
      "YouTube training set size: 4991\n",
      "YouTube unseen test set size: 4992\n"
     ]
    }
   ],
   "source": [
    "# split into training and unseen test data\n",
    "X_insta = df_insta[[\"content\", \"platform\"]]\n",
    "y_insta = df_insta[\"likes\"]\n",
    "X_yt = df_yt[[\"content\", \"platform\"]]\n",
    "y_yt = df_yt[\"likes_mm_ind\"] # yt data include vid and comments, use minmax-scaled targets as it gave the best result earlier\n",
    "\n",
    "X_insta_train, X_insta_unseen, y_insta_train, y_insta_unseen = train_test_split(X_insta, y_insta, test_size=0.5, random_state=42)\n",
    "X_yt_train, X_yt_unseen, y_yt_train, y_yt_unseen = train_test_split(X_yt, y_yt, test_size=0.5, stratify=X_yt[\"platform\"], random_state=42)\n",
    "\n",
    "print(\"Instagram training set size:\", len(X_insta_train))\n",
    "print(\"Instagram unseen test set size:\", len(X_insta_unseen))\n",
    "print()\n",
    "print(\"YouTube training set size:\", len(X_yt_train))\n",
    "print(\"YouTube unseen test set size:\", len(X_yt_unseen))"
   ]
  },
  {
   "cell_type": "code",
   "execution_count": 29,
   "metadata": {},
   "outputs": [
    {
     "name": "stdout",
     "output_type": "stream",
     "text": [
      "Shape of Instagram training sparse matrix: (7097, 2500)\n",
      "Shape of Instagram test sparse matrix: (7097, 2500)\n",
      "\n",
      "Shape of YouTube training sparse matrix: (4991, 2500)\n",
      "Shape of YouTube test sparse matrix: (4992, 2500)\n"
     ]
    }
   ],
   "source": [
    "# TfidfVectorizer\n",
    "tvec = TfidfVectorizer(stop_words=\"english\", max_features=2500) # model takes too long to train, limit max features to 2500\n",
    "X_insta_train_tvec = tvec.fit_transform(X_insta_train[\"content\"])\n",
    "print(\"Shape of Instagram training sparse matrix:\", X_insta_train_tvec.shape)\n",
    "X_insta_unseen_tvec = tvec.transform(X_insta_unseen[\"content\"])\n",
    "print(\"Shape of Instagram test sparse matrix:\", X_insta_unseen_tvec.shape)\n",
    "print()\n",
    "tvec = TfidfVectorizer(stop_words=\"english\", max_features=2500) # model takes too long to train, limit max features to 2500\n",
    "X_yt_train_tvec = tvec.fit_transform(X_yt_train[\"content\"])\n",
    "print(\"Shape of YouTube training sparse matrix:\", X_yt_train_tvec.shape)\n",
    "X_yt_unseen_tvec = tvec.transform(X_yt_unseen[\"content\"])\n",
    "print(\"Shape of YouTube test sparse matrix:\", X_yt_unseen_tvec.shape)"
   ]
  },
  {
   "cell_type": "markdown",
   "metadata": {},
   "source": [
    "#### Dual Models"
   ]
  },
  {
   "cell_type": "code",
   "execution_count": null,
   "metadata": {},
   "outputs": [],
   "source": [
    "# test model performance when trained singly on each platform"
   ]
  },
  {
   "cell_type": "code",
   "execution_count": 25,
   "metadata": {},
   "outputs": [
    {
     "name": "stdout",
     "output_type": "stream",
     "text": [
      "CV score for Instagram: 0.2892692261561307\n",
      "Wall time: 37.2 s\n"
     ]
    }
   ],
   "source": [
    "%%time\n",
    "# score on insta predictions\n",
    "np.random.seed(42)\n",
    "lr = RidgeCV(cv=None)\n",
    "print(\"CV score for Instagram:\",\n",
    "      cross_val_score(estimator=lr, X=X_insta_train_tvec, y=y_insta_train, cv=4).mean())"
   ]
  },
  {
   "cell_type": "code",
   "execution_count": 30,
   "metadata": {},
   "outputs": [
    {
     "name": "stdout",
     "output_type": "stream",
     "text": [
      "CV score for YouTube: 0.3244839826253766\n",
      "Wall time: 32.5 s\n"
     ]
    }
   ],
   "source": [
    "%%time\n",
    "# score on minmax-scaled likes\n",
    "np.random.seed(42)\n",
    "lr = RidgeCV(cv=None)\n",
    "print(\"CV score for YouTube:\", cross_val_score(estimator=lr, X=X_yt_train_tvec, y=y_yt_train, cv=4).mean())"
   ]
  },
  {
   "cell_type": "code",
   "execution_count": 16,
   "metadata": {},
   "outputs": [],
   "source": [
    "# insta scored average\n",
    "# yt scored badly\n",
    "# training time is slightly shorter per model, but there are two models"
   ]
  },
  {
   "cell_type": "markdown",
   "metadata": {},
   "source": [
    "#### Test Summary\n",
    "\n",
    "The following models were trained to evaluate the impact on model performance \n",
    "\n",
    "|**Platform**|**Model**|**Cross-Validation Score (R<sup>2</sup>)**|**Training Time (s)**|**Training Time (hh-mm-ss)**|\n",
    "|---|---|---|---|---|\n",
    "|all|Ridge Regressor*|0.387|70|1min 10s|\n",
    "|Instagram|Ridge Regressor|0.289|37|37s|\n",
    "|YouTube|Ridge Regressor|0.324|32|32s|\n",
    "|-|average|0.307|-|-|\n",
    "\n",
    "<p style='text-align: right;'><sub>*selected baseline model and baseline scores</sub></p>\n",
    "\n",
    "The average score is less than before, therefore our dual-model design performed worse than a single model. This suggests that word features from each platform actually helps the machine to learn better, and helps inform the likes prediction for the other. Overall, it would mean that it is better for our prediction performance that the model has a bigger corpus to train on.\n",
    "\n",
    "Hence, this is not the way for us to address the problem of uneven likes distribution. From all three methods we have tested out so far, not scaling while introducing platform dummies appear to be the best method. As such, our final model will be built as such."
   ]
  },
  {
   "cell_type": "markdown",
   "metadata": {},
   "source": [
    "### Culling Hashtags"
   ]
  },
  {
   "cell_type": "markdown",
   "metadata": {},
   "source": [
    "This section aims to test the impact on model performance of removing target hashtags against removing all hashtags from our training set. The test shall be conducted using our Ridge Regressor since it is our baseline model."
   ]
  },
  {
   "cell_type": "markdown",
   "metadata": {},
   "source": [
    "#### Top 10 Words - without Target Hashtags"
   ]
  },
  {
   "cell_type": "code",
   "execution_count": 3,
   "metadata": {},
   "outputs": [
    {
     "data": {
      "text/html": [
       "<div>\n",
       "<style scoped>\n",
       "    .dataframe tbody tr th:only-of-type {\n",
       "        vertical-align: middle;\n",
       "    }\n",
       "\n",
       "    .dataframe tbody tr th {\n",
       "        vertical-align: top;\n",
       "    }\n",
       "\n",
       "    .dataframe thead th {\n",
       "        text-align: right;\n",
       "    }\n",
       "</style>\n",
       "<table border=\"1\" class=\"dataframe\">\n",
       "  <thead>\n",
       "    <tr style=\"text-align: right;\">\n",
       "      <th></th>\n",
       "      <th>content</th>\n",
       "      <th>likes</th>\n",
       "      <th>platform</th>\n",
       "    </tr>\n",
       "  </thead>\n",
       "  <tbody>\n",
       "    <tr>\n",
       "      <th>0</th>\n",
       "      <td>oh look natural heart shaped form ivan heng gl...</td>\n",
       "      <td>40</td>\n",
       "      <td>Instagram Posts</td>\n",
       "    </tr>\n",
       "    <tr>\n",
       "      <th>1</th>\n",
       "      <td>#exploresingapore #instasg #gfsingapore #gameo...</td>\n",
       "      <td>33</td>\n",
       "      <td>Instagram Posts</td>\n",
       "    </tr>\n",
       "    <tr>\n",
       "      <th>2</th>\n",
       "      <td>road hell reliving haw par villa 15 16 22 23 m...</td>\n",
       "      <td>3</td>\n",
       "      <td>Instagram Posts</td>\n",
       "    </tr>\n",
       "  </tbody>\n",
       "</table>\n",
       "</div>"
      ],
      "text/plain": [
       "                                             content  likes         platform\n",
       "0  oh look natural heart shaped form ivan heng gl...     40  Instagram Posts\n",
       "1  #exploresingapore #instasg #gfsingapore #gameo...     33  Instagram Posts\n",
       "2  road hell reliving haw par villa 15 16 22 23 m...      3  Instagram Posts"
      ]
     },
     "execution_count": 3,
     "metadata": {},
     "output_type": "execute_result"
    }
   ],
   "source": [
    "df_merged_drop_targets = pd.read_csv(\"../datasets/df_merged_drop_targets.csv\")\n",
    "df_merged_drop_targets.head(3)"
   ]
  },
  {
   "cell_type": "code",
   "execution_count": 4,
   "metadata": {},
   "outputs": [
    {
     "data": {
      "text/plain": [
       "(24146, 3)"
      ]
     },
     "execution_count": 4,
     "metadata": {},
     "output_type": "execute_result"
    }
   ],
   "source": [
    "df_merged_drop_targets.shape"
   ]
  },
  {
   "cell_type": "code",
   "execution_count": 5,
   "metadata": {},
   "outputs": [],
   "source": [
    "# split into training and unseen test data\n",
    "features = [feat for feat in df_merged_drop_targets.columns if feat != \"likes\"]\n",
    "X = df_merged_drop_targets[features]\n",
    "y = df_merged_drop_targets[\"likes\"]\n",
    "\n",
    "X_train, X_unseen, y_train, y_unseen = train_test_split(X, y, test_size=0.5, stratify=df_merged_drop_targets[\"platform\"], random_state=42)"
   ]
  },
  {
   "cell_type": "code",
   "execution_count": 6,
   "metadata": {
    "scrolled": true
   },
   "outputs": [
    {
     "name": "stdout",
     "output_type": "stream",
     "text": [
      "Training set size: 12073\n",
      "Unseen test set size: 12073\n"
     ]
    }
   ],
   "source": [
    "print(\"Training set size:\", len(X_train))\n",
    "print(\"Unseen test set size:\", len(X_unseen))"
   ]
  },
  {
   "cell_type": "code",
   "execution_count": 7,
   "metadata": {},
   "outputs": [],
   "source": [
    "# TfidfVectorizer\n",
    "tvec = TfidfVectorizer(stop_words=\"english\",\n",
    "                       ngram_range=(1, 1), # sample only 1 word token at a time\n",
    "                       max_features=2500) # model takes too long to train, limit max features to 2500\n",
    "X_train_tvec = tvec.fit_transform(X_train[\"content\"])\n",
    "X_unseen_tvec = tvec.transform(X_unseen[\"content\"])"
   ]
  },
  {
   "cell_type": "code",
   "execution_count": 8,
   "metadata": {},
   "outputs": [
    {
     "data": {
      "text/plain": [
       "singapore           305.301825\n",
       "outdoor             273.129416\n",
       "sky                 216.518207\n",
       "visitsingapore      202.215352\n",
       "whatissingapore     175.046109\n",
       "instasg             171.079802\n",
       "exploresingapore    163.590938\n",
       "sgig                143.967590\n",
       "good                141.026267\n",
       "iluvsg              138.263526\n",
       "dtype: float64"
      ]
     },
     "execution_count": 8,
     "metadata": {},
     "output_type": "execute_result"
    }
   ],
   "source": [
    "# sneak peek at tvec count\n",
    "pd.DataFrame(X_train_tvec.todense(), columns=tvec.get_feature_names()).sum().sort_values(ascending=False).head(10)"
   ]
  },
  {
   "cell_type": "code",
   "execution_count": null,
   "metadata": {},
   "outputs": [],
   "source": [
    "# from the top 10 words, we can observe at least 6 hashtags\n",
    "# they are....\n",
    "# other top words according to TF-IDF are...."
   ]
  },
  {
   "cell_type": "markdown",
   "metadata": {},
   "source": [
    "#### Ridge Regression - without Target Hashtags"
   ]
  },
  {
   "cell_type": "code",
   "execution_count": 9,
   "metadata": {},
   "outputs": [
    {
     "name": "stdout",
     "output_type": "stream",
     "text": [
      "Shape of training Tfidf-Vectorizer: (12073, 2503)\n",
      "Shape of test Tfidf-Vectorizer: (12073, 2503)\n"
     ]
    }
   ],
   "source": [
    "# get dummies for each platform\n",
    "train_platforms = pd.get_dummies(X_train[\"platform\"]).values\n",
    "unseen_platforms = pd.get_dummies(X_unseen[\"platform\"]).values\n",
    "\n",
    "# add 3 cols of dummies data to tvec\n",
    "X_train_tvec_dumm = hstack([X_train_tvec, train_platforms]).toarray()\n",
    "X_unseen_tvec_dumm = hstack([X_unseen_tvec, unseen_platforms]).toarray()\n",
    "print(\"Shape of training Tfidf-Vectorizer:\", X_train_tvec_dumm.shape)\n",
    "print(\"Shape of test Tfidf-Vectorizer:\", X_unseen_tvec_dumm.shape)"
   ]
  },
  {
   "cell_type": "code",
   "execution_count": 10,
   "metadata": {},
   "outputs": [
    {
     "name": "stdout",
     "output_type": "stream",
     "text": [
      "Wall time: 1min 2s\n"
     ]
    },
    {
     "data": {
      "text/plain": [
       "0.3939519774566064"
      ]
     },
     "execution_count": 10,
     "metadata": {},
     "output_type": "execute_result"
    }
   ],
   "source": [
    "%%time\n",
    "np.random.seed(42)\n",
    "lr = RidgeCV(cv=None)\n",
    "cross_val_score(estimator=lr, X=X_train_tvec_dumm, y=y_train, cv=4).mean()"
   ]
  },
  {
   "cell_type": "markdown",
   "metadata": {},
   "source": [
    "#### Top 10 Words - without Hashtags"
   ]
  },
  {
   "cell_type": "code",
   "execution_count": 11,
   "metadata": {},
   "outputs": [
    {
     "data": {
      "text/html": [
       "<div>\n",
       "<style scoped>\n",
       "    .dataframe tbody tr th:only-of-type {\n",
       "        vertical-align: middle;\n",
       "    }\n",
       "\n",
       "    .dataframe tbody tr th {\n",
       "        vertical-align: top;\n",
       "    }\n",
       "\n",
       "    .dataframe thead th {\n",
       "        text-align: right;\n",
       "    }\n",
       "</style>\n",
       "<table border=\"1\" class=\"dataframe\">\n",
       "  <thead>\n",
       "    <tr style=\"text-align: right;\">\n",
       "      <th></th>\n",
       "      <th>content</th>\n",
       "      <th>likes</th>\n",
       "      <th>platform</th>\n",
       "    </tr>\n",
       "  </thead>\n",
       "  <tbody>\n",
       "    <tr>\n",
       "      <th>0</th>\n",
       "      <td>oh look natural heart shaped form ivan heng gl...</td>\n",
       "      <td>40</td>\n",
       "      <td>Instagram Posts</td>\n",
       "    </tr>\n",
       "    <tr>\n",
       "      <th>1</th>\n",
       "      <td>indoor</td>\n",
       "      <td>33</td>\n",
       "      <td>Instagram Posts</td>\n",
       "    </tr>\n",
       "    <tr>\n",
       "      <th>2</th>\n",
       "      <td>road hell reliving haw par villa 15 16 22 23 m...</td>\n",
       "      <td>3</td>\n",
       "      <td>Instagram Posts</td>\n",
       "    </tr>\n",
       "  </tbody>\n",
       "</table>\n",
       "</div>"
      ],
      "text/plain": [
       "                                             content  likes         platform\n",
       "0  oh look natural heart shaped form ivan heng gl...     40  Instagram Posts\n",
       "1                                             indoor     33  Instagram Posts\n",
       "2  road hell reliving haw par villa 15 16 22 23 m...      3  Instagram Posts"
      ]
     },
     "execution_count": 11,
     "metadata": {},
     "output_type": "execute_result"
    }
   ],
   "source": [
    "df_merged_drop_hash = pd.read_csv(\"../datasets/df_merged_drop_hash.csv\")\n",
    "df_merged_drop_hash.head(3)"
   ]
  },
  {
   "cell_type": "code",
   "execution_count": 12,
   "metadata": {},
   "outputs": [
    {
     "data": {
      "text/plain": [
       "(23660, 3)"
      ]
     },
     "execution_count": 12,
     "metadata": {},
     "output_type": "execute_result"
    }
   ],
   "source": [
    "df_merged_drop_hash.shape"
   ]
  },
  {
   "cell_type": "code",
   "execution_count": 13,
   "metadata": {},
   "outputs": [],
   "source": [
    "# split into training and unseen test data\n",
    "features = [feat for feat in df_merged_drop_hash.columns if feat != \"likes\"]\n",
    "X = df_merged_drop_hash[features]\n",
    "y = df_merged_drop_hash[\"likes\"]\n",
    "\n",
    "X_train, X_unseen, y_train, y_unseen = train_test_split(X, y, test_size=0.5, stratify=df_merged_drop_hash[\"platform\"], random_state=42)"
   ]
  },
  {
   "cell_type": "code",
   "execution_count": 14,
   "metadata": {
    "scrolled": true
   },
   "outputs": [
    {
     "name": "stdout",
     "output_type": "stream",
     "text": [
      "Training set size: 11830\n",
      "Unseen test set size: 11830\n"
     ]
    }
   ],
   "source": [
    "print(\"Training set size:\", len(X_train))\n",
    "print(\"Unseen test set size:\", len(X_unseen))"
   ]
  },
  {
   "cell_type": "code",
   "execution_count": 15,
   "metadata": {},
   "outputs": [],
   "source": [
    "# TfidfVectorizer\n",
    "tvec = TfidfVectorizer(stop_words=\"english\",\n",
    "                       ngram_range=(1, 1), # sample only 1 word token at a time\n",
    "                       max_features=2500) # model takes too long to train, limit max features to 2500\n",
    "X_train_tvec = tvec.fit_transform(X_train[\"content\"])\n",
    "X_unseen_tvec = tvec.transform(X_unseen[\"content\"])"
   ]
  },
  {
   "cell_type": "code",
   "execution_count": 16,
   "metadata": {},
   "outputs": [
    {
     "data": {
      "text/plain": [
       "outdoor    402.613135\n",
       "sky        296.770789\n",
       "night      174.004814\n",
       "cloud      171.062157\n",
       "tree       153.344393\n",
       "plant      150.018932\n",
       "2020       149.143278\n",
       "nature     145.143352\n",
       "good       143.439629\n",
       "day        135.070051\n",
       "dtype: float64"
      ]
     },
     "execution_count": 16,
     "metadata": {},
     "output_type": "execute_result"
    }
   ],
   "source": [
    "# sneak peek at tvec count\n",
    "pd.DataFrame(X_train_tvec.todense(), columns=tvec.get_feature_names()).sum().sort_values(ascending=False).head(10)"
   ]
  },
  {
   "cell_type": "code",
   "execution_count": null,
   "metadata": {},
   "outputs": [],
   "source": [
    "# without the hashtags, we a lot more topics began to surface\n",
    "# outdoor has the greatest TF-IDF score"
   ]
  },
  {
   "cell_type": "markdown",
   "metadata": {},
   "source": [
    "#### Ridge Regression - without Hashtags"
   ]
  },
  {
   "cell_type": "code",
   "execution_count": 17,
   "metadata": {},
   "outputs": [
    {
     "name": "stdout",
     "output_type": "stream",
     "text": [
      "Shape of training Tfidf-Vectorizer: (11830, 2503)\n",
      "Shape of test Tfidf-Vectorizer: (11830, 2503)\n"
     ]
    }
   ],
   "source": [
    "# get dummies for each platform\n",
    "train_platforms = pd.get_dummies(X_train[\"platform\"]).values\n",
    "unseen_platforms = pd.get_dummies(X_unseen[\"platform\"]).values\n",
    "\n",
    "# add 3 cols of dummies data to tvec\n",
    "X_train_tvec_dumm = hstack([X_train_tvec, train_platforms]).toarray()\n",
    "X_unseen_tvec_dumm = hstack([X_unseen_tvec, unseen_platforms]).toarray()\n",
    "print(\"Shape of training Tfidf-Vectorizer:\", X_train_tvec_dumm.shape)\n",
    "print(\"Shape of test Tfidf-Vectorizer:\", X_unseen_tvec_dumm.shape)"
   ]
  },
  {
   "cell_type": "code",
   "execution_count": 18,
   "metadata": {},
   "outputs": [
    {
     "name": "stdout",
     "output_type": "stream",
     "text": [
      "Wall time: 1min 2s\n"
     ]
    },
    {
     "data": {
      "text/plain": [
       "0.2808233718850539"
      ]
     },
     "execution_count": 18,
     "metadata": {},
     "output_type": "execute_result"
    }
   ],
   "source": [
    "%%time\n",
    "np.random.seed(42)\n",
    "lr = RidgeCV(cv=None)\n",
    "cross_val_score(estimator=lr, X=X_train_tvec_dumm, y=y_train, cv=4).mean()"
   ]
  },
  {
   "cell_type": "markdown",
   "metadata": {},
   "source": [
    "#### Test Summary\n",
    "\n",
    "The following models were trained to evaluate the impact of dropping hashtags on model's performance.\n",
    "\n",
    "|**Hashtags**|**Model**|**Cross-Validation Score (R<sup>2</sup>)**|**Training Time (s)**|**Training Time (hh-mm-ss)**|\n",
    "|---|---|---|---|---|\n",
    "|preserved|Ridge Regressor*|0.387|70|1min 10s|\n",
    "|dropped targets|Ridge Regressor|0.394|62|1min 2s|\n",
    "|dropped all|Ridge Regressor|0.281|62|1min 2s|\n",
    "\n",
    "<p style='text-align: right;'><sub>*selected baseline model and baseline scores</sub></p>\n",
    "\n",
    "As expected, target hashtags do not help since our data is already skewed towards the target hashtags we queried for our scrapes. Score improved slightly when target hashtags were dropped, but deproved substantially when all hashtags were dropped. On first impression, this was unexpected as most of the hashtags appear meaningless and generalised. However, on further thought, it makes sense as hashtags though generally void of meaning/repetitive, are still functionally relevant to increasing visibility of the post. Just as how this project was able to scrape the Instagram posts by querying a target hashtags, other users would also be able to find these posts either by searching on hashtags or have it recommended to them by following a certain hashtag. To the model then, these hashtags are still informative of a certain pattern that indicate certain likes distribution.\n",
    "\n",
    "Our final models shall therefore be built using the training set with no hashtags."
   ]
  },
  {
   "cell_type": "markdown",
   "metadata": {},
   "source": [
    "### Classification Backup"
   ]
  },
  {
   "cell_type": "markdown",
   "metadata": {},
   "source": [
    "A regression problem is always going to be more difficult to score well on because variance is inevitably greater. Classification on the other hand, especially a binary one, should be much easier to score on. For this section, we will test our just how well a classifier can perform on our training set. This is conducted in anticipation of a possible pivot should our model fail to perform sufficiently well.\n",
    "\n",
    "Since our problem statement remains the same, and we still want to understand what resonates or would resonate with locals with regards to domestic tourism, for classification we shall aim to classify if certain ideas/content are popular or unpopular. This label will be derived from our likes target variable by identifying upper-bound outliers within each likes distribution."
   ]
  },
  {
   "cell_type": "code",
   "execution_count": 57,
   "metadata": {},
   "outputs": [
    {
     "data": {
      "text/html": [
       "<div>\n",
       "<style scoped>\n",
       "    .dataframe tbody tr th:only-of-type {\n",
       "        vertical-align: middle;\n",
       "    }\n",
       "\n",
       "    .dataframe tbody tr th {\n",
       "        vertical-align: top;\n",
       "    }\n",
       "\n",
       "    .dataframe thead th {\n",
       "        text-align: right;\n",
       "    }\n",
       "</style>\n",
       "<table border=\"1\" class=\"dataframe\">\n",
       "  <thead>\n",
       "    <tr style=\"text-align: right;\">\n",
       "      <th></th>\n",
       "      <th>content</th>\n",
       "      <th>likes</th>\n",
       "      <th>platform</th>\n",
       "    </tr>\n",
       "  </thead>\n",
       "  <tbody>\n",
       "    <tr>\n",
       "      <th>0</th>\n",
       "      <td>oh look natural heart shaped form ivan heng gl...</td>\n",
       "      <td>40</td>\n",
       "      <td>Instagram Posts</td>\n",
       "    </tr>\n",
       "    <tr>\n",
       "      <th>1</th>\n",
       "      <td>#exploresingapore #instasg #gfsingapore #gameo...</td>\n",
       "      <td>33</td>\n",
       "      <td>Instagram Posts</td>\n",
       "    </tr>\n",
       "    <tr>\n",
       "      <th>2</th>\n",
       "      <td>road hell reliving haw par villa 15 16 22 23 m...</td>\n",
       "      <td>3</td>\n",
       "      <td>Instagram Posts</td>\n",
       "    </tr>\n",
       "  </tbody>\n",
       "</table>\n",
       "</div>"
      ],
      "text/plain": [
       "                                             content  likes         platform\n",
       "0  oh look natural heart shaped form ivan heng gl...     40  Instagram Posts\n",
       "1  #exploresingapore #instasg #gfsingapore #gameo...     33  Instagram Posts\n",
       "2  road hell reliving haw par villa 15 16 22 23 m...      3  Instagram Posts"
      ]
     },
     "execution_count": 57,
     "metadata": {},
     "output_type": "execute_result"
    }
   ],
   "source": [
    "df_merged.head(3)"
   ]
  },
  {
   "cell_type": "code",
   "execution_count": 58,
   "metadata": {},
   "outputs": [
    {
     "data": {
      "text/plain": [
       "count    24177.000000\n",
       "mean        88.869380\n",
       "std        306.088655\n",
       "min          0.000000\n",
       "25%          4.000000\n",
       "50%         21.000000\n",
       "75%         63.000000\n",
       "max      13913.000000\n",
       "Name: likes, dtype: float64"
      ]
     },
     "execution_count": 58,
     "metadata": {},
     "output_type": "execute_result"
    }
   ],
   "source": [
    "df_merged[\"likes\"].describe()"
   ]
  },
  {
   "cell_type": "markdown",
   "metadata": {},
   "source": [
    "#### Overview of Likes Distribution"
   ]
  },
  {
   "cell_type": "code",
   "execution_count": 59,
   "metadata": {},
   "outputs": [],
   "source": [
    "platform = df_merged.groupby(\"platform\")"
   ]
  },
  {
   "cell_type": "code",
   "execution_count": 60,
   "metadata": {},
   "outputs": [
    {
     "data": {
      "image/png": "[encoded data removed]",
      "text/plain": [
       "<Figure size 432x288 with 1 Axes>"
      ]
     },
     "metadata": {
      "image/png": {
       "height": 244,
       "width": 425
      },
      "needs_background": "light"
     },
     "output_type": "display_data"
    }
   ],
   "source": [
    "plt.hist(platform.get_group(\"Instagram Posts\")[\"likes\"], bins=100);"
   ]
  },
  {
   "cell_type": "code",
   "execution_count": 61,
   "metadata": {},
   "outputs": [
    {
     "data": {
      "image/png": "[encoded data removed]",
      "text/plain": [
       "<Figure size 432x288 with 1 Axes>"
      ]
     },
     "metadata": {
      "image/png": {
       "height": 244,
       "width": 407
      },
      "needs_background": "light"
     },
     "output_type": "display_data"
    }
   ],
   "source": [
    "plt.hist(platform.get_group(\"YouTube Videos\")[\"likes\"], bins=100);"
   ]
  },
  {
   "cell_type": "code",
   "execution_count": 62,
   "metadata": {},
   "outputs": [
    {
     "data": {
      "image/png": "[encoded data removed]",
      "text/plain": [
       "<Figure size 432x288 with 1 Axes>"
      ]
     },
     "metadata": {
      "image/png": {
       "height": 244,
       "width": 419
      },
      "needs_background": "light"
     },
     "output_type": "display_data"
    }
   ],
   "source": [
    "plt.hist(platform.get_group(\"YouTube Comments\")[\"likes\"], bins=100);"
   ]
  },
  {
   "cell_type": "code",
   "execution_count": 66,
   "metadata": {},
   "outputs": [
    {
     "data": {
      "image/png": "[encoded data removed]",
      "text/plain": [
       "<Figure size 432x288 with 1 Axes>"
      ]
     },
     "metadata": {
      "image/png": {
       "height": 260,
       "width": 441
      },
      "needs_background": "light"
     },
     "output_type": "display_data"
    }
   ],
   "source": [
    "sns.boxplot(data=df_merged, x=\"platform\", y=\"likes\");"
   ]
  },
  {
   "cell_type": "code",
   "execution_count": null,
   "metadata": {},
   "outputs": [],
   "source": [
    "# likes have different distributions across platforms"
   ]
  },
  {
   "cell_type": "markdown",
   "metadata": {},
   "source": [
    "#### Instagram Likes Outliers"
   ]
  },
  {
   "cell_type": "code",
   "execution_count": 69,
   "metadata": {},
   "outputs": [
    {
     "data": {
      "text/plain": [
       "count    14194.000000\n",
       "mean       113.846203\n",
       "std        290.453689\n",
       "min          0.000000\n",
       "25%         18.000000\n",
       "50%         40.000000\n",
       "75%         92.000000\n",
       "max       8247.000000\n",
       "Name: likes, dtype: float64"
      ]
     },
     "execution_count": 69,
     "metadata": {},
     "output_type": "execute_result"
    }
   ],
   "source": [
    "insta_likes = platform.get_group(\"Instagram Posts\")[\"likes\"]\n",
    "insta_likes.describe()"
   ]
  },
  {
   "cell_type": "code",
   "execution_count": 68,
   "metadata": {},
   "outputs": [
    {
     "data": {
      "text/plain": [
       "814"
      ]
     },
     "execution_count": 68,
     "metadata": {},
     "output_type": "execute_result"
    }
   ],
   "source": [
    "# 1 std away\n",
    "mask = insta_likes > (insta_likes.mean() + insta_likes.std())\n",
    "len(platform.get_group(\"Instagram Posts\")[mask]) # check total no. of outliers found"
   ]
  },
  {
   "cell_type": "code",
   "execution_count": 72,
   "metadata": {},
   "outputs": [
    {
     "data": {
      "text/plain": [
       "229"
      ]
     },
     "execution_count": 72,
     "metadata": {},
     "output_type": "execute_result"
    }
   ],
   "source": [
    "# 3 std away\n",
    "mask = insta_likes > (insta_likes.mean() + (3*insta_likes.std()))\n",
    "len(platform.get_group(\"Instagram Posts\")[mask]) # check total no. of outliers found"
   ]
  },
  {
   "cell_type": "code",
   "execution_count": 73,
   "metadata": {},
   "outputs": [
    {
     "data": {
      "text/plain": [
       "2950"
      ]
     },
     "execution_count": 73,
     "metadata": {},
     "output_type": "execute_result"
    }
   ],
   "source": [
    "# 1.5x IQR\n",
    "q75, q25 = np.percentile(insta_likes, [75 ,25])\n",
    "iqr = q75 - q25\n",
    "mask = insta_likes > 1.5*iqr\n",
    "len(platform.get_group(\"Instagram Posts\")[mask]) # check total no. of outliers found"
   ]
  },
  {
   "cell_type": "markdown",
   "metadata": {},
   "source": [
    "#### YouTube Videos Likes Outliers"
   ]
  },
  {
   "cell_type": "code",
   "execution_count": 74,
   "metadata": {},
   "outputs": [
    {
     "data": {
      "text/plain": [
       "count      248.000000\n",
       "mean      1408.713710\n",
       "std       1441.581153\n",
       "min          0.000000\n",
       "25%        553.750000\n",
       "50%       1053.000000\n",
       "75%       1718.500000\n",
       "max      13913.000000\n",
       "Name: likes, dtype: float64"
      ]
     },
     "execution_count": 74,
     "metadata": {},
     "output_type": "execute_result"
    }
   ],
   "source": [
    "yt_vid_likes = platform.get_group(\"YouTube Videos\")[\"likes\"]\n",
    "yt_vid_likes.describe()"
   ]
  },
  {
   "cell_type": "code",
   "execution_count": 75,
   "metadata": {},
   "outputs": [
    {
     "data": {
      "text/plain": [
       "23"
      ]
     },
     "execution_count": 75,
     "metadata": {},
     "output_type": "execute_result"
    }
   ],
   "source": [
    "# 1 std away\n",
    "mask = yt_vid_likes > (yt_vid_likes.mean() + yt_vid_likes.std())\n",
    "len(platform.get_group(\"YouTube Videos\")[mask]) # check total no. of outliers found"
   ]
  },
  {
   "cell_type": "code",
   "execution_count": 76,
   "metadata": {},
   "outputs": [
    {
     "data": {
      "text/plain": [
       "3"
      ]
     },
     "execution_count": 76,
     "metadata": {},
     "output_type": "execute_result"
    }
   ],
   "source": [
    "# 3 std away\n",
    "mask = yt_vid_likes > (yt_vid_likes.mean() + (3*yt_vid_likes.std()))\n",
    "len(platform.get_group(\"YouTube Videos\")[mask]) # check total no. of outliers found"
   ]
  },
  {
   "cell_type": "code",
   "execution_count": 77,
   "metadata": {},
   "outputs": [
    {
     "data": {
      "text/plain": [
       "60"
      ]
     },
     "execution_count": 77,
     "metadata": {},
     "output_type": "execute_result"
    }
   ],
   "source": [
    "# 1.5x IQR\n",
    "q75, q25 = np.percentile(yt_vid_likes, [75 ,25])\n",
    "iqr = q75 - q25\n",
    "mask = yt_vid_likes > 1.5*iqr\n",
    "len(platform.get_group(\"YouTube Videos\")[mask]) # check total no. of outliers found"
   ]
  },
  {
   "cell_type": "markdown",
   "metadata": {},
   "source": [
    "#### YouTube Comments Likes Outliers"
   ]
  },
  {
   "cell_type": "code",
   "execution_count": 78,
   "metadata": {},
   "outputs": [
    {
     "data": {
      "text/plain": [
       "count    9735.000000\n",
       "mean       18.829070\n",
       "std        82.191663\n",
       "min         0.000000\n",
       "25%         0.000000\n",
       "50%         2.000000\n",
       "75%        11.000000\n",
       "max      4400.000000\n",
       "Name: likes, dtype: float64"
      ]
     },
     "execution_count": 78,
     "metadata": {},
     "output_type": "execute_result"
    }
   ],
   "source": [
    "yt_comm_likes = platform.get_group(\"YouTube Comments\")[\"likes\"]\n",
    "yt_comm_likes.describe()"
   ]
  },
  {
   "cell_type": "code",
   "execution_count": 79,
   "metadata": {},
   "outputs": [
    {
     "data": {
      "text/plain": [
       "362"
      ]
     },
     "execution_count": 79,
     "metadata": {},
     "output_type": "execute_result"
    }
   ],
   "source": [
    "# 1 std away\n",
    "mask = yt_comm_likes > (yt_comm_likes.mean() + yt_comm_likes.std())\n",
    "len(platform.get_group(\"YouTube Comments\")[mask]) # check total no. of outliers found"
   ]
  },
  {
   "cell_type": "code",
   "execution_count": 80,
   "metadata": {},
   "outputs": [
    {
     "data": {
      "text/plain": [
       "94"
      ]
     },
     "execution_count": 80,
     "metadata": {},
     "output_type": "execute_result"
    }
   ],
   "source": [
    "# 3 std away\n",
    "mask = yt_comm_likes > (yt_comm_likes.mean() + (3*yt_comm_likes.std()))\n",
    "len(platform.get_group(\"YouTube Comments\")[mask]) # check total no. of outliers found"
   ]
  },
  {
   "cell_type": "code",
   "execution_count": 82,
   "metadata": {},
   "outputs": [
    {
     "data": {
      "text/plain": [
       "1964"
      ]
     },
     "execution_count": 82,
     "metadata": {},
     "output_type": "execute_result"
    }
   ],
   "source": [
    "# 1.5x IQR\n",
    "q75, q25 = np.percentile(yt_comm_likes, [75 ,25])\n",
    "iqr = q75 - q25\n",
    "mask = yt_comm_likes > 1.5*iqr\n",
    "len(platform.get_group(\"YouTube Comments\")[mask]) # check total no. of outliers found"
   ]
  },
  {
   "cell_type": "markdown",
   "metadata": {},
   "source": [
    "#### Create Popular Target Variable"
   ]
  },
  {
   "cell_type": "code",
   "execution_count": null,
   "metadata": {},
   "outputs": [],
   "source": [
    "# since 1.5 times IQR is a more generous popularity threshold by yielding us the greatest number of popular data points\n",
    "# let's use that as our threshold for popularity"
   ]
  },
  {
   "cell_type": "code",
   "execution_count": 83,
   "metadata": {},
   "outputs": [
    {
     "data": {
      "text/html": [
       "<div>\n",
       "<style scoped>\n",
       "    .dataframe tbody tr th:only-of-type {\n",
       "        vertical-align: middle;\n",
       "    }\n",
       "\n",
       "    .dataframe tbody tr th {\n",
       "        vertical-align: top;\n",
       "    }\n",
       "\n",
       "    .dataframe thead th {\n",
       "        text-align: right;\n",
       "    }\n",
       "</style>\n",
       "<table border=\"1\" class=\"dataframe\">\n",
       "  <thead>\n",
       "    <tr style=\"text-align: right;\">\n",
       "      <th></th>\n",
       "      <th>content</th>\n",
       "      <th>likes</th>\n",
       "      <th>platform</th>\n",
       "    </tr>\n",
       "  </thead>\n",
       "  <tbody>\n",
       "    <tr>\n",
       "      <th>0</th>\n",
       "      <td>oh look natural heart shaped form ivan heng gl...</td>\n",
       "      <td>40</td>\n",
       "      <td>Instagram Posts</td>\n",
       "    </tr>\n",
       "    <tr>\n",
       "      <th>1</th>\n",
       "      <td>#exploresingapore #instasg #gfsingapore #gameo...</td>\n",
       "      <td>33</td>\n",
       "      <td>Instagram Posts</td>\n",
       "    </tr>\n",
       "    <tr>\n",
       "      <th>2</th>\n",
       "      <td>road hell reliving haw par villa 15 16 22 23 m...</td>\n",
       "      <td>3</td>\n",
       "      <td>Instagram Posts</td>\n",
       "    </tr>\n",
       "  </tbody>\n",
       "</table>\n",
       "</div>"
      ],
      "text/plain": [
       "                                             content  likes         platform\n",
       "0  oh look natural heart shaped form ivan heng gl...     40  Instagram Posts\n",
       "1  #exploresingapore #instasg #gfsingapore #gameo...     33  Instagram Posts\n",
       "2  road hell reliving haw par villa 15 16 22 23 m...      3  Instagram Posts"
      ]
     },
     "execution_count": 83,
     "metadata": {},
     "output_type": "execute_result"
    }
   ],
   "source": [
    "df_merged.head(3)"
   ]
  },
  {
   "cell_type": "code",
   "execution_count": 85,
   "metadata": {},
   "outputs": [],
   "source": [
    "# 1.5x IQR for insta likes\n",
    "q75, q25 = np.percentile(insta_likes, [75 ,25])\n",
    "iqr = q75 - q25\n",
    "mask = insta_likes > 1.5*iqr\n",
    "df_merged.loc[platform.get_group(\"Instagram Posts\")[mask].index, \"popular\"] = 1"
   ]
  },
  {
   "cell_type": "code",
   "execution_count": 86,
   "metadata": {},
   "outputs": [],
   "source": [
    "# 1.5x IQR for yt video likes\n",
    "q75, q25 = np.percentile(yt_vid_likes, [75 ,25])\n",
    "iqr = q75 - q25\n",
    "mask = yt_vid_likes > 1.5*iqr\n",
    "df_merged.loc[platform.get_group(\"YouTube Videos\")[mask].index, \"popular\"] = 1"
   ]
  },
  {
   "cell_type": "code",
   "execution_count": 87,
   "metadata": {},
   "outputs": [],
   "source": [
    "# 1.5x IQR for yt comment likes\n",
    "q75, q25 = np.percentile(yt_comm_likes, [75 ,25])\n",
    "iqr = q75 - q25\n",
    "mask = yt_comm_likes > 1.5*iqr\n",
    "df_merged.loc[platform.get_group(\"YouTube Comments\")[mask].index, \"popular\"] = 1"
   ]
  },
  {
   "cell_type": "code",
   "execution_count": 88,
   "metadata": {},
   "outputs": [],
   "source": [
    "df_merged[\"popular\"].fillna(0, inplace=True) # fill with 0 for data points that are not popular"
   ]
  },
  {
   "cell_type": "code",
   "execution_count": 89,
   "metadata": {},
   "outputs": [
    {
     "data": {
      "text/html": [
       "<div>\n",
       "<style scoped>\n",
       "    .dataframe tbody tr th:only-of-type {\n",
       "        vertical-align: middle;\n",
       "    }\n",
       "\n",
       "    .dataframe tbody tr th {\n",
       "        vertical-align: top;\n",
       "    }\n",
       "\n",
       "    .dataframe thead th {\n",
       "        text-align: right;\n",
       "    }\n",
       "</style>\n",
       "<table border=\"1\" class=\"dataframe\">\n",
       "  <thead>\n",
       "    <tr style=\"text-align: right;\">\n",
       "      <th></th>\n",
       "      <th>content</th>\n",
       "      <th>likes</th>\n",
       "      <th>platform</th>\n",
       "      <th>popular</th>\n",
       "    </tr>\n",
       "  </thead>\n",
       "  <tbody>\n",
       "    <tr>\n",
       "      <th>0</th>\n",
       "      <td>oh look natural heart shaped form ivan heng gl...</td>\n",
       "      <td>40</td>\n",
       "      <td>Instagram Posts</td>\n",
       "      <td>0.0</td>\n",
       "    </tr>\n",
       "    <tr>\n",
       "      <th>1</th>\n",
       "      <td>#exploresingapore #instasg #gfsingapore #gameo...</td>\n",
       "      <td>33</td>\n",
       "      <td>Instagram Posts</td>\n",
       "      <td>0.0</td>\n",
       "    </tr>\n",
       "    <tr>\n",
       "      <th>2</th>\n",
       "      <td>road hell reliving haw par villa 15 16 22 23 m...</td>\n",
       "      <td>3</td>\n",
       "      <td>Instagram Posts</td>\n",
       "      <td>0.0</td>\n",
       "    </tr>\n",
       "  </tbody>\n",
       "</table>\n",
       "</div>"
      ],
      "text/plain": [
       "                                             content  likes         platform  \\\n",
       "0  oh look natural heart shaped form ivan heng gl...     40  Instagram Posts   \n",
       "1  #exploresingapore #instasg #gfsingapore #gameo...     33  Instagram Posts   \n",
       "2  road hell reliving haw par villa 15 16 22 23 m...      3  Instagram Posts   \n",
       "\n",
       "   popular  \n",
       "0      0.0  \n",
       "1      0.0  \n",
       "2      0.0  "
      ]
     },
     "execution_count": 89,
     "metadata": {},
     "output_type": "execute_result"
    }
   ],
   "source": [
    "df_merged.head(3) # verify col is added"
   ]
  },
  {
   "cell_type": "code",
   "execution_count": 90,
   "metadata": {
    "scrolled": true
   },
   "outputs": [
    {
     "data": {
      "text/plain": [
       "0.0    0.794267\n",
       "1.0    0.205733\n",
       "Name: popular, dtype: float64"
      ]
     },
     "execution_count": 90,
     "metadata": {},
     "output_type": "execute_result"
    }
   ],
   "source": [
    "df_merged[\"popular\"].value_counts(normalize=True) # a little imbalanced but it could have been worse"
   ]
  },
  {
   "cell_type": "code",
   "execution_count": null,
   "metadata": {},
   "outputs": [],
   "source": [
    "# therefore, we have about 20.6% of data points that are popular\n",
    "# giving us a baseline classification accuracy of 20.6%"
   ]
  },
  {
   "cell_type": "markdown",
   "metadata": {},
   "source": [
    "#### Simple Logistic Regression Model"
   ]
  },
  {
   "cell_type": "code",
   "execution_count": 104,
   "metadata": {},
   "outputs": [
    {
     "name": "stdout",
     "output_type": "stream",
     "text": [
      "Training set size: 12088\n",
      "Unseen test set size: 12089\n"
     ]
    }
   ],
   "source": [
    "# split into training and unseen test data\n",
    "X = df_merged[[\"content\", \"platform\"]]\n",
    "y = df_merged[\"popular\"]\n",
    "\n",
    "X_train, X_unseen, y_train, y_unseen = train_test_split(X, y, test_size=0.5, stratify=y, random_state=42)\n",
    "print(\"Training set size:\", len(X_train))\n",
    "print(\"Unseen test set size:\", len(X_unseen))"
   ]
  },
  {
   "cell_type": "code",
   "execution_count": 105,
   "metadata": {},
   "outputs": [
    {
     "name": "stdout",
     "output_type": "stream",
     "text": [
      "Shape of training sparse matrix: (12088, 2500)\n",
      "Shape of test sparse matrix: (12089, 2500)\n"
     ]
    }
   ],
   "source": [
    "# TfidfVectorizer\n",
    "tvec = TfidfVectorizer(stop_words=\"english\", max_features=2500) # model takes too long to train, limit max features to 2500\n",
    "X_train_tvec = tvec.fit_transform(X_train[\"content\"])\n",
    "print(\"Shape of training sparse matrix:\", X_train_tvec.shape)\n",
    "X_unseen_tvec = tvec.transform(X_unseen[\"content\"])\n",
    "print(\"Shape of test sparse matrix:\", X_unseen_tvec.shape)"
   ]
  },
  {
   "cell_type": "code",
   "execution_count": 106,
   "metadata": {},
   "outputs": [
    {
     "name": "stdout",
     "output_type": "stream",
     "text": [
      "Shape of training Tfidf-Vectorizer: (12088, 2503)\n",
      "Shape of test Tfidf-Vectorizer: (12089, 2503)\n"
     ]
    }
   ],
   "source": [
    "# get dummies for each platform\n",
    "train_platforms = pd.get_dummies(X_train[\"platform\"]).values\n",
    "unseen_platforms = pd.get_dummies(X_unseen[\"platform\"]).values\n",
    "\n",
    "# add 3 cols of dummies data to tvec\n",
    "X_train_tvec_dumm = hstack([X_train_tvec, train_platforms]).toarray()\n",
    "X_unseen_tvec_dumm = hstack([X_unseen_tvec, unseen_platforms]).toarray()\n",
    "print(\"Shape of training Tfidf-Vectorizer:\", X_train_tvec_dumm.shape)\n",
    "print(\"Shape of test Tfidf-Vectorizer:\", X_unseen_tvec_dumm.shape)"
   ]
  },
  {
   "cell_type": "code",
   "execution_count": 107,
   "metadata": {},
   "outputs": [],
   "source": [
    "from sklearn.linear_model import LogisticRegression"
   ]
  },
  {
   "cell_type": "code",
   "execution_count": 110,
   "metadata": {},
   "outputs": [
    {
     "name": "stdout",
     "output_type": "stream",
     "text": [
      "Wall time: 1.45 s\n"
     ]
    },
    {
     "data": {
      "text/plain": [
       "0.8277630708140304"
      ]
     },
     "execution_count": 110,
     "metadata": {},
     "output_type": "execute_result"
    }
   ],
   "source": [
    "%%time\n",
    "np.random.seed(42)\n",
    "lr = LogisticRegression(penalty=\"l2\", solver=\"liblinear\", C=1) # ridge regularisation\n",
    "cross_val_score(estimator=lr, X=X_train_tvec_dumm, y=y_train, cv=4).mean()"
   ]
  },
  {
   "cell_type": "code",
   "execution_count": 111,
   "metadata": {},
   "outputs": [
    {
     "name": "stdout",
     "output_type": "stream",
     "text": [
      "Wall time: 1.94 s\n"
     ]
    },
    {
     "data": {
      "text/plain": [
       "0.8256949040370616"
      ]
     },
     "execution_count": 111,
     "metadata": {},
     "output_type": "execute_result"
    }
   ],
   "source": [
    "%%time\n",
    "np.random.seed(42)\n",
    "lr = LogisticRegression(penalty=\"l1\", solver=\"liblinear\", C=1) # lasso regularisation\n",
    "cross_val_score(estimator=lr, X=X_train_tvec_dumm, y=y_train, cv=4).mean()"
   ]
  },
  {
   "cell_type": "code",
   "execution_count": null,
   "metadata": {},
   "outputs": [],
   "source": [
    "# score is pretty similar for both ridge and lasso regularisation\n",
    "# model performs very well with the best accuracy score of 0.828 using ridge regularisation\n",
    "# perhaps this is to be expected because of the unequal dataset\n",
    "# but it is still about a 3% better accuracy than if the model were to predict all data points as unpopular\n",
    "\n",
    "# if we were to proceed with classification\n",
    "### bootstrapping and other methods of dealing with unequal classes need to be considered"
   ]
  },
  {
   "cell_type": "markdown",
   "metadata": {},
   "source": [
    "The score is pretty similar for both ridge and lasso regularisation. The Logistic Regression model performs very well with the best accuracy score of 0.828 using ridge regularisation. Perhaps the score is this good because our popularity classes are imbalanced, but our model is still shows great promise with close to 12% better accuracy than if the model were to predict all data points as unpopular.\n",
    "\n",
    "If we were to proceed with classification, other techniques such as undersampling or oversampling to deal with imbalanced classes can be considered. For now, this is a good test to have conducted and something we may have to come back to."
   ]
  },
  {
   "cell_type": "code",
   "execution_count": null,
   "metadata": {},
   "outputs": [],
   "source": []
  },
  {
   "cell_type": "code",
   "execution_count": null,
   "metadata": {},
   "outputs": [],
   "source": []
  }
 ],
 "metadata": {
  "kernelspec": {
   "display_name": "Python 3",
   "language": "python",
   "name": "python3"
  },
  "language_info": {
   "codemirror_mode": {
    "name": "ipython",
    "version": 3
   },
   "file_extension": ".py",
   "mimetype": "text/x-python",
   "name": "python",
   "nbconvert_exporter": "python",
   "pygments_lexer": "ipython3",
   "version": "3.8.3"
  }
 },
 "nbformat": 4,
 "nbformat_minor": 4
}
