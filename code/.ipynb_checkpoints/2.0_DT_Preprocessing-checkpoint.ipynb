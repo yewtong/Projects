{
 "cells": [
  {
   "cell_type": "markdown",
   "metadata": {},
   "source": [
    "# Tourists at Home"
   ]
  },
  {
   "cell_type": "markdown",
   "metadata": {},
   "source": [
    "### Executive Summary\n",
    "\n",
    "This project aims to understand the local perception of Domestic Tourism and to provide further insights for STB to plan its next phase of the #SingapoRediscovers campaign. By targetting Singaporeans more effectively, we aim to build up a sustainable economy of domestic tourism based on renewed and sustained interest in their own home country, which should serve our tourism industry well both during and after Covid-19.\n",
    "\n",
    "This notebook imports the DataFrames we have compiled from our Scrape notebook 1.0 for cleaning and subsequent merging so we can perform our EDA in the next notebook. Between cleaning and merging, we also perform features engineering as well as imputation for missing data in this notebook. Notable features engineered here include meta-features such as parsing the datetime column correctly and generating topic tags. For imputation, the strategy is always to deduce where possible and infer otherwise, before considering dropping the incomplete data points if they are only a small subset of our dataset."
   ]
  },
  {
   "cell_type": "markdown",
   "metadata": {},
   "source": [
    "#### Content\n",
    "\n",
    "- [Instagram](#Instagram)\n",
    "- [YouTube Videos](#YouTube-Videos)\n",
    "- [YouTube Comments](#YouTube-Comments)\n",
    "\n",
    "#### Python Libraries"
   ]
  },
  {
   "cell_type": "code",
   "execution_count": 1,
   "metadata": {},
   "outputs": [],
   "source": [
    "import pandas as pd\n",
    "import numpy as np\n",
    "\n",
    "from nltk.corpus import stopwords\n",
    "import string\n",
    "import re"
   ]
  },
  {
   "cell_type": "markdown",
   "metadata": {},
   "source": [
    "### Instagram"
   ]
  },
  {
   "cell_type": "markdown",
   "metadata": {},
   "source": [
    "#### Import Scrapes"
   ]
  },
  {
   "cell_type": "code",
   "execution_count": 2,
   "metadata": {},
   "outputs": [
    {
     "data": {
      "text/plain": [
       "(2352, 18)"
      ]
     },
     "execution_count": 2,
     "metadata": {},
     "output_type": "execute_result"
    }
   ],
   "source": [
    "df_insta_rediscoversg = pd.read_csv(\"../datasets/df_insta_rediscoversg_2020-10-18.csv\", parse_dates=[\"date_time\"])\n",
    "df_insta_rediscoversg.shape"
   ]
  },
  {
   "cell_type": "code",
   "execution_count": 3,
   "metadata": {},
   "outputs": [
    {
     "data": {
      "text/plain": [
       "2352"
      ]
     },
     "execution_count": 3,
     "metadata": {},
     "output_type": "execute_result"
    }
   ],
   "source": [
    "# ensure that there are no duplicate scrapes within df\n",
    "df_insta_rediscoversg[\"post_id\"].nunique()"
   ]
  },
  {
   "cell_type": "code",
   "execution_count": 4,
   "metadata": {},
   "outputs": [
    {
     "data": {
      "text/plain": [
       "(1226, 18)"
      ]
     },
     "execution_count": 4,
     "metadata": {},
     "output_type": "execute_result"
    }
   ],
   "source": [
    "df_insta_rediscoversingapore = pd.read_csv(\"../datasets/df_insta_rediscoversingapore_2020-10-19.csv\", parse_dates=[\"date_time\"])\n",
    "df_insta_rediscoversingapore.shape"
   ]
  },
  {
   "cell_type": "code",
   "execution_count": 5,
   "metadata": {},
   "outputs": [
    {
     "data": {
      "text/plain": [
       "1226"
      ]
     },
     "execution_count": 5,
     "metadata": {},
     "output_type": "execute_result"
    }
   ],
   "source": [
    "# ensure that there are no duplicate scrapes within df\n",
    "df_insta_rediscoversingapore[\"post_id\"].nunique()"
   ]
  },
  {
   "cell_type": "code",
   "execution_count": 6,
   "metadata": {},
   "outputs": [
    {
     "data": {
      "text/plain": [
       "(1445, 18)"
      ]
     },
     "execution_count": 6,
     "metadata": {},
     "output_type": "execute_result"
    }
   ],
   "source": [
    "df_insta_singapoliday = pd.read_csv(\"../datasets/df_insta_singapoliday_2020-10-19.csv\", parse_dates=[\"date_time\"])\n",
    "df_insta_singapoliday.shape"
   ]
  },
  {
   "cell_type": "code",
   "execution_count": 7,
   "metadata": {},
   "outputs": [
    {
     "data": {
      "text/plain": [
       "1445"
      ]
     },
     "execution_count": 7,
     "metadata": {},
     "output_type": "execute_result"
    }
   ],
   "source": [
    "# ensure that there are no duplicate scrapes within df\n",
    "df_insta_singapoliday[\"post_id\"].nunique()"
   ]
  },
  {
   "cell_type": "code",
   "execution_count": 8,
   "metadata": {},
   "outputs": [
    {
     "data": {
      "text/plain": [
       "(400, 18)"
      ]
     },
     "execution_count": 8,
     "metadata": {},
     "output_type": "execute_result"
    }
   ],
   "source": [
    "df_insta_singaporeliday = pd.read_csv(\"../datasets/df_insta_singaporeliday_2020-10-19.csv\", parse_dates=[\"date_time\"])\n",
    "df_insta_singaporeliday.shape"
   ]
  },
  {
   "cell_type": "code",
   "execution_count": 9,
   "metadata": {},
   "outputs": [
    {
     "data": {
      "text/plain": [
       "400"
      ]
     },
     "execution_count": 9,
     "metadata": {},
     "output_type": "execute_result"
    }
   ],
   "source": [
    "# ensure that there are no duplicate scrapes within df\n",
    "df_insta_singaporeliday[\"post_id\"].nunique()"
   ]
  },
  {
   "cell_type": "code",
   "execution_count": 10,
   "metadata": {},
   "outputs": [
    {
     "data": {
      "text/plain": [
       "(4600, 18)"
      ]
     },
     "execution_count": 10,
     "metadata": {},
     "output_type": "execute_result"
    }
   ],
   "source": [
    "df_insta_madaboutsingapore2020 = pd.read_csv(\"../datasets/df_insta_madaboutsingapore2020_2020-10-20.csv\", parse_dates=[\"date_time\"])\n",
    "df_insta_madaboutsingapore2020.shape"
   ]
  },
  {
   "cell_type": "code",
   "execution_count": 11,
   "metadata": {},
   "outputs": [
    {
     "data": {
      "text/plain": [
       "4600"
      ]
     },
     "execution_count": 11,
     "metadata": {},
     "output_type": "execute_result"
    }
   ],
   "source": [
    "# ensure that there are no duplicate scrapes within df\n",
    "df_insta_madaboutsingapore2020[\"post_id\"].nunique()"
   ]
  },
  {
   "cell_type": "code",
   "execution_count": 12,
   "metadata": {},
   "outputs": [
    {
     "data": {
      "text/plain": [
       "(1250, 18)"
      ]
     },
     "execution_count": 12,
     "metadata": {},
     "output_type": "execute_result"
    }
   ],
   "source": [
    "df_insta_madaboutsingapore2020c = pd.read_csv(\"../datasets/df_insta_madaboutsingapore2020c_2020-10-20.csv\", parse_dates=[\"date_time\"])\n",
    "df_insta_madaboutsingapore2020c.shape"
   ]
  },
  {
   "cell_type": "code",
   "execution_count": 13,
   "metadata": {},
   "outputs": [
    {
     "data": {
      "text/plain": [
       "1250"
      ]
     },
     "execution_count": 13,
     "metadata": {},
     "output_type": "execute_result"
    }
   ],
   "source": [
    "# ensure that there are no duplicate scrapes within df\n",
    "df_insta_madaboutsingapore2020c[\"post_id\"].nunique()"
   ]
  },
  {
   "cell_type": "markdown",
   "metadata": {},
   "source": [
    "We have multiple CSVs saved out from scraping #SingapoRediscovers with expected duplicates. Since it is our official hashtag, there is greater effort to scrape more current posts and in batches."
   ]
  },
  {
   "cell_type": "code",
   "execution_count": 15,
   "metadata": {},
   "outputs": [
    {
     "data": {
      "text/plain": [
       "(3104, 18)"
      ]
     },
     "execution_count": 15,
     "metadata": {},
     "output_type": "execute_result"
    }
   ],
   "source": [
    "df_insta_singaporediscovers_1 = pd.read_csv(\"../datasets/df_insta_singaporediscovers_2020-10-12.csv\", parse_dates=[\"date_time\"])\n",
    "df_insta_singaporediscovers_1.shape"
   ]
  },
  {
   "cell_type": "code",
   "execution_count": 16,
   "metadata": {},
   "outputs": [
    {
     "data": {
      "text/plain": [
       "3104"
      ]
     },
     "execution_count": 16,
     "metadata": {},
     "output_type": "execute_result"
    }
   ],
   "source": [
    "# ensure that there are no duplicate scrapes within df\n",
    "df_insta_singaporediscovers_1[\"post_id\"].nunique()"
   ]
  },
  {
   "cell_type": "code",
   "execution_count": 17,
   "metadata": {},
   "outputs": [
    {
     "data": {
      "text/plain": [
       "(1981, 18)"
      ]
     },
     "execution_count": 17,
     "metadata": {},
     "output_type": "execute_result"
    }
   ],
   "source": [
    "df_insta_singaporediscovers_2 = pd.read_csv(\"../datasets/df_insta_singaporediscovers_2020-10-20.csv\", parse_dates=[\"date_time\"])\n",
    "df_insta_singaporediscovers_2.shape"
   ]
  },
  {
   "cell_type": "code",
   "execution_count": 18,
   "metadata": {},
   "outputs": [
    {
     "data": {
      "text/plain": [
       "1981"
      ]
     },
     "execution_count": 18,
     "metadata": {},
     "output_type": "execute_result"
    }
   ],
   "source": [
    "# ensure that there are no duplicate scrapes within df\n",
    "df_insta_singaporediscovers_2[\"post_id\"].nunique()"
   ]
  },
  {
   "cell_type": "code",
   "execution_count": 19,
   "metadata": {},
   "outputs": [
    {
     "data": {
      "text/plain": [
       "(1787, 18)"
      ]
     },
     "execution_count": 19,
     "metadata": {},
     "output_type": "execute_result"
    }
   ],
   "source": [
    "df_insta_singaporediscovers_3 = pd.read_csv(\"../datasets/df_insta_singaporediscovers_2020-10-21.csv\", parse_dates=[\"date_time\"])\n",
    "df_insta_singaporediscovers_3.shape"
   ]
  },
  {
   "cell_type": "code",
   "execution_count": 20,
   "metadata": {},
   "outputs": [
    {
     "data": {
      "text/plain": [
       "1787"
      ]
     },
     "execution_count": 20,
     "metadata": {},
     "output_type": "execute_result"
    }
   ],
   "source": [
    "# ensure that there are no duplicate scrapes within df\n",
    "df_insta_singaporediscovers_3[\"post_id\"].nunique()"
   ]
  },
  {
   "cell_type": "code",
   "execution_count": 21,
   "metadata": {},
   "outputs": [
    {
     "data": {
      "text/plain": [
       "(4199, 18)"
      ]
     },
     "execution_count": 21,
     "metadata": {},
     "output_type": "execute_result"
    }
   ],
   "source": [
    "df_insta_singaporediscovers_4 = pd.read_csv(\"../datasets/df_insta_singaporediscovers_2020-10-22.csv\", parse_dates=[\"date_time\"])\n",
    "df_insta_singaporediscovers_4.shape"
   ]
  },
  {
   "cell_type": "code",
   "execution_count": 22,
   "metadata": {},
   "outputs": [
    {
     "data": {
      "text/plain": [
       "4199"
      ]
     },
     "execution_count": 22,
     "metadata": {},
     "output_type": "execute_result"
    }
   ],
   "source": [
    "# ensure that there are no duplicate scrapes within df\n",
    "df_insta_singaporediscovers_4[\"post_id\"].nunique()"
   ]
  },
  {
   "cell_type": "markdown",
   "metadata": {},
   "source": [
    "#### Merge DataFrames"
   ]
  },
  {
   "cell_type": "code",
   "execution_count": 23,
   "metadata": {},
   "outputs": [],
   "source": [
    "def compile_unique_insta(df1, df2):\n",
    "    \n",
    "    # find duplicate posts that share target hashtags\n",
    "    post_id_intersects = set(df1[\"post_id\"]).intersection(set(df2[\"post_id\"]))\n",
    "    print(\"Duplicate posts removed:\", len(post_id_intersects))\n",
    "    \n",
    "    # use df1 as master copy to add to\n",
    "    # drop duplicates from df2\n",
    "    # concat as single df without duplicates\n",
    "    dups = df2[\"post_id\"].isin(post_id_intersects)\n",
    "    df_concat = pd.concat([df1, df2[~dups]])\n",
    "    \n",
    "    return df_concat"
   ]
  },
  {
   "cell_type": "code",
   "execution_count": 24,
   "metadata": {},
   "outputs": [
    {
     "name": "stdout",
     "output_type": "stream",
     "text": [
      "Duplicate posts removed: 93\n"
     ]
    },
    {
     "data": {
      "text/plain": [
       "(3485, 18)"
      ]
     },
     "execution_count": 24,
     "metadata": {},
     "output_type": "execute_result"
    }
   ],
   "source": [
    "# remove duplicate posts with shared target hashtags\n",
    "df_insta = compile_unique_insta(df_insta_rediscoversg, df_insta_rediscoversingapore)\n",
    "df_insta.shape"
   ]
  },
  {
   "cell_type": "code",
   "execution_count": 25,
   "metadata": {},
   "outputs": [
    {
     "name": "stdout",
     "output_type": "stream",
     "text": [
      "Duplicate posts removed: 159\n"
     ]
    },
    {
     "data": {
      "text/plain": [
       "(4771, 18)"
      ]
     },
     "execution_count": 25,
     "metadata": {},
     "output_type": "execute_result"
    }
   ],
   "source": [
    "# remove duplicate posts with shared target hashtags\n",
    "df_insta = compile_unique_insta(df_insta, df_insta_singapoliday)\n",
    "df_insta.shape"
   ]
  },
  {
   "cell_type": "code",
   "execution_count": 26,
   "metadata": {},
   "outputs": [
    {
     "name": "stdout",
     "output_type": "stream",
     "text": [
      "Duplicate posts removed: 5\n"
     ]
    },
    {
     "data": {
      "text/plain": [
       "(5166, 18)"
      ]
     },
     "execution_count": 26,
     "metadata": {},
     "output_type": "execute_result"
    }
   ],
   "source": [
    "# remove duplicate posts with shared target hashtags\n",
    "df_insta = compile_unique_insta(df_insta, df_insta_singaporeliday)\n",
    "df_insta.shape"
   ]
  },
  {
   "cell_type": "code",
   "execution_count": 27,
   "metadata": {},
   "outputs": [
    {
     "name": "stdout",
     "output_type": "stream",
     "text": [
      "Duplicate posts removed: 19\n"
     ]
    },
    {
     "data": {
      "text/plain": [
       "(9747, 18)"
      ]
     },
     "execution_count": 27,
     "metadata": {},
     "output_type": "execute_result"
    }
   ],
   "source": [
    "# remove duplicate posts with shared target hashtags\n",
    "df_insta = compile_unique_insta(df_insta, df_insta_madaboutsingapore2020)\n",
    "df_insta.shape"
   ]
  },
  {
   "cell_type": "code",
   "execution_count": 28,
   "metadata": {},
   "outputs": [
    {
     "name": "stdout",
     "output_type": "stream",
     "text": [
      "Duplicate posts removed: 149\n"
     ]
    },
    {
     "data": {
      "text/plain": [
       "(10848, 18)"
      ]
     },
     "execution_count": 28,
     "metadata": {},
     "output_type": "execute_result"
    }
   ],
   "source": [
    "# remove duplicate posts with shared target hashtags\n",
    "df_insta = compile_unique_insta(df_insta, df_insta_madaboutsingapore2020c)\n",
    "df_insta.shape"
   ]
  },
  {
   "cell_type": "code",
   "execution_count": 29,
   "metadata": {},
   "outputs": [
    {
     "name": "stdout",
     "output_type": "stream",
     "text": [
      "Duplicate posts removed: 414\n"
     ]
    },
    {
     "data": {
      "text/plain": [
       "(13538, 18)"
      ]
     },
     "execution_count": 29,
     "metadata": {},
     "output_type": "execute_result"
    }
   ],
   "source": [
    "# remove duplicate posts with shared target hashtags\n",
    "df_insta = compile_unique_insta(df_insta, df_insta_singaporediscovers_1)\n",
    "df_insta.shape"
   ]
  },
  {
   "cell_type": "code",
   "execution_count": 30,
   "metadata": {},
   "outputs": [
    {
     "name": "stdout",
     "output_type": "stream",
     "text": [
      "Duplicate posts removed: 1248\n"
     ]
    },
    {
     "data": {
      "text/plain": [
       "(14271, 18)"
      ]
     },
     "execution_count": 30,
     "metadata": {},
     "output_type": "execute_result"
    }
   ],
   "source": [
    "# remove duplicate posts with shared target hashtags\n",
    "df_insta = compile_unique_insta(df_insta, df_insta_singaporediscovers_2)\n",
    "df_insta.shape"
   ]
  },
  {
   "cell_type": "code",
   "execution_count": 31,
   "metadata": {},
   "outputs": [
    {
     "name": "stdout",
     "output_type": "stream",
     "text": [
      "Duplicate posts removed: 1697\n"
     ]
    },
    {
     "data": {
      "text/plain": [
       "(14361, 18)"
      ]
     },
     "execution_count": 31,
     "metadata": {},
     "output_type": "execute_result"
    }
   ],
   "source": [
    "# remove duplicate posts with shared target hashtags\n",
    "df_insta = compile_unique_insta(df_insta, df_insta_singaporediscovers_3)\n",
    "df_insta.shape"
   ]
  },
  {
   "cell_type": "code",
   "execution_count": 32,
   "metadata": {},
   "outputs": [
    {
     "name": "stdout",
     "output_type": "stream",
     "text": [
      "Duplicate posts removed: 4024\n"
     ]
    },
    {
     "data": {
      "text/plain": [
       "(14536, 18)"
      ]
     },
     "execution_count": 32,
     "metadata": {},
     "output_type": "execute_result"
    }
   ],
   "source": [
    "# remove duplicate posts with shared target hashtags\n",
    "df_insta = compile_unique_insta(df_insta, df_insta_singaporediscovers_4)\n",
    "df_insta.shape"
   ]
  },
  {
   "cell_type": "code",
   "execution_count": 33,
   "metadata": {},
   "outputs": [],
   "source": [
    "# reset index for final df\n",
    "df_insta.reset_index(drop=True, inplace=True)"
   ]
  },
  {
   "cell_type": "markdown",
   "metadata": {},
   "source": [
    "#### Data Overview"
   ]
  },
  {
   "cell_type": "code",
   "execution_count": 34,
   "metadata": {
    "scrolled": true
   },
   "outputs": [
    {
     "data": {
      "text/html": [
       "<div>\n",
       "<style scoped>\n",
       "    .dataframe tbody tr th:only-of-type {\n",
       "        vertical-align: middle;\n",
       "    }\n",
       "\n",
       "    .dataframe tbody tr th {\n",
       "        vertical-align: top;\n",
       "    }\n",
       "\n",
       "    .dataframe thead th {\n",
       "        text-align: right;\n",
       "    }\n",
       "</style>\n",
       "<table border=\"1\" class=\"dataframe\">\n",
       "  <thead>\n",
       "    <tr style=\"text-align: right;\">\n",
       "      <th></th>\n",
       "      <th>post_id</th>\n",
       "      <th>post_slug</th>\n",
       "      <th>unix_time</th>\n",
       "      <th>date_time</th>\n",
       "      <th>post_caption</th>\n",
       "      <th>hashtags</th>\n",
       "      <th>topic_tags</th>\n",
       "      <th>is_video</th>\n",
       "      <th>is_ad</th>\n",
       "      <th>post_likes</th>\n",
       "      <th>geo_tag</th>\n",
       "      <th>geo_slug</th>\n",
       "      <th>owner_id</th>\n",
       "      <th>owner_verified</th>\n",
       "      <th>owner_privacy</th>\n",
       "      <th>owner_unpublished</th>\n",
       "      <th>owner_total_posts</th>\n",
       "      <th>owner_total_followers</th>\n",
       "    </tr>\n",
       "  </thead>\n",
       "  <tbody>\n",
       "    <tr>\n",
       "      <th>0</th>\n",
       "      <td>1006641971264095607</td>\n",
       "      <td>34T4oZMgV3</td>\n",
       "      <td>1434221095</td>\n",
       "      <td>2015-06-13 18:44:55</td>\n",
       "      <td>Oh look! Natural heart shaped form of Ivan Hen...</td>\n",
       "      <td>['#PinkDotSg', '#WhereLovesLiveSg', '#Rediscov...</td>\n",
       "      <td>['2 people.']</td>\n",
       "      <td>False</td>\n",
       "      <td>False</td>\n",
       "      <td>40</td>\n",
       "      <td>Pinkdot @ Hong Lim Park</td>\n",
       "      <td>pinkdot-hong-lim-park</td>\n",
       "      <td>196778200</td>\n",
       "      <td>False</td>\n",
       "      <td>False</td>\n",
       "      <td>False</td>\n",
       "      <td>5205</td>\n",
       "      <td>1232</td>\n",
       "    </tr>\n",
       "    <tr>\n",
       "      <th>1</th>\n",
       "      <td>1202880298563729182</td>\n",
       "      <td>BCxfUInNPce</td>\n",
       "      <td>1457614527</td>\n",
       "      <td>2016-03-10 12:55:27</td>\n",
       "      <td>.\\n.\\n.\\n.\\n.\\n.\\n#exploresingapore #instasg #...</td>\n",
       "      <td>['#exploresingapore', '#instasg', '#gf_singapo...</td>\n",
       "      <td>['indoor.']</td>\n",
       "      <td>False</td>\n",
       "      <td>False</td>\n",
       "      <td>33</td>\n",
       "      <td>Yangtze Cinema</td>\n",
       "      <td>yangtze-cinema</td>\n",
       "      <td>33123388</td>\n",
       "      <td>False</td>\n",
       "      <td>False</td>\n",
       "      <td>False</td>\n",
       "      <td>742</td>\n",
       "      <td>995</td>\n",
       "    </tr>\n",
       "    <tr>\n",
       "      <th>2</th>\n",
       "      <td>677102977071319026</td>\n",
       "      <td>lljZH4sgfy</td>\n",
       "      <td>1394936986</td>\n",
       "      <td>2014-03-16 02:29:46</td>\n",
       "      <td>On the road to hell..... Reliving Haw Par Vill...</td>\n",
       "      <td>['#rediscoversg', '#Singapore']</td>\n",
       "      <td>['Photo by Belinda Tan in 虎豹别墅.']</td>\n",
       "      <td>False</td>\n",
       "      <td>False</td>\n",
       "      <td>3</td>\n",
       "      <td>虎豹别墅</td>\n",
       "      <td>NaN</td>\n",
       "      <td>196778200</td>\n",
       "      <td>False</td>\n",
       "      <td>False</td>\n",
       "      <td>False</td>\n",
       "      <td>5205</td>\n",
       "      <td>1232</td>\n",
       "    </tr>\n",
       "  </tbody>\n",
       "</table>\n",
       "</div>"
      ],
      "text/plain": [
       "               post_id    post_slug   unix_time           date_time  \\\n",
       "0  1006641971264095607   34T4oZMgV3  1434221095 2015-06-13 18:44:55   \n",
       "1  1202880298563729182  BCxfUInNPce  1457614527 2016-03-10 12:55:27   \n",
       "2   677102977071319026   lljZH4sgfy  1394936986 2014-03-16 02:29:46   \n",
       "\n",
       "                                        post_caption  \\\n",
       "0  Oh look! Natural heart shaped form of Ivan Hen...   \n",
       "1  .\\n.\\n.\\n.\\n.\\n.\\n#exploresingapore #instasg #...   \n",
       "2  On the road to hell..... Reliving Haw Par Vill...   \n",
       "\n",
       "                                            hashtags  \\\n",
       "0  ['#PinkDotSg', '#WhereLovesLiveSg', '#Rediscov...   \n",
       "1  ['#exploresingapore', '#instasg', '#gf_singapo...   \n",
       "2                    ['#rediscoversg', '#Singapore']   \n",
       "\n",
       "                          topic_tags  is_video  is_ad  post_likes  \\\n",
       "0                      ['2 people.']     False  False          40   \n",
       "1                        ['indoor.']     False  False          33   \n",
       "2  ['Photo by Belinda Tan in 虎豹别墅.']     False  False           3   \n",
       "\n",
       "                   geo_tag               geo_slug   owner_id  owner_verified  \\\n",
       "0  Pinkdot @ Hong Lim Park  pinkdot-hong-lim-park  196778200           False   \n",
       "1           Yangtze Cinema         yangtze-cinema   33123388           False   \n",
       "2                     虎豹别墅                    NaN  196778200           False   \n",
       "\n",
       "   owner_privacy  owner_unpublished  owner_total_posts  owner_total_followers  \n",
       "0          False              False               5205                   1232  \n",
       "1          False              False                742                    995  \n",
       "2          False              False               5205                   1232  "
      ]
     },
     "execution_count": 34,
     "metadata": {},
     "output_type": "execute_result"
    }
   ],
   "source": [
    "df_insta.head(3)"
   ]
  },
  {
   "cell_type": "code",
   "execution_count": 35,
   "metadata": {},
   "outputs": [
    {
     "data": {
      "text/plain": [
       "False    14536\n",
       "dtype: int64"
      ]
     },
     "execution_count": 35,
     "metadata": {},
     "output_type": "execute_result"
    }
   ],
   "source": [
    "# check that there are no duplicate scrapes\n",
    "df_insta.duplicated(keep=\"first\").value_counts()"
   ]
  },
  {
   "cell_type": "code",
   "execution_count": 36,
   "metadata": {},
   "outputs": [
    {
     "name": "stdout",
     "output_type": "stream",
     "text": [
      "<class 'pandas.core.frame.DataFrame'>\n",
      "RangeIndex: 14536 entries, 0 to 14535\n",
      "Data columns (total 18 columns):\n",
      " #   Column                 Non-Null Count  Dtype         \n",
      "---  ------                 --------------  -----         \n",
      " 0   post_id                14536 non-null  int64         \n",
      " 1   post_slug              14536 non-null  object        \n",
      " 2   unix_time              14536 non-null  int64         \n",
      " 3   date_time              14536 non-null  datetime64[ns]\n",
      " 4   post_caption           14485 non-null  object        \n",
      " 5   hashtags               14486 non-null  object        \n",
      " 6   topic_tags             10819 non-null  object        \n",
      " 7   is_video               14536 non-null  bool          \n",
      " 8   is_ad                  14536 non-null  bool          \n",
      " 9   post_likes             14536 non-null  int64         \n",
      " 10  geo_tag                10035 non-null  object        \n",
      " 11  geo_slug               9966 non-null   object        \n",
      " 12  owner_id               14536 non-null  int64         \n",
      " 13  owner_verified         14536 non-null  bool          \n",
      " 14  owner_privacy          14536 non-null  bool          \n",
      " 15  owner_unpublished      14536 non-null  bool          \n",
      " 16  owner_total_posts      14536 non-null  int64         \n",
      " 17  owner_total_followers  14536 non-null  int64         \n",
      "dtypes: bool(5), datetime64[ns](1), int64(6), object(6)\n",
      "memory usage: 1.5+ MB\n"
     ]
    }
   ],
   "source": [
    "df_insta.info()"
   ]
  },
  {
   "cell_type": "code",
   "execution_count": 37,
   "metadata": {},
   "outputs": [],
   "source": [
    "# we can observe missing data for \"post_caption\", \"hashtags\", \"topic_tags\", \"geo_tag\", and \"geo_slug\""
   ]
  },
  {
   "cell_type": "markdown",
   "metadata": {},
   "source": [
    "#### Missing Text"
   ]
  },
  {
   "cell_type": "code",
   "execution_count": 38,
   "metadata": {},
   "outputs": [
    {
     "data": {
      "text/plain": [
       "(51, 18)"
      ]
     },
     "execution_count": 38,
     "metadata": {},
     "output_type": "execute_result"
    }
   ],
   "source": [
    "# view posts with missing post captions\n",
    "df_insta[df_insta[\"post_caption\"].isnull()].shape"
   ]
  },
  {
   "cell_type": "code",
   "execution_count": 39,
   "metadata": {},
   "outputs": [],
   "source": [
    "# replace empty fields in hashtags col filled with \"[]\" from scrape with a true null value\n",
    "df_insta[\"hashtags\"] = df_insta[\"hashtags\"].replace({\"[]\": None})"
   ]
  },
  {
   "cell_type": "code",
   "execution_count": 40,
   "metadata": {},
   "outputs": [
    {
     "data": {
      "text/html": [
       "<div>\n",
       "<style scoped>\n",
       "    .dataframe tbody tr th:only-of-type {\n",
       "        vertical-align: middle;\n",
       "    }\n",
       "\n",
       "    .dataframe tbody tr th {\n",
       "        vertical-align: top;\n",
       "    }\n",
       "\n",
       "    .dataframe thead th {\n",
       "        text-align: right;\n",
       "    }\n",
       "</style>\n",
       "<table border=\"1\" class=\"dataframe\">\n",
       "  <thead>\n",
       "    <tr style=\"text-align: right;\">\n",
       "      <th></th>\n",
       "      <th>post_id</th>\n",
       "      <th>post_slug</th>\n",
       "      <th>unix_time</th>\n",
       "      <th>date_time</th>\n",
       "      <th>post_caption</th>\n",
       "      <th>hashtags</th>\n",
       "      <th>topic_tags</th>\n",
       "      <th>is_video</th>\n",
       "      <th>is_ad</th>\n",
       "      <th>post_likes</th>\n",
       "      <th>geo_tag</th>\n",
       "      <th>geo_slug</th>\n",
       "      <th>owner_id</th>\n",
       "      <th>owner_verified</th>\n",
       "      <th>owner_privacy</th>\n",
       "      <th>owner_unpublished</th>\n",
       "      <th>owner_total_posts</th>\n",
       "      <th>owner_total_followers</th>\n",
       "    </tr>\n",
       "  </thead>\n",
       "  <tbody>\n",
       "    <tr>\n",
       "      <th>0</th>\n",
       "      <td>1006641971264095607</td>\n",
       "      <td>34T4oZMgV3</td>\n",
       "      <td>1434221095</td>\n",
       "      <td>2015-06-13 18:44:55</td>\n",
       "      <td>Oh look! Natural heart shaped form of Ivan Hen...</td>\n",
       "      <td>['#pinkdotsg', '#whereloveslivesg', '#rediscov...</td>\n",
       "      <td>['2 people.']</td>\n",
       "      <td>False</td>\n",
       "      <td>False</td>\n",
       "      <td>40</td>\n",
       "      <td>Pinkdot @ Hong Lim Park</td>\n",
       "      <td>pinkdot-hong-lim-park</td>\n",
       "      <td>196778200</td>\n",
       "      <td>False</td>\n",
       "      <td>False</td>\n",
       "      <td>False</td>\n",
       "      <td>5205</td>\n",
       "      <td>1232</td>\n",
       "    </tr>\n",
       "    <tr>\n",
       "      <th>1</th>\n",
       "      <td>1202880298563729182</td>\n",
       "      <td>BCxfUInNPce</td>\n",
       "      <td>1457614527</td>\n",
       "      <td>2016-03-10 12:55:27</td>\n",
       "      <td>.\\n.\\n.\\n.\\n.\\n.\\n#exploresingapore #instasg #...</td>\n",
       "      <td>['#exploresingapore', '#instasg', '#gf_singapo...</td>\n",
       "      <td>['indoor.']</td>\n",
       "      <td>False</td>\n",
       "      <td>False</td>\n",
       "      <td>33</td>\n",
       "      <td>Yangtze Cinema</td>\n",
       "      <td>yangtze-cinema</td>\n",
       "      <td>33123388</td>\n",
       "      <td>False</td>\n",
       "      <td>False</td>\n",
       "      <td>False</td>\n",
       "      <td>742</td>\n",
       "      <td>995</td>\n",
       "    </tr>\n",
       "    <tr>\n",
       "      <th>2</th>\n",
       "      <td>677102977071319026</td>\n",
       "      <td>lljZH4sgfy</td>\n",
       "      <td>1394936986</td>\n",
       "      <td>2014-03-16 02:29:46</td>\n",
       "      <td>On the road to hell..... Reliving Haw Par Vill...</td>\n",
       "      <td>['', '#singapore']</td>\n",
       "      <td>['Photo by Belinda Tan in 虎豹别墅.']</td>\n",
       "      <td>False</td>\n",
       "      <td>False</td>\n",
       "      <td>3</td>\n",
       "      <td>虎豹别墅</td>\n",
       "      <td>NaN</td>\n",
       "      <td>196778200</td>\n",
       "      <td>False</td>\n",
       "      <td>False</td>\n",
       "      <td>False</td>\n",
       "      <td>5205</td>\n",
       "      <td>1232</td>\n",
       "    </tr>\n",
       "  </tbody>\n",
       "</table>\n",
       "</div>"
      ],
      "text/plain": [
       "               post_id    post_slug   unix_time           date_time  \\\n",
       "0  1006641971264095607   34T4oZMgV3  1434221095 2015-06-13 18:44:55   \n",
       "1  1202880298563729182  BCxfUInNPce  1457614527 2016-03-10 12:55:27   \n",
       "2   677102977071319026   lljZH4sgfy  1394936986 2014-03-16 02:29:46   \n",
       "\n",
       "                                        post_caption  \\\n",
       "0  Oh look! Natural heart shaped form of Ivan Hen...   \n",
       "1  .\\n.\\n.\\n.\\n.\\n.\\n#exploresingapore #instasg #...   \n",
       "2  On the road to hell..... Reliving Haw Par Vill...   \n",
       "\n",
       "                                            hashtags  \\\n",
       "0  ['#pinkdotsg', '#whereloveslivesg', '#rediscov...   \n",
       "1  ['#exploresingapore', '#instasg', '#gf_singapo...   \n",
       "2                                 ['', '#singapore']   \n",
       "\n",
       "                          topic_tags  is_video  is_ad  post_likes  \\\n",
       "0                      ['2 people.']     False  False          40   \n",
       "1                        ['indoor.']     False  False          33   \n",
       "2  ['Photo by Belinda Tan in 虎豹别墅.']     False  False           3   \n",
       "\n",
       "                   geo_tag               geo_slug   owner_id  owner_verified  \\\n",
       "0  Pinkdot @ Hong Lim Park  pinkdot-hong-lim-park  196778200           False   \n",
       "1           Yangtze Cinema         yangtze-cinema   33123388           False   \n",
       "2                     虎豹别墅                    NaN  196778200           False   \n",
       "\n",
       "   owner_privacy  owner_unpublished  owner_total_posts  owner_total_followers  \n",
       "0          False              False               5205                   1232  \n",
       "1          False              False                742                    995  \n",
       "2          False              False               5205                   1232  "
      ]
     },
     "execution_count": 40,
     "metadata": {},
     "output_type": "execute_result"
    }
   ],
   "source": [
    "# since instagram was scraped by querying target hashtags\n",
    "# these target hashtags are likely to skew our model's prediction\n",
    "# as such, we should drop these target hashtags\n",
    "\n",
    "target_hash = [\"#singaporediscovers\", \"#rediscoversg\", \"#rediscoversingapore\", \"#singapoliday\", \"#singaporeliday\",\n",
    "               \"#madaboutsingapore2020\", \"#madaboutsingapore2020c\"]\n",
    "target_pattern = \"|\".join(target_hash)\n",
    "\n",
    "# drop target hashtags from hashtags col\n",
    "# we will also drop these target hashtags from the post captions afterwards\n",
    "df_insta[\"hashtags\"] = df_insta[\"hashtags\"].str.lower().str.replace(target_pattern, \"\")\n",
    "df_insta.head(3)"
   ]
  },
  {
   "cell_type": "code",
   "execution_count": 41,
   "metadata": {},
   "outputs": [
    {
     "data": {
      "text/plain": [
       "(1886, 18)"
      ]
     },
     "execution_count": 41,
     "metadata": {},
     "output_type": "execute_result"
    }
   ],
   "source": [
    "# view posts with missing hashtags\n",
    "df_insta[df_insta[\"hashtags\"].isnull()].shape"
   ]
  },
  {
   "cell_type": "code",
   "execution_count": 42,
   "metadata": {},
   "outputs": [
    {
     "data": {
      "text/plain": [
       "(1835, 18)"
      ]
     },
     "execution_count": 42,
     "metadata": {},
     "output_type": "execute_result"
    }
   ],
   "source": [
    "# find posts with captions but no hashtags\n",
    "have_capt_no_hash = set(df_insta[df_insta[\"hashtags\"].isnull()].index).difference(set(df_insta[df_insta[\"post_caption\"].isnull()].index))\n",
    "df_insta.iloc[list(have_capt_no_hash)].shape"
   ]
  },
  {
   "cell_type": "code",
   "execution_count": 43,
   "metadata": {},
   "outputs": [],
   "source": [
    "# 1886 posts w/o hash -  51 posts w/o captions = 1835 posts w/ captions but w/o hash\n",
    "# this verifies that all posts without captions will not have hashtags\n",
    "# while all posts without hashtags may still have accompanying captions\n",
    "### because hashtags were extracted from post captions during scraping\n",
    "### if there were no post captions, then there were no hashtags too"
   ]
  },
  {
   "cell_type": "code",
   "execution_count": 44,
   "metadata": {},
   "outputs": [
    {
     "data": {
      "text/html": [
       "<div>\n",
       "<style scoped>\n",
       "    .dataframe tbody tr th:only-of-type {\n",
       "        vertical-align: middle;\n",
       "    }\n",
       "\n",
       "    .dataframe tbody tr th {\n",
       "        vertical-align: top;\n",
       "    }\n",
       "\n",
       "    .dataframe thead th {\n",
       "        text-align: right;\n",
       "    }\n",
       "</style>\n",
       "<table border=\"1\" class=\"dataframe\">\n",
       "  <thead>\n",
       "    <tr style=\"text-align: right;\">\n",
       "      <th></th>\n",
       "      <th>post_id</th>\n",
       "      <th>post_slug</th>\n",
       "      <th>unix_time</th>\n",
       "      <th>date_time</th>\n",
       "      <th>post_caption</th>\n",
       "      <th>hashtags</th>\n",
       "      <th>topic_tags</th>\n",
       "      <th>is_video</th>\n",
       "      <th>is_ad</th>\n",
       "      <th>post_likes</th>\n",
       "      <th>geo_tag</th>\n",
       "      <th>geo_slug</th>\n",
       "      <th>owner_id</th>\n",
       "      <th>owner_verified</th>\n",
       "      <th>owner_privacy</th>\n",
       "      <th>owner_unpublished</th>\n",
       "      <th>owner_total_posts</th>\n",
       "      <th>owner_total_followers</th>\n",
       "    </tr>\n",
       "  </thead>\n",
       "  <tbody>\n",
       "    <tr>\n",
       "      <th>6</th>\n",
       "      <td>2406162771994753499</td>\n",
       "      <td>CFkaErwhDnb</td>\n",
       "      <td>1601056976</td>\n",
       "      <td>2020-09-25 18:02:56</td>\n",
       "      <td>Do you know: Sembawang beach is one of the few...</td>\n",
       "      <td>['#sglgexperience', '#localguides', '#singapor...</td>\n",
       "      <td>NaN</td>\n",
       "      <td>False</td>\n",
       "      <td>False</td>\n",
       "      <td>10</td>\n",
       "      <td>Sembawang Park Fishing Jetty</td>\n",
       "      <td>sembawang-park-fishing-jetty</td>\n",
       "      <td>32045251153</td>\n",
       "      <td>False</td>\n",
       "      <td>False</td>\n",
       "      <td>False</td>\n",
       "      <td>54</td>\n",
       "      <td>48</td>\n",
       "    </tr>\n",
       "    <tr>\n",
       "      <th>10</th>\n",
       "      <td>936794654076236572</td>\n",
       "      <td>0AKcZHsvMc</td>\n",
       "      <td>1425894646</td>\n",
       "      <td>2015-03-09 09:50:46</td>\n",
       "      <td>We see the city in a different light. We see t...</td>\n",
       "      <td>['#parkour', '#parkoursingapore', '#tracer', '...</td>\n",
       "      <td>NaN</td>\n",
       "      <td>True</td>\n",
       "      <td>False</td>\n",
       "      <td>42</td>\n",
       "      <td>NaN</td>\n",
       "      <td>NaN</td>\n",
       "      <td>736533259</td>\n",
       "      <td>False</td>\n",
       "      <td>False</td>\n",
       "      <td>False</td>\n",
       "      <td>1265</td>\n",
       "      <td>1296</td>\n",
       "    </tr>\n",
       "    <tr>\n",
       "      <th>21</th>\n",
       "      <td>2397733941879266230</td>\n",
       "      <td>CFGdlD_nFu2</td>\n",
       "      <td>1600052181</td>\n",
       "      <td>2020-09-14 02:56:21</td>\n",
       "      <td>It's so much fun at the @artsciencemuseumsg ! ...</td>\n",
       "      <td>['#bbleeia', '#3yrs9mthsold', '#sgtoddler', '#...</td>\n",
       "      <td>NaN</td>\n",
       "      <td>False</td>\n",
       "      <td>False</td>\n",
       "      <td>18</td>\n",
       "      <td>NaN</td>\n",
       "      <td>NaN</td>\n",
       "      <td>25853204741</td>\n",
       "      <td>False</td>\n",
       "      <td>False</td>\n",
       "      <td>False</td>\n",
       "      <td>60</td>\n",
       "      <td>61</td>\n",
       "    </tr>\n",
       "  </tbody>\n",
       "</table>\n",
       "</div>"
      ],
      "text/plain": [
       "                post_id    post_slug   unix_time           date_time  \\\n",
       "6   2406162771994753499  CFkaErwhDnb  1601056976 2020-09-25 18:02:56   \n",
       "10   936794654076236572   0AKcZHsvMc  1425894646 2015-03-09 09:50:46   \n",
       "21  2397733941879266230  CFGdlD_nFu2  1600052181 2020-09-14 02:56:21   \n",
       "\n",
       "                                         post_caption  \\\n",
       "6   Do you know: Sembawang beach is one of the few...   \n",
       "10  We see the city in a different light. We see t...   \n",
       "21  It's so much fun at the @artsciencemuseumsg ! ...   \n",
       "\n",
       "                                             hashtags topic_tags  is_video  \\\n",
       "6   ['#sglgexperience', '#localguides', '#singapor...        NaN     False   \n",
       "10  ['#parkour', '#parkoursingapore', '#tracer', '...        NaN      True   \n",
       "21  ['#bbleeia', '#3yrs9mthsold', '#sgtoddler', '#...        NaN     False   \n",
       "\n",
       "    is_ad  post_likes                       geo_tag  \\\n",
       "6   False          10  Sembawang Park Fishing Jetty   \n",
       "10  False          42                           NaN   \n",
       "21  False          18                           NaN   \n",
       "\n",
       "                        geo_slug     owner_id  owner_verified  owner_privacy  \\\n",
       "6   sembawang-park-fishing-jetty  32045251153           False          False   \n",
       "10                           NaN    736533259           False          False   \n",
       "21                           NaN  25853204741           False          False   \n",
       "\n",
       "    owner_unpublished  owner_total_posts  owner_total_followers  \n",
       "6               False                 54                     48  \n",
       "10              False               1265                   1296  \n",
       "21              False                 60                     61  "
      ]
     },
     "execution_count": 44,
     "metadata": {},
     "output_type": "execute_result"
    }
   ],
   "source": [
    "# view posts with missing topic tags\n",
    "df_insta[df_insta[\"topic_tags\"].isnull()].head(3)"
   ]
  },
  {
   "cell_type": "code",
   "execution_count": 45,
   "metadata": {},
   "outputs": [
    {
     "name": "stdout",
     "output_type": "stream",
     "text": [
      "No. of posts without text: 5\n"
     ]
    },
    {
     "data": {
      "text/html": [
       "<div>\n",
       "<style scoped>\n",
       "    .dataframe tbody tr th:only-of-type {\n",
       "        vertical-align: middle;\n",
       "    }\n",
       "\n",
       "    .dataframe tbody tr th {\n",
       "        vertical-align: top;\n",
       "    }\n",
       "\n",
       "    .dataframe thead th {\n",
       "        text-align: right;\n",
       "    }\n",
       "</style>\n",
       "<table border=\"1\" class=\"dataframe\">\n",
       "  <thead>\n",
       "    <tr style=\"text-align: right;\">\n",
       "      <th></th>\n",
       "      <th>post_id</th>\n",
       "      <th>post_slug</th>\n",
       "      <th>unix_time</th>\n",
       "      <th>date_time</th>\n",
       "      <th>post_caption</th>\n",
       "      <th>hashtags</th>\n",
       "      <th>topic_tags</th>\n",
       "      <th>is_video</th>\n",
       "      <th>is_ad</th>\n",
       "      <th>post_likes</th>\n",
       "      <th>geo_tag</th>\n",
       "      <th>geo_slug</th>\n",
       "      <th>owner_id</th>\n",
       "      <th>owner_verified</th>\n",
       "      <th>owner_privacy</th>\n",
       "      <th>owner_unpublished</th>\n",
       "      <th>owner_total_posts</th>\n",
       "      <th>owner_total_followers</th>\n",
       "    </tr>\n",
       "  </thead>\n",
       "  <tbody>\n",
       "    <tr>\n",
       "      <th>6748</th>\n",
       "      <td>2355897232517229971</td>\n",
       "      <td>CCx1A0Hg-2T</td>\n",
       "      <td>1595064907</td>\n",
       "      <td>2020-07-18 09:35:07</td>\n",
       "      <td>NaN</td>\n",
       "      <td>None</td>\n",
       "      <td>NaN</td>\n",
       "      <td>True</td>\n",
       "      <td>False</td>\n",
       "      <td>48</td>\n",
       "      <td>NaN</td>\n",
       "      <td>NaN</td>\n",
       "      <td>30679523</td>\n",
       "      <td>False</td>\n",
       "      <td>False</td>\n",
       "      <td>False</td>\n",
       "      <td>560</td>\n",
       "      <td>43906</td>\n",
       "    </tr>\n",
       "    <tr>\n",
       "      <th>9353</th>\n",
       "      <td>2151641071654035438</td>\n",
       "      <td>B3cKiegFF_u</td>\n",
       "      <td>1570715625</td>\n",
       "      <td>2019-10-10 13:53:45</td>\n",
       "      <td>NaN</td>\n",
       "      <td>NaN</td>\n",
       "      <td>NaN</td>\n",
       "      <td>False</td>\n",
       "      <td>False</td>\n",
       "      <td>109</td>\n",
       "      <td>Singapore</td>\n",
       "      <td>singapore</td>\n",
       "      <td>1494605314</td>\n",
       "      <td>False</td>\n",
       "      <td>False</td>\n",
       "      <td>False</td>\n",
       "      <td>269</td>\n",
       "      <td>717</td>\n",
       "    </tr>\n",
       "    <tr>\n",
       "      <th>11762</th>\n",
       "      <td>2401679332442353362</td>\n",
       "      <td>CFUeqDSn67S</td>\n",
       "      <td>1600522508</td>\n",
       "      <td>2020-09-19 13:35:08</td>\n",
       "      <td>NaN</td>\n",
       "      <td>NaN</td>\n",
       "      <td>NaN</td>\n",
       "      <td>False</td>\n",
       "      <td>False</td>\n",
       "      <td>22</td>\n",
       "      <td>Chinatown</td>\n",
       "      <td>chinatown</td>\n",
       "      <td>6654500502</td>\n",
       "      <td>False</td>\n",
       "      <td>False</td>\n",
       "      <td>False</td>\n",
       "      <td>80</td>\n",
       "      <td>74</td>\n",
       "    </tr>\n",
       "    <tr>\n",
       "      <th>11854</th>\n",
       "      <td>2396610934708387097</td>\n",
       "      <td>CFCePKEHD0Z</td>\n",
       "      <td>1599918308</td>\n",
       "      <td>2020-09-12 13:45:08</td>\n",
       "      <td>NaN</td>\n",
       "      <td>NaN</td>\n",
       "      <td>NaN</td>\n",
       "      <td>False</td>\n",
       "      <td>False</td>\n",
       "      <td>85</td>\n",
       "      <td>NaN</td>\n",
       "      <td>NaN</td>\n",
       "      <td>19332530737</td>\n",
       "      <td>False</td>\n",
       "      <td>False</td>\n",
       "      <td>False</td>\n",
       "      <td>51</td>\n",
       "      <td>369</td>\n",
       "    </tr>\n",
       "    <tr>\n",
       "      <th>12135</th>\n",
       "      <td>2407346391717164090</td>\n",
       "      <td>CFonMnhnrQ6</td>\n",
       "      <td>1601198074</td>\n",
       "      <td>2020-09-27 09:14:34</td>\n",
       "      <td>NaN</td>\n",
       "      <td>NaN</td>\n",
       "      <td>NaN</td>\n",
       "      <td>False</td>\n",
       "      <td>False</td>\n",
       "      <td>23</td>\n",
       "      <td>Chinatown</td>\n",
       "      <td>chinatown</td>\n",
       "      <td>6654500502</td>\n",
       "      <td>False</td>\n",
       "      <td>False</td>\n",
       "      <td>False</td>\n",
       "      <td>80</td>\n",
       "      <td>74</td>\n",
       "    </tr>\n",
       "  </tbody>\n",
       "</table>\n",
       "</div>"
      ],
      "text/plain": [
       "                   post_id    post_slug   unix_time           date_time  \\\n",
       "6748   2355897232517229971  CCx1A0Hg-2T  1595064907 2020-07-18 09:35:07   \n",
       "9353   2151641071654035438  B3cKiegFF_u  1570715625 2019-10-10 13:53:45   \n",
       "11762  2401679332442353362  CFUeqDSn67S  1600522508 2020-09-19 13:35:08   \n",
       "11854  2396610934708387097  CFCePKEHD0Z  1599918308 2020-09-12 13:45:08   \n",
       "12135  2407346391717164090  CFonMnhnrQ6  1601198074 2020-09-27 09:14:34   \n",
       "\n",
       "      post_caption hashtags topic_tags  is_video  is_ad  post_likes  \\\n",
       "6748           NaN     None        NaN      True  False          48   \n",
       "9353           NaN      NaN        NaN     False  False         109   \n",
       "11762          NaN      NaN        NaN     False  False          22   \n",
       "11854          NaN      NaN        NaN     False  False          85   \n",
       "12135          NaN      NaN        NaN     False  False          23   \n",
       "\n",
       "         geo_tag   geo_slug     owner_id  owner_verified  owner_privacy  \\\n",
       "6748         NaN        NaN     30679523           False          False   \n",
       "9353   Singapore  singapore   1494605314           False          False   \n",
       "11762  Chinatown  chinatown   6654500502           False          False   \n",
       "11854        NaN        NaN  19332530737           False          False   \n",
       "12135  Chinatown  chinatown   6654500502           False          False   \n",
       "\n",
       "       owner_unpublished  owner_total_posts  owner_total_followers  \n",
       "6748               False                560                  43906  \n",
       "9353               False                269                    717  \n",
       "11762              False                 80                     74  \n",
       "11854              False                 51                    369  \n",
       "12135              False                 80                     74  "
      ]
     },
     "execution_count": 45,
     "metadata": {},
     "output_type": "execute_result"
    }
   ],
   "source": [
    "# find posts without both captions and topic tags - that is to say, no NLP features\n",
    "no_nlp = set(df_insta[df_insta[\"topic_tags\"].isnull()][\"post_id\"]).intersection(set(df_insta[df_insta[\"post_caption\"].isnull()][\"post_id\"]))\n",
    "no_nlp = df_insta[\"post_id\"].isin(no_nlp)\n",
    "print(\"No. of posts without text:\", len(df_insta[no_nlp]))\n",
    "df_insta[no_nlp]"
   ]
  },
  {
   "cell_type": "markdown",
   "metadata": {},
   "source": [
    "Since this is an NLP project, posts without words cannot offer NLP training for the model. As there are only 5 instagram posts without post captions and topic tags out of over 14,000 posts scraped and therefore no associated word features, this is a rare occurence. We shall just drop these 5 instagram posts."
   ]
  },
  {
   "cell_type": "code",
   "execution_count": 46,
   "metadata": {},
   "outputs": [
    {
     "data": {
      "text/plain": [
       "(14536, 18)"
      ]
     },
     "execution_count": 46,
     "metadata": {},
     "output_type": "execute_result"
    }
   ],
   "source": [
    "df_insta.shape # current shape of df"
   ]
  },
  {
   "cell_type": "code",
   "execution_count": 47,
   "metadata": {
    "scrolled": true
   },
   "outputs": [
    {
     "data": {
      "text/plain": [
       "(14531, 18)"
      ]
     },
     "execution_count": 47,
     "metadata": {},
     "output_type": "execute_result"
    }
   ],
   "source": [
    "df_insta = df_insta.drop(df_insta[no_nlp].index).reset_index(drop=True)\n",
    "df_insta.shape # verify that 5 rows were dropped"
   ]
  },
  {
   "cell_type": "code",
   "execution_count": 48,
   "metadata": {},
   "outputs": [],
   "source": [
    "# after removing data points with no captions and topic tags\n",
    "# we are left with only rows with captions and/or topic tags\n",
    "# remaining data points therefore all have NLP word features that our model can train on\n",
    "# we should merge all word features into a single column for easy modelling later"
   ]
  },
  {
   "cell_type": "markdown",
   "metadata": {},
   "source": [
    "#### Text Cleaning"
   ]
  },
  {
   "cell_type": "code",
   "execution_count": 49,
   "metadata": {},
   "outputs": [
    {
     "data": {
      "text/html": [
       "<div>\n",
       "<style scoped>\n",
       "    .dataframe tbody tr th:only-of-type {\n",
       "        vertical-align: middle;\n",
       "    }\n",
       "\n",
       "    .dataframe tbody tr th {\n",
       "        vertical-align: top;\n",
       "    }\n",
       "\n",
       "    .dataframe thead th {\n",
       "        text-align: right;\n",
       "    }\n",
       "</style>\n",
       "<table border=\"1\" class=\"dataframe\">\n",
       "  <thead>\n",
       "    <tr style=\"text-align: right;\">\n",
       "      <th></th>\n",
       "      <th>post_id</th>\n",
       "      <th>post_slug</th>\n",
       "      <th>unix_time</th>\n",
       "      <th>date_time</th>\n",
       "      <th>post_caption</th>\n",
       "      <th>hashtags</th>\n",
       "      <th>topic_tags</th>\n",
       "      <th>is_video</th>\n",
       "      <th>is_ad</th>\n",
       "      <th>post_likes</th>\n",
       "      <th>geo_tag</th>\n",
       "      <th>geo_slug</th>\n",
       "      <th>owner_id</th>\n",
       "      <th>owner_verified</th>\n",
       "      <th>owner_privacy</th>\n",
       "      <th>owner_unpublished</th>\n",
       "      <th>owner_total_posts</th>\n",
       "      <th>owner_total_followers</th>\n",
       "    </tr>\n",
       "  </thead>\n",
       "  <tbody>\n",
       "    <tr>\n",
       "      <th>0</th>\n",
       "      <td>1006641971264095607</td>\n",
       "      <td>34T4oZMgV3</td>\n",
       "      <td>1434221095</td>\n",
       "      <td>2015-06-13 18:44:55</td>\n",
       "      <td>Oh look! Natural heart shaped form of Ivan Hen...</td>\n",
       "      <td>['#pinkdotsg', '#whereloveslivesg', '#rediscov...</td>\n",
       "      <td>['2 people.']</td>\n",
       "      <td>False</td>\n",
       "      <td>False</td>\n",
       "      <td>40</td>\n",
       "      <td>Pinkdot @ Hong Lim Park</td>\n",
       "      <td>pinkdot-hong-lim-park</td>\n",
       "      <td>196778200</td>\n",
       "      <td>False</td>\n",
       "      <td>False</td>\n",
       "      <td>False</td>\n",
       "      <td>5205</td>\n",
       "      <td>1232</td>\n",
       "    </tr>\n",
       "  </tbody>\n",
       "</table>\n",
       "</div>"
      ],
      "text/plain": [
       "               post_id   post_slug   unix_time           date_time  \\\n",
       "0  1006641971264095607  34T4oZMgV3  1434221095 2015-06-13 18:44:55   \n",
       "\n",
       "                                        post_caption  \\\n",
       "0  Oh look! Natural heart shaped form of Ivan Hen...   \n",
       "\n",
       "                                            hashtags     topic_tags  is_video  \\\n",
       "0  ['#pinkdotsg', '#whereloveslivesg', '#rediscov...  ['2 people.']     False   \n",
       "\n",
       "   is_ad  post_likes                  geo_tag               geo_slug  \\\n",
       "0  False          40  Pinkdot @ Hong Lim Park  pinkdot-hong-lim-park   \n",
       "\n",
       "    owner_id  owner_verified  owner_privacy  owner_unpublished  \\\n",
       "0  196778200           False          False              False   \n",
       "\n",
       "   owner_total_posts  owner_total_followers  \n",
       "0               5205                   1232  "
      ]
     },
     "execution_count": 49,
     "metadata": {},
     "output_type": "execute_result"
    }
   ],
   "source": [
    "df_insta.head(1)"
   ]
  },
  {
   "cell_type": "code",
   "execution_count": 50,
   "metadata": {},
   "outputs": [
    {
     "data": {
      "text/plain": [
       "(14531, 18)"
      ]
     },
     "execution_count": 50,
     "metadata": {},
     "output_type": "execute_result"
    }
   ],
   "source": [
    "df_insta.shape"
   ]
  },
  {
   "cell_type": "code",
   "execution_count": 51,
   "metadata": {},
   "outputs": [],
   "source": [
    "# clean text for modelling\n",
    "\n",
    "def remove_newline(text):\n",
    "    return text.replace(r\"\\n\", \" \")\n",
    "\n",
    "def remove_url(text):\n",
    "    url = re.compile(r\"http?://\\S+|https?://\\S+|www\\.\\S+\")\n",
    "    return url.sub(r\"\", text)\n",
    "\n",
    "def remove_html(text):\n",
    "    html = re.compile(r\"<.*?>\")\n",
    "    return html.sub(r\"\", text)\n",
    "\n",
    "def remove_emoji(text):\n",
    "    emoji_pattern = re.compile(\n",
    "        \"[\"\n",
    "        u\"\\U0001F600-\\U0001F64F\"\n",
    "        u\"\\U0001F300-\\U0001F5FF\"\n",
    "        u\"\\U0001F680-\\U0001F6FF\"\n",
    "        u\"\\U0001F1E0-\\U0001F1FF\"\n",
    "        u\"\\U00002702-\\U000027B0\"\n",
    "        u\"\\U000024C2-\\U0001F251\"\n",
    "        \"]+\",\n",
    "        flags=re.UNICODE\n",
    "    )\n",
    "    return emoji_pattern.sub(r\"\", text)\n",
    "\n",
    "def remove_country_tags(text):\n",
    "    country_tags = re.compile(r\"[🇦🇧🇨🇩🇪🇫🇬🇭🇮🇯🇰🇱🇲🇳🇴🇵🇶🇷🇸🇹🇺🇻🇼🇽🇾🇿]\") # country tags uses non-ascii characters\n",
    "    return country_tags.sub(r\"\", text)\n",
    "\n",
    "def remove_punct(text):\n",
    "    table = str.maketrans(\"\", \"\", string.punctuation.replace(\"#\", \"\").replace(\"'\", \"\")) # add exceptions through replace\n",
    "    return text.translate(table)\n",
    "\n",
    "def remove_stopwords(text):\n",
    "    stop = set(stopwords.words(\"english\")) # use list of stop words from nltk\n",
    "    # list of more stop words to remove discovered when modelling\n",
    "    more_stop = [\"love\", \"like\", \"singapore\", \"sg\"]\n",
    "    for s in more_stop:\n",
    "        stop.add(s)\n",
    "    text = [word.lower() for word in text.split() if word.lower() not in stop]\n",
    "    return \" \".join(text)\n",
    "\n",
    "def clean_text(df, target):\n",
    "    cleaned = df[target].map(lambda x: remove_newline(str(x).lower()))\n",
    "    cleaned = cleaned.map(lambda x: remove_url(str(x).lower()))\n",
    "    cleaned = cleaned.map(lambda x: remove_html(str(x).lower()))\n",
    "    cleaned = cleaned.map(lambda x: remove_emoji(str(x).lower()))\n",
    "    cleaned = cleaned.map(lambda x: remove_country_tags(str(x).lower()))\n",
    "    cleaned = cleaned.map(lambda x: remove_punct(str(x).lower()))\n",
    "    cleaned = cleaned.map(lambda x: remove_stopwords(str(x).lower()))\n",
    "    return cleaned"
   ]
  },
  {
   "cell_type": "code",
   "execution_count": 52,
   "metadata": {},
   "outputs": [
    {
     "data": {
      "text/plain": [
       "(14531, 19)"
      ]
     },
     "execution_count": 52,
     "metadata": {},
     "output_type": "execute_result"
    }
   ],
   "source": [
    "df_insta[\"post_caption_clean\"] = clean_text(df_insta, \"post_caption\")\n",
    "df_insta.shape #verify col added"
   ]
  },
  {
   "cell_type": "code",
   "execution_count": 53,
   "metadata": {},
   "outputs": [
    {
     "data": {
      "text/html": [
       "<div>\n",
       "<style scoped>\n",
       "    .dataframe tbody tr th:only-of-type {\n",
       "        vertical-align: middle;\n",
       "    }\n",
       "\n",
       "    .dataframe tbody tr th {\n",
       "        vertical-align: top;\n",
       "    }\n",
       "\n",
       "    .dataframe thead th {\n",
       "        text-align: right;\n",
       "    }\n",
       "</style>\n",
       "<table border=\"1\" class=\"dataframe\">\n",
       "  <thead>\n",
       "    <tr style=\"text-align: right;\">\n",
       "      <th></th>\n",
       "      <th>post_id</th>\n",
       "      <th>post_slug</th>\n",
       "      <th>unix_time</th>\n",
       "      <th>date_time</th>\n",
       "      <th>post_caption</th>\n",
       "      <th>hashtags</th>\n",
       "      <th>topic_tags</th>\n",
       "      <th>is_video</th>\n",
       "      <th>is_ad</th>\n",
       "      <th>post_likes</th>\n",
       "      <th>geo_tag</th>\n",
       "      <th>geo_slug</th>\n",
       "      <th>owner_id</th>\n",
       "      <th>owner_verified</th>\n",
       "      <th>owner_privacy</th>\n",
       "      <th>owner_unpublished</th>\n",
       "      <th>owner_total_posts</th>\n",
       "      <th>owner_total_followers</th>\n",
       "      <th>post_caption_clean</th>\n",
       "      <th>post_caption_drop_target</th>\n",
       "    </tr>\n",
       "  </thead>\n",
       "  <tbody>\n",
       "    <tr>\n",
       "      <th>0</th>\n",
       "      <td>1006641971264095607</td>\n",
       "      <td>34T4oZMgV3</td>\n",
       "      <td>1434221095</td>\n",
       "      <td>2015-06-13 18:44:55</td>\n",
       "      <td>Oh look! Natural heart shaped form of Ivan Hen...</td>\n",
       "      <td>['#pinkdotsg', '#whereloveslivesg', '#rediscov...</td>\n",
       "      <td>['2 people.']</td>\n",
       "      <td>False</td>\n",
       "      <td>False</td>\n",
       "      <td>40</td>\n",
       "      <td>Pinkdot @ Hong Lim Park</td>\n",
       "      <td>pinkdot-hong-lim-park</td>\n",
       "      <td>196778200</td>\n",
       "      <td>False</td>\n",
       "      <td>False</td>\n",
       "      <td>False</td>\n",
       "      <td>5205</td>\n",
       "      <td>1232</td>\n",
       "      <td>oh look natural heart shaped form ivan heng gl...</td>\n",
       "      <td>oh look natural heart shaped form ivan heng gl...</td>\n",
       "    </tr>\n",
       "    <tr>\n",
       "      <th>1</th>\n",
       "      <td>1202880298563729182</td>\n",
       "      <td>BCxfUInNPce</td>\n",
       "      <td>1457614527</td>\n",
       "      <td>2016-03-10 12:55:27</td>\n",
       "      <td>.\\n.\\n.\\n.\\n.\\n.\\n#exploresingapore #instasg #...</td>\n",
       "      <td>['#exploresingapore', '#instasg', '#gf_singapo...</td>\n",
       "      <td>['indoor.']</td>\n",
       "      <td>False</td>\n",
       "      <td>False</td>\n",
       "      <td>33</td>\n",
       "      <td>Yangtze Cinema</td>\n",
       "      <td>yangtze-cinema</td>\n",
       "      <td>33123388</td>\n",
       "      <td>False</td>\n",
       "      <td>False</td>\n",
       "      <td>False</td>\n",
       "      <td>742</td>\n",
       "      <td>995</td>\n",
       "      <td>#exploresingapore #instasg #gfsingapore #gameo...</td>\n",
       "      <td>#exploresingapore #instasg #gfsingapore #gameo...</td>\n",
       "    </tr>\n",
       "    <tr>\n",
       "      <th>2</th>\n",
       "      <td>677102977071319026</td>\n",
       "      <td>lljZH4sgfy</td>\n",
       "      <td>1394936986</td>\n",
       "      <td>2014-03-16 02:29:46</td>\n",
       "      <td>On the road to hell..... Reliving Haw Par Vill...</td>\n",
       "      <td>['', '#singapore']</td>\n",
       "      <td>['Photo by Belinda Tan in 虎豹别墅.']</td>\n",
       "      <td>False</td>\n",
       "      <td>False</td>\n",
       "      <td>3</td>\n",
       "      <td>虎豹别墅</td>\n",
       "      <td>NaN</td>\n",
       "      <td>196778200</td>\n",
       "      <td>False</td>\n",
       "      <td>False</td>\n",
       "      <td>False</td>\n",
       "      <td>5205</td>\n",
       "      <td>1232</td>\n",
       "      <td>road hell reliving haw par villa 15 16 22 23 m...</td>\n",
       "      <td>road hell reliving haw par villa 15 16 22 23 m...</td>\n",
       "    </tr>\n",
       "  </tbody>\n",
       "</table>\n",
       "</div>"
      ],
      "text/plain": [
       "               post_id    post_slug   unix_time           date_time  \\\n",
       "0  1006641971264095607   34T4oZMgV3  1434221095 2015-06-13 18:44:55   \n",
       "1  1202880298563729182  BCxfUInNPce  1457614527 2016-03-10 12:55:27   \n",
       "2   677102977071319026   lljZH4sgfy  1394936986 2014-03-16 02:29:46   \n",
       "\n",
       "                                        post_caption  \\\n",
       "0  Oh look! Natural heart shaped form of Ivan Hen...   \n",
       "1  .\\n.\\n.\\n.\\n.\\n.\\n#exploresingapore #instasg #...   \n",
       "2  On the road to hell..... Reliving Haw Par Vill...   \n",
       "\n",
       "                                            hashtags  \\\n",
       "0  ['#pinkdotsg', '#whereloveslivesg', '#rediscov...   \n",
       "1  ['#exploresingapore', '#instasg', '#gf_singapo...   \n",
       "2                                 ['', '#singapore']   \n",
       "\n",
       "                          topic_tags  is_video  is_ad  post_likes  \\\n",
       "0                      ['2 people.']     False  False          40   \n",
       "1                        ['indoor.']     False  False          33   \n",
       "2  ['Photo by Belinda Tan in 虎豹别墅.']     False  False           3   \n",
       "\n",
       "                   geo_tag               geo_slug   owner_id  owner_verified  \\\n",
       "0  Pinkdot @ Hong Lim Park  pinkdot-hong-lim-park  196778200           False   \n",
       "1           Yangtze Cinema         yangtze-cinema   33123388           False   \n",
       "2                     虎豹别墅                    NaN  196778200           False   \n",
       "\n",
       "   owner_privacy  owner_unpublished  owner_total_posts  owner_total_followers  \\\n",
       "0          False              False               5205                   1232   \n",
       "1          False              False                742                    995   \n",
       "2          False              False               5205                   1232   \n",
       "\n",
       "                                  post_caption_clean  \\\n",
       "0  oh look natural heart shaped form ivan heng gl...   \n",
       "1  #exploresingapore #instasg #gfsingapore #gameo...   \n",
       "2  road hell reliving haw par villa 15 16 22 23 m...   \n",
       "\n",
       "                            post_caption_drop_target  \n",
       "0  oh look natural heart shaped form ivan heng gl...  \n",
       "1  #exploresingapore #instasg #gfsingapore #gameo...  \n",
       "2  road hell reliving haw par villa 15 16 22 23 m...  "
      ]
     },
     "execution_count": 53,
     "metadata": {},
     "output_type": "execute_result"
    }
   ],
   "source": [
    "# because scraping for insta posts were done with target hashtags\n",
    "# we should drop these target hashtags as they are bound to occur overwhelmingly and may skew our modelling\n",
    "\n",
    "# using target_pattern query from before when dropping target hashtags from hashtags col\n",
    "df_insta[\"post_caption_drop_target\"] = df_insta[\"post_caption_clean\"].str.lower().str.replace(target_pattern, \"\")\n",
    "df_insta.head(3)"
   ]
  },
  {
   "cell_type": "code",
   "execution_count": 54,
   "metadata": {},
   "outputs": [
    {
     "data": {
      "text/html": [
       "<div>\n",
       "<style scoped>\n",
       "    .dataframe tbody tr th:only-of-type {\n",
       "        vertical-align: middle;\n",
       "    }\n",
       "\n",
       "    .dataframe tbody tr th {\n",
       "        vertical-align: top;\n",
       "    }\n",
       "\n",
       "    .dataframe thead th {\n",
       "        text-align: right;\n",
       "    }\n",
       "</style>\n",
       "<table border=\"1\" class=\"dataframe\">\n",
       "  <thead>\n",
       "    <tr style=\"text-align: right;\">\n",
       "      <th></th>\n",
       "      <th>post_id</th>\n",
       "      <th>post_slug</th>\n",
       "      <th>unix_time</th>\n",
       "      <th>date_time</th>\n",
       "      <th>post_caption</th>\n",
       "      <th>hashtags</th>\n",
       "      <th>topic_tags</th>\n",
       "      <th>is_video</th>\n",
       "      <th>is_ad</th>\n",
       "      <th>post_likes</th>\n",
       "      <th>...</th>\n",
       "      <th>geo_slug</th>\n",
       "      <th>owner_id</th>\n",
       "      <th>owner_verified</th>\n",
       "      <th>owner_privacy</th>\n",
       "      <th>owner_unpublished</th>\n",
       "      <th>owner_total_posts</th>\n",
       "      <th>owner_total_followers</th>\n",
       "      <th>post_caption_clean</th>\n",
       "      <th>post_caption_drop_target</th>\n",
       "      <th>post_caption_drop_hash</th>\n",
       "    </tr>\n",
       "  </thead>\n",
       "  <tbody>\n",
       "    <tr>\n",
       "      <th>0</th>\n",
       "      <td>1006641971264095607</td>\n",
       "      <td>34T4oZMgV3</td>\n",
       "      <td>1434221095</td>\n",
       "      <td>2015-06-13 18:44:55</td>\n",
       "      <td>Oh look! Natural heart shaped form of Ivan Hen...</td>\n",
       "      <td>['#pinkdotsg', '#whereloveslivesg', '#rediscov...</td>\n",
       "      <td>['2 people.']</td>\n",
       "      <td>False</td>\n",
       "      <td>False</td>\n",
       "      <td>40</td>\n",
       "      <td>...</td>\n",
       "      <td>pinkdot-hong-lim-park</td>\n",
       "      <td>196778200</td>\n",
       "      <td>False</td>\n",
       "      <td>False</td>\n",
       "      <td>False</td>\n",
       "      <td>5205</td>\n",
       "      <td>1232</td>\n",
       "      <td>oh look natural heart shaped form ivan heng gl...</td>\n",
       "      <td>oh look natural heart shaped form ivan heng gl...</td>\n",
       "      <td>oh look natural heart shaped form ivan heng gl...</td>\n",
       "    </tr>\n",
       "    <tr>\n",
       "      <th>1</th>\n",
       "      <td>1202880298563729182</td>\n",
       "      <td>BCxfUInNPce</td>\n",
       "      <td>1457614527</td>\n",
       "      <td>2016-03-10 12:55:27</td>\n",
       "      <td>.\\n.\\n.\\n.\\n.\\n.\\n#exploresingapore #instasg #...</td>\n",
       "      <td>['#exploresingapore', '#instasg', '#gf_singapo...</td>\n",
       "      <td>['indoor.']</td>\n",
       "      <td>False</td>\n",
       "      <td>False</td>\n",
       "      <td>33</td>\n",
       "      <td>...</td>\n",
       "      <td>yangtze-cinema</td>\n",
       "      <td>33123388</td>\n",
       "      <td>False</td>\n",
       "      <td>False</td>\n",
       "      <td>False</td>\n",
       "      <td>742</td>\n",
       "      <td>995</td>\n",
       "      <td>#exploresingapore #instasg #gfsingapore #gameo...</td>\n",
       "      <td>#exploresingapore #instasg #gfsingapore #gameo...</td>\n",
       "      <td>NaN</td>\n",
       "    </tr>\n",
       "    <tr>\n",
       "      <th>2</th>\n",
       "      <td>677102977071319026</td>\n",
       "      <td>lljZH4sgfy</td>\n",
       "      <td>1394936986</td>\n",
       "      <td>2014-03-16 02:29:46</td>\n",
       "      <td>On the road to hell..... Reliving Haw Par Vill...</td>\n",
       "      <td>['', '#singapore']</td>\n",
       "      <td>['Photo by Belinda Tan in 虎豹别墅.']</td>\n",
       "      <td>False</td>\n",
       "      <td>False</td>\n",
       "      <td>3</td>\n",
       "      <td>...</td>\n",
       "      <td>NaN</td>\n",
       "      <td>196778200</td>\n",
       "      <td>False</td>\n",
       "      <td>False</td>\n",
       "      <td>False</td>\n",
       "      <td>5205</td>\n",
       "      <td>1232</td>\n",
       "      <td>road hell reliving haw par villa 15 16 22 23 m...</td>\n",
       "      <td>road hell reliving haw par villa 15 16 22 23 m...</td>\n",
       "      <td>road hell reliving haw par villa 15 16 22 23 m...</td>\n",
       "    </tr>\n",
       "  </tbody>\n",
       "</table>\n",
       "<p>3 rows × 21 columns</p>\n",
       "</div>"
      ],
      "text/plain": [
       "               post_id    post_slug   unix_time           date_time  \\\n",
       "0  1006641971264095607   34T4oZMgV3  1434221095 2015-06-13 18:44:55   \n",
       "1  1202880298563729182  BCxfUInNPce  1457614527 2016-03-10 12:55:27   \n",
       "2   677102977071319026   lljZH4sgfy  1394936986 2014-03-16 02:29:46   \n",
       "\n",
       "                                        post_caption  \\\n",
       "0  Oh look! Natural heart shaped form of Ivan Hen...   \n",
       "1  .\\n.\\n.\\n.\\n.\\n.\\n#exploresingapore #instasg #...   \n",
       "2  On the road to hell..... Reliving Haw Par Vill...   \n",
       "\n",
       "                                            hashtags  \\\n",
       "0  ['#pinkdotsg', '#whereloveslivesg', '#rediscov...   \n",
       "1  ['#exploresingapore', '#instasg', '#gf_singapo...   \n",
       "2                                 ['', '#singapore']   \n",
       "\n",
       "                          topic_tags  is_video  is_ad  post_likes  ...  \\\n",
       "0                      ['2 people.']     False  False          40  ...   \n",
       "1                        ['indoor.']     False  False          33  ...   \n",
       "2  ['Photo by Belinda Tan in 虎豹别墅.']     False  False           3  ...   \n",
       "\n",
       "                geo_slug   owner_id  owner_verified  owner_privacy  \\\n",
       "0  pinkdot-hong-lim-park  196778200           False          False   \n",
       "1         yangtze-cinema   33123388           False          False   \n",
       "2                    NaN  196778200           False          False   \n",
       "\n",
       "   owner_unpublished  owner_total_posts  owner_total_followers  \\\n",
       "0              False               5205                   1232   \n",
       "1              False                742                    995   \n",
       "2              False               5205                   1232   \n",
       "\n",
       "                                  post_caption_clean  \\\n",
       "0  oh look natural heart shaped form ivan heng gl...   \n",
       "1  #exploresingapore #instasg #gfsingapore #gameo...   \n",
       "2  road hell reliving haw par villa 15 16 22 23 m...   \n",
       "\n",
       "                            post_caption_drop_target  \\\n",
       "0  oh look natural heart shaped form ivan heng gl...   \n",
       "1  #exploresingapore #instasg #gfsingapore #gameo...   \n",
       "2  road hell reliving haw par villa 15 16 22 23 m...   \n",
       "\n",
       "                              post_caption_drop_hash  \n",
       "0  oh look natural heart shaped form ivan heng gl...  \n",
       "1                                                NaN  \n",
       "2  road hell reliving haw par villa 15 16 22 23 m...  \n",
       "\n",
       "[3 rows x 21 columns]"
      ]
     },
     "execution_count": 54,
     "metadata": {},
     "output_type": "execute_result"
    }
   ],
   "source": [
    "# in case hashtags are overwhelming and generic, let's drop all hashtags too\n",
    "df_insta[\"post_caption_drop_hash\"] = df_insta[\"post_caption_clean\"].str.extractall(r\"(?<!#)(\\b[\\w']+)\").groupby(level=0)[0].apply(lambda x: \" \".join(x))\n",
    "df_insta.head(3)"
   ]
  },
  {
   "cell_type": "code",
   "execution_count": 55,
   "metadata": {},
   "outputs": [
    {
     "data": {
      "text/plain": [
       "array([\"['2 people.']\", \"['indoor.']\",\n",
       "       \"['Photo by Belinda Tan in 虎豹别墅.']\",\n",
       "       \"['Photo by pixbykm on May 03', '2011.']\",\n",
       "       \"['Photo by Belinda Tan in Esplanade – Theatres on the Bay.']\",\n",
       "       \"['1 person.']\", nan, \"['Photo by Jaclynn Seah in 虎豹别墅.']\",\n",
       "       \"['1 person.']\",\n",
       "       \"['Photo by Belinda Tan in Marina Bay Waterfront Promenade.']\",\n",
       "       nan, \"['1 person.']\", \"['Photo by Phy 🌈 on April 23', '2011.']\",\n",
       "       \"['Photo by vanzephyr on May 11', '2011.']\",\n",
       "       \"['Photo by Belinda Tan in The Substation.']\",\n",
       "       \"['Photo by Keith Teoh on June 02', '2011.']\",\n",
       "       \"['Photo by Belinda Tan in 养记鱼头 Smith Street Hawker Center Chinatown.']\",\n",
       "       \"['kitchen', 'indoor', 'food.']\",\n",
       "       \"['Photo by Belinda Tan in The Coliseum@Hard Rock Hotel', 'Resorts World', 'Sentosa.']\",\n",
       "       \"['sky', 'cloud', 'outdoor', 'water', 'nature.']\",\n",
       "       \"['Photo by Singapore Street Art in Jalan Klapa.']\", nan,\n",
       "       \"['cloud', 'sky', 'bicycle', 'outdoor', 'water.']\", nan,\n",
       "       \"['Photo by Belinda Tan in Clarke Quay.']\",\n",
       "       \"['Photo by 无名 on July 23', '2015.']\",\n",
       "       \"['Photo by GO on June 05', '2011.']\", \"['2 people.']\",\n",
       "       \"['Photo shared by SUNDALRELLAXV on April 02', '2015 tagging @todayweexplore', '@global_bangers', '@illgrammers', '@meistershots', '@singaporeinsiders', '@visualmenace', '', '@singapore2020.']\",\n",
       "       \"['Photo by Belinda Tan in Bedok Interchange Hawker Center.']\",\n",
       "       \"['plant', 'tree', 'sky', 'outdoor', 'water.']\",\n",
       "       \"['Photo by Belinda Tan in 虎豹别墅.']\",\n",
       "       \"['Photo by Jaclynn Seah on July 13', '2014.']\", nan,\n",
       "       \"['Photo shared by @saslwp on October 09', '2020 tagging @iluvsg', '@orientfoto', '@natgeoyourshot', '@singaporelifes', '@natgeoasia', '@whatissingapore', '@singapore.explores', '', '@tedssingapore.']\"],\n",
       "      dtype=object)"
      ]
     },
     "execution_count": 55,
     "metadata": {},
     "output_type": "execute_result"
    }
   ],
   "source": [
    "# take a closer look at topic tags\n",
    "df_insta[\"topic_tags\"][:35].values"
   ]
  },
  {
   "cell_type": "markdown",
   "metadata": {},
   "source": [
    "Studying the topic tags in comparison to other features revealed a few patterns.\n",
    "- Topic tags may describe the number of people present in the instagram post. For example, `1 person` or `2 people` etc. These are generally not useful to understanding the content of the post.\n",
    "- Topic tags also aggregated information about the post, such as the medium, author, location, and date. These are captured and aggregated as a string in the format: `{Medium} by {Author} on {Date} in {Location}.`, or i.e. `Photo by Ah Huat on Oct 10, 2020 in Clarke Quay.`. They are repeat information already recorded elsewhere in their respective columns in the DataFrame and are not useful.\n",
    "- Topic tags may also describe the themes present in the post, such as `'sky', 'cloud', 'outdoor', 'water', 'nature.'`. These tags are useful as they categorises the posts for us.\n",
    "- Topic tags may also include instagram tags to other instagram accounts, such as `@best.friend` and are prefixed by the \"@\" character. These tags are useful as they indicate the association desired/expressed by the author."
   ]
  },
  {
   "cell_type": "code",
   "execution_count": 56,
   "metadata": {},
   "outputs": [
    {
     "data": {
      "text/plain": [
       "(14531, 22)"
      ]
     },
     "execution_count": 56,
     "metadata": {},
     "output_type": "execute_result"
    }
   ],
   "source": [
    "# extract @tags\n",
    "# convert returned multi-index into space-separated words\n",
    "# assign to new col\n",
    "df_insta[\"at_tags\"] = df_insta[\"topic_tags\"].str.lower().str.extractall(\"(\\@\\w+.?\\w+)\").groupby(level=0)[0].apply(lambda x: \" \".join(x))\n",
    "df_insta.shape # verify new col added"
   ]
  },
  {
   "cell_type": "code",
   "execution_count": 57,
   "metadata": {
    "scrolled": true
   },
   "outputs": [
    {
     "name": "stderr",
     "output_type": "stream",
     "text": [
      "C:\\Users\\yewto\\anaconda3\\lib\\site-packages\\pandas\\core\\strings.py:1954: UserWarning: This pattern has match groups. To actually get the groups, use str.extract.\n",
      "  return func(self, *args, **kwargs)\n"
     ]
    },
    {
     "data": {
      "text/plain": [
       "1                                              ['indoor.']\n",
       "17                          ['kitchen', 'indoor', 'food.']\n",
       "19         ['sky', 'cloud', 'outdoor', 'water', 'nature.']\n",
       "22        ['cloud', 'sky', 'bicycle', 'outdoor', 'water.']\n",
       "30           ['plant', 'tree', 'sky', 'outdoor', 'water.']\n",
       "                               ...                        \n",
       "14520                                            ['food.']\n",
       "14521                                ['night', 'outdoor.']\n",
       "14526          [\"text that says 'BIRTHDAY GIVEAWAY ctm'.\"]\n",
       "14527                                          ['indoor.']\n",
       "14530    ['sky', 'cloud', 'tree', 'plant', 'bridge', 'o...\n",
       "Name: topic_tags, Length: 5349, dtype: object"
      ]
     },
     "execution_count": 57,
     "metadata": {},
     "output_type": "execute_result"
    }
   ],
   "source": [
    "# find all topic tags that include the 4 words that indicate posts we do not want\n",
    "# returned boolean masks include missing values because of missing topic tag values\n",
    "not_useful = df_insta[\"topic_tags\"].str.contains(\"(Photo)|(Video)|(person)|(people)\")\n",
    "\n",
    "# missing topic tags are also not useful, impute missing boolean mask values as such\n",
    "not_useful.fillna(True, inplace=True)\n",
    "df_insta[~not_useful][\"topic_tags\"] # view topic tags that are useful"
   ]
  },
  {
   "cell_type": "code",
   "execution_count": 58,
   "metadata": {},
   "outputs": [
    {
     "data": {
      "text/plain": [
       "(14531, 23)"
      ]
     },
     "execution_count": 58,
     "metadata": {},
     "output_type": "execute_result"
    }
   ],
   "source": [
    "# save out space-separated useful tags\n",
    "df_insta[\"useful_tags\"] = df_insta.loc[~not_useful, \"topic_tags\"].str.lower().str.extractall(r\"(?<!@)(\\b\\w+)\").groupby(level=0)[0].apply(lambda x: \" \".join(x))\n",
    "df_insta.shape # verify new col added"
   ]
  },
  {
   "cell_type": "code",
   "execution_count": 59,
   "metadata": {},
   "outputs": [
    {
     "data": {
      "text/plain": [
       "(14531, 24)"
      ]
     },
     "execution_count": 59,
     "metadata": {},
     "output_type": "execute_result"
    }
   ],
   "source": [
    "# join string if there are both @tags and useful tags\n",
    "mask = df_insta[\"at_tags\"].notnull() & df_insta[\"useful_tags\"].notnull()\n",
    "df_insta.loc[mask, \"tags\"] = df_insta.loc[mask, \"useful_tags\"] + \" \" + df_insta.loc[mask, \"at_tags\"]\n",
    "\n",
    "# add useful tags if they are the only tags present\n",
    "mask = df_insta[\"at_tags\"].isnull() & df_insta[\"useful_tags\"].notnull()\n",
    "df_insta.loc[mask, \"tags\"] = df_insta.loc[mask, \"useful_tags\"]\n",
    "\n",
    "# add at tags if they are the only tags present\n",
    "mask = df_insta[\"at_tags\"].notnull() & df_insta[\"useful_tags\"].isnull()\n",
    "df_insta.loc[mask, \"tags\"] = df_insta.loc[mask, \"at_tags\"]\n",
    "\n",
    "df_insta.shape # verify new col added"
   ]
  },
  {
   "cell_type": "code",
   "execution_count": 60,
   "metadata": {},
   "outputs": [
    {
     "name": "stdout",
     "output_type": "stream",
     "text": [
      "<class 'pandas.core.frame.DataFrame'>\n",
      "RangeIndex: 14531 entries, 0 to 14530\n",
      "Data columns (total 24 columns):\n",
      " #   Column                    Non-Null Count  Dtype         \n",
      "---  ------                    --------------  -----         \n",
      " 0   post_id                   14531 non-null  int64         \n",
      " 1   post_slug                 14531 non-null  object        \n",
      " 2   unix_time                 14531 non-null  int64         \n",
      " 3   date_time                 14531 non-null  datetime64[ns]\n",
      " 4   post_caption              14485 non-null  object        \n",
      " 5   hashtags                  12650 non-null  object        \n",
      " 6   topic_tags                10819 non-null  object        \n",
      " 7   is_video                  14531 non-null  bool          \n",
      " 8   is_ad                     14531 non-null  bool          \n",
      " 9   post_likes                14531 non-null  int64         \n",
      " 10  geo_tag                   10032 non-null  object        \n",
      " 11  geo_slug                  9963 non-null   object        \n",
      " 12  owner_id                  14531 non-null  int64         \n",
      " 13  owner_verified            14531 non-null  bool          \n",
      " 14  owner_privacy             14531 non-null  bool          \n",
      " 15  owner_unpublished         14531 non-null  bool          \n",
      " 16  owner_total_posts         14531 non-null  int64         \n",
      " 17  owner_total_followers     14531 non-null  int64         \n",
      " 18  post_caption_clean        14531 non-null  object        \n",
      " 19  post_caption_drop_target  14531 non-null  object        \n",
      " 20  post_caption_drop_hash    13625 non-null  object        \n",
      " 21  at_tags                   565 non-null    object        \n",
      " 22  useful_tags               5349 non-null   object        \n",
      " 23  tags                      5860 non-null   object        \n",
      "dtypes: bool(5), datetime64[ns](1), int64(6), object(12)\n",
      "memory usage: 2.2+ MB\n"
     ]
    }
   ],
   "source": [
    "df_insta.info()"
   ]
  },
  {
   "cell_type": "code",
   "execution_count": 61,
   "metadata": {},
   "outputs": [
    {
     "name": "stdout",
     "output_type": "stream",
     "text": [
      "No. of posts without text: 0\n"
     ]
    },
    {
     "data": {
      "text/html": [
       "<div>\n",
       "<style scoped>\n",
       "    .dataframe tbody tr th:only-of-type {\n",
       "        vertical-align: middle;\n",
       "    }\n",
       "\n",
       "    .dataframe tbody tr th {\n",
       "        vertical-align: top;\n",
       "    }\n",
       "\n",
       "    .dataframe thead th {\n",
       "        text-align: right;\n",
       "    }\n",
       "</style>\n",
       "<table border=\"1\" class=\"dataframe\">\n",
       "  <thead>\n",
       "    <tr style=\"text-align: right;\">\n",
       "      <th></th>\n",
       "      <th>post_id</th>\n",
       "      <th>post_slug</th>\n",
       "      <th>unix_time</th>\n",
       "      <th>date_time</th>\n",
       "      <th>post_caption</th>\n",
       "      <th>hashtags</th>\n",
       "      <th>topic_tags</th>\n",
       "      <th>is_video</th>\n",
       "      <th>is_ad</th>\n",
       "      <th>post_likes</th>\n",
       "      <th>...</th>\n",
       "      <th>owner_privacy</th>\n",
       "      <th>owner_unpublished</th>\n",
       "      <th>owner_total_posts</th>\n",
       "      <th>owner_total_followers</th>\n",
       "      <th>post_caption_clean</th>\n",
       "      <th>post_caption_drop_target</th>\n",
       "      <th>post_caption_drop_hash</th>\n",
       "      <th>at_tags</th>\n",
       "      <th>useful_tags</th>\n",
       "      <th>tags</th>\n",
       "    </tr>\n",
       "  </thead>\n",
       "  <tbody>\n",
       "  </tbody>\n",
       "</table>\n",
       "<p>0 rows × 24 columns</p>\n",
       "</div>"
      ],
      "text/plain": [
       "Empty DataFrame\n",
       "Columns: [post_id, post_slug, unix_time, date_time, post_caption, hashtags, topic_tags, is_video, is_ad, post_likes, geo_tag, geo_slug, owner_id, owner_verified, owner_privacy, owner_unpublished, owner_total_posts, owner_total_followers, post_caption_clean, post_caption_drop_target, post_caption_drop_hash, at_tags, useful_tags, tags]\n",
       "Index: []\n",
       "\n",
       "[0 rows x 24 columns]"
      ]
     },
     "execution_count": 61,
     "metadata": {},
     "output_type": "execute_result"
    }
   ],
   "source": [
    "# after cleaning up topic tags and post captions, there are now less text than before\n",
    "# are there now more posts without NLP features?\n",
    "\n",
    "no_nlp = set(df_insta[df_insta[\"tags\"].isnull()][\"post_id\"]).intersection(set(df_insta[df_insta[\"post_caption_drop_target\"].isnull()][\"post_id\"]))\n",
    "no_nlp = df_insta[\"post_id\"].isin(no_nlp)\n",
    "print(\"No. of posts without text:\", len(df_insta[no_nlp]))\n",
    "df_insta[no_nlp]"
   ]
  },
  {
   "cell_type": "code",
   "execution_count": 62,
   "metadata": {},
   "outputs": [
    {
     "data": {
      "text/plain": [
       "(14531, 24)"
      ]
     },
     "execution_count": 62,
     "metadata": {},
     "output_type": "execute_result"
    }
   ],
   "source": [
    "# there are only 43 posts without text, which is a small subset of our data\n",
    "# let's drop these posts\n",
    "df_insta.drop(df_insta[no_nlp].index, inplace=True)\n",
    "df_insta.shape"
   ]
  },
  {
   "cell_type": "markdown",
   "metadata": {},
   "source": [
    "#### Merge NLP Features"
   ]
  },
  {
   "cell_type": "code",
   "execution_count": 63,
   "metadata": {},
   "outputs": [],
   "source": [
    "# merge all NLP features for each post into a single col"
   ]
  },
  {
   "cell_type": "code",
   "execution_count": 64,
   "metadata": {},
   "outputs": [
    {
     "data": {
      "text/plain": [
       "(14531, 25)"
      ]
     },
     "execution_count": 64,
     "metadata": {},
     "output_type": "execute_result"
    }
   ],
   "source": [
    "# join string if there are both tags and captions\n",
    "mask = df_insta[\"post_caption_clean\"].notnull() & df_insta[\"tags\"].notnull()\n",
    "df_insta.loc[mask, \"content\"] = df_insta.loc[mask, \"post_caption_clean\"] + \" \" + df_insta.loc[mask, \"tags\"]\n",
    "\n",
    "# add tags if they are the only NLP feature present\n",
    "mask = df_insta[\"post_caption_clean\"].isnull() & df_insta[\"tags\"].notnull()\n",
    "df_insta.loc[mask, \"content\"] = df_insta.loc[mask, \"tags\"]\n",
    "\n",
    "# add captions if they are the only NLP feature present\n",
    "mask = df_insta[\"post_caption_clean\"].notnull() & df_insta[\"tags\"].isnull()\n",
    "df_insta.loc[mask, \"content\"] = df_insta.loc[mask, \"post_caption_clean\"]\n",
    "\n",
    "df_insta.shape # verify new col added"
   ]
  },
  {
   "cell_type": "code",
   "execution_count": 65,
   "metadata": {},
   "outputs": [
    {
     "data": {
      "text/plain": [
       "0"
      ]
     },
     "execution_count": 65,
     "metadata": {},
     "output_type": "execute_result"
    }
   ],
   "source": [
    "df_insta[\"content\"].isnull().sum() # verify that there are all remaining posts come with text content"
   ]
  },
  {
   "cell_type": "markdown",
   "metadata": {},
   "source": [
    "#### Missing Locations"
   ]
  },
  {
   "cell_type": "code",
   "execution_count": 66,
   "metadata": {},
   "outputs": [
    {
     "data": {
      "text/plain": [
       "4499"
      ]
     },
     "execution_count": 66,
     "metadata": {},
     "output_type": "execute_result"
    }
   ],
   "source": [
    "df_insta[\"geo_tag\"].isnull().sum()"
   ]
  },
  {
   "cell_type": "code",
   "execution_count": 67,
   "metadata": {},
   "outputs": [
    {
     "data": {
      "text/plain": [
       "4568"
      ]
     },
     "execution_count": 67,
     "metadata": {},
     "output_type": "execute_result"
    }
   ],
   "source": [
    "df_insta[\"geo_slug\"].isnull().sum()"
   ]
  },
  {
   "cell_type": "code",
   "execution_count": 68,
   "metadata": {},
   "outputs": [
    {
     "data": {
      "text/plain": [
       "set()"
      ]
     },
     "execution_count": 68,
     "metadata": {},
     "output_type": "execute_result"
    }
   ],
   "source": [
    "# geo tags provide explicit information about the location and are therefore more important\n",
    "# are there any missing geo tag data with a present geo slug for us to infer and impute from?\n",
    "set(df_insta[df_insta[\"geo_tag\"].isnull()][\"post_id\"]).difference(set(df_insta[df_insta[\"geo_slug\"].isnull()][\"post_id\"]))"
   ]
  },
  {
   "cell_type": "code",
   "execution_count": 69,
   "metadata": {},
   "outputs": [],
   "source": [
    "# empty set returned, therefore all posts with missing geo tags also have missing geo slugs\n",
    "# imputation is not possible by inferring from geo slugs"
   ]
  },
  {
   "cell_type": "code",
   "execution_count": 70,
   "metadata": {},
   "outputs": [
    {
     "data": {
      "text/html": [
       "<div>\n",
       "<style scoped>\n",
       "    .dataframe tbody tr th:only-of-type {\n",
       "        vertical-align: middle;\n",
       "    }\n",
       "\n",
       "    .dataframe tbody tr th {\n",
       "        vertical-align: top;\n",
       "    }\n",
       "\n",
       "    .dataframe thead th {\n",
       "        text-align: right;\n",
       "    }\n",
       "</style>\n",
       "<table border=\"1\" class=\"dataframe\">\n",
       "  <thead>\n",
       "    <tr style=\"text-align: right;\">\n",
       "      <th></th>\n",
       "      <th>post_caption</th>\n",
       "      <th>topic_tags</th>\n",
       "      <th>geo_tag</th>\n",
       "    </tr>\n",
       "  </thead>\n",
       "  <tbody>\n",
       "    <tr>\n",
       "      <th>3</th>\n",
       "      <td>Coffeeshop talk....</td>\n",
       "      <td>['Photo by pixbykm on May 03', '2011.']</td>\n",
       "      <td>NaN</td>\n",
       "    </tr>\n",
       "    <tr>\n",
       "      <th>10</th>\n",
       "      <td>We see the city in a different light. We see t...</td>\n",
       "      <td>NaN</td>\n",
       "      <td>NaN</td>\n",
       "    </tr>\n",
       "    <tr>\n",
       "      <th>12</th>\n",
       "      <td>#singapore cityscape. I was lucky to capture t...</td>\n",
       "      <td>['Photo by Phy 🌈 on April 23', '2011.']</td>\n",
       "      <td>NaN</td>\n",
       "    </tr>\n",
       "    <tr>\n",
       "      <th>13</th>\n",
       "      <td>人去楼空 Everybody is gone.</td>\n",
       "      <td>['Photo by vanzephyr on May 11', '2011.']</td>\n",
       "      <td>NaN</td>\n",
       "    </tr>\n",
       "    <tr>\n",
       "      <th>15</th>\n",
       "      <td>#window#nightlights#bokeh</td>\n",
       "      <td>['Photo by Keith Teoh on June 02', '2011.']</td>\n",
       "      <td>NaN</td>\n",
       "    </tr>\n",
       "    <tr>\n",
       "      <th>...</th>\n",
       "      <td>...</td>\n",
       "      <td>...</td>\n",
       "      <td>...</td>\n",
       "    </tr>\n",
       "    <tr>\n",
       "      <th>14517</th>\n",
       "      <td>Who knew a mere thrift shop could be a cool pl...</td>\n",
       "      <td>['one or more people', 'people st', 'ing', 'we...</td>\n",
       "      <td>NaN</td>\n",
       "    </tr>\n",
       "    <tr>\n",
       "      <th>14520</th>\n",
       "      <td>Bursting ondeh ondeh. Making the coconut was h...</td>\n",
       "      <td>['food.']</td>\n",
       "      <td>NaN</td>\n",
       "    </tr>\n",
       "    <tr>\n",
       "      <th>14524</th>\n",
       "      <td>On the Little India Heritage Trail with our wo...</td>\n",
       "      <td>['2 people', 'outdoor', \"text that says 'LITTL...</td>\n",
       "      <td>NaN</td>\n",
       "    </tr>\n",
       "    <tr>\n",
       "      <th>14526</th>\n",
       "      <td>[GIVEAWAY] It's our 47th birthday next Tuesday...</td>\n",
       "      <td>[\"text that says 'BIRTHDAY GIVEAWAY ctm'.\"]</td>\n",
       "      <td>NaN</td>\n",
       "    </tr>\n",
       "    <tr>\n",
       "      <th>14529</th>\n",
       "      <td>Lake\\n.\\n.\\n.\\n.\\n.\\n. \\n.\\n.\\n.\\n.\\n.\\n.\\n#So...</td>\n",
       "      <td>['one or more people', 'outdoor', 'water', 'na...</td>\n",
       "      <td>NaN</td>\n",
       "    </tr>\n",
       "  </tbody>\n",
       "</table>\n",
       "<p>4499 rows × 3 columns</p>\n",
       "</div>"
      ],
      "text/plain": [
       "                                            post_caption  \\\n",
       "3                                    Coffeeshop talk....   \n",
       "10     We see the city in a different light. We see t...   \n",
       "12     #singapore cityscape. I was lucky to capture t...   \n",
       "13                               人去楼空 Everybody is gone.   \n",
       "15                             #window#nightlights#bokeh   \n",
       "...                                                  ...   \n",
       "14517  Who knew a mere thrift shop could be a cool pl...   \n",
       "14520  Bursting ondeh ondeh. Making the coconut was h...   \n",
       "14524  On the Little India Heritage Trail with our wo...   \n",
       "14526  [GIVEAWAY] It's our 47th birthday next Tuesday...   \n",
       "14529  Lake\\n.\\n.\\n.\\n.\\n.\\n. \\n.\\n.\\n.\\n.\\n.\\n.\\n#So...   \n",
       "\n",
       "                                              topic_tags geo_tag  \n",
       "3                ['Photo by pixbykm on May 03', '2011.']     NaN  \n",
       "10                                                   NaN     NaN  \n",
       "12               ['Photo by Phy 🌈 on April 23', '2011.']     NaN  \n",
       "13             ['Photo by vanzephyr on May 11', '2011.']     NaN  \n",
       "15           ['Photo by Keith Teoh on June 02', '2011.']     NaN  \n",
       "...                                                  ...     ...  \n",
       "14517  ['one or more people', 'people st', 'ing', 'we...     NaN  \n",
       "14520                                          ['food.']     NaN  \n",
       "14524  ['2 people', 'outdoor', \"text that says 'LITTL...     NaN  \n",
       "14526        [\"text that says 'BIRTHDAY GIVEAWAY ctm'.\"]     NaN  \n",
       "14529  ['one or more people', 'outdoor', 'water', 'na...     NaN  \n",
       "\n",
       "[4499 rows x 3 columns]"
      ]
     },
     "execution_count": 70,
     "metadata": {},
     "output_type": "execute_result"
    }
   ],
   "source": [
    "df_insta[df_insta[\"geo_tag\"].isnull()][[\"post_caption\", \"topic_tags\", \"geo_tag\"]]"
   ]
  },
  {
   "cell_type": "markdown",
   "metadata": {},
   "source": [
    "#### Select Instagram Posts"
   ]
  },
  {
   "cell_type": "markdown",
   "metadata": {},
   "source": [
    "Since we hypothesise that Instagram posts can reveal to us the local public's explicit understanding of domestic tourism, we should therefore be selective of the Instagram posts that we train our model on. For example, we should cut out noise from paid advertisement posts on Instagram or posts from corporations' Instagram account. Advertisements serve only to sell us a product/image/service and may sometimes miss the mark about what we want."
   ]
  },
  {
   "cell_type": "code",
   "execution_count": 72,
   "metadata": {},
   "outputs": [
    {
     "data": {
      "text/plain": [
       "Index(['post_id', 'post_slug', 'unix_time', 'date_time', 'post_caption',\n",
       "       'hashtags', 'topic_tags', 'is_video', 'is_ad', 'post_likes', 'geo_tag',\n",
       "       'geo_slug', 'owner_id', 'owner_verified', 'owner_privacy',\n",
       "       'owner_unpublished', 'owner_total_posts', 'owner_total_followers',\n",
       "       'post_caption_clean', 'post_caption_drop_target',\n",
       "       'post_caption_drop_hash', 'at_tags', 'useful_tags', 'tags', 'content'],\n",
       "      dtype='object')"
      ]
     },
     "execution_count": 72,
     "metadata": {},
     "output_type": "execute_result"
    }
   ],
   "source": [
    "df_insta.columns"
   ]
  },
  {
   "cell_type": "code",
   "execution_count": 73,
   "metadata": {},
   "outputs": [
    {
     "data": {
      "text/plain": [
       "False    14531\n",
       "Name: is_ad, dtype: int64"
      ]
     },
     "execution_count": 73,
     "metadata": {},
     "output_type": "execute_result"
    }
   ],
   "source": [
    "df_insta[\"is_ad\"].value_counts() # find posts that are paid-for advertising"
   ]
  },
  {
   "cell_type": "code",
   "execution_count": 74,
   "metadata": {},
   "outputs": [],
   "source": [
    "# since it is highly unlikely that none of the posts scraped were advertisements borrowing the target hashtags\n",
    "# the \"is_ad\" data scraped from instagram appears to be defunct/not updated"
   ]
  },
  {
   "cell_type": "code",
   "execution_count": 75,
   "metadata": {},
   "outputs": [
    {
     "data": {
      "text/plain": [
       "False    14256\n",
       "True       275\n",
       "Name: owner_verified, dtype: int64"
      ]
     },
     "execution_count": 75,
     "metadata": {},
     "output_type": "execute_result"
    }
   ],
   "source": [
    "df_insta[\"owner_verified\"].value_counts() # find posts whose owner are verified"
   ]
  },
  {
   "cell_type": "code",
   "execution_count": 76,
   "metadata": {},
   "outputs": [
    {
     "data": {
      "text/html": [
       "<div>\n",
       "<style scoped>\n",
       "    .dataframe tbody tr th:only-of-type {\n",
       "        vertical-align: middle;\n",
       "    }\n",
       "\n",
       "    .dataframe tbody tr th {\n",
       "        vertical-align: top;\n",
       "    }\n",
       "\n",
       "    .dataframe thead th {\n",
       "        text-align: right;\n",
       "    }\n",
       "</style>\n",
       "<table border=\"1\" class=\"dataframe\">\n",
       "  <thead>\n",
       "    <tr style=\"text-align: right;\">\n",
       "      <th></th>\n",
       "      <th>content</th>\n",
       "      <th>hashtags</th>\n",
       "    </tr>\n",
       "  </thead>\n",
       "  <tbody>\n",
       "    <tr>\n",
       "      <th>171</th>\n",
       "      <td>checked new apple store town first floating ap...</td>\n",
       "      <td>['#jetstarasia', '#singapore', '#visitsingapor...</td>\n",
       "    </tr>\n",
       "    <tr>\n",
       "      <th>554</th>\n",
       "      <td>new permanent galleries #nationalmuseumofsinga...</td>\n",
       "      <td>['#nationalmuseumofsingapore', '#repost', '#na...</td>\n",
       "    </tr>\n",
       "    <tr>\n",
       "      <th>816</th>\n",
       "      <td>plans weekend treat staycay deserve rediscover...</td>\n",
       "      <td>['#jetstarasia', '#singapore', '#staycation', ...</td>\n",
       "    </tr>\n",
       "    <tr>\n",
       "      <th>898</th>\n",
       "      <td>yup got tank #nationalmuseumsg #repost bellael...</td>\n",
       "      <td>['#nationalmuseumsg', '#repost', '#nationalmus...</td>\n",
       "    </tr>\n",
       "    <tr>\n",
       "      <th>1034</th>\n",
       "      <td>back turn staycation vibes fulfil summer daydr...</td>\n",
       "      <td>['#fourpointssingapore', '#fourpointssg', '#fo...</td>\n",
       "    </tr>\n",
       "    <tr>\n",
       "      <th>...</th>\n",
       "      <td>...</td>\n",
       "      <td>...</td>\n",
       "    </tr>\n",
       "    <tr>\n",
       "      <th>14358</th>\n",
       "      <td>take break hectic everyday soothed sights soun...</td>\n",
       "      <td>['', '#safesingapore']</td>\n",
       "    </tr>\n",
       "    <tr>\n",
       "      <th>14370</th>\n",
       "      <td>rediscover family time away routine whether it...</td>\n",
       "      <td>['', '#safesingapore']</td>\n",
       "    </tr>\n",
       "    <tr>\n",
       "      <th>14441</th>\n",
       "      <td>heard sling know origin cocktailstep back time...</td>\n",
       "      <td>['#tripflashsale', '#tripsg', '', '#rafflessin...</td>\n",
       "    </tr>\n",
       "    <tr>\n",
       "      <th>14453</th>\n",
       "      <td>need ideas weekend find explore don’t forget p...</td>\n",
       "      <td>['#safesingapore', '']</td>\n",
       "    </tr>\n",
       "    <tr>\n",
       "      <th>14459</th>\n",
       "      <td>tucked away chic neighbourhood full vibes perf...</td>\n",
       "      <td>['#klook', '#klooksg', '#klooktravel', '#yours...</td>\n",
       "    </tr>\n",
       "  </tbody>\n",
       "</table>\n",
       "<p>275 rows × 2 columns</p>\n",
       "</div>"
      ],
      "text/plain": [
       "                                                 content  \\\n",
       "171    checked new apple store town first floating ap...   \n",
       "554    new permanent galleries #nationalmuseumofsinga...   \n",
       "816    plans weekend treat staycay deserve rediscover...   \n",
       "898    yup got tank #nationalmuseumsg #repost bellael...   \n",
       "1034   back turn staycation vibes fulfil summer daydr...   \n",
       "...                                                  ...   \n",
       "14358  take break hectic everyday soothed sights soun...   \n",
       "14370  rediscover family time away routine whether it...   \n",
       "14441  heard sling know origin cocktailstep back time...   \n",
       "14453  need ideas weekend find explore don’t forget p...   \n",
       "14459  tucked away chic neighbourhood full vibes perf...   \n",
       "\n",
       "                                                hashtags  \n",
       "171    ['#jetstarasia', '#singapore', '#visitsingapor...  \n",
       "554    ['#nationalmuseumofsingapore', '#repost', '#na...  \n",
       "816    ['#jetstarasia', '#singapore', '#staycation', ...  \n",
       "898    ['#nationalmuseumsg', '#repost', '#nationalmus...  \n",
       "1034   ['#fourpointssingapore', '#fourpointssg', '#fo...  \n",
       "...                                                  ...  \n",
       "14358                             ['', '#safesingapore']  \n",
       "14370                             ['', '#safesingapore']  \n",
       "14441  ['#tripflashsale', '#tripsg', '', '#rafflessin...  \n",
       "14453                             ['#safesingapore', '']  \n",
       "14459  ['#klook', '#klooksg', '#klooktravel', '#yours...  \n",
       "\n",
       "[275 rows x 2 columns]"
      ]
     },
     "execution_count": 76,
     "metadata": {},
     "output_type": "execute_result"
    }
   ],
   "source": [
    "# glimpse of verified posts\n",
    "df_insta[df_insta[\"owner_verified\"]][[\"content\", \"hashtags\"]]"
   ]
  },
  {
   "cell_type": "code",
   "execution_count": 77,
   "metadata": {},
   "outputs": [],
   "source": [
    "# there are probably still more advertisements apart from these found\n",
    "# but this is the most straightforward way to filter out the noise from advertising\n",
    "# for example, there would probably still be advertising posts from (micro) influencers that are unverified"
   ]
  },
  {
   "cell_type": "code",
   "execution_count": 78,
   "metadata": {},
   "outputs": [
    {
     "data": {
      "text/plain": [
       "(14256, 25)"
      ]
     },
     "execution_count": 78,
     "metadata": {},
     "output_type": "execute_result"
    }
   ],
   "source": [
    "df_insta_sel = df_insta[~df_insta[\"owner_verified\"]]\n",
    "df_insta_sel.shape # shape of selected insta posts"
   ]
  },
  {
   "cell_type": "code",
   "execution_count": 79,
   "metadata": {},
   "outputs": [],
   "source": [
    "df_insta_sel.reset_index(drop=True, inplace=True) # ensure index is reset"
   ]
  },
  {
   "cell_type": "code",
   "execution_count": 80,
   "metadata": {},
   "outputs": [],
   "source": [
    "# save out merged df\n",
    "df_insta_sel.to_csv(\"../datasets/df_insta_sel.csv\", index=False)"
   ]
  },
  {
   "cell_type": "markdown",
   "metadata": {},
   "source": [
    "### YouTube Videos"
   ]
  },
  {
   "cell_type": "markdown",
   "metadata": {},
   "source": [
    "#### Georgia Caney Scrapes"
   ]
  },
  {
   "cell_type": "code",
   "execution_count": 86,
   "metadata": {},
   "outputs": [
    {
     "data": {
      "text/plain": [
       "(310, 8)"
      ]
     },
     "execution_count": 86,
     "metadata": {},
     "output_type": "execute_result"
    }
   ],
   "source": [
    "df_yt_georgia = pd.read_csv(\"../datasets/df_yt_georgia_2020-10-17.csv\")\n",
    "df_yt_georgia.shape"
   ]
  },
  {
   "cell_type": "code",
   "execution_count": 87,
   "metadata": {},
   "outputs": [
    {
     "data": {
      "text/html": [
       "<div>\n",
       "<style scoped>\n",
       "    .dataframe tbody tr th:only-of-type {\n",
       "        vertical-align: middle;\n",
       "    }\n",
       "\n",
       "    .dataframe tbody tr th {\n",
       "        vertical-align: top;\n",
       "    }\n",
       "\n",
       "    .dataframe thead th {\n",
       "        text-align: right;\n",
       "    }\n",
       "</style>\n",
       "<table border=\"1\" class=\"dataframe\">\n",
       "  <thead>\n",
       "    <tr style=\"text-align: right;\">\n",
       "      <th></th>\n",
       "      <th>video_title</th>\n",
       "      <th>video_caption</th>\n",
       "      <th>date_time</th>\n",
       "      <th>video_slug</th>\n",
       "      <th>video_views</th>\n",
       "      <th>video_likes</th>\n",
       "      <th>video_dislikes</th>\n",
       "      <th>video_comments</th>\n",
       "    </tr>\n",
       "  </thead>\n",
       "  <tbody>\n",
       "    <tr>\n",
       "      <th>0</th>\n",
       "      <td>HALLOWEEN HORROR NIGHTS 8 AT UNIVERSAL STUDIOS! 👻</td>\n",
       "      <td>['UNIVERSAL HALLOWEEN HORROR NIGHTS 8! 👻\\n\\nHa...</td>\n",
       "      <td>31 Oct 2018</td>\n",
       "      <td>7xkdm3c4Ks8</td>\n",
       "      <td>8,766 views</td>\n",
       "      <td>271</td>\n",
       "      <td>3</td>\n",
       "      <td>18 Comments</td>\n",
       "    </tr>\n",
       "    <tr>\n",
       "      <th>1</th>\n",
       "      <td>HUGE FEBRUARY HAUL | MONKI &amp;  ROMWE</td>\n",
       "      <td>['FOLLOW ME!!\\nBLOG LOVIN: ', 'http://www.blog...</td>\n",
       "      <td>28 Feb 2016</td>\n",
       "      <td>uBRHR9zK3mk</td>\n",
       "      <td>16,049 views</td>\n",
       "      <td>312</td>\n",
       "      <td>5</td>\n",
       "      <td>NaN</td>\n",
       "    </tr>\n",
       "    <tr>\n",
       "      <th>2</th>\n",
       "      <td>Eating the BEST rated PRATA in SINGAPORE! 🇸🇬 *...</td>\n",
       "      <td>['Eating the BEST rated PRATA in SINGAPORE! 🇸🇬...</td>\n",
       "      <td>17 Nov 2019</td>\n",
       "      <td>b-ppBtSiG38</td>\n",
       "      <td>33,483 views</td>\n",
       "      <td>649</td>\n",
       "      <td>19</td>\n",
       "      <td>159 Comments</td>\n",
       "    </tr>\n",
       "  </tbody>\n",
       "</table>\n",
       "</div>"
      ],
      "text/plain": [
       "                                         video_title  \\\n",
       "0  HALLOWEEN HORROR NIGHTS 8 AT UNIVERSAL STUDIOS! 👻   \n",
       "1                HUGE FEBRUARY HAUL | MONKI &  ROMWE   \n",
       "2  Eating the BEST rated PRATA in SINGAPORE! 🇸🇬 *...   \n",
       "\n",
       "                                       video_caption    date_time  \\\n",
       "0  ['UNIVERSAL HALLOWEEN HORROR NIGHTS 8! 👻\\n\\nHa...  31 Oct 2018   \n",
       "1  ['FOLLOW ME!!\\nBLOG LOVIN: ', 'http://www.blog...  28 Feb 2016   \n",
       "2  ['Eating the BEST rated PRATA in SINGAPORE! 🇸🇬...  17 Nov 2019   \n",
       "\n",
       "    video_slug   video_views video_likes video_dislikes video_comments  \n",
       "0  7xkdm3c4Ks8   8,766 views         271              3    18 Comments  \n",
       "1  uBRHR9zK3mk  16,049 views         312              5            NaN  \n",
       "2  b-ppBtSiG38  33,483 views         649             19   159 Comments  "
      ]
     },
     "execution_count": 87,
     "metadata": {},
     "output_type": "execute_result"
    }
   ],
   "source": [
    "df_yt_georgia.head(3)"
   ]
  },
  {
   "cell_type": "code",
   "execution_count": 88,
   "metadata": {},
   "outputs": [
    {
     "data": {
      "text/plain": [
       "False    302\n",
       "True       8\n",
       "dtype: int64"
      ]
     },
     "execution_count": 88,
     "metadata": {},
     "output_type": "execute_result"
    }
   ],
   "source": [
    "# there are some duplicate scrapes\n",
    "df_yt_georgia.duplicated(keep=\"first\").value_counts()"
   ]
  },
  {
   "cell_type": "code",
   "execution_count": 89,
   "metadata": {},
   "outputs": [
    {
     "data": {
      "text/plain": [
       "(302, 8)"
      ]
     },
     "execution_count": 89,
     "metadata": {},
     "output_type": "execute_result"
    }
   ],
   "source": [
    "# drop duplicate scrapes\n",
    "df_yt_georgia = df_yt_georgia.drop(df_yt_georgia[df_yt_georgia.duplicated(keep=\"first\")].index)\n",
    "df_yt_georgia.shape"
   ]
  },
  {
   "cell_type": "code",
   "execution_count": 90,
   "metadata": {},
   "outputs": [
    {
     "name": "stdout",
     "output_type": "stream",
     "text": [
      "<class 'pandas.core.frame.DataFrame'>\n",
      "Int64Index: 302 entries, 0 to 309\n",
      "Data columns (total 8 columns):\n",
      " #   Column          Non-Null Count  Dtype \n",
      "---  ------          --------------  ----- \n",
      " 0   video_title     301 non-null    object\n",
      " 1   video_caption   301 non-null    object\n",
      " 2   date_time       301 non-null    object\n",
      " 3   video_slug      301 non-null    object\n",
      " 4   video_views     301 non-null    object\n",
      " 5   video_likes     299 non-null    object\n",
      " 6   video_dislikes  299 non-null    object\n",
      " 7   video_comments  294 non-null    object\n",
      "dtypes: object(8)\n",
      "memory usage: 21.2+ KB\n"
     ]
    }
   ],
   "source": [
    "df_yt_georgia.info() # some missing values"
   ]
  },
  {
   "cell_type": "code",
   "execution_count": 91,
   "metadata": {},
   "outputs": [
    {
     "data": {
      "text/html": [
       "<div>\n",
       "<style scoped>\n",
       "    .dataframe tbody tr th:only-of-type {\n",
       "        vertical-align: middle;\n",
       "    }\n",
       "\n",
       "    .dataframe tbody tr th {\n",
       "        vertical-align: top;\n",
       "    }\n",
       "\n",
       "    .dataframe thead th {\n",
       "        text-align: right;\n",
       "    }\n",
       "</style>\n",
       "<table border=\"1\" class=\"dataframe\">\n",
       "  <thead>\n",
       "    <tr style=\"text-align: right;\">\n",
       "      <th></th>\n",
       "      <th>video_title</th>\n",
       "      <th>video_caption</th>\n",
       "      <th>date_time</th>\n",
       "      <th>video_slug</th>\n",
       "      <th>video_views</th>\n",
       "      <th>video_likes</th>\n",
       "      <th>video_dislikes</th>\n",
       "      <th>video_comments</th>\n",
       "    </tr>\n",
       "  </thead>\n",
       "  <tbody>\n",
       "    <tr>\n",
       "      <th>27</th>\n",
       "      <td>NaN</td>\n",
       "      <td>NaN</td>\n",
       "      <td>NaN</td>\n",
       "      <td>NaN</td>\n",
       "      <td>NaN</td>\n",
       "      <td>NaN</td>\n",
       "      <td>NaN</td>\n",
       "      <td>NaN</td>\n",
       "    </tr>\n",
       "  </tbody>\n",
       "</table>\n",
       "</div>"
      ],
      "text/plain": [
       "   video_title video_caption date_time video_slug video_views video_likes  \\\n",
       "27         NaN           NaN       NaN        NaN         NaN         NaN   \n",
       "\n",
       "   video_dislikes video_comments  \n",
       "27            NaN            NaN  "
      ]
     },
     "execution_count": 91,
     "metadata": {},
     "output_type": "execute_result"
    }
   ],
   "source": [
    "df_yt_georgia[df_yt_georgia[\"date_time\"].isnull()] # found row(s) of missing values"
   ]
  },
  {
   "cell_type": "code",
   "execution_count": 92,
   "metadata": {},
   "outputs": [
    {
     "data": {
      "text/plain": [
       "(301, 8)"
      ]
     },
     "execution_count": 92,
     "metadata": {},
     "output_type": "execute_result"
    }
   ],
   "source": [
    "# remove rows with all missing values\n",
    "df_yt_georgia = df_yt_georgia.dropna(how=\"all\").reset_index(drop=True)\n",
    "df_yt_georgia.shape # verify 2 rows dropped"
   ]
  },
  {
   "cell_type": "markdown",
   "metadata": {},
   "source": [
    "#### Parse Dates"
   ]
  },
  {
   "cell_type": "code",
   "execution_count": 93,
   "metadata": {},
   "outputs": [
    {
     "name": "stdout",
     "output_type": "stream",
     "text": [
      "Premiered on 28 Aug 2019\n"
     ]
    }
   ],
   "source": [
    "# unable to convert col of dates to datetime objs\n",
    "# let's find the culprit\n",
    "for date in df_yt_georgia[\"date_time\"]:\n",
    "    try:\n",
    "        pd.to_datetime(date)\n",
    "    except:\n",
    "        print(date)"
   ]
  },
  {
   "cell_type": "code",
   "execution_count": 94,
   "metadata": {},
   "outputs": [
    {
     "data": {
      "text/html": [
       "<div>\n",
       "<style scoped>\n",
       "    .dataframe tbody tr th:only-of-type {\n",
       "        vertical-align: middle;\n",
       "    }\n",
       "\n",
       "    .dataframe tbody tr th {\n",
       "        vertical-align: top;\n",
       "    }\n",
       "\n",
       "    .dataframe thead th {\n",
       "        text-align: right;\n",
       "    }\n",
       "</style>\n",
       "<table border=\"1\" class=\"dataframe\">\n",
       "  <thead>\n",
       "    <tr style=\"text-align: right;\">\n",
       "      <th></th>\n",
       "      <th>video_title</th>\n",
       "      <th>video_caption</th>\n",
       "      <th>date_time</th>\n",
       "      <th>video_slug</th>\n",
       "      <th>video_views</th>\n",
       "      <th>video_likes</th>\n",
       "      <th>video_dislikes</th>\n",
       "      <th>video_comments</th>\n",
       "    </tr>\n",
       "  </thead>\n",
       "  <tbody>\n",
       "    <tr>\n",
       "      <th>194</th>\n",
       "      <td>Singaporean Eats My Western Diet For The Day! ...</td>\n",
       "      <td>['Singaporean Eats My British Diet For The Day...</td>\n",
       "      <td>Premiered on 28 Aug 2019</td>\n",
       "      <td>pVwhDPWmJS0</td>\n",
       "      <td>49,684 views</td>\n",
       "      <td>822</td>\n",
       "      <td>18</td>\n",
       "      <td>106 Comments</td>\n",
       "    </tr>\n",
       "  </tbody>\n",
       "</table>\n",
       "</div>"
      ],
      "text/plain": [
       "                                           video_title  \\\n",
       "194  Singaporean Eats My Western Diet For The Day! ...   \n",
       "\n",
       "                                         video_caption  \\\n",
       "194  ['Singaporean Eats My British Diet For The Day...   \n",
       "\n",
       "                    date_time   video_slug   video_views video_likes  \\\n",
       "194  Premiered on 28 Aug 2019  pVwhDPWmJS0  49,684 views         822   \n",
       "\n",
       "    video_dislikes video_comments  \n",
       "194             18   106 Comments  "
      ]
     },
     "execution_count": 94,
     "metadata": {},
     "output_type": "execute_result"
    }
   ],
   "source": [
    "mask = df_yt_georgia[\"date_time\"] == \"Premiered on 28 Aug 2019\" # find culprit\n",
    "df_yt_georgia[mask]"
   ]
  },
  {
   "cell_type": "code",
   "execution_count": 95,
   "metadata": {},
   "outputs": [],
   "source": [
    "# video is relevant to our project\n",
    "# unsure why date_time is of a different format from the usual but let's remedy it\n",
    "df_yt_georgia.loc[mask, \"date_time\"] = re.findall(\"\\d+\\s\\w+\\s\\d+\", df_yt_georgia.loc[mask, \"date_time\"].values[0])[0]"
   ]
  },
  {
   "cell_type": "code",
   "execution_count": 96,
   "metadata": {},
   "outputs": [
    {
     "name": "stdout",
     "output_type": "stream",
     "text": [
      "<class 'pandas.core.frame.DataFrame'>\n",
      "RangeIndex: 301 entries, 0 to 300\n",
      "Data columns (total 8 columns):\n",
      " #   Column          Non-Null Count  Dtype         \n",
      "---  ------          --------------  -----         \n",
      " 0   video_title     301 non-null    object        \n",
      " 1   video_caption   301 non-null    object        \n",
      " 2   date_time       301 non-null    datetime64[ns]\n",
      " 3   video_slug      301 non-null    object        \n",
      " 4   video_views     301 non-null    object        \n",
      " 5   video_likes     299 non-null    object        \n",
      " 6   video_dislikes  299 non-null    object        \n",
      " 7   video_comments  294 non-null    object        \n",
      "dtypes: datetime64[ns](1), object(7)\n",
      "memory usage: 18.9+ KB\n"
     ]
    }
   ],
   "source": [
    "df_yt_georgia[\"date_time\"] = pd.to_datetime(df_yt_georgia[\"date_time\"])\n",
    "df_yt_georgia.info() # successfully converted date_time to datetime objs"
   ]
  },
  {
   "cell_type": "code",
   "execution_count": 97,
   "metadata": {},
   "outputs": [],
   "source": [
    "# there are still missing values in video_likes, video_dislikes, and video_comments\n",
    "# video_views, video_likes, video_dislikes, and video_comments are all str objs when they should be numeric"
   ]
  },
  {
   "cell_type": "markdown",
   "metadata": {},
   "source": [
    "#### Views and Likes"
   ]
  },
  {
   "cell_type": "code",
   "execution_count": 98,
   "metadata": {},
   "outputs": [
    {
     "name": "stdout",
     "output_type": "stream",
     "text": [
      "<class 'pandas.core.frame.DataFrame'>\n",
      "RangeIndex: 301 entries, 0 to 300\n",
      "Data columns (total 8 columns):\n",
      " #   Column          Non-Null Count  Dtype         \n",
      "---  ------          --------------  -----         \n",
      " 0   video_title     301 non-null    object        \n",
      " 1   video_caption   301 non-null    object        \n",
      " 2   date_time       301 non-null    datetime64[ns]\n",
      " 3   video_slug      301 non-null    object        \n",
      " 4   video_views     301 non-null    int32         \n",
      " 5   video_likes     299 non-null    object        \n",
      " 6   video_dislikes  299 non-null    object        \n",
      " 7   video_comments  294 non-null    object        \n",
      "dtypes: datetime64[ns](1), int32(1), object(6)\n",
      "memory usage: 17.8+ KB\n"
     ]
    }
   ],
   "source": [
    "# extract no. of views, remove \",\" separator, and convert to int dtype\n",
    "df_yt_georgia[\"video_views\"] = df_yt_georgia[\"video_views\"].str.extract(r\"(\\d+.\\d+)\", expand=False).str.replace(\",\", \"\").astype(int)\n",
    "df_yt_georgia.info() # verify conversion is successful"
   ]
  },
  {
   "cell_type": "code",
   "execution_count": 99,
   "metadata": {},
   "outputs": [
    {
     "data": {
      "text/html": [
       "<div>\n",
       "<style scoped>\n",
       "    .dataframe tbody tr th:only-of-type {\n",
       "        vertical-align: middle;\n",
       "    }\n",
       "\n",
       "    .dataframe tbody tr th {\n",
       "        vertical-align: top;\n",
       "    }\n",
       "\n",
       "    .dataframe thead th {\n",
       "        text-align: right;\n",
       "    }\n",
       "</style>\n",
       "<table border=\"1\" class=\"dataframe\">\n",
       "  <thead>\n",
       "    <tr style=\"text-align: right;\">\n",
       "      <th></th>\n",
       "      <th>video_title</th>\n",
       "      <th>video_caption</th>\n",
       "      <th>date_time</th>\n",
       "      <th>video_slug</th>\n",
       "      <th>video_views</th>\n",
       "      <th>video_likes</th>\n",
       "      <th>video_dislikes</th>\n",
       "      <th>video_comments</th>\n",
       "    </tr>\n",
       "  </thead>\n",
       "  <tbody>\n",
       "    <tr>\n",
       "      <th>80</th>\n",
       "      <td>TASTE TESTING SINGAPORE 7/11 DRINKS! 🇸🇬</td>\n",
       "      <td>[\"What drinks do they sell in a Singapore 7/11...</td>\n",
       "      <td>2017-11-12</td>\n",
       "      <td>3Q5Rh7gWc34</td>\n",
       "      <td>89417</td>\n",
       "      <td>NaN</td>\n",
       "      <td>NaN</td>\n",
       "      <td>0</td>\n",
       "    </tr>\n",
       "    <tr>\n",
       "      <th>239</th>\n",
       "      <td>THINGS TOOK A TURN FOR THE WORSE | WEEKLY VLOG</td>\n",
       "      <td>['THINGS TOOK A TURN FOR THE WORSE IN SINGAPOR...</td>\n",
       "      <td>2018-08-16</td>\n",
       "      <td>72oE5ABnd4k</td>\n",
       "      <td>19886</td>\n",
       "      <td>NaN</td>\n",
       "      <td>NaN</td>\n",
       "      <td>0</td>\n",
       "    </tr>\n",
       "  </tbody>\n",
       "</table>\n",
       "</div>"
      ],
      "text/plain": [
       "                                        video_title  \\\n",
       "80          TASTE TESTING SINGAPORE 7/11 DRINKS! 🇸🇬   \n",
       "239  THINGS TOOK A TURN FOR THE WORSE | WEEKLY VLOG   \n",
       "\n",
       "                                         video_caption  date_time  \\\n",
       "80   [\"What drinks do they sell in a Singapore 7/11... 2017-11-12   \n",
       "239  ['THINGS TOOK A TURN FOR THE WORSE IN SINGAPOR... 2018-08-16   \n",
       "\n",
       "      video_slug  video_views video_likes video_dislikes video_comments  \n",
       "80   3Q5Rh7gWc34        89417         NaN            NaN              0  \n",
       "239  72oE5ABnd4k        19886         NaN            NaN              0  "
      ]
     },
     "execution_count": 99,
     "metadata": {},
     "output_type": "execute_result"
    }
   ],
   "source": [
    "mask = df_yt_georgia[\"video_likes\"].isnull() # find missing values\n",
    "df_yt_georgia[mask]"
   ]
  },
  {
   "cell_type": "code",
   "execution_count": 100,
   "metadata": {},
   "outputs": [
    {
     "name": "stdout",
     "output_type": "stream",
     "text": [
      "<class 'pandas.core.frame.DataFrame'>\n",
      "RangeIndex: 301 entries, 0 to 300\n",
      "Data columns (total 8 columns):\n",
      " #   Column          Non-Null Count  Dtype         \n",
      "---  ------          --------------  -----         \n",
      " 0   video_title     301 non-null    object        \n",
      " 1   video_caption   301 non-null    object        \n",
      " 2   date_time       301 non-null    datetime64[ns]\n",
      " 3   video_slug      301 non-null    object        \n",
      " 4   video_views     301 non-null    int32         \n",
      " 5   video_likes     301 non-null    object        \n",
      " 6   video_dislikes  301 non-null    object        \n",
      " 7   video_comments  294 non-null    object        \n",
      "dtypes: datetime64[ns](1), int32(1), object(6)\n",
      "memory usage: 17.8+ KB\n"
     ]
    }
   ],
   "source": [
    "# checking via slugs of the video revealed that these videos have zero likes or dislikes\n",
    "# while this seems especially unlikely because of the video's recency\n",
    "# comments for both these videos were also disabled\n",
    "# it is likely that likes/dislikes were disabled too\n",
    "\n",
    "# let's impute missing values in video_likes and video_dislikes with 0\n",
    "df_yt_georgia.loc[:, [\"video_likes\", \"video_dislikes\"]] = df_yt_georgia.loc[:, [\"video_likes\", \"video_dislikes\"]].fillna(\"0\")\n",
    "df_yt_georgia.info() # verify that missing values have been imputed"
   ]
  },
  {
   "cell_type": "code",
   "execution_count": 101,
   "metadata": {},
   "outputs": [
    {
     "name": "stdout",
     "output_type": "stream",
     "text": [
      "<class 'pandas.core.frame.DataFrame'>\n",
      "RangeIndex: 301 entries, 0 to 300\n",
      "Data columns (total 8 columns):\n",
      " #   Column          Non-Null Count  Dtype         \n",
      "---  ------          --------------  -----         \n",
      " 0   video_title     301 non-null    object        \n",
      " 1   video_caption   301 non-null    object        \n",
      " 2   date_time       301 non-null    datetime64[ns]\n",
      " 3   video_slug      301 non-null    object        \n",
      " 4   video_views     301 non-null    int32         \n",
      " 5   video_likes     301 non-null    int32         \n",
      " 6   video_dislikes  301 non-null    int32         \n",
      " 7   video_comments  294 non-null    object        \n",
      "dtypes: datetime64[ns](1), int32(3), object(4)\n",
      "memory usage: 15.4+ KB\n"
     ]
    }
   ],
   "source": [
    "# extract no. of likes/dislikes, remove \",\" separator, and convert to int dtype\n",
    "df_yt_georgia[\"video_likes\"] = df_yt_georgia[\"video_likes\"].str.replace(\",\", \"\").astype(int)\n",
    "df_yt_georgia[\"video_dislikes\"] = df_yt_georgia[\"video_dislikes\"].str.replace(\",\", \"\").astype(int)\n",
    "df_yt_georgia.info() # verify conversion is successful"
   ]
  },
  {
   "cell_type": "markdown",
   "metadata": {},
   "source": [
    "#### No. of Comments"
   ]
  },
  {
   "cell_type": "code",
   "execution_count": 102,
   "metadata": {},
   "outputs": [
    {
     "data": {
      "text/plain": [
       "0       18 Comments\n",
       "1               NaN\n",
       "2      159 Comments\n",
       "3      117 Comments\n",
       "4                 0\n",
       "           ...     \n",
       "296    140 Comments\n",
       "297     62 Comments\n",
       "298    217 Comments\n",
       "299    145 Comments\n",
       "300             NaN\n",
       "Name: video_comments, Length: 301, dtype: object"
      ]
     },
     "execution_count": 102,
     "metadata": {},
     "output_type": "execute_result"
    }
   ],
   "source": [
    "df_yt_georgia[\"video_comments\"]"
   ]
  },
  {
   "cell_type": "code",
   "execution_count": 103,
   "metadata": {},
   "outputs": [],
   "source": [
    "# remove all \"Comments\" text, \",\" for the thousandth place, and strip spaces\n",
    "df_yt_georgia.loc[:, \"video_comments\"] = df_yt_georgia[\"video_comments\"].str.replace(\"Comments\", \"\").str.replace(\",\", \"\").str.strip()"
   ]
  },
  {
   "cell_type": "code",
   "execution_count": 104,
   "metadata": {},
   "outputs": [
    {
     "name": "stdout",
     "output_type": "stream",
     "text": [
      "No. of posts with missing total no. of video comments: 7\n"
     ]
    },
    {
     "data": {
      "text/html": [
       "<div>\n",
       "<style scoped>\n",
       "    .dataframe tbody tr th:only-of-type {\n",
       "        vertical-align: middle;\n",
       "    }\n",
       "\n",
       "    .dataframe tbody tr th {\n",
       "        vertical-align: top;\n",
       "    }\n",
       "\n",
       "    .dataframe thead th {\n",
       "        text-align: right;\n",
       "    }\n",
       "</style>\n",
       "<table border=\"1\" class=\"dataframe\">\n",
       "  <thead>\n",
       "    <tr style=\"text-align: right;\">\n",
       "      <th></th>\n",
       "      <th>video_title</th>\n",
       "      <th>video_caption</th>\n",
       "      <th>date_time</th>\n",
       "      <th>video_slug</th>\n",
       "      <th>video_views</th>\n",
       "      <th>video_likes</th>\n",
       "      <th>video_dislikes</th>\n",
       "      <th>video_comments</th>\n",
       "    </tr>\n",
       "  </thead>\n",
       "  <tbody>\n",
       "    <tr>\n",
       "      <th>1</th>\n",
       "      <td>HUGE FEBRUARY HAUL | MONKI &amp;  ROMWE</td>\n",
       "      <td>['FOLLOW ME!!\\nBLOG LOVIN: ', 'http://www.blog...</td>\n",
       "      <td>2016-02-28</td>\n",
       "      <td>uBRHR9zK3mk</td>\n",
       "      <td>16049</td>\n",
       "      <td>312</td>\n",
       "      <td>5</td>\n",
       "      <td>NaN</td>\n",
       "    </tr>\n",
       "    <tr>\n",
       "      <th>12</th>\n",
       "      <td>VIRTUAL WISHLIST |  EBAY, URBAN OUTFITTERS, AN...</td>\n",
       "      <td>['FOLLOW ME!!\\nBLOG LOVIN: ', 'http://www.blog...</td>\n",
       "      <td>2015-02-27</td>\n",
       "      <td>GFZO5_uXnzo</td>\n",
       "      <td>6864</td>\n",
       "      <td>413</td>\n",
       "      <td>6</td>\n",
       "      <td>NaN</td>\n",
       "    </tr>\n",
       "    <tr>\n",
       "      <th>138</th>\n",
       "      <td>TRYING TO PRONOUNCE  SINGAPORE MRT STATIONS!</td>\n",
       "      <td>[\"We finally got around to ATTEMPTING to prono...</td>\n",
       "      <td>2017-05-28</td>\n",
       "      <td>bIgaCSZn_7U</td>\n",
       "      <td>32296</td>\n",
       "      <td>715</td>\n",
       "      <td>1066</td>\n",
       "      <td>NaN</td>\n",
       "    </tr>\n",
       "    <tr>\n",
       "      <th>162</th>\n",
       "      <td>HUGE ASOS TRY-ON HAUL!  | NOVEMBER 2016</td>\n",
       "      <td>['➫ Instagram: ', 'https://goo.gl/EG0bLO', '\\n...</td>\n",
       "      <td>2016-11-27</td>\n",
       "      <td>lNtAfcNmrD4</td>\n",
       "      <td>7851</td>\n",
       "      <td>211</td>\n",
       "      <td>6</td>\n",
       "      <td>NaN</td>\n",
       "    </tr>\n",
       "    <tr>\n",
       "      <th>172</th>\n",
       "      <td>COME TO MY FIRST PERSONAL TRAINING SESSION!  *...</td>\n",
       "      <td>['Hey guys! Today I wanted to take you all alo...</td>\n",
       "      <td>2019-03-07</td>\n",
       "      <td>FGSISjGXUUk</td>\n",
       "      <td>11671</td>\n",
       "      <td>227</td>\n",
       "      <td>6</td>\n",
       "      <td>NaN</td>\n",
       "    </tr>\n",
       "    <tr>\n",
       "      <th>197</th>\n",
       "      <td>HOMEWARE HAUL! IKEA &amp; TYPO   THE VINTAGE VISION</td>\n",
       "      <td>['Help me share this post &amp; I will love you fo...</td>\n",
       "      <td>2015-05-18</td>\n",
       "      <td>Oi65C3XnCz0</td>\n",
       "      <td>10094</td>\n",
       "      <td>320</td>\n",
       "      <td>4</td>\n",
       "      <td>NaN</td>\n",
       "    </tr>\n",
       "    <tr>\n",
       "      <th>300</th>\n",
       "      <td>MY FOUNDATION &amp; CONTOUR ROUTINE | THE VINTAGE ...</td>\n",
       "      <td>['FOLLOW ME!!\\nBLOG LOVIN: ', 'http://www.blog...</td>\n",
       "      <td>2015-02-19</td>\n",
       "      <td>7t89IwQ90Lg</td>\n",
       "      <td>6004</td>\n",
       "      <td>236</td>\n",
       "      <td>4</td>\n",
       "      <td>NaN</td>\n",
       "    </tr>\n",
       "  </tbody>\n",
       "</table>\n",
       "</div>"
      ],
      "text/plain": [
       "                                           video_title  \\\n",
       "1                  HUGE FEBRUARY HAUL | MONKI &  ROMWE   \n",
       "12   VIRTUAL WISHLIST |  EBAY, URBAN OUTFITTERS, AN...   \n",
       "138       TRYING TO PRONOUNCE  SINGAPORE MRT STATIONS!   \n",
       "162            HUGE ASOS TRY-ON HAUL!  | NOVEMBER 2016   \n",
       "172  COME TO MY FIRST PERSONAL TRAINING SESSION!  *...   \n",
       "197    HOMEWARE HAUL! IKEA & TYPO   THE VINTAGE VISION   \n",
       "300  MY FOUNDATION & CONTOUR ROUTINE | THE VINTAGE ...   \n",
       "\n",
       "                                         video_caption  date_time  \\\n",
       "1    ['FOLLOW ME!!\\nBLOG LOVIN: ', 'http://www.blog... 2016-02-28   \n",
       "12   ['FOLLOW ME!!\\nBLOG LOVIN: ', 'http://www.blog... 2015-02-27   \n",
       "138  [\"We finally got around to ATTEMPTING to prono... 2017-05-28   \n",
       "162  ['➫ Instagram: ', 'https://goo.gl/EG0bLO', '\\n... 2016-11-27   \n",
       "172  ['Hey guys! Today I wanted to take you all alo... 2019-03-07   \n",
       "197  ['Help me share this post & I will love you fo... 2015-05-18   \n",
       "300  ['FOLLOW ME!!\\nBLOG LOVIN: ', 'http://www.blog... 2015-02-19   \n",
       "\n",
       "      video_slug  video_views  video_likes  video_dislikes video_comments  \n",
       "1    uBRHR9zK3mk        16049          312               5            NaN  \n",
       "12   GFZO5_uXnzo         6864          413               6            NaN  \n",
       "138  bIgaCSZn_7U        32296          715            1066            NaN  \n",
       "162  lNtAfcNmrD4         7851          211               6            NaN  \n",
       "172  FGSISjGXUUk        11671          227               6            NaN  \n",
       "197  Oi65C3XnCz0        10094          320               4            NaN  \n",
       "300  7t89IwQ90Lg         6004          236               4            NaN  "
      ]
     },
     "execution_count": 104,
     "metadata": {},
     "output_type": "execute_result"
    }
   ],
   "source": [
    "mask = df_yt_georgia[\"video_comments\"].isnull() # find missing values\n",
    "print(\"No. of posts with missing total no. of video comments:\", len(df_yt_georgia[mask]))\n",
    "df_yt_georgia[mask]"
   ]
  },
  {
   "cell_type": "code",
   "execution_count": 105,
   "metadata": {},
   "outputs": [],
   "source": [
    "# small no. of videos with this problem, perhaps comments were disabled for these videos\n",
    "# let's just imput with 0\n",
    "df_yt_georgia.loc[:, \"video_comments\"] = df_yt_georgia[\"video_comments\"].fillna(0)"
   ]
  },
  {
   "cell_type": "code",
   "execution_count": 106,
   "metadata": {},
   "outputs": [
    {
     "name": "stdout",
     "output_type": "stream",
     "text": [
      "<class 'pandas.core.frame.DataFrame'>\n",
      "RangeIndex: 301 entries, 0 to 300\n",
      "Data columns (total 8 columns):\n",
      " #   Column          Non-Null Count  Dtype         \n",
      "---  ------          --------------  -----         \n",
      " 0   video_title     301 non-null    object        \n",
      " 1   video_caption   301 non-null    object        \n",
      " 2   date_time       301 non-null    datetime64[ns]\n",
      " 3   video_slug      301 non-null    object        \n",
      " 4   video_views     301 non-null    int32         \n",
      " 5   video_likes     301 non-null    int32         \n",
      " 6   video_dislikes  301 non-null    int32         \n",
      " 7   video_comments  301 non-null    int32         \n",
      "dtypes: datetime64[ns](1), int32(4), object(3)\n",
      "memory usage: 14.2+ KB\n"
     ]
    }
   ],
   "source": [
    "# convert col to int dtype\n",
    "df_yt_georgia.loc[:, \"video_comments\"] = df_yt_georgia[\"video_comments\"].astype(int)\n",
    "df_yt_georgia.info()"
   ]
  },
  {
   "cell_type": "markdown",
   "metadata": {},
   "source": [
    "#### Merging Text"
   ]
  },
  {
   "cell_type": "code",
   "execution_count": 107,
   "metadata": {},
   "outputs": [
    {
     "data": {
      "text/html": [
       "<div>\n",
       "<style scoped>\n",
       "    .dataframe tbody tr th:only-of-type {\n",
       "        vertical-align: middle;\n",
       "    }\n",
       "\n",
       "    .dataframe tbody tr th {\n",
       "        vertical-align: top;\n",
       "    }\n",
       "\n",
       "    .dataframe thead th {\n",
       "        text-align: right;\n",
       "    }\n",
       "</style>\n",
       "<table border=\"1\" class=\"dataframe\">\n",
       "  <thead>\n",
       "    <tr style=\"text-align: right;\">\n",
       "      <th></th>\n",
       "      <th>video_title</th>\n",
       "      <th>video_caption</th>\n",
       "      <th>date_time</th>\n",
       "      <th>video_slug</th>\n",
       "      <th>video_views</th>\n",
       "      <th>video_likes</th>\n",
       "      <th>video_dislikes</th>\n",
       "      <th>video_comments</th>\n",
       "      <th>video_title_clean</th>\n",
       "      <th>video_caption_clean</th>\n",
       "    </tr>\n",
       "  </thead>\n",
       "  <tbody>\n",
       "    <tr>\n",
       "      <th>0</th>\n",
       "      <td>HALLOWEEN HORROR NIGHTS 8 AT UNIVERSAL STUDIOS! 👻</td>\n",
       "      <td>['UNIVERSAL HALLOWEEN HORROR NIGHTS 8! 👻\\n\\nHa...</td>\n",
       "      <td>2018-10-31</td>\n",
       "      <td>7xkdm3c4Ks8</td>\n",
       "      <td>8766</td>\n",
       "      <td>271</td>\n",
       "      <td>3</td>\n",
       "      <td>18</td>\n",
       "      <td>halloween horror nights 8 universal studios</td>\n",
       "      <td>'universal halloween horror nights 8 happy hal...</td>\n",
       "    </tr>\n",
       "  </tbody>\n",
       "</table>\n",
       "</div>"
      ],
      "text/plain": [
       "                                         video_title  \\\n",
       "0  HALLOWEEN HORROR NIGHTS 8 AT UNIVERSAL STUDIOS! 👻   \n",
       "\n",
       "                                       video_caption  date_time   video_slug  \\\n",
       "0  ['UNIVERSAL HALLOWEEN HORROR NIGHTS 8! 👻\\n\\nHa... 2018-10-31  7xkdm3c4Ks8   \n",
       "\n",
       "   video_views  video_likes  video_dislikes  video_comments  \\\n",
       "0         8766          271               3              18   \n",
       "\n",
       "                             video_title_clean  \\\n",
       "0  halloween horror nights 8 universal studios   \n",
       "\n",
       "                                 video_caption_clean  \n",
       "0  'universal halloween horror nights 8 happy hal...  "
      ]
     },
     "execution_count": 107,
     "metadata": {},
     "output_type": "execute_result"
    }
   ],
   "source": [
    "# before merging, let's clean the text\n",
    "df_yt_georgia[\"video_title_clean\"] = clean_text(df_yt_georgia, \"video_title\")\n",
    "df_yt_georgia[\"video_caption_clean\"] = clean_text(df_yt_georgia, \"video_caption\")\n",
    "df_yt_georgia.head(1)"
   ]
  },
  {
   "cell_type": "code",
   "execution_count": 108,
   "metadata": {},
   "outputs": [
    {
     "data": {
      "text/plain": [
       "(301, 11)"
      ]
     },
     "execution_count": 108,
     "metadata": {},
     "output_type": "execute_result"
    }
   ],
   "source": [
    "content = [] # create empty list\n",
    "\n",
    "for _, row in df_yt_georgia.iterrows():\n",
    "    content.append(row[\"video_title_clean\"] + \" \" + row[\"video_caption_clean\"]) # join title and caption strings\n",
    "    \n",
    "df_yt_georgia[\"content\"] = content # create new col for merged strings\n",
    "df_yt_georgia.shape # verify new col added"
   ]
  },
  {
   "cell_type": "code",
   "execution_count": 109,
   "metadata": {},
   "outputs": [
    {
     "data": {
      "text/html": [
       "<div>\n",
       "<style scoped>\n",
       "    .dataframe tbody tr th:only-of-type {\n",
       "        vertical-align: middle;\n",
       "    }\n",
       "\n",
       "    .dataframe tbody tr th {\n",
       "        vertical-align: top;\n",
       "    }\n",
       "\n",
       "    .dataframe thead th {\n",
       "        text-align: right;\n",
       "    }\n",
       "</style>\n",
       "<table border=\"1\" class=\"dataframe\">\n",
       "  <thead>\n",
       "    <tr style=\"text-align: right;\">\n",
       "      <th></th>\n",
       "      <th>video_title</th>\n",
       "      <th>video_caption</th>\n",
       "      <th>date_time</th>\n",
       "      <th>video_slug</th>\n",
       "      <th>video_views</th>\n",
       "      <th>video_likes</th>\n",
       "      <th>video_dislikes</th>\n",
       "      <th>video_comments</th>\n",
       "      <th>video_title_clean</th>\n",
       "      <th>video_caption_clean</th>\n",
       "      <th>content</th>\n",
       "    </tr>\n",
       "  </thead>\n",
       "  <tbody>\n",
       "    <tr>\n",
       "      <th>0</th>\n",
       "      <td>HALLOWEEN HORROR NIGHTS 8 AT UNIVERSAL STUDIOS! 👻</td>\n",
       "      <td>['UNIVERSAL HALLOWEEN HORROR NIGHTS 8! 👻\\n\\nHa...</td>\n",
       "      <td>2018-10-31</td>\n",
       "      <td>7xkdm3c4Ks8</td>\n",
       "      <td>8766</td>\n",
       "      <td>271</td>\n",
       "      <td>3</td>\n",
       "      <td>18</td>\n",
       "      <td>halloween horror nights 8 universal studios</td>\n",
       "      <td>'universal halloween horror nights 8 happy hal...</td>\n",
       "      <td>halloween horror nights 8 universal studios 'u...</td>\n",
       "    </tr>\n",
       "    <tr>\n",
       "      <th>1</th>\n",
       "      <td>HUGE FEBRUARY HAUL | MONKI &amp;  ROMWE</td>\n",
       "      <td>['FOLLOW ME!!\\nBLOG LOVIN: ', 'http://www.blog...</td>\n",
       "      <td>2016-02-28</td>\n",
       "      <td>uBRHR9zK3mk</td>\n",
       "      <td>16049</td>\n",
       "      <td>312</td>\n",
       "      <td>5</td>\n",
       "      <td>0</td>\n",
       "      <td>huge february haul monki romwe</td>\n",
       "      <td>'follow blog lovin ' ' ' blog ' ' ' depop geor...</td>\n",
       "      <td>huge february haul monki romwe 'follow blog lo...</td>\n",
       "    </tr>\n",
       "    <tr>\n",
       "      <th>2</th>\n",
       "      <td>Eating the BEST rated PRATA in SINGAPORE! 🇸🇬 *...</td>\n",
       "      <td>['Eating the BEST rated PRATA in SINGAPORE! 🇸🇬...</td>\n",
       "      <td>2019-11-17</td>\n",
       "      <td>b-ppBtSiG38</td>\n",
       "      <td>33483</td>\n",
       "      <td>649</td>\n",
       "      <td>19</td>\n",
       "      <td>159</td>\n",
       "      <td>eating best rated prata longest queue ever</td>\n",
       "      <td>'eating best rated prata eaten prata think che...</td>\n",
       "      <td>eating best rated prata longest queue ever 'ea...</td>\n",
       "    </tr>\n",
       "  </tbody>\n",
       "</table>\n",
       "</div>"
      ],
      "text/plain": [
       "                                         video_title  \\\n",
       "0  HALLOWEEN HORROR NIGHTS 8 AT UNIVERSAL STUDIOS! 👻   \n",
       "1                HUGE FEBRUARY HAUL | MONKI &  ROMWE   \n",
       "2  Eating the BEST rated PRATA in SINGAPORE! 🇸🇬 *...   \n",
       "\n",
       "                                       video_caption  date_time   video_slug  \\\n",
       "0  ['UNIVERSAL HALLOWEEN HORROR NIGHTS 8! 👻\\n\\nHa... 2018-10-31  7xkdm3c4Ks8   \n",
       "1  ['FOLLOW ME!!\\nBLOG LOVIN: ', 'http://www.blog... 2016-02-28  uBRHR9zK3mk   \n",
       "2  ['Eating the BEST rated PRATA in SINGAPORE! 🇸🇬... 2019-11-17  b-ppBtSiG38   \n",
       "\n",
       "   video_views  video_likes  video_dislikes  video_comments  \\\n",
       "0         8766          271               3              18   \n",
       "1        16049          312               5               0   \n",
       "2        33483          649              19             159   \n",
       "\n",
       "                             video_title_clean  \\\n",
       "0  halloween horror nights 8 universal studios   \n",
       "1               huge february haul monki romwe   \n",
       "2   eating best rated prata longest queue ever   \n",
       "\n",
       "                                 video_caption_clean  \\\n",
       "0  'universal halloween horror nights 8 happy hal...   \n",
       "1  'follow blog lovin ' ' ' blog ' ' ' depop geor...   \n",
       "2  'eating best rated prata eaten prata think che...   \n",
       "\n",
       "                                             content  \n",
       "0  halloween horror nights 8 universal studios 'u...  \n",
       "1  huge february haul monki romwe 'follow blog lo...  \n",
       "2  eating best rated prata longest queue ever 'ea...  "
      ]
     },
     "execution_count": 109,
     "metadata": {},
     "output_type": "execute_result"
    }
   ],
   "source": [
    "df_yt_georgia.head(3)"
   ]
  },
  {
   "cell_type": "markdown",
   "metadata": {},
   "source": [
    "#### Selecting Relevant Videos"
   ]
  },
  {
   "cell_type": "code",
   "execution_count": 110,
   "metadata": {},
   "outputs": [],
   "source": [
    "# before selecting, let's save out cleaned GC df\n",
    "df_yt_georgia.to_csv(\"../datasets/df_yt_georgia_cleaned.csv\", index=False)"
   ]
  },
  {
   "cell_type": "code",
   "execution_count": 111,
   "metadata": {},
   "outputs": [],
   "source": [
    "# what are the relevant videos?"
   ]
  },
  {
   "cell_type": "code",
   "execution_count": 112,
   "metadata": {},
   "outputs": [
    {
     "data": {
      "text/plain": [
       "array(['HALLOWEEN HORROR NIGHTS 8 AT UNIVERSAL STUDIOS! 👻',\n",
       "       'HUGE FEBRUARY HAUL | MONKI &  ROMWE',\n",
       "       'Eating the BEST rated PRATA in SINGAPORE! 🇸🇬 *longest queue ever*',\n",
       "       'McDoanlds Hokkaido Salmon Burger In Singapore!',\n",
       "       'SINGAPORE APARTMENT TOUR! | THE VINTAGE VISION',\n",
       "       'Foreigners Reacting To Singapore Social: The Most NON-SINGAPOREAN Reality Show',\n",
       "       'THAILAND ADVENTURE & MOPED ACCIDENT!!',\n",
       "       'CULTURE SHOCKS LIVING IN SINGAPORE! 🇸🇬',\n",
       "       'Taking it slow + saying goodbye to the vlogs | Life in Singapore',\n",
       "       'HUGE SUMMER TRY-ON HAUL! TOPSHOP, ZARA, ASOS',\n",
       "       'More Bad News, But Trying To Keep Positive! Life In Singapore',\n",
       "       'MISCONCEPTIONS FOREIGNERS HAVE ABOUT SINGAPORE! 🇸🇬',\n",
       "       'VIRTUAL WISHLIST |  EBAY, URBAN OUTFITTERS, ANTHROPOLOGIE',\n",
       "       'COME TO WORK WITH ME IN SINGAPORE!',\n",
       "       'BRITISH GIRL REACTS TO SINGAPOREAN YOUTUBERS!',\n",
       "       'One Bedroom Singapore Apartment Tour! Georgia Caney',\n",
       "       'Reading Your Assumptions About Brits + Life In The UK! 🇬🇧',\n",
       "       'What I Eat In A Day! (quarantine edition)',\n",
       "       'My Fitness Journey (so far!) How to LOSE FAT and BUILD MUSCLE',\n",
       "       'This is what CHINESE FOOD looks like in the UK! 🇬🇧',\n",
       "       'FEELS SO GOOD TO BE HOME!! LIFE BACK IN THE UK 🇬🇧',\n",
       "       'ASOS & TOPSHOP TRY-ON HAUL | the vintage vision',\n",
       "       'A Day In The Life At Home In Isolation | Singapore Vlog',\n",
       "       'TAOBAO TRY-ON HAUL FT. EZBUY 2018',\n",
       "       'IS THIS THE BEST ENGLISH BREAKFAST IN SINGAPORE?! (I think not!)',\n",
       "       'HOW TO SURVIVE YOUR FIRST MONTH IN SINGAPORE! 🇸🇬',\n",
       "       'Everything To See & Do In Broome Australia! | Exploring Western Australia',\n",
       "       'SINGAPORE BOTANIC GARDENS VLOG',\n",
       "       'FINALLY ON THE ROAD TO RECOVERY! Weekly Vlog',\n",
       "       '9 Bizarre Things Singaporeans Do That Foreigners Don’t Understand!',\n",
       "       'IS THIS THE BEST BRITISH FISH & CHIPS IN SINGAPORE?!',\n",
       "       'ZAFUL TRY-ON HAUL + REVIEW! WORTH IT OR NOT!?',\n",
       "       '10 ‘Unusual’ Old English Words Commonly Used In Singapore!',\n",
       "       'SINGAPORE WEEKLY VLOG | CATCH UP + RECENT TRAVEL',\n",
       "       'A WEEK IN MY LIFE WORKING IN SINGAPORE!'], dtype=object)"
      ]
     },
     "execution_count": 112,
     "metadata": {},
     "output_type": "execute_result"
    }
   ],
   "source": [
    "df_yt_georgia[\"video_title\"].values[:35]"
   ]
  },
  {
   "cell_type": "markdown",
   "metadata": {},
   "source": [
    "After studying the video titles and researching the YouTube channel, it is clear that there is a good part of her videos dedicated to fashion and e-commerce. There are also videos about her life updates that do not concern exploring Singapore and which mostly elicit only empathetic/agreeable comments rather than the discourse and local recommendations we are looking for. Then, there are also travel vlogs to numerous locations.\n",
    "\n",
    "We shall begin by filtering these 3 categories out as they are not relevant to domestic tourism. We shall do so by querying select key words that should help us filter out the videos that we do not want."
   ]
  },
  {
   "cell_type": "code",
   "execution_count": 114,
   "metadata": {},
   "outputs": [
    {
     "data": {
      "text/plain": [
       "(91, 11)"
      ]
     },
     "execution_count": 114,
     "metadata": {},
     "output_type": "execute_result"
    }
   ],
   "source": [
    "# search terms to find videos dedicated to fashion/e-commerce\n",
    "queries = [\"haul\", \"the vintage vision\", \"wishlist\", \"outfits\", \"lookbook\", \"discount\", \"dupes\", \"shopping\",\n",
    "           \"favourites\", \"makeup\", \"hair\", \"lip\", \"jeans\", \"contour\", \"thrift\", \"handbag\", \"swatches\", \"glasses\"]\n",
    "fashion = df_yt_georgia[\"video_title\"].str.lower().str.contains(\"|\".join(queries))\n",
    "df_yt_georgia[fashion].shape # 77 fashion videos found"
   ]
  },
  {
   "cell_type": "code",
   "execution_count": 115,
   "metadata": {},
   "outputs": [
    {
     "data": {
      "text/plain": [
       "(51, 11)"
      ]
     },
     "execution_count": 115,
     "metadata": {},
     "output_type": "execute_result"
    }
   ],
   "source": [
    "# search terms to find videos dedicated to life updates\n",
    "queries = [\"life in singapore\", \"life currently in singapore\", \"catch up\", \"expat life\", \"workout\",\n",
    "           \"questions\", \"answers\", \"q&a\", \"diet\", \"update\", \"weekly\", \"instagram\"]\n",
    "updates = df_yt_georgia[\"video_title\"].str.lower().str.contains(\"|\".join(queries))\n",
    "df_yt_georgia[updates].shape # 11 update videos found"
   ]
  },
  {
   "cell_type": "code",
   "execution_count": 116,
   "metadata": {},
   "outputs": [
    {
     "data": {
      "text/plain": [
       "(28, 11)"
      ]
     },
     "execution_count": 116,
     "metadata": {},
     "output_type": "execute_result"
    }
   ],
   "source": [
    "# search terms to find videos dedicated to travel\n",
    "queries = [\"australia\", \"thailand\", \"uk\", \"🇬🇧\", \"penang\", \"kuala lumpur\", \"malaysia\", \"bali\", \"borneo\", \"cambodia\", \"taipei\"]\n",
    "travel = df_yt_georgia[\"video_title\"].str.lower().str.contains(\"|\".join(queries))\n",
    "df_yt_georgia[travel].shape # 11 update videos found"
   ]
  },
  {
   "cell_type": "code",
   "execution_count": 117,
   "metadata": {},
   "outputs": [
    {
     "data": {
      "text/plain": [
       "(134, 11)"
      ]
     },
     "execution_count": 117,
     "metadata": {},
     "output_type": "execute_result"
    }
   ],
   "source": [
    "# what are we left with after filtering these out?\n",
    "df_yt_georgia_sel = df_yt_georgia[~fashion & ~updates & ~travel]\n",
    "df_yt_georgia_sel.shape # down to 134 posts"
   ]
  },
  {
   "cell_type": "code",
   "execution_count": 118,
   "metadata": {},
   "outputs": [
    {
     "data": {
      "text/html": [
       "<div>\n",
       "<style scoped>\n",
       "    .dataframe tbody tr th:only-of-type {\n",
       "        vertical-align: middle;\n",
       "    }\n",
       "\n",
       "    .dataframe tbody tr th {\n",
       "        vertical-align: top;\n",
       "    }\n",
       "\n",
       "    .dataframe thead th {\n",
       "        text-align: right;\n",
       "    }\n",
       "</style>\n",
       "<table border=\"1\" class=\"dataframe\">\n",
       "  <thead>\n",
       "    <tr style=\"text-align: right;\">\n",
       "      <th></th>\n",
       "      <th>video_title</th>\n",
       "      <th>video_caption</th>\n",
       "      <th>date_time</th>\n",
       "      <th>video_slug</th>\n",
       "      <th>video_views</th>\n",
       "      <th>video_likes</th>\n",
       "      <th>video_dislikes</th>\n",
       "      <th>video_comments</th>\n",
       "      <th>video_title_clean</th>\n",
       "      <th>video_caption_clean</th>\n",
       "      <th>content</th>\n",
       "    </tr>\n",
       "  </thead>\n",
       "  <tbody>\n",
       "    <tr>\n",
       "      <th>0</th>\n",
       "      <td>HALLOWEEN HORROR NIGHTS 8 AT UNIVERSAL STUDIOS! 👻</td>\n",
       "      <td>['UNIVERSAL HALLOWEEN HORROR NIGHTS 8! 👻\\n\\nHa...</td>\n",
       "      <td>2018-10-31</td>\n",
       "      <td>7xkdm3c4Ks8</td>\n",
       "      <td>8766</td>\n",
       "      <td>271</td>\n",
       "      <td>3</td>\n",
       "      <td>18</td>\n",
       "      <td>halloween horror nights 8 universal studios</td>\n",
       "      <td>'universal halloween horror nights 8 happy hal...</td>\n",
       "      <td>halloween horror nights 8 universal studios 'u...</td>\n",
       "    </tr>\n",
       "    <tr>\n",
       "      <th>2</th>\n",
       "      <td>Eating the BEST rated PRATA in SINGAPORE! 🇸🇬 *...</td>\n",
       "      <td>['Eating the BEST rated PRATA in SINGAPORE! 🇸🇬...</td>\n",
       "      <td>2019-11-17</td>\n",
       "      <td>b-ppBtSiG38</td>\n",
       "      <td>33483</td>\n",
       "      <td>649</td>\n",
       "      <td>19</td>\n",
       "      <td>159</td>\n",
       "      <td>eating best rated prata longest queue ever</td>\n",
       "      <td>'eating best rated prata eaten prata think che...</td>\n",
       "      <td>eating best rated prata longest queue ever 'ea...</td>\n",
       "    </tr>\n",
       "    <tr>\n",
       "      <th>3</th>\n",
       "      <td>McDoanlds Hokkaido Salmon Burger In Singapore!</td>\n",
       "      <td>['TRYING MCDONALDS HOKKAIDO SALMON BURGER IN S...</td>\n",
       "      <td>2018-05-13</td>\n",
       "      <td>IDXoNb548ec</td>\n",
       "      <td>13809</td>\n",
       "      <td>430</td>\n",
       "      <td>13</td>\n",
       "      <td>117</td>\n",
       "      <td>mcdoanlds hokkaido salmon burger</td>\n",
       "      <td>'trying mcdonalds hokkaido salmon burger try i...</td>\n",
       "      <td>mcdoanlds hokkaido salmon burger 'trying mcdon...</td>\n",
       "    </tr>\n",
       "  </tbody>\n",
       "</table>\n",
       "</div>"
      ],
      "text/plain": [
       "                                         video_title  \\\n",
       "0  HALLOWEEN HORROR NIGHTS 8 AT UNIVERSAL STUDIOS! 👻   \n",
       "2  Eating the BEST rated PRATA in SINGAPORE! 🇸🇬 *...   \n",
       "3     McDoanlds Hokkaido Salmon Burger In Singapore!   \n",
       "\n",
       "                                       video_caption  date_time   video_slug  \\\n",
       "0  ['UNIVERSAL HALLOWEEN HORROR NIGHTS 8! 👻\\n\\nHa... 2018-10-31  7xkdm3c4Ks8   \n",
       "2  ['Eating the BEST rated PRATA in SINGAPORE! 🇸🇬... 2019-11-17  b-ppBtSiG38   \n",
       "3  ['TRYING MCDONALDS HOKKAIDO SALMON BURGER IN S... 2018-05-13  IDXoNb548ec   \n",
       "\n",
       "   video_views  video_likes  video_dislikes  video_comments  \\\n",
       "0         8766          271               3              18   \n",
       "2        33483          649              19             159   \n",
       "3        13809          430              13             117   \n",
       "\n",
       "                             video_title_clean  \\\n",
       "0  halloween horror nights 8 universal studios   \n",
       "2   eating best rated prata longest queue ever   \n",
       "3             mcdoanlds hokkaido salmon burger   \n",
       "\n",
       "                                 video_caption_clean  \\\n",
       "0  'universal halloween horror nights 8 happy hal...   \n",
       "2  'eating best rated prata eaten prata think che...   \n",
       "3  'trying mcdonalds hokkaido salmon burger try i...   \n",
       "\n",
       "                                             content  \n",
       "0  halloween horror nights 8 universal studios 'u...  \n",
       "2  eating best rated prata longest queue ever 'ea...  \n",
       "3  mcdoanlds hokkaido salmon burger 'trying mcdon...  "
      ]
     },
     "execution_count": 118,
     "metadata": {},
     "output_type": "execute_result"
    }
   ],
   "source": [
    "# view current df\n",
    "df_yt_georgia_sel.head(3)"
   ]
  },
  {
   "cell_type": "markdown",
   "metadata": {},
   "source": [
    "#### Ghib Ojisan Scrapes"
   ]
  },
  {
   "cell_type": "code",
   "execution_count": 119,
   "metadata": {},
   "outputs": [
    {
     "data": {
      "text/plain": [
       "(389, 8)"
      ]
     },
     "execution_count": 119,
     "metadata": {},
     "output_type": "execute_result"
    }
   ],
   "source": [
    "df_yt_ghib = pd.read_csv(\"../datasets/df_yt_ghib_2020-10-18.csv\")\n",
    "df_yt_ghib.shape"
   ]
  },
  {
   "cell_type": "code",
   "execution_count": 120,
   "metadata": {},
   "outputs": [
    {
     "data": {
      "text/html": [
       "<div>\n",
       "<style scoped>\n",
       "    .dataframe tbody tr th:only-of-type {\n",
       "        vertical-align: middle;\n",
       "    }\n",
       "\n",
       "    .dataframe tbody tr th {\n",
       "        vertical-align: top;\n",
       "    }\n",
       "\n",
       "    .dataframe thead th {\n",
       "        text-align: right;\n",
       "    }\n",
       "</style>\n",
       "<table border=\"1\" class=\"dataframe\">\n",
       "  <thead>\n",
       "    <tr style=\"text-align: right;\">\n",
       "      <th></th>\n",
       "      <th>video_title</th>\n",
       "      <th>video_caption</th>\n",
       "      <th>date_time</th>\n",
       "      <th>video_slug</th>\n",
       "      <th>video_views</th>\n",
       "      <th>video_likes</th>\n",
       "      <th>video_dislikes</th>\n",
       "      <th>video_comments</th>\n",
       "    </tr>\n",
       "  </thead>\n",
       "  <tbody>\n",
       "    <tr>\n",
       "      <th>0</th>\n",
       "      <td>【これが現実】エリート駐在員にストレスを吐き出してもらった結果…【シンガポール】</td>\n",
       "      <td>['▼基本一人旅さん\\n', 'https://twitter.com/crazy_trav...</td>\n",
       "      <td>7 Jun 2019</td>\n",
       "      <td>AsF1hDfyF9g</td>\n",
       "      <td>26,426 views</td>\n",
       "      <td>347</td>\n",
       "      <td>36</td>\n",
       "      <td>77 Comments</td>\n",
       "    </tr>\n",
       "    <tr>\n",
       "      <th>1</th>\n",
       "      <td>【発表】路上演奏のライセンスを取りにオーディションに参加した結果</td>\n",
       "      <td>['😃チャンネル登録： ', 'http://urx3.nu/HTUJ', '\\n🎥関連動画...</td>\n",
       "      <td>31 Jul 2019</td>\n",
       "      <td>R4rwlGx0Kog</td>\n",
       "      <td>10,547 views</td>\n",
       "      <td>405</td>\n",
       "      <td>6</td>\n",
       "      <td>102 Comments</td>\n",
       "    </tr>\n",
       "    <tr>\n",
       "      <th>2</th>\n",
       "      <td>【裏側公開】ビートルズのノルウェーの森を弾いてみた【メイキング動画】</td>\n",
       "      <td>['以前、『ノルウェーの森でノルウェーの森を弾いてみた』という（詰まらないシャレみたいな）動...</td>\n",
       "      <td>12 Aug 2018</td>\n",
       "      <td>0oMslC1sGNU</td>\n",
       "      <td>10,514 views</td>\n",
       "      <td>258</td>\n",
       "      <td>7</td>\n",
       "      <td>62 Comments</td>\n",
       "    </tr>\n",
       "  </tbody>\n",
       "</table>\n",
       "</div>"
      ],
      "text/plain": [
       "                                video_title  \\\n",
       "0  【これが現実】エリート駐在員にストレスを吐き出してもらった結果…【シンガポール】   \n",
       "1          【発表】路上演奏のライセンスを取りにオーディションに参加した結果   \n",
       "2        【裏側公開】ビートルズのノルウェーの森を弾いてみた【メイキング動画】   \n",
       "\n",
       "                                       video_caption    date_time  \\\n",
       "0  ['▼基本一人旅さん\\n', 'https://twitter.com/crazy_trav...   7 Jun 2019   \n",
       "1  ['😃チャンネル登録： ', 'http://urx3.nu/HTUJ', '\\n🎥関連動画...  31 Jul 2019   \n",
       "2  ['以前、『ノルウェーの森でノルウェーの森を弾いてみた』という（詰まらないシャレみたいな）動...  12 Aug 2018   \n",
       "\n",
       "    video_slug   video_views video_likes video_dislikes video_comments  \n",
       "0  AsF1hDfyF9g  26,426 views         347             36    77 Comments  \n",
       "1  R4rwlGx0Kog  10,547 views         405              6   102 Comments  \n",
       "2  0oMslC1sGNU  10,514 views         258              7    62 Comments  "
      ]
     },
     "execution_count": 120,
     "metadata": {},
     "output_type": "execute_result"
    }
   ],
   "source": [
    "df_yt_ghib.head(3)"
   ]
  },
  {
   "cell_type": "code",
   "execution_count": 121,
   "metadata": {},
   "outputs": [
    {
     "data": {
      "text/plain": [
       "False    378\n",
       "True      11\n",
       "dtype: int64"
      ]
     },
     "execution_count": 121,
     "metadata": {},
     "output_type": "execute_result"
    }
   ],
   "source": [
    "# there are some duplicate scrapes\n",
    "df_yt_ghib.duplicated(keep=\"first\").value_counts()"
   ]
  },
  {
   "cell_type": "code",
   "execution_count": 122,
   "metadata": {},
   "outputs": [
    {
     "data": {
      "text/plain": [
       "(378, 8)"
      ]
     },
     "execution_count": 122,
     "metadata": {},
     "output_type": "execute_result"
    }
   ],
   "source": [
    "# drop duplicate scrapes\n",
    "df_yt_ghib = df_yt_ghib.drop(df_yt_ghib[df_yt_ghib.duplicated(keep=\"first\")].index)\n",
    "df_yt_ghib.shape"
   ]
  },
  {
   "cell_type": "code",
   "execution_count": 123,
   "metadata": {},
   "outputs": [
    {
     "name": "stdout",
     "output_type": "stream",
     "text": [
      "<class 'pandas.core.frame.DataFrame'>\n",
      "Int64Index: 378 entries, 0 to 388\n",
      "Data columns (total 8 columns):\n",
      " #   Column          Non-Null Count  Dtype \n",
      "---  ------          --------------  ----- \n",
      " 0   video_title     377 non-null    object\n",
      " 1   video_caption   377 non-null    object\n",
      " 2   date_time       377 non-null    object\n",
      " 3   video_slug      377 non-null    object\n",
      " 4   video_views     377 non-null    object\n",
      " 5   video_likes     377 non-null    object\n",
      " 6   video_dislikes  377 non-null    object\n",
      " 7   video_comments  374 non-null    object\n",
      "dtypes: object(8)\n",
      "memory usage: 26.6+ KB\n"
     ]
    }
   ],
   "source": [
    "df_yt_ghib.info() # some missing values"
   ]
  },
  {
   "cell_type": "code",
   "execution_count": 124,
   "metadata": {},
   "outputs": [
    {
     "data": {
      "text/html": [
       "<div>\n",
       "<style scoped>\n",
       "    .dataframe tbody tr th:only-of-type {\n",
       "        vertical-align: middle;\n",
       "    }\n",
       "\n",
       "    .dataframe tbody tr th {\n",
       "        vertical-align: top;\n",
       "    }\n",
       "\n",
       "    .dataframe thead th {\n",
       "        text-align: right;\n",
       "    }\n",
       "</style>\n",
       "<table border=\"1\" class=\"dataframe\">\n",
       "  <thead>\n",
       "    <tr style=\"text-align: right;\">\n",
       "      <th></th>\n",
       "      <th>video_title</th>\n",
       "      <th>video_caption</th>\n",
       "      <th>date_time</th>\n",
       "      <th>video_slug</th>\n",
       "      <th>video_views</th>\n",
       "      <th>video_likes</th>\n",
       "      <th>video_dislikes</th>\n",
       "      <th>video_comments</th>\n",
       "    </tr>\n",
       "  </thead>\n",
       "  <tbody>\n",
       "    <tr>\n",
       "      <th>15</th>\n",
       "      <td>NaN</td>\n",
       "      <td>NaN</td>\n",
       "      <td>NaN</td>\n",
       "      <td>NaN</td>\n",
       "      <td>NaN</td>\n",
       "      <td>NaN</td>\n",
       "      <td>NaN</td>\n",
       "      <td>NaN</td>\n",
       "    </tr>\n",
       "  </tbody>\n",
       "</table>\n",
       "</div>"
      ],
      "text/plain": [
       "   video_title video_caption date_time video_slug video_views video_likes  \\\n",
       "15         NaN           NaN       NaN        NaN         NaN         NaN   \n",
       "\n",
       "   video_dislikes video_comments  \n",
       "15            NaN            NaN  "
      ]
     },
     "execution_count": 124,
     "metadata": {},
     "output_type": "execute_result"
    }
   ],
   "source": [
    "df_yt_ghib[df_yt_ghib[\"date_time\"].isnull()] # found row(s) of missing values"
   ]
  },
  {
   "cell_type": "code",
   "execution_count": 125,
   "metadata": {},
   "outputs": [
    {
     "data": {
      "text/plain": [
       "(377, 8)"
      ]
     },
     "execution_count": 125,
     "metadata": {},
     "output_type": "execute_result"
    }
   ],
   "source": [
    "# remove rows with all missing values\n",
    "df_yt_ghib = df_yt_ghib.dropna(how=\"all\").reset_index(drop=True)\n",
    "df_yt_ghib.shape # verify 2 rows dropped"
   ]
  },
  {
   "cell_type": "markdown",
   "metadata": {},
   "source": [
    "#### Parse Dates"
   ]
  },
  {
   "cell_type": "code",
   "execution_count": 126,
   "metadata": {},
   "outputs": [
    {
     "data": {
      "text/plain": [
       "['Streamed live on 20 Nov 2019',\n",
       " 'Streamed live on 7 Aug 2020',\n",
       " 'Streamed live on 22 Jul 2020',\n",
       " 'Streamed live on 10 Feb 2019',\n",
       " 'Streamed live on 14 Oct 2018',\n",
       " 'Streamed live on 9 Jul 2020',\n",
       " 'Streamed live on 4 Nov 2018',\n",
       " 'Streamed live on 21 Aug 2020',\n",
       " 'Premiered on 26 Oct 2018',\n",
       " 'Streamed live on 13 Jan 2019']"
      ]
     },
     "execution_count": 126,
     "metadata": {},
     "output_type": "execute_result"
    }
   ],
   "source": [
    "# unable to convert col of dates to datetime objs\n",
    "# let's find the culprits\n",
    "culprits = [] # create empty lists to append culprits\n",
    "\n",
    "for date in df_yt_ghib[\"date_time\"]:\n",
    "    try:\n",
    "        pd.to_datetime(date)\n",
    "    except:\n",
    "        culprits.append(date)\n",
    "        \n",
    "culprits"
   ]
  },
  {
   "cell_type": "code",
   "execution_count": 127,
   "metadata": {},
   "outputs": [
    {
     "data": {
      "text/html": [
       "<div>\n",
       "<style scoped>\n",
       "    .dataframe tbody tr th:only-of-type {\n",
       "        vertical-align: middle;\n",
       "    }\n",
       "\n",
       "    .dataframe tbody tr th {\n",
       "        vertical-align: top;\n",
       "    }\n",
       "\n",
       "    .dataframe thead th {\n",
       "        text-align: right;\n",
       "    }\n",
       "</style>\n",
       "<table border=\"1\" class=\"dataframe\">\n",
       "  <thead>\n",
       "    <tr style=\"text-align: right;\">\n",
       "      <th></th>\n",
       "      <th>video_title</th>\n",
       "      <th>video_caption</th>\n",
       "      <th>date_time</th>\n",
       "      <th>video_slug</th>\n",
       "      <th>video_views</th>\n",
       "      <th>video_likes</th>\n",
       "      <th>video_dislikes</th>\n",
       "      <th>video_comments</th>\n",
       "    </tr>\n",
       "  </thead>\n",
       "  <tbody>\n",
       "    <tr>\n",
       "      <th>97</th>\n",
       "      <td>登録者10万人突破記念！ギター演奏＆心境雑談＆質問コーナー【ありがとう】</td>\n",
       "      <td>['いつも見ていただいている皆さんのおかげで登録者10万人を突破しました！YouTubeを初...</td>\n",
       "      <td>Streamed live on 20 Nov 2019</td>\n",
       "      <td>tgmlrcmulEM</td>\n",
       "      <td>10,912 views</td>\n",
       "      <td>499</td>\n",
       "      <td>8</td>\n",
       "      <td>25 Comments</td>\n",
       "    </tr>\n",
       "    <tr>\n",
       "      <th>98</th>\n",
       "      <td>LIVE | Which Singapore Bak Kut Teh is the BEST?</td>\n",
       "      <td>[\"Tonight, we will be trying Singapore's iconi...</td>\n",
       "      <td>Streamed live on 7 Aug 2020</td>\n",
       "      <td>d7z9g-0QH0g</td>\n",
       "      <td>36,776 views</td>\n",
       "      <td>633</td>\n",
       "      <td>19</td>\n",
       "      <td>86 Comments</td>\n",
       "    </tr>\n",
       "    <tr>\n",
       "      <th>126</th>\n",
       "      <td>LIVE｜Trying 3 BEST Chili Crabs in Singapore - ...</td>\n",
       "      <td>[\"Today's a special collab stream with Singapo...</td>\n",
       "      <td>Streamed live on 22 Jul 2020</td>\n",
       "      <td>2Eiqtrbo3l4</td>\n",
       "      <td>69,545 views</td>\n",
       "      <td>1,099</td>\n",
       "      <td>46</td>\n",
       "      <td>126 Comments</td>\n",
       "    </tr>\n",
       "    <tr>\n",
       "      <th>148</th>\n",
       "      <td>シンガポールから生配信！ご飯食べながら質問に答えます（アーカイブ）</td>\n",
       "      <td>['2019年2月11日に配信した動画のアーカイブ放送です。\\nご覧いただいた方、スーパーチ...</td>\n",
       "      <td>Streamed live on 10 Feb 2019</td>\n",
       "      <td>NS-ng6ot9a8</td>\n",
       "      <td>11,889 views</td>\n",
       "      <td>230</td>\n",
       "      <td>9</td>\n",
       "      <td>27 Comments</td>\n",
       "    </tr>\n",
       "    <tr>\n",
       "      <th>253</th>\n",
       "      <td>日曜日の夜にアコギ聴きませんか？【雑談・Q&amp;Aも】</td>\n",
       "      <td>['初生配信です！\\n\\n・リクエスト受け付けます（出来るとは言ってない）\\n・雑談\\n・Q...</td>\n",
       "      <td>Streamed live on 14 Oct 2018</td>\n",
       "      <td>o9xj8E5_DsE</td>\n",
       "      <td>11,276 views</td>\n",
       "      <td>488</td>\n",
       "      <td>8</td>\n",
       "      <td>52 Comments</td>\n",
       "    </tr>\n",
       "    <tr>\n",
       "      <th>322</th>\n",
       "      <td>Which Chicken Rice is the Best? Collab Stream ...</td>\n",
       "      <td>[\"Today's a special collab stream with Singapo...</td>\n",
       "      <td>Streamed live on 9 Jul 2020</td>\n",
       "      <td>EsayJ7_I4ec</td>\n",
       "      <td>26,330 views</td>\n",
       "      <td>675</td>\n",
       "      <td>31</td>\n",
       "      <td>63 Comments</td>\n",
       "    </tr>\n",
       "    <tr>\n",
       "      <th>336</th>\n",
       "      <td>【シンガポールから配信】日曜の夜に雑談でもしませんか？</td>\n",
       "      <td>['今日は演奏少なめ・雑談多めというコンセプトでやります！\\nでもリクエストも受け付けます。...</td>\n",
       "      <td>Streamed live on 4 Nov 2018</td>\n",
       "      <td>k9OMEfEbkDE</td>\n",
       "      <td>9,049 views</td>\n",
       "      <td>230</td>\n",
       "      <td>10</td>\n",
       "      <td>20 Comments</td>\n",
       "    </tr>\n",
       "    <tr>\n",
       "      <th>345</th>\n",
       "      <td>LIVE | Which Singapore Hokkien Mee Is The Best...</td>\n",
       "      <td>[\"Tonight, me and a SECRET guest will be tryin...</td>\n",
       "      <td>Streamed live on 21 Aug 2020</td>\n",
       "      <td>DIHL0k6mI8s</td>\n",
       "      <td>25,644 views</td>\n",
       "      <td>674</td>\n",
       "      <td>21</td>\n",
       "      <td>71 Comments</td>\n",
       "    </tr>\n",
       "    <tr>\n",
       "      <th>361</th>\n",
       "      <td>【笑う】ツッコミどころが多すぎるギター演奏をご覧ください</td>\n",
       "      <td>['前使ってたパソコンから秘蔵映像を見つけたので、自分でネタにしてみましたｗ\\n\\nギター、...</td>\n",
       "      <td>Premiered on 26 Oct 2018</td>\n",
       "      <td>4JaVNeALvlE</td>\n",
       "      <td>28,882 views</td>\n",
       "      <td>456</td>\n",
       "      <td>32</td>\n",
       "      <td>112 Comments</td>\n",
       "    </tr>\n",
       "    <tr>\n",
       "      <th>368</th>\n",
       "      <td>いい質問してくれたら1曲プレゼント！ギター×世界一周、海外移住、ジブリなどの質問に答えるよ</td>\n",
       "      <td>['※1/13の配信です。\\n\\n海外の路上でジブリ弾きながら世界旅行したジブリおじさんです...</td>\n",
       "      <td>Streamed live on 13 Jan 2019</td>\n",
       "      <td>4UF_X0PaDDg</td>\n",
       "      <td>7,898 views</td>\n",
       "      <td>190</td>\n",
       "      <td>10</td>\n",
       "      <td>52 Comments</td>\n",
       "    </tr>\n",
       "  </tbody>\n",
       "</table>\n",
       "</div>"
      ],
      "text/plain": [
       "                                           video_title  \\\n",
       "97                登録者10万人突破記念！ギター演奏＆心境雑談＆質問コーナー【ありがとう】   \n",
       "98     LIVE | Which Singapore Bak Kut Teh is the BEST?   \n",
       "126  LIVE｜Trying 3 BEST Chili Crabs in Singapore - ...   \n",
       "148                  シンガポールから生配信！ご飯食べながら質問に答えます（アーカイブ）   \n",
       "253                          日曜日の夜にアコギ聴きませんか？【雑談・Q&Aも】   \n",
       "322  Which Chicken Rice is the Best? Collab Stream ...   \n",
       "336                        【シンガポールから配信】日曜の夜に雑談でもしませんか？   \n",
       "345  LIVE | Which Singapore Hokkien Mee Is The Best...   \n",
       "361                       【笑う】ツッコミどころが多すぎるギター演奏をご覧ください   \n",
       "368      いい質問してくれたら1曲プレゼント！ギター×世界一周、海外移住、ジブリなどの質問に答えるよ   \n",
       "\n",
       "                                         video_caption  \\\n",
       "97   ['いつも見ていただいている皆さんのおかげで登録者10万人を突破しました！YouTubeを初...   \n",
       "98   [\"Tonight, we will be trying Singapore's iconi...   \n",
       "126  [\"Today's a special collab stream with Singapo...   \n",
       "148  ['2019年2月11日に配信した動画のアーカイブ放送です。\\nご覧いただいた方、スーパーチ...   \n",
       "253  ['初生配信です！\\n\\n・リクエスト受け付けます（出来るとは言ってない）\\n・雑談\\n・Q...   \n",
       "322  [\"Today's a special collab stream with Singapo...   \n",
       "336  ['今日は演奏少なめ・雑談多めというコンセプトでやります！\\nでもリクエストも受け付けます。...   \n",
       "345  [\"Tonight, me and a SECRET guest will be tryin...   \n",
       "361  ['前使ってたパソコンから秘蔵映像を見つけたので、自分でネタにしてみましたｗ\\n\\nギター、...   \n",
       "368  ['※1/13の配信です。\\n\\n海外の路上でジブリ弾きながら世界旅行したジブリおじさんです...   \n",
       "\n",
       "                        date_time   video_slug   video_views video_likes  \\\n",
       "97   Streamed live on 20 Nov 2019  tgmlrcmulEM  10,912 views         499   \n",
       "98    Streamed live on 7 Aug 2020  d7z9g-0QH0g  36,776 views         633   \n",
       "126  Streamed live on 22 Jul 2020  2Eiqtrbo3l4  69,545 views       1,099   \n",
       "148  Streamed live on 10 Feb 2019  NS-ng6ot9a8  11,889 views         230   \n",
       "253  Streamed live on 14 Oct 2018  o9xj8E5_DsE  11,276 views         488   \n",
       "322   Streamed live on 9 Jul 2020  EsayJ7_I4ec  26,330 views         675   \n",
       "336   Streamed live on 4 Nov 2018  k9OMEfEbkDE   9,049 views         230   \n",
       "345  Streamed live on 21 Aug 2020  DIHL0k6mI8s  25,644 views         674   \n",
       "361      Premiered on 26 Oct 2018  4JaVNeALvlE  28,882 views         456   \n",
       "368  Streamed live on 13 Jan 2019  4UF_X0PaDDg   7,898 views         190   \n",
       "\n",
       "    video_dislikes video_comments  \n",
       "97               8    25 Comments  \n",
       "98              19    86 Comments  \n",
       "126             46   126 Comments  \n",
       "148              9    27 Comments  \n",
       "253              8    52 Comments  \n",
       "322             31    63 Comments  \n",
       "336             10    20 Comments  \n",
       "345             21    71 Comments  \n",
       "361             32   112 Comments  \n",
       "368             10    52 Comments  "
      ]
     },
     "execution_count": 127,
     "metadata": {},
     "output_type": "execute_result"
    }
   ],
   "source": [
    "mask = df_yt_ghib[\"date_time\"].isin(culprits) # find culprit\n",
    "df_yt_ghib[mask]"
   ]
  },
  {
   "cell_type": "code",
   "execution_count": 128,
   "metadata": {},
   "outputs": [],
   "source": [
    "# let's extract out the dates so we can parse col as such\n",
    "df_yt_ghib.loc[mask, \"date_time\"] = re.findall(\"\\d+\\s\\w+\\s\\d+\", df_yt_ghib.loc[mask, \"date_time\"].values[0])[0]"
   ]
  },
  {
   "cell_type": "code",
   "execution_count": 129,
   "metadata": {},
   "outputs": [
    {
     "name": "stdout",
     "output_type": "stream",
     "text": [
      "<class 'pandas.core.frame.DataFrame'>\n",
      "RangeIndex: 377 entries, 0 to 376\n",
      "Data columns (total 8 columns):\n",
      " #   Column          Non-Null Count  Dtype         \n",
      "---  ------          --------------  -----         \n",
      " 0   video_title     377 non-null    object        \n",
      " 1   video_caption   377 non-null    object        \n",
      " 2   date_time       377 non-null    datetime64[ns]\n",
      " 3   video_slug      377 non-null    object        \n",
      " 4   video_views     377 non-null    object        \n",
      " 5   video_likes     377 non-null    object        \n",
      " 6   video_dislikes  377 non-null    object        \n",
      " 7   video_comments  374 non-null    object        \n",
      "dtypes: datetime64[ns](1), object(7)\n",
      "memory usage: 23.7+ KB\n"
     ]
    }
   ],
   "source": [
    "df_yt_ghib[\"date_time\"] = pd.to_datetime(df_yt_ghib[\"date_time\"])\n",
    "df_yt_ghib.info() # successfully converted date_time to datetime objs"
   ]
  },
  {
   "cell_type": "code",
   "execution_count": 130,
   "metadata": {},
   "outputs": [],
   "source": [
    "# there are still missing values in video_comments\n",
    "# video_views, video_likes, video_dislikes, and video_comments are all str objs when they should be numeric"
   ]
  },
  {
   "cell_type": "markdown",
   "metadata": {},
   "source": [
    "#### Views and Likes"
   ]
  },
  {
   "cell_type": "code",
   "execution_count": 131,
   "metadata": {},
   "outputs": [
    {
     "data": {
      "text/plain": [
       "0        347\n",
       "1        405\n",
       "2        258\n",
       "3      3,155\n",
       "4      1,931\n",
       "       ...  \n",
       "372    2,153\n",
       "373      424\n",
       "374    1,556\n",
       "375    1,002\n",
       "376    1,460\n",
       "Name: video_likes, Length: 377, dtype: object"
      ]
     },
     "execution_count": 131,
     "metadata": {},
     "output_type": "execute_result"
    }
   ],
   "source": [
    "df_yt_ghib[\"video_likes\"]"
   ]
  },
  {
   "cell_type": "code",
   "execution_count": 132,
   "metadata": {},
   "outputs": [
    {
     "name": "stdout",
     "output_type": "stream",
     "text": [
      "<class 'pandas.core.frame.DataFrame'>\n",
      "RangeIndex: 377 entries, 0 to 376\n",
      "Data columns (total 8 columns):\n",
      " #   Column          Non-Null Count  Dtype         \n",
      "---  ------          --------------  -----         \n",
      " 0   video_title     377 non-null    object        \n",
      " 1   video_caption   377 non-null    object        \n",
      " 2   date_time       377 non-null    datetime64[ns]\n",
      " 3   video_slug      377 non-null    object        \n",
      " 4   video_views     377 non-null    int32         \n",
      " 5   video_likes     377 non-null    object        \n",
      " 6   video_dislikes  377 non-null    object        \n",
      " 7   video_comments  374 non-null    object        \n",
      "dtypes: datetime64[ns](1), int32(1), object(6)\n",
      "memory usage: 22.2+ KB\n"
     ]
    }
   ],
   "source": [
    "# extract no. of views, remove \",\" separator, and convert to int dtype\n",
    "df_yt_ghib[\"video_views\"] = df_yt_ghib[\"video_views\"].str.extract(r\"(\\d+.\\d+)\", expand=False).str.replace(\",\", \"\").astype(int)\n",
    "df_yt_ghib.info() # verify conversion is successful"
   ]
  },
  {
   "cell_type": "code",
   "execution_count": 133,
   "metadata": {},
   "outputs": [
    {
     "name": "stdout",
     "output_type": "stream",
     "text": [
      "<class 'pandas.core.frame.DataFrame'>\n",
      "RangeIndex: 377 entries, 0 to 376\n",
      "Data columns (total 8 columns):\n",
      " #   Column          Non-Null Count  Dtype         \n",
      "---  ------          --------------  -----         \n",
      " 0   video_title     377 non-null    object        \n",
      " 1   video_caption   377 non-null    object        \n",
      " 2   date_time       377 non-null    datetime64[ns]\n",
      " 3   video_slug      377 non-null    object        \n",
      " 4   video_views     377 non-null    int32         \n",
      " 5   video_likes     377 non-null    int32         \n",
      " 6   video_dislikes  377 non-null    int32         \n",
      " 7   video_comments  374 non-null    object        \n",
      "dtypes: datetime64[ns](1), int32(3), object(4)\n",
      "memory usage: 19.3+ KB\n"
     ]
    }
   ],
   "source": [
    "# extract no. of likes/dislikes, remove \",\" separator, and convert to int dtype\n",
    "df_yt_ghib[\"video_likes\"] = df_yt_ghib[\"video_likes\"].str.replace(\",\", \"\").astype(int)\n",
    "df_yt_ghib[\"video_dislikes\"] = df_yt_ghib[\"video_dislikes\"].str.replace(\",\", \"\").astype(int)\n",
    "df_yt_ghib.info() # verify conversion is successful"
   ]
  },
  {
   "cell_type": "markdown",
   "metadata": {},
   "source": [
    "#### No. of Comments"
   ]
  },
  {
   "cell_type": "code",
   "execution_count": 134,
   "metadata": {},
   "outputs": [
    {
     "data": {
      "text/plain": [
       "0       77 Comments\n",
       "1      102 Comments\n",
       "2       62 Comments\n",
       "3      172 Comments\n",
       "4      318 Comments\n",
       "           ...     \n",
       "372    288 Comments\n",
       "373     57 Comments\n",
       "374    152 Comments\n",
       "375    115 Comments\n",
       "376             NaN\n",
       "Name: video_comments, Length: 377, dtype: object"
      ]
     },
     "execution_count": 134,
     "metadata": {},
     "output_type": "execute_result"
    }
   ],
   "source": [
    "df_yt_ghib[\"video_comments\"]"
   ]
  },
  {
   "cell_type": "code",
   "execution_count": 135,
   "metadata": {},
   "outputs": [],
   "source": [
    "# remove all \"Comments\" text, \",\" for the thousandth place, and strip spaces\n",
    "df_yt_ghib.loc[:, \"video_comments\"] = df_yt_ghib[\"video_comments\"].str.replace(\"Comments\", \"\").str.replace(\",\", \"\").str.strip()"
   ]
  },
  {
   "cell_type": "code",
   "execution_count": 136,
   "metadata": {},
   "outputs": [
    {
     "name": "stdout",
     "output_type": "stream",
     "text": [
      "No. of posts with missing total no. of video comments: 3\n"
     ]
    },
    {
     "data": {
      "text/html": [
       "<div>\n",
       "<style scoped>\n",
       "    .dataframe tbody tr th:only-of-type {\n",
       "        vertical-align: middle;\n",
       "    }\n",
       "\n",
       "    .dataframe tbody tr th {\n",
       "        vertical-align: top;\n",
       "    }\n",
       "\n",
       "    .dataframe thead th {\n",
       "        text-align: right;\n",
       "    }\n",
       "</style>\n",
       "<table border=\"1\" class=\"dataframe\">\n",
       "  <thead>\n",
       "    <tr style=\"text-align: right;\">\n",
       "      <th></th>\n",
       "      <th>video_title</th>\n",
       "      <th>video_caption</th>\n",
       "      <th>date_time</th>\n",
       "      <th>video_slug</th>\n",
       "      <th>video_views</th>\n",
       "      <th>video_likes</th>\n",
       "      <th>video_dislikes</th>\n",
       "      <th>video_comments</th>\n",
       "    </tr>\n",
       "  </thead>\n",
       "  <tbody>\n",
       "    <tr>\n",
       "      <th>103</th>\n",
       "      <td>Singaporean Auntie vs Durian Seller👩🏻  Ultimat...</td>\n",
       "      <td>[\"Today you will witness the ultimate match - ...</td>\n",
       "      <td>2020-09-03</td>\n",
       "      <td>GN0mKg5EUts</td>\n",
       "      <td>71912</td>\n",
       "      <td>1335</td>\n",
       "      <td>50</td>\n",
       "      <td>NaN</td>\n",
       "    </tr>\n",
       "    <tr>\n",
       "      <th>149</th>\n",
       "      <td>A Day in a Life of a Japanese YouTuber in Sing...</td>\n",
       "      <td>['TODAY, an online media company, contacted me...</td>\n",
       "      <td>2019-12-26</td>\n",
       "      <td>zF8vFCuilXQ</td>\n",
       "      <td>36986</td>\n",
       "      <td>1534</td>\n",
       "      <td>10</td>\n",
       "      <td>NaN</td>\n",
       "    </tr>\n",
       "    <tr>\n",
       "      <th>376</th>\n",
       "      <td>ロンドンで一日観光で遊び尽くしたらいくらかかる？</td>\n",
       "      <td>['▼海外専門のグルメチャンネル「タベルトラベル」開設しました！日本人YouTuberで唯一...</td>\n",
       "      <td>2018-09-01</td>\n",
       "      <td>lr6gSHXhgxw</td>\n",
       "      <td>98613</td>\n",
       "      <td>1460</td>\n",
       "      <td>82</td>\n",
       "      <td>NaN</td>\n",
       "    </tr>\n",
       "  </tbody>\n",
       "</table>\n",
       "</div>"
      ],
      "text/plain": [
       "                                           video_title  \\\n",
       "103  Singaporean Auntie vs Durian Seller👩🏻  Ultimat...   \n",
       "149  A Day in a Life of a Japanese YouTuber in Sing...   \n",
       "376                           ロンドンで一日観光で遊び尽くしたらいくらかかる？   \n",
       "\n",
       "                                         video_caption  date_time  \\\n",
       "103  [\"Today you will witness the ultimate match - ... 2020-09-03   \n",
       "149  ['TODAY, an online media company, contacted me... 2019-12-26   \n",
       "376  ['▼海外専門のグルメチャンネル「タベルトラベル」開設しました！日本人YouTuberで唯一... 2018-09-01   \n",
       "\n",
       "      video_slug  video_views  video_likes  video_dislikes video_comments  \n",
       "103  GN0mKg5EUts        71912         1335              50            NaN  \n",
       "149  zF8vFCuilXQ        36986         1534              10            NaN  \n",
       "376  lr6gSHXhgxw        98613         1460              82            NaN  "
      ]
     },
     "execution_count": 136,
     "metadata": {},
     "output_type": "execute_result"
    }
   ],
   "source": [
    "mask = df_yt_ghib[\"video_comments\"].isnull() # find missing values\n",
    "print(\"No. of posts with missing total no. of video comments:\", len(df_yt_ghib[mask]))\n",
    "df_yt_ghib[mask]"
   ]
  },
  {
   "cell_type": "code",
   "execution_count": 137,
   "metadata": {},
   "outputs": [],
   "source": [
    "# small no. of videos with this problem, perhaps comments were disabled for these videos\n",
    "# let's just imput with 0\n",
    "df_yt_ghib.loc[:, \"video_comments\"] = df_yt_ghib[\"video_comments\"].fillna(0)"
   ]
  },
  {
   "cell_type": "code",
   "execution_count": 138,
   "metadata": {},
   "outputs": [
    {
     "name": "stdout",
     "output_type": "stream",
     "text": [
      "<class 'pandas.core.frame.DataFrame'>\n",
      "RangeIndex: 377 entries, 0 to 376\n",
      "Data columns (total 8 columns):\n",
      " #   Column          Non-Null Count  Dtype         \n",
      "---  ------          --------------  -----         \n",
      " 0   video_title     377 non-null    object        \n",
      " 1   video_caption   377 non-null    object        \n",
      " 2   date_time       377 non-null    datetime64[ns]\n",
      " 3   video_slug      377 non-null    object        \n",
      " 4   video_views     377 non-null    int32         \n",
      " 5   video_likes     377 non-null    int32         \n",
      " 6   video_dislikes  377 non-null    int32         \n",
      " 7   video_comments  377 non-null    int32         \n",
      "dtypes: datetime64[ns](1), int32(4), object(3)\n",
      "memory usage: 17.8+ KB\n"
     ]
    }
   ],
   "source": [
    "# convert col to int dtype\n",
    "df_yt_ghib.loc[:, \"video_comments\"] = df_yt_ghib[\"video_comments\"].astype(int)\n",
    "df_yt_ghib.info()"
   ]
  },
  {
   "cell_type": "markdown",
   "metadata": {},
   "source": [
    "#### Merging Text"
   ]
  },
  {
   "cell_type": "code",
   "execution_count": 139,
   "metadata": {},
   "outputs": [
    {
     "data": {
      "text/html": [
       "<div>\n",
       "<style scoped>\n",
       "    .dataframe tbody tr th:only-of-type {\n",
       "        vertical-align: middle;\n",
       "    }\n",
       "\n",
       "    .dataframe tbody tr th {\n",
       "        vertical-align: top;\n",
       "    }\n",
       "\n",
       "    .dataframe thead th {\n",
       "        text-align: right;\n",
       "    }\n",
       "</style>\n",
       "<table border=\"1\" class=\"dataframe\">\n",
       "  <thead>\n",
       "    <tr style=\"text-align: right;\">\n",
       "      <th></th>\n",
       "      <th>video_title</th>\n",
       "      <th>video_caption</th>\n",
       "      <th>date_time</th>\n",
       "      <th>video_slug</th>\n",
       "      <th>video_views</th>\n",
       "      <th>video_likes</th>\n",
       "      <th>video_dislikes</th>\n",
       "      <th>video_comments</th>\n",
       "      <th>video_title_clean</th>\n",
       "      <th>video_caption_clean</th>\n",
       "    </tr>\n",
       "  </thead>\n",
       "  <tbody>\n",
       "    <tr>\n",
       "      <th>0</th>\n",
       "      <td>【これが現実】エリート駐在員にストレスを吐き出してもらった結果…【シンガポール】</td>\n",
       "      <td>['▼基本一人旅さん\\n', 'https://twitter.com/crazy_trav...</td>\n",
       "      <td>2019-06-07</td>\n",
       "      <td>AsF1hDfyF9g</td>\n",
       "      <td>26426</td>\n",
       "      <td>347</td>\n",
       "      <td>36</td>\n",
       "      <td>77</td>\n",
       "      <td>…</td>\n",
       "      <td>' ' ' ' … … ' ' ' ' ' ' ' ' ' ' '#' 'u3000' '#...</td>\n",
       "    </tr>\n",
       "  </tbody>\n",
       "</table>\n",
       "</div>"
      ],
      "text/plain": [
       "                                video_title  \\\n",
       "0  【これが現実】エリート駐在員にストレスを吐き出してもらった結果…【シンガポール】   \n",
       "\n",
       "                                       video_caption  date_time   video_slug  \\\n",
       "0  ['▼基本一人旅さん\\n', 'https://twitter.com/crazy_trav... 2019-06-07  AsF1hDfyF9g   \n",
       "\n",
       "   video_views  video_likes  video_dislikes  video_comments video_title_clean  \\\n",
       "0        26426          347              36              77                 …   \n",
       "\n",
       "                                 video_caption_clean  \n",
       "0  ' ' ' ' … … ' ' ' ' ' ' ' ' ' ' '#' 'u3000' '#...  "
      ]
     },
     "execution_count": 139,
     "metadata": {},
     "output_type": "execute_result"
    }
   ],
   "source": [
    "# before merging, let's clean the text\n",
    "df_yt_ghib[\"video_title_clean\"] = clean_text(df_yt_ghib, \"video_title\")\n",
    "df_yt_ghib[\"video_caption_clean\"] = clean_text(df_yt_ghib, \"video_caption\")\n",
    "df_yt_ghib.head(1)"
   ]
  },
  {
   "cell_type": "code",
   "execution_count": 140,
   "metadata": {},
   "outputs": [
    {
     "data": {
      "text/plain": [
       "(377, 11)"
      ]
     },
     "execution_count": 140,
     "metadata": {},
     "output_type": "execute_result"
    }
   ],
   "source": [
    "content = [] # create empty list\n",
    "\n",
    "for _, row in df_yt_ghib.iterrows():\n",
    "    content.append(row[\"video_title\"] + \" \" + row[\"video_caption\"]) # join title and caption strings\n",
    "    \n",
    "df_yt_ghib[\"content\"] = content # create new col for merged strings\n",
    "df_yt_ghib.shape # verify new col added"
   ]
  },
  {
   "cell_type": "code",
   "execution_count": 141,
   "metadata": {},
   "outputs": [
    {
     "data": {
      "text/html": [
       "<div>\n",
       "<style scoped>\n",
       "    .dataframe tbody tr th:only-of-type {\n",
       "        vertical-align: middle;\n",
       "    }\n",
       "\n",
       "    .dataframe tbody tr th {\n",
       "        vertical-align: top;\n",
       "    }\n",
       "\n",
       "    .dataframe thead th {\n",
       "        text-align: right;\n",
       "    }\n",
       "</style>\n",
       "<table border=\"1\" class=\"dataframe\">\n",
       "  <thead>\n",
       "    <tr style=\"text-align: right;\">\n",
       "      <th></th>\n",
       "      <th>video_title</th>\n",
       "      <th>video_caption</th>\n",
       "      <th>date_time</th>\n",
       "      <th>video_slug</th>\n",
       "      <th>video_views</th>\n",
       "      <th>video_likes</th>\n",
       "      <th>video_dislikes</th>\n",
       "      <th>video_comments</th>\n",
       "      <th>video_title_clean</th>\n",
       "      <th>video_caption_clean</th>\n",
       "      <th>content</th>\n",
       "    </tr>\n",
       "  </thead>\n",
       "  <tbody>\n",
       "    <tr>\n",
       "      <th>0</th>\n",
       "      <td>【これが現実】エリート駐在員にストレスを吐き出してもらった結果…【シンガポール】</td>\n",
       "      <td>['▼基本一人旅さん\\n', 'https://twitter.com/crazy_trav...</td>\n",
       "      <td>2019-06-07</td>\n",
       "      <td>AsF1hDfyF9g</td>\n",
       "      <td>26426</td>\n",
       "      <td>347</td>\n",
       "      <td>36</td>\n",
       "      <td>77</td>\n",
       "      <td>…</td>\n",
       "      <td>' ' ' ' … … ' ' ' ' ' ' ' ' ' ' '#' 'u3000' '#...</td>\n",
       "      <td>【これが現実】エリート駐在員にストレスを吐き出してもらった結果…【シンガポール】 ['▼基本...</td>\n",
       "    </tr>\n",
       "  </tbody>\n",
       "</table>\n",
       "</div>"
      ],
      "text/plain": [
       "                                video_title  \\\n",
       "0  【これが現実】エリート駐在員にストレスを吐き出してもらった結果…【シンガポール】   \n",
       "\n",
       "                                       video_caption  date_time   video_slug  \\\n",
       "0  ['▼基本一人旅さん\\n', 'https://twitter.com/crazy_trav... 2019-06-07  AsF1hDfyF9g   \n",
       "\n",
       "   video_views  video_likes  video_dislikes  video_comments video_title_clean  \\\n",
       "0        26426          347              36              77                 …   \n",
       "\n",
       "                                 video_caption_clean  \\\n",
       "0  ' ' ' ' … … ' ' ' ' ' ' ' ' ' ' '#' 'u3000' '#...   \n",
       "\n",
       "                                             content  \n",
       "0  【これが現実】エリート駐在員にストレスを吐き出してもらった結果…【シンガポール】 ['▼基本...  "
      ]
     },
     "execution_count": 141,
     "metadata": {},
     "output_type": "execute_result"
    }
   ],
   "source": [
    "df_yt_ghib.head(1)"
   ]
  },
  {
   "cell_type": "markdown",
   "metadata": {},
   "source": [
    "#### Selecting Relevant Videos"
   ]
  },
  {
   "cell_type": "code",
   "execution_count": 142,
   "metadata": {},
   "outputs": [],
   "source": [
    "# before selecting, let's save out cleaned GO df\n",
    "df_yt_ghib.to_csv(\"../datasets/df_yt_ghib_cleaned.csv\", index=False)"
   ]
  },
  {
   "cell_type": "code",
   "execution_count": 143,
   "metadata": {},
   "outputs": [],
   "source": [
    "# what are the relevant videos?"
   ]
  },
  {
   "cell_type": "code",
   "execution_count": 144,
   "metadata": {},
   "outputs": [
    {
     "data": {
      "text/plain": [
       "array(['【これが現実】エリート駐在員にストレスを吐き出してもらった結果…【シンガポール】',\n",
       "       '【発表】路上演奏のライセンスを取りにオーディションに参加した結果',\n",
       "       '【裏側公開】ビートルズのノルウェーの森を弾いてみた【メイキング動画】',\n",
       "       'LAP TAPPING Guitar at Taipei!\\u3000台北でひざ置きギター弾いてみた（Jack Dawson & Andy Mckee \"Drifting\" Cover）',\n",
       "       'Singapore Semi-Lockdown Diary Day 0 | Japanese Living in SG',\n",
       "       'How Much Will I Earn If I Played Hikoukigumo on the Street of Singapore? WIND RISES',\n",
       "       '【天国】シンガポールの会社のリアルな福利厚生 事情',\n",
       "       'Visiting The Last Surviving Village in Singapore | Kampong Lorong Buangkok🇸🇬',\n",
       "       '外国人が連想する「日本」の本当のイメージとは？海外に20年住んだ僕が教える',\n",
       "       'バンコクの大都会で路上ギターしたらチップいくら入る？【タイ】',\n",
       "       \"Japanese Reviews Singapore's UNI Restaurant | 🇸🇬Uni Gallery\",\n",
       "       'Hawkers After the Lock Down | Old Airport Road Food Centre, Singapore',\n",
       "       'Cute Girl Tipping me! Busking at SPLIT, CROATIA. \"All Laid Back and Stuff\", composed by Andy Mckee,',\n",
       "       'I Was Challenged By My Viewer… And This Is The Outcome🥊😤',\n",
       "       'Japanese YouTuber Meets Dee Kosh | Famous Singapore YouTuber🇸🇬',\n",
       "       'A Day in My Life as a Traveling Busker | Taiwan🇹🇼',\n",
       "       'I Have Never Been So Disappointed 🇸🇬Holland Village',\n",
       "       '13 AMAZING Things to See and Do at Singapore Changi Airport [Japanese]',\n",
       "       'Would You Try This? Going Too Deep in Little India🇮🇳',\n",
       "       '日本人のぼくが海外で受けた差別の話をします', 'マレーシア・ペナン島で路上ギターしたら予想外の結果にｗ',\n",
       "       'シンガポールの変わった法律15選｜こんなので犯罪…！？罰金＆禁固刑', 'シンガポールで就職した企業がホワイトすぎるｗｗ',\n",
       "       \"You Wouldn't Believe What's Inside This Box!\",\n",
       "       'Singapore Katong Adventure! Colorful Peranakan Houses🏠🇸🇬',\n",
       "       'Does He Regret Being Half Singaporean/Japanese? His Take on National Service🎖️',\n",
       "       '日本も真似すべき？シンガポールの会社の良い点3つ！日本と比較してどうなのか？【勤労3ヶ月記念】',\n",
       "       'Is Japan Mad? 60,000 People Traveling to Okinawa Next Holiday🇯🇵',\n",
       "       '玉ねぎ1個300円…！シンガポールで一番高いスーパーに行った結果【激怒・明治屋】',\n",
       "       '【聖地で演奏】バンプメドレーをたんぽぽ丘で弾いてみた｜BUMP OF CHICKEN・ギター',\n",
       "       '【ラピュタの舞台】イギリスで『スラッグ渓谷の朝』をソロギターで弾いてみた（The Slug Valley in the Morning/Guitar/@Powis Castle, Wales)',\n",
       "       '【速報】シンガポールで仕事決まりました。就職します【海外移住】', '【大公開】シンガポールで就職活動してるぼくの一日',\n",
       "       '台湾で一番美味しい魯肉飯！1ヶ月住んだ僕が教えます【金峰魯肉飯】\\u3000台北最美味的魯肉飯',\n",
       "       \"Inside Extreme Wow Suite | W Singapore's MOST EXPENSIVE ROOM!\"],\n",
       "      dtype=object)"
      ]
     },
     "execution_count": 144,
     "metadata": {},
     "output_type": "execute_result"
    }
   ],
   "source": [
    "df_yt_ghib[\"video_title\"].values[:35]"
   ]
  },
  {
   "cell_type": "code",
   "execution_count": 145,
   "metadata": {},
   "outputs": [
    {
     "data": {
      "text/plain": [
       "array([\"['▼基本一人旅さん\\\\n', 'https://twitter.com/crazy_traveler1', '\\\\n\\\\n今回はシンガポールで駐在員として働く「基本一人旅」さんに駐在員の闇について迫りました。\\\\n\\\\n当然、働き方や待遇は会社によりけりですが、話を聞く限りめちゃくちゃ大変そう…。\\\\n\\\\n海外の駐在員は\\\\n・いい家\\\\n・健康保険\\\\n・高い給料\\\\n\\\\nなどを会社が提供してくれますが、その引き換えに\\\\n\\\\n・いつ来るか分からない任期\\\\n・会社に縛れる（圧倒的なコミットを強制される）ストレス\\\\n\\\\nこれらに苦しんでいる方が多いイメージです。\\\\n\\\\n一見、華やかな見える駐在員の生活ですが、今回お話聞いて「一概には言えないんだな」と感じましたね〜…。\\\\n\\\\nちなみに、現地採用のぼくは割とゆるくやらせてもらっています😇\\\\n\\\\n前回の動画：\\\\n・シンガポール駐在員の自宅を大公開。家賃は？\\\\n', 'https://www.youtube.com/watch?v=JJNW7...', '\\\\n・シンガポール駐在員の給料について暴露\\\\n', 'https://www.youtube.com/watch?v=p4DrC...', '\\\\n\\\\nシンガポールで就職する方法：\\\\n', 'https://www.ghib-oji.com/singapore-jo...', '\\\\n\\\\n\\\\n', '#シンガポール', '\\\\u3000', '#現地採用', '\\\\u3000', '#駐在員', '\\\\u3000', '#生活', '\\\\n━━━━━━━━━━━━\\\\n✔️チャンネル登録！（subscribe)\\\\n ', 'http://urx3.nu/HTUJ', '\\\\n━━━━━━━━━━━━\\\\n🌐SNS・ブログ\\\\n・Instagram → ', 'https://www.instagram.com/ghibli_ojisan/', '\\\\n・Twitter → ', 'https://twitter.com/ghibli_ojisan', '\\\\n・Blog→ ', 'https://www.ghib-oji.com/', '\\\\n━━━━━━━━━━━━\\\\n🎸おすすめ動画3選！\\\\n・台湾・九份で「いつも何度でも」を弾いてみた\\\\n\\\\u3000', 'https://youtu.be/WudKhqj_Na8', '\\\\n・イタリアでトトロ弾いた結果…\\\\n\\\\u3000', 'https://youtu.be/3NptDf229nk', '\\\\n・サマルカンドでザナルカンドを弾いてみた\\\\n\\\\u3000', 'https://youtu.be/_jhMSsAFKPQ', '\\\\n━━━━━━━━━━━━\\\\n😲自己紹介\\\\n会社を辞め、ギターを持って旅に出たGhibli Ojisan（ジブリおじさん）です。11ヶ月で27カ国訪れ、世界各地でジブリのインストや叩き系ギターを弾いてきました。\\\\n\\\\n2018年8月にYouTube公式「急上昇クリエイター」として選出されたことをキッカケに、海外旅行やシンガポールについての動画もアップし始めました。\\\\n\\\\n世界旅行後は台湾1ヶ月プチ移住、ノルウェー3ヶ月生活（農業ボランティア）など経験し、2019年1月にシンガポールに拠点を移しました。\\\\n\\\\n音楽系・旅系の動画をアップしていますので、よろしければチャンネル登録と各種SNSのフォローお願いします！\\\\n\\\\n→チャンネル登録\\\\u3000', 'http://urx3.nu/HTUJ', '\\\\n\\\\n━━━━━━━━━━━━\\\\n▼お問い合わせ\\\\nお仕事のご依頼・お問い合わせはコチラ→ ', 'https://ssl.form-mailer.jp/fms/dea63a...', '\\\\n\\\\n3〜5日以内に返信いたしますが、返信ない場合はTwitter/InstagramのDMにてお願いします']\",\n",
       "       \"['😃チャンネル登録： ', 'http://urx3.nu/HTUJ', '\\\\n🎥関連動画「オーディションを受けてきた」：', 'https://www.youtube.com/watch?v=58rtK...', '\\\\n\\\\nシンガポールでは路上ライブを行うためにはライセンスが必要になります。以前、オーディションに参加してきたので、その結果報告です！\\\\n\\\\n結果は・・・合格しました！ほんと嬉しいです。\\\\n\\\\n「こういう企画やってほしい！」などあれば是非コメント欄で教えて下さい！\\\\n路上演奏の生配信は行いたいなぁと思っていますが、皆さんからもアイディアいただきたいです！\\\\n\\\\n海外 食レポ専門チャンネル『Taberu Travel』\\\\n▶', 'https://www.youtube.com/c/TaberuOjisan', '\\\\n\\\\nぼくの撮影機材\\\\n▶', 'https://www.ghib-oji.com/my-equipment/', '\\\\n\\\\n\\\\n', '#シンガポール', '\\\\u3000', '#バスキング', '\\\\n━━━━━━━━━━━━\\\\n✔️チャンネル登録！（subscribe)\\\\n ', 'http://urx3.nu/HTUJ', '\\\\n━━━━━━━━━━━━\\\\n🌐SNS・ブログ\\\\n・Instagram → ', 'https://www.instagram.com/ghibli_ojisan/', '\\\\n・Twitter → ', 'https://twitter.com/ghibli_ojisan', '\\\\n・Blog→ ', 'https://www.ghib-oji.com/', '\\\\n━━━━━━━━━━━━\\\\n🎸おすすめ動画3選！\\\\n・台湾・九份で「いつも何度でも」を弾いてみた\\\\n\\\\u3000', 'https://youtu.be/WudKhqj_Na8', '\\\\n・イタリアでトトロ弾いた結果…\\\\n\\\\u3000', 'https://youtu.be/3NptDf229nk', '\\\\n・サマルカンドでザナルカンドを弾いてみた\\\\n\\\\u3000', 'https://youtu.be/_jhMSsAFKPQ', '\\\\n━━━━━━━━━━━━\\\\n😲自己紹介\\\\n会社を辞め、ギターを持って旅に出たGhibli Ojisan（ジブリおじさん）です。11ヶ月で27カ国訪れ、世界各地でジブリのインストや叩き系ギターを弾いてきました。\\\\n\\\\n2018年8月にYouTube公式「急上昇クリエイター」として選出されたことをキッカケに、海外旅行やシンガポールについての動画もアップし始めました。\\\\n\\\\n世界旅行後は台湾1ヶ月プチ移住、ノルウェー3ヶ月生活（農業ボランティア）など経験し、2019年1月にシンガポールに拠点を移しました。\\\\n\\\\n音楽系・旅系の動画をアップしていますので、よろしければチャンネル登録と各種SNSのフォローお願いします！\\\\n\\\\n→チャンネル登録\\\\u3000', 'http://urx3.nu/HTUJ', '\\\\n\\\\n━━━━━━━━━━━━\\\\n▼お問い合わせ\\\\nお仕事のご依頼・お問い合わせはコチラ→ ', 'https://www.ghib-oji.com/contact/', '\\\\n\\\\n3〜5日以内に返信いたしますが、返信ない場合はTwitter/InstagramのDMにてお願いします']\",\n",
       "       '[\\'以前、『ノルウェーの森でノルウェーの森を弾いてみた』という（詰まらないシャレみたいな）動画を作ったんですが、今回はそのメイキング映像です＾＾\\\\n\\\\n撮影地を見つけるまで、撮影地の様子などを公開しています！\\\\n\\\\n↓↓本編動画↓↓\\\\n『ノルウェーの森』をノルウェーの森で弾いてみた→\\', \\'https://youtu.be/0eNA4TpXV6k\\', \\'\\\\n\\\\n\\\\nジブリ作品の聖地でもよく撮影しています。\\\\n・台湾・九份で「いつも何度でも」を弾いてみた→\\', \\'https://youtu.be/WudKhqj_Na8\\', \\'\\\\n\\\\n\\\\n▼ Follow me!\\\\nSubscribe（チャンネル登録） → \\', \\'http://urx3.nu/HTUJ\\', \\'\\\\nInstagram → \\', \\'https://www.instagram.com/ghibli_ojisan/\\', \\'\\\\nTwitter → \\', \\'https://twitter.com/ghibli_ojisan\\', \\'\\\\n\\\\n▼ Other Videos（おすすめ動画）\\\\n-台湾・九份で「いつも何度でも」を弾いてみた（Spirited Away, Played at Taiwan）\\\\n\\', \\'https://youtu.be/WudKhqj_Na8\\', \\'\\\\n- イタリアでトトロ弾いた結果…（Totoro Played at Italy）\\\\n\\', \\'https://youtu.be/3NptDf229nk\\', \\'\\\\n-サマルカンドでザナルカンドを弾いてみた（Playing \"To Zanarkand (FFX)\" at Samarkand）\\\\n\\', \\'https://youtu.be/_jhMSsAFKPQ\\', \\'\\\\n\\\\n▼自己紹介\\\\n会社を辞め、ギターを持って旅に出たじぶりおじさんです。11ヶ月で26カ国訪れることができ、世界各地でジブリのインストや叩き系ギターを弾いてきました。\\\\nたまに音楽系・旅系の動画をアップしていますので、よろしければチャンネル登録と各種SNSのフォローよろしくお願いします。\\\\n\\\\n▼お問い合わせ・企業案件・ライブ出演のご依頼\\\\n\\', \\'https://ssl.form-mailer.jp/fms/dea63a...\\', \\'\\\\n\\\\n※外部リンクのお問い合わせフォームに飛びます。\\\\n3〜5日以内に返信いたしますが、返信ない場合はTwitter/InstagramのDMにてお願いします\\']',\n",
       "       '[\\'Busked at Taipei! Amazing support. Love the people here! \\\\nThe songs I played were covers of Jack Dawson and Andy Mckee \"Drifting\" in lap-tap guitar style.\\\\n\\\\n台湾・台北の海沿いの街『淡水』で路上演奏（ストリートパフォーマンス）した際の動画です。ギターをひざに乗せて弾くスタイル！\\\\n\\\\n\\\\n▼ Follow me!\\\\nSubscribe（チャンネル登録） → \\', \\'http://urx3.nu/HTUJ\\', \\'\\\\nInstagram → \\', \\'https://www.instagram.com/ghibli_ojisan/\\', \\'\\\\nTwitter → \\', \\'https://twitter.com/ghibli_ojisan\\', \\'\\\\n\\\\n▼ Other Videos（おすすめ動画）\\\\n-Busking at Gent, Belgium\\\\u3000ベルギーで猫の恩返しを弾いてみた\\\\n\\', \\'https://youtu.be/5sNnwjgYWLE\\', \\'\\\\n-Playing \"To Zanarkand (FFX)\" at Samarkand\\\\u3000サマルカンドでザナルカンドを弾いてみた\\\\n\\', \\'https://youtu.be/_jhMSsAFKPQ\\']',\n",
       "       '[\"This thing called the \\'circuit breaker\\' is happening in Singapore. It\\'s not actually a lockdown, but something similar. All non-essential shops will be closed and citizens are advised to stay home. It will last for about a month.\\\\n\\\\nI decided to film how it\\'s like here in Singapore. \\\\nWe do not need to panic but we should all take this seriously and try to stay home as much as possible. Let\\'s all stay strong and keep positive. Huat AH!\\\\n\\\\n😃Subscribe： \", \\'http://urx3.nu/HTUJ\\', \\'\\\\n🎥Singapore TEKKA CENTRE Food Adventure!🌶️🇸🇬AMAZING Lamb Biriyani and Prata!!n：\\', \\'https://www.youtube.com/watch?v=BQohP...\\', \\'\\\\n\\\\nFollow me on social medias!\\\\n📸Instagram  \\', \\'https://www.instagram.com/ghibli_ojisan/\\', \\'\\\\n🐦Twitter \\', \\'https://twitter.com/ghibli_ojisan\\', \\'\\\\n\\\\nBusiness Enquiries\\\\n✉️ghib.ojisan@gmail.com\\\\n\\\\n\\', \\'#Singapore\\', \\' \\', \\'#lockdown\\', \\' \\', \\'#Withme\\', \\' \\', \\'#Stayhome\\']',\n",
       "       '[\\'😃Subscribe： \\', \\'http://urx3.nu/HTUJ\\', \\'\\\\n\\\\nI played Hikoukigumo from the Ghibli Film \"Wind Rises (Kaze Tachinu)\" in Singapore. How much will I earn i I play this? Watch till the end :)\\\\n\\\\nI played with my valid busking license.\\\\n\\\\nBelow Japanese:\\\\n今回は久しぶりの路上企画。風立ちぬの主題歌「ひこうき雲」を海外のシンガポールの路上で弾いてみたらお金いくら入るのでしょうか？\\\\n\\\\nシンガポールでの路上演奏のライセンスをGETしたので弾いてきました！場所はEast Coast Park（イースト・コースト・パーク）、海沿いの公園です。\\\\n\\\\nオチはいつもの感じですが、楽しんで頂けたらグッドボタンお願いします。チャンネル登録（\\', \\'http://urx3.nu/HTUJ）もお待ちしています＾＾\\', \\'\\\\n\\\\n海外 食レポ専門チャンネル『Taberu Travel』\\\\n▶\\', \\'https://www.youtube.com/c/TaberuOjisan\\', \\'\\\\n\\\\nぼくの撮影機材\\\\n▶\\', \\'https://www.ghib-oji.com/my-equipment/\\', \\'\\\\n\\\\n\\', \\'#風立ちぬ\\', \\'\\\\u3000\\', \\'#ひこうき雲\\', \\'\\\\n━━━━━━━━━━━━\\\\n✔️チャンネル登録！（subscribe)\\\\n \\', \\'http://urx3.nu/HTUJ\\', \\'\\\\n━━━━━━━━━━━━\\\\n🌐SNS・ブログ\\\\n・Instagram → \\', \\'https://www.instagram.com/ghibli_ojisan/\\', \\'\\\\n・Twitter → \\', \\'https://twitter.com/ghibli_ojisan\\', \\'\\\\n・Blog→ \\', \\'https://www.ghib-oji.com/\\', \\'\\\\n━━━━━━━━━━━━\\\\n🎸おすすめ動画3選！\\\\n・台湾・九份で「いつも何度でも」を弾いてみた\\\\n\\\\u3000\\', \\'https://youtu.be/WudKhqj_Na8\\', \\'\\\\n・イタリアでトトロ弾いた結果…\\\\n\\\\u3000\\', \\'https://youtu.be/3NptDf229nk\\', \\'\\\\n・サマルカンドでザナルカンドを弾いてみた\\\\n\\\\u3000\\', \\'https://youtu.be/_jhMSsAFKPQ\\', \\'\\\\n━━━━━━━━━━━━\\\\n😲自己紹介\\\\n会社を辞め、ギターを持って旅に出たGhibli Ojisan（ジブリおじさん）です。11ヶ月で27カ国訪れ、世界各地でジブリのインストや叩き系ギターを弾いてきました。\\\\n\\\\n2018年8月にYouTube公式「急上昇クリエイター」として選出されたことをキッカケに、海外旅行やシンガポールについての動画もアップし始めました。\\\\n\\\\n世界旅行後は台湾1ヶ月プチ移住、ノルウェー3ヶ月生活（農業ボランティア）など経験し、2019年1月にシンガポールに拠点を移しました。\\\\n\\\\n音楽系・旅系の動画をアップしていますので、よろしければチャンネル登録と各種SNSのフォローお願いします！\\\\n\\\\n→チャンネル登録\\\\u3000\\', \\'http://urx3.nu/HTUJ\\', \\'\\\\n\\\\n━━━━━━━━━━━━\\\\n▼お問い合わせ\\\\nお仕事のご依頼・お問い合わせはコチラ→ \\', \\'https://www.ghib-oji.com/contact/\\', \\'\\\\n\\\\n3〜5日以内に返信いたしますが、返信ない場合はTwitter/InstagramのDMにてお願いします\\']',\n",
       "       \"['▼シンガポールで就職する方法について書いたブログ記事\\\\n', 'https://www.ghib-oji.com/singapore-jo...', '\\\\n\\\\n今回はぼくが働いているシンガポール企業の福利厚生についてお話しました！\\\\n\\\\n・有給休暇\\\\n・病欠休暇\\\\n・残業手当\\\\n・パントリー\\\\n・マッサージ\\\\n\\\\nなどなど、以前働いていた日本企業と異なることが多いですね。\\\\nぜひ最後まで見てみてください〜！\\\\n\\\\n前回の動画：ぼくが貰ってる給料について\\\\n', 'https://www.youtube.com/watch?v=eUmaU...', '\\\\n\\\\n\\\\n━━━━━━━━━━━━\\\\n✔️チャンネル登録！（subscribe)\\\\n ', 'http://urx3.nu/HTUJ', '\\\\n\\\\nInstagram → ', 'https://www.instagram.com/ghibli_ojisan/', '\\\\nTwitter → ', 'https://twitter.com/ghibli_ojisan', '\\\\n\\\\n━━━━━━━━━━━━\\\\n🎸おすすめ動画\\\\n・台湾・九份で「いつも何度でも」を弾いてみた\\\\n\\\\u3000', 'https://youtu.be/WudKhqj_Na8', '\\\\n・イタリアでトトロ弾いた結果…\\\\n\\\\u3000', 'https://youtu.be/3NptDf229nk', '\\\\n・サマルカンドでザナルカンドを弾いてみた\\\\n\\\\u3000', 'https://youtu.be/_jhMSsAFKPQ', '\\\\n\\\\n━━━━━━━━━━━━\\\\n▼自己紹介\\\\n会社を辞め、ギターを持って旅に出たジブリおじさんです。11ヶ月で26カ国訪れることができ、世界各地でジブリのインストや叩き系ギターを弾いてきました。\\\\n音楽系・旅系の動画をアップしていますので、よろしければチャンネル登録と各種SNSのフォローよろしくお願いします。\\\\n\\\\n━━━━━━━━━━━━\\\\n▼お問い合わせ\\\\nお仕事のご依頼・お問い合わせはコチラ→ ', 'https://ssl.form-mailer.jp/fms/dea63a...', '\\\\n\\\\n3〜5日以内に返信いたしますが、返信ない場合はTwitter/InstagramのDMにてお願いします']\",\n",
       "       '[\"Enable CC for English subtitles!\\\\nSo today I visited Kampong Lorong Buangkok, the last remaining village in Singapore. I didn\\'t know what to expect here, but I was amazed by what I saw.\\\\nLady getting eggs from her chickens, 4 digit postal codes, unreliable locks on doors... I felt like I time traveled. Old Singapore was still there. I really enjoyed my time and I hope you do too. Personal must visit in Singapore!\\\\n\\\\nGoogle Map of Kampong Lorong Buangkok:\\\\n\", \\'https://goo.gl/maps/Pq5C6wgX8dwRNKbE9\\', \\'\\\\n\\\\nIf you liked this video, please leave a thumbs-up and subscribe. Thank you.\\\\n\\\\nBelow Japanese:\\\\n近代国家のシンガポールに最後の村『Kampung Lorong Buangkok』があるのをご存知ですか？\\\\n\\\\n北東にぽつんと佇む、20〜30の家庭がある実在する村です。1956年に、沼地だったこの一帯を薬商人のスンさんが購入してから始まりました。\\\\n\\\\n😃チャンネル登録： \\', \\'http://urx3.nu/HTUJ\\', \\'\\\\n\\\\n・鶏を飼って卵を食べる家庭\\\\n・頼りない南京錠で家に鍵をかけている家\\\\n・4ケタの郵便番号（シンガポールは現在6ケタ）\\\\n\\\\n昔のシンガポールの暮らしが垣間見えた、いい経験になりました。所要時間は写真をたくさん撮っても30分〜1時間くらいかな。すごく小さな村ですが、貴重な体験ができると思います。おすすめです！\\\\n\\\\nシンガポール観光情報サイトオープン！\\\\n▶\\', \\'https://nekkyo-singapore.com/\\', \\'\\\\n\\\\nこの動画が少しでも面白かったらぜひグッドボタン＆チャンネル登録お願いします！隣のベルマークを押せば動画更新時に通知がいきます。みなさんからのコメントもすべて読んでいますのでお気軽に＾＾\\\\n\\\\n-----\\\\nスポンサーさま\\\\n★株式会社テイクシータ\\\\u3000ルームランプLED専門店 \\\\n\\', \\'https://item.rakuten.co.jp/senmontent...\\', \\'\\\\n★なかがわ野菊の里 \\', \\'https://www.youtube.com/user/nogikuno...\\', \\'\\\\n★宮古島ジョージ \\', \\'https://www.youtube.com/channel/UCVp8...\\', \\'\\\\n\\\\n\\\\n楽器スポンサーさま\\\\n★YAMAHA Singapore FGX5 \\', \\'https://sg.yamaha.com/index.html\\', \\'\\\\n\\\\nスポンサーにご興味ある方は \\', \\'https://www.ghib-oji.com/contact/\\', \\' よりご連絡ください。\\\\n-----\\\\n\\\\nシンガポールの観光チケットが最大60％OFF\\\\n▶\\', \\'https://www.govoyagin.com/ja/things-t...\\', \\'\\\\n\\\\nジブリおじさんに仕事を依頼する\\\\n▶\\', \\'https://www.ghib-oji.com/service/\\', \\'\\\\n\\\\n究極の飯テロ！旅するグルメチャンネル『Taberu Travel』\\\\n▶\\', \\'https://www.youtube.com/c/TaberuOjisan\\', \\'\\\\n\\\\nジブリおじさんの撮影機材\\\\n▶\\', \\'https://www.ghib-oji.com/my-equipment/\\', \\'\\\\n\\\\n使用音楽\\\\n▶\\', \\'https://www.epidemicsound.com/referra...\\', \\'\\\\n\\\\n\\\\n\\', \\'#シンガポール\\', \\'\\\\u3000\\\\n━━━━━━━━━━━━\\\\n✔️チャンネル登録！（subscribe)\\\\n \\', \\'http://urx3.nu/HTUJ\\', \\'\\\\n━━━━━━━━━━━━\\\\n🌐SNS・ブログ\\\\n・Instagram → \\', \\'https://www.instagram.com/ghibli_ojisan/\\', \\'\\\\n・Twitter → \\', \\'https://twitter.com/ghibli_ojisan\\', \\'\\\\n・Blog→ \\', \\'https://www.ghib-oji.com/\\', \\'\\\\n━━━━━━━━━━━━\\\\n🎸おすすめ動画3選！\\\\n・台湾・九份で「いつも何度でも」を弾いてみた\\\\n\\\\u3000\\', \\'https://youtu.be/WudKhqj_Na8\\', \\'\\\\n・イタリアでトトロ弾いた結果…\\\\n\\\\u3000\\', \\'https://youtu.be/3NptDf229nk\\', \\'\\\\n・サマルカンドでザナルカンドを弾いてみた\\\\n\\\\u3000\\', \\'https://youtu.be/_jhMSsAFKPQ\\', \\'\\\\n━━━━━━━━━━━━\\\\n😲自己紹介\\\\n会社を辞め、ギターを持って旅に出たGhibli Ojisan（ジブリおじさん）です。11ヶ月で27カ国訪れ、世界各地でジブリのインストや叩き系ギターを弾いてきました。\\\\n\\\\n2018年8月にYouTube公式「急上昇クリエイター」として選出されたことをキッカケに、海外旅行やシンガポールについての動画もアップし始めました。\\\\n\\\\n世界旅行後は台湾1ヶ月プチ移住、ノルウェー3ヶ月生活（農業ボランティア）など経験し、2019年1月にシンガポールに拠点を移しました。\\\\n\\\\n音楽系・旅系の動画をアップしていますので、よろしければチャンネル登録と各種SNSのフォローお願いします！\\\\n\\\\n→チャンネル登録\\\\u3000\\', \\'http://urx3.nu/HTUJ\\', \\'\\\\n\\\\n━━━━━━━━━━━━\\\\n▼お問い合わせ\\\\nお仕事のご依頼・お問い合わせはコチラ→ \\', \\'https://www.ghib-oji.com/contact/\\', \\'\\\\n\\\\n3〜5日以内に返信いたしますが、返信ない場合はTwitter/InstagramのDMにてお願いします\\']',\n",
       "       \"['今回は外国人が「日本」と聞くと連想するイメージについて、ぼくの体験談交えてお話しました。\\\\n\\\\nアメリカで育ったということもあり、「外の視点」から日本を見てたわけですが、やっぱり昔はテクノロジーとゲームがすごかったですね！\\\\n\\\\n特にポケモン。アメリカでも社会現象でした。\\\\n\\\\nでも最近の日本は、というと・・・ぜひ動画で見てください！\\\\n\\\\nP.S\\\\n本動画の内容は偏見で溢れています。\\\\n\\\\nP.S.2\\\\n動画ですごく大切なことを言い忘れたのですが、\\\\n\\\\n・自然災害の多さ\\\\n・放射能\\\\n\\\\n海外の人はこの2つの印象も大きかったですね。\\\\n\\\\n\\\\n━━━━━━━━━━━━\\\\n✔️チャンネル登録！（subscribe)\\\\n ', 'http://urx3.nu/HTUJ', '\\\\n\\\\nInstagram → ', 'https://www.instagram.com/ghibli_ojisan/', '\\\\nTwitter → ', 'https://twitter.com/ghibli_ojisan', '\\\\n\\\\n━━━━━━━━━━━━\\\\n🎸おすすめ動画\\\\n・台湾・九份で「いつも何度でも」を弾いてみた\\\\n\\\\u3000', 'https://youtu.be/WudKhqj_Na8', '\\\\n・イタリアでトトロ弾いた結果…\\\\n\\\\u3000', 'https://youtu.be/3NptDf229nk', '\\\\n・サマルカンドでザナルカンドを弾いてみた\\\\n\\\\u3000', 'https://youtu.be/_jhMSsAFKPQ', '\\\\n\\\\n━━━━━━━━━━━━\\\\n▼自己紹介\\\\n会社を辞め、ギターを持って旅に出たジブリおじさんです。11ヶ月で26カ国訪れることができ、世界各地でジブリのインストや叩き系ギターを弾いてきました。\\\\n音楽系・旅系の動画をアップしていますので、よろしければチャンネル登録と各種SNSのフォローよろしくお願いします。\\\\n\\\\n━━━━━━━━━━━━\\\\n▼お問い合わせ\\\\nお仕事のご依頼・お問い合わせはコチラ→ ', 'https://ssl.form-mailer.jp/fms/dea63a...', '\\\\n\\\\n3〜5日以内に返信いたしますが、返信ない場合はTwitter/InstagramのDMにてお願いします']\",\n",
       "       '[\\'少し昔の映像になりますが、パソコン漁ってたら出てきたので動画にしました。映像と音質のクオリティが悪くてすみません・・・！（スマホ推奨です）\\\\n\\\\nタイは路上の反応がよくありませんでしたが、この日は割と支援いたできました。支援額は動画の最後で触れていますので是非ご覧ください！\\\\n\\\\n曲は、Andy MckeeのDriftingです。\\\\n\\\\n\\\\n\\\\n▼ Follow me!\\\\nSubscribe（チャンネル登録） → \\', \\'http://urx3.nu/HTUJ\\', \\'\\\\nInstagram → \\', \\'https://www.instagram.com/ghibli_ojisan/\\', \\'\\\\nTwitter → \\', \\'https://twitter.com/ghibli_ojisan\\', \\'\\\\n\\\\n▼ Other Videos（おすすめ動画）\\\\n-台湾・九份で「いつも何度でも」を弾いてみた（Spirited Away, Played at Taiwan）\\\\n\\', \\'https://youtu.be/WudKhqj_Na8\\', \\'\\\\n- イタリアでトトロ弾いた結果…（Totoro Played at Italy）\\\\n\\', \\'https://youtu.be/3NptDf229nk\\', \\'\\\\n-サマルカンドでザナルカンドを弾いてみた（Playing \"To Zanarkand (FFX)\" at Samarkand）\\\\n\\', \\'https://youtu.be/_jhMSsAFKPQ\\', \\'\\\\n\\\\n▼自己紹介\\\\n会社を辞め、ギターを持って旅に出たじぶりおじさんです。11ヶ月で26カ国訪れることができ、世界各地でジブリのインストや叩き系ギターを弾いてきました。\\\\nたまに音楽系・旅系の動画をアップしていますので、よろしければチャンネル登録と各種SNSのフォローよろしくお願いします。\\\\n\\\\n▼お問い合わせ・企業案件・ライブ出演のご依頼\\\\n\\', \\'https://ssl.form-mailer.jp/fms/dea63a...\\', \\'\\\\n\\\\n※外部リンクのお問い合わせフォームに飛びます。\\\\n3〜5日以内に返信いたしますが、返信ない場合はTwitter/InstagramのDMにてお願いします\\']',\n",
       "       '[\"Today, I visited the Sea Urchin Heaven at Singapore. Uni Gallery is just 7 minutes walk from Bugis station. They specialise in fresh uni, directly shipped from Japan. (Some are Canadian and Australian). \\\\nSo is it really good? Does it please my Japanese tongue? Let\\'s find out.\\\\n\\\\nThank you Uni Gallery for sponsoring this video. You can check out their food and book through their official website.\\\\n\", \\'https://www.unigallery.sg/\\', \\'\\\\n\\\\n😃Subscribe： \\', \\'http://urx3.nu/HTUJ\\', \\'\\\\n🎥Avoiding Tourist Traps in Osaka, Japan：\\', \\'https://www.youtube.com/watch?v=rMtCg...\\', \\'\\\\n\\\\nFollow me on social medias!\\\\n📸Instagram  \\', \\'https://www.instagram.com/ghibli_ojisan/\\', \\'\\\\n🐦Twitter \\', \\'https://twitter.com/ghibli_ojisan\\', \\'\\\\n\\\\nEnquiries\\\\n✉️Please DM me on Instagram or Twitter\\\\n\\\\nBelow Japanese description:\\\\n今日はシンガポールのウニ＆刺し身専門店『Uni Gallery（ウニ・ギャラリー』にお呼ばれしてウニ天国を味わってきました。シンガポール人にも大人気のウニ。果たして本当においしいのでしょうか？日本人を代表してレビューしてみました！\\\\n\\\\nBugis（ブギス）から徒歩7分の位置にあるこちらのお店。豊洲から新鮮なウニを空輸しており、時期によってはカナダやオーストラリア産のウニも取り扱っています。\\\\n\\\\nやはり外国のシンガポールなので、日本にはなさそうなメニューも多数。面白いだけでなく味もちゃんとおいしいのが良かったです。\\\\n\\\\n総合的には大満足！ウニということもあって値段は張りますが、シンガポールにいてウニが恋しくなった人はぜひ行ってみてください！\\\\n\\\\n提供：Uni Gallery\\\\n\\\\n▼渡航前にチェック！シンガポール観光情報サイト『シンガポールと熱狂』 \\', \\'https://nekkyo-singapore.com/\\', \\'\\\\n\\\\nこの動画が少しでも面白かったらぜひグッドボタン＆チャンネル登録お願いします！みなさんからのコメントもすべて読んでいますのでお気軽に！\\\\n\\\\n-----\\\\nスポンサーさま(Sponsors)\\\\n★株式会社テイクシータ\\\\u3000ルームランプLED専門店 \\\\n\\', \\'https://item.rakuten.co.jp/senmontent...\\', \\'\\\\n★なかがわ野菊の里 \\', \\'https://www.youtube.com/user/nogikuno...\\', \\'\\\\n★宮古島ジョージ \\', \\'https://www.youtube.com/channel/UCVp8...\\', \\'\\\\n\\\\n楽器スポンサーさま\\\\n★YAMAHA Singapore FGX5 \\', \\'https://sg.yamaha.com/index.html\\', \\'\\\\n\\\\nスポンサーにご興味ある方は \\', \\'https://www.ghib-oji.com/contact/\\', \" よりご連絡ください。(If you\\'re interested in sponsoring my channel, please drop a message from above)\\\\n-----\\\\n\\\\nお問い合わせ（Enquries）\\\\n▶\", \\'https://www.ghib-oji.com/contact/\\', \\'\\\\n\\\\n究極の飯テロ！旅するグルメチャンネル『Taberu Travel』\\\\n▶\\', \\'https://www.youtube.com/c/TaberuOjisan\\', \\'\\\\n\\\\nジブおじさんの撮影機材\\\\n▶\\', \\'https://www.ghib-oji.com/my-equipment/\\', \\'\\\\n\\\\n\\', \\'#Singapore\\', \\' \\', \\'#uni\\', \\'\\\\n━━━━━━━━━━━━\\\\n✔️チャンネル登録！（subscribe)\\\\n \\', \\'http://urx3.nu/HTUJ\\', \\'\\\\n━━━━━━━━━━━━\\\\n🌐SNS・ブログ\\\\n・Instagram → \\', \\'https://www.instagram.com/ghibli_ojisan/\\', \\'\\\\n・Twitter → \\', \\'https://twitter.com/ghibli_ojisan\\', \\'\\\\n・Blog→ \\', \\'https://www.ghib-oji.com/\\', \\'\\\\n━━━━━━━━━━━━\\']',\n",
       "       '[\"I thought I should treat myself some amazing hawker food after the 3 month long semi-lockdown in Singapore. So I headed off to Old Airport Road Food Centre. It is one of the most popular hawker centre among the locals and it has over 150 stalls to choose from. Of course my main objective is to have delicious food. But today, I also wanted to show you what\\'s around this area. Tourists only come here for the hawker centre. What else does this area have to offer? Join me on today\\'s journey.\\\\n\\\\n(Sponsored link)\\\\xa0Shop Sports:\\\\xa0\", \\'https://www.crazybadman.com/\\', \\'\\\\nUse coupon code “ghibojisan10” to get 10% off your order.\\\\xa0\\\\n\\\\n😃Subscribe： \\', \\'http://urx3.nu/HTUJ\\', \\'\\\\n🎥Watch - Old Airport Road Food Centre FOOD TOUR：\\', \\'https://www.youtube.com/watch?v=2oaiJ...\\', \\'\\\\n\\\\nFollow me on social medias!\\\\n📸Instagram  \\', \\'https://www.instagram.com/ghibli_ojisan/\\', \\'\\\\n🐦Twitter \\', \\'https://twitter.com/ghibli_ojisan\\', \\'\\\\n\\\\nMy Filming Equipment\\\\nCamera - \\', \\'https://amzn.to/3eHetM8\\', \\'\\\\nUltra Wide Lens - \\', \\'https://amzn.to/2Xp6rl8\\', \\'\\\\n\\\\nBusiness Enquiries\\\\n✉️ghib.ojisan@gmail.com\\\\nYou are welcome to send fan mails but I may not be able to respond to all of them. But I immensely appreciate your support. Thank you!\\\\n \\\\n\\', \\'#Singapore\\', \\' \\', \\'#hawkers\\']',\n",
       "       '[\\'Busking Andy Mckee\\\\\\'s \"All Laid Back and Stuff\", in Split, Croatia. Thanks to the girl who tipped me :)\\\\n\\\\nBelow Japanese:\\\\n世界旅行20ヶ国目、クロアチア。\\\\n\\\\nスプリット（Split）という海の見える街で路上演奏をしたのですが、おもちゃのギターを持った子供がずっと聞いてくれてキュンとしましたw（\\', \\'0:40\\', \\'からおもちゃギターの音が聞こえます）\\\\n\\\\nチップも投げ入れてくれて、ありがとう。\\\\n\\\\n【新動画UP!】\\\\n『路上パフォーマーの一日（台湾編）』という動画をアップしました。ぜひご覧ください！\\\\n\\', \\'https://youtu.be/mZUngen9FD0\\', \\'\\\\n\\\\n---\\\\nBusking Andy Mckee\\\\\\'s \"All Laid Back and Stuff\", in Split, Croatia. Thanks to the girl who tipped me :)\\\\n\\\\n\\\\n\\\\n▼ Follow me!\\\\nSubscribe（チャンネル登録） → \\', \\'http://urx3.nu/HTUJ\\', \\'\\\\nInstagram → \\', \\'https://www.instagram.com/ghibli_ojisan/\\', \\'\\\\n\\\\n▼ Other Videos（おすすめ動画）\\\\n-Busking at Gent, Belgium\\\\u3000ベルギーで猫の恩返しを弾いてみた\\\\n\\', \\'https://youtu.be/5sNnwjgYWLE\\', \\'\\\\n-Playing \"To Zanarkand (FFX)\" at Samarkand\\\\u3000サマルカンドでザナルカンドを弾いてみた\\\\n\\', \\'https://youtu.be/_jhMSsAFKPQ\\']',\n",
       "       '[\"A lot of my viewers were sending this National Day Singlish Test, so I decided to accept the challenge. I\\'m a Japanese living in Singapore for almost 2 years and I stay with my Singaporean family. Don\\'t play play. It should be easy lah. \\\\n\\\\nANNOUNCEMENT: I have an exciting live stream going on 29th August, 11AM Singapore time! Jade Seah will be the host, and I will be exploring China Town. It will be an EPIC live stream - follow the instagram account below for more upcoming information. Hope to see you there! Huat!!\\\\n\", \\'https://www.instagram.com/letsgolive_sg/\\', \\'\\\\n\\\\n👕Merch Links:\\\\nSE Asia | \\', \\'https://ghib-ojisan.secure-decoration...\\', \\'\\\\nUSA & EU | \\', \\'https://teespring.com/stores/ghib-ojisan\\', \\'\\\\nJapan | \\', \\'https://suzuri.jp/ghib-ojisan\\', \\'\\\\n\\\\n😃Subscribe： \\', \\'http://urx3.nu/HTUJ\\', \\'\\\\n🎥Watch - My Culture Shock in Japan：\\', \\'https://youtu.be/qlRuhmCzVm8\\', \\'\\\\n\\\\nFollow me on social medias!\\\\n📸Instagram  \\', \\'https://www.instagram.com/ghibli_ojisan/\\', \\'\\\\n🐦Twitter \\', \\'https://twitter.com/ghibli_ojisan\\', \\'\\\\n\\\\nBusiness Enquiries\\\\n✉️ghib.ojisan@gmail.com\\\\nYou are welcome to send fan mails but I may not be able to respond to all of them. But I immensely appreciate your support. Thank you!\\\\n \\\\n\\', \\'#Singapore\\', \\' \\', \\'#Singlish\\']',\n",
       "       '[\\'Enable cc for English subtitles! Dee Kosh, a famous YouTuber/Radio DJ in Singapore was having an event at Orchard, so I decided to stop by and say Hi to him. Just a very short video, nothing really happened but I was happy to meet him. Check out his YouTube channel, he is funny!\\\\n\\', \\'https://www.youtube.com/user/sweetest...\\', \\'\\\\n\\\\n😃Subscribe： \\', \\'http://urx3.nu/HTUJ\\', \\'\\\\n\\\\nFollow me on social medias!\\\\n📸Instagram  \\', \\'https://www.instagram.com/ghibli_ojisan/\\', \\'\\\\n🐦Twitter \\', \\'https://twitter.com/ghibli_ojisan\\', \\'\\\\n\\\\nEnquiries\\\\n✉️Please DM me on Instagram or Twitter\\\\n\\\\nBelow Japanese description:\\\\nシンガポールの人気＆有名YouTuber、Dee Kosh（ディー・コッシュ）さんに会いにオーチャードまで行ってきました！Dee KoshさんのチャンネルはバリバリSinglish（シンガポールなまりの英語）ですが、内容はなかなかハイテンションで面白いです。日本でいう物申す系に近いかもしれません。ぜひチェックしてみてください。\\\\n\\', \\'https://www.youtube.com/user/sweetest...\\', \\'\\\\n\\\\nコロナウイルス、皆さんも気をつけてくださいね。\\\\n\\\\n▼渡航前にチェック！シンガポール観光情報サイト『シンガポールと熱狂』 \\', \\'https://nekkyo-singapore.com/\\', \\'\\\\n\\\\nこの動画が少しでも面白かったらぜひグッドボタン＆チャンネル登録お願いします！みなさんからのコメントもすべて読んでいますのでお気軽に！\\\\n\\\\n-----\\\\nスポンサーさま(Sponsors)\\\\n★株式会社テイクシータ\\\\u3000ルームランプLED専門店 \\\\n\\', \\'https://item.rakuten.co.jp/senmontent...\\', \\'\\\\n★なかがわ野菊の里 \\', \\'https://www.youtube.com/user/nogikuno...\\', \\'\\\\n★宮古島ジョージ \\', \\'https://www.youtube.com/channel/UCVp8...\\', \\'\\\\n\\\\n楽器スポンサーさま\\\\n★YAMAHA Singapore FGX5 \\', \\'https://sg.yamaha.com/index.html\\', \\'\\\\n\\\\nスポンサーにご興味ある方は \\', \\'https://www.ghib-oji.com/contact/\\', \" よりご連絡ください。(If you\\'re interested in sponsoring my channel, please drop a message from above)\\\\n-----\\\\n\\\\nお問い合わせ（Enquries）\\\\n▶\", \\'https://www.ghib-oji.com/contact/\\', \\'\\\\n\\\\n究極の飯テロ！旅するグルメチャンネル『Taberu Travel』\\\\n▶\\', \\'https://www.youtube.com/c/TaberuOjisan\\', \\'\\\\n\\\\nジブおじさんの撮影機材\\\\n▶\\', \\'https://www.ghib-oji.com/my-equipment/\\', \\'\\\\n\\\\n\\', \\'#Singapore\\', \\' \\', \\'#DeeKosh\\', \\'\\\\u3000\\\\n━━━━━━━━━━━━\\\\n✔️チャンネル登録！（subscribe)\\\\n \\', \\'http://urx3.nu/HTUJ\\', \\'\\\\n━━━━━━━━━━━━\\\\n🌐SNS・ブログ\\\\n・Instagram → \\', \\'https://www.instagram.com/ghibli_ojisan/\\', \\'\\\\n・Twitter → \\', \\'https://twitter.com/ghibli_ojisan\\', \\'\\\\n・Blog→ \\', \\'https://www.ghib-oji.com/\\', \\'\\\\n━━━━━━━━━━━━\\']',\n",
       "       '[\\'Enable cc for English subtitles! This is a day in my life as a traveling busker in Taiwan. I quit my company after working for 4 years and started traveling with my guitar. I have busked in over 25 countries, and Taiwan was my 1st country for this trip. I met so many heart-warming people in Taiwan. Thank you\\\\n\\\\n😃Subscribe： \\', \\'http://urx3.nu/HTUJ\\', \\'\\\\n🎥Avoiding Tourist Traps in Osaka, Japan：\\', \\'https://www.youtube.com/watch?v=rMtCg...\\', \\'\\\\n\\\\nFollow me on social medias!\\\\n📸Instagram  \\', \\'https://www.instagram.com/ghibli_ojisan/\\', \\'\\\\n🐦Twitter \\', \\'https://twitter.com/ghibli_ojisan\\', \\'\\\\n\\\\nEnquiries\\\\n✉️Please DM me on Instagram or Twitter\\\\n\\\\nBelow Japanese description:\\\\nご覧いただき、ありがとうございます。\\\\n\\\\n場所探し→演奏→帰宅というシンプルな一日です。割と体力を使うんですが（特に場所探し）、やっぱり聴いてくれる人がいると楽しいんですよね。\\\\n\\\\n動画がよかったら評価とチャンネル登録お願いします。\\\\n\\\\n【NEW！演奏した音楽を別動画としてアップしました】\\\\n\\', \\'https://www.youtube.com/watch?v=luIjU...\\', \\'\\\\n\\\\n▼ Follow me!\\\\nSubscribe（チャンネル登録） → \\', \\'http://urx3.nu/HTUJ\\', \\'\\\\nInstagram → \\', \\'https://www.instagram.com/ghibli_ojisan/\\', \\'\\\\nTwitter → \\', \\'https://twitter.com/ghibli_ojisan\\', \\'\\\\n\\\\n▼ Other Videos（おすすめ動画）\\\\n-ベルギーで猫の恩返しを弾いてみた（Busking at Gent, Belgium０\\\\n\\', \\'https://youtu.be/5sNnwjgYWLE\\', \\'\\\\n\\\\n-サマルカンドでザナルカンドを弾いてみた（Playing \"To Zanarkand (FFX)\" at Samarkand\\\\u3000）\\\\n\\', \\'https://youtu.be/_jhMSsAFKPQ\\', \\'\\\\n\\\\n-女児が釘付けになるほどの演奏を見せる男（Playing \"All Laid Back and Stuff at Croatia）\\\\n\\', \\'https://youtu.be/wb0WY_MNyEs\\']',\n",
       "       '[\"Today, I visited the Holland Village of Singapore. It\\'s an area the Dutch community made in early 1900s. You can find many lively bars, Western food and lots of landed houses in this area. \\\\nBut my goal today was to look for the Holland windmills and the remains of the villages. Was it successful?\\\\n\\\\n😃Subscribe： \", \\'http://urx3.nu/HTUJ\\', \\'\\\\n🎥Inside the Most Bizarre Tourist Attraction in Singapore! 🇸🇬Haw Par Villa：\\', \\'https://www.youtube.com/watch?v=zGoAT...\\', \\'\\\\n\\\\nFollow me on social medias!\\\\n📸Instagram  \\', \\'https://www.instagram.com/ghibli_ojisan/\\', \\'\\\\n🐦Twitter \\', \\'https://twitter.com/ghibli_ojisan\\', \\'\\\\n\\\\nEnquiries\\\\n✉️Please DM me on Instagram or Twitter\\\\n\\\\nBelow Japanese description:\\\\n今日はシンガポールのオランダ村（Hollan Village オランダビレッジ）に潜入しました！\\\\n中心地からそう遠くない位置にあるこのエリアは、シンガポールのイギリス植民地時代、多くのイギリス軍の家族が住んでいたそう。その名残で今も欧米人が多数住んでおり、洋食やバーも多いです。\\\\n\\\\nものすごい速度で近代化されたシンガポールですが、果たして村の名残はあるのでしょうか？一緒にオランダビレッジを探索しましょう。\\\\n\\\\n▼渡航前にチェック！シンガポール観光情報サイト『シンガポールと熱狂』 \\', \\'https://nekkyo-singapore.com/\\', \\'\\\\n\\\\nこの動画が少しでも面白かったらぜひグッドボタン＆チャンネル登録お願いします！みなさんからのコメントもすべて読んでいますのでお気軽に！\\\\n\\\\n-----\\\\nスポンサーさま(Sponsors)\\\\n★株式会社テイクシータ\\\\u3000ルームランプLED専門店 \\\\n\\', \\'https://item.rakuten.co.jp/senmontent...\\', \\'\\\\n★なかがわ野菊の里 \\', \\'https://www.youtube.com/user/nogikuno...\\', \\'\\\\n★宮古島ジョージ \\', \\'https://www.youtube.com/channel/UCVp8...\\', \\'\\\\n\\\\n楽器スポンサーさま\\\\n★YAMAHA Singapore FGX5 \\', \\'https://sg.yamaha.com/index.html\\', \\'\\\\n\\\\nスポンサーにご興味ある方は \\', \\'https://www.ghib-oji.com/contact/\\', \" よりご連絡ください。(If you\\'re interested in sponsoring my channel, please drop a message from above)\\\\n-----\\\\n\\\\n\", \\'#Singapore\\', \\' \\', \\'#Hollandvillage\\']',\n",
       "       \"['世界一の空港であるシンガポールの『チャンギ国際空港』の各ターミナル（１，２，３）とJEWEL（ジュエル）を探索し、観光スポットやできることのおすすめをご紹介します！\\\\n\\\\n😃チャンネル登録： ', 'http://urx3.nu/HTUJ', '\\\\n🎥JEWEL探索動画：', 'https://youtu.be/YtGfr0MQ_7s', '\\\\n\\\\nJEWELおすすめグルメ\\\\n▶', 'https://nekkyo-singapore.com/gourmet/...', '\\\\n\\\\n2時間ほどウロチョロしましたが、やはりすごい空港です。蝶々が優雅に飛び回る『Butterfly Garden』、24時間見放題の映画館、無料マッサージ、プール、美容院、スーパー…。本当に何でもあります。\\\\n\\\\nシンガポール最強の観光旅行メディア『シンガポールと熱狂』\\\\n▶', 'https://nekkyo-singapore.com/', '\\\\n\\\\n===\\\\n【動画の目次】\\\\n\\\\n ターミナル3（制限エリア内）\\\\n', '0:28', '~ Butterfly Garden（バタフライ・ガーデン）\\\\n', '1:25', '~ Koi Pond（鯉の池）\\\\n', '1:35', '~ Singapore Food Street（ホーカーズで食い倒れ）\\\\n', '1:50', '~ 24時間営業の無料映画館（ターミナル2にもあり）\\\\n\\\\nターミナル1（制限エリア内）\\\\n', '2:29', '~ Cactus Garden（サボテンの庭園とバー。喫煙所もあり）\\\\n', '3:03', '~ プール（ホテル『エアロテル（Aerotel』内）\\\\n料金\\\\nプールだけ：$17\\\\nプールと飲み物：$25\\\\nプールとラウンジ：$35\\\\nプールとフィットネスルーム：$20\\\\nシャワーだけ：$16\\\\n\\\\nターミナル2（制限エリア内）\\\\n', '3:45', '~ Enchanted Garden（エンチャンテッド・ガーデン）\\\\n', '4:03', '~ テレビ鑑賞\\\\n', '4:15', '~ Sunflower Garden（ひまわりのサンフラワー・ガーデン）\\\\n', '4:36', '~ ゲーム（ターミナル4にもあり）\\\\n', '4:57', '~ 無料マッサージチェア（全ターミナルにあり）\\\\n\\\\n制限エリア外\\\\n', '5:24', '~ The Slide スライダー（$10空港で使うごとに1回無料）\\\\n\\\\nJEWEL ジュエル（制限エリア外）\\\\n', '6:26', '~ ジュエルのご紹介\\\\n===\\\\n\\\\nこの動画が少しでも面白かったらぜひグッドボタン＆チャンネル登録お願いします！\\\\n隣のベルマークを押せば動画更新時に通知がいきます。みなさんからのコメントもすべて読んでいますのでお気軽に＾＾\\\\n\\\\n-----\\\\nスポンサーさま\\\\n★株式会社テイクシータ\\\\u3000ルームランプLED専門店 \\\\n', 'https://item.rakuten.co.jp/senmontent...', '\\\\n★なかがわ野菊の里 ', 'https://www.youtube.com/user/nogikuno...', '\\\\n\\\\n楽器スポンサーさま\\\\n★YAMAHA Singapore FGX5 ', 'https://sg.yamaha.com/index.html', '\\\\n-----\\\\n\\\\nシンガポールの観光チケットが最大60％OFF\\\\n▶', 'https://www.govoyagin.com/ja/things-t...', '\\\\n\\\\nジブリおじさんに仕事を依頼する\\\\n▶', 'https://www.ghib-oji.com/service/', '\\\\n\\\\n究極の飯テロ！旅するグルメチャンネル『Taberu Travel』\\\\n▶', 'https://www.youtube.com/c/TaberuOjisan', '\\\\n\\\\nジブリおじさんの撮影機材\\\\n▶', 'https://www.ghib-oji.com/my-equipment/', '\\\\n\\\\n使用音楽\\\\n▶', 'https://www.epidemicsound.com/referra...', '\\\\n\\\\n\\\\n', '#シンガポール', '\\\\u3000', '#チャンギ国際空港', '\\\\u3000', '#チャンギ空港', '\\\\n━━━━━━━━━━━━\\\\n✔️チャンネル登録！（subscribe)\\\\n ', 'http://urx3.nu/HTUJ', '\\\\n━━━━━━━━━━━━\\\\n🌐SNS・ブログ\\\\n・Instagram → ', 'https://www.instagram.com/ghibli_ojisan/', '\\\\n・Twitter → ', 'https://twitter.com/ghibli_ojisan', '\\\\n・Blog→ ', 'https://www.ghib-oji.com/', '\\\\n━━━━━━━━━━━━\\\\n🎸おすすめ動画3選！\\\\n・台湾・九份で「いつも何度でも」を弾いてみた\\\\n\\\\u3000', 'https://youtu.be/WudKhqj_Na8', '\\\\n・イタリアでトトロ弾いた結果…\\\\n\\\\u3000', 'https://youtu.be/3NptDf229nk', '\\\\n・サマルカンドでザナルカンドを弾いてみた\\\\n\\\\u3000', 'https://youtu.be/_jhMSsAFKPQ', '\\\\n━━━━━━━━━━━━\\\\n😲自己紹介\\\\n会社を辞め、ギターを持って旅に出たGhibli Ojisan（ジブリおじさん）です。11ヶ月で27カ国訪れ、世界各地でジブリのインストや叩き系ギターを弾いてきました。\\\\n\\\\n2018年8月にYouTube公式「急上昇クリエイター」として選出されたことをキッカケに、海外旅行やシンガポールについての動画もアップし始めました。\\\\n\\\\n世界旅行後は台湾1ヶ月プチ移住、ノルウェー3ヶ月生活（農業ボランティア）など経験し、2019年1月にシンガポールに拠点を移しました。\\\\n\\\\n音楽系・旅系の動画をアップしていますので、よろしければチャンネル登録と各種SNSのフォローお願いします！\\\\n\\\\n→チャンネル登録\\\\u3000', 'http://urx3.nu/HTUJ', '\\\\n\\\\n━━━━━━━━━━━━\\\\n▼お問い合わせ\\\\nお仕事のご依頼・お問い合わせはコチラ→ ', 'https://www.ghib-oji.com/contact/', '\\\\n\\\\n3〜5日以内に返信いたしますが、返信ない場合はTwitter/InstagramのDMにてお願いします']\",\n",
       "       '[\"Today we are going DEEP in Singapore\\'s Little India! It\\'s a vibrant, bustling neighborhood with culture, heritage and delicious food. Just aimlessly walking will take you to somewhere interesting. What particularly caught my attention was a stall selling mysterious Bangladeshi/Indian desert. The Bangladeshi owner basically throws on some spices and sweet ingredients on a piece of leaf and you are ordered to eat it in one bite. Would you try this? I did and I thought it was a great mouth refreshener. \\\\n\\\\n👕Merch Links:\\\\nSE Asia | \", \\'https://ghib-ojisan.secure-decoration...\\', \\'\\\\nUSA & EU | \\', \\'https://teespring.com/stores/ghib-ojisan\\', \\'\\\\nJapan | \\', \\'https://suzuri.jp/ghib-ojisan\\', \\'\\\\n\\\\n😃Subscribe： \\', \\'http://urx3.nu/HTUJ\\', \"\\\\n🎥Watch - Here\\'s How My Property Viewing Went…💰🇸🇬：\", \\'https://www.youtube.com/watch?v=767j8...\\', \\'\\\\n\\\\nFollow me on social medias!\\\\n📸Instagram  \\', \\'https://www.instagram.com/ghibli_ojisan/\\', \\'\\\\n🐦Twitter \\', \\'https://twitter.com/ghibli_ojisan\\', \\'\\\\n\\\\nBusiness Enquiries\\\\n✉️ghib.ojisan@gmail.com\\\\nYou are welcome to send fan mails but I may not be able to respond to all of them. But I immensely appreciate your support. Thank you!\\\\n \\\\n\\', \\'#Singapore\\', \\' \\', \\'#LittleIndia\\']',\n",
       "       \"['今回は、日本人のぼくが海外で受けた差別について動画にしました。\\\\n\\\\n▼動画の内容：\\\\n①差別体験\\\\n・アメリカ滞在中の差別\\\\n・世界旅行中の差別（アイルランド、フランス、インド）\\\\n\\\\n②差別にあいにくくなる方法\\\\n\\\\n▼ぼくのバックグラウンド：\\\\n・アメリカで育つ\\\\n・1年かけて世界旅行\\\\n\\\\n海外に行くと差別にあうかもしれませんが、\\\\nまぁ気にせんとこ٩( ‘ω’ )و \\\\n\\\\n\\\\n━━━━━━━━━━━━\\\\n✔️チャンネル登録！（subscribe)\\\\n ', 'http://urx3.nu/HTUJ', '\\\\n\\\\nInstagram → ', 'https://www.instagram.com/ghibli_ojisan/', '\\\\nTwitter → ', 'https://twitter.com/ghibli_ojisan', '\\\\n\\\\n━━━━━━━━━━━━\\\\n🎸おすすめ動画\\\\n・台湾・九份で「いつも何度でも」を弾いてみた\\\\n\\\\u3000', 'https://youtu.be/WudKhqj_Na8', '\\\\n・イタリアでトトロ弾いた結果…\\\\n\\\\u3000', 'https://youtu.be/3NptDf229nk', '\\\\n・サマルカンドでザナルカンドを弾いてみた\\\\n\\\\u3000', 'https://youtu.be/_jhMSsAFKPQ', '\\\\n\\\\n━━━━━━━━━━━━\\\\n▼自己紹介\\\\n会社を辞め、ギターを持って旅に出たジブリおじさんです。11ヶ月で26カ国訪れることができ、世界各地でジブリのインストや叩き系ギターを弾いてきました。\\\\n音楽系・旅系の動画をアップしていますので、よろしければチャンネル登録と各種SNSのフォローよろしくお願いします。\\\\n\\\\n━━━━━━━━━━━━\\\\n▼お問い合わせ\\\\nお仕事のご依頼・お問い合わせはコチラ→ ', 'https://ssl.form-mailer.jp/fms/dea63a...', '\\\\n\\\\n3〜5日以内に返信いたしますが、返信ない場合はTwitter/InstagramのDMにてお願いします']\",\n",
       "       '[\\'ちょっと昔の映像ですが、世界旅行中に立ち寄ったマレーシアの『ペナン島』の路上ライブの映像が残ってたの動画にしました！\\\\n\\\\n想像よりたくさんチップいただけて、嬉しかったなぁ。\\\\nマレーシア人、優しいから本当すき。\\\\n\\\\n\\\\n▼ Follow me!\\\\nSubscribe（チャンネル登録） → \\', \\'http://urx3.nu/HTUJ\\', \\'\\\\nInstagram → \\', \\'https://www.instagram.com/ghibli_ojisan/\\', \\'\\\\nTwitter → \\', \\'https://twitter.com/ghibli_ojisan\\', \\'\\\\n\\\\n▼ Other Videos（おすすめ動画）\\\\n-台湾・九份で「いつも何度でも」を弾いてみた（Spirited Away, Played at Taiwan）\\\\n\\', \\'https://youtu.be/WudKhqj_Na8\\', \\'\\\\n- イタリアでトトロ弾いた結果…（Totoro Played at Italy）\\\\n\\', \\'https://youtu.be/3NptDf229nk\\', \\'\\\\n-サマルカンドでザナルカンドを弾いてみた（Playing \"To Zanarkand (FFX)\" at Samarkand）\\\\n\\', \\'https://youtu.be/_jhMSsAFKPQ\\', \\'\\\\n\\\\n▼自己紹介\\\\n会社を辞め、ギターを持って旅に出たじぶりおじさんです。11ヶ月で26カ国訪れることができ、世界各地でジブリのインストや叩き系ギターを弾いてきました。\\\\nたまに音楽系・旅系の動画をアップしていますので、よろしければチャンネル登録と各種SNSのフォローよろしくお願いします。\\\\n\\\\n▼お問い合わせ・企業案件・ライブ出演のご依頼\\\\n\\', \\'https://ssl.form-mailer.jp/fms/dea63a...\\', \\'\\\\n\\\\n※外部リンクのお問い合わせフォームに飛びます。\\\\n3〜5日以内に返信いたしますが、返信ない場合はTwitter/InstagramのDMにてお願いします\\']',\n",
       "       \"['😃チャンネル登録： ', 'http://urx3.nu/HTUJ', '\\\\n🎥関連動画：シンガポールのカルチャーショック\\\\u3000', 'https://youtu.be/qSe-uT2ptf4', '\\\\n\\\\n今回の動画では、日本人が知ったらビックリするシンガポールの法律を15個ご紹介しました！\\\\n\\\\n日本ではOKなのでシンガポールではNGなものが沢山ありますので、渡航前に一度確認してくださいね。「知らなかった」では許されない場合もあるので、要注意です！\\\\n\\\\n参考になったらグッドボタンお願いします。皆さんの感想も知りたいのでコメントくださいね。\\\\n\\\\nチャンネル登録： ', 'http://urx3.nu/HTUJ', '\\\\n\\\\nシンガポールの観光が最高60％OFFになるクーポンサイト\\\\n▶', 'https://www.govoyagin.com/ja/things-t...', '\\\\n\\\\n海外 食レポ専門チャンネル『Taberu Travel』\\\\n▶', 'https://www.youtube.com/c/TaberuOjisan', '\\\\n\\\\nぼくの撮影機材\\\\n▶', 'https://www.ghib-oji.com/my-equipment/', '\\\\n\\\\n\\\\n', '#シンガポール', '\\\\u3000', '#現地採用', '\\\\n━━━━━━━━━━━━\\\\n✔️チャンネル登録！（subscribe)\\\\n ', 'http://urx3.nu/HTUJ', '\\\\n━━━━━━━━━━━━\\\\n🌐SNS・ブログ\\\\n・Instagram → ', 'https://www.instagram.com/ghibli_ojisan/', '\\\\n・Twitter → ', 'https://twitter.com/ghibli_ojisan', '\\\\n・Blog→ ', 'https://www.ghib-oji.com/', '\\\\n━━━━━━━━━━━━\\\\n🎸おすすめ動画3選！\\\\n・台湾・九份で「いつも何度でも」を弾いてみた\\\\n\\\\u3000', 'https://youtu.be/WudKhqj_Na8', '\\\\n・イタリアでトトロ弾いた結果…\\\\n\\\\u3000', 'https://youtu.be/3NptDf229nk', '\\\\n・サマルカンドでザナルカンドを弾いてみた\\\\n\\\\u3000', 'https://youtu.be/_jhMSsAFKPQ', '\\\\n━━━━━━━━━━━━\\\\n😲自己紹介\\\\n会社を辞め、ギターを持って旅に出たGhibli Ojisan（ジブリおじさん）です。11ヶ月で27カ国訪れ、世界各地でジブリのインストや叩き系ギターを弾いてきました。\\\\n\\\\n2018年8月にYouTube公式「急上昇クリエイター」として選出されたことをキッカケに、海外旅行やシンガポールについての動画もアップし始めました。\\\\n\\\\n世界旅行後は台湾1ヶ月プチ移住、ノルウェー3ヶ月生活（農業ボランティア）など経験し、2019年1月にシンガポールに拠点を移しました。\\\\n\\\\n音楽系・旅系の動画をアップしていますので、よろしければチャンネル登録と各種SNSのフォローお願いします！\\\\n\\\\n→チャンネル登録\\\\u3000', 'http://urx3.nu/HTUJ', '\\\\n\\\\n━━━━━━━━━━━━\\\\n▼お問い合わせ\\\\nお仕事のご依頼・お問い合わせはコチラ→ ', 'https://www.ghib-oji.com/contact/', '\\\\n\\\\n3〜5日以内に返信いたしますが、返信ない場合はTwitter/InstagramのDMにてお願いします']\",\n",
       "       \"['シンガポール企業に現地採用で就職したジブリおじさんです。今回は会社がゆるすぎる件についてお話しました。\\\\n\\\\nもちろん、シンガポールのすべての会社がこうではないのでご了承を！\\\\nただ、日本と比較して緩いところが多いのは事実だと思います。\\\\n\\\\n▼プレイリスト「シンガポール移住日記」\\\\n', 'https://www.youtube.com/playlist?list...', '\\\\n\\\\n▼シンガポールで就職するための条件とステップはこちらの記事に書いてます\\\\n', 'https://www.ghib-oji.com/singapore-jo...', '\\\\n\\\\n\\\\n━━━━━━━━━━━━\\\\n✔️チャンネル登録！（subscribe)\\\\n ', 'http://urx3.nu/HTUJ', '\\\\n\\\\nInstagram → ', 'https://www.instagram.com/ghibli_ojisan/', '\\\\nTwitter → ', 'https://twitter.com/ghibli_ojisan', '\\\\n\\\\n━━━━━━━━━━━━\\\\n🎸おすすめ動画\\\\n・台湾・九份で「いつも何度でも」を弾いてみた\\\\n\\\\u3000', 'https://youtu.be/WudKhqj_Na8', '\\\\n・イタリアでトトロ弾いた結果…\\\\n\\\\u3000', 'https://youtu.be/3NptDf229nk', '\\\\n・サマルカンドでザナルカンドを弾いてみた\\\\n\\\\u3000', 'https://youtu.be/_jhMSsAFKPQ', '\\\\n\\\\n━━━━━━━━━━━━\\\\n▼自己紹介\\\\n会社を辞め、ギターを持って旅に出たジブリおじさんです。11ヶ月で26カ国訪れることができ、世界各地でジブリのインストや叩き系ギターを弾いてきました。\\\\n音楽系・旅系の動画をアップしていますので、よろしければチャンネル登録と各種SNSのフォローよろしくお願いします。\\\\n\\\\n━━━━━━━━━━━━\\\\n▼お問い合わせ\\\\nお仕事のご依頼・お問い合わせはコチラ→ ', 'https://ssl.form-mailer.jp/fms/dea63a...', '\\\\n\\\\n3〜5日以内に返信いたしますが、返信ない場合はTwitter/InstagramのDMにてお願いします']\",\n",
       "       '[\"We received a very special box from our Singaporean uncle, Ah Ku. At a glance, it looks like a treasure box. Elegantly orange and posh. What\\'s inside? Gold? Diamond? Let\\'s find out.\\\\n\\\\nSingapore is in the midst of Mid-Autumn Festival. It celebrates the end of the autumn harvest with family gatherings, lanterns and mooncakes.\\\\n\\\\n👕Merch Links:\\\\nSE Asia | \", \\'https://ghib-ojisan.secure-decoration...\\', \\'\\\\nUSA & EU | \\', \\'https://teespring.com/stores/ghib-ojisan\\', \\'\\\\nJapan | \\', \\'https://suzuri.jp/ghib-ojisan\\', \\'\\\\n\\\\n😃Subscribe： \\', \\'http://urx3.nu/HTUJ\\', \\'\\\\n🎥Watch - My Culture Shock in Japan：\\', \\'https://youtu.be/qlRuhmCzVm8\\', \\'\\\\n\\\\nFollow me on social medias!\\\\n📸Instagram  \\', \\'https://www.instagram.com/ghibli_ojisan/\\', \\'\\\\n🐦Twitter \\', \\'https://twitter.com/ghibli_ojisan\\', \\'\\\\n\\\\nBusiness Enquiries\\\\n✉️ghib.ojisan@gmail.com\\\\nYou are welcome to send fan mails but I may not be able to respond to all of them. But I immensely appreciate your support. Thank you!\\\\n \\\\n\\', \\'#Singapore\\', \\' \\', \\'#mooncake\\']',\n",
       "       '[\\'Today me and my friend James visited the Katong district of Singapore. Here, Peranakan architectures and heritage remain.  We decided to take a walk to see what we can find. You can see our review of 328 Katong Laksa from the link below.\\\\n\\\\nHonest Review of 328 Katong Laksa\\\\n\\', \\'https://www.youtube.com/watch?v=YBKh7...\\', \\'\\\\n\\\\n😃Subscribe： \\', \\'http://urx3.nu/HTUJ\\', \\'\\\\n🎥Why a Taiwanese Moved to Singapore：\\', \\'https://www.youtube.com/watch?v=uCYS2...\\', \\'\\\\n\\\\nUnfortunately nothing much happened. Please leave comments below on what we should do in this area next time!\\\\n\\\\nFollow me on social medias!\\\\n📸Instagram  \\', \\'https://www.instagram.com/ghibli_ojisan/\\', \\'\\\\n🐦Twitter \\', \\'https://twitter.com/ghibli_ojisan\\', \\'\\\\n\\\\nEnquiries\\\\n✉️Please DM me on Instagram or Twitter\\\\n\\\\nBelow Japanese description:\\\\nシンガポールに来たら絶対来たい、プラナカン文化が色濃く残るカトン地区を台湾人の友人ジェームスくんと散策しました！\\\\nプラナカンは15世紀後半から数世紀にわたって移住してきたマレーシアに根付いた主に中華系移民の末裔のことを指します。\\\\n\\\\nカラフルな家たち、ラクサなどの激うまグルメ…たくさんの魅力が詰まった町を一緒に散策しましょう。\\\\n\\\\n😃チャンネル登録： \\', \\'http://urx3.nu/HTUJ\\', \\'\\\\n🎥台湾人がシンガポールに引っ越した理由が人間の欲望そのままだった：\\', \\'https://www.youtube.com/watch?v=uCYS2...\\', \\'\\\\n\\\\n今回はゆるい動画でしたが、いつかカトンでやるべきことをまとめた動画を撮影したいと思います。\\\\n\\\\n▼シンガポールのグルメMAPリリース！\\\\n\\', \\'https://nekkyo-singapore.com/shop/foo...\\', \\'\\\\n\\\\nこの動画が少しでも面白かったらぜひグッドボタン＆チャンネル登録お願いします！みなさんからのコメントもすべて読んでいますのでお気軽に！\\\\n\\\\n-----\\\\nスポンサーさま(Sponsors)\\\\n★株式会社テイクシータ\\\\u3000ルームランプLED専門店 \\\\n\\', \\'https://item.rakuten.co.jp/senmontent...\\', \\'\\\\n★なかがわ野菊の里 \\', \\'https://www.youtube.com/user/nogikuno...\\', \\'\\\\n★宮古島ジョージ \\', \\'https://www.youtube.com/channel/UCVp8...\\', \\'\\\\n\\\\n楽器スポンサーさま\\\\n★YAMAHA Singapore FGX5 \\', \\'https://sg.yamaha.com/index.html\\', \\'\\\\n\\\\nスポンサーにご興味ある方は \\', \\'https://www.ghib-oji.com/contact/\\', \" よりご連絡ください。(If you\\'re interested in sponsoring my channel, please drop a message from above)\\\\n-----\\\\n\\\\nお問い合わせ（Enquries）\\\\n▶\", \\'https://www.ghib-oji.com/contact/\\', \\'\\\\n\\\\n究極の飯テロ！旅するグルメチャンネル『Taberu Travel』\\\\n▶\\', \\'https://www.youtube.com/c/TaberuOjisan\\', \\'\\\\n\\\\nジブおじさんの撮影機材\\\\n▶\\', \\'https://www.ghib-oji.com/my-equipment/\\', \\'\\\\n\\\\n\\', \\'#Singapore\\', \\'\\\\u3000\\', \\'#Katong\\', \\'\\\\n━━━━━━━━━━━━\\\\n✔️チャンネル登録！（subscribe)\\\\n \\', \\'http://urx3.nu/HTUJ\\', \\'\\\\n━━━━━━━━━━━━\\\\n🌐SNS・ブログ\\\\n・Instagram → \\', \\'https://www.instagram.com/ghibli_ojisan/\\', \\'\\\\n・Twitter → \\', \\'https://twitter.com/ghibli_ojisan\\', \\'\\\\n・Blog→ \\', \\'https://www.ghib-oji.com/\\', \\'\\\\n━━━━━━━━━━━━\\']',\n",
       "       \"['Today I met a viewer who is half Singaporean & half Japanese who is currently serving National Service (military). He has an interesting profile - he lived outside of Singapore almost his whole life! Not many Japanese know Singaporean men who turned 18 have to serve the military. I myself did not know much about military either, so I decided to ask him some questions regarding NS. In return, I gave him a mini tour of China Town and made his stomach full with delicious local food.\\\\n\\\\n😃Subscribe： ', 'http://urx3.nu/HTUJ', '\\\\n🎥Watch - Funniest Video I’ve Made：', 'https://youtu.be/qmqJ5A4DaOI', '\\\\n\\\\n👕Merch Links:\\\\nSE Asia | ', 'https://ghib-ojisan.secure-decoration...', '\\\\nUSA & EU | ', 'https://teespring.com/stores/ghib-ojisan', '\\\\nJapan | ', 'https://suzuri.jp/ghib-ojisan', '\\\\n\\\\nFollow me on social medias!\\\\n📸Instagram  ', 'https://www.instagram.com/ghibli_ojisan/', '\\\\n🐦Twitter ', 'https://twitter.com/ghibli_ojisan', '\\\\n\\\\nBusiness Enquiries\\\\n✉️ghib.ojisan@gmail.com\\\\nYou are welcome to send fan mails but I may not be able to respond to all of them. But I immensely appreciate your support. Thank you!\\\\n \\\\n', '#Singapore', ' ', '#NationalService', ' ', '#military']\",\n",
       "       \"['シンガポールの会社で働いて3ヶ月経ったので、シンガポール企業の良い点3つについてご紹介しました！\\\\n\\\\n目次：\\\\n１．従業員に裁量と自由がある ', '1:13', '~\\\\n２．無駄が少ない ', '3:43', '~\\\\n３．ドライ ', '6:21', '~\\\\n\\\\nもちろん、「全てのシンガポール企業がこうだ！」というつもりはありませんし、逆に日本にも外資っぽい会社もたくさんあると思います。\\\\n\\\\n「ジブおじはこう感じたんだ〜」程度に聞いてもらえたら幸いです。\\\\n\\\\n関連動画：\\\\n▼シンガポールのIT企業で働くぼくの昼休み〜ぼっち飯編〜\\\\n', 'https://youtu.be/u3POmG2HUIc', '\\\\n\\\\n\\\\n', '#シンガポール', '\\\\u3000', '#現地採用', '\\\\u3000', '#移住', '\\\\n━━━━━━━━━━━━\\\\n✔️チャンネル登録！（subscribe)\\\\n ', 'http://urx3.nu/HTUJ', '\\\\n━━━━━━━━━━━━\\\\n🌐SNS・ブログ\\\\n・Instagram → ', 'https://www.instagram.com/ghibli_ojisan/', '\\\\n・Twitter → ', 'https://twitter.com/ghibli_ojisan', '\\\\n・Blog→ ', 'https://www.ghib-oji.com/', '\\\\n━━━━━━━━━━━━\\\\n🎸おすすめ動画3選！\\\\n・台湾・九份で「いつも何度でも」を弾いてみた\\\\n\\\\u3000', 'https://youtu.be/WudKhqj_Na8', '\\\\n・イタリアでトトロ弾いた結果…\\\\n\\\\u3000', 'https://youtu.be/3NptDf229nk', '\\\\n・サマルカンドでザナルカンドを弾いてみた\\\\n\\\\u3000', 'https://youtu.be/_jhMSsAFKPQ', '\\\\n━━━━━━━━━━━━\\\\n😲自己紹介\\\\n会社を辞め、ギターを持って旅に出たGhibli Ojisan（ジブリおじさん）です。11ヶ月で27カ国訪れ、世界各地でジブリのインストや叩き系ギターを弾いてきました。\\\\n\\\\n2018年8月にYouTube公式「急上昇クリエイター」として選出されたことをキッカケに、海外旅行やシンガポールについての動画もアップし始めました。\\\\n\\\\n世界旅行後は台湾1ヶ月プチ移住、ノルウェー3ヶ月生活（農業ボランティア）など経験し、2019年1月にシンガポールに拠点を移しました。\\\\n\\\\n音楽系・旅系の動画をアップしていますので、よろしければチャンネル登録と各種SNSのフォローお願いします！\\\\n\\\\n→チャンネル登録\\\\u3000', 'http://urx3.nu/HTUJ', '\\\\n\\\\n━━━━━━━━━━━━\\\\n▼お問い合わせ\\\\nお仕事のご依頼・お問い合わせはコチラ→ ', 'https://ssl.form-mailer.jp/fms/dea63a...', '\\\\n\\\\n3〜5日以内に返信いたしますが、返信ない場合はTwitter/InstagramのDMにてお願いします']\",\n",
       "       \"['What interesting things happened in Japan last week? This is my new series of sharing you the latest news in Japan and some of my thoughts as a Japanese. Please leave a like if you enjoyed it and tell me how you thought in the comment section below! If you guys liked it, I would make more of these. Cheers and Huat AH!\\\\n\\\\n😃Subscribe： ', 'http://urx3.nu/HTUJ', '\\\\n🎥Avoiding Tourist Traps in Osaka, Japan：', 'https://www.youtube.com/watch?v=rMtCg...', '\\\\n\\\\nFollow me on social medias!\\\\n📸Instagram  ', 'https://www.instagram.com/ghibli_ojisan/', '\\\\n🐦Twitter ', 'https://twitter.com/ghibli_ojisan', '\\\\n\\\\nBusiness Enquiries\\\\n✉️ghib.ojisan@gmail.com\\\\n\\\\nPhoto Credit:\\\\n', 'https://soranews24.com/2020/04/26/our...', '\\\\n', 'https://soranews24.com/2020/04/22/dom...', '\\\\n', 'https://headlines.yahoo.co.jp/article...', '\\\\n\\\\n', '#Japan', ' ', '#news']\",\n",
       "       \"['今回はシンガポールで（多分）一番高いスーパー、「明治屋」に行ってきました！\\\\n\\\\nさすがに、玉ねぎ1個300円は草。\\\\n\\\\nでも日本産の高品質な食材が買えるのはありがたいですよね。登録者100万人いったら毎日利用したいと思います笑。\\\\n\\\\n▼関連動画：\\\\n店員がロボット！？未来のスーパー「Habitat」に行った結果…\\\\n', 'https://www.youtube.com/watch?v=g56_l...', '\\\\n\\\\n\\\\n━━━━━━━━━━━━\\\\n✔️チャンネル登録！（subscribe)\\\\n ', 'http://urx3.nu/HTUJ', '\\\\n\\\\nInstagram → ', 'https://www.instagram.com/ghibli_ojisan/', '\\\\nTwitter → ', 'https://twitter.com/ghibli_ojisan', '\\\\n\\\\n━━━━━━━━━━━━\\\\n🎸おすすめ動画\\\\n・台湾・九份で「いつも何度でも」を弾いてみた\\\\n\\\\u3000', 'https://youtu.be/WudKhqj_Na8', '\\\\n・イタリアでトトロ弾いた結果…\\\\n\\\\u3000', 'https://youtu.be/3NptDf229nk', '\\\\n・サマルカンドでザナルカンドを弾いてみた\\\\n\\\\u3000', 'https://youtu.be/_jhMSsAFKPQ', '\\\\n\\\\n━━━━━━━━━━━━\\\\n▼自己紹介\\\\n会社を辞め、ギターを持って旅に出たジブリおじさんです。11ヶ月で26カ国訪れることができ、世界各地でジブリのインストや叩き系ギターを弾いてきました。\\\\n音楽系・旅系の動画をアップしていますので、よろしければチャンネル登録と各種SNSのフォローよろしくお願いします。\\\\n\\\\n━━━━━━━━━━━━\\\\n▼お問い合わせ\\\\nお仕事のご依頼・お問い合わせはコチラ→ ', 'https://ssl.form-mailer.jp/fms/dea63a...', '\\\\n\\\\n3〜5日以内に返信いたしますが、返信ない場合はTwitter/InstagramのDMにてお願いします']\",\n",
       "       '[\\'たんぽぽが全く咲いていない・・・だと！？\\\\n\\\\n日本に一時帰国したので、ずっと行きたかったBUMP OF CHICKENの聖地（メンバーが育った地域）に行ってきました。千葉県・佐倉市の臼井です。\\\\n\\\\n演奏場所はバンプファンなら誰もが知ってる『たんぽぽ丘』！\\\\n以下をアコギで演奏しました。\\\\n\\\\n【セットリスト】\\\\n\\', \\'0:04\\', \\'~ 続・くだらない唄\\\\n\\', \\'0:14\\', \\'~ スノースマイル\\\\n\\', \\'1:52\\', \\'~ ダイヤモンド\\\\n\\', \\'2:29\\', \\'~ プラネタリウム\\\\n\\', \\'3:17\\', \\'~ ラフメイカー\\\\n\\', \\'4:46\\', \\'~ メロディーフラッグ\\\\n\\', \\'5:28\\', \\'~ くだらない唄\\\\n\\\\nこれらのBUMPメドレーを『湖の見える たんぽぽ丘の 桜の木の下で』で演奏してみました笑。\\\\n\\\\n40億匹の蚊に刺されながら演奏したので、閉じる前にぜひ「イイね」して帰ってください・・・（切実）\\\\n\\\\nP.S.\\\\nちゃんと聖地巡礼もしたので、後日UPします！通知がいくようにチャンネル登録よろしくおねがいします。\\\\n\\\\n\\\\n▼ Follow me!\\\\nSubscribe（チャンネル登録） → \\', \\'http://urx3.nu/HTUJ\\', \\'\\\\nInstagram → \\', \\'https://www.instagram.com/ghibli_ojisan/\\', \\'\\\\nTwitter → \\', \\'https://twitter.com/ghibli_ojisan\\', \\'\\\\n\\\\n▼ Other Videos（おすすめ動画）\\\\n-台湾・九份で「いつも何度でも」を弾いてみた（Spirited Away, Played at Taiwan）\\\\n\\', \\'https://youtu.be/WudKhqj_Na8\\', \\'\\\\n- イタリアでトトロ弾いた結果…（Totoro Played at Italy）\\\\n\\', \\'https://youtu.be/3NptDf229nk\\', \\'\\\\n-サマルカンドでザナルカンドを弾いてみた（Playing \"To Zanarkand (FFX)\" at Samarkand）\\\\n\\', \\'https://youtu.be/_jhMSsAFKPQ\\', \\'\\\\n\\\\n▼自己紹介\\\\n会社を辞め、ギターを持って旅に出たじぶりおじさんです。11ヶ月で26カ国訪れることができ、世界各地でジブリのインストや叩き系ギターを弾いてきました。\\\\nたまに音楽系・旅系の動画をアップしていますので、よろしければチャンネル登録と各種SNSのフォローよろしくお願いします。\\\\n\\\\n▼お問い合わせ・企業案件・ライブ出演のご依頼\\\\n\\', \\'https://ssl.form-mailer.jp/fms/dea63a...\\', \\'\\\\n\\\\n※外部リンクのお問い合わせフォームに飛びます。\\\\n3〜5日以内に返信いたしますが、返信ない場合はTwitter/InstagramのDMにてお願いします\\']',\n",
       "       '[\\'ここでラピュタ弾くためだけにやって来ましたが、本当に素晴らしい場所でした。特に城の中身がすごいので超おすすめですね。\\\\n\\\\nI brought my guitar to Powis Castle, Wales and played the famous trumpet theme from \"The Castle in the Sky\". \\\\n\\\\n\\\\n＜チャンネル登録お願いします！＞→\\', \\'http://urx3.nu/HTUJ\\', \\'\\\\n\\\\n＜Instagram（旅の写真などあげてます）＞→\\', \\'https://www.instagram.com/ghibli_ojisan/\\', \"\\\\n\\\\n＜他のおすすめ動画(Other of my videos)＞\\\\n・人生のメリーゴーランド（ハウルの動く城 Howl\\'s Moving Castle） ⇒ \", \\'http://y2u.be/P8YfJ4j-Dbo\\', \\'\\\\n\\\\n・君をのせて（ラピュタ Laputa Castle in the Sky）⇒\\\\u3000\\', \\'http://youtu.be/P-ZnqnP0UaE\\', \\'\\\\n\\\\n・ベルギーの路上で『風になる（猫の恩返し』を弾いてみた\\\\u3000⇒\\\\u3000\\', \\'https://www.youtube.com/watch?v=5sNnw...\\']',\n",
       "       '[\\'まだ就職まで時間あるので、東南アジアに旅しにいこうかな！\\\\n\\\\nシンガポールで就職考えてる人、おすすめのエージェンシー紹介するのでツイッターかインスタでご連絡ください＾＾\\\\n\\\\nInstagram → \\', \\'https://www.instagram.com/ghibli_ojisan/\\', \\'\\\\nTwitter → \\', \\'https://twitter.com/ghibli_ojisan\\', \\'\\\\nSubscribe（チャンネル登録） → \\', \\'http://urx3.nu/HTUJ\\', \\'\\\\n\\\\n\\\\n▼ Other Videos（おすすめ動画）\\\\n-台湾・九份で「いつも何度でも」を弾いてみた（Spirited Away, Played at Taiwan）\\\\n\\', \\'https://youtu.be/WudKhqj_Na8\\', \\'\\\\n- イタリアでトトロ弾いた結果…（Totoro Played at Italy）\\\\n\\', \\'https://youtu.be/3NptDf229nk\\', \\'\\\\n-サマルカンドでザナルカンドを弾いてみた（Playing \"To Zanarkand (FFX)\" at Samarkand）\\\\n\\', \\'https://youtu.be/_jhMSsAFKPQ\\', \\'\\\\n\\\\n▼自己紹介\\\\n会社を辞め、ギターを持って旅に出たじぶりおじさんです。11ヶ月で26カ国訪れることができ、世界各地でジブリのインストや叩き系ギターを弾いてきました。\\\\nたまに音楽系・旅系の動画をアップしていますので、よろしければチャンネル登録と各種SNSのフォローよろしくお願いします。\\\\n\\\\n▼お問い合わせ・企業案件・ライブ出演のご依頼\\\\n\\', \\'https://ssl.form-mailer.jp/fms/dea63a...\\', \\'\\\\n\\\\n※外部リンクのお問い合わせフォームに飛びます。\\\\n3〜5日以内に返信いたしますが、返信ない場合はTwitter/InstagramのDMにてお願いします\\']',\n",
       "       '[\\'前回の動画でご報告した通り、現在シンガポールで就職活動しています！\\\\n\\\\n街の様子を撮影したり、日本の就職活動と違ってる点について話しているので、ぜひご覧ください！\\\\n\\\\n前回の動画：\\\\n・ぼくがシンガポールに移住する理由\\\\n\\\\u3000\\', \\'https://youtu.be/d84GKQsV3gU\\', \\'\\\\n\\\\n▼ブログ記事：【完全ガイド】シンガポール就職のススメ！転職の条件・方法・ビザ等詳しく解説\\\\n\\', \\'https://www.ghib-oji.com/singapore-jo...\\', \\'\\\\n\\\\n▼シンガポールをお得に観光\\\\n\\', \\'https://www.govoyagin.com/ja/tickets/...\\', \\'\\\\n\\\\nシンガポールの観光が最高60％OFFになるクーポンサイト voyaginです。\\\\nぼくも以前、ここでナイトサファリ、ユニバーサルスタジオのチケットを安く購入しました！\\\\n\\\\n＝＝＝\\\\n\\\\n▼ Follow me!\\\\nSubscribe（チャンネル登録） → \\', \\'http://urx3.nu/HTUJ\\', \\'\\\\nInstagram → \\', \\'https://www.instagram.com/ghibli_ojisan/\\', \\'\\\\nTwitter → \\', \\'https://twitter.com/ghibli_ojisan\\', \\'\\\\n\\\\n▼ Other Videos（おすすめ動画）\\\\n-台湾・九份で「いつも何度でも」を弾いてみた（Spirited Away, Played at Taiwan）\\\\n\\', \\'https://youtu.be/WudKhqj_Na8\\', \\'\\\\n- イタリアでトトロ弾いた結果…（Totoro Played at Italy）\\\\n\\', \\'https://youtu.be/3NptDf229nk\\', \\'\\\\n-サマルカンドでザナルカンドを弾いてみた（Playing \"To Zanarkand (FFX)\" at Samarkand）\\\\n\\', \\'https://youtu.be/_jhMSsAFKPQ\\', \\'\\\\n\\\\n▼自己紹介\\\\n会社を辞め、ギターを持って旅に出たじぶりおじさんです。11ヶ月で26カ国訪れることができ、世界各地でジブリのインストや叩き系ギターを弾いてきました。\\\\nたまに音楽系・旅系の動画をアップしていますので、よろしければチャンネル登録と各種SNSのフォローよろしくお願いします。\\\\n\\\\n▼お問い合わせ・企業案件・ライブ出演のご依頼\\\\n\\', \\'https://ssl.form-mailer.jp/fms/dea63a...\\', \\'\\\\n\\\\n※外部リンクのお問い合わせフォームに飛びます。\\\\n3〜5日以内に返信いたしますが、返信ない場合はTwitter/InstagramのDMにてお願いします\\']',\n",
       "       '[\\'▼海外専門のグルメチャンネル「タベルトラベル」開設しました！日本人YouTuberで唯一、世界を飛び回って現地のグルメを撮影しています。\\\\n\\', \\'https://www.youtube.com/c/TaberuOjisan\\', \\'\\\\n\\\\n＝＝＝\\\\n\\\\n\\\\nスープ以外は絶対に頼んだほうがいいくらい美味しかったです。食レポ動画は初めてでしたが、もうちょっと感情出せるように頑張ります…笑。もっとこの美味しさを伝えたい！\\\\n\\\\nお店の情報：金峰魯肉飯（台北）\\\\n\\\\n\\\\n▼自己紹介\\\\n会社を辞め、ギターを持って旅に出たじぶりおじさんです。11ヶ月で26カ国訪れることができ、世界各地でジブリのインストや叩き系ギターを弾いてきました。\\\\nたまに音楽系・旅系の動画をアップしていますので、よろしければチャンネル登録と各種SNSのフォローよろしくお願いします。\\\\n\\\\n▼ Follow me!\\\\nSubscribe（チャンネル登録） → \\', \\'http://urx3.nu/HTUJ\\', \\'\\\\nInstagram → \\', \\'https://www.instagram.com/ghibli_ojisan/\\', \\'\\\\nTwitter → \\', \\'https://twitter.com/ghibli_ojisan\\', \\'\\\\n\\\\n▼ Other Videos（おすすめ動画）\\\\n-ベルギーで猫の恩返しを弾いてみた(Busking at Gent, Belgium)\\\\u3000\\\\n\\', \\'https://youtu.be/5sNnwjgYWLE\\', \\'\\\\n- イタリアでトトロ弾いた結果…（Totoro Played at Italy）\\\\n\\', \\'https://youtu.be/3NptDf229nk\\', \\'\\\\n-サマルカンドでザナルカンドを弾いてみた（Playing \"To Zanarkand (FFX)\" at Samarkand）\\\\n\\', \\'https://youtu.be/_jhMSsAFKPQ\\']',\n",
       "       \"['We had a wonderful opportunity to visit and film the most expensive room at W Singapore. What a crazy experience!']\"],\n",
       "      dtype=object)"
      ]
     },
     "execution_count": 145,
     "metadata": {},
     "output_type": "execute_result"
    }
   ],
   "source": [
    "df_yt_ghib[\"video_caption\"].values[:35]"
   ]
  },
  {
   "cell_type": "markdown",
   "metadata": {},
   "source": [
    "After studying the video titles and researching the YouTube channel, the first videos to filter out will be all the Japanese-titled videos that cater to the Japanese-speaking community. We will filter them out since our scope of our NLP project deals only with English word features."
   ]
  },
  {
   "cell_type": "code",
   "execution_count": 147,
   "metadata": {},
   "outputs": [
    {
     "data": {
      "text/plain": [
       "'【これが現実】エリート駐在員にストレスを吐き出してもらった結果…【シンガポール】'"
      ]
     },
     "execution_count": 147,
     "metadata": {},
     "output_type": "execute_result"
    }
   ],
   "source": [
    "df_yt_ghib[\"video_title\"][0]"
   ]
  },
  {
   "cell_type": "code",
   "execution_count": 148,
   "metadata": {},
   "outputs": [
    {
     "data": {
      "text/plain": [
       "[]"
      ]
     },
     "execution_count": 148,
     "metadata": {},
     "output_type": "execute_result"
    }
   ],
   "source": [
    "re.findall(\"[A-Za-z]\", df_yt_ghib[\"video_title\"][0])"
   ]
  },
  {
   "cell_type": "code",
   "execution_count": 149,
   "metadata": {},
   "outputs": [
    {
     "data": {
      "text/plain": [
       "(377, 12)"
      ]
     },
     "execution_count": 149,
     "metadata": {},
     "output_type": "execute_result"
    }
   ],
   "source": [
    "# use regex to extract out all english characters\n",
    "# if video title is entirely in japanese, no english characters will be extracted\n",
    "# filtering by an .notnull() method later will allow us to find all videos with (partial) english titles\n",
    "df_yt_ghib[\"video_eng\"] = df_yt_ghib[\"video_title\"].str.extractall(\"([A-Za-z]+)\").groupby(level=0)[0].apply(lambda x: \" \".join(x))\n",
    "df_yt_ghib.shape # verify new col added"
   ]
  },
  {
   "cell_type": "code",
   "execution_count": 150,
   "metadata": {},
   "outputs": [
    {
     "data": {
      "text/plain": [
       "array(['LAP TAPPING Guitar at Taipei!\\u3000台北でひざ置きギター弾いてみた（Jack Dawson & Andy Mckee \"Drifting\" Cover）',\n",
       "       'Singapore Semi-Lockdown Diary Day 0 | Japanese Living in SG',\n",
       "       'How Much Will I Earn If I Played Hikoukigumo on the Street of Singapore? WIND RISES',\n",
       "       'Visiting The Last Surviving Village in Singapore | Kampong Lorong Buangkok🇸🇬',\n",
       "       \"Japanese Reviews Singapore's UNI Restaurant | 🇸🇬Uni Gallery\",\n",
       "       'Hawkers After the Lock Down | Old Airport Road Food Centre, Singapore',\n",
       "       'Cute Girl Tipping me! Busking at SPLIT, CROATIA. \"All Laid Back and Stuff\", composed by Andy Mckee,',\n",
       "       'I Was Challenged By My Viewer… And This Is The Outcome🥊😤',\n",
       "       'Japanese YouTuber Meets Dee Kosh | Famous Singapore YouTuber🇸🇬',\n",
       "       'A Day in My Life as a Traveling Busker | Taiwan🇹🇼',\n",
       "       'I Have Never Been So Disappointed 🇸🇬Holland Village',\n",
       "       '13 AMAZING Things to See and Do at Singapore Changi Airport [Japanese]',\n",
       "       'Would You Try This? Going Too Deep in Little India🇮🇳',\n",
       "       \"You Wouldn't Believe What's Inside This Box!\",\n",
       "       'Singapore Katong Adventure! Colorful Peranakan Houses🏠🇸🇬',\n",
       "       'Does He Regret Being Half Singaporean/Japanese? His Take on National Service🎖️',\n",
       "       'Is Japan Mad? 60,000 People Traveling to Okinawa Next Holiday🇯🇵',\n",
       "       '【聖地で演奏】バンプメドレーをたんぽぽ丘で弾いてみた｜BUMP OF CHICKEN・ギター',\n",
       "       '【ラピュタの舞台】イギリスで『スラッグ渓谷の朝』をソロギターで弾いてみた（The Slug Valley in the Morning/Guitar/@Powis Castle, Wales)',\n",
       "       \"Inside Extreme Wow Suite | W Singapore's MOST EXPENSIVE ROOM!\",\n",
       "       '【路上ギター】日本人がタイでジブリ弾いたらタイ人は微笑んでくれるのか？結末が…w',\n",
       "       'I Cycled Around MARINA BAY SANDS! Best Thing To Do Here🇸🇬🚲',\n",
       "       '\"Zelda\\'s Lullaby\" Fingerstyle Guitar Cover | Zagreb, Croatia🇭🇷',\n",
       "       '👨\\u200d🦲 Actually Going For Tekong Style',\n",
       "       '【ベルギー】奇跡のシンフォニーをギターで弾いてみた | Busking \"August Rush\" at Ghent, Belgium',\n",
       "       'What I Like and Always Missed About Japan | Japanese Guy Goes Home',\n",
       "       'KAONASHI (No-Face) Happily Plays Totoro at a Luxury in Singapore | W Singapore',\n",
       "       '\"Mom, My Merch is Out\"', \"Watching My Bangladeshi Bro's TikTok\",\n",
       "       '北欧ノルウェーにプチ移住した感想｜3ヶ月の住み込みボランティア体験（WWOOF）',\n",
       "       'CARRYING YOU, Finger Style Guitar Cover Played in World Heritage Site| Laputa: Castle in the Sky',\n",
       "       'KAZE NI NARU Finger Style Guitar Performance! From the Ghibli movie \"The Cat Returns\"',\n",
       "       'This might make you NOT wanting to move to Singapore..',\n",
       "       '『ノルウェーの森』をノルウェーの森で弾いてみた｜The Beatles \"Norwegian Wood\" 【ビートルズ・ウクレレ Ukulele】',\n",
       "       \"Japanese Discovers Singapore's Most Expensive Neighborhood | Tanglin Vlog\",\n",
       "       '🇲🇾Is JB Really Dangerous? Crossed the Border to Malaysia',\n",
       "       'A Day in a life of a LOCKED DOWN Foreigner in Singapore - 24hrs',\n",
       "       'Japanese Ladies Go Crazy For This',\n",
       "       'Japanese Reviewing the Only Hot Spring in Singapore | Sembawang Onsen Park🇸🇬',\n",
       "       'Singapore Has the Best Pronunciation of English!🇸🇬',\n",
       "       '世界中でジブリ演奏した僕が教える！ジブリが人気だった国ランキングTOP5',\n",
       "       'Japanese Son Cooks Takoyaki For Singaporean Family🇸🇬👨\\u200d👩\\u200d👧\\u200d👧',\n",
       "       'Honestly Reviewing Sightseeing Spots in Rome ITALY [Japanese]',\n",
       "       'LAP TAPPING \"Drifting\", by Andy Mckee',\n",
       "       \"Here's How My Property Viewing Went…💰🇸🇬 Foreigner Buying a Resale HDB in Singapore\",\n",
       "       '自転車で琵琶湖一周してたら視聴者に会ったんだけどYouTubeすごくない？',\n",
       "       'We Found Our Dream House',\n",
       "       '100,000 Subscribers | Experiencing Heaven and Hell',\n",
       "       \"World's Best Airport's Lounge Review | Changi Lounge at Jewel💎\",\n",
       "       \"Kiki's Delivery Service, Ryuuju No Dengon - Fingerstyle Guitar Cover\",\n",
       "       \"Back to Singapore's Most Dangerous Hood\",\n",
       "       'Singapore vs Japanese Snacks | Which Is Better?🍿',\n",
       "       'Another 3 Things You Should NOT Do To Japanese',\n",
       "       \"Japanese Reviews Singapore's Very First Solo Yakiniku | 🇸🇬Yakiniku Like\",\n",
       "       '3 Things You Should NOT Do To A Japanese',\n",
       "       'ARIA \"Rainbow\" - Fingerstyle Guitar Cover',\n",
       "       '🇹🇼How Much Will I Earn If I Played Video Game Music In Taiwan? -Interrupted By Fireworks, FF7',\n",
       "       'What the Japanese Need To Learn From Singaporeans | Happy New Year! [cc]',\n",
       "       \"How It's Like Living in a HDB Flat | Japanese Living in Singapore [cc]\",\n",
       "       'What did Japan do to Singapore? | Civilian War Memorial - Sook Ching🇸🇬',\n",
       "       'カオナシが『アシタカせっ記』をソロギターで弾いてみた｜Legend of Ashitaka Guitar Cover【Fingerstyle アコギ】',\n",
       "       'UUUMから問い合わせが来たので国際電話しました。',\n",
       "       \"🇸🇬Japanese Searching For Flaws at Asia's TOP University | National University of Singapore\",\n",
       "       \"Why I'm Buying a House In One of Asia's Most Expensive Country\",\n",
       "       'LIVE | Which Singapore Bak Kut Teh is the BEST?',\n",
       "       '🐄600km Bicycle Trip in Hokkaido! Japan Travel Vlog🇯🇵',\n",
       "       'Singaporean Auntie vs Durian Seller👩🏻  Ultimate Bargaining Battle⚔️',\n",
       "       'Visiting the Philippines of Singapore🇵🇭 Lucky Plaza',\n",
       "       \"Is Singapore Really 'Bright' North Korea?\",\n",
       "       'Accidentally Visiting the Haunted Road in Singapore🇸🇬Tampines Vlog',\n",
       "       'Reading Japanese Comments On My Videos To My Taiwanese Friend | Reaction',\n",
       "       \"Japanese Reviewing Singapore's Delivery Food 🇸🇬AMAZING Everything..\",\n",
       "       'Weathering With You (Tenki no ko) - Fingerstyle Guitar Cover（愛にできることはまだあるかい）',\n",
       "       'Japanese Reacting to Chinese New Year in Singapore🇸🇬',\n",
       "       \"My Neighbor Totoro Played in OFFICIAL Totoro's Forest (Finger style guitar cover)\",\n",
       "       'Possibly The Most Beautiful Town in Singapore | PUNGGOL🇸🇬',\n",
       "       'Working in Japan - 7 Things That Might Shock You⚡💀',\n",
       "       'I Want To Live Here | Tiong Bahru Expedition🇸🇬',\n",
       "       'LIVE｜Trying 3 BEST Chili Crabs in Singapore - STB Collab',\n",
       "       'シンガポール・チャイナタウンのおすすめ観光ランキングTOP5！寺院めぐりからグルメまで',\n",
       "       \"🇸🇬Japanese Visiting Singapore's Most Dangerous Area | Yishun Vlog\",\n",
       "       'Singapore Tourism Board Contacted Me',\n",
       "       \"Inside a 14 MILLION Dollar House in Asia's Richest Country🇸🇬\",\n",
       "       'I Collabed With a Local YouTube Channel! 👴🏻Our Grandfather Story',\n",
       "       'TOP 8 Food You MUST Try at Maxwell Food Centre in SINGAPORE!',\n",
       "       '8 Hilarious Stereotypes Americans Have Against Asians',\n",
       "       \"I've Been Dreaming For This Day... McDonald's Reopens in Singapore🇸🇬\",\n",
       "       'Fitness in Singapore vs Japan',\n",
       "       'How is it Really Like Living in Japan?🇯🇵Singaporeans Living Abroad',\n",
       "       '世界最北のビール醸造所に行ってきた！【ノルウェー・トロムソ】マックビール醸造所（Mack Beer Brewery）',\n",
       "       'The Most Livable Area in Singapore is Full of Fruits! Tampines🇸🇬',\n",
       "       '『投げKISSをあげるよ』をジャイサルメールで弾いてみた｜ソロギター、andymori',\n",
       "       \"Maybe I Shouldn't Buy a House in Singapore\",\n",
       "       'A Day in a Life of a Japanese YouTuber in Singapore -  Featured on TODAY!',\n",
       "       'Why I Chose to Live and Buy a House in Singapore Over Japan',\n",
       "       \"EP01: Staying at a Local Traveler's Hostel in Hokkaido! Japan Bicycle Trip Day1\",\n",
       "       '電動シェアスクーターでマリーナベイサンズ一周したら楽しすぎたw【neuron・シンガポール】',\n",
       "       \"These Little Kids Love This Song... Aerith's Theme From Final Fantasy 7 | Fingerstyle Guitar Cover\",\n",
       "       '1泊○万円！Wシンガポール宿泊記｜絶対に泊まりたくなる部屋とプールを紹介【セントーサ島のおすすめホテル】',\n",
       "       \"Final Fantasy 7 Fingerstyle Guitar Cover - Aerith's Theme\",\n",
       "       'Spirited Away \"Always With Me\" Played in Jiufen TAIWAN - Fingerstyle Guitar Cover',\n",
       "       'EP03: Hokkaido Bicycle Trip Day 3! BREATHTAKING View & Rare Unpasteurized Milk at Local Farm',\n",
       "       'Do you really need to be able to speak English to get a job in Singapore?',\n",
       "       'The Real Reason I Came To Singapore💍',\n",
       "       'カオナシがカントリーロードをソロギターで弾いてみた Country Road, Fingerstyle Guitar Cover（耳をすませば、Whisper of the Heart、アコギ）',\n",
       "       '\"Can you do Singapore Style?\" Most AWKWARD Haircut',\n",
       "       'Inside a $68 Japanese Hair Salon💇\\u200d♂️',\n",
       "       'タイVSシンガポール！20代現地採用が住むならどっち？でいぜろバンコク・コラボ',\n",
       "       'Visiting the Craziest Condo in Singapore | The \"Jenga\" Interlace Condo🇸🇬',\n",
       "       'Can You Believe This is Singapore?🇸🇬Changi Village🌴',\n",
       "       'Finally Some Happy News | Singapore Lockdown Diary🇸🇬',\n",
       "       \"Cheapest Hair Cut In One Of Asia's Most Expensive Country｜ Singapore🇸🇬 Vlog\",\n",
       "       \"Reacting to Indecipherable Comments on Singapore's Online Forum🤯\",\n",
       "       'シンガポールのIT企業で働くぼくの一日', '10 Things I Hate About Singapore',\n",
       "       'How Much Will it Cost Sightseeing in Venice, Italy?',\n",
       "       'I Went on a Date With My Mother in Law',\n",
       "       'YOUはなぜ母国を離れた？外国人5人に聞いたら勇気が出た【Cambly・キャンブリー・紹介コード】',\n",
       "       'This is Singapore Without Makeup. Japanese Exploring Local Area of Singapore[cc]',\n",
       "       'Am I Breaking the Law?',\n",
       "       'Typical Reactions of Singaporeans Visiting Japan the 1st Time🇯🇵',\n",
       "       '【悲報】琵琶湖一周3日目にして膝が爆発しそう｜自転車＆ギターで琵琶湖一周【Vol.4】',\n",
       "       'Playing Ghibli Music on the Street of Melaka, Malaysia! Finger Style Guitar',\n",
       "       '世界で最も危険？トロルの舌でジャンプした！【トロルトゥンガ(Trolltunga)でハイキング＆キャンプ】',\n",
       "       'NG集！「九份で千と千尋弾いてみた」の裏側【いつも何度でも＠台湾・九份】',\n",
       "       'The Best Hawker Centre in Singapore?? Bedok 85🇸🇬',\n",
       "       '登録者10万人超えしか行けないYouTube公式パーティに潜入した結果',\n",
       "       'ジブリおじさん - 望郷（MV）【BOKYO, by Ghibli Ojisan】',\n",
       "       \"Trying Singapore's Craziest Cuisine🇸🇬\",\n",
       "       '大物YouTuberおるたなチャンネルを探せinシンガポール！渋谷ジャパンさんを探す旅',\n",
       "       'シンガポールのカルチャーショックTOP10！日本人のぼくが3ヶ月住んで感じたこと',\n",
       "       'How Much Will People in Singapore Tip if I Only Played Japanese Music? Guitar Busking🎸',\n",
       "       'Great Job, Singapore... Japanese Reviews Salmon NOODLES🍜',\n",
       "       'リトルインディアでおすすめの観光TOP5！グルメ、寺院、お土産もご紹介【シンガポール・Little India】',\n",
       "       'I Did NOT Expect to See This in a Super Developed Country | Pasir Ris, Singapore🇸🇬',\n",
       "       'Japanese Guy Learns Chinese! Teacher: Singaporean Mom🇸🇬🤷\\u200d♀️',\n",
       "       'オランダで路上ギターしたらオバちゃん乱入＆教会うるさいで割りとカオスになったｗ | Busking at Delft, the Netherlands',\n",
       "       '\"Can you do Tekong Style?\" Haircut Gone Wrong in China Town🇸🇬',\n",
       "       '🎖️World War 2 Survivor Opened This Shop in Singapore🇸🇬 Balestier',\n",
       "       \"Making Every Singaporean's Dream Come True During Lock Down\",\n",
       "       \"Unveiling the Biggest Secrets of My Family's House in Singapore\",\n",
       "       \"Singapore's Delivery Food MUST EATS!!🇸🇬\",\n",
       "       '【異世界】イッテQ!で有名になった『ウズベキスタン』に行ってきた！',\n",
       "       \"人生のメリーゴーランドをコルマールで弾いてみた【ハウルの動く城】（Merry Go Round Of Life, from Howl's Moving Castle）\",\n",
       "       'How to Enjoy Marina Bay Sands With Only $10 | SG Budget Trip',\n",
       "       '「世界の約束」をハウルの舞台で弾いてみた！（コルマール・フランス）｜The Promise of the World',\n",
       "       'Would You Come Here? Crazy Ear Wax Removal in China Town, Singapore👩🏻',\n",
       "       'ベトナムのIT企業に潜入！給料や日本との働き方の違いは？',\n",
       "       'Biggest Reason Why a 21 Year Old Japanese Female Came to Singapore',\n",
       "       \"Visiting a Ghost Town in Asia's Richest Country | Woodlands🇸🇬\",\n",
       "       \"5 Products I'm Glad I Bought When Working From Home\",\n",
       "       'Two Asians Sightseeing Singapore! AMAZING Bakuteh, Local Craft Beer and Temple | Zendure SuperTank',\n",
       "       'Tokiniwa Mukashi No Hanashi Wo, Fingerstyle Guitar Cover in Italy | Porco Rosso 紅の豚, 時には昔の話を🐷',\n",
       "       'Japanese Son Tries Singaporean Mother in Law’s Signature Dish 👩🏻',\n",
       "       'Japanese Attempts to Cook Iconic Singaporean Dish🇸🇬',\n",
       "       'Would You Buy This?🐌 Shopping At Geylang Serai Malay Market, Singapore🇸🇬',\n",
       "       'Singapore is FINALLY Alive - Phase 2 Day1',\n",
       "       \"Exposing the Flaws of Singapore's TOP Hotel - Fullerton Hotel🇸🇬\",\n",
       "       'YouTubeがんばりすぎて鬱（うつ）になりかけた話をしたいと思う｜症状と克服方法',\n",
       "       \"🇯🇵 Japanese Explaining Singapore's Kiasu Culture\",\n",
       "       'EP02: Eating WILD BEAR in Hokkaido! Japan Bicycle Trip Day2',\n",
       "       'A (not-so) Typical Day of a Singapore YouTuber🇸🇬',\n",
       "       'シンガポール｜超高級ホテルの飲茶ビュッフェYan Tingが神レベルの美味しさ',\n",
       "       '🇲🇾Almost Regretted Crossing the Border to JB, Malaysia',\n",
       "       'Is Changi Airport Really Empty Right Now?',\n",
       "       \"I'm Working With Singapore Tourism Board\",\n",
       "       '【ノルウェー】フロム鉄道の町を探索！素敵すぎる町並みに感動【Flam】',\n",
       "       '1泊4万円…！超高級ホテルのビュッフェの実力とは？WシンガポールのThe Kitchen Tableに行ってきた！',\n",
       "       'Porco Rosso - The Bygone Days played by Ghibli Ojisan',\n",
       "       '8 Things I REALLY Enjoyed Doing in Kyoto | Food and Sightseeing',\n",
       "       'Say Hi To This Kind Man!🇸🇬 PAYA LEBAR Expedition in Singapore',\n",
       "       'I QUIT MY JOB AT A SINGAPORE COMPANY',\n",
       "       '「君をのせて」をラピュタの舞台で弾いてみた｜ソロギター（\"Laputa Carrying You\" played at Wales, Caernarfon Castle)',\n",
       "       '日曜日の夜にアコギ聴きませんか？【雑談・Q&Aも】',\n",
       "       '🍜$6 vs $31 Bak Chor Mee | Which Is More Worth It?',\n",
       "       \"I've Found Adult's Paradise | Tanglin🇸🇬\", 'シンガポールのIT企業で働くぼくの休日',\n",
       "       \"Why I Chose Not To Join Japan's Best YouTube Agency (MCN) | UUUM（ウーム）\",\n",
       "       'We Got A Gift From The Government',\n",
       "       \"Taiwanese Expat's Favorite Thing To Do In Singapore!🇸🇬\",\n",
       "       'ラピュタの舞台で「シータの決意」をノリで弾いてみた＠ウェールズ・カーナーヴォン城（Playing \"Sheeta\\'s Decision\" at Caernarfon Castle）',\n",
       "       'Meeting Singapore Celeb at Kampong Gelam | Sheikh Haikel🇸🇬',\n",
       "       'How Much Will I Earn If I Played \"Spirited Away\" in Singapore? Busker Traveling the World',\n",
       "       \"What's Happening Here? NDP Rehearsal 2020🇸🇬\",\n",
       "       'ARIA Theme Song \"Rainbow\" Finger Style Guitar Cover in Venice, Italy',\n",
       "       'An Extremely Sad Sight | Marina Bay Sands Mall',\n",
       "       'This is where the rich people in Singapore live... | Orchard Residence',\n",
       "       \"Foreigner Tries Singapore's Most Famous Tau Sar Piah🥧Loong Fatt\",\n",
       "       'Final Episode: I Cycled 500KM in HOKKAIDO!🐮8 Days Bicycle Trip, Japan🇯🇵',\n",
       "       'Ghibli Ojisan1歳！ノーカットで感謝するだけの動画【チャンネル運用1年・登録者数4万人突破】',\n",
       "       \"World's Best Airport After the Lock Down✈️\",\n",
       "       \"カオナシが魔女の宅急便『ルージュの伝言』をソロギターで弾いてみた｜Kiki's Delivery Service Guitar Cover【Fingerstyle アコギ】\",\n",
       "       \"Japanese Reviews Singapore's 7-ELEVEN Food! I am Surprised..\",\n",
       "       'Finger Style Guitar Cover THE LEGEND OF ASHITAKA | Princess Mononoke',\n",
       "       \"I don't know what to do from now on.\",\n",
       "       \"Japanese Uncle Reviews Singapore's Fusion Sushi🍣🇸🇬\",\n",
       "       'LIFE UPDATE: We Bought Our House in Singapore!!🏠',\n",
       "       '🇯🇵10 Strange Japanese Cultures and Habits That You Might Not Know',\n",
       "       'Finger style guitar cover of \"Kaze ni Naru\" from the movie The Cat Returns',\n",
       "       'ノルウェーでハーブ農業ボランティアしてる僕の一日 A day in a life of Norway WWOOFer',\n",
       "       'Visiting the Ancient Town of Singapore! Toa Payoh🇸🇬',\n",
       "       'Yumi Arai \"Hikoukigumo\" - Fingerstyle Guitar Cover | Wind Rises, Kaze Tachinu',\n",
       "       \"Japanese Searching for Flaws at Singapore's TOP Polytechnic | Ngee Ann Poly\",\n",
       "       '「Fコード弾けない」で挫折しそうな全ての人へ。バレーコードなんて弾けなくていい',\n",
       "       'Time Has Completely Stopped Here | Abandoned Bukit Timah Railway Station, Singapore🇸🇬',\n",
       "       'What do the Taiwanese Really Feel About Japan?',\n",
       "       \"Foreigner Tries Singapore's Most Favorite Beancurd🍮\",\n",
       "       'Japanese Tries To Speak SINGLISH For 24Hrs | NDP2020 Special🇸🇬',\n",
       "       'Foreigner Attempts to Bargain Mao Shan Wang DURIAN!🇸🇬',\n",
       "       'We (almost) Got Our Keys🏠 Singapore House-Hunt Finale?',\n",
       "       'Why Do Japanese Speak Weird English? 🇯🇵Japanglish Explained',\n",
       "       'Look what I got from my company. Expat Living in Singapore',\n",
       "       '【全公開】ベトナム・ホーチミンのIT企業で働く男の一日',\n",
       "       'Japanese Reviews 23 Snacks In Singapore 🇸🇬Which One is the Best?',\n",
       "       'My Culture Shock in Japan | USA & Singapore vs Japan',\n",
       "       'Finger Style Guitar Cover of \"Ahead on our way\", Final Fantasy VII (7) | BUSKING THE WORLD, Slovenia',\n",
       "       '空港直結！シンガポール最新のモールJEWEL（ジュエル）が近未来的すぎた【観光名所】',\n",
       "       \"I Don't Want Circuit Breaker To End\",\n",
       "       'Which Chicken Rice is the Best? Collab Stream With STB',\n",
       "       'Exposing the FLAWS of Marina Bay Sands Hotel | Review [cc]',\n",
       "       \"Would You Drink This? Yuan Yuang (Coffee+Tea) at Singapore's Legendary Coffee Shop\",\n",
       "       \"I'm About to Give Up Learning Chinese\",\n",
       "       \"Asking a Thai Masseur How It's Like Living in Singapore🇹🇭\",\n",
       "       'Working Culture in Japan vs Singapore',\n",
       "       'Me Eating Lunch Alone at a Local Singaporean Company | EXPAT LIVING IN SINGAPORE',\n",
       "       'HUAT AH! Japanese Preparing For Chinese New Year in Singapore🇸🇬',\n",
       "       'ノルウェーのアパートが意外と○○だった！【Airbnbハウスツアー】',\n",
       "       '【ダイジェスト版】東京でライブしてきた！ジブリ、FF、膝置きギターなど【不審者】',\n",
       "       '店員がロボット！？未来のスーパー「Habitat」に行った結果…【シンガポール】',\n",
       "       'CB Extended.. Singapore Semi Lockdown Diary🇸🇬',\n",
       "       '🇧🇩My Bangladeshi Bro Trying Sushi For The First Time',\n",
       "       'Who Knew Singapore Had This? LITTLE JAPAN Tour 🇸🇬',\n",
       "       'My Honest Thoughts on Living in Singapore for 1 Year',\n",
       "       'ノルウェーに住んでビックリしたことTOP7！カルチャーショックだらけだった',\n",
       "       'Watching Singapore YouTubers🇸🇬',\n",
       "       'Japanese Reviews BEST & WORST INSTANT NOODLES in Singapore',\n",
       "       '１泊○万円！バンコク中心地の高級ホテルを徹底レビュー！【グランデ・センターポイント・ターミナル21｜Grande Centre Point Terminal 21】',\n",
       "       'LIVE | Which Singapore Hokkien Mee Is The Best? With Secret Guest!',\n",
       "       'Would You Eat This? Singaporean Flatmates Try Japanese NATTO Beans🤢',\n",
       "       'Top 10 Studio Ghibli Gifts You HAVE to Buy in Japan',\n",
       "       'ザナルカンドにてをサマルカンドで弾いてみた【アコギ・ソロギター】 | \"To Zanarkand\" in Samarkand, Uzbekistan (Acoustic guitar cover)',\n",
       "       'My Bangladeshi Bro Still Cannot Come Out 🏥 4 Months of Quarantine',\n",
       "       'The Kampong Times in Singapore👩🏻🌴',\n",
       "       'Avoiding Tourist Traps in Osaka - My Local Food Recommendation',\n",
       "       'Should you still come to Singapore? UPDATE',\n",
       "       \"Foreigner Tries Singapore's Most Popular Nonya Kueh🍰 Tiong Bahru Galicier Pastry\",\n",
       "       'How Much Do Bangladeshis Earn in Singapore?🇧🇩',\n",
       "       'How It’s Like Joining a LION DANCE Troupe in Singapore!🇸🇬',\n",
       "       'How to Please a Japanese',\n",
       "       '5 Singaporean Habits I Do NOT Understand',\n",
       "       'One of the Most EXPENSIVE Condo in Singapore! 25,000 S$/Month',\n",
       "       'Getting Rid of my Flap💇\\u200d♂️',\n",
       "       'Back To Singapore’s Most Dangerous Neighbourhood | Yishun🇸🇬',\n",
       "       'Playing TOTORO on the Street of Italy - How Much Will He Earn? Ghibli Maniac Busking',\n",
       "       'My Bangladeshi Bro Cannot Leave His Dormitory🇧🇩 Semi-Lockdown Day8 Singapore',\n",
       "       'A Day in a Life of Norway WWOOFer - Strawberry Farm Volunteer!',\n",
       "       'I (Kinda) Got on Singapore RADIO! Chat About YouTube and Traveling'],\n",
       "      dtype=object)"
      ]
     },
     "execution_count": 150,
     "metadata": {},
     "output_type": "execute_result"
    }
   ],
   "source": [
    "df_yt_ghib_eng = df_yt_ghib[df_yt_ghib[\"video_eng\"].notnull()]\n",
    "df_yt_ghib_eng[\"video_title\"].values"
   ]
  },
  {
   "cell_type": "code",
   "execution_count": 151,
   "metadata": {},
   "outputs": [
    {
     "data": {
      "text/plain": [
       "(257, 12)"
      ]
     },
     "execution_count": 151,
     "metadata": {},
     "output_type": "execute_result"
    }
   ],
   "source": [
    "df_yt_ghib_eng.shape"
   ]
  },
  {
   "cell_type": "markdown",
   "metadata": {},
   "source": [
    "Upon a closer look at the remaining posts, there is a need for us to be stricter with our videos selection. There are quite a number of posts that are still in Japanese that were not filtered out because of there are English words that supplement the mainly Japanese title/descriptions. Let us filter these out first."
   ]
  },
  {
   "cell_type": "code",
   "execution_count": 153,
   "metadata": {},
   "outputs": [],
   "source": [
    "# but first, let's drop the col created above since it has no use anymore\n",
    "df_yt_ghib.drop(\"video_eng\", axis=1, inplace=True)"
   ]
  },
  {
   "cell_type": "code",
   "execution_count": 154,
   "metadata": {},
   "outputs": [
    {
     "name": "stdout",
     "output_type": "stream",
     "text": [
      "How It’s Like Joining a LION DANCE Troupe in Singapore!🇸🇬\n"
     ]
    },
    {
     "data": {
      "text/plain": [
       "False"
      ]
     },
     "execution_count": 154,
     "metadata": {},
     "output_type": "execute_result"
    }
   ],
   "source": [
    "# we can use the .isascii() method to filter out english and non-english text\n",
    "# but .isascii() method does not capture certain videos that we want because of some non-ascii characters in the str\n",
    "### these are \"’\" and \"🇸🇬\"\n",
    "\n",
    "print(df_yt_ghib[\"video_title\"][360]) # sample of .isascii() exception thrown\n",
    "df_yt_ghib[\"video_title\"][360].isascii()"
   ]
  },
  {
   "cell_type": "code",
   "execution_count": 155,
   "metadata": {},
   "outputs": [
    {
     "name": "stdout",
     "output_type": "stream",
     "text": [
      "How It's Like Joining a LION DANCE Troupe in Singapore!\n"
     ]
    }
   ],
   "source": [
    "# let's replace them\n",
    "df_yt_ghib.loc[:, [\"video_title\"]] = [s.replace(\"’\", \"'\").replace(\"🇸🇬\", \"\") for s in df_yt_ghib[\"video_title\"]]\n",
    "print(df_yt_ghib[\"video_title\"][360]) # sample of replacement"
   ]
  },
  {
   "cell_type": "code",
   "execution_count": 156,
   "metadata": {},
   "outputs": [
    {
     "data": {
      "text/plain": [
       "(145, 11)"
      ]
     },
     "execution_count": 156,
     "metadata": {},
     "output_type": "execute_result"
    }
   ],
   "source": [
    "# filter out all posts with japanese characters\n",
    "only_eng = [title.isascii() for title in df_yt_ghib[\"video_title\"]]\n",
    "df_yt_ghib_eng = df_yt_ghib[only_eng] # rewrite df\n",
    "df_yt_ghib_eng.shape"
   ]
  },
  {
   "cell_type": "code",
   "execution_count": 157,
   "metadata": {},
   "outputs": [
    {
     "data": {
      "text/plain": [
       "array(['Singapore Semi-Lockdown Diary Day 0 | Japanese Living in SG',\n",
       "       'How Much Will I Earn If I Played Hikoukigumo on the Street of Singapore? WIND RISES',\n",
       "       'Visiting The Last Surviving Village in Singapore | Kampong Lorong Buangkok',\n",
       "       \"Japanese Reviews Singapore's UNI Restaurant | Uni Gallery\",\n",
       "       'Hawkers After the Lock Down | Old Airport Road Food Centre, Singapore',\n",
       "       'Cute Girl Tipping me! Busking at SPLIT, CROATIA. \"All Laid Back and Stuff\", composed by Andy Mckee,',\n",
       "       'Japanese YouTuber Meets Dee Kosh | Famous Singapore YouTuber',\n",
       "       'I Have Never Been So Disappointed Holland Village',\n",
       "       '13 AMAZING Things to See and Do at Singapore Changi Airport [Japanese]',\n",
       "       \"You Wouldn't Believe What's Inside This Box!\",\n",
       "       \"Inside Extreme Wow Suite | W Singapore's MOST EXPENSIVE ROOM!\",\n",
       "       'What I Like and Always Missed About Japan | Japanese Guy Goes Home',\n",
       "       'KAONASHI (No-Face) Happily Plays Totoro at a Luxury in Singapore | W Singapore',\n",
       "       '\"Mom, My Merch is Out\"', \"Watching My Bangladeshi Bro's TikTok\",\n",
       "       'CARRYING YOU, Finger Style Guitar Cover Played in World Heritage Site| Laputa: Castle in the Sky',\n",
       "       'KAZE NI NARU Finger Style Guitar Performance! From the Ghibli movie \"The Cat Returns\"',\n",
       "       'This might make you NOT wanting to move to Singapore..',\n",
       "       \"Japanese Discovers Singapore's Most Expensive Neighborhood | Tanglin Vlog\",\n",
       "       'A Day in a life of a LOCKED DOWN Foreigner in Singapore - 24hrs',\n",
       "       'Japanese Ladies Go Crazy For This',\n",
       "       'Japanese Reviewing the Only Hot Spring in Singapore | Sembawang Onsen Park',\n",
       "       'Singapore Has the Best Pronunciation of English!',\n",
       "       'Honestly Reviewing Sightseeing Spots in Rome ITALY [Japanese]',\n",
       "       'LAP TAPPING \"Drifting\", by Andy Mckee',\n",
       "       'We Found Our Dream House',\n",
       "       '100,000 Subscribers | Experiencing Heaven and Hell',\n",
       "       \"Kiki's Delivery Service, Ryuuju No Dengon - Fingerstyle Guitar Cover\",\n",
       "       \"Back to Singapore's Most Dangerous Hood\",\n",
       "       'Another 3 Things You Should NOT Do To Japanese',\n",
       "       \"Japanese Reviews Singapore's Very First Solo Yakiniku | Yakiniku Like\",\n",
       "       '3 Things You Should NOT Do To A Japanese',\n",
       "       'ARIA \"Rainbow\" - Fingerstyle Guitar Cover',\n",
       "       'What the Japanese Need To Learn From Singaporeans | Happy New Year! [cc]',\n",
       "       \"How It's Like Living in a HDB Flat | Japanese Living in Singapore [cc]\",\n",
       "       'What did Japan do to Singapore? | Civilian War Memorial - Sook Ching',\n",
       "       \"Japanese Searching For Flaws at Asia's TOP University | National University of Singapore\",\n",
       "       \"Why I'm Buying a House In One of Asia's Most Expensive Country\",\n",
       "       'LIVE | Which Singapore Bak Kut Teh is the BEST?',\n",
       "       \"Is Singapore Really 'Bright' North Korea?\",\n",
       "       'Accidentally Visiting the Haunted Road in SingaporeTampines Vlog',\n",
       "       'Reading Japanese Comments On My Videos To My Taiwanese Friend | Reaction',\n",
       "       \"Japanese Reviewing Singapore's Delivery Food AMAZING Everything..\",\n",
       "       'Japanese Reacting to Chinese New Year in Singapore',\n",
       "       \"My Neighbor Totoro Played in OFFICIAL Totoro's Forest (Finger style guitar cover)\",\n",
       "       'Possibly The Most Beautiful Town in Singapore | PUNGGOL',\n",
       "       'I Want To Live Here | Tiong Bahru Expedition',\n",
       "       \"Japanese Visiting Singapore's Most Dangerous Area | Yishun Vlog\",\n",
       "       'Singapore Tourism Board Contacted Me',\n",
       "       \"Inside a 14 MILLION Dollar House in Asia's Richest Country\",\n",
       "       'TOP 8 Food You MUST Try at Maxwell Food Centre in SINGAPORE!',\n",
       "       '8 Hilarious Stereotypes Americans Have Against Asians',\n",
       "       \"I've Been Dreaming For This Day... McDonald's Reopens in Singapore\",\n",
       "       'Fitness in Singapore vs Japan',\n",
       "       'The Most Livable Area in Singapore is Full of Fruits! Tampines',\n",
       "       \"Maybe I Shouldn't Buy a House in Singapore\",\n",
       "       'A Day in a Life of a Japanese YouTuber in Singapore -  Featured on TODAY!',\n",
       "       'Why I Chose to Live and Buy a House in Singapore Over Japan',\n",
       "       \"EP01: Staying at a Local Traveler's Hostel in Hokkaido! Japan Bicycle Trip Day1\",\n",
       "       \"These Little Kids Love This Song... Aerith's Theme From Final Fantasy 7 | Fingerstyle Guitar Cover\",\n",
       "       \"Final Fantasy 7 Fingerstyle Guitar Cover - Aerith's Theme\",\n",
       "       'Spirited Away \"Always With Me\" Played in Jiufen TAIWAN - Fingerstyle Guitar Cover',\n",
       "       'EP03: Hokkaido Bicycle Trip Day 3! BREATHTAKING View & Rare Unpasteurized Milk at Local Farm',\n",
       "       'Do you really need to be able to speak English to get a job in Singapore?',\n",
       "       '\"Can you do Singapore Style?\" Most AWKWARD Haircut',\n",
       "       'Visiting the Craziest Condo in Singapore | The \"Jenga\" Interlace Condo',\n",
       "       'Finally Some Happy News | Singapore Lockdown Diary',\n",
       "       '10 Things I Hate About Singapore',\n",
       "       'How Much Will it Cost Sightseeing in Venice, Italy?',\n",
       "       'I Went on a Date With My Mother in Law',\n",
       "       'This is Singapore Without Makeup. Japanese Exploring Local Area of Singapore[cc]',\n",
       "       'Am I Breaking the Law?',\n",
       "       'Playing Ghibli Music on the Street of Melaka, Malaysia! Finger Style Guitar',\n",
       "       'The Best Hawker Centre in Singapore?? Bedok 85',\n",
       "       \"Trying Singapore's Craziest Cuisine\",\n",
       "       'I Did NOT Expect to See This in a Super Developed Country | Pasir Ris, Singapore',\n",
       "       '\"Can you do Tekong Style?\" Haircut Gone Wrong in China Town',\n",
       "       \"Making Every Singaporean's Dream Come True During Lock Down\",\n",
       "       \"Unveiling the Biggest Secrets of My Family's House in Singapore\",\n",
       "       \"Singapore's Delivery Food MUST EATS!!\",\n",
       "       'How to Enjoy Marina Bay Sands With Only $10 | SG Budget Trip',\n",
       "       'Biggest Reason Why a 21 Year Old Japanese Female Came to Singapore',\n",
       "       \"Visiting a Ghost Town in Asia's Richest Country | Woodlands\",\n",
       "       \"5 Products I'm Glad I Bought When Working From Home\",\n",
       "       'Two Asians Sightseeing Singapore! AMAZING Bakuteh, Local Craft Beer and Temple | Zendure SuperTank',\n",
       "       'Japanese Attempts to Cook Iconic Singaporean Dish',\n",
       "       'Singapore is FINALLY Alive - Phase 2 Day1',\n",
       "       \"Exposing the Flaws of Singapore's TOP Hotel - Fullerton Hotel\",\n",
       "       'EP02: Eating WILD BEAR in Hokkaido! Japan Bicycle Trip Day2',\n",
       "       'A (not-so) Typical Day of a Singapore YouTuber',\n",
       "       'Is Changi Airport Really Empty Right Now?',\n",
       "       \"I'm Working With Singapore Tourism Board\",\n",
       "       'Porco Rosso - The Bygone Days played by Ghibli Ojisan',\n",
       "       '8 Things I REALLY Enjoyed Doing in Kyoto | Food and Sightseeing',\n",
       "       'Say Hi To This Kind Man! PAYA LEBAR Expedition in Singapore',\n",
       "       'I QUIT MY JOB AT A SINGAPORE COMPANY',\n",
       "       \"I've Found Adult's Paradise | Tanglin\",\n",
       "       'We Got A Gift From The Government',\n",
       "       \"Taiwanese Expat's Favorite Thing To Do In Singapore!\",\n",
       "       'Meeting Singapore Celeb at Kampong Gelam | Sheikh Haikel',\n",
       "       'How Much Will I Earn If I Played \"Spirited Away\" in Singapore? Busker Traveling the World',\n",
       "       \"What's Happening Here? NDP Rehearsal 2020\",\n",
       "       'ARIA Theme Song \"Rainbow\" Finger Style Guitar Cover in Venice, Italy',\n",
       "       'An Extremely Sad Sight | Marina Bay Sands Mall',\n",
       "       'This is where the rich people in Singapore live... | Orchard Residence',\n",
       "       \"Japanese Reviews Singapore's 7-ELEVEN Food! I am Surprised..\",\n",
       "       'Finger Style Guitar Cover THE LEGEND OF ASHITAKA | Princess Mononoke',\n",
       "       \"I don't know what to do from now on.\",\n",
       "       'Finger style guitar cover of \"Kaze ni Naru\" from the movie The Cat Returns',\n",
       "       'Visiting the Ancient Town of Singapore! Toa Payoh',\n",
       "       'Yumi Arai \"Hikoukigumo\" - Fingerstyle Guitar Cover | Wind Rises, Kaze Tachinu',\n",
       "       \"Japanese Searching for Flaws at Singapore's TOP Polytechnic | Ngee Ann Poly\",\n",
       "       'Time Has Completely Stopped Here | Abandoned Bukit Timah Railway Station, Singapore',\n",
       "       'What do the Taiwanese Really Feel About Japan?',\n",
       "       'Japanese Tries To Speak SINGLISH For 24Hrs | NDP2020 Special',\n",
       "       'Foreigner Attempts to Bargain Mao Shan Wang DURIAN!',\n",
       "       'Look what I got from my company. Expat Living in Singapore',\n",
       "       'Japanese Reviews 23 Snacks In Singapore Which One is the Best?',\n",
       "       'My Culture Shock in Japan | USA & Singapore vs Japan',\n",
       "       'Finger Style Guitar Cover of \"Ahead on our way\", Final Fantasy VII (7) | BUSKING THE WORLD, Slovenia',\n",
       "       \"I Don't Want Circuit Breaker To End\",\n",
       "       'Which Chicken Rice is the Best? Collab Stream With STB',\n",
       "       'Exposing the FLAWS of Marina Bay Sands Hotel | Review [cc]',\n",
       "       \"Would You Drink This? Yuan Yuang (Coffee+Tea) at Singapore's Legendary Coffee Shop\",\n",
       "       \"I'm About to Give Up Learning Chinese\",\n",
       "       'Working Culture in Japan vs Singapore',\n",
       "       'Me Eating Lunch Alone at a Local Singaporean Company | EXPAT LIVING IN SINGAPORE',\n",
       "       'HUAT AH! Japanese Preparing For Chinese New Year in Singapore',\n",
       "       'CB Extended.. Singapore Semi Lockdown Diary',\n",
       "       'Who Knew Singapore Had This? LITTLE JAPAN Tour ',\n",
       "       'My Honest Thoughts on Living in Singapore for 1 Year',\n",
       "       'Watching Singapore YouTubers',\n",
       "       'Japanese Reviews BEST & WORST INSTANT NOODLES in Singapore',\n",
       "       'LIVE | Which Singapore Hokkien Mee Is The Best? With Secret Guest!',\n",
       "       'Top 10 Studio Ghibli Gifts You HAVE to Buy in Japan',\n",
       "       'Avoiding Tourist Traps in Osaka - My Local Food Recommendation',\n",
       "       'Should you still come to Singapore? UPDATE',\n",
       "       \"How It's Like Joining a LION DANCE Troupe in Singapore!\",\n",
       "       'How to Please a Japanese',\n",
       "       '5 Singaporean Habits I Do NOT Understand',\n",
       "       'One of the Most EXPENSIVE Condo in Singapore! 25,000 S$/Month',\n",
       "       \"Back To Singapore's Most Dangerous Neighbourhood | Yishun\",\n",
       "       'Playing TOTORO on the Street of Italy - How Much Will He Earn? Ghibli Maniac Busking',\n",
       "       'A Day in a Life of Norway WWOOFer - Strawberry Farm Volunteer!',\n",
       "       'I (Kinda) Got on Singapore RADIO! Chat About YouTube and Traveling'],\n",
       "      dtype=object)"
      ]
     },
     "execution_count": 157,
     "metadata": {},
     "output_type": "execute_result"
    }
   ],
   "source": [
    "df_yt_ghib_eng[\"video_title\"].values"
   ]
  },
  {
   "cell_type": "markdown",
   "metadata": {},
   "source": [
    "Finally, there are a number of travel videos as well as videos about guitar and/or busking. We shall also filter these out."
   ]
  },
  {
   "cell_type": "code",
   "execution_count": 159,
   "metadata": {},
   "outputs": [
    {
     "data": {
      "text/plain": [
       "(16, 11)"
      ]
     },
     "execution_count": 159,
     "metadata": {},
     "output_type": "execute_result"
    }
   ],
   "source": [
    "# search terms to find videos dedicated to travel\n",
    "travel = [\"croatia\", \"slovenia\", \"norway\", \"italy\", \"taiwan\", \"kyoto\", \"hokkaido\", \"osaka\"]\n",
    "travel = df_yt_ghib_eng[\"video_title\"].str.lower().str.contains(\"|\".join(travel))\n",
    "df_yt_ghib_eng[travel].shape # 15 travel videos found"
   ]
  },
  {
   "cell_type": "code",
   "execution_count": 160,
   "metadata": {},
   "outputs": [
    {
     "data": {
      "text/plain": [
       "(20, 11)"
      ]
     },
     "execution_count": 160,
     "metadata": {},
     "output_type": "execute_result"
    }
   ],
   "source": [
    "# search terms to find videos dedicated to guitar/busking\n",
    "busk = [\"guitar\", \"busk\", \"tapping\", \"played by\", \"ghibli\"]\n",
    "busk = df_yt_ghib_eng[\"video_title\"].str.lower().str.contains(\"|\".join(busk))\n",
    "df_yt_ghib_eng[busk].shape # 20 guitar/busking videos found"
   ]
  },
  {
   "cell_type": "code",
   "execution_count": 161,
   "metadata": {},
   "outputs": [
    {
     "data": {
      "text/plain": [
       "(114, 11)"
      ]
     },
     "execution_count": 161,
     "metadata": {},
     "output_type": "execute_result"
    }
   ],
   "source": [
    "# what are we left with after filtering these out?\n",
    "df_yt_ghib_sel = df_yt_ghib_eng[~travel & ~busk]\n",
    "df_yt_ghib_sel.shape # down to 70 posts"
   ]
  },
  {
   "cell_type": "code",
   "execution_count": 162,
   "metadata": {},
   "outputs": [
    {
     "data": {
      "text/html": [
       "<div>\n",
       "<style scoped>\n",
       "    .dataframe tbody tr th:only-of-type {\n",
       "        vertical-align: middle;\n",
       "    }\n",
       "\n",
       "    .dataframe tbody tr th {\n",
       "        vertical-align: top;\n",
       "    }\n",
       "\n",
       "    .dataframe thead th {\n",
       "        text-align: right;\n",
       "    }\n",
       "</style>\n",
       "<table border=\"1\" class=\"dataframe\">\n",
       "  <thead>\n",
       "    <tr style=\"text-align: right;\">\n",
       "      <th></th>\n",
       "      <th>video_title</th>\n",
       "      <th>video_caption</th>\n",
       "      <th>date_time</th>\n",
       "      <th>video_slug</th>\n",
       "      <th>video_views</th>\n",
       "      <th>video_likes</th>\n",
       "      <th>video_dislikes</th>\n",
       "      <th>video_comments</th>\n",
       "      <th>video_title_clean</th>\n",
       "      <th>video_caption_clean</th>\n",
       "      <th>content</th>\n",
       "    </tr>\n",
       "  </thead>\n",
       "  <tbody>\n",
       "    <tr>\n",
       "      <th>4</th>\n",
       "      <td>Singapore Semi-Lockdown Diary Day 0 | Japanese...</td>\n",
       "      <td>[\"This thing called the 'circuit breaker' is h...</td>\n",
       "      <td>2020-04-07</td>\n",
       "      <td>632WZ2a-GCw</td>\n",
       "      <td>84167</td>\n",
       "      <td>1931</td>\n",
       "      <td>51</td>\n",
       "      <td>318</td>\n",
       "      <td>semilockdown diary day 0 japanese living</td>\n",
       "      <td>thing called 'circuit breaker' happening actua...</td>\n",
       "      <td>Singapore Semi-Lockdown Diary Day 0 | Japanese...</td>\n",
       "    </tr>\n",
       "    <tr>\n",
       "      <th>5</th>\n",
       "      <td>How Much Will I Earn If I Played Hikoukigumo o...</td>\n",
       "      <td>['😃Subscribe： ', 'http://urx3.nu/HTUJ', '\\n\\nI...</td>\n",
       "      <td>2019-08-05</td>\n",
       "      <td>PkVmO44f6p4</td>\n",
       "      <td>26635</td>\n",
       "      <td>550</td>\n",
       "      <td>11</td>\n",
       "      <td>92</td>\n",
       "      <td>much earn played hikoukigumo street wind rises</td>\n",
       "      <td>'subscribe ' ' ' played hikoukigumo ghibli fil...</td>\n",
       "      <td>How Much Will I Earn If I Played Hikoukigumo o...</td>\n",
       "    </tr>\n",
       "    <tr>\n",
       "      <th>7</th>\n",
       "      <td>Visiting The Last Surviving Village in Singapo...</td>\n",
       "      <td>[\"Enable CC for English subtitles!\\nSo today I...</td>\n",
       "      <td>2019-12-20</td>\n",
       "      <td>YXb5tJdIwZs</td>\n",
       "      <td>59869</td>\n",
       "      <td>1501</td>\n",
       "      <td>23</td>\n",
       "      <td>249</td>\n",
       "      <td>visiting last surviving village kampong lorong...</td>\n",
       "      <td>enable cc english subtitles today visited kamp...</td>\n",
       "      <td>Visiting The Last Surviving Village in Singapo...</td>\n",
       "    </tr>\n",
       "  </tbody>\n",
       "</table>\n",
       "</div>"
      ],
      "text/plain": [
       "                                         video_title  \\\n",
       "4  Singapore Semi-Lockdown Diary Day 0 | Japanese...   \n",
       "5  How Much Will I Earn If I Played Hikoukigumo o...   \n",
       "7  Visiting The Last Surviving Village in Singapo...   \n",
       "\n",
       "                                       video_caption  date_time   video_slug  \\\n",
       "4  [\"This thing called the 'circuit breaker' is h... 2020-04-07  632WZ2a-GCw   \n",
       "5  ['😃Subscribe： ', 'http://urx3.nu/HTUJ', '\\n\\nI... 2019-08-05  PkVmO44f6p4   \n",
       "7  [\"Enable CC for English subtitles!\\nSo today I... 2019-12-20  YXb5tJdIwZs   \n",
       "\n",
       "   video_views  video_likes  video_dislikes  video_comments  \\\n",
       "4        84167         1931              51             318   \n",
       "5        26635          550              11              92   \n",
       "7        59869         1501              23             249   \n",
       "\n",
       "                                   video_title_clean  \\\n",
       "4           semilockdown diary day 0 japanese living   \n",
       "5     much earn played hikoukigumo street wind rises   \n",
       "7  visiting last surviving village kampong lorong...   \n",
       "\n",
       "                                 video_caption_clean  \\\n",
       "4  thing called 'circuit breaker' happening actua...   \n",
       "5  'subscribe ' ' ' played hikoukigumo ghibli fil...   \n",
       "7  enable cc english subtitles today visited kamp...   \n",
       "\n",
       "                                             content  \n",
       "4  Singapore Semi-Lockdown Diary Day 0 | Japanese...  \n",
       "5  How Much Will I Earn If I Played Hikoukigumo o...  \n",
       "7  Visiting The Last Surviving Village in Singapo...  "
      ]
     },
     "execution_count": 162,
     "metadata": {},
     "output_type": "execute_result"
    }
   ],
   "source": [
    "# view current df\n",
    "df_yt_ghib_sel.head(3)"
   ]
  },
  {
   "cell_type": "markdown",
   "metadata": {},
   "source": [
    "#### Export Selected Videos"
   ]
  },
  {
   "cell_type": "code",
   "execution_count": 163,
   "metadata": {},
   "outputs": [
    {
     "name": "stdout",
     "output_type": "stream",
     "text": [
      "(134, 11)\n"
     ]
    },
    {
     "data": {
      "text/html": [
       "<div>\n",
       "<style scoped>\n",
       "    .dataframe tbody tr th:only-of-type {\n",
       "        vertical-align: middle;\n",
       "    }\n",
       "\n",
       "    .dataframe tbody tr th {\n",
       "        vertical-align: top;\n",
       "    }\n",
       "\n",
       "    .dataframe thead th {\n",
       "        text-align: right;\n",
       "    }\n",
       "</style>\n",
       "<table border=\"1\" class=\"dataframe\">\n",
       "  <thead>\n",
       "    <tr style=\"text-align: right;\">\n",
       "      <th></th>\n",
       "      <th>video_title</th>\n",
       "      <th>video_caption</th>\n",
       "      <th>date_time</th>\n",
       "      <th>video_slug</th>\n",
       "      <th>video_views</th>\n",
       "      <th>video_likes</th>\n",
       "      <th>video_dislikes</th>\n",
       "      <th>video_comments</th>\n",
       "      <th>video_title_clean</th>\n",
       "      <th>video_caption_clean</th>\n",
       "      <th>content</th>\n",
       "    </tr>\n",
       "  </thead>\n",
       "  <tbody>\n",
       "    <tr>\n",
       "      <th>0</th>\n",
       "      <td>HALLOWEEN HORROR NIGHTS 8 AT UNIVERSAL STUDIOS! 👻</td>\n",
       "      <td>['UNIVERSAL HALLOWEEN HORROR NIGHTS 8! 👻\\n\\nHa...</td>\n",
       "      <td>2018-10-31</td>\n",
       "      <td>7xkdm3c4Ks8</td>\n",
       "      <td>8766</td>\n",
       "      <td>271</td>\n",
       "      <td>3</td>\n",
       "      <td>18</td>\n",
       "      <td>halloween horror nights 8 universal studios</td>\n",
       "      <td>'universal halloween horror nights 8 happy hal...</td>\n",
       "      <td>halloween horror nights 8 universal studios 'u...</td>\n",
       "    </tr>\n",
       "  </tbody>\n",
       "</table>\n",
       "</div>"
      ],
      "text/plain": [
       "                                         video_title  \\\n",
       "0  HALLOWEEN HORROR NIGHTS 8 AT UNIVERSAL STUDIOS! 👻   \n",
       "\n",
       "                                       video_caption  date_time   video_slug  \\\n",
       "0  ['UNIVERSAL HALLOWEEN HORROR NIGHTS 8! 👻\\n\\nHa... 2018-10-31  7xkdm3c4Ks8   \n",
       "\n",
       "   video_views  video_likes  video_dislikes  video_comments  \\\n",
       "0         8766          271               3              18   \n",
       "\n",
       "                             video_title_clean  \\\n",
       "0  halloween horror nights 8 universal studios   \n",
       "\n",
       "                                 video_caption_clean  \\\n",
       "0  'universal halloween horror nights 8 happy hal...   \n",
       "\n",
       "                                             content  \n",
       "0  halloween horror nights 8 universal studios 'u...  "
      ]
     },
     "execution_count": 163,
     "metadata": {},
     "output_type": "execute_result"
    }
   ],
   "source": [
    "print(df_yt_georgia_sel.shape)\n",
    "df_yt_georgia_sel.head(1)"
   ]
  },
  {
   "cell_type": "code",
   "execution_count": 164,
   "metadata": {},
   "outputs": [
    {
     "name": "stdout",
     "output_type": "stream",
     "text": [
      "(114, 11)\n"
     ]
    },
    {
     "data": {
      "text/html": [
       "<div>\n",
       "<style scoped>\n",
       "    .dataframe tbody tr th:only-of-type {\n",
       "        vertical-align: middle;\n",
       "    }\n",
       "\n",
       "    .dataframe tbody tr th {\n",
       "        vertical-align: top;\n",
       "    }\n",
       "\n",
       "    .dataframe thead th {\n",
       "        text-align: right;\n",
       "    }\n",
       "</style>\n",
       "<table border=\"1\" class=\"dataframe\">\n",
       "  <thead>\n",
       "    <tr style=\"text-align: right;\">\n",
       "      <th></th>\n",
       "      <th>video_title</th>\n",
       "      <th>video_caption</th>\n",
       "      <th>date_time</th>\n",
       "      <th>video_slug</th>\n",
       "      <th>video_views</th>\n",
       "      <th>video_likes</th>\n",
       "      <th>video_dislikes</th>\n",
       "      <th>video_comments</th>\n",
       "      <th>video_title_clean</th>\n",
       "      <th>video_caption_clean</th>\n",
       "      <th>content</th>\n",
       "    </tr>\n",
       "  </thead>\n",
       "  <tbody>\n",
       "    <tr>\n",
       "      <th>4</th>\n",
       "      <td>Singapore Semi-Lockdown Diary Day 0 | Japanese...</td>\n",
       "      <td>[\"This thing called the 'circuit breaker' is h...</td>\n",
       "      <td>2020-04-07</td>\n",
       "      <td>632WZ2a-GCw</td>\n",
       "      <td>84167</td>\n",
       "      <td>1931</td>\n",
       "      <td>51</td>\n",
       "      <td>318</td>\n",
       "      <td>semilockdown diary day 0 japanese living</td>\n",
       "      <td>thing called 'circuit breaker' happening actua...</td>\n",
       "      <td>Singapore Semi-Lockdown Diary Day 0 | Japanese...</td>\n",
       "    </tr>\n",
       "  </tbody>\n",
       "</table>\n",
       "</div>"
      ],
      "text/plain": [
       "                                         video_title  \\\n",
       "4  Singapore Semi-Lockdown Diary Day 0 | Japanese...   \n",
       "\n",
       "                                       video_caption  date_time   video_slug  \\\n",
       "4  [\"This thing called the 'circuit breaker' is h... 2020-04-07  632WZ2a-GCw   \n",
       "\n",
       "   video_views  video_likes  video_dislikes  video_comments  \\\n",
       "4        84167         1931              51             318   \n",
       "\n",
       "                          video_title_clean  \\\n",
       "4  semilockdown diary day 0 japanese living   \n",
       "\n",
       "                                 video_caption_clean  \\\n",
       "4  thing called 'circuit breaker' happening actua...   \n",
       "\n",
       "                                             content  \n",
       "4  Singapore Semi-Lockdown Diary Day 0 | Japanese...  "
      ]
     },
     "execution_count": 164,
     "metadata": {},
     "output_type": "execute_result"
    }
   ],
   "source": [
    "print(df_yt_ghib_sel.shape)\n",
    "df_yt_ghib_sel.head(1)"
   ]
  },
  {
   "cell_type": "code",
   "execution_count": 165,
   "metadata": {},
   "outputs": [
    {
     "name": "stderr",
     "output_type": "stream",
     "text": [
      "C:\\Users\\yewto\\anaconda3\\lib\\site-packages\\pandas\\core\\indexing.py:845: SettingWithCopyWarning: \n",
      "A value is trying to be set on a copy of a slice from a DataFrame.\n",
      "Try using .loc[row_indexer,col_indexer] = value instead\n",
      "\n",
      "See the caveats in the documentation: https://pandas.pydata.org/pandas-docs/stable/user_guide/indexing.html#returning-a-view-versus-a-copy\n",
      "  self.obj[key] = _infer_fill_value(value)\n",
      "C:\\Users\\yewto\\anaconda3\\lib\\site-packages\\pandas\\core\\indexing.py:966: SettingWithCopyWarning: \n",
      "A value is trying to be set on a copy of a slice from a DataFrame.\n",
      "Try using .loc[row_indexer,col_indexer] = value instead\n",
      "\n",
      "See the caveats in the documentation: https://pandas.pydata.org/pandas-docs/stable/user_guide/indexing.html#returning-a-view-versus-a-copy\n",
      "  self.obj[item] = s\n"
     ]
    }
   ],
   "source": [
    "# let's create a channel col first before merging\n",
    "df_yt_georgia_sel.loc[:, \"channel\"] = \"GC\"\n",
    "df_yt_ghib_sel.loc[:, \"channel\"] = \"GO\""
   ]
  },
  {
   "cell_type": "code",
   "execution_count": 166,
   "metadata": {},
   "outputs": [
    {
     "data": {
      "text/plain": [
       "(248, 12)"
      ]
     },
     "execution_count": 166,
     "metadata": {},
     "output_type": "execute_result"
    }
   ],
   "source": [
    "# concatenate selected videos\n",
    "df_yt_sel = pd.concat([df_yt_georgia_sel, df_yt_ghib_sel]).reset_index(drop=True)\n",
    "df_yt_sel.shape"
   ]
  },
  {
   "cell_type": "code",
   "execution_count": 167,
   "metadata": {},
   "outputs": [],
   "source": [
    "# save out merged df\n",
    "df_yt_sel.to_csv(\"../datasets/df_yt_sel.csv\", index=False)"
   ]
  },
  {
   "cell_type": "markdown",
   "metadata": {},
   "source": [
    "### YouTube Comments"
   ]
  },
  {
   "cell_type": "markdown",
   "metadata": {},
   "source": [
    "#### Comments to Georgia Caney"
   ]
  },
  {
   "cell_type": "code",
   "execution_count": 168,
   "metadata": {},
   "outputs": [
    {
     "data": {
      "text/plain": [
       "(11342, 6)"
      ]
     },
     "execution_count": 168,
     "metadata": {},
     "output_type": "execute_result"
    }
   ],
   "source": [
    "df_yt_georgia_comments = pd.read_csv(\"../datasets/df_yt_georgia_comments_2020-10-17.csv\")\n",
    "df_yt_georgia_comments.shape"
   ]
  },
  {
   "cell_type": "code",
   "execution_count": 169,
   "metadata": {},
   "outputs": [
    {
     "data": {
      "text/html": [
       "<div>\n",
       "<style scoped>\n",
       "    .dataframe tbody tr th:only-of-type {\n",
       "        vertical-align: middle;\n",
       "    }\n",
       "\n",
       "    .dataframe tbody tr th {\n",
       "        vertical-align: top;\n",
       "    }\n",
       "\n",
       "    .dataframe thead th {\n",
       "        text-align: right;\n",
       "    }\n",
       "</style>\n",
       "<table border=\"1\" class=\"dataframe\">\n",
       "  <thead>\n",
       "    <tr style=\"text-align: right;\">\n",
       "      <th></th>\n",
       "      <th>response_to</th>\n",
       "      <th>user</th>\n",
       "      <th>timestamp</th>\n",
       "      <th>comment</th>\n",
       "      <th>likes</th>\n",
       "      <th>replies_attracted</th>\n",
       "    </tr>\n",
       "  </thead>\n",
       "  <tbody>\n",
       "    <tr>\n",
       "      <th>0</th>\n",
       "      <td>HALLOWEEN HORROR NIGHTS 8 AT UNIVERSAL STUDIOS! 👻</td>\n",
       "      <td>thattham</td>\n",
       "      <td>1 year ago</td>\n",
       "      <td>I was a scare actor in killuminati, we hope u ...</td>\n",
       "      <td>4</td>\n",
       "      <td>CLAIM NOW!</td>\n",
       "    </tr>\n",
       "    <tr>\n",
       "      <th>1</th>\n",
       "      <td>HUGE FEBRUARY HAUL | MONKI &amp; ROMWE</td>\n",
       "      <td>jess waldron</td>\n",
       "      <td>4 years ago</td>\n",
       "      <td>Loved this haul! Whenever you do one i always ...</td>\n",
       "      <td>NaN</td>\n",
       "      <td>View reply from Georgia Caney</td>\n",
       "    </tr>\n",
       "    <tr>\n",
       "      <th>2</th>\n",
       "      <td>HUGE FEBRUARY HAUL | MONKI &amp; ROMWE</td>\n",
       "      <td>TheTravelCrush</td>\n",
       "      <td>4 years ago</td>\n",
       "      <td>OMGOSH!! Absolutely loved that kimono! I think...</td>\n",
       "      <td>NaN</td>\n",
       "      <td>NaN</td>\n",
       "    </tr>\n",
       "  </tbody>\n",
       "</table>\n",
       "</div>"
      ],
      "text/plain": [
       "                                         response_to            user  \\\n",
       "0  HALLOWEEN HORROR NIGHTS 8 AT UNIVERSAL STUDIOS! 👻        thattham   \n",
       "1                 HUGE FEBRUARY HAUL | MONKI & ROMWE    jess waldron   \n",
       "2                 HUGE FEBRUARY HAUL | MONKI & ROMWE  TheTravelCrush   \n",
       "\n",
       "     timestamp                                            comment likes  \\\n",
       "0   1 year ago  I was a scare actor in killuminati, we hope u ...     4   \n",
       "1  4 years ago  Loved this haul! Whenever you do one i always ...   NaN   \n",
       "2  4 years ago  OMGOSH!! Absolutely loved that kimono! I think...   NaN   \n",
       "\n",
       "               replies_attracted  \n",
       "0                     CLAIM NOW!  \n",
       "1  View reply from Georgia Caney  \n",
       "2                            NaN  "
      ]
     },
     "execution_count": 169,
     "metadata": {},
     "output_type": "execute_result"
    }
   ],
   "source": [
    "df_yt_georgia_comments.head(3)"
   ]
  },
  {
   "cell_type": "code",
   "execution_count": 170,
   "metadata": {},
   "outputs": [
    {
     "data": {
      "text/plain": [
       "False    11316\n",
       "True        26\n",
       "dtype: int64"
      ]
     },
     "execution_count": 170,
     "metadata": {},
     "output_type": "execute_result"
    }
   ],
   "source": [
    "# there are some duplicate scrapes\n",
    "df_yt_georgia_comments.duplicated(keep=\"first\").value_counts()"
   ]
  },
  {
   "cell_type": "code",
   "execution_count": 171,
   "metadata": {},
   "outputs": [
    {
     "data": {
      "text/plain": [
       "(11316, 6)"
      ]
     },
     "execution_count": 171,
     "metadata": {},
     "output_type": "execute_result"
    }
   ],
   "source": [
    "# drop duplicate scrapes\n",
    "df_yt_georgia_comments = df_yt_georgia_comments.drop(df_yt_georgia_comments[df_yt_georgia_comments.duplicated(keep=\"first\")].index)\n",
    "df_yt_georgia_comments.shape"
   ]
  },
  {
   "cell_type": "code",
   "execution_count": 172,
   "metadata": {},
   "outputs": [
    {
     "data": {
      "text/html": [
       "<div>\n",
       "<style scoped>\n",
       "    .dataframe tbody tr th:only-of-type {\n",
       "        vertical-align: middle;\n",
       "    }\n",
       "\n",
       "    .dataframe tbody tr th {\n",
       "        vertical-align: top;\n",
       "    }\n",
       "\n",
       "    .dataframe thead th {\n",
       "        text-align: right;\n",
       "    }\n",
       "</style>\n",
       "<table border=\"1\" class=\"dataframe\">\n",
       "  <thead>\n",
       "    <tr style=\"text-align: right;\">\n",
       "      <th></th>\n",
       "      <th>response_to</th>\n",
       "      <th>user</th>\n",
       "      <th>timestamp</th>\n",
       "      <th>comment</th>\n",
       "      <th>likes</th>\n",
       "      <th>replies_attracted</th>\n",
       "      <th>comment_clean</th>\n",
       "    </tr>\n",
       "  </thead>\n",
       "  <tbody>\n",
       "    <tr>\n",
       "      <th>0</th>\n",
       "      <td>HALLOWEEN HORROR NIGHTS 8 AT UNIVERSAL STUDIOS! 👻</td>\n",
       "      <td>thattham</td>\n",
       "      <td>1 year ago</td>\n",
       "      <td>I was a scare actor in killuminati, we hope u ...</td>\n",
       "      <td>4</td>\n",
       "      <td>CLAIM NOW!</td>\n",
       "      <td>scare actor killuminati hope u liked</td>\n",
       "    </tr>\n",
       "  </tbody>\n",
       "</table>\n",
       "</div>"
      ],
      "text/plain": [
       "                                         response_to      user   timestamp  \\\n",
       "0  HALLOWEEN HORROR NIGHTS 8 AT UNIVERSAL STUDIOS! 👻  thattham  1 year ago   \n",
       "\n",
       "                                             comment likes replies_attracted  \\\n",
       "0  I was a scare actor in killuminati, we hope u ...     4        CLAIM NOW!   \n",
       "\n",
       "                          comment_clean  \n",
       "0  scare actor killuminati hope u liked  "
      ]
     },
     "execution_count": 172,
     "metadata": {},
     "output_type": "execute_result"
    }
   ],
   "source": [
    "# let's clean the comments first\n",
    "df_yt_georgia_comments[\"comment_clean\"] = clean_text(df_yt_georgia_comments, \"comment\")\n",
    "df_yt_georgia_comments.head(1)"
   ]
  },
  {
   "cell_type": "code",
   "execution_count": 173,
   "metadata": {},
   "outputs": [
    {
     "name": "stdout",
     "output_type": "stream",
     "text": [
      "<class 'pandas.core.frame.DataFrame'>\n",
      "Int64Index: 11316 entries, 0 to 11341\n",
      "Data columns (total 7 columns):\n",
      " #   Column             Non-Null Count  Dtype \n",
      "---  ------             --------------  ----- \n",
      " 0   response_to        11316 non-null  object\n",
      " 1   user               11289 non-null  object\n",
      " 2   timestamp          11316 non-null  object\n",
      " 3   comment            11316 non-null  object\n",
      " 4   likes              6443 non-null   object\n",
      " 5   replies_attracted  5814 non-null   object\n",
      " 6   comment_clean      11316 non-null  object\n",
      "dtypes: object(7)\n",
      "memory usage: 707.2+ KB\n"
     ]
    }
   ],
   "source": [
    "df_yt_georgia_comments.info() # some missing values"
   ]
  },
  {
   "cell_type": "code",
   "execution_count": 174,
   "metadata": {},
   "outputs": [
    {
     "data": {
      "text/html": [
       "<div>\n",
       "<style scoped>\n",
       "    .dataframe tbody tr th:only-of-type {\n",
       "        vertical-align: middle;\n",
       "    }\n",
       "\n",
       "    .dataframe tbody tr th {\n",
       "        vertical-align: top;\n",
       "    }\n",
       "\n",
       "    .dataframe thead th {\n",
       "        text-align: right;\n",
       "    }\n",
       "</style>\n",
       "<table border=\"1\" class=\"dataframe\">\n",
       "  <thead>\n",
       "    <tr style=\"text-align: right;\">\n",
       "      <th></th>\n",
       "      <th>response_to</th>\n",
       "      <th>user</th>\n",
       "      <th>timestamp</th>\n",
       "      <th>comment</th>\n",
       "      <th>likes</th>\n",
       "      <th>replies_attracted</th>\n",
       "      <th>comment_clean</th>\n",
       "    </tr>\n",
       "  </thead>\n",
       "  <tbody>\n",
       "  </tbody>\n",
       "</table>\n",
       "</div>"
      ],
      "text/plain": [
       "Empty DataFrame\n",
       "Columns: [response_to, user, timestamp, comment, likes, replies_attracted, comment_clean]\n",
       "Index: []"
      ]
     },
     "execution_count": 174,
     "metadata": {},
     "output_type": "execute_result"
    }
   ],
   "source": [
    "# find comments with 0 likes\n",
    "mask = df_yt_georgia_comments[\"likes\"] == 0\n",
    "df_yt_georgia_comments[mask]"
   ]
  },
  {
   "cell_type": "code",
   "execution_count": 175,
   "metadata": {},
   "outputs": [
    {
     "name": "stdout",
     "output_type": "stream",
     "text": [
      "<class 'pandas.core.frame.DataFrame'>\n",
      "Int64Index: 11316 entries, 0 to 11341\n",
      "Data columns (total 7 columns):\n",
      " #   Column             Non-Null Count  Dtype \n",
      "---  ------             --------------  ----- \n",
      " 0   response_to        11316 non-null  object\n",
      " 1   user               11289 non-null  object\n",
      " 2   timestamp          11316 non-null  object\n",
      " 3   comment            11316 non-null  object\n",
      " 4   likes              11316 non-null  object\n",
      " 5   replies_attracted  5814 non-null   object\n",
      " 6   comment_clean      11316 non-null  object\n",
      "dtypes: object(7)\n",
      "memory usage: 707.2+ KB\n"
     ]
    }
   ],
   "source": [
    "# there are no comments with 0 likes\n",
    "# comments with missing like values are most likely comments with 0 likes\n",
    "# let's impute with 0\n",
    "df_yt_georgia_comments[\"likes\"].fillna(\"0\", inplace=True)\n",
    "df_yt_georgia_comments.info() # verify imputation"
   ]
  },
  {
   "cell_type": "code",
   "execution_count": 176,
   "metadata": {},
   "outputs": [
    {
     "data": {
      "text/plain": [
       "False    11315\n",
       "True         1\n",
       "Name: likes, dtype: int64"
      ]
     },
     "execution_count": 176,
     "metadata": {},
     "output_type": "execute_result"
    }
   ],
   "source": [
    "df_yt_georgia_comments[\"likes\"].str.contains(\"K\").value_counts()"
   ]
  },
  {
   "cell_type": "code",
   "execution_count": 177,
   "metadata": {},
   "outputs": [],
   "source": [
    "# noticed that some likes in the thousands are suffixed with a \"K\"\n",
    "# remove the decimal point, and replace \"K\" with two zeroes\n",
    "thousands = df_yt_georgia_comments[\"likes\"].str.contains(\"K\")\n",
    "df_yt_georgia_comments.loc[thousands, \"likes\"] = df_yt_georgia_comments.loc[thousands, \"likes\"].str.replace(\".\", \"\").str.replace(\"K\", \"00\")"
   ]
  },
  {
   "cell_type": "code",
   "execution_count": 178,
   "metadata": {},
   "outputs": [
    {
     "data": {
      "text/plain": [
       "False    11266\n",
       "True        50\n",
       "Name: likes, dtype: int64"
      ]
     },
     "execution_count": 178,
     "metadata": {},
     "output_type": "execute_result"
    }
   ],
   "source": [
    "df_yt_georgia_comments[\"likes\"].str.contains(\"[a-zA-Z]\").value_counts()"
   ]
  },
  {
   "cell_type": "code",
   "execution_count": 179,
   "metadata": {},
   "outputs": [],
   "source": [
    "# and also that there are some alphabetical characters from scraping erroneous imputation\n",
    "# this error arose from imputation when video has disabled comments and likes\n",
    "# as such let's drop all such rows\n",
    "error = df_yt_georgia_comments[\"likes\"].str.contains(\"[a-zA-Z\\.\\s]\")\n",
    "df_yt_georgia_comments.drop(df_yt_georgia_comments[error].index, inplace=True)"
   ]
  },
  {
   "cell_type": "code",
   "execution_count": 180,
   "metadata": {},
   "outputs": [
    {
     "name": "stdout",
     "output_type": "stream",
     "text": [
      "<class 'pandas.core.frame.DataFrame'>\n",
      "Int64Index: 11256 entries, 0 to 11341\n",
      "Data columns (total 7 columns):\n",
      " #   Column             Non-Null Count  Dtype \n",
      "---  ------             --------------  ----- \n",
      " 0   response_to        11256 non-null  object\n",
      " 1   user               11229 non-null  object\n",
      " 2   timestamp          11256 non-null  object\n",
      " 3   comment            11256 non-null  object\n",
      " 4   likes              11256 non-null  int32 \n",
      " 5   replies_attracted  5754 non-null   object\n",
      " 6   comment_clean      11256 non-null  object\n",
      "dtypes: int32(1), object(6)\n",
      "memory usage: 659.5+ KB\n"
     ]
    }
   ],
   "source": [
    "# convert no. of likes to int\n",
    "df_yt_georgia_comments[\"likes\"] = df_yt_georgia_comments[\"likes\"].astype(int)\n",
    "df_yt_georgia_comments.info() # verify conversion"
   ]
  },
  {
   "cell_type": "code",
   "execution_count": 181,
   "metadata": {
    "scrolled": false
   },
   "outputs": [
    {
     "data": {
      "text/plain": [
       "array(['1 year ago', '4 years ago', '10 months ago',\n",
       "       '10 months ago (edited)', '5 months ago', '7 months ago',\n",
       "       '2 years ago', '2 years ago (edited)', '1 week ago', '5 years ago',\n",
       "       '3 years ago', '11 months ago', '2 months ago',\n",
       "       '2 months ago (edited)', '5 months ago (edited)', '4 months ago',\n",
       "       '4 months ago (edited)', '6 months ago', '1 month ago',\n",
       "       '3 years ago (edited)', '6 months ago (edited)', '3 months ago',\n",
       "       '1 year ago (edited)', '9 months ago', '8 months ago',\n",
       "       '8 months ago (edited)', '7 months ago (edited)',\n",
       "       '3 months ago (edited)', '1 day ago (edited)', '2 weeks ago',\n",
       "       '3 weeks ago', '2 days ago', '6 years ago',\n",
       "       '11 months ago (edited)', '4 weeks ago', '4 weeks ago (edited)',\n",
       "       '1 month ago (edited)', '5 days ago', '9 months ago (edited)',\n",
       "       '1 day ago', '32 minutes ago', '1 week ago (edited)',\n",
       "       '2 weeks ago (edited)', '20 hours ago', '6 days ago',\n",
       "       '3 weeks ago (edited)', '3 days ago', '15 hours ago',\n",
       "       '15 hours ago (edited)', '4 hours ago', '12 hours ago',\n",
       "       '5 days ago (edited)', '7 hours ago', '14 hours ago',\n",
       "       '8 hours ago', '2 days ago (edited)', '4 days ago',\n",
       "       '4 days ago (edited)', '23 hours ago', '6 hours ago',\n",
       "       '7 years ago', '8 years ago'], dtype=object)"
      ]
     },
     "execution_count": 181,
     "metadata": {},
     "output_type": "execute_result"
    }
   ],
   "source": [
    "df_yt_georgia_comments[\"timestamp\"].unique()"
   ]
  },
  {
   "cell_type": "code",
   "execution_count": 182,
   "metadata": {},
   "outputs": [],
   "source": [
    "# parsing the timestamps requires inference\n",
    "# or we could assume comments to have the same timestamps as videos"
   ]
  },
  {
   "cell_type": "markdown",
   "metadata": {},
   "source": [
    "#### Match Comments to Videos"
   ]
  },
  {
   "cell_type": "code",
   "execution_count": 183,
   "metadata": {},
   "outputs": [
    {
     "data": {
      "text/html": [
       "<div>\n",
       "<style scoped>\n",
       "    .dataframe tbody tr th:only-of-type {\n",
       "        vertical-align: middle;\n",
       "    }\n",
       "\n",
       "    .dataframe tbody tr th {\n",
       "        vertical-align: top;\n",
       "    }\n",
       "\n",
       "    .dataframe thead th {\n",
       "        text-align: right;\n",
       "    }\n",
       "</style>\n",
       "<table border=\"1\" class=\"dataframe\">\n",
       "  <thead>\n",
       "    <tr style=\"text-align: right;\">\n",
       "      <th></th>\n",
       "      <th>video_title</th>\n",
       "      <th>video_caption</th>\n",
       "      <th>date_time</th>\n",
       "      <th>video_slug</th>\n",
       "      <th>video_views</th>\n",
       "      <th>video_likes</th>\n",
       "      <th>video_dislikes</th>\n",
       "      <th>video_comments</th>\n",
       "      <th>video_title_clean</th>\n",
       "      <th>video_caption_clean</th>\n",
       "      <th>content</th>\n",
       "      <th>channel</th>\n",
       "    </tr>\n",
       "  </thead>\n",
       "  <tbody>\n",
       "    <tr>\n",
       "      <th>0</th>\n",
       "      <td>HALLOWEEN HORROR NIGHTS 8 AT UNIVERSAL STUDIOS! 👻</td>\n",
       "      <td>['UNIVERSAL HALLOWEEN HORROR NIGHTS 8! 👻\\n\\nHa...</td>\n",
       "      <td>2018-10-31</td>\n",
       "      <td>7xkdm3c4Ks8</td>\n",
       "      <td>8766</td>\n",
       "      <td>271</td>\n",
       "      <td>3</td>\n",
       "      <td>18</td>\n",
       "      <td>halloween horror nights 8 universal studios</td>\n",
       "      <td>'universal halloween horror nights 8 happy hal...</td>\n",
       "      <td>halloween horror nights 8 universal studios 'u...</td>\n",
       "      <td>GC</td>\n",
       "    </tr>\n",
       "  </tbody>\n",
       "</table>\n",
       "</div>"
      ],
      "text/plain": [
       "                                         video_title  \\\n",
       "0  HALLOWEEN HORROR NIGHTS 8 AT UNIVERSAL STUDIOS! 👻   \n",
       "\n",
       "                                       video_caption  date_time   video_slug  \\\n",
       "0  ['UNIVERSAL HALLOWEEN HORROR NIGHTS 8! 👻\\n\\nHa... 2018-10-31  7xkdm3c4Ks8   \n",
       "\n",
       "   video_views  video_likes  video_dislikes  video_comments  \\\n",
       "0         8766          271               3              18   \n",
       "\n",
       "                             video_title_clean  \\\n",
       "0  halloween horror nights 8 universal studios   \n",
       "\n",
       "                                 video_caption_clean  \\\n",
       "0  'universal halloween horror nights 8 happy hal...   \n",
       "\n",
       "                                             content channel  \n",
       "0  halloween horror nights 8 universal studios 'u...      GC  "
      ]
     },
     "execution_count": 183,
     "metadata": {},
     "output_type": "execute_result"
    }
   ],
   "source": [
    "df_yt_georgia_sel.head(1)"
   ]
  },
  {
   "cell_type": "code",
   "execution_count": 184,
   "metadata": {},
   "outputs": [
    {
     "data": {
      "text/html": [
       "<div>\n",
       "<style scoped>\n",
       "    .dataframe tbody tr th:only-of-type {\n",
       "        vertical-align: middle;\n",
       "    }\n",
       "\n",
       "    .dataframe tbody tr th {\n",
       "        vertical-align: top;\n",
       "    }\n",
       "\n",
       "    .dataframe thead th {\n",
       "        text-align: right;\n",
       "    }\n",
       "</style>\n",
       "<table border=\"1\" class=\"dataframe\">\n",
       "  <thead>\n",
       "    <tr style=\"text-align: right;\">\n",
       "      <th></th>\n",
       "      <th>response_to</th>\n",
       "      <th>user</th>\n",
       "      <th>timestamp</th>\n",
       "      <th>comment</th>\n",
       "      <th>likes</th>\n",
       "      <th>replies_attracted</th>\n",
       "      <th>comment_clean</th>\n",
       "    </tr>\n",
       "  </thead>\n",
       "  <tbody>\n",
       "    <tr>\n",
       "      <th>0</th>\n",
       "      <td>HALLOWEEN HORROR NIGHTS 8 AT UNIVERSAL STUDIOS! 👻</td>\n",
       "      <td>thattham</td>\n",
       "      <td>1 year ago</td>\n",
       "      <td>I was a scare actor in killuminati, we hope u ...</td>\n",
       "      <td>4</td>\n",
       "      <td>CLAIM NOW!</td>\n",
       "      <td>scare actor killuminati hope u liked</td>\n",
       "    </tr>\n",
       "  </tbody>\n",
       "</table>\n",
       "</div>"
      ],
      "text/plain": [
       "                                         response_to      user   timestamp  \\\n",
       "0  HALLOWEEN HORROR NIGHTS 8 AT UNIVERSAL STUDIOS! 👻  thattham  1 year ago   \n",
       "\n",
       "                                             comment  likes replies_attracted  \\\n",
       "0  I was a scare actor in killuminati, we hope u ...      4        CLAIM NOW!   \n",
       "\n",
       "                          comment_clean  \n",
       "0  scare actor killuminati hope u liked  "
      ]
     },
     "execution_count": 184,
     "metadata": {},
     "output_type": "execute_result"
    }
   ],
   "source": [
    "df_yt_georgia_comments.head(1)"
   ]
  },
  {
   "cell_type": "code",
   "execution_count": 185,
   "metadata": {},
   "outputs": [
    {
     "name": "stderr",
     "output_type": "stream",
     "text": [
      "C:\\Users\\yewto\\anaconda3\\lib\\site-packages\\pandas\\core\\strings.py:1954: UserWarning: This pattern has match groups. To actually get the groups, use str.extract.\n",
      "  return func(self, *args, **kwargs)\n"
     ]
    },
    {
     "data": {
      "text/plain": [
       "(6018, 7)"
      ]
     },
     "execution_count": 185,
     "metadata": {},
     "output_type": "execute_result"
    }
   ],
   "source": [
    "# match comments to selected video\n",
    "videos = df_yt_georgia_sel[\"video_title\"].values\n",
    "videos = df_yt_georgia_comments[\"response_to\"].str.contains(\"|\".join(videos))\n",
    "df_yt_georgia_comments_sel = df_yt_georgia_comments[videos] # create new df for selected comments\n",
    "df_yt_georgia_comments_sel.shape"
   ]
  },
  {
   "cell_type": "markdown",
   "metadata": {},
   "source": [
    "#### Comments to Ghib Ojisan"
   ]
  },
  {
   "cell_type": "code",
   "execution_count": 186,
   "metadata": {},
   "outputs": [
    {
     "data": {
      "text/plain": [
       "(14518, 6)"
      ]
     },
     "execution_count": 186,
     "metadata": {},
     "output_type": "execute_result"
    }
   ],
   "source": [
    "df_yt_ghib_comments = pd.read_csv(\"../datasets/df_yt_ghib_comments_2020-10-18.csv\")\n",
    "df_yt_ghib_comments.shape"
   ]
  },
  {
   "cell_type": "code",
   "execution_count": 187,
   "metadata": {},
   "outputs": [
    {
     "data": {
      "text/html": [
       "<div>\n",
       "<style scoped>\n",
       "    .dataframe tbody tr th:only-of-type {\n",
       "        vertical-align: middle;\n",
       "    }\n",
       "\n",
       "    .dataframe tbody tr th {\n",
       "        vertical-align: top;\n",
       "    }\n",
       "\n",
       "    .dataframe thead th {\n",
       "        text-align: right;\n",
       "    }\n",
       "</style>\n",
       "<table border=\"1\" class=\"dataframe\">\n",
       "  <thead>\n",
       "    <tr style=\"text-align: right;\">\n",
       "      <th></th>\n",
       "      <th>response_to</th>\n",
       "      <th>user</th>\n",
       "      <th>timestamp</th>\n",
       "      <th>comment</th>\n",
       "      <th>likes</th>\n",
       "      <th>replies_attracted</th>\n",
       "    </tr>\n",
       "  </thead>\n",
       "  <tbody>\n",
       "    <tr>\n",
       "      <th>0</th>\n",
       "      <td>【これが現実】エリート駐在員にストレスを吐き出してもらった結果…【シンガポール】</td>\n",
       "      <td>佐東忠司</td>\n",
       "      <td>1 year ago</td>\n",
       "      <td>始業時間に厳しく、終了時間がいい加減...\\n時間に一番ルーズなのは日本人では？w\\n友達が...</td>\n",
       "      <td>45</td>\n",
       "      <td>View reply</td>\n",
       "    </tr>\n",
       "    <tr>\n",
       "      <th>1</th>\n",
       "      <td>【これが現実】エリート駐在員にストレスを吐き出してもらった結果…【シンガポール】</td>\n",
       "      <td>no arara</td>\n",
       "      <td>1 year ago</td>\n",
       "      <td>日本の労働効率の悪さは、犯罪レベル。</td>\n",
       "      <td>23</td>\n",
       "      <td>NaN</td>\n",
       "    </tr>\n",
       "    <tr>\n",
       "      <th>2</th>\n",
       "      <td>【これが現実】エリート駐在員にストレスを吐き出してもらった結果…【シンガポール】</td>\n",
       "      <td>新たあらた</td>\n",
       "      <td>1 year ago</td>\n",
       "      <td>嫌なら辞めれば、というコメントは筋違い。海外赴任は期間限定だから数年で日本の元の環境に戻る。...</td>\n",
       "      <td>11</td>\n",
       "      <td>View reply</td>\n",
       "    </tr>\n",
       "  </tbody>\n",
       "</table>\n",
       "</div>"
      ],
      "text/plain": [
       "                                response_to      user   timestamp  \\\n",
       "0  【これが現実】エリート駐在員にストレスを吐き出してもらった結果…【シンガポール】      佐東忠司  1 year ago   \n",
       "1  【これが現実】エリート駐在員にストレスを吐き出してもらった結果…【シンガポール】  no arara  1 year ago   \n",
       "2  【これが現実】エリート駐在員にストレスを吐き出してもらった結果…【シンガポール】     新たあらた  1 year ago   \n",
       "\n",
       "                                             comment likes replies_attracted  \n",
       "0  始業時間に厳しく、終了時間がいい加減...\\n時間に一番ルーズなのは日本人では？w\\n友達が...    45        View reply  \n",
       "1                                 日本の労働効率の悪さは、犯罪レベル。    23               NaN  \n",
       "2  嫌なら辞めれば、というコメントは筋違い。海外赴任は期間限定だから数年で日本の元の環境に戻る。...    11        View reply  "
      ]
     },
     "execution_count": 187,
     "metadata": {},
     "output_type": "execute_result"
    }
   ],
   "source": [
    "df_yt_ghib_comments.head(3)"
   ]
  },
  {
   "cell_type": "code",
   "execution_count": 188,
   "metadata": {},
   "outputs": [
    {
     "data": {
      "text/plain": [
       "False    14513\n",
       "True         5\n",
       "dtype: int64"
      ]
     },
     "execution_count": 188,
     "metadata": {},
     "output_type": "execute_result"
    }
   ],
   "source": [
    "# there are some duplicate scrapes\n",
    "df_yt_ghib_comments.duplicated(keep=\"first\").value_counts()"
   ]
  },
  {
   "cell_type": "code",
   "execution_count": 189,
   "metadata": {},
   "outputs": [
    {
     "data": {
      "text/plain": [
       "(14513, 6)"
      ]
     },
     "execution_count": 189,
     "metadata": {},
     "output_type": "execute_result"
    }
   ],
   "source": [
    "# drop duplicate scrapes\n",
    "df_yt_ghib_comments = df_yt_ghib_comments.drop(df_yt_ghib_comments[df_yt_ghib_comments.duplicated(keep=\"first\")].index)\n",
    "df_yt_ghib_comments.shape"
   ]
  },
  {
   "cell_type": "code",
   "execution_count": 190,
   "metadata": {},
   "outputs": [
    {
     "data": {
      "text/html": [
       "<div>\n",
       "<style scoped>\n",
       "    .dataframe tbody tr th:only-of-type {\n",
       "        vertical-align: middle;\n",
       "    }\n",
       "\n",
       "    .dataframe tbody tr th {\n",
       "        vertical-align: top;\n",
       "    }\n",
       "\n",
       "    .dataframe thead th {\n",
       "        text-align: right;\n",
       "    }\n",
       "</style>\n",
       "<table border=\"1\" class=\"dataframe\">\n",
       "  <thead>\n",
       "    <tr style=\"text-align: right;\">\n",
       "      <th></th>\n",
       "      <th>response_to</th>\n",
       "      <th>user</th>\n",
       "      <th>timestamp</th>\n",
       "      <th>comment</th>\n",
       "      <th>likes</th>\n",
       "      <th>replies_attracted</th>\n",
       "      <th>comment_clean</th>\n",
       "    </tr>\n",
       "  </thead>\n",
       "  <tbody>\n",
       "    <tr>\n",
       "      <th>0</th>\n",
       "      <td>【これが現実】エリート駐在員にストレスを吐き出してもらった結果…【シンガポール】</td>\n",
       "      <td>佐東忠司</td>\n",
       "      <td>1 year ago</td>\n",
       "      <td>始業時間に厳しく、終了時間がいい加減...\\n時間に一番ルーズなのは日本人では？w\\n友達が...</td>\n",
       "      <td>45</td>\n",
       "      <td>View reply</td>\n",
       "      <td>w</td>\n",
       "    </tr>\n",
       "  </tbody>\n",
       "</table>\n",
       "</div>"
      ],
      "text/plain": [
       "                                response_to  user   timestamp  \\\n",
       "0  【これが現実】エリート駐在員にストレスを吐き出してもらった結果…【シンガポール】  佐東忠司  1 year ago   \n",
       "\n",
       "                                             comment likes replies_attracted  \\\n",
       "0  始業時間に厳しく、終了時間がいい加減...\\n時間に一番ルーズなのは日本人では？w\\n友達が...    45        View reply   \n",
       "\n",
       "  comment_clean  \n",
       "0             w  "
      ]
     },
     "execution_count": 190,
     "metadata": {},
     "output_type": "execute_result"
    }
   ],
   "source": [
    "# let's clean the comments first\n",
    "df_yt_ghib_comments[\"comment_clean\"] = clean_text(df_yt_ghib_comments, \"comment\")\n",
    "df_yt_ghib_comments.head(1)"
   ]
  },
  {
   "cell_type": "code",
   "execution_count": 191,
   "metadata": {},
   "outputs": [
    {
     "name": "stdout",
     "output_type": "stream",
     "text": [
      "<class 'pandas.core.frame.DataFrame'>\n",
      "Int64Index: 14513 entries, 0 to 14517\n",
      "Data columns (total 7 columns):\n",
      " #   Column             Non-Null Count  Dtype \n",
      "---  ------             --------------  ----- \n",
      " 0   response_to        14513 non-null  object\n",
      " 1   user               14488 non-null  object\n",
      " 2   timestamp          14513 non-null  object\n",
      " 3   comment            14513 non-null  object\n",
      " 4   likes              12733 non-null  object\n",
      " 5   replies_attracted  7433 non-null   object\n",
      " 6   comment_clean      14513 non-null  object\n",
      "dtypes: object(7)\n",
      "memory usage: 907.1+ KB\n"
     ]
    }
   ],
   "source": [
    "df_yt_ghib_comments.info() # some missing values"
   ]
  },
  {
   "cell_type": "code",
   "execution_count": 192,
   "metadata": {},
   "outputs": [
    {
     "data": {
      "text/html": [
       "<div>\n",
       "<style scoped>\n",
       "    .dataframe tbody tr th:only-of-type {\n",
       "        vertical-align: middle;\n",
       "    }\n",
       "\n",
       "    .dataframe tbody tr th {\n",
       "        vertical-align: top;\n",
       "    }\n",
       "\n",
       "    .dataframe thead th {\n",
       "        text-align: right;\n",
       "    }\n",
       "</style>\n",
       "<table border=\"1\" class=\"dataframe\">\n",
       "  <thead>\n",
       "    <tr style=\"text-align: right;\">\n",
       "      <th></th>\n",
       "      <th>response_to</th>\n",
       "      <th>user</th>\n",
       "      <th>timestamp</th>\n",
       "      <th>comment</th>\n",
       "      <th>likes</th>\n",
       "      <th>replies_attracted</th>\n",
       "      <th>comment_clean</th>\n",
       "    </tr>\n",
       "  </thead>\n",
       "  <tbody>\n",
       "  </tbody>\n",
       "</table>\n",
       "</div>"
      ],
      "text/plain": [
       "Empty DataFrame\n",
       "Columns: [response_to, user, timestamp, comment, likes, replies_attracted, comment_clean]\n",
       "Index: []"
      ]
     },
     "execution_count": 192,
     "metadata": {},
     "output_type": "execute_result"
    }
   ],
   "source": [
    "# find comments with 0 likes\n",
    "mask = df_yt_ghib_comments[\"likes\"] == 0\n",
    "df_yt_ghib_comments[mask]"
   ]
  },
  {
   "cell_type": "code",
   "execution_count": 193,
   "metadata": {},
   "outputs": [
    {
     "name": "stdout",
     "output_type": "stream",
     "text": [
      "<class 'pandas.core.frame.DataFrame'>\n",
      "Int64Index: 14513 entries, 0 to 14517\n",
      "Data columns (total 7 columns):\n",
      " #   Column             Non-Null Count  Dtype \n",
      "---  ------             --------------  ----- \n",
      " 0   response_to        14513 non-null  object\n",
      " 1   user               14488 non-null  object\n",
      " 2   timestamp          14513 non-null  object\n",
      " 3   comment            14513 non-null  object\n",
      " 4   likes              14513 non-null  object\n",
      " 5   replies_attracted  7433 non-null   object\n",
      " 6   comment_clean      14513 non-null  object\n",
      "dtypes: object(7)\n",
      "memory usage: 907.1+ KB\n"
     ]
    }
   ],
   "source": [
    "# there are no comments with 0 likes\n",
    "# comments with missing like values are most likely comments with 0 likes\n",
    "# let's impute with 0\n",
    "df_yt_ghib_comments[\"likes\"].fillna(\"0\", inplace=True)\n",
    "df_yt_ghib_comments.info() # verify imputation"
   ]
  },
  {
   "cell_type": "code",
   "execution_count": 194,
   "metadata": {},
   "outputs": [
    {
     "data": {
      "text/plain": [
       "False    14438\n",
       "True        75\n",
       "Name: likes, dtype: int64"
      ]
     },
     "execution_count": 194,
     "metadata": {},
     "output_type": "execute_result"
    }
   ],
   "source": [
    "df_yt_ghib_comments[\"likes\"].str.contains(\"K\").value_counts()"
   ]
  },
  {
   "cell_type": "code",
   "execution_count": 195,
   "metadata": {},
   "outputs": [],
   "source": [
    "# noticed that some likes in the thousands are suffixed with a \"K\"\n",
    "# remove the decimal point, and replace \"K\" with two zeroes\n",
    "thousands = df_yt_ghib_comments[\"likes\"].str.contains(\"K\")\n",
    "df_yt_ghib_comments.loc[thousands, \"likes\"] = df_yt_ghib_comments.loc[thousands, \"likes\"].str.replace(\".\", \"\").str.replace(\"K\", \"00\")"
   ]
  },
  {
   "cell_type": "code",
   "execution_count": 196,
   "metadata": {},
   "outputs": [
    {
     "data": {
      "text/plain": [
       "False    14503\n",
       "True        10\n",
       "Name: likes, dtype: int64"
      ]
     },
     "execution_count": 196,
     "metadata": {},
     "output_type": "execute_result"
    }
   ],
   "source": [
    "df_yt_ghib_comments[\"likes\"].str.contains(\"[a-zA-Z]\").value_counts()"
   ]
  },
  {
   "cell_type": "code",
   "execution_count": 197,
   "metadata": {},
   "outputs": [],
   "source": [
    "# and also that there are some alphabetical characters from scraping erroneous imputation\n",
    "# this error arose from imputation when video has disabled comments and likes\n",
    "# as such let's drop all such rows\n",
    "error = df_yt_ghib_comments[\"likes\"].str.contains(\"[a-zA-Z\\.\\s]\")\n",
    "df_yt_ghib_comments.drop(df_yt_ghib_comments[error].index, inplace=True)"
   ]
  },
  {
   "cell_type": "code",
   "execution_count": 198,
   "metadata": {},
   "outputs": [
    {
     "name": "stdout",
     "output_type": "stream",
     "text": [
      "<class 'pandas.core.frame.DataFrame'>\n",
      "Int64Index: 14501 entries, 0 to 14517\n",
      "Data columns (total 7 columns):\n",
      " #   Column             Non-Null Count  Dtype \n",
      "---  ------             --------------  ----- \n",
      " 0   response_to        14501 non-null  object\n",
      " 1   user               14476 non-null  object\n",
      " 2   timestamp          14501 non-null  object\n",
      " 3   comment            14501 non-null  object\n",
      " 4   likes              14501 non-null  int32 \n",
      " 5   replies_attracted  7421 non-null   object\n",
      " 6   comment_clean      14501 non-null  object\n",
      "dtypes: int32(1), object(6)\n",
      "memory usage: 849.7+ KB\n"
     ]
    }
   ],
   "source": [
    "# convert no. of likes to int\n",
    "df_yt_ghib_comments[\"likes\"] = df_yt_ghib_comments[\"likes\"].astype(int)\n",
    "df_yt_ghib_comments.info() # verify conversion"
   ]
  },
  {
   "cell_type": "code",
   "execution_count": 199,
   "metadata": {},
   "outputs": [],
   "source": [
    "# let's also match the comments to selected video titles\n",
    "df_yt_ghib_comments.loc[:, \"response_to\"] = [s.replace(\"’\", \"'\").replace(\"🇸🇬\", \"\") for s in df_yt_ghib_comments[\"response_to\"]]"
   ]
  },
  {
   "cell_type": "code",
   "execution_count": 200,
   "metadata": {},
   "outputs": [
    {
     "data": {
      "text/plain": [
       "(6829, 7)"
      ]
     },
     "execution_count": 200,
     "metadata": {},
     "output_type": "execute_result"
    }
   ],
   "source": [
    "# filter out all posts with japanese characters\n",
    "only_eng = [title.isascii() for title in df_yt_ghib_comments[\"response_to\"]]\n",
    "df_yt_ghib_comments_eng = df_yt_ghib_comments[only_eng] # rewrite df\n",
    "df_yt_ghib_comments_eng.shape"
   ]
  },
  {
   "cell_type": "code",
   "execution_count": 201,
   "metadata": {},
   "outputs": [
    {
     "data": {
      "text/plain": [
       "array(['6 months ago', '5 months ago', '6 months ago (edited)',\n",
       "       '1 year ago', '6 hours ago', '1 year ago (edited)', '9 months ago',\n",
       "       '9 months ago (edited)', '8 months ago', '3 months ago',\n",
       "       '7 months ago', '7 months ago (edited)', '3 months ago (edited)',\n",
       "       '2 months ago', '2 years ago', '1 day ago', '10 months ago',\n",
       "       '1 month ago', '8 months ago (edited)', '4 months ago',\n",
       "       '4 weeks ago', '3 weeks ago', '3 weeks ago (edited)',\n",
       "       '4 weeks ago (edited)', '2 weeks ago (edited)', '2 weeks ago',\n",
       "       '2 hours ago', '2 days ago', '2 months ago (edited)',\n",
       "       '5 months ago (edited)', '11 months ago', '1 week ago',\n",
       "       '10 months ago (edited)', '4 months ago (edited)',\n",
       "       '1 month ago (edited)', '11 months ago (edited)', '6 days ago',\n",
       "       '2 years ago (edited)', '20 hours ago', '2 days ago (edited)',\n",
       "       '4 days ago', '1 week ago (edited)', '12 hours ago', '9 hours ago',\n",
       "       '3 days ago', '6 days ago (edited)', '11 hours ago',\n",
       "       '5 days ago (edited)', '12 hours ago (edited)', '13 hours ago',\n",
       "       '5 days ago', '15 hours ago', '7 hours ago (edited)',\n",
       "       '10 hours ago', '22 hours ago', '14 hours ago', '18 hours ago',\n",
       "       '8 hours ago', '17 hours ago', '16 hours ago',\n",
       "       '1 day ago (edited)', '7 hours ago', '21 hours ago',\n",
       "       '4 days ago (edited)', '4 hours ago'], dtype=object)"
      ]
     },
     "execution_count": 201,
     "metadata": {},
     "output_type": "execute_result"
    }
   ],
   "source": [
    "df_yt_ghib_comments_eng[\"timestamp\"].unique()"
   ]
  },
  {
   "cell_type": "code",
   "execution_count": 202,
   "metadata": {},
   "outputs": [],
   "source": [
    "# parsing the timestamps requires inference\n",
    "# or we could assume comments to have the same timestamps as videos"
   ]
  },
  {
   "cell_type": "markdown",
   "metadata": {},
   "source": [
    "#### Match Comments to Videos"
   ]
  },
  {
   "cell_type": "code",
   "execution_count": 203,
   "metadata": {},
   "outputs": [
    {
     "data": {
      "text/html": [
       "<div>\n",
       "<style scoped>\n",
       "    .dataframe tbody tr th:only-of-type {\n",
       "        vertical-align: middle;\n",
       "    }\n",
       "\n",
       "    .dataframe tbody tr th {\n",
       "        vertical-align: top;\n",
       "    }\n",
       "\n",
       "    .dataframe thead th {\n",
       "        text-align: right;\n",
       "    }\n",
       "</style>\n",
       "<table border=\"1\" class=\"dataframe\">\n",
       "  <thead>\n",
       "    <tr style=\"text-align: right;\">\n",
       "      <th></th>\n",
       "      <th>video_title</th>\n",
       "      <th>video_caption</th>\n",
       "      <th>date_time</th>\n",
       "      <th>video_slug</th>\n",
       "      <th>video_views</th>\n",
       "      <th>video_likes</th>\n",
       "      <th>video_dislikes</th>\n",
       "      <th>video_comments</th>\n",
       "      <th>video_title_clean</th>\n",
       "      <th>video_caption_clean</th>\n",
       "      <th>content</th>\n",
       "      <th>channel</th>\n",
       "    </tr>\n",
       "  </thead>\n",
       "  <tbody>\n",
       "    <tr>\n",
       "      <th>4</th>\n",
       "      <td>Singapore Semi-Lockdown Diary Day 0 | Japanese...</td>\n",
       "      <td>[\"This thing called the 'circuit breaker' is h...</td>\n",
       "      <td>2020-04-07</td>\n",
       "      <td>632WZ2a-GCw</td>\n",
       "      <td>84167</td>\n",
       "      <td>1931</td>\n",
       "      <td>51</td>\n",
       "      <td>318</td>\n",
       "      <td>semilockdown diary day 0 japanese living</td>\n",
       "      <td>thing called 'circuit breaker' happening actua...</td>\n",
       "      <td>Singapore Semi-Lockdown Diary Day 0 | Japanese...</td>\n",
       "      <td>GO</td>\n",
       "    </tr>\n",
       "  </tbody>\n",
       "</table>\n",
       "</div>"
      ],
      "text/plain": [
       "                                         video_title  \\\n",
       "4  Singapore Semi-Lockdown Diary Day 0 | Japanese...   \n",
       "\n",
       "                                       video_caption  date_time   video_slug  \\\n",
       "4  [\"This thing called the 'circuit breaker' is h... 2020-04-07  632WZ2a-GCw   \n",
       "\n",
       "   video_views  video_likes  video_dislikes  video_comments  \\\n",
       "4        84167         1931              51             318   \n",
       "\n",
       "                          video_title_clean  \\\n",
       "4  semilockdown diary day 0 japanese living   \n",
       "\n",
       "                                 video_caption_clean  \\\n",
       "4  thing called 'circuit breaker' happening actua...   \n",
       "\n",
       "                                             content channel  \n",
       "4  Singapore Semi-Lockdown Diary Day 0 | Japanese...      GO  "
      ]
     },
     "execution_count": 203,
     "metadata": {},
     "output_type": "execute_result"
    }
   ],
   "source": [
    "df_yt_ghib_sel.head(1)"
   ]
  },
  {
   "cell_type": "code",
   "execution_count": 204,
   "metadata": {},
   "outputs": [
    {
     "data": {
      "text/html": [
       "<div>\n",
       "<style scoped>\n",
       "    .dataframe tbody tr th:only-of-type {\n",
       "        vertical-align: middle;\n",
       "    }\n",
       "\n",
       "    .dataframe tbody tr th {\n",
       "        vertical-align: top;\n",
       "    }\n",
       "\n",
       "    .dataframe thead th {\n",
       "        text-align: right;\n",
       "    }\n",
       "</style>\n",
       "<table border=\"1\" class=\"dataframe\">\n",
       "  <thead>\n",
       "    <tr style=\"text-align: right;\">\n",
       "      <th></th>\n",
       "      <th>response_to</th>\n",
       "      <th>user</th>\n",
       "      <th>timestamp</th>\n",
       "      <th>comment</th>\n",
       "      <th>likes</th>\n",
       "      <th>replies_attracted</th>\n",
       "      <th>comment_clean</th>\n",
       "    </tr>\n",
       "  </thead>\n",
       "  <tbody>\n",
       "    <tr>\n",
       "      <th>106</th>\n",
       "      <td>Singapore Semi-Lockdown Diary Day 0 | Japanese...</td>\n",
       "      <td>NaN</td>\n",
       "      <td>6 months ago</td>\n",
       "      <td>Even in Singapore now</td>\n",
       "      <td>1</td>\n",
       "      <td>View 4 replies</td>\n",
       "      <td>even</td>\n",
       "    </tr>\n",
       "  </tbody>\n",
       "</table>\n",
       "</div>"
      ],
      "text/plain": [
       "                                           response_to user     timestamp  \\\n",
       "106  Singapore Semi-Lockdown Diary Day 0 | Japanese...  NaN  6 months ago   \n",
       "\n",
       "                   comment  likes replies_attracted comment_clean  \n",
       "106  Even in Singapore now      1    View 4 replies          even  "
      ]
     },
     "execution_count": 204,
     "metadata": {},
     "output_type": "execute_result"
    }
   ],
   "source": [
    "df_yt_ghib_comments_eng.head(1)"
   ]
  },
  {
   "cell_type": "code",
   "execution_count": 205,
   "metadata": {},
   "outputs": [
    {
     "name": "stderr",
     "output_type": "stream",
     "text": [
      "C:\\Users\\yewto\\anaconda3\\lib\\site-packages\\pandas\\core\\strings.py:1954: UserWarning: This pattern has match groups. To actually get the groups, use str.extract.\n",
      "  return func(self, *args, **kwargs)\n"
     ]
    },
    {
     "data": {
      "text/plain": [
       "(4572, 7)"
      ]
     },
     "execution_count": 205,
     "metadata": {},
     "output_type": "execute_result"
    }
   ],
   "source": [
    "# match comments to selected video\n",
    "videos = df_yt_ghib_sel[\"video_title\"].values\n",
    "videos = df_yt_ghib_comments_eng[\"response_to\"].str.contains(\"|\".join(videos))\n",
    "df_yt_ghib_comments_sel = df_yt_ghib_comments_eng[videos] # create new df for selected comments\n",
    "df_yt_ghib_comments_sel.shape"
   ]
  },
  {
   "cell_type": "markdown",
   "metadata": {},
   "source": [
    "#### Merge Selected Comments"
   ]
  },
  {
   "cell_type": "code",
   "execution_count": 206,
   "metadata": {},
   "outputs": [
    {
     "data": {
      "text/html": [
       "<div>\n",
       "<style scoped>\n",
       "    .dataframe tbody tr th:only-of-type {\n",
       "        vertical-align: middle;\n",
       "    }\n",
       "\n",
       "    .dataframe tbody tr th {\n",
       "        vertical-align: top;\n",
       "    }\n",
       "\n",
       "    .dataframe thead th {\n",
       "        text-align: right;\n",
       "    }\n",
       "</style>\n",
       "<table border=\"1\" class=\"dataframe\">\n",
       "  <thead>\n",
       "    <tr style=\"text-align: right;\">\n",
       "      <th></th>\n",
       "      <th>response_to</th>\n",
       "      <th>user</th>\n",
       "      <th>timestamp</th>\n",
       "      <th>comment</th>\n",
       "      <th>likes</th>\n",
       "      <th>replies_attracted</th>\n",
       "      <th>comment_clean</th>\n",
       "    </tr>\n",
       "  </thead>\n",
       "  <tbody>\n",
       "    <tr>\n",
       "      <th>0</th>\n",
       "      <td>HALLOWEEN HORROR NIGHTS 8 AT UNIVERSAL STUDIOS! 👻</td>\n",
       "      <td>thattham</td>\n",
       "      <td>1 year ago</td>\n",
       "      <td>I was a scare actor in killuminati, we hope u ...</td>\n",
       "      <td>4</td>\n",
       "      <td>CLAIM NOW!</td>\n",
       "      <td>scare actor killuminati hope u liked</td>\n",
       "    </tr>\n",
       "  </tbody>\n",
       "</table>\n",
       "</div>"
      ],
      "text/plain": [
       "                                         response_to      user   timestamp  \\\n",
       "0  HALLOWEEN HORROR NIGHTS 8 AT UNIVERSAL STUDIOS! 👻  thattham  1 year ago   \n",
       "\n",
       "                                             comment  likes replies_attracted  \\\n",
       "0  I was a scare actor in killuminati, we hope u ...      4        CLAIM NOW!   \n",
       "\n",
       "                          comment_clean  \n",
       "0  scare actor killuminati hope u liked  "
      ]
     },
     "execution_count": 206,
     "metadata": {},
     "output_type": "execute_result"
    }
   ],
   "source": [
    "df_yt_georgia_comments_sel.head(1)"
   ]
  },
  {
   "cell_type": "code",
   "execution_count": 207,
   "metadata": {},
   "outputs": [
    {
     "data": {
      "text/html": [
       "<div>\n",
       "<style scoped>\n",
       "    .dataframe tbody tr th:only-of-type {\n",
       "        vertical-align: middle;\n",
       "    }\n",
       "\n",
       "    .dataframe tbody tr th {\n",
       "        vertical-align: top;\n",
       "    }\n",
       "\n",
       "    .dataframe thead th {\n",
       "        text-align: right;\n",
       "    }\n",
       "</style>\n",
       "<table border=\"1\" class=\"dataframe\">\n",
       "  <thead>\n",
       "    <tr style=\"text-align: right;\">\n",
       "      <th></th>\n",
       "      <th>response_to</th>\n",
       "      <th>user</th>\n",
       "      <th>timestamp</th>\n",
       "      <th>comment</th>\n",
       "      <th>likes</th>\n",
       "      <th>replies_attracted</th>\n",
       "      <th>comment_clean</th>\n",
       "    </tr>\n",
       "  </thead>\n",
       "  <tbody>\n",
       "    <tr>\n",
       "      <th>106</th>\n",
       "      <td>Singapore Semi-Lockdown Diary Day 0 | Japanese...</td>\n",
       "      <td>NaN</td>\n",
       "      <td>6 months ago</td>\n",
       "      <td>Even in Singapore now</td>\n",
       "      <td>1</td>\n",
       "      <td>View 4 replies</td>\n",
       "      <td>even</td>\n",
       "    </tr>\n",
       "  </tbody>\n",
       "</table>\n",
       "</div>"
      ],
      "text/plain": [
       "                                           response_to user     timestamp  \\\n",
       "106  Singapore Semi-Lockdown Diary Day 0 | Japanese...  NaN  6 months ago   \n",
       "\n",
       "                   comment  likes replies_attracted comment_clean  \n",
       "106  Even in Singapore now      1    View 4 replies          even  "
      ]
     },
     "execution_count": 207,
     "metadata": {},
     "output_type": "execute_result"
    }
   ],
   "source": [
    "df_yt_ghib_comments_sel.head(1)"
   ]
  },
  {
   "cell_type": "code",
   "execution_count": 208,
   "metadata": {},
   "outputs": [
    {
     "name": "stderr",
     "output_type": "stream",
     "text": [
      "<ipython-input-208-b36c558bb5c1>:2: SettingWithCopyWarning: \n",
      "A value is trying to be set on a copy of a slice from a DataFrame.\n",
      "Try using .loc[row_indexer,col_indexer] = value instead\n",
      "\n",
      "See the caveats in the documentation: https://pandas.pydata.org/pandas-docs/stable/user_guide/indexing.html#returning-a-view-versus-a-copy\n",
      "  df_yt_georgia_comments_sel[\"channel\"] = \"GC\"\n",
      "<ipython-input-208-b36c558bb5c1>:3: SettingWithCopyWarning: \n",
      "A value is trying to be set on a copy of a slice from a DataFrame.\n",
      "Try using .loc[row_indexer,col_indexer] = value instead\n",
      "\n",
      "See the caveats in the documentation: https://pandas.pydata.org/pandas-docs/stable/user_guide/indexing.html#returning-a-view-versus-a-copy\n",
      "  df_yt_ghib_comments_sel[\"channel\"] = \"GO\"\n"
     ]
    }
   ],
   "source": [
    "# before merging, let's add a channel col\n",
    "df_yt_georgia_comments_sel[\"channel\"] = \"GC\"\n",
    "df_yt_ghib_comments_sel[\"channel\"] = \"GO\""
   ]
  },
  {
   "cell_type": "code",
   "execution_count": 209,
   "metadata": {},
   "outputs": [
    {
     "data": {
      "text/plain": [
       "(10590, 8)"
      ]
     },
     "execution_count": 209,
     "metadata": {},
     "output_type": "execute_result"
    }
   ],
   "source": [
    "# create new df for merged comments\n",
    "df_yt_comments_sel = pd.concat([df_yt_georgia_comments_sel, df_yt_ghib_comments_sel], axis=0)\n",
    "df_yt_comments_sel.shape"
   ]
  },
  {
   "cell_type": "code",
   "execution_count": 210,
   "metadata": {},
   "outputs": [],
   "source": [
    "# save out merged df\n",
    "df_yt_comments_sel.to_csv(\"../datasets/df_yt_comments_sel.csv\", index=False)"
   ]
  },
  {
   "cell_type": "code",
   "execution_count": null,
   "metadata": {},
   "outputs": [],
   "source": []
  },
  {
   "cell_type": "code",
   "execution_count": null,
   "metadata": {},
   "outputs": [],
   "source": []
  }
 ],
 "metadata": {
  "kernelspec": {
   "display_name": "Python 3",
   "language": "python",
   "name": "python3"
  },
  "language_info": {
   "codemirror_mode": {
    "name": "ipython",
    "version": 3
   },
   "file_extension": ".py",
   "mimetype": "text/x-python",
   "name": "python",
   "nbconvert_exporter": "python",
   "pygments_lexer": "ipython3",
   "version": "3.8.3"
  }
 },
 "nbformat": 4,
 "nbformat_minor": 4
}
