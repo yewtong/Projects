{
 "cells": [
  {
   "cell_type": "code",
   "execution_count": 1,
   "metadata": {},
   "outputs": [],
   "source": [
    "import pandas as pd\n",
    "import numpy as np\n",
    "import matplotlib.pyplot as plt"
   ]
  },
  {
   "cell_type": "code",
   "execution_count": 26,
   "metadata": {},
   "outputs": [
    {
     "name": "stdout",
     "output_type": "stream",
     "text": [
      "<class 'pandas.core.frame.DataFrame'>\n",
      "RangeIndex: 3104 entries, 0 to 3103\n",
      "Data columns (total 18 columns):\n",
      " #   Column                 Non-Null Count  Dtype         \n",
      "---  ------                 --------------  -----         \n",
      " 0   post_id                3104 non-null   int64         \n",
      " 1   post_slug              3104 non-null   object        \n",
      " 2   unix_time              3104 non-null   int64         \n",
      " 3   date_time              3104 non-null   datetime64[ns]\n",
      " 4   post_caption           3083 non-null   object        \n",
      " 5   hashtags               3083 non-null   object        \n",
      " 6   topic_tags             2037 non-null   object        \n",
      " 7   is_video               3104 non-null   bool          \n",
      " 8   is_ad                  3104 non-null   bool          \n",
      " 9   post_likes             3104 non-null   int64         \n",
      " 10  geo_tag                2383 non-null   object        \n",
      " 11  geo_slug               2378 non-null   object        \n",
      " 12  owner_id               3104 non-null   int64         \n",
      " 13  owner_verified         3104 non-null   bool          \n",
      " 14  owner_privacy          3104 non-null   bool          \n",
      " 15  owner_unpublished      3104 non-null   bool          \n",
      " 16  owner_total_posts      3104 non-null   int64         \n",
      " 17  owner_total_followers  3104 non-null   int64         \n",
      "dtypes: bool(5), datetime64[ns](1), int64(6), object(6)\n",
      "memory usage: 330.5+ KB\n"
     ]
    }
   ],
   "source": [
    "pd.read_csv(\"../datasets/df_insta_2020-10-12.csv\", parse_dates=[\"date_time\"]).info()"
   ]
  },
  {
   "cell_type": "code",
   "execution_count": 27,
   "metadata": {},
   "outputs": [
    {
     "data": {
      "text/html": [
       "<div>\n",
       "<style scoped>\n",
       "    .dataframe tbody tr th:only-of-type {\n",
       "        vertical-align: middle;\n",
       "    }\n",
       "\n",
       "    .dataframe tbody tr th {\n",
       "        vertical-align: top;\n",
       "    }\n",
       "\n",
       "    .dataframe thead th {\n",
       "        text-align: right;\n",
       "    }\n",
       "</style>\n",
       "<table border=\"1\" class=\"dataframe\">\n",
       "  <thead>\n",
       "    <tr style=\"text-align: right;\">\n",
       "      <th></th>\n",
       "      <th>post_id</th>\n",
       "      <th>post_slug</th>\n",
       "      <th>unix_time</th>\n",
       "      <th>date_time</th>\n",
       "      <th>post_caption</th>\n",
       "      <th>hashtags</th>\n",
       "      <th>topic_tags</th>\n",
       "      <th>is_video</th>\n",
       "      <th>is_ad</th>\n",
       "      <th>post_likes</th>\n",
       "      <th>geo_tag</th>\n",
       "      <th>geo_slug</th>\n",
       "      <th>owner_id</th>\n",
       "      <th>owner_verified</th>\n",
       "      <th>owner_privacy</th>\n",
       "      <th>owner_unpublished</th>\n",
       "      <th>owner_total_posts</th>\n",
       "      <th>owner_total_followers</th>\n",
       "    </tr>\n",
       "  </thead>\n",
       "  <tbody>\n",
       "    <tr>\n",
       "      <th>0</th>\n",
       "      <td>2415039914432249111</td>\n",
       "      <td>CGD8gG6H70X</td>\n",
       "      <td>1602115214</td>\n",
       "      <td>2020-10-08 00:00:14</td>\n",
       "      <td>We may be stressed and tied up during the week...</td>\n",
       "      <td>['#selfcaresaturday', '#saturday', '#skincare'...</td>\n",
       "      <td>['one or more people', \"text that says 'Charge...</td>\n",
       "      <td>False</td>\n",
       "      <td>False</td>\n",
       "      <td>2</td>\n",
       "      <td>NaN</td>\n",
       "      <td>NaN</td>\n",
       "      <td>3986460102</td>\n",
       "      <td>False</td>\n",
       "      <td>False</td>\n",
       "      <td>False</td>\n",
       "      <td>169</td>\n",
       "      <td>263</td>\n",
       "    </tr>\n",
       "    <tr>\n",
       "      <th>1</th>\n",
       "      <td>2403781281091523733</td>\n",
       "      <td>CFb8lbhMZSV</td>\n",
       "      <td>1600773080</td>\n",
       "      <td>2020-09-22 11:11:20</td>\n",
       "      <td>Wanted mooncakes, but found something else... ...</td>\n",
       "      <td>['#oldman', '#lunchtime', '#streetphotography'...</td>\n",
       "      <td>NaN</td>\n",
       "      <td>False</td>\n",
       "      <td>False</td>\n",
       "      <td>26</td>\n",
       "      <td>Chinatown</td>\n",
       "      <td>chinatown</td>\n",
       "      <td>32884185</td>\n",
       "      <td>False</td>\n",
       "      <td>False</td>\n",
       "      <td>False</td>\n",
       "      <td>512</td>\n",
       "      <td>269</td>\n",
       "    </tr>\n",
       "    <tr>\n",
       "      <th>2</th>\n",
       "      <td>2412436218553090968</td>\n",
       "      <td>CF6sfWKJMOY</td>\n",
       "      <td>1601804829</td>\n",
       "      <td>2020-10-04 09:47:09</td>\n",
       "      <td>Me the local tourist, visited Pulau Ubin, Part...</td>\n",
       "      <td>['#singaporediscovers', '#pulauubin', '#bumboa...</td>\n",
       "      <td>NaN</td>\n",
       "      <td>False</td>\n",
       "      <td>False</td>\n",
       "      <td>15</td>\n",
       "      <td>Pulau Ubin, Singapore</td>\n",
       "      <td>pulau-ubin-singapore</td>\n",
       "      <td>1477803308</td>\n",
       "      <td>False</td>\n",
       "      <td>False</td>\n",
       "      <td>False</td>\n",
       "      <td>1221</td>\n",
       "      <td>377</td>\n",
       "    </tr>\n",
       "  </tbody>\n",
       "</table>\n",
       "</div>"
      ],
      "text/plain": [
       "               post_id    post_slug   unix_time           date_time  \\\n",
       "0  2415039914432249111  CGD8gG6H70X  1602115214 2020-10-08 00:00:14   \n",
       "1  2403781281091523733  CFb8lbhMZSV  1600773080 2020-09-22 11:11:20   \n",
       "2  2412436218553090968  CF6sfWKJMOY  1601804829 2020-10-04 09:47:09   \n",
       "\n",
       "                                        post_caption  \\\n",
       "0  We may be stressed and tied up during the week...   \n",
       "1  Wanted mooncakes, but found something else... ...   \n",
       "2  Me the local tourist, visited Pulau Ubin, Part...   \n",
       "\n",
       "                                            hashtags  \\\n",
       "0  ['#selfcaresaturday', '#saturday', '#skincare'...   \n",
       "1  ['#oldman', '#lunchtime', '#streetphotography'...   \n",
       "2  ['#singaporediscovers', '#pulauubin', '#bumboa...   \n",
       "\n",
       "                                          topic_tags  is_video  is_ad  \\\n",
       "0  ['one or more people', \"text that says 'Charge...     False  False   \n",
       "1                                                NaN     False  False   \n",
       "2                                                NaN     False  False   \n",
       "\n",
       "   post_likes                geo_tag              geo_slug    owner_id  \\\n",
       "0           2                    NaN                   NaN  3986460102   \n",
       "1          26              Chinatown             chinatown    32884185   \n",
       "2          15  Pulau Ubin, Singapore  pulau-ubin-singapore  1477803308   \n",
       "\n",
       "   owner_verified  owner_privacy  owner_unpublished  owner_total_posts  \\\n",
       "0           False          False              False                169   \n",
       "1           False          False              False                512   \n",
       "2           False          False              False               1221   \n",
       "\n",
       "   owner_total_followers  \n",
       "0                    263  \n",
       "1                    269  \n",
       "2                    377  "
      ]
     },
     "execution_count": 27,
     "metadata": {},
     "output_type": "execute_result"
    }
   ],
   "source": [
    "df_insta = pd.read_csv(\"../datasets/df_insta_2020-10-12.csv\", parse_dates=[\"date_time\"])\n",
    "df_insta.head(3)"
   ]
  },
  {
   "cell_type": "code",
   "execution_count": 28,
   "metadata": {},
   "outputs": [
    {
     "data": {
      "text/plain": [
       "(3104, 18)"
      ]
     },
     "execution_count": 28,
     "metadata": {},
     "output_type": "execute_result"
    }
   ],
   "source": [
    "df_insta.shape"
   ]
  },
  {
   "cell_type": "code",
   "execution_count": 29,
   "metadata": {},
   "outputs": [
    {
     "name": "stdout",
     "output_type": "stream",
     "text": [
      "<class 'pandas.core.frame.DataFrame'>\n",
      "RangeIndex: 3104 entries, 0 to 3103\n",
      "Data columns (total 18 columns):\n",
      " #   Column                 Non-Null Count  Dtype         \n",
      "---  ------                 --------------  -----         \n",
      " 0   post_id                3104 non-null   int64         \n",
      " 1   post_slug              3104 non-null   object        \n",
      " 2   unix_time              3104 non-null   int64         \n",
      " 3   date_time              3104 non-null   datetime64[ns]\n",
      " 4   post_caption           3083 non-null   object        \n",
      " 5   hashtags               3083 non-null   object        \n",
      " 6   topic_tags             2037 non-null   object        \n",
      " 7   is_video               3104 non-null   bool          \n",
      " 8   is_ad                  3104 non-null   bool          \n",
      " 9   post_likes             3104 non-null   int64         \n",
      " 10  geo_tag                2383 non-null   object        \n",
      " 11  geo_slug               2378 non-null   object        \n",
      " 12  owner_id               3104 non-null   int64         \n",
      " 13  owner_verified         3104 non-null   bool          \n",
      " 14  owner_privacy          3104 non-null   bool          \n",
      " 15  owner_unpublished      3104 non-null   bool          \n",
      " 16  owner_total_posts      3104 non-null   int64         \n",
      " 17  owner_total_followers  3104 non-null   int64         \n",
      "dtypes: bool(5), datetime64[ns](1), int64(6), object(6)\n",
      "memory usage: 330.5+ KB\n"
     ]
    }
   ],
   "source": [
    "df_insta.info()"
   ]
  },
  {
   "cell_type": "code",
   "execution_count": null,
   "metadata": {},
   "outputs": [],
   "source": []
  },
  {
   "cell_type": "code",
   "execution_count": null,
   "metadata": {},
   "outputs": [],
   "source": []
  },
  {
   "cell_type": "code",
   "execution_count": null,
   "metadata": {},
   "outputs": [],
   "source": []
  },
  {
   "cell_type": "code",
   "execution_count": null,
   "metadata": {},
   "outputs": [],
   "source": []
  },
  {
   "cell_type": "code",
   "execution_count": 32,
   "metadata": {},
   "outputs": [
    {
     "data": {
      "text/plain": [
       "True"
      ]
     },
     "execution_count": 32,
     "metadata": {},
     "output_type": "execute_result"
    }
   ],
   "source": [
    "\"#singaporediscovers\" in ['#selfcaresaturday', '#saturday', '#skincare', '#saturdaymood', '#saturdaycare', '#saturdayfun', '#beautysg', '#sgfinds', '#selfcare', '#coslabbeautyspa', '#teamcoslab', '#beautyundercoversg', '#sgpromo', '#sgdeals', '#sgbeauty', '#supportlocalsg', '#singaporediscovers', '#shoponline', '#freedelivery', '#coslab1010', '#1010sale', '#savethedate']"
   ]
  },
  {
   "cell_type": "code",
   "execution_count": null,
   "metadata": {},
   "outputs": [],
   "source": []
  },
  {
   "cell_type": "code",
   "execution_count": 11,
   "metadata": {},
   "outputs": [
    {
     "ename": "AttributeError",
     "evalue": "'str' object has no attribute 'isin'",
     "output_type": "error",
     "traceback": [
      "\u001b[1;31m---------------------------------------------------------------------------\u001b[0m",
      "\u001b[1;31mAttributeError\u001b[0m                            Traceback (most recent call last)",
      "\u001b[1;32m<ipython-input-11-8436237fad48>\u001b[0m in \u001b[0;36m<module>\u001b[1;34m\u001b[0m\n\u001b[0;32m      1\u001b[0m \u001b[1;31m# verify that all posts has the hashtag #SingapoRediscovers\u001b[0m\u001b[1;33m\u001b[0m\u001b[1;33m\u001b[0m\u001b[1;33m\u001b[0m\u001b[0m\n\u001b[1;32m----> 2\u001b[1;33m \u001b[1;33m[\u001b[0m\u001b[0mhashes\u001b[0m\u001b[1;33m.\u001b[0m\u001b[0misin\u001b[0m\u001b[1;33m(\u001b[0m\u001b[1;34m\"singaporediscovers\"\u001b[0m\u001b[1;33m)\u001b[0m \u001b[1;32mfor\u001b[0m \u001b[0mhashes\u001b[0m \u001b[1;32min\u001b[0m \u001b[0mdf_insta\u001b[0m\u001b[1;33m[\u001b[0m\u001b[1;34m\"hashtags\"\u001b[0m\u001b[1;33m]\u001b[0m\u001b[1;33m.\u001b[0m\u001b[0mstr\u001b[0m\u001b[1;33m.\u001b[0m\u001b[0mlower\u001b[0m\u001b[1;33m(\u001b[0m\u001b[1;33m)\u001b[0m\u001b[1;33m]\u001b[0m\u001b[1;33m\u001b[0m\u001b[1;33m\u001b[0m\u001b[0m\n\u001b[0m",
      "\u001b[1;32m<ipython-input-11-8436237fad48>\u001b[0m in \u001b[0;36m<listcomp>\u001b[1;34m(.0)\u001b[0m\n\u001b[0;32m      1\u001b[0m \u001b[1;31m# verify that all posts has the hashtag #SingapoRediscovers\u001b[0m\u001b[1;33m\u001b[0m\u001b[1;33m\u001b[0m\u001b[1;33m\u001b[0m\u001b[0m\n\u001b[1;32m----> 2\u001b[1;33m \u001b[1;33m[\u001b[0m\u001b[0mhashes\u001b[0m\u001b[1;33m.\u001b[0m\u001b[0misin\u001b[0m\u001b[1;33m(\u001b[0m\u001b[1;34m\"singaporediscovers\"\u001b[0m\u001b[1;33m)\u001b[0m \u001b[1;32mfor\u001b[0m \u001b[0mhashes\u001b[0m \u001b[1;32min\u001b[0m \u001b[0mdf_insta\u001b[0m\u001b[1;33m[\u001b[0m\u001b[1;34m\"hashtags\"\u001b[0m\u001b[1;33m]\u001b[0m\u001b[1;33m.\u001b[0m\u001b[0mstr\u001b[0m\u001b[1;33m.\u001b[0m\u001b[0mlower\u001b[0m\u001b[1;33m(\u001b[0m\u001b[1;33m)\u001b[0m\u001b[1;33m]\u001b[0m\u001b[1;33m\u001b[0m\u001b[1;33m\u001b[0m\u001b[0m\n\u001b[0m",
      "\u001b[1;31mAttributeError\u001b[0m: 'str' object has no attribute 'isin'"
     ]
    }
   ],
   "source": [
    "# verify that all posts has the hashtag #SingapoRediscovers\n",
    "[hashes.isin(\"#singaporediscovers\") for hashes in df_insta[\"hashtags\"].str.lower()]"
   ]
  },
  {
   "cell_type": "code",
   "execution_count": 34,
   "metadata": {
    "collapsed": true
   },
   "outputs": [
    {
     "name": "stdout",
     "output_type": "stream",
     "text": [
      "True\n",
      "True\n",
      "True\n",
      "True\n",
      "True\n",
      "True\n",
      "True\n",
      "True\n",
      "True\n",
      "True\n",
      "True\n",
      "True\n",
      "True\n",
      "True\n",
      "True\n",
      "True\n",
      "True\n",
      "True\n",
      "True\n",
      "True\n",
      "True\n",
      "True\n",
      "True\n",
      "True\n",
      "True\n",
      "True\n",
      "True\n",
      "True\n",
      "True\n",
      "True\n",
      "True\n",
      "True\n",
      "True\n",
      "True\n",
      "True\n",
      "True\n",
      "True\n",
      "True\n",
      "True\n",
      "True\n",
      "True\n",
      "True\n",
      "True\n",
      "True\n",
      "True\n",
      "True\n"
     ]
    },
    {
     "ename": "TypeError",
     "evalue": "argument of type 'float' is not iterable",
     "output_type": "error",
     "traceback": [
      "\u001b[1;31m---------------------------------------------------------------------------\u001b[0m",
      "\u001b[1;31mTypeError\u001b[0m                                 Traceback (most recent call last)",
      "\u001b[1;32m<ipython-input-34-56569379fa76>\u001b[0m in \u001b[0;36m<module>\u001b[1;34m\u001b[0m\n\u001b[0;32m      1\u001b[0m \u001b[1;32mfor\u001b[0m \u001b[0mhashes\u001b[0m \u001b[1;32min\u001b[0m \u001b[0mdf_insta\u001b[0m\u001b[1;33m[\u001b[0m\u001b[1;34m\"hashtags\"\u001b[0m\u001b[1;33m]\u001b[0m\u001b[1;33m.\u001b[0m\u001b[0mstr\u001b[0m\u001b[1;33m.\u001b[0m\u001b[0mlower\u001b[0m\u001b[1;33m(\u001b[0m\u001b[1;33m)\u001b[0m\u001b[1;33m:\u001b[0m\u001b[1;33m\u001b[0m\u001b[1;33m\u001b[0m\u001b[0m\n\u001b[1;32m----> 2\u001b[1;33m     \u001b[1;32mif\u001b[0m \u001b[1;34m\"#singaporediscovers\"\u001b[0m \u001b[1;32min\u001b[0m \u001b[0mhashes\u001b[0m\u001b[1;33m:\u001b[0m\u001b[1;33m\u001b[0m\u001b[1;33m\u001b[0m\u001b[0m\n\u001b[0m\u001b[0;32m      3\u001b[0m         \u001b[0mprint\u001b[0m\u001b[1;33m(\u001b[0m\u001b[1;32mTrue\u001b[0m\u001b[1;33m)\u001b[0m\u001b[1;33m\u001b[0m\u001b[1;33m\u001b[0m\u001b[0m\n",
      "\u001b[1;31mTypeError\u001b[0m: argument of type 'float' is not iterable"
     ]
    }
   ],
   "source": [
    "for hashes in df_insta[\"hashtags\"].str.lower():\n",
    "    if \"#singaporediscovers\" in hashes:\n",
    "        print(True)"
   ]
  },
  {
   "cell_type": "code",
   "execution_count": 41,
   "metadata": {},
   "outputs": [
    {
     "data": {
      "text/plain": [
       "True"
      ]
     },
     "execution_count": 41,
     "metadata": {},
     "output_type": "execute_result"
    }
   ],
   "source": [
    "\"#singaporediscovers\" in df_insta[\"hashtags\"].str.lower()[0]"
   ]
  },
  {
   "cell_type": "code",
   "execution_count": null,
   "metadata": {},
   "outputs": [],
   "source": []
  },
  {
   "cell_type": "code",
   "execution_count": null,
   "metadata": {},
   "outputs": [],
   "source": []
  },
  {
   "cell_type": "code",
   "execution_count": null,
   "metadata": {},
   "outputs": [],
   "source": []
  },
  {
   "cell_type": "code",
   "execution_count": null,
   "metadata": {},
   "outputs": [],
   "source": []
  },
  {
   "cell_type": "code",
   "execution_count": null,
   "metadata": {},
   "outputs": [],
   "source": []
  },
  {
   "cell_type": "code",
   "execution_count": null,
   "metadata": {},
   "outputs": [],
   "source": []
  },
  {
   "cell_type": "code",
   "execution_count": null,
   "metadata": {},
   "outputs": [],
   "source": []
  },
  {
   "cell_type": "code",
   "execution_count": null,
   "metadata": {},
   "outputs": [],
   "source": []
  },
  {
   "cell_type": "code",
   "execution_count": null,
   "metadata": {},
   "outputs": [],
   "source": []
  },
  {
   "cell_type": "code",
   "execution_count": null,
   "metadata": {},
   "outputs": [],
   "source": []
  },
  {
   "cell_type": "code",
   "execution_count": null,
   "metadata": {},
   "outputs": [],
   "source": []
  },
  {
   "cell_type": "code",
   "execution_count": null,
   "metadata": {},
   "outputs": [],
   "source": []
  },
  {
   "cell_type": "code",
   "execution_count": null,
   "metadata": {},
   "outputs": [],
   "source": []
  },
  {
   "cell_type": "code",
   "execution_count": null,
   "metadata": {},
   "outputs": [],
   "source": []
  },
  {
   "cell_type": "code",
   "execution_count": null,
   "metadata": {},
   "outputs": [],
   "source": []
  },
  {
   "cell_type": "code",
   "execution_count": null,
   "metadata": {},
   "outputs": [],
   "source": []
  },
  {
   "cell_type": "code",
   "execution_count": null,
   "metadata": {},
   "outputs": [],
   "source": []
  },
  {
   "cell_type": "code",
   "execution_count": null,
   "metadata": {},
   "outputs": [],
   "source": []
  },
  {
   "cell_type": "code",
   "execution_count": null,
   "metadata": {},
   "outputs": [],
   "source": []
  },
  {
   "cell_type": "code",
   "execution_count": null,
   "metadata": {},
   "outputs": [],
   "source": []
  },
  {
   "cell_type": "code",
   "execution_count": null,
   "metadata": {},
   "outputs": [],
   "source": []
  },
  {
   "cell_type": "code",
   "execution_count": null,
   "metadata": {},
   "outputs": [],
   "source": []
  },
  {
   "cell_type": "code",
   "execution_count": null,
   "metadata": {},
   "outputs": [],
   "source": []
  },
  {
   "cell_type": "code",
   "execution_count": null,
   "metadata": {},
   "outputs": [],
   "source": []
  },
  {
   "cell_type": "code",
   "execution_count": null,
   "metadata": {},
   "outputs": [],
   "source": []
  },
  {
   "cell_type": "code",
   "execution_count": null,
   "metadata": {},
   "outputs": [],
   "source": []
  },
  {
   "cell_type": "code",
   "execution_count": null,
   "metadata": {},
   "outputs": [],
   "source": []
  }
 ],
 "metadata": {
  "kernelspec": {
   "display_name": "Python 3",
   "language": "python",
   "name": "python3"
  },
  "language_info": {
   "codemirror_mode": {
    "name": "ipython",
    "version": 3
   },
   "file_extension": ".py",
   "mimetype": "text/x-python",
   "name": "python",
   "nbconvert_exporter": "python",
   "pygments_lexer": "ipython3",
   "version": "3.8.3"
  }
 },
 "nbformat": 4,
 "nbformat_minor": 4
}
