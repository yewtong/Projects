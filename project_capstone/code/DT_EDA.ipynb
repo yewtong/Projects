{
 "cells": [
  {
   "cell_type": "code",
   "execution_count": 16,
   "metadata": {},
   "outputs": [],
   "source": [
    "import pandas as pd\n",
    "import numpy as np\n",
    "import matplotlib.pyplot as plt\n",
    "import seaborn as sns\n",
    "\n",
    "%matplotlib inline"
   ]
  },
  {
   "cell_type": "markdown",
   "metadata": {},
   "source": [
    "### Import DataFrames"
   ]
  },
  {
   "cell_type": "code",
   "execution_count": 7,
   "metadata": {},
   "outputs": [
    {
     "data": {
      "text/plain": [
       "(14488, 22)"
      ]
     },
     "execution_count": 7,
     "metadata": {},
     "output_type": "execute_result"
    }
   ],
   "source": [
    "df_insta = pd.read_csv(\"../datasets/df_insta.csv\", parse_dates=[\"date_time\"])\n",
    "df_insta.shape"
   ]
  },
  {
   "cell_type": "code",
   "execution_count": 8,
   "metadata": {},
   "outputs": [
    {
     "data": {
      "text/html": [
       "<div>\n",
       "<style scoped>\n",
       "    .dataframe tbody tr th:only-of-type {\n",
       "        vertical-align: middle;\n",
       "    }\n",
       "\n",
       "    .dataframe tbody tr th {\n",
       "        vertical-align: top;\n",
       "    }\n",
       "\n",
       "    .dataframe thead th {\n",
       "        text-align: right;\n",
       "    }\n",
       "</style>\n",
       "<table border=\"1\" class=\"dataframe\">\n",
       "  <thead>\n",
       "    <tr style=\"text-align: right;\">\n",
       "      <th></th>\n",
       "      <th>post_id</th>\n",
       "      <th>post_slug</th>\n",
       "      <th>unix_time</th>\n",
       "      <th>date_time</th>\n",
       "      <th>post_caption</th>\n",
       "      <th>hashtags</th>\n",
       "      <th>topic_tags</th>\n",
       "      <th>is_video</th>\n",
       "      <th>is_ad</th>\n",
       "      <th>post_likes</th>\n",
       "      <th>...</th>\n",
       "      <th>owner_id</th>\n",
       "      <th>owner_verified</th>\n",
       "      <th>owner_privacy</th>\n",
       "      <th>owner_unpublished</th>\n",
       "      <th>owner_total_posts</th>\n",
       "      <th>owner_total_followers</th>\n",
       "      <th>at_tags</th>\n",
       "      <th>useful_tags</th>\n",
       "      <th>tags</th>\n",
       "      <th>content</th>\n",
       "    </tr>\n",
       "  </thead>\n",
       "  <tbody>\n",
       "    <tr>\n",
       "      <th>0</th>\n",
       "      <td>1006641971264095607</td>\n",
       "      <td>34T4oZMgV3</td>\n",
       "      <td>1434221095</td>\n",
       "      <td>2015-06-13 18:44:55</td>\n",
       "      <td>oh look natural heart shaped form of ivan heng...</td>\n",
       "      <td>['#PinkDotSg', '#WhereLovesLiveSg', '#Rediscov...</td>\n",
       "      <td>['2 people.']</td>\n",
       "      <td>False</td>\n",
       "      <td>False</td>\n",
       "      <td>40</td>\n",
       "      <td>...</td>\n",
       "      <td>196778200</td>\n",
       "      <td>False</td>\n",
       "      <td>False</td>\n",
       "      <td>False</td>\n",
       "      <td>5205</td>\n",
       "      <td>1232</td>\n",
       "      <td>0</td>\n",
       "      <td>0</td>\n",
       "      <td>0</td>\n",
       "      <td>oh look natural heart shaped form of ivan heng...</td>\n",
       "    </tr>\n",
       "    <tr>\n",
       "      <th>1</th>\n",
       "      <td>1202880298563729182</td>\n",
       "      <td>BCxfUInNPce</td>\n",
       "      <td>1457614527</td>\n",
       "      <td>2016-03-10 12:55:27</td>\n",
       "      <td>#exploresingapore #instasg #gf_singapore #game...</td>\n",
       "      <td>['#exploresingapore', '#instasg', '#gf_singapo...</td>\n",
       "      <td>['indoor.']</td>\n",
       "      <td>False</td>\n",
       "      <td>False</td>\n",
       "      <td>33</td>\n",
       "      <td>...</td>\n",
       "      <td>33123388</td>\n",
       "      <td>False</td>\n",
       "      <td>False</td>\n",
       "      <td>False</td>\n",
       "      <td>742</td>\n",
       "      <td>995</td>\n",
       "      <td>0</td>\n",
       "      <td>indoor</td>\n",
       "      <td>indoor</td>\n",
       "      <td>#exploresingapore #instasg #gf_singapore #game...</td>\n",
       "    </tr>\n",
       "    <tr>\n",
       "      <th>2</th>\n",
       "      <td>677102977071319026</td>\n",
       "      <td>lljZH4sgfy</td>\n",
       "      <td>1394936986</td>\n",
       "      <td>2014-03-16 02:29:46</td>\n",
       "      <td>on the road to hell reliving haw par villa 15 ...</td>\n",
       "      <td>['#rediscoversg', '#Singapore']</td>\n",
       "      <td>['Photo by Belinda Tan in 虎豹别墅.']</td>\n",
       "      <td>False</td>\n",
       "      <td>False</td>\n",
       "      <td>3</td>\n",
       "      <td>...</td>\n",
       "      <td>196778200</td>\n",
       "      <td>False</td>\n",
       "      <td>False</td>\n",
       "      <td>False</td>\n",
       "      <td>5205</td>\n",
       "      <td>1232</td>\n",
       "      <td>0</td>\n",
       "      <td>0</td>\n",
       "      <td>0</td>\n",
       "      <td>on the road to hell reliving haw par villa 15 ...</td>\n",
       "    </tr>\n",
       "  </tbody>\n",
       "</table>\n",
       "<p>3 rows × 22 columns</p>\n",
       "</div>"
      ],
      "text/plain": [
       "               post_id    post_slug   unix_time           date_time  \\\n",
       "0  1006641971264095607   34T4oZMgV3  1434221095 2015-06-13 18:44:55   \n",
       "1  1202880298563729182  BCxfUInNPce  1457614527 2016-03-10 12:55:27   \n",
       "2   677102977071319026   lljZH4sgfy  1394936986 2014-03-16 02:29:46   \n",
       "\n",
       "                                        post_caption  \\\n",
       "0  oh look natural heart shaped form of ivan heng...   \n",
       "1  #exploresingapore #instasg #gf_singapore #game...   \n",
       "2  on the road to hell reliving haw par villa 15 ...   \n",
       "\n",
       "                                            hashtags  \\\n",
       "0  ['#PinkDotSg', '#WhereLovesLiveSg', '#Rediscov...   \n",
       "1  ['#exploresingapore', '#instasg', '#gf_singapo...   \n",
       "2                    ['#rediscoversg', '#Singapore']   \n",
       "\n",
       "                          topic_tags  is_video  is_ad  post_likes  ...  \\\n",
       "0                      ['2 people.']     False  False          40  ...   \n",
       "1                        ['indoor.']     False  False          33  ...   \n",
       "2  ['Photo by Belinda Tan in 虎豹别墅.']     False  False           3  ...   \n",
       "\n",
       "    owner_id owner_verified  owner_privacy  owner_unpublished  \\\n",
       "0  196778200          False          False              False   \n",
       "1   33123388          False          False              False   \n",
       "2  196778200          False          False              False   \n",
       "\n",
       "   owner_total_posts  owner_total_followers  at_tags  useful_tags    tags  \\\n",
       "0               5205                   1232        0            0       0   \n",
       "1                742                    995        0       indoor  indoor   \n",
       "2               5205                   1232        0            0       0   \n",
       "\n",
       "                                             content  \n",
       "0  oh look natural heart shaped form of ivan heng...  \n",
       "1  #exploresingapore #instasg #gf_singapore #game...  \n",
       "2  on the road to hell reliving haw par villa 15 ...  \n",
       "\n",
       "[3 rows x 22 columns]"
      ]
     },
     "execution_count": 8,
     "metadata": {},
     "output_type": "execute_result"
    }
   ],
   "source": [
    "df_insta.head(3)"
   ]
  },
  {
   "cell_type": "code",
   "execution_count": 11,
   "metadata": {},
   "outputs": [
    {
     "data": {
      "text/plain": [
       "(248, 10)"
      ]
     },
     "execution_count": 11,
     "metadata": {},
     "output_type": "execute_result"
    }
   ],
   "source": [
    "df_yt_sel = pd.read_csv(\"../datasets/df_yt_sel.csv\", parse_dates=[\"date_time\"])\n",
    "df_yt_sel.shape"
   ]
  },
  {
   "cell_type": "code",
   "execution_count": 12,
   "metadata": {},
   "outputs": [
    {
     "data": {
      "text/html": [
       "<div>\n",
       "<style scoped>\n",
       "    .dataframe tbody tr th:only-of-type {\n",
       "        vertical-align: middle;\n",
       "    }\n",
       "\n",
       "    .dataframe tbody tr th {\n",
       "        vertical-align: top;\n",
       "    }\n",
       "\n",
       "    .dataframe thead th {\n",
       "        text-align: right;\n",
       "    }\n",
       "</style>\n",
       "<table border=\"1\" class=\"dataframe\">\n",
       "  <thead>\n",
       "    <tr style=\"text-align: right;\">\n",
       "      <th></th>\n",
       "      <th>video_title</th>\n",
       "      <th>video_caption</th>\n",
       "      <th>date_time</th>\n",
       "      <th>video_slug</th>\n",
       "      <th>video_views</th>\n",
       "      <th>video_likes</th>\n",
       "      <th>video_dislikes</th>\n",
       "      <th>video_comments</th>\n",
       "      <th>content</th>\n",
       "      <th>channel</th>\n",
       "    </tr>\n",
       "  </thead>\n",
       "  <tbody>\n",
       "    <tr>\n",
       "      <th>0</th>\n",
       "      <td>HALLOWEEN HORROR NIGHTS 8 AT UNIVERSAL STUDIOS! 👻</td>\n",
       "      <td>['UNIVERSAL HALLOWEEN HORROR NIGHTS 8! 👻\\n\\nHa...</td>\n",
       "      <td>2018-10-31</td>\n",
       "      <td>7xkdm3c4Ks8</td>\n",
       "      <td>8766</td>\n",
       "      <td>271</td>\n",
       "      <td>3</td>\n",
       "      <td>18 Comments</td>\n",
       "      <td>HALLOWEEN HORROR NIGHTS 8 AT UNIVERSAL STUDIOS...</td>\n",
       "      <td>GC</td>\n",
       "    </tr>\n",
       "    <tr>\n",
       "      <th>1</th>\n",
       "      <td>Eating the BEST rated PRATA in SINGAPORE! 🇸🇬 *...</td>\n",
       "      <td>['Eating the BEST rated PRATA in SINGAPORE! 🇸🇬...</td>\n",
       "      <td>2019-11-17</td>\n",
       "      <td>b-ppBtSiG38</td>\n",
       "      <td>33483</td>\n",
       "      <td>649</td>\n",
       "      <td>19</td>\n",
       "      <td>159 Comments</td>\n",
       "      <td>Eating the BEST rated PRATA in SINGAPORE! 🇸🇬 *...</td>\n",
       "      <td>GC</td>\n",
       "    </tr>\n",
       "    <tr>\n",
       "      <th>2</th>\n",
       "      <td>McDoanlds Hokkaido Salmon Burger In Singapore!</td>\n",
       "      <td>['TRYING MCDONALDS HOKKAIDO SALMON BURGER IN S...</td>\n",
       "      <td>2018-05-13</td>\n",
       "      <td>IDXoNb548ec</td>\n",
       "      <td>13809</td>\n",
       "      <td>430</td>\n",
       "      <td>13</td>\n",
       "      <td>117 Comments</td>\n",
       "      <td>McDoanlds Hokkaido Salmon Burger In Singapore!...</td>\n",
       "      <td>GC</td>\n",
       "    </tr>\n",
       "  </tbody>\n",
       "</table>\n",
       "</div>"
      ],
      "text/plain": [
       "                                         video_title  \\\n",
       "0  HALLOWEEN HORROR NIGHTS 8 AT UNIVERSAL STUDIOS! 👻   \n",
       "1  Eating the BEST rated PRATA in SINGAPORE! 🇸🇬 *...   \n",
       "2     McDoanlds Hokkaido Salmon Burger In Singapore!   \n",
       "\n",
       "                                       video_caption  date_time   video_slug  \\\n",
       "0  ['UNIVERSAL HALLOWEEN HORROR NIGHTS 8! 👻\\n\\nHa... 2018-10-31  7xkdm3c4Ks8   \n",
       "1  ['Eating the BEST rated PRATA in SINGAPORE! 🇸🇬... 2019-11-17  b-ppBtSiG38   \n",
       "2  ['TRYING MCDONALDS HOKKAIDO SALMON BURGER IN S... 2018-05-13  IDXoNb548ec   \n",
       "\n",
       "   video_views  video_likes  video_dislikes video_comments  \\\n",
       "0         8766          271               3    18 Comments   \n",
       "1        33483          649              19   159 Comments   \n",
       "2        13809          430              13   117 Comments   \n",
       "\n",
       "                                             content channel  \n",
       "0  HALLOWEEN HORROR NIGHTS 8 AT UNIVERSAL STUDIOS...      GC  \n",
       "1  Eating the BEST rated PRATA in SINGAPORE! 🇸🇬 *...      GC  \n",
       "2  McDoanlds Hokkaido Salmon Burger In Singapore!...      GC  "
      ]
     },
     "execution_count": 12,
     "metadata": {},
     "output_type": "execute_result"
    }
   ],
   "source": [
    "df_yt_sel.head(3)"
   ]
  },
  {
   "cell_type": "code",
   "execution_count": 14,
   "metadata": {},
   "outputs": [
    {
     "data": {
      "text/plain": [
       "(10626, 7)"
      ]
     },
     "execution_count": 14,
     "metadata": {},
     "output_type": "execute_result"
    }
   ],
   "source": [
    "df_yt_comments_sel = pd.read_csv(\"../datasets/df_yt_comments_sel.csv\")\n",
    "df_yt_comments_sel.shape"
   ]
  },
  {
   "cell_type": "code",
   "execution_count": 15,
   "metadata": {},
   "outputs": [
    {
     "data": {
      "text/html": [
       "<div>\n",
       "<style scoped>\n",
       "    .dataframe tbody tr th:only-of-type {\n",
       "        vertical-align: middle;\n",
       "    }\n",
       "\n",
       "    .dataframe tbody tr th {\n",
       "        vertical-align: top;\n",
       "    }\n",
       "\n",
       "    .dataframe thead th {\n",
       "        text-align: right;\n",
       "    }\n",
       "</style>\n",
       "<table border=\"1\" class=\"dataframe\">\n",
       "  <thead>\n",
       "    <tr style=\"text-align: right;\">\n",
       "      <th></th>\n",
       "      <th>response_to</th>\n",
       "      <th>user</th>\n",
       "      <th>timestamp</th>\n",
       "      <th>comment</th>\n",
       "      <th>likes</th>\n",
       "      <th>replies_attracted</th>\n",
       "      <th>channel</th>\n",
       "    </tr>\n",
       "  </thead>\n",
       "  <tbody>\n",
       "    <tr>\n",
       "      <th>0</th>\n",
       "      <td>HALLOWEEN HORROR NIGHTS 8 AT UNIVERSAL STUDIOS! 👻</td>\n",
       "      <td>thattham</td>\n",
       "      <td>1 year ago</td>\n",
       "      <td>I was a scare actor in killuminati, we hope u ...</td>\n",
       "      <td>4</td>\n",
       "      <td>CLAIM NOW!</td>\n",
       "      <td>GC</td>\n",
       "    </tr>\n",
       "    <tr>\n",
       "      <th>1</th>\n",
       "      <td>McDoanlds Hokkaido Salmon Burger In Singapore!</td>\n",
       "      <td>Whyywinter.</td>\n",
       "      <td>2 years ago</td>\n",
       "      <td>Hey friends! 👋🏻 What’s your thoughts on Mcdona...</td>\n",
       "      <td>35</td>\n",
       "      <td>View 10 replies</td>\n",
       "      <td>GC</td>\n",
       "    </tr>\n",
       "    <tr>\n",
       "      <th>2</th>\n",
       "      <td>McDoanlds Hokkaido Salmon Burger In Singapore!</td>\n",
       "      <td>CT</td>\n",
       "      <td>2 years ago</td>\n",
       "      <td>Is it even possible to dislike seaweed shaker ...</td>\n",
       "      <td>51</td>\n",
       "      <td>NaN</td>\n",
       "      <td>GC</td>\n",
       "    </tr>\n",
       "  </tbody>\n",
       "</table>\n",
       "</div>"
      ],
      "text/plain": [
       "                                         response_to         user  \\\n",
       "0  HALLOWEEN HORROR NIGHTS 8 AT UNIVERSAL STUDIOS! 👻     thattham   \n",
       "1     McDoanlds Hokkaido Salmon Burger In Singapore!  Whyywinter.   \n",
       "2     McDoanlds Hokkaido Salmon Burger In Singapore!           CT   \n",
       "\n",
       "     timestamp                                            comment likes  \\\n",
       "0   1 year ago  I was a scare actor in killuminati, we hope u ...     4   \n",
       "1  2 years ago  Hey friends! 👋🏻 What’s your thoughts on Mcdona...    35   \n",
       "2  2 years ago  Is it even possible to dislike seaweed shaker ...    51   \n",
       "\n",
       "  replies_attracted channel  \n",
       "0        CLAIM NOW!      GC  \n",
       "1   View 10 replies      GC  \n",
       "2               NaN      GC  "
      ]
     },
     "execution_count": 15,
     "metadata": {},
     "output_type": "execute_result"
    }
   ],
   "source": [
    "df_yt_comments_sel.head(3)"
   ]
  },
  {
   "cell_type": "markdown",
   "metadata": {},
   "source": [
    "### Likes Topography"
   ]
  },
  {
   "cell_type": "code",
   "execution_count": null,
   "metadata": {},
   "outputs": [],
   "source": [
    "# since we are using likes as our target variable\n",
    "# it is important to understand the distribution of our target variable\n",
    "# and if there are any correlation between our target variable and other meta-data\n",
    "# as well as consider if any sort of qualification is needed when comparing likes across platforms"
   ]
  },
  {
   "cell_type": "markdown",
   "metadata": {},
   "source": [
    "#### Instagram Likes"
   ]
  },
  {
   "cell_type": "code",
   "execution_count": 19,
   "metadata": {},
   "outputs": [
    {
     "data": {
      "text/html": [
       "<div>\n",
       "<style scoped>\n",
       "    .dataframe tbody tr th:only-of-type {\n",
       "        vertical-align: middle;\n",
       "    }\n",
       "\n",
       "    .dataframe tbody tr th {\n",
       "        vertical-align: top;\n",
       "    }\n",
       "\n",
       "    .dataframe thead th {\n",
       "        text-align: right;\n",
       "    }\n",
       "</style>\n",
       "<table border=\"1\" class=\"dataframe\">\n",
       "  <thead>\n",
       "    <tr style=\"text-align: right;\">\n",
       "      <th></th>\n",
       "      <th>post_id</th>\n",
       "      <th>post_slug</th>\n",
       "      <th>unix_time</th>\n",
       "      <th>date_time</th>\n",
       "      <th>post_caption</th>\n",
       "      <th>hashtags</th>\n",
       "      <th>topic_tags</th>\n",
       "      <th>is_video</th>\n",
       "      <th>is_ad</th>\n",
       "      <th>post_likes</th>\n",
       "      <th>...</th>\n",
       "      <th>owner_id</th>\n",
       "      <th>owner_verified</th>\n",
       "      <th>owner_privacy</th>\n",
       "      <th>owner_unpublished</th>\n",
       "      <th>owner_total_posts</th>\n",
       "      <th>owner_total_followers</th>\n",
       "      <th>at_tags</th>\n",
       "      <th>useful_tags</th>\n",
       "      <th>tags</th>\n",
       "      <th>content</th>\n",
       "    </tr>\n",
       "  </thead>\n",
       "  <tbody>\n",
       "    <tr>\n",
       "      <th>0</th>\n",
       "      <td>1006641971264095607</td>\n",
       "      <td>34T4oZMgV3</td>\n",
       "      <td>1434221095</td>\n",
       "      <td>2015-06-13 18:44:55</td>\n",
       "      <td>oh look natural heart shaped form of ivan heng...</td>\n",
       "      <td>['#PinkDotSg', '#WhereLovesLiveSg', '#Rediscov...</td>\n",
       "      <td>['2 people.']</td>\n",
       "      <td>False</td>\n",
       "      <td>False</td>\n",
       "      <td>40</td>\n",
       "      <td>...</td>\n",
       "      <td>196778200</td>\n",
       "      <td>False</td>\n",
       "      <td>False</td>\n",
       "      <td>False</td>\n",
       "      <td>5205</td>\n",
       "      <td>1232</td>\n",
       "      <td>0</td>\n",
       "      <td>0</td>\n",
       "      <td>0</td>\n",
       "      <td>oh look natural heart shaped form of ivan heng...</td>\n",
       "    </tr>\n",
       "  </tbody>\n",
       "</table>\n",
       "<p>1 rows × 22 columns</p>\n",
       "</div>"
      ],
      "text/plain": [
       "               post_id   post_slug   unix_time           date_time  \\\n",
       "0  1006641971264095607  34T4oZMgV3  1434221095 2015-06-13 18:44:55   \n",
       "\n",
       "                                        post_caption  \\\n",
       "0  oh look natural heart shaped form of ivan heng...   \n",
       "\n",
       "                                            hashtags     topic_tags  is_video  \\\n",
       "0  ['#PinkDotSg', '#WhereLovesLiveSg', '#Rediscov...  ['2 people.']     False   \n",
       "\n",
       "   is_ad  post_likes  ...   owner_id owner_verified  owner_privacy  \\\n",
       "0  False          40  ...  196778200          False          False   \n",
       "\n",
       "   owner_unpublished  owner_total_posts  owner_total_followers  at_tags  \\\n",
       "0              False               5205                   1232        0   \n",
       "\n",
       "   useful_tags tags                                            content  \n",
       "0            0    0  oh look natural heart shaped form of ivan heng...  \n",
       "\n",
       "[1 rows x 22 columns]"
      ]
     },
     "execution_count": 19,
     "metadata": {},
     "output_type": "execute_result"
    }
   ],
   "source": [
    "df_insta.head(1)"
   ]
  },
  {
   "cell_type": "code",
   "execution_count": 20,
   "metadata": {},
   "outputs": [
    {
     "data": {
      "text/plain": [
       "Index(['post_id', 'post_slug', 'unix_time', 'date_time', 'post_caption',\n",
       "       'hashtags', 'topic_tags', 'is_video', 'is_ad', 'post_likes', 'geo_tag',\n",
       "       'geo_slug', 'owner_id', 'owner_verified', 'owner_privacy',\n",
       "       'owner_unpublished', 'owner_total_posts', 'owner_total_followers',\n",
       "       'at_tags', 'useful_tags', 'tags', 'content'],\n",
       "      dtype='object')"
      ]
     },
     "execution_count": 20,
     "metadata": {},
     "output_type": "execute_result"
    }
   ],
   "source": [
    "df_insta.columns"
   ]
  },
  {
   "cell_type": "code",
   "execution_count": 18,
   "metadata": {},
   "outputs": [
    {
     "data": {
      "text/plain": [
       "count    14488.000000\n",
       "mean       122.552112\n",
       "std        344.185959\n",
       "min          0.000000\n",
       "25%         18.000000\n",
       "50%         40.000000\n",
       "75%         95.000000\n",
       "max      11469.000000\n",
       "Name: post_likes, dtype: float64"
      ]
     },
     "execution_count": 18,
     "metadata": {},
     "output_type": "execute_result"
    }
   ],
   "source": [
    "df_insta[\"post_likes\"].describe()"
   ]
  },
  {
   "cell_type": "code",
   "execution_count": null,
   "metadata": {},
   "outputs": [],
   "source": [
    "# let's create 2 new features to evaluate likes against\n",
    "### age of posts - from time of scrape to date of post\n",
    "### no. of hashtags used"
   ]
  },
  {
   "cell_type": "code",
   "execution_count": 32,
   "metadata": {},
   "outputs": [
    {
     "data": {
      "text/plain": [
       "(14488, 23)"
      ]
     },
     "execution_count": 32,
     "metadata": {},
     "output_type": "execute_result"
    }
   ],
   "source": [
    "# posts were scraped over 5 days\n",
    "# let's take the last date of scrape on 2020-10-22\n",
    "scrape = pd.Timestamp(\"2020-10-22 23:59\")\n",
    "\n",
    "# create new col for age of post\n",
    "df_insta[\"post_age\"] = scrape - df_insta[\"date_time\"]\n",
    "df_insta.shape # verify new col added"
   ]
  },
  {
   "cell_type": "code",
   "execution_count": 47,
   "metadata": {
    "collapsed": true
   },
   "outputs": [
    {
     "ename": "ValueError",
     "evalue": "Length of values does not match length of index",
     "output_type": "error",
     "traceback": [
      "\u001b[1;31m---------------------------------------------------------------------------\u001b[0m",
      "\u001b[1;31mValueError\u001b[0m                                Traceback (most recent call last)",
      "\u001b[1;32m<ipython-input-47-598e76b348fc>\u001b[0m in \u001b[0;36m<module>\u001b[1;34m\u001b[0m\n\u001b[0;32m      1\u001b[0m \u001b[1;31m# create new col for no. of hashtags used\u001b[0m\u001b[1;33m\u001b[0m\u001b[1;33m\u001b[0m\u001b[1;33m\u001b[0m\u001b[0m\n\u001b[1;32m----> 2\u001b[1;33m \u001b[0mdf_insta\u001b[0m\u001b[1;33m[\u001b[0m\u001b[1;34m\"hash_count\"\u001b[0m\u001b[1;33m]\u001b[0m \u001b[1;33m=\u001b[0m \u001b[1;33m[\u001b[0m\u001b[0mlen\u001b[0m\u001b[1;33m(\u001b[0m\u001b[0mh\u001b[0m\u001b[1;33m)\u001b[0m \u001b[1;32mfor\u001b[0m \u001b[0mh\u001b[0m \u001b[1;32min\u001b[0m \u001b[0mdf_insta\u001b[0m\u001b[1;33m[\u001b[0m\u001b[1;34m\"hashtags\"\u001b[0m\u001b[1;33m]\u001b[0m\u001b[1;33m.\u001b[0m\u001b[0mstr\u001b[0m\u001b[1;33m.\u001b[0m\u001b[0mextractall\u001b[0m\u001b[1;33m(\u001b[0m\u001b[1;34m\"(\\#)\"\u001b[0m\u001b[1;33m)\u001b[0m\u001b[1;33m.\u001b[0m\u001b[0mgroupby\u001b[0m\u001b[1;33m(\u001b[0m\u001b[0mlevel\u001b[0m\u001b[1;33m=\u001b[0m\u001b[1;36m0\u001b[0m\u001b[1;33m)\u001b[0m\u001b[1;33m[\u001b[0m\u001b[1;36m0\u001b[0m\u001b[1;33m]\u001b[0m\u001b[1;33m.\u001b[0m\u001b[0mapply\u001b[0m\u001b[1;33m(\u001b[0m\u001b[1;32mlambda\u001b[0m \u001b[0mx\u001b[0m\u001b[1;33m:\u001b[0m \u001b[1;34m\"\"\u001b[0m\u001b[1;33m.\u001b[0m\u001b[0mjoin\u001b[0m\u001b[1;33m(\u001b[0m\u001b[0mx\u001b[0m\u001b[1;33m)\u001b[0m\u001b[1;33m)\u001b[0m\u001b[1;33m]\u001b[0m\u001b[1;33m\u001b[0m\u001b[1;33m\u001b[0m\u001b[0m\n\u001b[0m\u001b[0;32m      3\u001b[0m \u001b[0mdf_insta\u001b[0m\u001b[1;33m.\u001b[0m\u001b[0mshape\u001b[0m \u001b[1;31m# verify new col added\u001b[0m\u001b[1;33m\u001b[0m\u001b[1;33m\u001b[0m\u001b[0m\n",
      "\u001b[1;32m~\\anaconda3\\lib\\site-packages\\pandas\\core\\frame.py\u001b[0m in \u001b[0;36m__setitem__\u001b[1;34m(self, key, value)\u001b[0m\n\u001b[0;32m   2936\u001b[0m         \u001b[1;32melse\u001b[0m\u001b[1;33m:\u001b[0m\u001b[1;33m\u001b[0m\u001b[1;33m\u001b[0m\u001b[0m\n\u001b[0;32m   2937\u001b[0m             \u001b[1;31m# set column\u001b[0m\u001b[1;33m\u001b[0m\u001b[1;33m\u001b[0m\u001b[1;33m\u001b[0m\u001b[0m\n\u001b[1;32m-> 2938\u001b[1;33m             \u001b[0mself\u001b[0m\u001b[1;33m.\u001b[0m\u001b[0m_set_item\u001b[0m\u001b[1;33m(\u001b[0m\u001b[0mkey\u001b[0m\u001b[1;33m,\u001b[0m \u001b[0mvalue\u001b[0m\u001b[1;33m)\u001b[0m\u001b[1;33m\u001b[0m\u001b[1;33m\u001b[0m\u001b[0m\n\u001b[0m\u001b[0;32m   2939\u001b[0m \u001b[1;33m\u001b[0m\u001b[0m\n\u001b[0;32m   2940\u001b[0m     \u001b[1;32mdef\u001b[0m \u001b[0m_setitem_slice\u001b[0m\u001b[1;33m(\u001b[0m\u001b[0mself\u001b[0m\u001b[1;33m,\u001b[0m \u001b[0mkey\u001b[0m\u001b[1;33m,\u001b[0m \u001b[0mvalue\u001b[0m\u001b[1;33m)\u001b[0m\u001b[1;33m:\u001b[0m\u001b[1;33m\u001b[0m\u001b[1;33m\u001b[0m\u001b[0m\n",
      "\u001b[1;32m~\\anaconda3\\lib\\site-packages\\pandas\\core\\frame.py\u001b[0m in \u001b[0;36m_set_item\u001b[1;34m(self, key, value)\u001b[0m\n\u001b[0;32m   2998\u001b[0m \u001b[1;33m\u001b[0m\u001b[0m\n\u001b[0;32m   2999\u001b[0m         \u001b[0mself\u001b[0m\u001b[1;33m.\u001b[0m\u001b[0m_ensure_valid_index\u001b[0m\u001b[1;33m(\u001b[0m\u001b[0mvalue\u001b[0m\u001b[1;33m)\u001b[0m\u001b[1;33m\u001b[0m\u001b[1;33m\u001b[0m\u001b[0m\n\u001b[1;32m-> 3000\u001b[1;33m         \u001b[0mvalue\u001b[0m \u001b[1;33m=\u001b[0m \u001b[0mself\u001b[0m\u001b[1;33m.\u001b[0m\u001b[0m_sanitize_column\u001b[0m\u001b[1;33m(\u001b[0m\u001b[0mkey\u001b[0m\u001b[1;33m,\u001b[0m \u001b[0mvalue\u001b[0m\u001b[1;33m)\u001b[0m\u001b[1;33m\u001b[0m\u001b[1;33m\u001b[0m\u001b[0m\n\u001b[0m\u001b[0;32m   3001\u001b[0m         \u001b[0mNDFrame\u001b[0m\u001b[1;33m.\u001b[0m\u001b[0m_set_item\u001b[0m\u001b[1;33m(\u001b[0m\u001b[0mself\u001b[0m\u001b[1;33m,\u001b[0m \u001b[0mkey\u001b[0m\u001b[1;33m,\u001b[0m \u001b[0mvalue\u001b[0m\u001b[1;33m)\u001b[0m\u001b[1;33m\u001b[0m\u001b[1;33m\u001b[0m\u001b[0m\n\u001b[0;32m   3002\u001b[0m \u001b[1;33m\u001b[0m\u001b[0m\n",
      "\u001b[1;32m~\\anaconda3\\lib\\site-packages\\pandas\\core\\frame.py\u001b[0m in \u001b[0;36m_sanitize_column\u001b[1;34m(self, key, value, broadcast)\u001b[0m\n\u001b[0;32m   3634\u001b[0m \u001b[1;33m\u001b[0m\u001b[0m\n\u001b[0;32m   3635\u001b[0m             \u001b[1;31m# turn me into an ndarray\u001b[0m\u001b[1;33m\u001b[0m\u001b[1;33m\u001b[0m\u001b[1;33m\u001b[0m\u001b[0m\n\u001b[1;32m-> 3636\u001b[1;33m             \u001b[0mvalue\u001b[0m \u001b[1;33m=\u001b[0m \u001b[0msanitize_index\u001b[0m\u001b[1;33m(\u001b[0m\u001b[0mvalue\u001b[0m\u001b[1;33m,\u001b[0m \u001b[0mself\u001b[0m\u001b[1;33m.\u001b[0m\u001b[0mindex\u001b[0m\u001b[1;33m,\u001b[0m \u001b[0mcopy\u001b[0m\u001b[1;33m=\u001b[0m\u001b[1;32mFalse\u001b[0m\u001b[1;33m)\u001b[0m\u001b[1;33m\u001b[0m\u001b[1;33m\u001b[0m\u001b[0m\n\u001b[0m\u001b[0;32m   3637\u001b[0m             \u001b[1;32mif\u001b[0m \u001b[1;32mnot\u001b[0m \u001b[0misinstance\u001b[0m\u001b[1;33m(\u001b[0m\u001b[0mvalue\u001b[0m\u001b[1;33m,\u001b[0m \u001b[1;33m(\u001b[0m\u001b[0mnp\u001b[0m\u001b[1;33m.\u001b[0m\u001b[0mndarray\u001b[0m\u001b[1;33m,\u001b[0m \u001b[0mIndex\u001b[0m\u001b[1;33m)\u001b[0m\u001b[1;33m)\u001b[0m\u001b[1;33m:\u001b[0m\u001b[1;33m\u001b[0m\u001b[1;33m\u001b[0m\u001b[0m\n\u001b[0;32m   3638\u001b[0m                 \u001b[1;32mif\u001b[0m \u001b[0misinstance\u001b[0m\u001b[1;33m(\u001b[0m\u001b[0mvalue\u001b[0m\u001b[1;33m,\u001b[0m \u001b[0mlist\u001b[0m\u001b[1;33m)\u001b[0m \u001b[1;32mand\u001b[0m \u001b[0mlen\u001b[0m\u001b[1;33m(\u001b[0m\u001b[0mvalue\u001b[0m\u001b[1;33m)\u001b[0m \u001b[1;33m>\u001b[0m \u001b[1;36m0\u001b[0m\u001b[1;33m:\u001b[0m\u001b[1;33m\u001b[0m\u001b[1;33m\u001b[0m\u001b[0m\n",
      "\u001b[1;32m~\\anaconda3\\lib\\site-packages\\pandas\\core\\internals\\construction.py\u001b[0m in \u001b[0;36msanitize_index\u001b[1;34m(data, index, copy)\u001b[0m\n\u001b[0;32m    609\u001b[0m \u001b[1;33m\u001b[0m\u001b[0m\n\u001b[0;32m    610\u001b[0m     \u001b[1;32mif\u001b[0m \u001b[0mlen\u001b[0m\u001b[1;33m(\u001b[0m\u001b[0mdata\u001b[0m\u001b[1;33m)\u001b[0m \u001b[1;33m!=\u001b[0m \u001b[0mlen\u001b[0m\u001b[1;33m(\u001b[0m\u001b[0mindex\u001b[0m\u001b[1;33m)\u001b[0m\u001b[1;33m:\u001b[0m\u001b[1;33m\u001b[0m\u001b[1;33m\u001b[0m\u001b[0m\n\u001b[1;32m--> 611\u001b[1;33m         \u001b[1;32mraise\u001b[0m \u001b[0mValueError\u001b[0m\u001b[1;33m(\u001b[0m\u001b[1;34m\"Length of values does not match length of index\"\u001b[0m\u001b[1;33m)\u001b[0m\u001b[1;33m\u001b[0m\u001b[1;33m\u001b[0m\u001b[0m\n\u001b[0m\u001b[0;32m    612\u001b[0m \u001b[1;33m\u001b[0m\u001b[0m\n\u001b[0;32m    613\u001b[0m     \u001b[1;32mif\u001b[0m \u001b[0misinstance\u001b[0m\u001b[1;33m(\u001b[0m\u001b[0mdata\u001b[0m\u001b[1;33m,\u001b[0m \u001b[0mABCIndexClass\u001b[0m\u001b[1;33m)\u001b[0m \u001b[1;32mand\u001b[0m \u001b[1;32mnot\u001b[0m \u001b[0mcopy\u001b[0m\u001b[1;33m:\u001b[0m\u001b[1;33m\u001b[0m\u001b[1;33m\u001b[0m\u001b[0m\n",
      "\u001b[1;31mValueError\u001b[0m: Length of values does not match length of index"
     ]
    }
   ],
   "source": [
    "# create new col for no. of hashtags used\n",
    "df_insta[\"hash_count\"] = [len(h) for h in df_insta[\"hashtags\"].str.extractall(\"(\\#)\").groupby(level=0)[0].apply(lambda x: \"\".join(x))]\n",
    "df_insta.shape # verify new col added"
   ]
  },
  {
   "cell_type": "code",
   "execution_count": 50,
   "metadata": {},
   "outputs": [
    {
     "data": {
      "text/plain": [
       "0"
      ]
     },
     "execution_count": 50,
     "metadata": {},
     "output_type": "execute_result"
    }
   ],
   "source": [
    "(df_insta[\"hashtags\"].str.extractall(\"(\\#)\").groupby(level=0)[0].apply(lambda x: \"\".join(x)))"
   ]
  },
  {
   "cell_type": "code",
   "execution_count": 51,
   "metadata": {},
   "outputs": [
    {
     "data": {
      "text/plain": [
       "9"
      ]
     },
     "execution_count": 51,
     "metadata": {},
     "output_type": "execute_result"
    }
   ],
   "source": [
    "len(\"abc def g\")"
   ]
  },
  {
   "cell_type": "code",
   "execution_count": null,
   "metadata": {},
   "outputs": [],
   "source": [
    "sns.scatterplot()"
   ]
  },
  {
   "cell_type": "code",
   "execution_count": null,
   "metadata": {},
   "outputs": [],
   "source": []
  },
  {
   "cell_type": "code",
   "execution_count": null,
   "metadata": {},
   "outputs": [],
   "source": []
  },
  {
   "cell_type": "code",
   "execution_count": null,
   "metadata": {},
   "outputs": [],
   "source": []
  },
  {
   "cell_type": "code",
   "execution_count": null,
   "metadata": {},
   "outputs": [],
   "source": []
  },
  {
   "cell_type": "code",
   "execution_count": null,
   "metadata": {},
   "outputs": [],
   "source": []
  },
  {
   "cell_type": "code",
   "execution_count": null,
   "metadata": {},
   "outputs": [],
   "source": []
  },
  {
   "cell_type": "code",
   "execution_count": null,
   "metadata": {},
   "outputs": [],
   "source": []
  },
  {
   "cell_type": "code",
   "execution_count": null,
   "metadata": {},
   "outputs": [],
   "source": []
  },
  {
   "cell_type": "code",
   "execution_count": null,
   "metadata": {},
   "outputs": [],
   "source": []
  },
  {
   "cell_type": "code",
   "execution_count": null,
   "metadata": {},
   "outputs": [],
   "source": []
  },
  {
   "cell_type": "code",
   "execution_count": null,
   "metadata": {},
   "outputs": [],
   "source": []
  },
  {
   "cell_type": "code",
   "execution_count": null,
   "metadata": {},
   "outputs": [],
   "source": []
  },
  {
   "cell_type": "code",
   "execution_count": null,
   "metadata": {},
   "outputs": [],
   "source": []
  },
  {
   "cell_type": "code",
   "execution_count": null,
   "metadata": {},
   "outputs": [],
   "source": []
  },
  {
   "cell_type": "code",
   "execution_count": null,
   "metadata": {},
   "outputs": [],
   "source": []
  },
  {
   "cell_type": "code",
   "execution_count": null,
   "metadata": {},
   "outputs": [],
   "source": []
  },
  {
   "cell_type": "code",
   "execution_count": null,
   "metadata": {},
   "outputs": [],
   "source": []
  },
  {
   "cell_type": "code",
   "execution_count": null,
   "metadata": {},
   "outputs": [],
   "source": []
  },
  {
   "cell_type": "code",
   "execution_count": null,
   "metadata": {},
   "outputs": [],
   "source": []
  },
  {
   "cell_type": "code",
   "execution_count": null,
   "metadata": {},
   "outputs": [],
   "source": []
  },
  {
   "cell_type": "code",
   "execution_count": null,
   "metadata": {},
   "outputs": [],
   "source": []
  },
  {
   "cell_type": "code",
   "execution_count": null,
   "metadata": {},
   "outputs": [],
   "source": []
  },
  {
   "cell_type": "code",
   "execution_count": 3,
   "metadata": {},
   "outputs": [
    {
     "data": {
      "text/html": [
       "<div>\n",
       "<style scoped>\n",
       "    .dataframe tbody tr th:only-of-type {\n",
       "        vertical-align: middle;\n",
       "    }\n",
       "\n",
       "    .dataframe tbody tr th {\n",
       "        vertical-align: top;\n",
       "    }\n",
       "\n",
       "    .dataframe thead th {\n",
       "        text-align: right;\n",
       "    }\n",
       "</style>\n",
       "<table border=\"1\" class=\"dataframe\">\n",
       "  <thead>\n",
       "    <tr style=\"text-align: right;\">\n",
       "      <th></th>\n",
       "      <th>post_id</th>\n",
       "      <th>post_slug</th>\n",
       "      <th>unix_time</th>\n",
       "      <th>date_time</th>\n",
       "      <th>post_caption</th>\n",
       "      <th>hashtags</th>\n",
       "      <th>topic_tags</th>\n",
       "      <th>is_video</th>\n",
       "      <th>is_ad</th>\n",
       "      <th>post_likes</th>\n",
       "      <th>geo_tag</th>\n",
       "      <th>geo_slug</th>\n",
       "      <th>owner_id</th>\n",
       "      <th>owner_verified</th>\n",
       "      <th>owner_privacy</th>\n",
       "      <th>owner_unpublished</th>\n",
       "      <th>owner_total_posts</th>\n",
       "      <th>owner_total_followers</th>\n",
       "    </tr>\n",
       "  </thead>\n",
       "  <tbody>\n",
       "    <tr>\n",
       "      <th>0</th>\n",
       "      <td>2415039914432249111</td>\n",
       "      <td>CGD8gG6H70X</td>\n",
       "      <td>1602115214</td>\n",
       "      <td>2020-10-08 00:00:14</td>\n",
       "      <td>We may be stressed and tied up during the week...</td>\n",
       "      <td>['#selfcaresaturday', '#saturday', '#skincare'...</td>\n",
       "      <td>['one or more people', \"text that says 'Charge...</td>\n",
       "      <td>False</td>\n",
       "      <td>False</td>\n",
       "      <td>2</td>\n",
       "      <td>NaN</td>\n",
       "      <td>NaN</td>\n",
       "      <td>3986460102</td>\n",
       "      <td>False</td>\n",
       "      <td>False</td>\n",
       "      <td>False</td>\n",
       "      <td>169</td>\n",
       "      <td>263</td>\n",
       "    </tr>\n",
       "    <tr>\n",
       "      <th>1</th>\n",
       "      <td>2403781281091523733</td>\n",
       "      <td>CFb8lbhMZSV</td>\n",
       "      <td>1600773080</td>\n",
       "      <td>2020-09-22 11:11:20</td>\n",
       "      <td>Wanted mooncakes, but found something else... ...</td>\n",
       "      <td>['#oldman', '#lunchtime', '#streetphotography'...</td>\n",
       "      <td>NaN</td>\n",
       "      <td>False</td>\n",
       "      <td>False</td>\n",
       "      <td>26</td>\n",
       "      <td>Chinatown</td>\n",
       "      <td>chinatown</td>\n",
       "      <td>32884185</td>\n",
       "      <td>False</td>\n",
       "      <td>False</td>\n",
       "      <td>False</td>\n",
       "      <td>512</td>\n",
       "      <td>269</td>\n",
       "    </tr>\n",
       "    <tr>\n",
       "      <th>2</th>\n",
       "      <td>2412436218553090968</td>\n",
       "      <td>CF6sfWKJMOY</td>\n",
       "      <td>1601804829</td>\n",
       "      <td>2020-10-04 09:47:09</td>\n",
       "      <td>Me the local tourist, visited Pulau Ubin, Part...</td>\n",
       "      <td>['#singaporediscovers', '#pulauubin', '#bumboa...</td>\n",
       "      <td>NaN</td>\n",
       "      <td>False</td>\n",
       "      <td>False</td>\n",
       "      <td>15</td>\n",
       "      <td>Pulau Ubin, Singapore</td>\n",
       "      <td>pulau-ubin-singapore</td>\n",
       "      <td>1477803308</td>\n",
       "      <td>False</td>\n",
       "      <td>False</td>\n",
       "      <td>False</td>\n",
       "      <td>1221</td>\n",
       "      <td>377</td>\n",
       "    </tr>\n",
       "  </tbody>\n",
       "</table>\n",
       "</div>"
      ],
      "text/plain": [
       "               post_id    post_slug   unix_time           date_time  \\\n",
       "0  2415039914432249111  CGD8gG6H70X  1602115214 2020-10-08 00:00:14   \n",
       "1  2403781281091523733  CFb8lbhMZSV  1600773080 2020-09-22 11:11:20   \n",
       "2  2412436218553090968  CF6sfWKJMOY  1601804829 2020-10-04 09:47:09   \n",
       "\n",
       "                                        post_caption  \\\n",
       "0  We may be stressed and tied up during the week...   \n",
       "1  Wanted mooncakes, but found something else... ...   \n",
       "2  Me the local tourist, visited Pulau Ubin, Part...   \n",
       "\n",
       "                                            hashtags  \\\n",
       "0  ['#selfcaresaturday', '#saturday', '#skincare'...   \n",
       "1  ['#oldman', '#lunchtime', '#streetphotography'...   \n",
       "2  ['#singaporediscovers', '#pulauubin', '#bumboa...   \n",
       "\n",
       "                                          topic_tags  is_video  is_ad  \\\n",
       "0  ['one or more people', \"text that says 'Charge...     False  False   \n",
       "1                                                NaN     False  False   \n",
       "2                                                NaN     False  False   \n",
       "\n",
       "   post_likes                geo_tag              geo_slug    owner_id  \\\n",
       "0           2                    NaN                   NaN  3986460102   \n",
       "1          26              Chinatown             chinatown    32884185   \n",
       "2          15  Pulau Ubin, Singapore  pulau-ubin-singapore  1477803308   \n",
       "\n",
       "   owner_verified  owner_privacy  owner_unpublished  owner_total_posts  \\\n",
       "0           False          False              False                169   \n",
       "1           False          False              False                512   \n",
       "2           False          False              False               1221   \n",
       "\n",
       "   owner_total_followers  \n",
       "0                    263  \n",
       "1                    269  \n",
       "2                    377  "
      ]
     },
     "execution_count": 3,
     "metadata": {},
     "output_type": "execute_result"
    }
   ],
   "source": [
    "df_insta = pd.read_csv(\"../datasets/df_insta_2020-10-12.csv\", parse_dates=[\"date_time\"])\n",
    "df_insta.head(3)"
   ]
  },
  {
   "cell_type": "code",
   "execution_count": 4,
   "metadata": {},
   "outputs": [
    {
     "data": {
      "text/plain": [
       "(3104, 18)"
      ]
     },
     "execution_count": 4,
     "metadata": {},
     "output_type": "execute_result"
    }
   ],
   "source": [
    "df_insta.shape"
   ]
  },
  {
   "cell_type": "code",
   "execution_count": 5,
   "metadata": {},
   "outputs": [
    {
     "name": "stdout",
     "output_type": "stream",
     "text": [
      "<class 'pandas.core.frame.DataFrame'>\n",
      "RangeIndex: 3104 entries, 0 to 3103\n",
      "Data columns (total 18 columns):\n",
      " #   Column                 Non-Null Count  Dtype         \n",
      "---  ------                 --------------  -----         \n",
      " 0   post_id                3104 non-null   int64         \n",
      " 1   post_slug              3104 non-null   object        \n",
      " 2   unix_time              3104 non-null   int64         \n",
      " 3   date_time              3104 non-null   datetime64[ns]\n",
      " 4   post_caption           3083 non-null   object        \n",
      " 5   hashtags               3083 non-null   object        \n",
      " 6   topic_tags             2037 non-null   object        \n",
      " 7   is_video               3104 non-null   bool          \n",
      " 8   is_ad                  3104 non-null   bool          \n",
      " 9   post_likes             3104 non-null   int64         \n",
      " 10  geo_tag                2383 non-null   object        \n",
      " 11  geo_slug               2378 non-null   object        \n",
      " 12  owner_id               3104 non-null   int64         \n",
      " 13  owner_verified         3104 non-null   bool          \n",
      " 14  owner_privacy          3104 non-null   bool          \n",
      " 15  owner_unpublished      3104 non-null   bool          \n",
      " 16  owner_total_posts      3104 non-null   int64         \n",
      " 17  owner_total_followers  3104 non-null   int64         \n",
      "dtypes: bool(5), datetime64[ns](1), int64(6), object(6)\n",
      "memory usage: 330.5+ KB\n"
     ]
    }
   ],
   "source": [
    "df_insta.info()"
   ]
  },
  {
   "cell_type": "code",
   "execution_count": 24,
   "metadata": {},
   "outputs": [
    {
     "data": {
      "text/plain": [
       "21"
      ]
     },
     "execution_count": 24,
     "metadata": {},
     "output_type": "execute_result"
    }
   ],
   "source": [
    "df_insta[\"hashtags\"].isnull().sum()"
   ]
  },
  {
   "cell_type": "code",
   "execution_count": 15,
   "metadata": {},
   "outputs": [],
   "source": [
    "check = []\n",
    "for hashes in df_insta[\"hashtags\"].str.lower():\n",
    "    try:\n",
    "        if \"#singaporediscovers\" in hashes:\n",
    "            check.append(True)\n",
    "    except:\n",
    "        check.append(False)"
   ]
  },
  {
   "cell_type": "code",
   "execution_count": 16,
   "metadata": {},
   "outputs": [
    {
     "data": {
      "text/plain": [
       "True     2604\n",
       "False      21\n",
       "dtype: int64"
      ]
     },
     "execution_count": 16,
     "metadata": {},
     "output_type": "execute_result"
    }
   ],
   "source": [
    "pd.Series(check).value_counts()"
   ]
  },
  {
   "cell_type": "code",
   "execution_count": 29,
   "metadata": {},
   "outputs": [
    {
     "data": {
      "text/plain": [
       "\"['#selfcaresaturday', '#saturday', '#skincare', '#saturdaymood', '#saturdaycare', '#saturdayfun', '#beautysg', '#sgfinds', '#selfcare', '#coslabbeautyspa', '#teamcoslab', '#beautyundercoversg', '#sgpromo', '#sgdeals', '#sgbeauty', '#supportlocalsg', '#SingapoRediscovers', '#shoponline', '#freedelivery', '#coslab1010', '#1010sale', '#savethedate']\""
      ]
     },
     "execution_count": 29,
     "metadata": {},
     "output_type": "execute_result"
    }
   ],
   "source": [
    "df_insta[\"hashtags\"][0]"
   ]
  },
  {
   "cell_type": "code",
   "execution_count": 56,
   "metadata": {},
   "outputs": [
    {
     "data": {
      "text/plain": [
       "True     2625\n",
       "False     479\n",
       "Name: hashtags, dtype: int64"
      ]
     },
     "execution_count": 56,
     "metadata": {},
     "output_type": "execute_result"
    }
   ],
   "source": [
    "mask = df_insta[\"hashtags\"].str.lower().str.contains(\"#singaporediscovers|singaporediscover\").astype(\"bool\")\n",
    "mask.value_counts()"
   ]
  },
  {
   "cell_type": "code",
   "execution_count": 57,
   "metadata": {},
   "outputs": [
    {
     "data": {
      "text/html": [
       "<div>\n",
       "<style scoped>\n",
       "    .dataframe tbody tr th:only-of-type {\n",
       "        vertical-align: middle;\n",
       "    }\n",
       "\n",
       "    .dataframe tbody tr th {\n",
       "        vertical-align: top;\n",
       "    }\n",
       "\n",
       "    .dataframe thead th {\n",
       "        text-align: right;\n",
       "    }\n",
       "</style>\n",
       "<table border=\"1\" class=\"dataframe\">\n",
       "  <thead>\n",
       "    <tr style=\"text-align: right;\">\n",
       "      <th></th>\n",
       "      <th>hashtags</th>\n",
       "      <th>post_caption</th>\n",
       "    </tr>\n",
       "  </thead>\n",
       "  <tbody>\n",
       "    <tr>\n",
       "      <th>9</th>\n",
       "      <td>[]</td>\n",
       "      <td>A Heart Warming Mid-Autumn 2020\\n牛车水庆中秋2020\\nC...</td>\n",
       "    </tr>\n",
       "    <tr>\n",
       "      <th>19</th>\n",
       "      <td>['#misterzimi']</td>\n",
       "      <td>a few times i came to @raffleshotelsingapore f...</td>\n",
       "    </tr>\n",
       "    <tr>\n",
       "      <th>22</th>\n",
       "      <td>[]</td>\n",
       "      <td>Me: 📸📸📸\\n\\nThe uncles trying to do their laund...</td>\n",
       "    </tr>\n",
       "    <tr>\n",
       "      <th>33</th>\n",
       "      <td>[]</td>\n",
       "      <td>Showers &amp; Rainbow\\nTiong Bahru, Singapore\\n5.5...</td>\n",
       "    </tr>\n",
       "    <tr>\n",
       "      <th>34</th>\n",
       "      <td>[]</td>\n",
       "      <td>Directions\\n\\nCOVID-19 took the world by its a...</td>\n",
       "    </tr>\n",
       "    <tr>\n",
       "      <th>...</th>\n",
       "      <td>...</td>\n",
       "      <td>...</td>\n",
       "    </tr>\n",
       "    <tr>\n",
       "      <th>3083</th>\n",
       "      <td>['#magicboxsg', '#magixers']</td>\n",
       "      <td>We are the only one-stop online gifting platfo...</td>\n",
       "    </tr>\n",
       "    <tr>\n",
       "      <th>3088</th>\n",
       "      <td>[]</td>\n",
       "      <td>I could get used to spending my weekend aftern...</td>\n",
       "    </tr>\n",
       "    <tr>\n",
       "      <th>3089</th>\n",
       "      <td>[]</td>\n",
       "      <td>Looks safe. What could possibly go wrong here?...</td>\n",
       "    </tr>\n",
       "    <tr>\n",
       "      <th>3092</th>\n",
       "      <td>[]</td>\n",
       "      <td>Just wanna chill at the pool and lay there soa...</td>\n",
       "    </tr>\n",
       "    <tr>\n",
       "      <th>3101</th>\n",
       "      <td>[]</td>\n",
       "      <td>The former Six Senses Duxton will be relaunche...</td>\n",
       "    </tr>\n",
       "  </tbody>\n",
       "</table>\n",
       "<p>479 rows × 2 columns</p>\n",
       "</div>"
      ],
      "text/plain": [
       "                          hashtags  \\\n",
       "9                               []   \n",
       "19                 ['#misterzimi']   \n",
       "22                              []   \n",
       "33                              []   \n",
       "34                              []   \n",
       "...                            ...   \n",
       "3083  ['#magicboxsg', '#magixers']   \n",
       "3088                            []   \n",
       "3089                            []   \n",
       "3092                            []   \n",
       "3101                            []   \n",
       "\n",
       "                                           post_caption  \n",
       "9     A Heart Warming Mid-Autumn 2020\\n牛车水庆中秋2020\\nC...  \n",
       "19    a few times i came to @raffleshotelsingapore f...  \n",
       "22    Me: 📸📸📸\\n\\nThe uncles trying to do their laund...  \n",
       "33    Showers & Rainbow\\nTiong Bahru, Singapore\\n5.5...  \n",
       "34    Directions\\n\\nCOVID-19 took the world by its a...  \n",
       "...                                                 ...  \n",
       "3083  We are the only one-stop online gifting platfo...  \n",
       "3088  I could get used to spending my weekend aftern...  \n",
       "3089  Looks safe. What could possibly go wrong here?...  \n",
       "3092  Just wanna chill at the pool and lay there soa...  \n",
       "3101  The former Six Senses Duxton will be relaunche...  \n",
       "\n",
       "[479 rows x 2 columns]"
      ]
     },
     "execution_count": 57,
     "metadata": {},
     "output_type": "execute_result"
    }
   ],
   "source": [
    "df_insta[~mask][[\"hashtags\", \"post_caption\"]]"
   ]
  },
  {
   "cell_type": "code",
   "execution_count": null,
   "metadata": {},
   "outputs": [],
   "source": []
  },
  {
   "cell_type": "code",
   "execution_count": null,
   "metadata": {},
   "outputs": [],
   "source": []
  },
  {
   "cell_type": "code",
   "execution_count": null,
   "metadata": {},
   "outputs": [],
   "source": []
  },
  {
   "cell_type": "code",
   "execution_count": null,
   "metadata": {},
   "outputs": [],
   "source": []
  },
  {
   "cell_type": "code",
   "execution_count": null,
   "metadata": {},
   "outputs": [],
   "source": []
  },
  {
   "cell_type": "code",
   "execution_count": null,
   "metadata": {},
   "outputs": [],
   "source": []
  },
  {
   "cell_type": "code",
   "execution_count": null,
   "metadata": {},
   "outputs": [],
   "source": []
  },
  {
   "cell_type": "code",
   "execution_count": null,
   "metadata": {},
   "outputs": [],
   "source": []
  },
  {
   "cell_type": "code",
   "execution_count": null,
   "metadata": {},
   "outputs": [],
   "source": []
  },
  {
   "cell_type": "code",
   "execution_count": null,
   "metadata": {},
   "outputs": [],
   "source": []
  },
  {
   "cell_type": "code",
   "execution_count": null,
   "metadata": {},
   "outputs": [],
   "source": []
  },
  {
   "cell_type": "code",
   "execution_count": null,
   "metadata": {},
   "outputs": [],
   "source": []
  },
  {
   "cell_type": "code",
   "execution_count": null,
   "metadata": {},
   "outputs": [],
   "source": []
  },
  {
   "cell_type": "code",
   "execution_count": null,
   "metadata": {},
   "outputs": [],
   "source": []
  },
  {
   "cell_type": "code",
   "execution_count": null,
   "metadata": {},
   "outputs": [],
   "source": []
  },
  {
   "cell_type": "code",
   "execution_count": null,
   "metadata": {},
   "outputs": [],
   "source": []
  },
  {
   "cell_type": "code",
   "execution_count": null,
   "metadata": {},
   "outputs": [],
   "source": []
  },
  {
   "cell_type": "code",
   "execution_count": null,
   "metadata": {},
   "outputs": [],
   "source": []
  },
  {
   "cell_type": "code",
   "execution_count": null,
   "metadata": {},
   "outputs": [],
   "source": []
  },
  {
   "cell_type": "code",
   "execution_count": null,
   "metadata": {},
   "outputs": [],
   "source": []
  },
  {
   "cell_type": "code",
   "execution_count": null,
   "metadata": {},
   "outputs": [],
   "source": []
  },
  {
   "cell_type": "code",
   "execution_count": null,
   "metadata": {},
   "outputs": [],
   "source": []
  },
  {
   "cell_type": "code",
   "execution_count": null,
   "metadata": {},
   "outputs": [],
   "source": []
  },
  {
   "cell_type": "code",
   "execution_count": null,
   "metadata": {},
   "outputs": [],
   "source": []
  },
  {
   "cell_type": "code",
   "execution_count": null,
   "metadata": {},
   "outputs": [],
   "source": []
  }
 ],
 "metadata": {
  "kernelspec": {
   "display_name": "Python 3",
   "language": "python",
   "name": "python3"
  },
  "language_info": {
   "codemirror_mode": {
    "name": "ipython",
    "version": 3
   },
   "file_extension": ".py",
   "mimetype": "text/x-python",
   "name": "python",
   "nbconvert_exporter": "python",
   "pygments_lexer": "ipython3",
   "version": "3.8.3"
  }
 },
 "nbformat": 4,
 "nbformat_minor": 4
}
